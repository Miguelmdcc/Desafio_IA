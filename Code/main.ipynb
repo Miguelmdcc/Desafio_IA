{
 "cells": [
  {
   "cell_type": "markdown",
   "metadata": {},
   "source": [
    "# Merging datasets"
   ]
  },
  {
   "cell_type": "code",
   "execution_count": 133,
   "metadata": {},
   "outputs": [],
   "source": [
    "import pandas as pd"
   ]
  },
  {
   "cell_type": "code",
   "execution_count": 134,
   "metadata": {},
   "outputs": [],
   "source": [
    "path_mercado = 'C:/workspace/Desafio Grão Direto IA/Data/mercado-desafio-tratado.xlsx'\n",
    "path_transacoes = 'C:/workspace/Desafio Grão Direto IA/Data/transações-desafio-tratado.xlsx'\n",
    "\n",
    "mercado = pd.read_excel(path_mercado)\n",
    "transacoes =  pd.read_excel(path_transacoes)"
   ]
  },
  {
   "cell_type": "code",
   "execution_count": 135,
   "metadata": {},
   "outputs": [],
   "source": [
    "seller_transactioned_sum = transacoes.groupby('Seller ID')['Transactioned'].sum()\n",
    "seller_ids = seller_transactioned_sum[seller_transactioned_sum > 2].index\n",
    "transacoes = transacoes[transacoes['Seller ID'].isin(seller_ids)]"
   ]
  },
  {
   "cell_type": "code",
   "execution_count": 136,
   "metadata": {},
   "outputs": [],
   "source": [
    "model_df = pd.merge(transacoes,mercado,on='Date',how='left')"
   ]
  },
  {
   "cell_type": "code",
   "execution_count": 137,
   "metadata": {},
   "outputs": [
    {
     "data": {
      "text/html": [
       "<div>\n",
       "<style scoped>\n",
       "    .dataframe tbody tr th:only-of-type {\n",
       "        vertical-align: middle;\n",
       "    }\n",
       "\n",
       "    .dataframe tbody tr th {\n",
       "        vertical-align: top;\n",
       "    }\n",
       "\n",
       "    .dataframe thead th {\n",
       "        text-align: right;\n",
       "    }\n",
       "</style>\n",
       "<table border=\"1\" class=\"dataframe\">\n",
       "  <thead>\n",
       "    <tr style=\"text-align: right;\">\n",
       "      <th></th>\n",
       "      <th>Date</th>\n",
       "      <th>Seller ID</th>\n",
       "      <th>Last Transaction</th>\n",
       "      <th>Last Week</th>\n",
       "      <th>Last Month</th>\n",
       "      <th>Day of Week</th>\n",
       "      <th>Transactioned</th>\n",
       "      <th>Price</th>\n",
       "      <th>CBOT</th>\n",
       "      <th>Close</th>\n",
       "      <th>Change</th>\n",
       "      <th>Percentage Change</th>\n",
       "    </tr>\n",
       "  </thead>\n",
       "  <tbody>\n",
       "    <tr>\n",
       "      <th>0</th>\n",
       "      <td>2024-01-30</td>\n",
       "      <td>100000060</td>\n",
       "      <td>0</td>\n",
       "      <td>0</td>\n",
       "      <td>0</td>\n",
       "      <td>1</td>\n",
       "      <td>0</td>\n",
       "      <td>97.111044</td>\n",
       "      <td>1215.886963</td>\n",
       "      <td>4.950200</td>\n",
       "      <td>False</td>\n",
       "      <td>0.000000</td>\n",
       "    </tr>\n",
       "    <tr>\n",
       "      <th>1</th>\n",
       "      <td>2024-01-31</td>\n",
       "      <td>100000060</td>\n",
       "      <td>0</td>\n",
       "      <td>0</td>\n",
       "      <td>0</td>\n",
       "      <td>2</td>\n",
       "      <td>0</td>\n",
       "      <td>98.585604</td>\n",
       "      <td>1222.299024</td>\n",
       "      <td>4.950300</td>\n",
       "      <td>True</td>\n",
       "      <td>0.002023</td>\n",
       "    </tr>\n",
       "    <tr>\n",
       "      <th>2</th>\n",
       "      <td>2024-02-01</td>\n",
       "      <td>100000060</td>\n",
       "      <td>0</td>\n",
       "      <td>0</td>\n",
       "      <td>0</td>\n",
       "      <td>3</td>\n",
       "      <td>0</td>\n",
       "      <td>96.726709</td>\n",
       "      <td>1209.233105</td>\n",
       "      <td>4.951900</td>\n",
       "      <td>True</td>\n",
       "      <td>0.032307</td>\n",
       "    </tr>\n",
       "    <tr>\n",
       "      <th>3</th>\n",
       "      <td>2024-02-02</td>\n",
       "      <td>100000060</td>\n",
       "      <td>0</td>\n",
       "      <td>0</td>\n",
       "      <td>0</td>\n",
       "      <td>4</td>\n",
       "      <td>0</td>\n",
       "      <td>97.929889</td>\n",
       "      <td>1199.996115</td>\n",
       "      <td>4.915000</td>\n",
       "      <td>False</td>\n",
       "      <td>-0.750764</td>\n",
       "    </tr>\n",
       "    <tr>\n",
       "      <th>4</th>\n",
       "      <td>2024-02-03</td>\n",
       "      <td>100000060</td>\n",
       "      <td>0</td>\n",
       "      <td>0</td>\n",
       "      <td>0</td>\n",
       "      <td>5</td>\n",
       "      <td>0</td>\n",
       "      <td>97.929889</td>\n",
       "      <td>1199.996115</td>\n",
       "      <td>4.915000</td>\n",
       "      <td>False</td>\n",
       "      <td>0.000000</td>\n",
       "    </tr>\n",
       "    <tr>\n",
       "      <th>...</th>\n",
       "      <td>...</td>\n",
       "      <td>...</td>\n",
       "      <td>...</td>\n",
       "      <td>...</td>\n",
       "      <td>...</td>\n",
       "      <td>...</td>\n",
       "      <td>...</td>\n",
       "      <td>...</td>\n",
       "      <td>...</td>\n",
       "      <td>...</td>\n",
       "      <td>...</td>\n",
       "      <td>...</td>\n",
       "    </tr>\n",
       "    <tr>\n",
       "      <th>186298</th>\n",
       "      <td>2024-11-01</td>\n",
       "      <td>100000832</td>\n",
       "      <td>240</td>\n",
       "      <td>0</td>\n",
       "      <td>0</td>\n",
       "      <td>4</td>\n",
       "      <td>0</td>\n",
       "      <td>117.601042</td>\n",
       "      <td>1012.899216</td>\n",
       "      <td>5.789400</td>\n",
       "      <td>True</td>\n",
       "      <td>0.468098</td>\n",
       "    </tr>\n",
       "    <tr>\n",
       "      <th>186299</th>\n",
       "      <td>2024-11-02</td>\n",
       "      <td>100000832</td>\n",
       "      <td>241</td>\n",
       "      <td>0</td>\n",
       "      <td>0</td>\n",
       "      <td>5</td>\n",
       "      <td>0</td>\n",
       "      <td>117.601042</td>\n",
       "      <td>1012.899216</td>\n",
       "      <td>5.789400</td>\n",
       "      <td>False</td>\n",
       "      <td>0.000000</td>\n",
       "    </tr>\n",
       "    <tr>\n",
       "      <th>186300</th>\n",
       "      <td>2024-11-03</td>\n",
       "      <td>100000832</td>\n",
       "      <td>242</td>\n",
       "      <td>0</td>\n",
       "      <td>0</td>\n",
       "      <td>6</td>\n",
       "      <td>0</td>\n",
       "      <td>117.601042</td>\n",
       "      <td>1012.899216</td>\n",
       "      <td>5.789400</td>\n",
       "      <td>False</td>\n",
       "      <td>0.000000</td>\n",
       "    </tr>\n",
       "    <tr>\n",
       "      <th>186301</th>\n",
       "      <td>2024-11-04</td>\n",
       "      <td>100000832</td>\n",
       "      <td>243</td>\n",
       "      <td>0</td>\n",
       "      <td>0</td>\n",
       "      <td>0</td>\n",
       "      <td>0</td>\n",
       "      <td>115.506245</td>\n",
       "      <td>1020.956401</td>\n",
       "      <td>5.677526</td>\n",
       "      <td>False</td>\n",
       "      <td>-1.970473</td>\n",
       "    </tr>\n",
       "    <tr>\n",
       "      <th>186302</th>\n",
       "      <td>2024-11-05</td>\n",
       "      <td>100000832</td>\n",
       "      <td>244</td>\n",
       "      <td>0</td>\n",
       "      <td>0</td>\n",
       "      <td>1</td>\n",
       "      <td>0</td>\n",
       "      <td>116.755121</td>\n",
       "      <td>1020.007001</td>\n",
       "      <td>5.790600</td>\n",
       "      <td>True</td>\n",
       "      <td>1.952714</td>\n",
       "    </tr>\n",
       "  </tbody>\n",
       "</table>\n",
       "<p>186303 rows × 12 columns</p>\n",
       "</div>"
      ],
      "text/plain": [
       "             Date  Seller ID  Last Transaction  Last Week  Last Month  \\\n",
       "0      2024-01-30  100000060                 0          0           0   \n",
       "1      2024-01-31  100000060                 0          0           0   \n",
       "2      2024-02-01  100000060                 0          0           0   \n",
       "3      2024-02-02  100000060                 0          0           0   \n",
       "4      2024-02-03  100000060                 0          0           0   \n",
       "...           ...        ...               ...        ...         ...   \n",
       "186298 2024-11-01  100000832               240          0           0   \n",
       "186299 2024-11-02  100000832               241          0           0   \n",
       "186300 2024-11-03  100000832               242          0           0   \n",
       "186301 2024-11-04  100000832               243          0           0   \n",
       "186302 2024-11-05  100000832               244          0           0   \n",
       "\n",
       "        Day of Week  Transactioned       Price         CBOT     Close  Change  \\\n",
       "0                 1              0   97.111044  1215.886963  4.950200   False   \n",
       "1                 2              0   98.585604  1222.299024  4.950300    True   \n",
       "2                 3              0   96.726709  1209.233105  4.951900    True   \n",
       "3                 4              0   97.929889  1199.996115  4.915000   False   \n",
       "4                 5              0   97.929889  1199.996115  4.915000   False   \n",
       "...             ...            ...         ...          ...       ...     ...   \n",
       "186298            4              0  117.601042  1012.899216  5.789400    True   \n",
       "186299            5              0  117.601042  1012.899216  5.789400   False   \n",
       "186300            6              0  117.601042  1012.899216  5.789400   False   \n",
       "186301            0              0  115.506245  1020.956401  5.677526   False   \n",
       "186302            1              0  116.755121  1020.007001  5.790600    True   \n",
       "\n",
       "        Percentage Change  \n",
       "0                0.000000  \n",
       "1                0.002023  \n",
       "2                0.032307  \n",
       "3               -0.750764  \n",
       "4                0.000000  \n",
       "...                   ...  \n",
       "186298           0.468098  \n",
       "186299           0.000000  \n",
       "186300           0.000000  \n",
       "186301          -1.970473  \n",
       "186302           1.952714  \n",
       "\n",
       "[186303 rows x 12 columns]"
      ]
     },
     "execution_count": 137,
     "metadata": {},
     "output_type": "execute_result"
    }
   ],
   "source": [
    "model_df"
   ]
  },
  {
   "cell_type": "markdown",
   "metadata": {},
   "source": [
    "# Separando o dataset com temporal_train_test"
   ]
  },
  {
   "cell_type": "code",
   "execution_count": 138,
   "metadata": {},
   "outputs": [],
   "source": [
    "# from sktime.forecasting.model_selection import temporal_train_test_split"
   ]
  },
  {
   "cell_type": "code",
   "execution_count": 139,
   "metadata": {},
   "outputs": [],
   "source": [
    "# seller_id = 100000060\n",
    "# time_serie = model_df[model_df['Seller ID'] == seller_id]\n",
    "# time_serie.drop(columns=['Seller ID','Day of Week','Last Week','Last Month'],inplace=True)\n",
    "# time_serie['Change'] = time_serie['Change'].astype('Int64')\n",
    "# time_serie"
   ]
  },
  {
   "cell_type": "markdown",
   "metadata": {},
   "source": [
    "# Lag de um dia na nossa time serie"
   ]
  },
  {
   "cell_type": "code",
   "execution_count": 140,
   "metadata": {},
   "outputs": [],
   "source": [
    "# time_serie.set_index('Date',inplace=True)"
   ]
  },
  {
   "cell_type": "code",
   "execution_count": 141,
   "metadata": {},
   "outputs": [],
   "source": [
    "# target = time_serie.pop('Transactioned')\n",
    "# y = pd.DataFrame(data=target,columns=['Transactioned'])\n",
    "# y"
   ]
  },
  {
   "cell_type": "code",
   "execution_count": 142,
   "metadata": {},
   "outputs": [],
   "source": [
    "# time_serie = time_serie.shift(1)\n",
    "# time_serie.drop(pd.to_datetime('2024-01-30'), inplace=True)\n",
    "# time_serie"
   ]
  },
  {
   "cell_type": "code",
   "execution_count": 143,
   "metadata": {},
   "outputs": [],
   "source": [
    "# date_to_pred = pd.to_datetime('2024-11-04')\n",
    "# time_serie = time_serie[time_serie.index < date_to_pred]\n",
    "# y = y[y.index<date_to_pred]\n",
    "# y.drop(pd.to_datetime('2024-01-30'), inplace=True)\n",
    "# y"
   ]
  },
  {
   "cell_type": "code",
   "execution_count": 144,
   "metadata": {},
   "outputs": [],
   "source": [
    "# time_serie"
   ]
  },
  {
   "cell_type": "code",
   "execution_count": 145,
   "metadata": {},
   "outputs": [],
   "source": [
    "# y_train, y_test, X_train, X_test = temporal_train_test_split(y,time_serie,test_size=20)"
   ]
  },
  {
   "cell_type": "markdown",
   "metadata": {},
   "source": [
    "# Creating forecasting"
   ]
  },
  {
   "cell_type": "code",
   "execution_count": 146,
   "metadata": {},
   "outputs": [],
   "source": [
    "# from sktime.forecasting.base import ForecastingHorizon\n",
    "# import numpy as np\n",
    "\n",
    "# fh = ForecastingHorizon(np.arange(1,len(y_test)+2),is_relative=True)"
   ]
  },
  {
   "cell_type": "code",
   "execution_count": 147,
   "metadata": {},
   "outputs": [],
   "source": [
    "# from xgboost import XGBRegressor\n",
    "\n",
    "# # Calculando scale_pos_weight\n",
    "# n_pos = len(y_train[y_train['Transactioned'] == 1])\n",
    "# n_neg = len(y_train[y_train['Transactioned'] == 0])\n",
    "# scale_pos_weight = n_neg / n_pos\n",
    "\n",
    "# xgb_model = XGBRegressor(\n",
    "#     n_estimators=100,\n",
    "#     learning_rate=0.1,\n",
    "#     max_depth=5,\n",
    "#     subsample=0.8,\n",
    "#     colsample_bytree=0.8,\n",
    "#     random_state=42,\n",
    "#     scale_pos_weight=scale_pos_weight\n",
    "# )"
   ]
  },
  {
   "cell_type": "code",
   "execution_count": 148,
   "metadata": {},
   "outputs": [],
   "source": [
    "# from sktime.forecasting.compose import make_reduction\n",
    "\n",
    "# forecaster = make_reduction(xgb_model, window_length=12, strategy=\"recursive\")"
   ]
  },
  {
   "cell_type": "code",
   "execution_count": 149,
   "metadata": {},
   "outputs": [],
   "source": [
    "# X_train.info()"
   ]
  },
  {
   "cell_type": "code",
   "execution_count": 150,
   "metadata": {},
   "outputs": [],
   "source": [
    "# forecaster.fit(y=y_train,X=X_train)"
   ]
  },
  {
   "cell_type": "code",
   "execution_count": 151,
   "metadata": {},
   "outputs": [],
   "source": [
    "# y_pred = forecaster.predict(fh=fh,X=X_test)\n",
    "# y_pred"
   ]
  },
  {
   "cell_type": "code",
   "execution_count": 152,
   "metadata": {},
   "outputs": [],
   "source": [
    "# from sktime.utils.plotting import plot_series\n",
    "# plot_series(y_train, y_test, y_pred, labels=[\"y_train\", \"y_test\", \"y_pred\"])"
   ]
  },
  {
   "cell_type": "code",
   "execution_count": 153,
   "metadata": {},
   "outputs": [],
   "source": [
    "# # Análise de erros\n",
    "# errors = abs(y_test['Transactioned'].values - y_pred.values)\n",
    "# print(\"Erro Médio Absoluto (MAE):\", errors.mean())"
   ]
  },
  {
   "cell_type": "markdown",
   "metadata": {},
   "source": [
    "# Iterando em sellers"
   ]
  },
  {
   "cell_type": "code",
   "execution_count": 154,
   "metadata": {},
   "outputs": [
    {
     "name": "stdout",
     "output_type": "stream",
     "text": [
      "Processando Seller ID: 100000060\n",
      "Erro Médio Absoluto (MAE) para Seller ID 100000060: 0.04826273396611214\n",
      "Processando Seller ID: 100002332\n"
     ]
    },
    {
     "name": "stderr",
     "output_type": "stream",
     "text": [
      "C:\\Users\\Miguel Mendes\\AppData\\Local\\Temp\\ipykernel_8516\\2327759639.py:20: SettingWithCopyWarning: \n",
      "A value is trying to be set on a copy of a slice from a DataFrame\n",
      "\n",
      "See the caveats in the documentation: https://pandas.pydata.org/pandas-docs/stable/user_guide/indexing.html#returning-a-view-versus-a-copy\n",
      "  time_serie.drop(columns=['Seller ID', 'Day of Week', 'Last Week', 'Last Month'], inplace=True)\n",
      "C:\\Users\\Miguel Mendes\\AppData\\Local\\Temp\\ipykernel_8516\\2327759639.py:21: SettingWithCopyWarning: \n",
      "A value is trying to be set on a copy of a slice from a DataFrame.\n",
      "Try using .loc[row_indexer,col_indexer] = value instead\n",
      "\n",
      "See the caveats in the documentation: https://pandas.pydata.org/pandas-docs/stable/user_guide/indexing.html#returning-a-view-versus-a-copy\n",
      "  time_serie['Change'] = time_serie['Change'].astype('Int64')\n",
      "C:\\Users\\Miguel Mendes\\AppData\\Local\\Temp\\ipykernel_8516\\2327759639.py:20: SettingWithCopyWarning: \n",
      "A value is trying to be set on a copy of a slice from a DataFrame\n",
      "\n",
      "See the caveats in the documentation: https://pandas.pydata.org/pandas-docs/stable/user_guide/indexing.html#returning-a-view-versus-a-copy\n",
      "  time_serie.drop(columns=['Seller ID', 'Day of Week', 'Last Week', 'Last Month'], inplace=True)\n",
      "C:\\Users\\Miguel Mendes\\AppData\\Local\\Temp\\ipykernel_8516\\2327759639.py:21: SettingWithCopyWarning: \n",
      "A value is trying to be set on a copy of a slice from a DataFrame.\n",
      "Try using .loc[row_indexer,col_indexer] = value instead\n",
      "\n",
      "See the caveats in the documentation: https://pandas.pydata.org/pandas-docs/stable/user_guide/indexing.html#returning-a-view-versus-a-copy\n",
      "  time_serie['Change'] = time_serie['Change'].astype('Int64')\n"
     ]
    },
    {
     "name": "stdout",
     "output_type": "stream",
     "text": [
      "Erro Médio Absoluto (MAE) para Seller ID 100002332: 0.1\n",
      "Processando Seller ID: 100002035\n",
      "Erro Médio Absoluto (MAE) para Seller ID 100002035: 0.11761491447687149\n",
      "Processando Seller ID: 100001525\n"
     ]
    },
    {
     "name": "stderr",
     "output_type": "stream",
     "text": [
      "C:\\Users\\Miguel Mendes\\AppData\\Local\\Temp\\ipykernel_8516\\2327759639.py:20: SettingWithCopyWarning: \n",
      "A value is trying to be set on a copy of a slice from a DataFrame\n",
      "\n",
      "See the caveats in the documentation: https://pandas.pydata.org/pandas-docs/stable/user_guide/indexing.html#returning-a-view-versus-a-copy\n",
      "  time_serie.drop(columns=['Seller ID', 'Day of Week', 'Last Week', 'Last Month'], inplace=True)\n",
      "C:\\Users\\Miguel Mendes\\AppData\\Local\\Temp\\ipykernel_8516\\2327759639.py:21: SettingWithCopyWarning: \n",
      "A value is trying to be set on a copy of a slice from a DataFrame.\n",
      "Try using .loc[row_indexer,col_indexer] = value instead\n",
      "\n",
      "See the caveats in the documentation: https://pandas.pydata.org/pandas-docs/stable/user_guide/indexing.html#returning-a-view-versus-a-copy\n",
      "  time_serie['Change'] = time_serie['Change'].astype('Int64')\n",
      "C:\\Users\\Miguel Mendes\\AppData\\Local\\Temp\\ipykernel_8516\\2327759639.py:20: SettingWithCopyWarning: \n",
      "A value is trying to be set on a copy of a slice from a DataFrame\n",
      "\n",
      "See the caveats in the documentation: https://pandas.pydata.org/pandas-docs/stable/user_guide/indexing.html#returning-a-view-versus-a-copy\n",
      "  time_serie.drop(columns=['Seller ID', 'Day of Week', 'Last Week', 'Last Month'], inplace=True)\n",
      "C:\\Users\\Miguel Mendes\\AppData\\Local\\Temp\\ipykernel_8516\\2327759639.py:21: SettingWithCopyWarning: \n",
      "A value is trying to be set on a copy of a slice from a DataFrame.\n",
      "Try using .loc[row_indexer,col_indexer] = value instead\n",
      "\n",
      "See the caveats in the documentation: https://pandas.pydata.org/pandas-docs/stable/user_guide/indexing.html#returning-a-view-versus-a-copy\n",
      "  time_serie['Change'] = time_serie['Change'].astype('Int64')\n"
     ]
    },
    {
     "name": "stdout",
     "output_type": "stream",
     "text": [
      "Erro Médio Absoluto (MAE) para Seller ID 100001525: 0.05431249151006341\n",
      "Processando Seller ID: 100000192\n",
      "Erro Médio Absoluto (MAE) para Seller ID 100000192: 0.03232159838080406\n",
      "Processando Seller ID: 100000310\n"
     ]
    },
    {
     "name": "stderr",
     "output_type": "stream",
     "text": [
      "C:\\Users\\Miguel Mendes\\AppData\\Local\\Temp\\ipykernel_8516\\2327759639.py:20: SettingWithCopyWarning: \n",
      "A value is trying to be set on a copy of a slice from a DataFrame\n",
      "\n",
      "See the caveats in the documentation: https://pandas.pydata.org/pandas-docs/stable/user_guide/indexing.html#returning-a-view-versus-a-copy\n",
      "  time_serie.drop(columns=['Seller ID', 'Day of Week', 'Last Week', 'Last Month'], inplace=True)\n",
      "C:\\Users\\Miguel Mendes\\AppData\\Local\\Temp\\ipykernel_8516\\2327759639.py:21: SettingWithCopyWarning: \n",
      "A value is trying to be set on a copy of a slice from a DataFrame.\n",
      "Try using .loc[row_indexer,col_indexer] = value instead\n",
      "\n",
      "See the caveats in the documentation: https://pandas.pydata.org/pandas-docs/stable/user_guide/indexing.html#returning-a-view-versus-a-copy\n",
      "  time_serie['Change'] = time_serie['Change'].astype('Int64')\n",
      "C:\\Users\\Miguel Mendes\\AppData\\Local\\Temp\\ipykernel_8516\\2327759639.py:20: SettingWithCopyWarning: \n",
      "A value is trying to be set on a copy of a slice from a DataFrame\n",
      "\n",
      "See the caveats in the documentation: https://pandas.pydata.org/pandas-docs/stable/user_guide/indexing.html#returning-a-view-versus-a-copy\n",
      "  time_serie.drop(columns=['Seller ID', 'Day of Week', 'Last Week', 'Last Month'], inplace=True)\n",
      "C:\\Users\\Miguel Mendes\\AppData\\Local\\Temp\\ipykernel_8516\\2327759639.py:21: SettingWithCopyWarning: \n",
      "A value is trying to be set on a copy of a slice from a DataFrame.\n",
      "Try using .loc[row_indexer,col_indexer] = value instead\n",
      "\n",
      "See the caveats in the documentation: https://pandas.pydata.org/pandas-docs/stable/user_guide/indexing.html#returning-a-view-versus-a-copy\n",
      "  time_serie['Change'] = time_serie['Change'].astype('Int64')\n"
     ]
    },
    {
     "name": "stdout",
     "output_type": "stream",
     "text": [
      "Erro Médio Absoluto (MAE) para Seller ID 100000310: 0.08055447787046432\n",
      "Processando Seller ID: 100000348\n",
      "Erro Médio Absoluto (MAE) para Seller ID 100000348: 0.3917531244456768\n",
      "Processando Seller ID: 100001098\n"
     ]
    },
    {
     "name": "stderr",
     "output_type": "stream",
     "text": [
      "C:\\Users\\Miguel Mendes\\AppData\\Local\\Temp\\ipykernel_8516\\2327759639.py:20: SettingWithCopyWarning: \n",
      "A value is trying to be set on a copy of a slice from a DataFrame\n",
      "\n",
      "See the caveats in the documentation: https://pandas.pydata.org/pandas-docs/stable/user_guide/indexing.html#returning-a-view-versus-a-copy\n",
      "  time_serie.drop(columns=['Seller ID', 'Day of Week', 'Last Week', 'Last Month'], inplace=True)\n",
      "C:\\Users\\Miguel Mendes\\AppData\\Local\\Temp\\ipykernel_8516\\2327759639.py:21: SettingWithCopyWarning: \n",
      "A value is trying to be set on a copy of a slice from a DataFrame.\n",
      "Try using .loc[row_indexer,col_indexer] = value instead\n",
      "\n",
      "See the caveats in the documentation: https://pandas.pydata.org/pandas-docs/stable/user_guide/indexing.html#returning-a-view-versus-a-copy\n",
      "  time_serie['Change'] = time_serie['Change'].astype('Int64')\n",
      "C:\\Users\\Miguel Mendes\\AppData\\Local\\Temp\\ipykernel_8516\\2327759639.py:20: SettingWithCopyWarning: \n",
      "A value is trying to be set on a copy of a slice from a DataFrame\n",
      "\n",
      "See the caveats in the documentation: https://pandas.pydata.org/pandas-docs/stable/user_guide/indexing.html#returning-a-view-versus-a-copy\n",
      "  time_serie.drop(columns=['Seller ID', 'Day of Week', 'Last Week', 'Last Month'], inplace=True)\n",
      "C:\\Users\\Miguel Mendes\\AppData\\Local\\Temp\\ipykernel_8516\\2327759639.py:21: SettingWithCopyWarning: \n",
      "A value is trying to be set on a copy of a slice from a DataFrame.\n",
      "Try using .loc[row_indexer,col_indexer] = value instead\n",
      "\n",
      "See the caveats in the documentation: https://pandas.pydata.org/pandas-docs/stable/user_guide/indexing.html#returning-a-view-versus-a-copy\n",
      "  time_serie['Change'] = time_serie['Change'].astype('Int64')\n"
     ]
    },
    {
     "name": "stdout",
     "output_type": "stream",
     "text": [
      "Erro Médio Absoluto (MAE) para Seller ID 100001098: 0.11089060381054879\n",
      "Processando Seller ID: 100000519\n",
      "Erro Médio Absoluto (MAE) para Seller ID 100000519: 0.14248081669211388\n",
      "Processando Seller ID: 100002201\n"
     ]
    },
    {
     "name": "stderr",
     "output_type": "stream",
     "text": [
      "C:\\Users\\Miguel Mendes\\AppData\\Local\\Temp\\ipykernel_8516\\2327759639.py:20: SettingWithCopyWarning: \n",
      "A value is trying to be set on a copy of a slice from a DataFrame\n",
      "\n",
      "See the caveats in the documentation: https://pandas.pydata.org/pandas-docs/stable/user_guide/indexing.html#returning-a-view-versus-a-copy\n",
      "  time_serie.drop(columns=['Seller ID', 'Day of Week', 'Last Week', 'Last Month'], inplace=True)\n",
      "C:\\Users\\Miguel Mendes\\AppData\\Local\\Temp\\ipykernel_8516\\2327759639.py:21: SettingWithCopyWarning: \n",
      "A value is trying to be set on a copy of a slice from a DataFrame.\n",
      "Try using .loc[row_indexer,col_indexer] = value instead\n",
      "\n",
      "See the caveats in the documentation: https://pandas.pydata.org/pandas-docs/stable/user_guide/indexing.html#returning-a-view-versus-a-copy\n",
      "  time_serie['Change'] = time_serie['Change'].astype('Int64')\n",
      "C:\\Users\\Miguel Mendes\\AppData\\Local\\Temp\\ipykernel_8516\\2327759639.py:20: SettingWithCopyWarning: \n",
      "A value is trying to be set on a copy of a slice from a DataFrame\n",
      "\n",
      "See the caveats in the documentation: https://pandas.pydata.org/pandas-docs/stable/user_guide/indexing.html#returning-a-view-versus-a-copy\n",
      "  time_serie.drop(columns=['Seller ID', 'Day of Week', 'Last Week', 'Last Month'], inplace=True)\n",
      "C:\\Users\\Miguel Mendes\\AppData\\Local\\Temp\\ipykernel_8516\\2327759639.py:21: SettingWithCopyWarning: \n",
      "A value is trying to be set on a copy of a slice from a DataFrame.\n",
      "Try using .loc[row_indexer,col_indexer] = value instead\n",
      "\n",
      "See the caveats in the documentation: https://pandas.pydata.org/pandas-docs/stable/user_guide/indexing.html#returning-a-view-versus-a-copy\n",
      "  time_serie['Change'] = time_serie['Change'].astype('Int64')\n"
     ]
    },
    {
     "name": "stdout",
     "output_type": "stream",
     "text": [
      "Erro Médio Absoluto (MAE) para Seller ID 100002201: 0.16794826984405517\n",
      "Processando Seller ID: 100000821\n",
      "Erro Médio Absoluto (MAE) para Seller ID 100000821: 0.09014387726783753\n",
      "Processando Seller ID: 100000587\n"
     ]
    },
    {
     "name": "stderr",
     "output_type": "stream",
     "text": [
      "C:\\Users\\Miguel Mendes\\AppData\\Local\\Temp\\ipykernel_8516\\2327759639.py:20: SettingWithCopyWarning: \n",
      "A value is trying to be set on a copy of a slice from a DataFrame\n",
      "\n",
      "See the caveats in the documentation: https://pandas.pydata.org/pandas-docs/stable/user_guide/indexing.html#returning-a-view-versus-a-copy\n",
      "  time_serie.drop(columns=['Seller ID', 'Day of Week', 'Last Week', 'Last Month'], inplace=True)\n",
      "C:\\Users\\Miguel Mendes\\AppData\\Local\\Temp\\ipykernel_8516\\2327759639.py:21: SettingWithCopyWarning: \n",
      "A value is trying to be set on a copy of a slice from a DataFrame.\n",
      "Try using .loc[row_indexer,col_indexer] = value instead\n",
      "\n",
      "See the caveats in the documentation: https://pandas.pydata.org/pandas-docs/stable/user_guide/indexing.html#returning-a-view-versus-a-copy\n",
      "  time_serie['Change'] = time_serie['Change'].astype('Int64')\n",
      "C:\\Users\\Miguel Mendes\\AppData\\Local\\Temp\\ipykernel_8516\\2327759639.py:20: SettingWithCopyWarning: \n",
      "A value is trying to be set on a copy of a slice from a DataFrame\n",
      "\n",
      "See the caveats in the documentation: https://pandas.pydata.org/pandas-docs/stable/user_guide/indexing.html#returning-a-view-versus-a-copy\n",
      "  time_serie.drop(columns=['Seller ID', 'Day of Week', 'Last Week', 'Last Month'], inplace=True)\n",
      "C:\\Users\\Miguel Mendes\\AppData\\Local\\Temp\\ipykernel_8516\\2327759639.py:21: SettingWithCopyWarning: \n",
      "A value is trying to be set on a copy of a slice from a DataFrame.\n",
      "Try using .loc[row_indexer,col_indexer] = value instead\n",
      "\n",
      "See the caveats in the documentation: https://pandas.pydata.org/pandas-docs/stable/user_guide/indexing.html#returning-a-view-versus-a-copy\n",
      "  time_serie['Change'] = time_serie['Change'].astype('Int64')\n"
     ]
    },
    {
     "name": "stdout",
     "output_type": "stream",
     "text": [
      "Erro Médio Absoluto (MAE) para Seller ID 100000587: 0.18395318761467933\n",
      "Processando Seller ID: 100000095\n",
      "Erro Médio Absoluto (MAE) para Seller ID 100000095: 0.21114727184176446\n",
      "Processando Seller ID: 100000037\n"
     ]
    },
    {
     "name": "stderr",
     "output_type": "stream",
     "text": [
      "C:\\Users\\Miguel Mendes\\AppData\\Local\\Temp\\ipykernel_8516\\2327759639.py:20: SettingWithCopyWarning: \n",
      "A value is trying to be set on a copy of a slice from a DataFrame\n",
      "\n",
      "See the caveats in the documentation: https://pandas.pydata.org/pandas-docs/stable/user_guide/indexing.html#returning-a-view-versus-a-copy\n",
      "  time_serie.drop(columns=['Seller ID', 'Day of Week', 'Last Week', 'Last Month'], inplace=True)\n",
      "C:\\Users\\Miguel Mendes\\AppData\\Local\\Temp\\ipykernel_8516\\2327759639.py:21: SettingWithCopyWarning: \n",
      "A value is trying to be set on a copy of a slice from a DataFrame.\n",
      "Try using .loc[row_indexer,col_indexer] = value instead\n",
      "\n",
      "See the caveats in the documentation: https://pandas.pydata.org/pandas-docs/stable/user_guide/indexing.html#returning-a-view-versus-a-copy\n",
      "  time_serie['Change'] = time_serie['Change'].astype('Int64')\n",
      "C:\\Users\\Miguel Mendes\\AppData\\Local\\Temp\\ipykernel_8516\\2327759639.py:20: SettingWithCopyWarning: \n",
      "A value is trying to be set on a copy of a slice from a DataFrame\n",
      "\n",
      "See the caveats in the documentation: https://pandas.pydata.org/pandas-docs/stable/user_guide/indexing.html#returning-a-view-versus-a-copy\n",
      "  time_serie.drop(columns=['Seller ID', 'Day of Week', 'Last Week', 'Last Month'], inplace=True)\n",
      "C:\\Users\\Miguel Mendes\\AppData\\Local\\Temp\\ipykernel_8516\\2327759639.py:21: SettingWithCopyWarning: \n",
      "A value is trying to be set on a copy of a slice from a DataFrame.\n",
      "Try using .loc[row_indexer,col_indexer] = value instead\n",
      "\n",
      "See the caveats in the documentation: https://pandas.pydata.org/pandas-docs/stable/user_guide/indexing.html#returning-a-view-versus-a-copy\n",
      "  time_serie['Change'] = time_serie['Change'].astype('Int64')\n"
     ]
    },
    {
     "name": "stdout",
     "output_type": "stream",
     "text": [
      "Erro Médio Absoluto (MAE) para Seller ID 100000037: 0.3538495421409607\n",
      "Processando Seller ID: 100000302\n",
      "Erro Médio Absoluto (MAE) para Seller ID 100000302: 0.06131761446595192\n",
      "Processando Seller ID: 100000109\n"
     ]
    },
    {
     "name": "stderr",
     "output_type": "stream",
     "text": [
      "C:\\Users\\Miguel Mendes\\AppData\\Local\\Temp\\ipykernel_8516\\2327759639.py:20: SettingWithCopyWarning: \n",
      "A value is trying to be set on a copy of a slice from a DataFrame\n",
      "\n",
      "See the caveats in the documentation: https://pandas.pydata.org/pandas-docs/stable/user_guide/indexing.html#returning-a-view-versus-a-copy\n",
      "  time_serie.drop(columns=['Seller ID', 'Day of Week', 'Last Week', 'Last Month'], inplace=True)\n",
      "C:\\Users\\Miguel Mendes\\AppData\\Local\\Temp\\ipykernel_8516\\2327759639.py:21: SettingWithCopyWarning: \n",
      "A value is trying to be set on a copy of a slice from a DataFrame.\n",
      "Try using .loc[row_indexer,col_indexer] = value instead\n",
      "\n",
      "See the caveats in the documentation: https://pandas.pydata.org/pandas-docs/stable/user_guide/indexing.html#returning-a-view-versus-a-copy\n",
      "  time_serie['Change'] = time_serie['Change'].astype('Int64')\n",
      "C:\\Users\\Miguel Mendes\\AppData\\Local\\Temp\\ipykernel_8516\\2327759639.py:20: SettingWithCopyWarning: \n",
      "A value is trying to be set on a copy of a slice from a DataFrame\n",
      "\n",
      "See the caveats in the documentation: https://pandas.pydata.org/pandas-docs/stable/user_guide/indexing.html#returning-a-view-versus-a-copy\n",
      "  time_serie.drop(columns=['Seller ID', 'Day of Week', 'Last Week', 'Last Month'], inplace=True)\n",
      "C:\\Users\\Miguel Mendes\\AppData\\Local\\Temp\\ipykernel_8516\\2327759639.py:21: SettingWithCopyWarning: \n",
      "A value is trying to be set on a copy of a slice from a DataFrame.\n",
      "Try using .loc[row_indexer,col_indexer] = value instead\n",
      "\n",
      "See the caveats in the documentation: https://pandas.pydata.org/pandas-docs/stable/user_guide/indexing.html#returning-a-view-versus-a-copy\n",
      "  time_serie['Change'] = time_serie['Change'].astype('Int64')\n"
     ]
    },
    {
     "name": "stdout",
     "output_type": "stream",
     "text": [
      "Erro Médio Absoluto (MAE) para Seller ID 100000109: 0.05194777199067176\n",
      "Processando Seller ID: 100001779\n",
      "Erro Médio Absoluto (MAE) para Seller ID 100001779: 0.2784108862280846\n",
      "Processando Seller ID: 100000819\n"
     ]
    },
    {
     "name": "stderr",
     "output_type": "stream",
     "text": [
      "C:\\Users\\Miguel Mendes\\AppData\\Local\\Temp\\ipykernel_8516\\2327759639.py:20: SettingWithCopyWarning: \n",
      "A value is trying to be set on a copy of a slice from a DataFrame\n",
      "\n",
      "See the caveats in the documentation: https://pandas.pydata.org/pandas-docs/stable/user_guide/indexing.html#returning-a-view-versus-a-copy\n",
      "  time_serie.drop(columns=['Seller ID', 'Day of Week', 'Last Week', 'Last Month'], inplace=True)\n",
      "C:\\Users\\Miguel Mendes\\AppData\\Local\\Temp\\ipykernel_8516\\2327759639.py:21: SettingWithCopyWarning: \n",
      "A value is trying to be set on a copy of a slice from a DataFrame.\n",
      "Try using .loc[row_indexer,col_indexer] = value instead\n",
      "\n",
      "See the caveats in the documentation: https://pandas.pydata.org/pandas-docs/stable/user_guide/indexing.html#returning-a-view-versus-a-copy\n",
      "  time_serie['Change'] = time_serie['Change'].astype('Int64')\n",
      "C:\\Users\\Miguel Mendes\\AppData\\Local\\Temp\\ipykernel_8516\\2327759639.py:20: SettingWithCopyWarning: \n",
      "A value is trying to be set on a copy of a slice from a DataFrame\n",
      "\n",
      "See the caveats in the documentation: https://pandas.pydata.org/pandas-docs/stable/user_guide/indexing.html#returning-a-view-versus-a-copy\n",
      "  time_serie.drop(columns=['Seller ID', 'Day of Week', 'Last Week', 'Last Month'], inplace=True)\n",
      "C:\\Users\\Miguel Mendes\\AppData\\Local\\Temp\\ipykernel_8516\\2327759639.py:21: SettingWithCopyWarning: \n",
      "A value is trying to be set on a copy of a slice from a DataFrame.\n",
      "Try using .loc[row_indexer,col_indexer] = value instead\n",
      "\n",
      "See the caveats in the documentation: https://pandas.pydata.org/pandas-docs/stable/user_guide/indexing.html#returning-a-view-versus-a-copy\n",
      "  time_serie['Change'] = time_serie['Change'].astype('Int64')\n"
     ]
    },
    {
     "name": "stdout",
     "output_type": "stream",
     "text": [
      "Erro Médio Absoluto (MAE) para Seller ID 100000819: 0.20465706689283253\n",
      "Processando Seller ID: 100001110\n",
      "Erro Médio Absoluto (MAE) para Seller ID 100001110: 0.050016214339848375\n",
      "Processando Seller ID: 100000490\n"
     ]
    },
    {
     "name": "stderr",
     "output_type": "stream",
     "text": [
      "C:\\Users\\Miguel Mendes\\AppData\\Local\\Temp\\ipykernel_8516\\2327759639.py:20: SettingWithCopyWarning: \n",
      "A value is trying to be set on a copy of a slice from a DataFrame\n",
      "\n",
      "See the caveats in the documentation: https://pandas.pydata.org/pandas-docs/stable/user_guide/indexing.html#returning-a-view-versus-a-copy\n",
      "  time_serie.drop(columns=['Seller ID', 'Day of Week', 'Last Week', 'Last Month'], inplace=True)\n",
      "C:\\Users\\Miguel Mendes\\AppData\\Local\\Temp\\ipykernel_8516\\2327759639.py:21: SettingWithCopyWarning: \n",
      "A value is trying to be set on a copy of a slice from a DataFrame.\n",
      "Try using .loc[row_indexer,col_indexer] = value instead\n",
      "\n",
      "See the caveats in the documentation: https://pandas.pydata.org/pandas-docs/stable/user_guide/indexing.html#returning-a-view-versus-a-copy\n",
      "  time_serie['Change'] = time_serie['Change'].astype('Int64')\n",
      "C:\\Users\\Miguel Mendes\\AppData\\Local\\Temp\\ipykernel_8516\\2327759639.py:20: SettingWithCopyWarning: \n",
      "A value is trying to be set on a copy of a slice from a DataFrame\n",
      "\n",
      "See the caveats in the documentation: https://pandas.pydata.org/pandas-docs/stable/user_guide/indexing.html#returning-a-view-versus-a-copy\n",
      "  time_serie.drop(columns=['Seller ID', 'Day of Week', 'Last Week', 'Last Month'], inplace=True)\n",
      "C:\\Users\\Miguel Mendes\\AppData\\Local\\Temp\\ipykernel_8516\\2327759639.py:21: SettingWithCopyWarning: \n",
      "A value is trying to be set on a copy of a slice from a DataFrame.\n",
      "Try using .loc[row_indexer,col_indexer] = value instead\n",
      "\n",
      "See the caveats in the documentation: https://pandas.pydata.org/pandas-docs/stable/user_guide/indexing.html#returning-a-view-versus-a-copy\n",
      "  time_serie['Change'] = time_serie['Change'].astype('Int64')\n"
     ]
    },
    {
     "name": "stdout",
     "output_type": "stream",
     "text": [
      "Erro Médio Absoluto (MAE) para Seller ID 100000490: 0.058671141229569915\n",
      "Processando Seller ID: 100000260\n"
     ]
    },
    {
     "name": "stderr",
     "output_type": "stream",
     "text": [
      "C:\\Users\\Miguel Mendes\\AppData\\Local\\Temp\\ipykernel_8516\\2327759639.py:20: SettingWithCopyWarning: \n",
      "A value is trying to be set on a copy of a slice from a DataFrame\n",
      "\n",
      "See the caveats in the documentation: https://pandas.pydata.org/pandas-docs/stable/user_guide/indexing.html#returning-a-view-versus-a-copy\n",
      "  time_serie.drop(columns=['Seller ID', 'Day of Week', 'Last Week', 'Last Month'], inplace=True)\n",
      "C:\\Users\\Miguel Mendes\\AppData\\Local\\Temp\\ipykernel_8516\\2327759639.py:21: SettingWithCopyWarning: \n",
      "A value is trying to be set on a copy of a slice from a DataFrame.\n",
      "Try using .loc[row_indexer,col_indexer] = value instead\n",
      "\n",
      "See the caveats in the documentation: https://pandas.pydata.org/pandas-docs/stable/user_guide/indexing.html#returning-a-view-versus-a-copy\n",
      "  time_serie['Change'] = time_serie['Change'].astype('Int64')\n"
     ]
    },
    {
     "name": "stdout",
     "output_type": "stream",
     "text": [
      "Erro Médio Absoluto (MAE) para Seller ID 100000260: 0.07443447150290013\n",
      "Processando Seller ID: 100000247\n",
      "Erro Médio Absoluto (MAE) para Seller ID 100000247: 0.11305562071502209\n",
      "Processando Seller ID: 100002383\n"
     ]
    },
    {
     "name": "stderr",
     "output_type": "stream",
     "text": [
      "C:\\Users\\Miguel Mendes\\AppData\\Local\\Temp\\ipykernel_8516\\2327759639.py:20: SettingWithCopyWarning: \n",
      "A value is trying to be set on a copy of a slice from a DataFrame\n",
      "\n",
      "See the caveats in the documentation: https://pandas.pydata.org/pandas-docs/stable/user_guide/indexing.html#returning-a-view-versus-a-copy\n",
      "  time_serie.drop(columns=['Seller ID', 'Day of Week', 'Last Week', 'Last Month'], inplace=True)\n",
      "C:\\Users\\Miguel Mendes\\AppData\\Local\\Temp\\ipykernel_8516\\2327759639.py:21: SettingWithCopyWarning: \n",
      "A value is trying to be set on a copy of a slice from a DataFrame.\n",
      "Try using .loc[row_indexer,col_indexer] = value instead\n",
      "\n",
      "See the caveats in the documentation: https://pandas.pydata.org/pandas-docs/stable/user_guide/indexing.html#returning-a-view-versus-a-copy\n",
      "  time_serie['Change'] = time_serie['Change'].astype('Int64')\n",
      "C:\\Users\\Miguel Mendes\\AppData\\Local\\Temp\\ipykernel_8516\\2327759639.py:20: SettingWithCopyWarning: \n",
      "A value is trying to be set on a copy of a slice from a DataFrame\n",
      "\n",
      "See the caveats in the documentation: https://pandas.pydata.org/pandas-docs/stable/user_guide/indexing.html#returning-a-view-versus-a-copy\n",
      "  time_serie.drop(columns=['Seller ID', 'Day of Week', 'Last Week', 'Last Month'], inplace=True)\n",
      "C:\\Users\\Miguel Mendes\\AppData\\Local\\Temp\\ipykernel_8516\\2327759639.py:21: SettingWithCopyWarning: \n",
      "A value is trying to be set on a copy of a slice from a DataFrame.\n",
      "Try using .loc[row_indexer,col_indexer] = value instead\n",
      "\n",
      "See the caveats in the documentation: https://pandas.pydata.org/pandas-docs/stable/user_guide/indexing.html#returning-a-view-versus-a-copy\n",
      "  time_serie['Change'] = time_serie['Change'].astype('Int64')\n"
     ]
    },
    {
     "name": "stdout",
     "output_type": "stream",
     "text": [
      "Erro Médio Absoluto (MAE) para Seller ID 100002383: 0.15\n",
      "Processando Seller ID: 100000829\n",
      "Erro Médio Absoluto (MAE) para Seller ID 100000829: 0.19748940467834472\n",
      "Processando Seller ID: 100000544\n"
     ]
    },
    {
     "name": "stderr",
     "output_type": "stream",
     "text": [
      "C:\\Users\\Miguel Mendes\\AppData\\Local\\Temp\\ipykernel_8516\\2327759639.py:20: SettingWithCopyWarning: \n",
      "A value is trying to be set on a copy of a slice from a DataFrame\n",
      "\n",
      "See the caveats in the documentation: https://pandas.pydata.org/pandas-docs/stable/user_guide/indexing.html#returning-a-view-versus-a-copy\n",
      "  time_serie.drop(columns=['Seller ID', 'Day of Week', 'Last Week', 'Last Month'], inplace=True)\n",
      "C:\\Users\\Miguel Mendes\\AppData\\Local\\Temp\\ipykernel_8516\\2327759639.py:21: SettingWithCopyWarning: \n",
      "A value is trying to be set on a copy of a slice from a DataFrame.\n",
      "Try using .loc[row_indexer,col_indexer] = value instead\n",
      "\n",
      "See the caveats in the documentation: https://pandas.pydata.org/pandas-docs/stable/user_guide/indexing.html#returning-a-view-versus-a-copy\n",
      "  time_serie['Change'] = time_serie['Change'].astype('Int64')\n",
      "C:\\Users\\Miguel Mendes\\AppData\\Local\\Temp\\ipykernel_8516\\2327759639.py:20: SettingWithCopyWarning: \n",
      "A value is trying to be set on a copy of a slice from a DataFrame\n",
      "\n",
      "See the caveats in the documentation: https://pandas.pydata.org/pandas-docs/stable/user_guide/indexing.html#returning-a-view-versus-a-copy\n",
      "  time_serie.drop(columns=['Seller ID', 'Day of Week', 'Last Week', 'Last Month'], inplace=True)\n",
      "C:\\Users\\Miguel Mendes\\AppData\\Local\\Temp\\ipykernel_8516\\2327759639.py:21: SettingWithCopyWarning: \n",
      "A value is trying to be set on a copy of a slice from a DataFrame.\n",
      "Try using .loc[row_indexer,col_indexer] = value instead\n",
      "\n",
      "See the caveats in the documentation: https://pandas.pydata.org/pandas-docs/stable/user_guide/indexing.html#returning-a-view-versus-a-copy\n",
      "  time_serie['Change'] = time_serie['Change'].astype('Int64')\n"
     ]
    },
    {
     "name": "stdout",
     "output_type": "stream",
     "text": [
      "Erro Médio Absoluto (MAE) para Seller ID 100000544: 0.16043843291699886\n",
      "Processando Seller ID: 100000111\n",
      "Erro Médio Absoluto (MAE) para Seller ID 100000111: 0.16507823541760444\n",
      "Processando Seller ID: 100000773\n"
     ]
    },
    {
     "name": "stderr",
     "output_type": "stream",
     "text": [
      "C:\\Users\\Miguel Mendes\\AppData\\Local\\Temp\\ipykernel_8516\\2327759639.py:20: SettingWithCopyWarning: \n",
      "A value is trying to be set on a copy of a slice from a DataFrame\n",
      "\n",
      "See the caveats in the documentation: https://pandas.pydata.org/pandas-docs/stable/user_guide/indexing.html#returning-a-view-versus-a-copy\n",
      "  time_serie.drop(columns=['Seller ID', 'Day of Week', 'Last Week', 'Last Month'], inplace=True)\n",
      "C:\\Users\\Miguel Mendes\\AppData\\Local\\Temp\\ipykernel_8516\\2327759639.py:21: SettingWithCopyWarning: \n",
      "A value is trying to be set on a copy of a slice from a DataFrame.\n",
      "Try using .loc[row_indexer,col_indexer] = value instead\n",
      "\n",
      "See the caveats in the documentation: https://pandas.pydata.org/pandas-docs/stable/user_guide/indexing.html#returning-a-view-versus-a-copy\n",
      "  time_serie['Change'] = time_serie['Change'].astype('Int64')\n",
      "C:\\Users\\Miguel Mendes\\AppData\\Local\\Temp\\ipykernel_8516\\2327759639.py:20: SettingWithCopyWarning: \n",
      "A value is trying to be set on a copy of a slice from a DataFrame\n",
      "\n",
      "See the caveats in the documentation: https://pandas.pydata.org/pandas-docs/stable/user_guide/indexing.html#returning-a-view-versus-a-copy\n",
      "  time_serie.drop(columns=['Seller ID', 'Day of Week', 'Last Week', 'Last Month'], inplace=True)\n",
      "C:\\Users\\Miguel Mendes\\AppData\\Local\\Temp\\ipykernel_8516\\2327759639.py:21: SettingWithCopyWarning: \n",
      "A value is trying to be set on a copy of a slice from a DataFrame.\n",
      "Try using .loc[row_indexer,col_indexer] = value instead\n",
      "\n",
      "See the caveats in the documentation: https://pandas.pydata.org/pandas-docs/stable/user_guide/indexing.html#returning-a-view-versus-a-copy\n",
      "  time_serie['Change'] = time_serie['Change'].astype('Int64')\n"
     ]
    },
    {
     "name": "stdout",
     "output_type": "stream",
     "text": [
      "Erro Médio Absoluto (MAE) para Seller ID 100000773: 0.05123327184701339\n",
      "Processando Seller ID: 100000770\n",
      "Erro Médio Absoluto (MAE) para Seller ID 100000770: 0.06325685409829021\n",
      "Processando Seller ID: 100000318\n"
     ]
    },
    {
     "name": "stderr",
     "output_type": "stream",
     "text": [
      "C:\\Users\\Miguel Mendes\\AppData\\Local\\Temp\\ipykernel_8516\\2327759639.py:20: SettingWithCopyWarning: \n",
      "A value is trying to be set on a copy of a slice from a DataFrame\n",
      "\n",
      "See the caveats in the documentation: https://pandas.pydata.org/pandas-docs/stable/user_guide/indexing.html#returning-a-view-versus-a-copy\n",
      "  time_serie.drop(columns=['Seller ID', 'Day of Week', 'Last Week', 'Last Month'], inplace=True)\n",
      "C:\\Users\\Miguel Mendes\\AppData\\Local\\Temp\\ipykernel_8516\\2327759639.py:21: SettingWithCopyWarning: \n",
      "A value is trying to be set on a copy of a slice from a DataFrame.\n",
      "Try using .loc[row_indexer,col_indexer] = value instead\n",
      "\n",
      "See the caveats in the documentation: https://pandas.pydata.org/pandas-docs/stable/user_guide/indexing.html#returning-a-view-versus-a-copy\n",
      "  time_serie['Change'] = time_serie['Change'].astype('Int64')\n",
      "C:\\Users\\Miguel Mendes\\AppData\\Local\\Temp\\ipykernel_8516\\2327759639.py:20: SettingWithCopyWarning: \n",
      "A value is trying to be set on a copy of a slice from a DataFrame\n",
      "\n",
      "See the caveats in the documentation: https://pandas.pydata.org/pandas-docs/stable/user_guide/indexing.html#returning-a-view-versus-a-copy\n",
      "  time_serie.drop(columns=['Seller ID', 'Day of Week', 'Last Week', 'Last Month'], inplace=True)\n",
      "C:\\Users\\Miguel Mendes\\AppData\\Local\\Temp\\ipykernel_8516\\2327759639.py:21: SettingWithCopyWarning: \n",
      "A value is trying to be set on a copy of a slice from a DataFrame.\n",
      "Try using .loc[row_indexer,col_indexer] = value instead\n",
      "\n",
      "See the caveats in the documentation: https://pandas.pydata.org/pandas-docs/stable/user_guide/indexing.html#returning-a-view-versus-a-copy\n",
      "  time_serie['Change'] = time_serie['Change'].astype('Int64')\n"
     ]
    },
    {
     "name": "stdout",
     "output_type": "stream",
     "text": [
      "Erro Médio Absoluto (MAE) para Seller ID 100000318: 0.06724925264716149\n",
      "Processando Seller ID: 100000203\n",
      "Erro Médio Absoluto (MAE) para Seller ID 100000203: 0.1071341902948916\n",
      "Processando Seller ID: 100000339\n"
     ]
    },
    {
     "name": "stderr",
     "output_type": "stream",
     "text": [
      "C:\\Users\\Miguel Mendes\\AppData\\Local\\Temp\\ipykernel_8516\\2327759639.py:20: SettingWithCopyWarning: \n",
      "A value is trying to be set on a copy of a slice from a DataFrame\n",
      "\n",
      "See the caveats in the documentation: https://pandas.pydata.org/pandas-docs/stable/user_guide/indexing.html#returning-a-view-versus-a-copy\n",
      "  time_serie.drop(columns=['Seller ID', 'Day of Week', 'Last Week', 'Last Month'], inplace=True)\n",
      "C:\\Users\\Miguel Mendes\\AppData\\Local\\Temp\\ipykernel_8516\\2327759639.py:21: SettingWithCopyWarning: \n",
      "A value is trying to be set on a copy of a slice from a DataFrame.\n",
      "Try using .loc[row_indexer,col_indexer] = value instead\n",
      "\n",
      "See the caveats in the documentation: https://pandas.pydata.org/pandas-docs/stable/user_guide/indexing.html#returning-a-view-versus-a-copy\n",
      "  time_serie['Change'] = time_serie['Change'].astype('Int64')\n",
      "C:\\Users\\Miguel Mendes\\AppData\\Local\\Temp\\ipykernel_8516\\2327759639.py:20: SettingWithCopyWarning: \n",
      "A value is trying to be set on a copy of a slice from a DataFrame\n",
      "\n",
      "See the caveats in the documentation: https://pandas.pydata.org/pandas-docs/stable/user_guide/indexing.html#returning-a-view-versus-a-copy\n",
      "  time_serie.drop(columns=['Seller ID', 'Day of Week', 'Last Week', 'Last Month'], inplace=True)\n",
      "C:\\Users\\Miguel Mendes\\AppData\\Local\\Temp\\ipykernel_8516\\2327759639.py:21: SettingWithCopyWarning: \n",
      "A value is trying to be set on a copy of a slice from a DataFrame.\n",
      "Try using .loc[row_indexer,col_indexer] = value instead\n",
      "\n",
      "See the caveats in the documentation: https://pandas.pydata.org/pandas-docs/stable/user_guide/indexing.html#returning-a-view-versus-a-copy\n",
      "  time_serie['Change'] = time_serie['Change'].astype('Int64')\n"
     ]
    },
    {
     "name": "stdout",
     "output_type": "stream",
     "text": [
      "Erro Médio Absoluto (MAE) para Seller ID 100000339: 0.11576244756579399\n",
      "Processando Seller ID: 100000985\n",
      "Erro Médio Absoluto (MAE) para Seller ID 100000985: 0.05332291540689767\n",
      "Processando Seller ID: 100000875\n"
     ]
    },
    {
     "name": "stderr",
     "output_type": "stream",
     "text": [
      "C:\\Users\\Miguel Mendes\\AppData\\Local\\Temp\\ipykernel_8516\\2327759639.py:20: SettingWithCopyWarning: \n",
      "A value is trying to be set on a copy of a slice from a DataFrame\n",
      "\n",
      "See the caveats in the documentation: https://pandas.pydata.org/pandas-docs/stable/user_guide/indexing.html#returning-a-view-versus-a-copy\n",
      "  time_serie.drop(columns=['Seller ID', 'Day of Week', 'Last Week', 'Last Month'], inplace=True)\n",
      "C:\\Users\\Miguel Mendes\\AppData\\Local\\Temp\\ipykernel_8516\\2327759639.py:21: SettingWithCopyWarning: \n",
      "A value is trying to be set on a copy of a slice from a DataFrame.\n",
      "Try using .loc[row_indexer,col_indexer] = value instead\n",
      "\n",
      "See the caveats in the documentation: https://pandas.pydata.org/pandas-docs/stable/user_guide/indexing.html#returning-a-view-versus-a-copy\n",
      "  time_serie['Change'] = time_serie['Change'].astype('Int64')\n",
      "C:\\Users\\Miguel Mendes\\AppData\\Local\\Temp\\ipykernel_8516\\2327759639.py:20: SettingWithCopyWarning: \n",
      "A value is trying to be set on a copy of a slice from a DataFrame\n",
      "\n",
      "See the caveats in the documentation: https://pandas.pydata.org/pandas-docs/stable/user_guide/indexing.html#returning-a-view-versus-a-copy\n",
      "  time_serie.drop(columns=['Seller ID', 'Day of Week', 'Last Week', 'Last Month'], inplace=True)\n",
      "C:\\Users\\Miguel Mendes\\AppData\\Local\\Temp\\ipykernel_8516\\2327759639.py:21: SettingWithCopyWarning: \n",
      "A value is trying to be set on a copy of a slice from a DataFrame.\n",
      "Try using .loc[row_indexer,col_indexer] = value instead\n",
      "\n",
      "See the caveats in the documentation: https://pandas.pydata.org/pandas-docs/stable/user_guide/indexing.html#returning-a-view-versus-a-copy\n",
      "  time_serie['Change'] = time_serie['Change'].astype('Int64')\n"
     ]
    },
    {
     "name": "stdout",
     "output_type": "stream",
     "text": [
      "Erro Médio Absoluto (MAE) para Seller ID 100000875: 0.062068148516118526\n",
      "Processando Seller ID: 100001955\n",
      "Erro Médio Absoluto (MAE) para Seller ID 100001955: 0.3761667303740978\n",
      "Processando Seller ID: 100001050\n"
     ]
    },
    {
     "name": "stderr",
     "output_type": "stream",
     "text": [
      "C:\\Users\\Miguel Mendes\\AppData\\Local\\Temp\\ipykernel_8516\\2327759639.py:20: SettingWithCopyWarning: \n",
      "A value is trying to be set on a copy of a slice from a DataFrame\n",
      "\n",
      "See the caveats in the documentation: https://pandas.pydata.org/pandas-docs/stable/user_guide/indexing.html#returning-a-view-versus-a-copy\n",
      "  time_serie.drop(columns=['Seller ID', 'Day of Week', 'Last Week', 'Last Month'], inplace=True)\n",
      "C:\\Users\\Miguel Mendes\\AppData\\Local\\Temp\\ipykernel_8516\\2327759639.py:21: SettingWithCopyWarning: \n",
      "A value is trying to be set on a copy of a slice from a DataFrame.\n",
      "Try using .loc[row_indexer,col_indexer] = value instead\n",
      "\n",
      "See the caveats in the documentation: https://pandas.pydata.org/pandas-docs/stable/user_guide/indexing.html#returning-a-view-versus-a-copy\n",
      "  time_serie['Change'] = time_serie['Change'].astype('Int64')\n",
      "C:\\Users\\Miguel Mendes\\AppData\\Local\\Temp\\ipykernel_8516\\2327759639.py:20: SettingWithCopyWarning: \n",
      "A value is trying to be set on a copy of a slice from a DataFrame\n",
      "\n",
      "See the caveats in the documentation: https://pandas.pydata.org/pandas-docs/stable/user_guide/indexing.html#returning-a-view-versus-a-copy\n",
      "  time_serie.drop(columns=['Seller ID', 'Day of Week', 'Last Week', 'Last Month'], inplace=True)\n",
      "C:\\Users\\Miguel Mendes\\AppData\\Local\\Temp\\ipykernel_8516\\2327759639.py:21: SettingWithCopyWarning: \n",
      "A value is trying to be set on a copy of a slice from a DataFrame.\n",
      "Try using .loc[row_indexer,col_indexer] = value instead\n",
      "\n",
      "See the caveats in the documentation: https://pandas.pydata.org/pandas-docs/stable/user_guide/indexing.html#returning-a-view-versus-a-copy\n",
      "  time_serie['Change'] = time_serie['Change'].astype('Int64')\n"
     ]
    },
    {
     "name": "stdout",
     "output_type": "stream",
     "text": [
      "Erro Médio Absoluto (MAE) para Seller ID 100001050: 0.05125843053683639\n",
      "Processando Seller ID: 100000903\n",
      "Erro Médio Absoluto (MAE) para Seller ID 100000903: 0.050070915266405794\n",
      "Processando Seller ID: 100000918\n"
     ]
    },
    {
     "name": "stderr",
     "output_type": "stream",
     "text": [
      "C:\\Users\\Miguel Mendes\\AppData\\Local\\Temp\\ipykernel_8516\\2327759639.py:20: SettingWithCopyWarning: \n",
      "A value is trying to be set on a copy of a slice from a DataFrame\n",
      "\n",
      "See the caveats in the documentation: https://pandas.pydata.org/pandas-docs/stable/user_guide/indexing.html#returning-a-view-versus-a-copy\n",
      "  time_serie.drop(columns=['Seller ID', 'Day of Week', 'Last Week', 'Last Month'], inplace=True)\n",
      "C:\\Users\\Miguel Mendes\\AppData\\Local\\Temp\\ipykernel_8516\\2327759639.py:21: SettingWithCopyWarning: \n",
      "A value is trying to be set on a copy of a slice from a DataFrame.\n",
      "Try using .loc[row_indexer,col_indexer] = value instead\n",
      "\n",
      "See the caveats in the documentation: https://pandas.pydata.org/pandas-docs/stable/user_guide/indexing.html#returning-a-view-versus-a-copy\n",
      "  time_serie['Change'] = time_serie['Change'].astype('Int64')\n",
      "C:\\Users\\Miguel Mendes\\AppData\\Local\\Temp\\ipykernel_8516\\2327759639.py:20: SettingWithCopyWarning: \n",
      "A value is trying to be set on a copy of a slice from a DataFrame\n",
      "\n",
      "See the caveats in the documentation: https://pandas.pydata.org/pandas-docs/stable/user_guide/indexing.html#returning-a-view-versus-a-copy\n",
      "  time_serie.drop(columns=['Seller ID', 'Day of Week', 'Last Week', 'Last Month'], inplace=True)\n",
      "C:\\Users\\Miguel Mendes\\AppData\\Local\\Temp\\ipykernel_8516\\2327759639.py:21: SettingWithCopyWarning: \n",
      "A value is trying to be set on a copy of a slice from a DataFrame.\n",
      "Try using .loc[row_indexer,col_indexer] = value instead\n",
      "\n",
      "See the caveats in the documentation: https://pandas.pydata.org/pandas-docs/stable/user_guide/indexing.html#returning-a-view-versus-a-copy\n",
      "  time_serie['Change'] = time_serie['Change'].astype('Int64')\n"
     ]
    },
    {
     "name": "stdout",
     "output_type": "stream",
     "text": [
      "Erro Médio Absoluto (MAE) para Seller ID 100000918: 0.05156104627531022\n",
      "Processando Seller ID: 100000112\n",
      "Erro Médio Absoluto (MAE) para Seller ID 100000112: 0.10163337662816048\n",
      "Processando Seller ID: 100000303\n"
     ]
    },
    {
     "name": "stderr",
     "output_type": "stream",
     "text": [
      "C:\\Users\\Miguel Mendes\\AppData\\Local\\Temp\\ipykernel_8516\\2327759639.py:20: SettingWithCopyWarning: \n",
      "A value is trying to be set on a copy of a slice from a DataFrame\n",
      "\n",
      "See the caveats in the documentation: https://pandas.pydata.org/pandas-docs/stable/user_guide/indexing.html#returning-a-view-versus-a-copy\n",
      "  time_serie.drop(columns=['Seller ID', 'Day of Week', 'Last Week', 'Last Month'], inplace=True)\n",
      "C:\\Users\\Miguel Mendes\\AppData\\Local\\Temp\\ipykernel_8516\\2327759639.py:21: SettingWithCopyWarning: \n",
      "A value is trying to be set on a copy of a slice from a DataFrame.\n",
      "Try using .loc[row_indexer,col_indexer] = value instead\n",
      "\n",
      "See the caveats in the documentation: https://pandas.pydata.org/pandas-docs/stable/user_guide/indexing.html#returning-a-view-versus-a-copy\n",
      "  time_serie['Change'] = time_serie['Change'].astype('Int64')\n",
      "C:\\Users\\Miguel Mendes\\AppData\\Local\\Temp\\ipykernel_8516\\2327759639.py:20: SettingWithCopyWarning: \n",
      "A value is trying to be set on a copy of a slice from a DataFrame\n",
      "\n",
      "See the caveats in the documentation: https://pandas.pydata.org/pandas-docs/stable/user_guide/indexing.html#returning-a-view-versus-a-copy\n",
      "  time_serie.drop(columns=['Seller ID', 'Day of Week', 'Last Week', 'Last Month'], inplace=True)\n",
      "C:\\Users\\Miguel Mendes\\AppData\\Local\\Temp\\ipykernel_8516\\2327759639.py:21: SettingWithCopyWarning: \n",
      "A value is trying to be set on a copy of a slice from a DataFrame.\n",
      "Try using .loc[row_indexer,col_indexer] = value instead\n",
      "\n",
      "See the caveats in the documentation: https://pandas.pydata.org/pandas-docs/stable/user_guide/indexing.html#returning-a-view-versus-a-copy\n",
      "  time_serie['Change'] = time_serie['Change'].astype('Int64')\n"
     ]
    },
    {
     "name": "stdout",
     "output_type": "stream",
     "text": [
      "Erro Médio Absoluto (MAE) para Seller ID 100000303: 0.06973854377865792\n",
      "Processando Seller ID: 100002089\n",
      "Erro Médio Absoluto (MAE) para Seller ID 100002089: 0.1036717265844345\n",
      "Processando Seller ID: 100000362\n"
     ]
    },
    {
     "name": "stderr",
     "output_type": "stream",
     "text": [
      "C:\\Users\\Miguel Mendes\\AppData\\Local\\Temp\\ipykernel_8516\\2327759639.py:20: SettingWithCopyWarning: \n",
      "A value is trying to be set on a copy of a slice from a DataFrame\n",
      "\n",
      "See the caveats in the documentation: https://pandas.pydata.org/pandas-docs/stable/user_guide/indexing.html#returning-a-view-versus-a-copy\n",
      "  time_serie.drop(columns=['Seller ID', 'Day of Week', 'Last Week', 'Last Month'], inplace=True)\n",
      "C:\\Users\\Miguel Mendes\\AppData\\Local\\Temp\\ipykernel_8516\\2327759639.py:21: SettingWithCopyWarning: \n",
      "A value is trying to be set on a copy of a slice from a DataFrame.\n",
      "Try using .loc[row_indexer,col_indexer] = value instead\n",
      "\n",
      "See the caveats in the documentation: https://pandas.pydata.org/pandas-docs/stable/user_guide/indexing.html#returning-a-view-versus-a-copy\n",
      "  time_serie['Change'] = time_serie['Change'].astype('Int64')\n",
      "C:\\Users\\Miguel Mendes\\AppData\\Local\\Temp\\ipykernel_8516\\2327759639.py:20: SettingWithCopyWarning: \n",
      "A value is trying to be set on a copy of a slice from a DataFrame\n",
      "\n",
      "See the caveats in the documentation: https://pandas.pydata.org/pandas-docs/stable/user_guide/indexing.html#returning-a-view-versus-a-copy\n",
      "  time_serie.drop(columns=['Seller ID', 'Day of Week', 'Last Week', 'Last Month'], inplace=True)\n",
      "C:\\Users\\Miguel Mendes\\AppData\\Local\\Temp\\ipykernel_8516\\2327759639.py:21: SettingWithCopyWarning: \n",
      "A value is trying to be set on a copy of a slice from a DataFrame.\n",
      "Try using .loc[row_indexer,col_indexer] = value instead\n",
      "\n",
      "See the caveats in the documentation: https://pandas.pydata.org/pandas-docs/stable/user_guide/indexing.html#returning-a-view-versus-a-copy\n",
      "  time_serie['Change'] = time_serie['Change'].astype('Int64')\n"
     ]
    },
    {
     "name": "stdout",
     "output_type": "stream",
     "text": [
      "Erro Médio Absoluto (MAE) para Seller ID 100000362: 0.050311584598966876\n",
      "Processando Seller ID: 100000638\n",
      "Erro Médio Absoluto (MAE) para Seller ID 100000638: 0.44753967225551605\n",
      "Processando Seller ID: 100000633\n"
     ]
    },
    {
     "name": "stderr",
     "output_type": "stream",
     "text": [
      "C:\\Users\\Miguel Mendes\\AppData\\Local\\Temp\\ipykernel_8516\\2327759639.py:20: SettingWithCopyWarning: \n",
      "A value is trying to be set on a copy of a slice from a DataFrame\n",
      "\n",
      "See the caveats in the documentation: https://pandas.pydata.org/pandas-docs/stable/user_guide/indexing.html#returning-a-view-versus-a-copy\n",
      "  time_serie.drop(columns=['Seller ID', 'Day of Week', 'Last Week', 'Last Month'], inplace=True)\n",
      "C:\\Users\\Miguel Mendes\\AppData\\Local\\Temp\\ipykernel_8516\\2327759639.py:21: SettingWithCopyWarning: \n",
      "A value is trying to be set on a copy of a slice from a DataFrame.\n",
      "Try using .loc[row_indexer,col_indexer] = value instead\n",
      "\n",
      "See the caveats in the documentation: https://pandas.pydata.org/pandas-docs/stable/user_guide/indexing.html#returning-a-view-versus-a-copy\n",
      "  time_serie['Change'] = time_serie['Change'].astype('Int64')\n",
      "C:\\Users\\Miguel Mendes\\AppData\\Local\\Temp\\ipykernel_8516\\2327759639.py:20: SettingWithCopyWarning: \n",
      "A value is trying to be set on a copy of a slice from a DataFrame\n",
      "\n",
      "See the caveats in the documentation: https://pandas.pydata.org/pandas-docs/stable/user_guide/indexing.html#returning-a-view-versus-a-copy\n",
      "  time_serie.drop(columns=['Seller ID', 'Day of Week', 'Last Week', 'Last Month'], inplace=True)\n",
      "C:\\Users\\Miguel Mendes\\AppData\\Local\\Temp\\ipykernel_8516\\2327759639.py:21: SettingWithCopyWarning: \n",
      "A value is trying to be set on a copy of a slice from a DataFrame.\n",
      "Try using .loc[row_indexer,col_indexer] = value instead\n",
      "\n",
      "See the caveats in the documentation: https://pandas.pydata.org/pandas-docs/stable/user_guide/indexing.html#returning-a-view-versus-a-copy\n",
      "  time_serie['Change'] = time_serie['Change'].astype('Int64')\n"
     ]
    },
    {
     "name": "stdout",
     "output_type": "stream",
     "text": [
      "Erro Médio Absoluto (MAE) para Seller ID 100000633: 0.08009181097149849\n",
      "Processando Seller ID: 100002086\n",
      "Erro Médio Absoluto (MAE) para Seller ID 100002086: 0.06415123585611582\n",
      "Processando Seller ID: 100002052\n"
     ]
    },
    {
     "name": "stderr",
     "output_type": "stream",
     "text": [
      "C:\\Users\\Miguel Mendes\\AppData\\Local\\Temp\\ipykernel_8516\\2327759639.py:20: SettingWithCopyWarning: \n",
      "A value is trying to be set on a copy of a slice from a DataFrame\n",
      "\n",
      "See the caveats in the documentation: https://pandas.pydata.org/pandas-docs/stable/user_guide/indexing.html#returning-a-view-versus-a-copy\n",
      "  time_serie.drop(columns=['Seller ID', 'Day of Week', 'Last Week', 'Last Month'], inplace=True)\n",
      "C:\\Users\\Miguel Mendes\\AppData\\Local\\Temp\\ipykernel_8516\\2327759639.py:21: SettingWithCopyWarning: \n",
      "A value is trying to be set on a copy of a slice from a DataFrame.\n",
      "Try using .loc[row_indexer,col_indexer] = value instead\n",
      "\n",
      "See the caveats in the documentation: https://pandas.pydata.org/pandas-docs/stable/user_guide/indexing.html#returning-a-view-versus-a-copy\n",
      "  time_serie['Change'] = time_serie['Change'].astype('Int64')\n",
      "C:\\Users\\Miguel Mendes\\AppData\\Local\\Temp\\ipykernel_8516\\2327759639.py:20: SettingWithCopyWarning: \n",
      "A value is trying to be set on a copy of a slice from a DataFrame\n",
      "\n",
      "See the caveats in the documentation: https://pandas.pydata.org/pandas-docs/stable/user_guide/indexing.html#returning-a-view-versus-a-copy\n",
      "  time_serie.drop(columns=['Seller ID', 'Day of Week', 'Last Week', 'Last Month'], inplace=True)\n",
      "C:\\Users\\Miguel Mendes\\AppData\\Local\\Temp\\ipykernel_8516\\2327759639.py:21: SettingWithCopyWarning: \n",
      "A value is trying to be set on a copy of a slice from a DataFrame.\n",
      "Try using .loc[row_indexer,col_indexer] = value instead\n",
      "\n",
      "See the caveats in the documentation: https://pandas.pydata.org/pandas-docs/stable/user_guide/indexing.html#returning-a-view-versus-a-copy\n",
      "  time_serie['Change'] = time_serie['Change'].astype('Int64')\n"
     ]
    },
    {
     "name": "stdout",
     "output_type": "stream",
     "text": [
      "Erro Médio Absoluto (MAE) para Seller ID 100002052: 0.15095107182860373\n",
      "Processando Seller ID: 100000546\n",
      "Erro Médio Absoluto (MAE) para Seller ID 100000546: 0.08918238990008831\n",
      "Processando Seller ID: 100000790\n"
     ]
    },
    {
     "name": "stderr",
     "output_type": "stream",
     "text": [
      "C:\\Users\\Miguel Mendes\\AppData\\Local\\Temp\\ipykernel_8516\\2327759639.py:20: SettingWithCopyWarning: \n",
      "A value is trying to be set on a copy of a slice from a DataFrame\n",
      "\n",
      "See the caveats in the documentation: https://pandas.pydata.org/pandas-docs/stable/user_guide/indexing.html#returning-a-view-versus-a-copy\n",
      "  time_serie.drop(columns=['Seller ID', 'Day of Week', 'Last Week', 'Last Month'], inplace=True)\n",
      "C:\\Users\\Miguel Mendes\\AppData\\Local\\Temp\\ipykernel_8516\\2327759639.py:21: SettingWithCopyWarning: \n",
      "A value is trying to be set on a copy of a slice from a DataFrame.\n",
      "Try using .loc[row_indexer,col_indexer] = value instead\n",
      "\n",
      "See the caveats in the documentation: https://pandas.pydata.org/pandas-docs/stable/user_guide/indexing.html#returning-a-view-versus-a-copy\n",
      "  time_serie['Change'] = time_serie['Change'].astype('Int64')\n",
      "C:\\Users\\Miguel Mendes\\AppData\\Local\\Temp\\ipykernel_8516\\2327759639.py:20: SettingWithCopyWarning: \n",
      "A value is trying to be set on a copy of a slice from a DataFrame\n",
      "\n",
      "See the caveats in the documentation: https://pandas.pydata.org/pandas-docs/stable/user_guide/indexing.html#returning-a-view-versus-a-copy\n",
      "  time_serie.drop(columns=['Seller ID', 'Day of Week', 'Last Week', 'Last Month'], inplace=True)\n",
      "C:\\Users\\Miguel Mendes\\AppData\\Local\\Temp\\ipykernel_8516\\2327759639.py:21: SettingWithCopyWarning: \n",
      "A value is trying to be set on a copy of a slice from a DataFrame.\n",
      "Try using .loc[row_indexer,col_indexer] = value instead\n",
      "\n",
      "See the caveats in the documentation: https://pandas.pydata.org/pandas-docs/stable/user_guide/indexing.html#returning-a-view-versus-a-copy\n",
      "  time_serie['Change'] = time_serie['Change'].astype('Int64')\n"
     ]
    },
    {
     "name": "stdout",
     "output_type": "stream",
     "text": [
      "Erro Médio Absoluto (MAE) para Seller ID 100000790: 0.18778493404388427\n",
      "Processando Seller ID: 100000195\n",
      "Erro Médio Absoluto (MAE) para Seller ID 100000195: 0.40017816626932473\n",
      "Processando Seller ID: 100000991\n"
     ]
    },
    {
     "name": "stderr",
     "output_type": "stream",
     "text": [
      "C:\\Users\\Miguel Mendes\\AppData\\Local\\Temp\\ipykernel_8516\\2327759639.py:20: SettingWithCopyWarning: \n",
      "A value is trying to be set on a copy of a slice from a DataFrame\n",
      "\n",
      "See the caveats in the documentation: https://pandas.pydata.org/pandas-docs/stable/user_guide/indexing.html#returning-a-view-versus-a-copy\n",
      "  time_serie.drop(columns=['Seller ID', 'Day of Week', 'Last Week', 'Last Month'], inplace=True)\n",
      "C:\\Users\\Miguel Mendes\\AppData\\Local\\Temp\\ipykernel_8516\\2327759639.py:21: SettingWithCopyWarning: \n",
      "A value is trying to be set on a copy of a slice from a DataFrame.\n",
      "Try using .loc[row_indexer,col_indexer] = value instead\n",
      "\n",
      "See the caveats in the documentation: https://pandas.pydata.org/pandas-docs/stable/user_guide/indexing.html#returning-a-view-versus-a-copy\n",
      "  time_serie['Change'] = time_serie['Change'].astype('Int64')\n",
      "C:\\Users\\Miguel Mendes\\AppData\\Local\\Temp\\ipykernel_8516\\2327759639.py:20: SettingWithCopyWarning: \n",
      "A value is trying to be set on a copy of a slice from a DataFrame\n",
      "\n",
      "See the caveats in the documentation: https://pandas.pydata.org/pandas-docs/stable/user_guide/indexing.html#returning-a-view-versus-a-copy\n",
      "  time_serie.drop(columns=['Seller ID', 'Day of Week', 'Last Week', 'Last Month'], inplace=True)\n",
      "C:\\Users\\Miguel Mendes\\AppData\\Local\\Temp\\ipykernel_8516\\2327759639.py:21: SettingWithCopyWarning: \n",
      "A value is trying to be set on a copy of a slice from a DataFrame.\n",
      "Try using .loc[row_indexer,col_indexer] = value instead\n",
      "\n",
      "See the caveats in the documentation: https://pandas.pydata.org/pandas-docs/stable/user_guide/indexing.html#returning-a-view-versus-a-copy\n",
      "  time_serie['Change'] = time_serie['Change'].astype('Int64')\n"
     ]
    },
    {
     "name": "stdout",
     "output_type": "stream",
     "text": [
      "Erro Médio Absoluto (MAE) para Seller ID 100000991: 0.10001114105180023\n",
      "Processando Seller ID: 100000767\n",
      "Erro Médio Absoluto (MAE) para Seller ID 100000767: 0.16377890408039092\n",
      "Processando Seller ID: 100001041\n"
     ]
    },
    {
     "name": "stderr",
     "output_type": "stream",
     "text": [
      "C:\\Users\\Miguel Mendes\\AppData\\Local\\Temp\\ipykernel_8516\\2327759639.py:20: SettingWithCopyWarning: \n",
      "A value is trying to be set on a copy of a slice from a DataFrame\n",
      "\n",
      "See the caveats in the documentation: https://pandas.pydata.org/pandas-docs/stable/user_guide/indexing.html#returning-a-view-versus-a-copy\n",
      "  time_serie.drop(columns=['Seller ID', 'Day of Week', 'Last Week', 'Last Month'], inplace=True)\n",
      "C:\\Users\\Miguel Mendes\\AppData\\Local\\Temp\\ipykernel_8516\\2327759639.py:21: SettingWithCopyWarning: \n",
      "A value is trying to be set on a copy of a slice from a DataFrame.\n",
      "Try using .loc[row_indexer,col_indexer] = value instead\n",
      "\n",
      "See the caveats in the documentation: https://pandas.pydata.org/pandas-docs/stable/user_guide/indexing.html#returning-a-view-versus-a-copy\n",
      "  time_serie['Change'] = time_serie['Change'].astype('Int64')\n",
      "C:\\Users\\Miguel Mendes\\AppData\\Local\\Temp\\ipykernel_8516\\2327759639.py:20: SettingWithCopyWarning: \n",
      "A value is trying to be set on a copy of a slice from a DataFrame\n",
      "\n",
      "See the caveats in the documentation: https://pandas.pydata.org/pandas-docs/stable/user_guide/indexing.html#returning-a-view-versus-a-copy\n",
      "  time_serie.drop(columns=['Seller ID', 'Day of Week', 'Last Week', 'Last Month'], inplace=True)\n",
      "C:\\Users\\Miguel Mendes\\AppData\\Local\\Temp\\ipykernel_8516\\2327759639.py:21: SettingWithCopyWarning: \n",
      "A value is trying to be set on a copy of a slice from a DataFrame.\n",
      "Try using .loc[row_indexer,col_indexer] = value instead\n",
      "\n",
      "See the caveats in the documentation: https://pandas.pydata.org/pandas-docs/stable/user_guide/indexing.html#returning-a-view-versus-a-copy\n",
      "  time_serie['Change'] = time_serie['Change'].astype('Int64')\n"
     ]
    },
    {
     "name": "stdout",
     "output_type": "stream",
     "text": [
      "Erro Médio Absoluto (MAE) para Seller ID 100001041: 0.10001131716708186\n",
      "Processando Seller ID: 100000904\n",
      "Erro Médio Absoluto (MAE) para Seller ID 100000904: 0.11792766079306602\n",
      "Processando Seller ID: 100001997\n"
     ]
    },
    {
     "name": "stderr",
     "output_type": "stream",
     "text": [
      "C:\\Users\\Miguel Mendes\\AppData\\Local\\Temp\\ipykernel_8516\\2327759639.py:20: SettingWithCopyWarning: \n",
      "A value is trying to be set on a copy of a slice from a DataFrame\n",
      "\n",
      "See the caveats in the documentation: https://pandas.pydata.org/pandas-docs/stable/user_guide/indexing.html#returning-a-view-versus-a-copy\n",
      "  time_serie.drop(columns=['Seller ID', 'Day of Week', 'Last Week', 'Last Month'], inplace=True)\n",
      "C:\\Users\\Miguel Mendes\\AppData\\Local\\Temp\\ipykernel_8516\\2327759639.py:21: SettingWithCopyWarning: \n",
      "A value is trying to be set on a copy of a slice from a DataFrame.\n",
      "Try using .loc[row_indexer,col_indexer] = value instead\n",
      "\n",
      "See the caveats in the documentation: https://pandas.pydata.org/pandas-docs/stable/user_guide/indexing.html#returning-a-view-versus-a-copy\n",
      "  time_serie['Change'] = time_serie['Change'].astype('Int64')\n",
      "C:\\Users\\Miguel Mendes\\AppData\\Local\\Temp\\ipykernel_8516\\2327759639.py:20: SettingWithCopyWarning: \n",
      "A value is trying to be set on a copy of a slice from a DataFrame\n",
      "\n",
      "See the caveats in the documentation: https://pandas.pydata.org/pandas-docs/stable/user_guide/indexing.html#returning-a-view-versus-a-copy\n",
      "  time_serie.drop(columns=['Seller ID', 'Day of Week', 'Last Week', 'Last Month'], inplace=True)\n",
      "C:\\Users\\Miguel Mendes\\AppData\\Local\\Temp\\ipykernel_8516\\2327759639.py:21: SettingWithCopyWarning: \n",
      "A value is trying to be set on a copy of a slice from a DataFrame.\n",
      "Try using .loc[row_indexer,col_indexer] = value instead\n",
      "\n",
      "See the caveats in the documentation: https://pandas.pydata.org/pandas-docs/stable/user_guide/indexing.html#returning-a-view-versus-a-copy\n",
      "  time_serie['Change'] = time_serie['Change'].astype('Int64')\n"
     ]
    },
    {
     "name": "stdout",
     "output_type": "stream",
     "text": [
      "Erro Médio Absoluto (MAE) para Seller ID 100001997: 0.10000988621104626\n",
      "Processando Seller ID: 100001132\n",
      "Erro Médio Absoluto (MAE) para Seller ID 100001132: 0.10053141580428929\n",
      "Processando Seller ID: 100001968\n"
     ]
    },
    {
     "name": "stderr",
     "output_type": "stream",
     "text": [
      "C:\\Users\\Miguel Mendes\\AppData\\Local\\Temp\\ipykernel_8516\\2327759639.py:20: SettingWithCopyWarning: \n",
      "A value is trying to be set on a copy of a slice from a DataFrame\n",
      "\n",
      "See the caveats in the documentation: https://pandas.pydata.org/pandas-docs/stable/user_guide/indexing.html#returning-a-view-versus-a-copy\n",
      "  time_serie.drop(columns=['Seller ID', 'Day of Week', 'Last Week', 'Last Month'], inplace=True)\n",
      "C:\\Users\\Miguel Mendes\\AppData\\Local\\Temp\\ipykernel_8516\\2327759639.py:21: SettingWithCopyWarning: \n",
      "A value is trying to be set on a copy of a slice from a DataFrame.\n",
      "Try using .loc[row_indexer,col_indexer] = value instead\n",
      "\n",
      "See the caveats in the documentation: https://pandas.pydata.org/pandas-docs/stable/user_guide/indexing.html#returning-a-view-versus-a-copy\n",
      "  time_serie['Change'] = time_serie['Change'].astype('Int64')\n",
      "C:\\Users\\Miguel Mendes\\AppData\\Local\\Temp\\ipykernel_8516\\2327759639.py:20: SettingWithCopyWarning: \n",
      "A value is trying to be set on a copy of a slice from a DataFrame\n",
      "\n",
      "See the caveats in the documentation: https://pandas.pydata.org/pandas-docs/stable/user_guide/indexing.html#returning-a-view-versus-a-copy\n",
      "  time_serie.drop(columns=['Seller ID', 'Day of Week', 'Last Week', 'Last Month'], inplace=True)\n",
      "C:\\Users\\Miguel Mendes\\AppData\\Local\\Temp\\ipykernel_8516\\2327759639.py:21: SettingWithCopyWarning: \n",
      "A value is trying to be set on a copy of a slice from a DataFrame.\n",
      "Try using .loc[row_indexer,col_indexer] = value instead\n",
      "\n",
      "See the caveats in the documentation: https://pandas.pydata.org/pandas-docs/stable/user_guide/indexing.html#returning-a-view-versus-a-copy\n",
      "  time_serie['Change'] = time_serie['Change'].astype('Int64')\n"
     ]
    },
    {
     "name": "stdout",
     "output_type": "stream",
     "text": [
      "Erro Médio Absoluto (MAE) para Seller ID 100001968: 0.06151246670633555\n",
      "Processando Seller ID: 100000974\n",
      "Erro Médio Absoluto (MAE) para Seller ID 100000974: 0.2042277827858925\n",
      "Processando Seller ID: 100001030\n"
     ]
    },
    {
     "name": "stderr",
     "output_type": "stream",
     "text": [
      "C:\\Users\\Miguel Mendes\\AppData\\Local\\Temp\\ipykernel_8516\\2327759639.py:20: SettingWithCopyWarning: \n",
      "A value is trying to be set on a copy of a slice from a DataFrame\n",
      "\n",
      "See the caveats in the documentation: https://pandas.pydata.org/pandas-docs/stable/user_guide/indexing.html#returning-a-view-versus-a-copy\n",
      "  time_serie.drop(columns=['Seller ID', 'Day of Week', 'Last Week', 'Last Month'], inplace=True)\n",
      "C:\\Users\\Miguel Mendes\\AppData\\Local\\Temp\\ipykernel_8516\\2327759639.py:21: SettingWithCopyWarning: \n",
      "A value is trying to be set on a copy of a slice from a DataFrame.\n",
      "Try using .loc[row_indexer,col_indexer] = value instead\n",
      "\n",
      "See the caveats in the documentation: https://pandas.pydata.org/pandas-docs/stable/user_guide/indexing.html#returning-a-view-versus-a-copy\n",
      "  time_serie['Change'] = time_serie['Change'].astype('Int64')\n",
      "C:\\Users\\Miguel Mendes\\AppData\\Local\\Temp\\ipykernel_8516\\2327759639.py:20: SettingWithCopyWarning: \n",
      "A value is trying to be set on a copy of a slice from a DataFrame\n",
      "\n",
      "See the caveats in the documentation: https://pandas.pydata.org/pandas-docs/stable/user_guide/indexing.html#returning-a-view-versus-a-copy\n",
      "  time_serie.drop(columns=['Seller ID', 'Day of Week', 'Last Week', 'Last Month'], inplace=True)\n",
      "C:\\Users\\Miguel Mendes\\AppData\\Local\\Temp\\ipykernel_8516\\2327759639.py:21: SettingWithCopyWarning: \n",
      "A value is trying to be set on a copy of a slice from a DataFrame.\n",
      "Try using .loc[row_indexer,col_indexer] = value instead\n",
      "\n",
      "See the caveats in the documentation: https://pandas.pydata.org/pandas-docs/stable/user_guide/indexing.html#returning-a-view-versus-a-copy\n",
      "  time_serie['Change'] = time_serie['Change'].astype('Int64')\n"
     ]
    },
    {
     "name": "stdout",
     "output_type": "stream",
     "text": [
      "Erro Médio Absoluto (MAE) para Seller ID 100001030: 0.10313304923474789\n",
      "Processando Seller ID: 100000280\n",
      "Erro Médio Absoluto (MAE) para Seller ID 100000280: 0.0504117358737858\n",
      "Processando Seller ID: 100000093\n"
     ]
    },
    {
     "name": "stderr",
     "output_type": "stream",
     "text": [
      "C:\\Users\\Miguel Mendes\\AppData\\Local\\Temp\\ipykernel_8516\\2327759639.py:20: SettingWithCopyWarning: \n",
      "A value is trying to be set on a copy of a slice from a DataFrame\n",
      "\n",
      "See the caveats in the documentation: https://pandas.pydata.org/pandas-docs/stable/user_guide/indexing.html#returning-a-view-versus-a-copy\n",
      "  time_serie.drop(columns=['Seller ID', 'Day of Week', 'Last Week', 'Last Month'], inplace=True)\n",
      "C:\\Users\\Miguel Mendes\\AppData\\Local\\Temp\\ipykernel_8516\\2327759639.py:21: SettingWithCopyWarning: \n",
      "A value is trying to be set on a copy of a slice from a DataFrame.\n",
      "Try using .loc[row_indexer,col_indexer] = value instead\n",
      "\n",
      "See the caveats in the documentation: https://pandas.pydata.org/pandas-docs/stable/user_guide/indexing.html#returning-a-view-versus-a-copy\n",
      "  time_serie['Change'] = time_serie['Change'].astype('Int64')\n",
      "C:\\Users\\Miguel Mendes\\AppData\\Local\\Temp\\ipykernel_8516\\2327759639.py:20: SettingWithCopyWarning: \n",
      "A value is trying to be set on a copy of a slice from a DataFrame\n",
      "\n",
      "See the caveats in the documentation: https://pandas.pydata.org/pandas-docs/stable/user_guide/indexing.html#returning-a-view-versus-a-copy\n",
      "  time_serie.drop(columns=['Seller ID', 'Day of Week', 'Last Week', 'Last Month'], inplace=True)\n",
      "C:\\Users\\Miguel Mendes\\AppData\\Local\\Temp\\ipykernel_8516\\2327759639.py:21: SettingWithCopyWarning: \n",
      "A value is trying to be set on a copy of a slice from a DataFrame.\n",
      "Try using .loc[row_indexer,col_indexer] = value instead\n",
      "\n",
      "See the caveats in the documentation: https://pandas.pydata.org/pandas-docs/stable/user_guide/indexing.html#returning-a-view-versus-a-copy\n",
      "  time_serie['Change'] = time_serie['Change'].astype('Int64')\n"
     ]
    },
    {
     "name": "stdout",
     "output_type": "stream",
     "text": [
      "Erro Médio Absoluto (MAE) para Seller ID 100000093: 0.050431525782914835\n",
      "Processando Seller ID: 100000097\n",
      "Erro Médio Absoluto (MAE) para Seller ID 100000097: 0.05635407539084554\n",
      "Processando Seller ID: 100000009\n"
     ]
    },
    {
     "name": "stderr",
     "output_type": "stream",
     "text": [
      "C:\\Users\\Miguel Mendes\\AppData\\Local\\Temp\\ipykernel_8516\\2327759639.py:20: SettingWithCopyWarning: \n",
      "A value is trying to be set on a copy of a slice from a DataFrame\n",
      "\n",
      "See the caveats in the documentation: https://pandas.pydata.org/pandas-docs/stable/user_guide/indexing.html#returning-a-view-versus-a-copy\n",
      "  time_serie.drop(columns=['Seller ID', 'Day of Week', 'Last Week', 'Last Month'], inplace=True)\n",
      "C:\\Users\\Miguel Mendes\\AppData\\Local\\Temp\\ipykernel_8516\\2327759639.py:21: SettingWithCopyWarning: \n",
      "A value is trying to be set on a copy of a slice from a DataFrame.\n",
      "Try using .loc[row_indexer,col_indexer] = value instead\n",
      "\n",
      "See the caveats in the documentation: https://pandas.pydata.org/pandas-docs/stable/user_guide/indexing.html#returning-a-view-versus-a-copy\n",
      "  time_serie['Change'] = time_serie['Change'].astype('Int64')\n",
      "C:\\Users\\Miguel Mendes\\AppData\\Local\\Temp\\ipykernel_8516\\2327759639.py:20: SettingWithCopyWarning: \n",
      "A value is trying to be set on a copy of a slice from a DataFrame\n",
      "\n",
      "See the caveats in the documentation: https://pandas.pydata.org/pandas-docs/stable/user_guide/indexing.html#returning-a-view-versus-a-copy\n",
      "  time_serie.drop(columns=['Seller ID', 'Day of Week', 'Last Week', 'Last Month'], inplace=True)\n",
      "C:\\Users\\Miguel Mendes\\AppData\\Local\\Temp\\ipykernel_8516\\2327759639.py:21: SettingWithCopyWarning: \n",
      "A value is trying to be set on a copy of a slice from a DataFrame.\n",
      "Try using .loc[row_indexer,col_indexer] = value instead\n",
      "\n",
      "See the caveats in the documentation: https://pandas.pydata.org/pandas-docs/stable/user_guide/indexing.html#returning-a-view-versus-a-copy\n",
      "  time_serie['Change'] = time_serie['Change'].astype('Int64')\n"
     ]
    },
    {
     "name": "stdout",
     "output_type": "stream",
     "text": [
      "Erro Médio Absoluto (MAE) para Seller ID 100000009: 0.23194627612829208\n",
      "Processando Seller ID: 100000366\n",
      "Erro Médio Absoluto (MAE) para Seller ID 100000366: 0.298655179142952\n",
      "Processando Seller ID: 100000011\n"
     ]
    },
    {
     "name": "stderr",
     "output_type": "stream",
     "text": [
      "C:\\Users\\Miguel Mendes\\AppData\\Local\\Temp\\ipykernel_8516\\2327759639.py:20: SettingWithCopyWarning: \n",
      "A value is trying to be set on a copy of a slice from a DataFrame\n",
      "\n",
      "See the caveats in the documentation: https://pandas.pydata.org/pandas-docs/stable/user_guide/indexing.html#returning-a-view-versus-a-copy\n",
      "  time_serie.drop(columns=['Seller ID', 'Day of Week', 'Last Week', 'Last Month'], inplace=True)\n",
      "C:\\Users\\Miguel Mendes\\AppData\\Local\\Temp\\ipykernel_8516\\2327759639.py:21: SettingWithCopyWarning: \n",
      "A value is trying to be set on a copy of a slice from a DataFrame.\n",
      "Try using .loc[row_indexer,col_indexer] = value instead\n",
      "\n",
      "See the caveats in the documentation: https://pandas.pydata.org/pandas-docs/stable/user_guide/indexing.html#returning-a-view-versus-a-copy\n",
      "  time_serie['Change'] = time_serie['Change'].astype('Int64')\n",
      "C:\\Users\\Miguel Mendes\\AppData\\Local\\Temp\\ipykernel_8516\\2327759639.py:20: SettingWithCopyWarning: \n",
      "A value is trying to be set on a copy of a slice from a DataFrame\n",
      "\n",
      "See the caveats in the documentation: https://pandas.pydata.org/pandas-docs/stable/user_guide/indexing.html#returning-a-view-versus-a-copy\n",
      "  time_serie.drop(columns=['Seller ID', 'Day of Week', 'Last Week', 'Last Month'], inplace=True)\n",
      "C:\\Users\\Miguel Mendes\\AppData\\Local\\Temp\\ipykernel_8516\\2327759639.py:21: SettingWithCopyWarning: \n",
      "A value is trying to be set on a copy of a slice from a DataFrame.\n",
      "Try using .loc[row_indexer,col_indexer] = value instead\n",
      "\n",
      "See the caveats in the documentation: https://pandas.pydata.org/pandas-docs/stable/user_guide/indexing.html#returning-a-view-versus-a-copy\n",
      "  time_serie['Change'] = time_serie['Change'].astype('Int64')\n"
     ]
    },
    {
     "name": "stdout",
     "output_type": "stream",
     "text": [
      "Erro Médio Absoluto (MAE) para Seller ID 100000011: 0.41617379188537595\n",
      "Processando Seller ID: 100000749\n",
      "Erro Médio Absoluto (MAE) para Seller ID 100000749: 0.050745549699058756\n",
      "Processando Seller ID: 100000602\n"
     ]
    },
    {
     "name": "stderr",
     "output_type": "stream",
     "text": [
      "C:\\Users\\Miguel Mendes\\AppData\\Local\\Temp\\ipykernel_8516\\2327759639.py:20: SettingWithCopyWarning: \n",
      "A value is trying to be set on a copy of a slice from a DataFrame\n",
      "\n",
      "See the caveats in the documentation: https://pandas.pydata.org/pandas-docs/stable/user_guide/indexing.html#returning-a-view-versus-a-copy\n",
      "  time_serie.drop(columns=['Seller ID', 'Day of Week', 'Last Week', 'Last Month'], inplace=True)\n",
      "C:\\Users\\Miguel Mendes\\AppData\\Local\\Temp\\ipykernel_8516\\2327759639.py:21: SettingWithCopyWarning: \n",
      "A value is trying to be set on a copy of a slice from a DataFrame.\n",
      "Try using .loc[row_indexer,col_indexer] = value instead\n",
      "\n",
      "See the caveats in the documentation: https://pandas.pydata.org/pandas-docs/stable/user_guide/indexing.html#returning-a-view-versus-a-copy\n",
      "  time_serie['Change'] = time_serie['Change'].astype('Int64')\n",
      "C:\\Users\\Miguel Mendes\\AppData\\Local\\Temp\\ipykernel_8516\\2327759639.py:20: SettingWithCopyWarning: \n",
      "A value is trying to be set on a copy of a slice from a DataFrame\n",
      "\n",
      "See the caveats in the documentation: https://pandas.pydata.org/pandas-docs/stable/user_guide/indexing.html#returning-a-view-versus-a-copy\n",
      "  time_serie.drop(columns=['Seller ID', 'Day of Week', 'Last Week', 'Last Month'], inplace=True)\n",
      "C:\\Users\\Miguel Mendes\\AppData\\Local\\Temp\\ipykernel_8516\\2327759639.py:21: SettingWithCopyWarning: \n",
      "A value is trying to be set on a copy of a slice from a DataFrame.\n",
      "Try using .loc[row_indexer,col_indexer] = value instead\n",
      "\n",
      "See the caveats in the documentation: https://pandas.pydata.org/pandas-docs/stable/user_guide/indexing.html#returning-a-view-versus-a-copy\n",
      "  time_serie['Change'] = time_serie['Change'].astype('Int64')\n"
     ]
    },
    {
     "name": "stdout",
     "output_type": "stream",
     "text": [
      "Erro Médio Absoluto (MAE) para Seller ID 100000602: 0.2848829850554466\n",
      "Processando Seller ID: 100001858\n",
      "Erro Médio Absoluto (MAE) para Seller ID 100001858: 0.06530917640775442\n",
      "Processando Seller ID: 100000794\n"
     ]
    },
    {
     "name": "stderr",
     "output_type": "stream",
     "text": [
      "C:\\Users\\Miguel Mendes\\AppData\\Local\\Temp\\ipykernel_8516\\2327759639.py:20: SettingWithCopyWarning: \n",
      "A value is trying to be set on a copy of a slice from a DataFrame\n",
      "\n",
      "See the caveats in the documentation: https://pandas.pydata.org/pandas-docs/stable/user_guide/indexing.html#returning-a-view-versus-a-copy\n",
      "  time_serie.drop(columns=['Seller ID', 'Day of Week', 'Last Week', 'Last Month'], inplace=True)\n",
      "C:\\Users\\Miguel Mendes\\AppData\\Local\\Temp\\ipykernel_8516\\2327759639.py:21: SettingWithCopyWarning: \n",
      "A value is trying to be set on a copy of a slice from a DataFrame.\n",
      "Try using .loc[row_indexer,col_indexer] = value instead\n",
      "\n",
      "See the caveats in the documentation: https://pandas.pydata.org/pandas-docs/stable/user_guide/indexing.html#returning-a-view-versus-a-copy\n",
      "  time_serie['Change'] = time_serie['Change'].astype('Int64')\n",
      "C:\\Users\\Miguel Mendes\\AppData\\Local\\Temp\\ipykernel_8516\\2327759639.py:20: SettingWithCopyWarning: \n",
      "A value is trying to be set on a copy of a slice from a DataFrame\n",
      "\n",
      "See the caveats in the documentation: https://pandas.pydata.org/pandas-docs/stable/user_guide/indexing.html#returning-a-view-versus-a-copy\n",
      "  time_serie.drop(columns=['Seller ID', 'Day of Week', 'Last Week', 'Last Month'], inplace=True)\n",
      "C:\\Users\\Miguel Mendes\\AppData\\Local\\Temp\\ipykernel_8516\\2327759639.py:21: SettingWithCopyWarning: \n",
      "A value is trying to be set on a copy of a slice from a DataFrame.\n",
      "Try using .loc[row_indexer,col_indexer] = value instead\n",
      "\n",
      "See the caveats in the documentation: https://pandas.pydata.org/pandas-docs/stable/user_guide/indexing.html#returning-a-view-versus-a-copy\n",
      "  time_serie['Change'] = time_serie['Change'].astype('Int64')\n"
     ]
    },
    {
     "name": "stdout",
     "output_type": "stream",
     "text": [
      "Erro Médio Absoluto (MAE) para Seller ID 100000794: 0.06102383248507977\n",
      "Processando Seller ID: 100001865\n",
      "Erro Médio Absoluto (MAE) para Seller ID 100001865: 0.053660694789141414\n",
      "Processando Seller ID: 100001739\n"
     ]
    },
    {
     "name": "stderr",
     "output_type": "stream",
     "text": [
      "C:\\Users\\Miguel Mendes\\AppData\\Local\\Temp\\ipykernel_8516\\2327759639.py:20: SettingWithCopyWarning: \n",
      "A value is trying to be set on a copy of a slice from a DataFrame\n",
      "\n",
      "See the caveats in the documentation: https://pandas.pydata.org/pandas-docs/stable/user_guide/indexing.html#returning-a-view-versus-a-copy\n",
      "  time_serie.drop(columns=['Seller ID', 'Day of Week', 'Last Week', 'Last Month'], inplace=True)\n",
      "C:\\Users\\Miguel Mendes\\AppData\\Local\\Temp\\ipykernel_8516\\2327759639.py:21: SettingWithCopyWarning: \n",
      "A value is trying to be set on a copy of a slice from a DataFrame.\n",
      "Try using .loc[row_indexer,col_indexer] = value instead\n",
      "\n",
      "See the caveats in the documentation: https://pandas.pydata.org/pandas-docs/stable/user_guide/indexing.html#returning-a-view-versus-a-copy\n",
      "  time_serie['Change'] = time_serie['Change'].astype('Int64')\n",
      "C:\\Users\\Miguel Mendes\\AppData\\Local\\Temp\\ipykernel_8516\\2327759639.py:20: SettingWithCopyWarning: \n",
      "A value is trying to be set on a copy of a slice from a DataFrame\n",
      "\n",
      "See the caveats in the documentation: https://pandas.pydata.org/pandas-docs/stable/user_guide/indexing.html#returning-a-view-versus-a-copy\n",
      "  time_serie.drop(columns=['Seller ID', 'Day of Week', 'Last Week', 'Last Month'], inplace=True)\n",
      "C:\\Users\\Miguel Mendes\\AppData\\Local\\Temp\\ipykernel_8516\\2327759639.py:21: SettingWithCopyWarning: \n",
      "A value is trying to be set on a copy of a slice from a DataFrame.\n",
      "Try using .loc[row_indexer,col_indexer] = value instead\n",
      "\n",
      "See the caveats in the documentation: https://pandas.pydata.org/pandas-docs/stable/user_guide/indexing.html#returning-a-view-versus-a-copy\n",
      "  time_serie['Change'] = time_serie['Change'].astype('Int64')\n"
     ]
    },
    {
     "name": "stdout",
     "output_type": "stream",
     "text": [
      "Erro Médio Absoluto (MAE) para Seller ID 100001739: 0.09080497846007347\n",
      "Processando Seller ID: 100001198\n",
      "Erro Médio Absoluto (MAE) para Seller ID 100001198: 0.10650835037231446\n",
      "Processando Seller ID: 100001837\n"
     ]
    },
    {
     "name": "stderr",
     "output_type": "stream",
     "text": [
      "C:\\Users\\Miguel Mendes\\AppData\\Local\\Temp\\ipykernel_8516\\2327759639.py:20: SettingWithCopyWarning: \n",
      "A value is trying to be set on a copy of a slice from a DataFrame\n",
      "\n",
      "See the caveats in the documentation: https://pandas.pydata.org/pandas-docs/stable/user_guide/indexing.html#returning-a-view-versus-a-copy\n",
      "  time_serie.drop(columns=['Seller ID', 'Day of Week', 'Last Week', 'Last Month'], inplace=True)\n",
      "C:\\Users\\Miguel Mendes\\AppData\\Local\\Temp\\ipykernel_8516\\2327759639.py:21: SettingWithCopyWarning: \n",
      "A value is trying to be set on a copy of a slice from a DataFrame.\n",
      "Try using .loc[row_indexer,col_indexer] = value instead\n",
      "\n",
      "See the caveats in the documentation: https://pandas.pydata.org/pandas-docs/stable/user_guide/indexing.html#returning-a-view-versus-a-copy\n",
      "  time_serie['Change'] = time_serie['Change'].astype('Int64')\n",
      "C:\\Users\\Miguel Mendes\\AppData\\Local\\Temp\\ipykernel_8516\\2327759639.py:20: SettingWithCopyWarning: \n",
      "A value is trying to be set on a copy of a slice from a DataFrame\n",
      "\n",
      "See the caveats in the documentation: https://pandas.pydata.org/pandas-docs/stable/user_guide/indexing.html#returning-a-view-versus-a-copy\n",
      "  time_serie.drop(columns=['Seller ID', 'Day of Week', 'Last Week', 'Last Month'], inplace=True)\n",
      "C:\\Users\\Miguel Mendes\\AppData\\Local\\Temp\\ipykernel_8516\\2327759639.py:21: SettingWithCopyWarning: \n",
      "A value is trying to be set on a copy of a slice from a DataFrame.\n",
      "Try using .loc[row_indexer,col_indexer] = value instead\n",
      "\n",
      "See the caveats in the documentation: https://pandas.pydata.org/pandas-docs/stable/user_guide/indexing.html#returning-a-view-versus-a-copy\n",
      "  time_serie['Change'] = time_serie['Change'].astype('Int64')\n"
     ]
    },
    {
     "name": "stdout",
     "output_type": "stream",
     "text": [
      "Erro Médio Absoluto (MAE) para Seller ID 100001837: 0.24249497950077056\n",
      "Processando Seller ID: 100000413\n",
      "Erro Médio Absoluto (MAE) para Seller ID 100000413: 0.17939408719539643\n",
      "Processando Seller ID: 100000077\n"
     ]
    },
    {
     "name": "stderr",
     "output_type": "stream",
     "text": [
      "C:\\Users\\Miguel Mendes\\AppData\\Local\\Temp\\ipykernel_8516\\2327759639.py:20: SettingWithCopyWarning: \n",
      "A value is trying to be set on a copy of a slice from a DataFrame\n",
      "\n",
      "See the caveats in the documentation: https://pandas.pydata.org/pandas-docs/stable/user_guide/indexing.html#returning-a-view-versus-a-copy\n",
      "  time_serie.drop(columns=['Seller ID', 'Day of Week', 'Last Week', 'Last Month'], inplace=True)\n",
      "C:\\Users\\Miguel Mendes\\AppData\\Local\\Temp\\ipykernel_8516\\2327759639.py:21: SettingWithCopyWarning: \n",
      "A value is trying to be set on a copy of a slice from a DataFrame.\n",
      "Try using .loc[row_indexer,col_indexer] = value instead\n",
      "\n",
      "See the caveats in the documentation: https://pandas.pydata.org/pandas-docs/stable/user_guide/indexing.html#returning-a-view-versus-a-copy\n",
      "  time_serie['Change'] = time_serie['Change'].astype('Int64')\n",
      "C:\\Users\\Miguel Mendes\\AppData\\Local\\Temp\\ipykernel_8516\\2327759639.py:20: SettingWithCopyWarning: \n",
      "A value is trying to be set on a copy of a slice from a DataFrame\n",
      "\n",
      "See the caveats in the documentation: https://pandas.pydata.org/pandas-docs/stable/user_guide/indexing.html#returning-a-view-versus-a-copy\n",
      "  time_serie.drop(columns=['Seller ID', 'Day of Week', 'Last Week', 'Last Month'], inplace=True)\n",
      "C:\\Users\\Miguel Mendes\\AppData\\Local\\Temp\\ipykernel_8516\\2327759639.py:21: SettingWithCopyWarning: \n",
      "A value is trying to be set on a copy of a slice from a DataFrame.\n",
      "Try using .loc[row_indexer,col_indexer] = value instead\n",
      "\n",
      "See the caveats in the documentation: https://pandas.pydata.org/pandas-docs/stable/user_guide/indexing.html#returning-a-view-versus-a-copy\n",
      "  time_serie['Change'] = time_serie['Change'].astype('Int64')\n"
     ]
    },
    {
     "name": "stdout",
     "output_type": "stream",
     "text": [
      "Erro Médio Absoluto (MAE) para Seller ID 100000077: 0.11493685021996498\n",
      "Processando Seller ID: 100000005\n",
      "Erro Médio Absoluto (MAE) para Seller ID 100000005: 0.06787325516343116\n",
      "Processando Seller ID: 100002364\n"
     ]
    },
    {
     "name": "stderr",
     "output_type": "stream",
     "text": [
      "C:\\Users\\Miguel Mendes\\AppData\\Local\\Temp\\ipykernel_8516\\2327759639.py:20: SettingWithCopyWarning: \n",
      "A value is trying to be set on a copy of a slice from a DataFrame\n",
      "\n",
      "See the caveats in the documentation: https://pandas.pydata.org/pandas-docs/stable/user_guide/indexing.html#returning-a-view-versus-a-copy\n",
      "  time_serie.drop(columns=['Seller ID', 'Day of Week', 'Last Week', 'Last Month'], inplace=True)\n",
      "C:\\Users\\Miguel Mendes\\AppData\\Local\\Temp\\ipykernel_8516\\2327759639.py:21: SettingWithCopyWarning: \n",
      "A value is trying to be set on a copy of a slice from a DataFrame.\n",
      "Try using .loc[row_indexer,col_indexer] = value instead\n",
      "\n",
      "See the caveats in the documentation: https://pandas.pydata.org/pandas-docs/stable/user_guide/indexing.html#returning-a-view-versus-a-copy\n",
      "  time_serie['Change'] = time_serie['Change'].astype('Int64')\n",
      "C:\\Users\\Miguel Mendes\\AppData\\Local\\Temp\\ipykernel_8516\\2327759639.py:20: SettingWithCopyWarning: \n",
      "A value is trying to be set on a copy of a slice from a DataFrame\n",
      "\n",
      "See the caveats in the documentation: https://pandas.pydata.org/pandas-docs/stable/user_guide/indexing.html#returning-a-view-versus-a-copy\n",
      "  time_serie.drop(columns=['Seller ID', 'Day of Week', 'Last Week', 'Last Month'], inplace=True)\n",
      "C:\\Users\\Miguel Mendes\\AppData\\Local\\Temp\\ipykernel_8516\\2327759639.py:21: SettingWithCopyWarning: \n",
      "A value is trying to be set on a copy of a slice from a DataFrame.\n",
      "Try using .loc[row_indexer,col_indexer] = value instead\n",
      "\n",
      "See the caveats in the documentation: https://pandas.pydata.org/pandas-docs/stable/user_guide/indexing.html#returning-a-view-versus-a-copy\n",
      "  time_serie['Change'] = time_serie['Change'].astype('Int64')\n"
     ]
    },
    {
     "name": "stdout",
     "output_type": "stream",
     "text": [
      "Erro Médio Absoluto (MAE) para Seller ID 100002364: 0.15015194977459032\n",
      "Processando Seller ID: 100000228\n",
      "Erro Médio Absoluto (MAE) para Seller ID 100000228: 0.1110982870683074\n",
      "Processando Seller ID: 100002075\n"
     ]
    },
    {
     "name": "stderr",
     "output_type": "stream",
     "text": [
      "C:\\Users\\Miguel Mendes\\AppData\\Local\\Temp\\ipykernel_8516\\2327759639.py:20: SettingWithCopyWarning: \n",
      "A value is trying to be set on a copy of a slice from a DataFrame\n",
      "\n",
      "See the caveats in the documentation: https://pandas.pydata.org/pandas-docs/stable/user_guide/indexing.html#returning-a-view-versus-a-copy\n",
      "  time_serie.drop(columns=['Seller ID', 'Day of Week', 'Last Week', 'Last Month'], inplace=True)\n",
      "C:\\Users\\Miguel Mendes\\AppData\\Local\\Temp\\ipykernel_8516\\2327759639.py:21: SettingWithCopyWarning: \n",
      "A value is trying to be set on a copy of a slice from a DataFrame.\n",
      "Try using .loc[row_indexer,col_indexer] = value instead\n",
      "\n",
      "See the caveats in the documentation: https://pandas.pydata.org/pandas-docs/stable/user_guide/indexing.html#returning-a-view-versus-a-copy\n",
      "  time_serie['Change'] = time_serie['Change'].astype('Int64')\n",
      "C:\\Users\\Miguel Mendes\\AppData\\Local\\Temp\\ipykernel_8516\\2327759639.py:20: SettingWithCopyWarning: \n",
      "A value is trying to be set on a copy of a slice from a DataFrame\n",
      "\n",
      "See the caveats in the documentation: https://pandas.pydata.org/pandas-docs/stable/user_guide/indexing.html#returning-a-view-versus-a-copy\n",
      "  time_serie.drop(columns=['Seller ID', 'Day of Week', 'Last Week', 'Last Month'], inplace=True)\n",
      "C:\\Users\\Miguel Mendes\\AppData\\Local\\Temp\\ipykernel_8516\\2327759639.py:21: SettingWithCopyWarning: \n",
      "A value is trying to be set on a copy of a slice from a DataFrame.\n",
      "Try using .loc[row_indexer,col_indexer] = value instead\n",
      "\n",
      "See the caveats in the documentation: https://pandas.pydata.org/pandas-docs/stable/user_guide/indexing.html#returning-a-view-versus-a-copy\n",
      "  time_serie['Change'] = time_serie['Change'].astype('Int64')\n"
     ]
    },
    {
     "name": "stdout",
     "output_type": "stream",
     "text": [
      "Erro Médio Absoluto (MAE) para Seller ID 100002075: 0.059333213791251185\n",
      "Processando Seller ID: 100000909\n",
      "Erro Médio Absoluto (MAE) para Seller ID 100000909: 0.13697817102074622\n",
      "Processando Seller ID: 100001123\n"
     ]
    },
    {
     "name": "stderr",
     "output_type": "stream",
     "text": [
      "C:\\Users\\Miguel Mendes\\AppData\\Local\\Temp\\ipykernel_8516\\2327759639.py:20: SettingWithCopyWarning: \n",
      "A value is trying to be set on a copy of a slice from a DataFrame\n",
      "\n",
      "See the caveats in the documentation: https://pandas.pydata.org/pandas-docs/stable/user_guide/indexing.html#returning-a-view-versus-a-copy\n",
      "  time_serie.drop(columns=['Seller ID', 'Day of Week', 'Last Week', 'Last Month'], inplace=True)\n",
      "C:\\Users\\Miguel Mendes\\AppData\\Local\\Temp\\ipykernel_8516\\2327759639.py:21: SettingWithCopyWarning: \n",
      "A value is trying to be set on a copy of a slice from a DataFrame.\n",
      "Try using .loc[row_indexer,col_indexer] = value instead\n",
      "\n",
      "See the caveats in the documentation: https://pandas.pydata.org/pandas-docs/stable/user_guide/indexing.html#returning-a-view-versus-a-copy\n",
      "  time_serie['Change'] = time_serie['Change'].astype('Int64')\n",
      "C:\\Users\\Miguel Mendes\\AppData\\Local\\Temp\\ipykernel_8516\\2327759639.py:20: SettingWithCopyWarning: \n",
      "A value is trying to be set on a copy of a slice from a DataFrame\n",
      "\n",
      "See the caveats in the documentation: https://pandas.pydata.org/pandas-docs/stable/user_guide/indexing.html#returning-a-view-versus-a-copy\n",
      "  time_serie.drop(columns=['Seller ID', 'Day of Week', 'Last Week', 'Last Month'], inplace=True)\n",
      "C:\\Users\\Miguel Mendes\\AppData\\Local\\Temp\\ipykernel_8516\\2327759639.py:21: SettingWithCopyWarning: \n",
      "A value is trying to be set on a copy of a slice from a DataFrame.\n",
      "Try using .loc[row_indexer,col_indexer] = value instead\n",
      "\n",
      "See the caveats in the documentation: https://pandas.pydata.org/pandas-docs/stable/user_guide/indexing.html#returning-a-view-versus-a-copy\n",
      "  time_serie['Change'] = time_serie['Change'].astype('Int64')\n"
     ]
    },
    {
     "name": "stdout",
     "output_type": "stream",
     "text": [
      "Erro Médio Absoluto (MAE) para Seller ID 100001123: 0.05049066650099121\n",
      "Processando Seller ID: 100000953\n",
      "Erro Médio Absoluto (MAE) para Seller ID 100000953: 0.061722319759428504\n",
      "Processando Seller ID: 100000038\n"
     ]
    },
    {
     "name": "stderr",
     "output_type": "stream",
     "text": [
      "C:\\Users\\Miguel Mendes\\AppData\\Local\\Temp\\ipykernel_8516\\2327759639.py:20: SettingWithCopyWarning: \n",
      "A value is trying to be set on a copy of a slice from a DataFrame\n",
      "\n",
      "See the caveats in the documentation: https://pandas.pydata.org/pandas-docs/stable/user_guide/indexing.html#returning-a-view-versus-a-copy\n",
      "  time_serie.drop(columns=['Seller ID', 'Day of Week', 'Last Week', 'Last Month'], inplace=True)\n",
      "C:\\Users\\Miguel Mendes\\AppData\\Local\\Temp\\ipykernel_8516\\2327759639.py:21: SettingWithCopyWarning: \n",
      "A value is trying to be set on a copy of a slice from a DataFrame.\n",
      "Try using .loc[row_indexer,col_indexer] = value instead\n",
      "\n",
      "See the caveats in the documentation: https://pandas.pydata.org/pandas-docs/stable/user_guide/indexing.html#returning-a-view-versus-a-copy\n",
      "  time_serie['Change'] = time_serie['Change'].astype('Int64')\n",
      "C:\\Users\\Miguel Mendes\\AppData\\Local\\Temp\\ipykernel_8516\\2327759639.py:20: SettingWithCopyWarning: \n",
      "A value is trying to be set on a copy of a slice from a DataFrame\n",
      "\n",
      "See the caveats in the documentation: https://pandas.pydata.org/pandas-docs/stable/user_guide/indexing.html#returning-a-view-versus-a-copy\n",
      "  time_serie.drop(columns=['Seller ID', 'Day of Week', 'Last Week', 'Last Month'], inplace=True)\n",
      "C:\\Users\\Miguel Mendes\\AppData\\Local\\Temp\\ipykernel_8516\\2327759639.py:21: SettingWithCopyWarning: \n",
      "A value is trying to be set on a copy of a slice from a DataFrame.\n",
      "Try using .loc[row_indexer,col_indexer] = value instead\n",
      "\n",
      "See the caveats in the documentation: https://pandas.pydata.org/pandas-docs/stable/user_guide/indexing.html#returning-a-view-versus-a-copy\n",
      "  time_serie['Change'] = time_serie['Change'].astype('Int64')\n"
     ]
    },
    {
     "name": "stdout",
     "output_type": "stream",
     "text": [
      "Erro Médio Absoluto (MAE) para Seller ID 100000038: 0.05009330315515399\n",
      "Processando Seller ID: 100000243\n",
      "Erro Médio Absoluto (MAE) para Seller ID 100000243: 0.13222588896751403\n",
      "Processando Seller ID: 100002000\n"
     ]
    },
    {
     "name": "stderr",
     "output_type": "stream",
     "text": [
      "C:\\Users\\Miguel Mendes\\AppData\\Local\\Temp\\ipykernel_8516\\2327759639.py:20: SettingWithCopyWarning: \n",
      "A value is trying to be set on a copy of a slice from a DataFrame\n",
      "\n",
      "See the caveats in the documentation: https://pandas.pydata.org/pandas-docs/stable/user_guide/indexing.html#returning-a-view-versus-a-copy\n",
      "  time_serie.drop(columns=['Seller ID', 'Day of Week', 'Last Week', 'Last Month'], inplace=True)\n",
      "C:\\Users\\Miguel Mendes\\AppData\\Local\\Temp\\ipykernel_8516\\2327759639.py:21: SettingWithCopyWarning: \n",
      "A value is trying to be set on a copy of a slice from a DataFrame.\n",
      "Try using .loc[row_indexer,col_indexer] = value instead\n",
      "\n",
      "See the caveats in the documentation: https://pandas.pydata.org/pandas-docs/stable/user_guide/indexing.html#returning-a-view-versus-a-copy\n",
      "  time_serie['Change'] = time_serie['Change'].astype('Int64')\n",
      "C:\\Users\\Miguel Mendes\\AppData\\Local\\Temp\\ipykernel_8516\\2327759639.py:20: SettingWithCopyWarning: \n",
      "A value is trying to be set on a copy of a slice from a DataFrame\n",
      "\n",
      "See the caveats in the documentation: https://pandas.pydata.org/pandas-docs/stable/user_guide/indexing.html#returning-a-view-versus-a-copy\n",
      "  time_serie.drop(columns=['Seller ID', 'Day of Week', 'Last Week', 'Last Month'], inplace=True)\n",
      "C:\\Users\\Miguel Mendes\\AppData\\Local\\Temp\\ipykernel_8516\\2327759639.py:21: SettingWithCopyWarning: \n",
      "A value is trying to be set on a copy of a slice from a DataFrame.\n",
      "Try using .loc[row_indexer,col_indexer] = value instead\n",
      "\n",
      "See the caveats in the documentation: https://pandas.pydata.org/pandas-docs/stable/user_guide/indexing.html#returning-a-view-versus-a-copy\n",
      "  time_serie['Change'] = time_serie['Change'].astype('Int64')\n"
     ]
    },
    {
     "name": "stdout",
     "output_type": "stream",
     "text": [
      "Erro Médio Absoluto (MAE) para Seller ID 100002000: 0.05000988621104625\n",
      "Processando Seller ID: 100000751\n",
      "Erro Médio Absoluto (MAE) para Seller ID 100000751: 0.05248902197927237\n",
      "Processando Seller ID: 100000104\n"
     ]
    },
    {
     "name": "stderr",
     "output_type": "stream",
     "text": [
      "C:\\Users\\Miguel Mendes\\AppData\\Local\\Temp\\ipykernel_8516\\2327759639.py:20: SettingWithCopyWarning: \n",
      "A value is trying to be set on a copy of a slice from a DataFrame\n",
      "\n",
      "See the caveats in the documentation: https://pandas.pydata.org/pandas-docs/stable/user_guide/indexing.html#returning-a-view-versus-a-copy\n",
      "  time_serie.drop(columns=['Seller ID', 'Day of Week', 'Last Week', 'Last Month'], inplace=True)\n",
      "C:\\Users\\Miguel Mendes\\AppData\\Local\\Temp\\ipykernel_8516\\2327759639.py:21: SettingWithCopyWarning: \n",
      "A value is trying to be set on a copy of a slice from a DataFrame.\n",
      "Try using .loc[row_indexer,col_indexer] = value instead\n",
      "\n",
      "See the caveats in the documentation: https://pandas.pydata.org/pandas-docs/stable/user_guide/indexing.html#returning-a-view-versus-a-copy\n",
      "  time_serie['Change'] = time_serie['Change'].astype('Int64')\n",
      "C:\\Users\\Miguel Mendes\\AppData\\Local\\Temp\\ipykernel_8516\\2327759639.py:20: SettingWithCopyWarning: \n",
      "A value is trying to be set on a copy of a slice from a DataFrame\n",
      "\n",
      "See the caveats in the documentation: https://pandas.pydata.org/pandas-docs/stable/user_guide/indexing.html#returning-a-view-versus-a-copy\n",
      "  time_serie.drop(columns=['Seller ID', 'Day of Week', 'Last Week', 'Last Month'], inplace=True)\n",
      "C:\\Users\\Miguel Mendes\\AppData\\Local\\Temp\\ipykernel_8516\\2327759639.py:21: SettingWithCopyWarning: \n",
      "A value is trying to be set on a copy of a slice from a DataFrame.\n",
      "Try using .loc[row_indexer,col_indexer] = value instead\n",
      "\n",
      "See the caveats in the documentation: https://pandas.pydata.org/pandas-docs/stable/user_guide/indexing.html#returning-a-view-versus-a-copy\n",
      "  time_serie['Change'] = time_serie['Change'].astype('Int64')\n"
     ]
    },
    {
     "name": "stdout",
     "output_type": "stream",
     "text": [
      "Erro Médio Absoluto (MAE) para Seller ID 100000104: 0.05015924160834402\n",
      "Processando Seller ID: 100000263\n",
      "Erro Médio Absoluto (MAE) para Seller ID 100000263: 0.06161126047372818\n",
      "Processando Seller ID: 100000932\n"
     ]
    },
    {
     "name": "stderr",
     "output_type": "stream",
     "text": [
      "C:\\Users\\Miguel Mendes\\AppData\\Local\\Temp\\ipykernel_8516\\2327759639.py:20: SettingWithCopyWarning: \n",
      "A value is trying to be set on a copy of a slice from a DataFrame\n",
      "\n",
      "See the caveats in the documentation: https://pandas.pydata.org/pandas-docs/stable/user_guide/indexing.html#returning-a-view-versus-a-copy\n",
      "  time_serie.drop(columns=['Seller ID', 'Day of Week', 'Last Week', 'Last Month'], inplace=True)\n",
      "C:\\Users\\Miguel Mendes\\AppData\\Local\\Temp\\ipykernel_8516\\2327759639.py:21: SettingWithCopyWarning: \n",
      "A value is trying to be set on a copy of a slice from a DataFrame.\n",
      "Try using .loc[row_indexer,col_indexer] = value instead\n",
      "\n",
      "See the caveats in the documentation: https://pandas.pydata.org/pandas-docs/stable/user_guide/indexing.html#returning-a-view-versus-a-copy\n",
      "  time_serie['Change'] = time_serie['Change'].astype('Int64')\n",
      "C:\\Users\\Miguel Mendes\\AppData\\Local\\Temp\\ipykernel_8516\\2327759639.py:20: SettingWithCopyWarning: \n",
      "A value is trying to be set on a copy of a slice from a DataFrame\n",
      "\n",
      "See the caveats in the documentation: https://pandas.pydata.org/pandas-docs/stable/user_guide/indexing.html#returning-a-view-versus-a-copy\n",
      "  time_serie.drop(columns=['Seller ID', 'Day of Week', 'Last Week', 'Last Month'], inplace=True)\n",
      "C:\\Users\\Miguel Mendes\\AppData\\Local\\Temp\\ipykernel_8516\\2327759639.py:21: SettingWithCopyWarning: \n",
      "A value is trying to be set on a copy of a slice from a DataFrame.\n",
      "Try using .loc[row_indexer,col_indexer] = value instead\n",
      "\n",
      "See the caveats in the documentation: https://pandas.pydata.org/pandas-docs/stable/user_guide/indexing.html#returning-a-view-versus-a-copy\n",
      "  time_serie['Change'] = time_serie['Change'].astype('Int64')\n"
     ]
    },
    {
     "name": "stdout",
     "output_type": "stream",
     "text": [
      "Erro Médio Absoluto (MAE) para Seller ID 100000932: 0.13846111074090003\n",
      "Processando Seller ID: 100001074\n",
      "Erro Médio Absoluto (MAE) para Seller ID 100001074: 0.06474266462028026\n",
      "Processando Seller ID: 100001021\n"
     ]
    },
    {
     "name": "stderr",
     "output_type": "stream",
     "text": [
      "C:\\Users\\Miguel Mendes\\AppData\\Local\\Temp\\ipykernel_8516\\2327759639.py:20: SettingWithCopyWarning: \n",
      "A value is trying to be set on a copy of a slice from a DataFrame\n",
      "\n",
      "See the caveats in the documentation: https://pandas.pydata.org/pandas-docs/stable/user_guide/indexing.html#returning-a-view-versus-a-copy\n",
      "  time_serie.drop(columns=['Seller ID', 'Day of Week', 'Last Week', 'Last Month'], inplace=True)\n",
      "C:\\Users\\Miguel Mendes\\AppData\\Local\\Temp\\ipykernel_8516\\2327759639.py:21: SettingWithCopyWarning: \n",
      "A value is trying to be set on a copy of a slice from a DataFrame.\n",
      "Try using .loc[row_indexer,col_indexer] = value instead\n",
      "\n",
      "See the caveats in the documentation: https://pandas.pydata.org/pandas-docs/stable/user_guide/indexing.html#returning-a-view-versus-a-copy\n",
      "  time_serie['Change'] = time_serie['Change'].astype('Int64')\n",
      "C:\\Users\\Miguel Mendes\\AppData\\Local\\Temp\\ipykernel_8516\\2327759639.py:20: SettingWithCopyWarning: \n",
      "A value is trying to be set on a copy of a slice from a DataFrame\n",
      "\n",
      "See the caveats in the documentation: https://pandas.pydata.org/pandas-docs/stable/user_guide/indexing.html#returning-a-view-versus-a-copy\n",
      "  time_serie.drop(columns=['Seller ID', 'Day of Week', 'Last Week', 'Last Month'], inplace=True)\n",
      "C:\\Users\\Miguel Mendes\\AppData\\Local\\Temp\\ipykernel_8516\\2327759639.py:21: SettingWithCopyWarning: \n",
      "A value is trying to be set on a copy of a slice from a DataFrame.\n",
      "Try using .loc[row_indexer,col_indexer] = value instead\n",
      "\n",
      "See the caveats in the documentation: https://pandas.pydata.org/pandas-docs/stable/user_guide/indexing.html#returning-a-view-versus-a-copy\n",
      "  time_serie['Change'] = time_serie['Change'].astype('Int64')\n"
     ]
    },
    {
     "name": "stdout",
     "output_type": "stream",
     "text": [
      "Erro Médio Absoluto (MAE) para Seller ID 100001021: 0.05005265352774586\n",
      "Processando Seller ID: 100001995\n",
      "Erro Médio Absoluto (MAE) para Seller ID 100001995: 0.12313154190778733\n",
      "Processando Seller ID: 100000335\n"
     ]
    },
    {
     "name": "stderr",
     "output_type": "stream",
     "text": [
      "C:\\Users\\Miguel Mendes\\AppData\\Local\\Temp\\ipykernel_8516\\2327759639.py:20: SettingWithCopyWarning: \n",
      "A value is trying to be set on a copy of a slice from a DataFrame\n",
      "\n",
      "See the caveats in the documentation: https://pandas.pydata.org/pandas-docs/stable/user_guide/indexing.html#returning-a-view-versus-a-copy\n",
      "  time_serie.drop(columns=['Seller ID', 'Day of Week', 'Last Week', 'Last Month'], inplace=True)\n",
      "C:\\Users\\Miguel Mendes\\AppData\\Local\\Temp\\ipykernel_8516\\2327759639.py:21: SettingWithCopyWarning: \n",
      "A value is trying to be set on a copy of a slice from a DataFrame.\n",
      "Try using .loc[row_indexer,col_indexer] = value instead\n",
      "\n",
      "See the caveats in the documentation: https://pandas.pydata.org/pandas-docs/stable/user_guide/indexing.html#returning-a-view-versus-a-copy\n",
      "  time_serie['Change'] = time_serie['Change'].astype('Int64')\n",
      "C:\\Users\\Miguel Mendes\\AppData\\Local\\Temp\\ipykernel_8516\\2327759639.py:20: SettingWithCopyWarning: \n",
      "A value is trying to be set on a copy of a slice from a DataFrame\n",
      "\n",
      "See the caveats in the documentation: https://pandas.pydata.org/pandas-docs/stable/user_guide/indexing.html#returning-a-view-versus-a-copy\n",
      "  time_serie.drop(columns=['Seller ID', 'Day of Week', 'Last Week', 'Last Month'], inplace=True)\n",
      "C:\\Users\\Miguel Mendes\\AppData\\Local\\Temp\\ipykernel_8516\\2327759639.py:21: SettingWithCopyWarning: \n",
      "A value is trying to be set on a copy of a slice from a DataFrame.\n",
      "Try using .loc[row_indexer,col_indexer] = value instead\n",
      "\n",
      "See the caveats in the documentation: https://pandas.pydata.org/pandas-docs/stable/user_guide/indexing.html#returning-a-view-versus-a-copy\n",
      "  time_serie['Change'] = time_serie['Change'].astype('Int64')\n"
     ]
    },
    {
     "name": "stdout",
     "output_type": "stream",
     "text": [
      "Erro Médio Absoluto (MAE) para Seller ID 100000335: 0.05248599541373551\n",
      "Processando Seller ID: 100000621\n",
      "Erro Médio Absoluto (MAE) para Seller ID 100000621: 0.055235004238784316\n",
      "Processando Seller ID: 100001883\n"
     ]
    },
    {
     "name": "stderr",
     "output_type": "stream",
     "text": [
      "C:\\Users\\Miguel Mendes\\AppData\\Local\\Temp\\ipykernel_8516\\2327759639.py:20: SettingWithCopyWarning: \n",
      "A value is trying to be set on a copy of a slice from a DataFrame\n",
      "\n",
      "See the caveats in the documentation: https://pandas.pydata.org/pandas-docs/stable/user_guide/indexing.html#returning-a-view-versus-a-copy\n",
      "  time_serie.drop(columns=['Seller ID', 'Day of Week', 'Last Week', 'Last Month'], inplace=True)\n",
      "C:\\Users\\Miguel Mendes\\AppData\\Local\\Temp\\ipykernel_8516\\2327759639.py:21: SettingWithCopyWarning: \n",
      "A value is trying to be set on a copy of a slice from a DataFrame.\n",
      "Try using .loc[row_indexer,col_indexer] = value instead\n",
      "\n",
      "See the caveats in the documentation: https://pandas.pydata.org/pandas-docs/stable/user_guide/indexing.html#returning-a-view-versus-a-copy\n",
      "  time_serie['Change'] = time_serie['Change'].astype('Int64')\n",
      "C:\\Users\\Miguel Mendes\\AppData\\Local\\Temp\\ipykernel_8516\\2327759639.py:20: SettingWithCopyWarning: \n",
      "A value is trying to be set on a copy of a slice from a DataFrame\n",
      "\n",
      "See the caveats in the documentation: https://pandas.pydata.org/pandas-docs/stable/user_guide/indexing.html#returning-a-view-versus-a-copy\n",
      "  time_serie.drop(columns=['Seller ID', 'Day of Week', 'Last Week', 'Last Month'], inplace=True)\n",
      "C:\\Users\\Miguel Mendes\\AppData\\Local\\Temp\\ipykernel_8516\\2327759639.py:21: SettingWithCopyWarning: \n",
      "A value is trying to be set on a copy of a slice from a DataFrame.\n",
      "Try using .loc[row_indexer,col_indexer] = value instead\n",
      "\n",
      "See the caveats in the documentation: https://pandas.pydata.org/pandas-docs/stable/user_guide/indexing.html#returning-a-view-versus-a-copy\n",
      "  time_serie['Change'] = time_serie['Change'].astype('Int64')\n"
     ]
    },
    {
     "name": "stdout",
     "output_type": "stream",
     "text": [
      "Erro Médio Absoluto (MAE) para Seller ID 100001883: 0.21956767141819\n",
      "Processando Seller ID: 100002097\n",
      "Erro Médio Absoluto (MAE) para Seller ID 100002097: 0.06064104316756129\n",
      "Processando Seller ID: 100000984\n"
     ]
    },
    {
     "name": "stderr",
     "output_type": "stream",
     "text": [
      "C:\\Users\\Miguel Mendes\\AppData\\Local\\Temp\\ipykernel_8516\\2327759639.py:20: SettingWithCopyWarning: \n",
      "A value is trying to be set on a copy of a slice from a DataFrame\n",
      "\n",
      "See the caveats in the documentation: https://pandas.pydata.org/pandas-docs/stable/user_guide/indexing.html#returning-a-view-versus-a-copy\n",
      "  time_serie.drop(columns=['Seller ID', 'Day of Week', 'Last Week', 'Last Month'], inplace=True)\n",
      "C:\\Users\\Miguel Mendes\\AppData\\Local\\Temp\\ipykernel_8516\\2327759639.py:21: SettingWithCopyWarning: \n",
      "A value is trying to be set on a copy of a slice from a DataFrame.\n",
      "Try using .loc[row_indexer,col_indexer] = value instead\n",
      "\n",
      "See the caveats in the documentation: https://pandas.pydata.org/pandas-docs/stable/user_guide/indexing.html#returning-a-view-versus-a-copy\n",
      "  time_serie['Change'] = time_serie['Change'].astype('Int64')\n",
      "C:\\Users\\Miguel Mendes\\AppData\\Local\\Temp\\ipykernel_8516\\2327759639.py:20: SettingWithCopyWarning: \n",
      "A value is trying to be set on a copy of a slice from a DataFrame\n",
      "\n",
      "See the caveats in the documentation: https://pandas.pydata.org/pandas-docs/stable/user_guide/indexing.html#returning-a-view-versus-a-copy\n",
      "  time_serie.drop(columns=['Seller ID', 'Day of Week', 'Last Week', 'Last Month'], inplace=True)\n",
      "C:\\Users\\Miguel Mendes\\AppData\\Local\\Temp\\ipykernel_8516\\2327759639.py:21: SettingWithCopyWarning: \n",
      "A value is trying to be set on a copy of a slice from a DataFrame.\n",
      "Try using .loc[row_indexer,col_indexer] = value instead\n",
      "\n",
      "See the caveats in the documentation: https://pandas.pydata.org/pandas-docs/stable/user_guide/indexing.html#returning-a-view-versus-a-copy\n",
      "  time_serie['Change'] = time_serie['Change'].astype('Int64')\n"
     ]
    },
    {
     "name": "stdout",
     "output_type": "stream",
     "text": [
      "Erro Médio Absoluto (MAE) para Seller ID 100000984: 0.050144702805846465\n",
      "Processando Seller ID: 100001151\n",
      "Erro Médio Absoluto (MAE) para Seller ID 100001151: 0.07660140581429005\n",
      "Processando Seller ID: 100000705\n"
     ]
    },
    {
     "name": "stderr",
     "output_type": "stream",
     "text": [
      "C:\\Users\\Miguel Mendes\\AppData\\Local\\Temp\\ipykernel_8516\\2327759639.py:20: SettingWithCopyWarning: \n",
      "A value is trying to be set on a copy of a slice from a DataFrame\n",
      "\n",
      "See the caveats in the documentation: https://pandas.pydata.org/pandas-docs/stable/user_guide/indexing.html#returning-a-view-versus-a-copy\n",
      "  time_serie.drop(columns=['Seller ID', 'Day of Week', 'Last Week', 'Last Month'], inplace=True)\n",
      "C:\\Users\\Miguel Mendes\\AppData\\Local\\Temp\\ipykernel_8516\\2327759639.py:21: SettingWithCopyWarning: \n",
      "A value is trying to be set on a copy of a slice from a DataFrame.\n",
      "Try using .loc[row_indexer,col_indexer] = value instead\n",
      "\n",
      "See the caveats in the documentation: https://pandas.pydata.org/pandas-docs/stable/user_guide/indexing.html#returning-a-view-versus-a-copy\n",
      "  time_serie['Change'] = time_serie['Change'].astype('Int64')\n",
      "C:\\Users\\Miguel Mendes\\AppData\\Local\\Temp\\ipykernel_8516\\2327759639.py:20: SettingWithCopyWarning: \n",
      "A value is trying to be set on a copy of a slice from a DataFrame\n",
      "\n",
      "See the caveats in the documentation: https://pandas.pydata.org/pandas-docs/stable/user_guide/indexing.html#returning-a-view-versus-a-copy\n",
      "  time_serie.drop(columns=['Seller ID', 'Day of Week', 'Last Week', 'Last Month'], inplace=True)\n",
      "C:\\Users\\Miguel Mendes\\AppData\\Local\\Temp\\ipykernel_8516\\2327759639.py:21: SettingWithCopyWarning: \n",
      "A value is trying to be set on a copy of a slice from a DataFrame.\n",
      "Try using .loc[row_indexer,col_indexer] = value instead\n",
      "\n",
      "See the caveats in the documentation: https://pandas.pydata.org/pandas-docs/stable/user_guide/indexing.html#returning-a-view-versus-a-copy\n",
      "  time_serie['Change'] = time_serie['Change'].astype('Int64')\n"
     ]
    },
    {
     "name": "stdout",
     "output_type": "stream",
     "text": [
      "Erro Médio Absoluto (MAE) para Seller ID 100000705: 0.28485196828842163\n",
      "Processando Seller ID: 100000699\n",
      "Erro Médio Absoluto (MAE) para Seller ID 100000699: 0.10031689106253908\n",
      "Processando Seller ID: 100001095\n"
     ]
    },
    {
     "name": "stderr",
     "output_type": "stream",
     "text": [
      "C:\\Users\\Miguel Mendes\\AppData\\Local\\Temp\\ipykernel_8516\\2327759639.py:20: SettingWithCopyWarning: \n",
      "A value is trying to be set on a copy of a slice from a DataFrame\n",
      "\n",
      "See the caveats in the documentation: https://pandas.pydata.org/pandas-docs/stable/user_guide/indexing.html#returning-a-view-versus-a-copy\n",
      "  time_serie.drop(columns=['Seller ID', 'Day of Week', 'Last Week', 'Last Month'], inplace=True)\n",
      "C:\\Users\\Miguel Mendes\\AppData\\Local\\Temp\\ipykernel_8516\\2327759639.py:21: SettingWithCopyWarning: \n",
      "A value is trying to be set on a copy of a slice from a DataFrame.\n",
      "Try using .loc[row_indexer,col_indexer] = value instead\n",
      "\n",
      "See the caveats in the documentation: https://pandas.pydata.org/pandas-docs/stable/user_guide/indexing.html#returning-a-view-versus-a-copy\n",
      "  time_serie['Change'] = time_serie['Change'].astype('Int64')\n",
      "C:\\Users\\Miguel Mendes\\AppData\\Local\\Temp\\ipykernel_8516\\2327759639.py:20: SettingWithCopyWarning: \n",
      "A value is trying to be set on a copy of a slice from a DataFrame\n",
      "\n",
      "See the caveats in the documentation: https://pandas.pydata.org/pandas-docs/stable/user_guide/indexing.html#returning-a-view-versus-a-copy\n",
      "  time_serie.drop(columns=['Seller ID', 'Day of Week', 'Last Week', 'Last Month'], inplace=True)\n",
      "C:\\Users\\Miguel Mendes\\AppData\\Local\\Temp\\ipykernel_8516\\2327759639.py:21: SettingWithCopyWarning: \n",
      "A value is trying to be set on a copy of a slice from a DataFrame.\n",
      "Try using .loc[row_indexer,col_indexer] = value instead\n",
      "\n",
      "See the caveats in the documentation: https://pandas.pydata.org/pandas-docs/stable/user_guide/indexing.html#returning-a-view-versus-a-copy\n",
      "  time_serie['Change'] = time_serie['Change'].astype('Int64')\n"
     ]
    },
    {
     "name": "stdout",
     "output_type": "stream",
     "text": [
      "Erro Médio Absoluto (MAE) para Seller ID 100001095: 0.06890783943235874\n",
      "Processando Seller ID: 100000165\n",
      "Erro Médio Absoluto (MAE) para Seller ID 100000165: 0.0686083484441042\n",
      "Processando Seller ID: 100000737\n"
     ]
    },
    {
     "name": "stderr",
     "output_type": "stream",
     "text": [
      "C:\\Users\\Miguel Mendes\\AppData\\Local\\Temp\\ipykernel_8516\\2327759639.py:20: SettingWithCopyWarning: \n",
      "A value is trying to be set on a copy of a slice from a DataFrame\n",
      "\n",
      "See the caveats in the documentation: https://pandas.pydata.org/pandas-docs/stable/user_guide/indexing.html#returning-a-view-versus-a-copy\n",
      "  time_serie.drop(columns=['Seller ID', 'Day of Week', 'Last Week', 'Last Month'], inplace=True)\n",
      "C:\\Users\\Miguel Mendes\\AppData\\Local\\Temp\\ipykernel_8516\\2327759639.py:21: SettingWithCopyWarning: \n",
      "A value is trying to be set on a copy of a slice from a DataFrame.\n",
      "Try using .loc[row_indexer,col_indexer] = value instead\n",
      "\n",
      "See the caveats in the documentation: https://pandas.pydata.org/pandas-docs/stable/user_guide/indexing.html#returning-a-view-versus-a-copy\n",
      "  time_serie['Change'] = time_serie['Change'].astype('Int64')\n",
      "C:\\Users\\Miguel Mendes\\AppData\\Local\\Temp\\ipykernel_8516\\2327759639.py:20: SettingWithCopyWarning: \n",
      "A value is trying to be set on a copy of a slice from a DataFrame\n",
      "\n",
      "See the caveats in the documentation: https://pandas.pydata.org/pandas-docs/stable/user_guide/indexing.html#returning-a-view-versus-a-copy\n",
      "  time_serie.drop(columns=['Seller ID', 'Day of Week', 'Last Week', 'Last Month'], inplace=True)\n",
      "C:\\Users\\Miguel Mendes\\AppData\\Local\\Temp\\ipykernel_8516\\2327759639.py:21: SettingWithCopyWarning: \n",
      "A value is trying to be set on a copy of a slice from a DataFrame.\n",
      "Try using .loc[row_indexer,col_indexer] = value instead\n",
      "\n",
      "See the caveats in the documentation: https://pandas.pydata.org/pandas-docs/stable/user_guide/indexing.html#returning-a-view-versus-a-copy\n",
      "  time_serie['Change'] = time_serie['Change'].astype('Int64')\n"
     ]
    },
    {
     "name": "stdout",
     "output_type": "stream",
     "text": [
      "Erro Médio Absoluto (MAE) para Seller ID 100000737: 0.4509329319000244\n",
      "Processando Seller ID: 100000407\n",
      "Erro Médio Absoluto (MAE) para Seller ID 100000407: 0.0866323970258236\n",
      "Processando Seller ID: 100000643\n"
     ]
    },
    {
     "name": "stderr",
     "output_type": "stream",
     "text": [
      "C:\\Users\\Miguel Mendes\\AppData\\Local\\Temp\\ipykernel_8516\\2327759639.py:20: SettingWithCopyWarning: \n",
      "A value is trying to be set on a copy of a slice from a DataFrame\n",
      "\n",
      "See the caveats in the documentation: https://pandas.pydata.org/pandas-docs/stable/user_guide/indexing.html#returning-a-view-versus-a-copy\n",
      "  time_serie.drop(columns=['Seller ID', 'Day of Week', 'Last Week', 'Last Month'], inplace=True)\n",
      "C:\\Users\\Miguel Mendes\\AppData\\Local\\Temp\\ipykernel_8516\\2327759639.py:21: SettingWithCopyWarning: \n",
      "A value is trying to be set on a copy of a slice from a DataFrame.\n",
      "Try using .loc[row_indexer,col_indexer] = value instead\n",
      "\n",
      "See the caveats in the documentation: https://pandas.pydata.org/pandas-docs/stable/user_guide/indexing.html#returning-a-view-versus-a-copy\n",
      "  time_serie['Change'] = time_serie['Change'].astype('Int64')\n",
      "C:\\Users\\Miguel Mendes\\AppData\\Local\\Temp\\ipykernel_8516\\2327759639.py:20: SettingWithCopyWarning: \n",
      "A value is trying to be set on a copy of a slice from a DataFrame\n",
      "\n",
      "See the caveats in the documentation: https://pandas.pydata.org/pandas-docs/stable/user_guide/indexing.html#returning-a-view-versus-a-copy\n",
      "  time_serie.drop(columns=['Seller ID', 'Day of Week', 'Last Week', 'Last Month'], inplace=True)\n",
      "C:\\Users\\Miguel Mendes\\AppData\\Local\\Temp\\ipykernel_8516\\2327759639.py:21: SettingWithCopyWarning: \n",
      "A value is trying to be set on a copy of a slice from a DataFrame.\n",
      "Try using .loc[row_indexer,col_indexer] = value instead\n",
      "\n",
      "See the caveats in the documentation: https://pandas.pydata.org/pandas-docs/stable/user_guide/indexing.html#returning-a-view-versus-a-copy\n",
      "  time_serie['Change'] = time_serie['Change'].astype('Int64')\n",
      "C:\\Users\\Miguel Mendes\\AppData\\Local\\Temp\\ipykernel_8516\\2327759639.py:20: SettingWithCopyWarning: \n",
      "A value is trying to be set on a copy of a slice from a DataFrame\n",
      "\n",
      "See the caveats in the documentation: https://pandas.pydata.org/pandas-docs/stable/user_guide/indexing.html#returning-a-view-versus-a-copy\n",
      "  time_serie.drop(columns=['Seller ID', 'Day of Week', 'Last Week', 'Last Month'], inplace=True)\n",
      "C:\\Users\\Miguel Mendes\\AppData\\Local\\Temp\\ipykernel_8516\\2327759639.py:21: SettingWithCopyWarning: \n",
      "A value is trying to be set on a copy of a slice from a DataFrame.\n",
      "Try using .loc[row_indexer,col_indexer] = value instead\n",
      "\n",
      "See the caveats in the documentation: https://pandas.pydata.org/pandas-docs/stable/user_guide/indexing.html#returning-a-view-versus-a-copy\n",
      "  time_serie['Change'] = time_serie['Change'].astype('Int64')\n"
     ]
    },
    {
     "name": "stdout",
     "output_type": "stream",
     "text": [
      "Erro Médio Absoluto (MAE) para Seller ID 100000643: 0.05073637417517603\n",
      "Processando Seller ID: 100001370\n",
      "Erro Médio Absoluto (MAE) para Seller ID 100001370: 0.16014270819723606\n",
      "Processando Seller ID: 100001249\n"
     ]
    },
    {
     "name": "stderr",
     "output_type": "stream",
     "text": [
      "C:\\Users\\Miguel Mendes\\AppData\\Local\\Temp\\ipykernel_8516\\2327759639.py:20: SettingWithCopyWarning: \n",
      "A value is trying to be set on a copy of a slice from a DataFrame\n",
      "\n",
      "See the caveats in the documentation: https://pandas.pydata.org/pandas-docs/stable/user_guide/indexing.html#returning-a-view-versus-a-copy\n",
      "  time_serie.drop(columns=['Seller ID', 'Day of Week', 'Last Week', 'Last Month'], inplace=True)\n",
      "C:\\Users\\Miguel Mendes\\AppData\\Local\\Temp\\ipykernel_8516\\2327759639.py:21: SettingWithCopyWarning: \n",
      "A value is trying to be set on a copy of a slice from a DataFrame.\n",
      "Try using .loc[row_indexer,col_indexer] = value instead\n",
      "\n",
      "See the caveats in the documentation: https://pandas.pydata.org/pandas-docs/stable/user_guide/indexing.html#returning-a-view-versus-a-copy\n",
      "  time_serie['Change'] = time_serie['Change'].astype('Int64')\n",
      "C:\\Users\\Miguel Mendes\\AppData\\Local\\Temp\\ipykernel_8516\\2327759639.py:20: SettingWithCopyWarning: \n",
      "A value is trying to be set on a copy of a slice from a DataFrame\n",
      "\n",
      "See the caveats in the documentation: https://pandas.pydata.org/pandas-docs/stable/user_guide/indexing.html#returning-a-view-versus-a-copy\n",
      "  time_serie.drop(columns=['Seller ID', 'Day of Week', 'Last Week', 'Last Month'], inplace=True)\n",
      "C:\\Users\\Miguel Mendes\\AppData\\Local\\Temp\\ipykernel_8516\\2327759639.py:21: SettingWithCopyWarning: \n",
      "A value is trying to be set on a copy of a slice from a DataFrame.\n",
      "Try using .loc[row_indexer,col_indexer] = value instead\n",
      "\n",
      "See the caveats in the documentation: https://pandas.pydata.org/pandas-docs/stable/user_guide/indexing.html#returning-a-view-versus-a-copy\n",
      "  time_serie['Change'] = time_serie['Change'].astype('Int64')\n"
     ]
    },
    {
     "name": "stdout",
     "output_type": "stream",
     "text": [
      "Erro Médio Absoluto (MAE) para Seller ID 100001249: 0.050420586729887876\n",
      "Processando Seller ID: 100001363\n",
      "Erro Médio Absoluto (MAE) para Seller ID 100001363: 0.2809696555137634\n",
      "Processando Seller ID: 100001507\n"
     ]
    },
    {
     "name": "stderr",
     "output_type": "stream",
     "text": [
      "C:\\Users\\Miguel Mendes\\AppData\\Local\\Temp\\ipykernel_8516\\2327759639.py:20: SettingWithCopyWarning: \n",
      "A value is trying to be set on a copy of a slice from a DataFrame\n",
      "\n",
      "See the caveats in the documentation: https://pandas.pydata.org/pandas-docs/stable/user_guide/indexing.html#returning-a-view-versus-a-copy\n",
      "  time_serie.drop(columns=['Seller ID', 'Day of Week', 'Last Week', 'Last Month'], inplace=True)\n",
      "C:\\Users\\Miguel Mendes\\AppData\\Local\\Temp\\ipykernel_8516\\2327759639.py:21: SettingWithCopyWarning: \n",
      "A value is trying to be set on a copy of a slice from a DataFrame.\n",
      "Try using .loc[row_indexer,col_indexer] = value instead\n",
      "\n",
      "See the caveats in the documentation: https://pandas.pydata.org/pandas-docs/stable/user_guide/indexing.html#returning-a-view-versus-a-copy\n",
      "  time_serie['Change'] = time_serie['Change'].astype('Int64')\n",
      "C:\\Users\\Miguel Mendes\\AppData\\Local\\Temp\\ipykernel_8516\\2327759639.py:20: SettingWithCopyWarning: \n",
      "A value is trying to be set on a copy of a slice from a DataFrame\n",
      "\n",
      "See the caveats in the documentation: https://pandas.pydata.org/pandas-docs/stable/user_guide/indexing.html#returning-a-view-versus-a-copy\n",
      "  time_serie.drop(columns=['Seller ID', 'Day of Week', 'Last Week', 'Last Month'], inplace=True)\n",
      "C:\\Users\\Miguel Mendes\\AppData\\Local\\Temp\\ipykernel_8516\\2327759639.py:21: SettingWithCopyWarning: \n",
      "A value is trying to be set on a copy of a slice from a DataFrame.\n",
      "Try using .loc[row_indexer,col_indexer] = value instead\n",
      "\n",
      "See the caveats in the documentation: https://pandas.pydata.org/pandas-docs/stable/user_guide/indexing.html#returning-a-view-versus-a-copy\n",
      "  time_serie['Change'] = time_serie['Change'].astype('Int64')\n"
     ]
    },
    {
     "name": "stdout",
     "output_type": "stream",
     "text": [
      "Erro Médio Absoluto (MAE) para Seller ID 100001507: 0.13013059198856353\n",
      "Processando Seller ID: 100001146\n",
      "Erro Médio Absoluto (MAE) para Seller ID 100001146: 0.06021913811564446\n",
      "Processando Seller ID: 100001979\n"
     ]
    },
    {
     "name": "stderr",
     "output_type": "stream",
     "text": [
      "C:\\Users\\Miguel Mendes\\AppData\\Local\\Temp\\ipykernel_8516\\2327759639.py:20: SettingWithCopyWarning: \n",
      "A value is trying to be set on a copy of a slice from a DataFrame\n",
      "\n",
      "See the caveats in the documentation: https://pandas.pydata.org/pandas-docs/stable/user_guide/indexing.html#returning-a-view-versus-a-copy\n",
      "  time_serie.drop(columns=['Seller ID', 'Day of Week', 'Last Week', 'Last Month'], inplace=True)\n",
      "C:\\Users\\Miguel Mendes\\AppData\\Local\\Temp\\ipykernel_8516\\2327759639.py:21: SettingWithCopyWarning: \n",
      "A value is trying to be set on a copy of a slice from a DataFrame.\n",
      "Try using .loc[row_indexer,col_indexer] = value instead\n",
      "\n",
      "See the caveats in the documentation: https://pandas.pydata.org/pandas-docs/stable/user_guide/indexing.html#returning-a-view-versus-a-copy\n",
      "  time_serie['Change'] = time_serie['Change'].astype('Int64')\n",
      "C:\\Users\\Miguel Mendes\\AppData\\Local\\Temp\\ipykernel_8516\\2327759639.py:20: SettingWithCopyWarning: \n",
      "A value is trying to be set on a copy of a slice from a DataFrame\n",
      "\n",
      "See the caveats in the documentation: https://pandas.pydata.org/pandas-docs/stable/user_guide/indexing.html#returning-a-view-versus-a-copy\n",
      "  time_serie.drop(columns=['Seller ID', 'Day of Week', 'Last Week', 'Last Month'], inplace=True)\n",
      "C:\\Users\\Miguel Mendes\\AppData\\Local\\Temp\\ipykernel_8516\\2327759639.py:21: SettingWithCopyWarning: \n",
      "A value is trying to be set on a copy of a slice from a DataFrame.\n",
      "Try using .loc[row_indexer,col_indexer] = value instead\n",
      "\n",
      "See the caveats in the documentation: https://pandas.pydata.org/pandas-docs/stable/user_guide/indexing.html#returning-a-view-versus-a-copy\n",
      "  time_serie['Change'] = time_serie['Change'].astype('Int64')\n"
     ]
    },
    {
     "name": "stdout",
     "output_type": "stream",
     "text": [
      "Erro Médio Absoluto (MAE) para Seller ID 100001979: 0.11452010422945022\n",
      "Processando Seller ID: 100001152\n",
      "Erro Médio Absoluto (MAE) para Seller ID 100001152: 0.050827343785203996\n",
      "Processando Seller ID: 100000987\n"
     ]
    },
    {
     "name": "stderr",
     "output_type": "stream",
     "text": [
      "C:\\Users\\Miguel Mendes\\AppData\\Local\\Temp\\ipykernel_8516\\2327759639.py:20: SettingWithCopyWarning: \n",
      "A value is trying to be set on a copy of a slice from a DataFrame\n",
      "\n",
      "See the caveats in the documentation: https://pandas.pydata.org/pandas-docs/stable/user_guide/indexing.html#returning-a-view-versus-a-copy\n",
      "  time_serie.drop(columns=['Seller ID', 'Day of Week', 'Last Week', 'Last Month'], inplace=True)\n",
      "C:\\Users\\Miguel Mendes\\AppData\\Local\\Temp\\ipykernel_8516\\2327759639.py:21: SettingWithCopyWarning: \n",
      "A value is trying to be set on a copy of a slice from a DataFrame.\n",
      "Try using .loc[row_indexer,col_indexer] = value instead\n",
      "\n",
      "See the caveats in the documentation: https://pandas.pydata.org/pandas-docs/stable/user_guide/indexing.html#returning-a-view-versus-a-copy\n",
      "  time_serie['Change'] = time_serie['Change'].astype('Int64')\n",
      "C:\\Users\\Miguel Mendes\\AppData\\Local\\Temp\\ipykernel_8516\\2327759639.py:20: SettingWithCopyWarning: \n",
      "A value is trying to be set on a copy of a slice from a DataFrame\n",
      "\n",
      "See the caveats in the documentation: https://pandas.pydata.org/pandas-docs/stable/user_guide/indexing.html#returning-a-view-versus-a-copy\n",
      "  time_serie.drop(columns=['Seller ID', 'Day of Week', 'Last Week', 'Last Month'], inplace=True)\n",
      "C:\\Users\\Miguel Mendes\\AppData\\Local\\Temp\\ipykernel_8516\\2327759639.py:21: SettingWithCopyWarning: \n",
      "A value is trying to be set on a copy of a slice from a DataFrame.\n",
      "Try using .loc[row_indexer,col_indexer] = value instead\n",
      "\n",
      "See the caveats in the documentation: https://pandas.pydata.org/pandas-docs/stable/user_guide/indexing.html#returning-a-view-versus-a-copy\n",
      "  time_serie['Change'] = time_serie['Change'].astype('Int64')\n"
     ]
    },
    {
     "name": "stdout",
     "output_type": "stream",
     "text": [
      "Erro Médio Absoluto (MAE) para Seller ID 100000987: 0.06817720010876656\n",
      "Processando Seller ID: 100000774\n",
      "Erro Médio Absoluto (MAE) para Seller ID 100000774: 0.05108691980130971\n",
      "Processando Seller ID: 100001005\n"
     ]
    },
    {
     "name": "stderr",
     "output_type": "stream",
     "text": [
      "C:\\Users\\Miguel Mendes\\AppData\\Local\\Temp\\ipykernel_8516\\2327759639.py:20: SettingWithCopyWarning: \n",
      "A value is trying to be set on a copy of a slice from a DataFrame\n",
      "\n",
      "See the caveats in the documentation: https://pandas.pydata.org/pandas-docs/stable/user_guide/indexing.html#returning-a-view-versus-a-copy\n",
      "  time_serie.drop(columns=['Seller ID', 'Day of Week', 'Last Week', 'Last Month'], inplace=True)\n",
      "C:\\Users\\Miguel Mendes\\AppData\\Local\\Temp\\ipykernel_8516\\2327759639.py:21: SettingWithCopyWarning: \n",
      "A value is trying to be set on a copy of a slice from a DataFrame.\n",
      "Try using .loc[row_indexer,col_indexer] = value instead\n",
      "\n",
      "See the caveats in the documentation: https://pandas.pydata.org/pandas-docs/stable/user_guide/indexing.html#returning-a-view-versus-a-copy\n",
      "  time_serie['Change'] = time_serie['Change'].astype('Int64')\n",
      "C:\\Users\\Miguel Mendes\\AppData\\Local\\Temp\\ipykernel_8516\\2327759639.py:20: SettingWithCopyWarning: \n",
      "A value is trying to be set on a copy of a slice from a DataFrame\n",
      "\n",
      "See the caveats in the documentation: https://pandas.pydata.org/pandas-docs/stable/user_guide/indexing.html#returning-a-view-versus-a-copy\n",
      "  time_serie.drop(columns=['Seller ID', 'Day of Week', 'Last Week', 'Last Month'], inplace=True)\n",
      "C:\\Users\\Miguel Mendes\\AppData\\Local\\Temp\\ipykernel_8516\\2327759639.py:21: SettingWithCopyWarning: \n",
      "A value is trying to be set on a copy of a slice from a DataFrame.\n",
      "Try using .loc[row_indexer,col_indexer] = value instead\n",
      "\n",
      "See the caveats in the documentation: https://pandas.pydata.org/pandas-docs/stable/user_guide/indexing.html#returning-a-view-versus-a-copy\n",
      "  time_serie['Change'] = time_serie['Change'].astype('Int64')\n"
     ]
    },
    {
     "name": "stdout",
     "output_type": "stream",
     "text": [
      "Erro Médio Absoluto (MAE) para Seller ID 100001005: 0.0679407998919487\n",
      "Processando Seller ID: 100000359\n",
      "Erro Médio Absoluto (MAE) para Seller ID 100000359: 0.378525847196579\n",
      "Processando Seller ID: 100001895\n"
     ]
    },
    {
     "name": "stderr",
     "output_type": "stream",
     "text": [
      "C:\\Users\\Miguel Mendes\\AppData\\Local\\Temp\\ipykernel_8516\\2327759639.py:20: SettingWithCopyWarning: \n",
      "A value is trying to be set on a copy of a slice from a DataFrame\n",
      "\n",
      "See the caveats in the documentation: https://pandas.pydata.org/pandas-docs/stable/user_guide/indexing.html#returning-a-view-versus-a-copy\n",
      "  time_serie.drop(columns=['Seller ID', 'Day of Week', 'Last Week', 'Last Month'], inplace=True)\n",
      "C:\\Users\\Miguel Mendes\\AppData\\Local\\Temp\\ipykernel_8516\\2327759639.py:21: SettingWithCopyWarning: \n",
      "A value is trying to be set on a copy of a slice from a DataFrame.\n",
      "Try using .loc[row_indexer,col_indexer] = value instead\n",
      "\n",
      "See the caveats in the documentation: https://pandas.pydata.org/pandas-docs/stable/user_guide/indexing.html#returning-a-view-versus-a-copy\n",
      "  time_serie['Change'] = time_serie['Change'].astype('Int64')\n",
      "C:\\Users\\Miguel Mendes\\AppData\\Local\\Temp\\ipykernel_8516\\2327759639.py:20: SettingWithCopyWarning: \n",
      "A value is trying to be set on a copy of a slice from a DataFrame\n",
      "\n",
      "See the caveats in the documentation: https://pandas.pydata.org/pandas-docs/stable/user_guide/indexing.html#returning-a-view-versus-a-copy\n",
      "  time_serie.drop(columns=['Seller ID', 'Day of Week', 'Last Week', 'Last Month'], inplace=True)\n",
      "C:\\Users\\Miguel Mendes\\AppData\\Local\\Temp\\ipykernel_8516\\2327759639.py:21: SettingWithCopyWarning: \n",
      "A value is trying to be set on a copy of a slice from a DataFrame.\n",
      "Try using .loc[row_indexer,col_indexer] = value instead\n",
      "\n",
      "See the caveats in the documentation: https://pandas.pydata.org/pandas-docs/stable/user_guide/indexing.html#returning-a-view-versus-a-copy\n",
      "  time_serie['Change'] = time_serie['Change'].astype('Int64')\n"
     ]
    },
    {
     "name": "stdout",
     "output_type": "stream",
     "text": [
      "Erro Médio Absoluto (MAE) para Seller ID 100001895: 0.06247316226363182\n",
      "Processando Seller ID: 100001496\n",
      "Erro Médio Absoluto (MAE) para Seller ID 100001496: 0.1103100262582302\n",
      "Processando Seller ID: 100001567\n"
     ]
    },
    {
     "name": "stderr",
     "output_type": "stream",
     "text": [
      "C:\\Users\\Miguel Mendes\\AppData\\Local\\Temp\\ipykernel_8516\\2327759639.py:20: SettingWithCopyWarning: \n",
      "A value is trying to be set on a copy of a slice from a DataFrame\n",
      "\n",
      "See the caveats in the documentation: https://pandas.pydata.org/pandas-docs/stable/user_guide/indexing.html#returning-a-view-versus-a-copy\n",
      "  time_serie.drop(columns=['Seller ID', 'Day of Week', 'Last Week', 'Last Month'], inplace=True)\n",
      "C:\\Users\\Miguel Mendes\\AppData\\Local\\Temp\\ipykernel_8516\\2327759639.py:21: SettingWithCopyWarning: \n",
      "A value is trying to be set on a copy of a slice from a DataFrame.\n",
      "Try using .loc[row_indexer,col_indexer] = value instead\n",
      "\n",
      "See the caveats in the documentation: https://pandas.pydata.org/pandas-docs/stable/user_guide/indexing.html#returning-a-view-versus-a-copy\n",
      "  time_serie['Change'] = time_serie['Change'].astype('Int64')\n",
      "C:\\Users\\Miguel Mendes\\AppData\\Local\\Temp\\ipykernel_8516\\2327759639.py:20: SettingWithCopyWarning: \n",
      "A value is trying to be set on a copy of a slice from a DataFrame\n",
      "\n",
      "See the caveats in the documentation: https://pandas.pydata.org/pandas-docs/stable/user_guide/indexing.html#returning-a-view-versus-a-copy\n",
      "  time_serie.drop(columns=['Seller ID', 'Day of Week', 'Last Week', 'Last Month'], inplace=True)\n",
      "C:\\Users\\Miguel Mendes\\AppData\\Local\\Temp\\ipykernel_8516\\2327759639.py:21: SettingWithCopyWarning: \n",
      "A value is trying to be set on a copy of a slice from a DataFrame.\n",
      "Try using .loc[row_indexer,col_indexer] = value instead\n",
      "\n",
      "See the caveats in the documentation: https://pandas.pydata.org/pandas-docs/stable/user_guide/indexing.html#returning-a-view-versus-a-copy\n",
      "  time_serie['Change'] = time_serie['Change'].astype('Int64')\n"
     ]
    },
    {
     "name": "stdout",
     "output_type": "stream",
     "text": [
      "Erro Médio Absoluto (MAE) para Seller ID 100001567: 0.08906074166297913\n",
      "Processando Seller ID: 100000500\n",
      "Erro Médio Absoluto (MAE) para Seller ID 100000500: 0.09490715265274048\n",
      "Processando Seller ID: 100000905\n"
     ]
    },
    {
     "name": "stderr",
     "output_type": "stream",
     "text": [
      "C:\\Users\\Miguel Mendes\\AppData\\Local\\Temp\\ipykernel_8516\\2327759639.py:20: SettingWithCopyWarning: \n",
      "A value is trying to be set on a copy of a slice from a DataFrame\n",
      "\n",
      "See the caveats in the documentation: https://pandas.pydata.org/pandas-docs/stable/user_guide/indexing.html#returning-a-view-versus-a-copy\n",
      "  time_serie.drop(columns=['Seller ID', 'Day of Week', 'Last Week', 'Last Month'], inplace=True)\n",
      "C:\\Users\\Miguel Mendes\\AppData\\Local\\Temp\\ipykernel_8516\\2327759639.py:21: SettingWithCopyWarning: \n",
      "A value is trying to be set on a copy of a slice from a DataFrame.\n",
      "Try using .loc[row_indexer,col_indexer] = value instead\n",
      "\n",
      "See the caveats in the documentation: https://pandas.pydata.org/pandas-docs/stable/user_guide/indexing.html#returning-a-view-versus-a-copy\n",
      "  time_serie['Change'] = time_serie['Change'].astype('Int64')\n",
      "C:\\Users\\Miguel Mendes\\AppData\\Local\\Temp\\ipykernel_8516\\2327759639.py:20: SettingWithCopyWarning: \n",
      "A value is trying to be set on a copy of a slice from a DataFrame\n",
      "\n",
      "See the caveats in the documentation: https://pandas.pydata.org/pandas-docs/stable/user_guide/indexing.html#returning-a-view-versus-a-copy\n",
      "  time_serie.drop(columns=['Seller ID', 'Day of Week', 'Last Week', 'Last Month'], inplace=True)\n",
      "C:\\Users\\Miguel Mendes\\AppData\\Local\\Temp\\ipykernel_8516\\2327759639.py:21: SettingWithCopyWarning: \n",
      "A value is trying to be set on a copy of a slice from a DataFrame.\n",
      "Try using .loc[row_indexer,col_indexer] = value instead\n",
      "\n",
      "See the caveats in the documentation: https://pandas.pydata.org/pandas-docs/stable/user_guide/indexing.html#returning-a-view-versus-a-copy\n",
      "  time_serie['Change'] = time_serie['Change'].astype('Int64')\n"
     ]
    },
    {
     "name": "stdout",
     "output_type": "stream",
     "text": [
      "Erro Médio Absoluto (MAE) para Seller ID 100000905: 0.13228757083415985\n",
      "Processando Seller ID: 100000481\n",
      "Erro Médio Absoluto (MAE) para Seller ID 100000481: 0.49571122527122496\n",
      "Processando Seller ID: 100000076\n"
     ]
    },
    {
     "name": "stderr",
     "output_type": "stream",
     "text": [
      "C:\\Users\\Miguel Mendes\\AppData\\Local\\Temp\\ipykernel_8516\\2327759639.py:20: SettingWithCopyWarning: \n",
      "A value is trying to be set on a copy of a slice from a DataFrame\n",
      "\n",
      "See the caveats in the documentation: https://pandas.pydata.org/pandas-docs/stable/user_guide/indexing.html#returning-a-view-versus-a-copy\n",
      "  time_serie.drop(columns=['Seller ID', 'Day of Week', 'Last Week', 'Last Month'], inplace=True)\n",
      "C:\\Users\\Miguel Mendes\\AppData\\Local\\Temp\\ipykernel_8516\\2327759639.py:21: SettingWithCopyWarning: \n",
      "A value is trying to be set on a copy of a slice from a DataFrame.\n",
      "Try using .loc[row_indexer,col_indexer] = value instead\n",
      "\n",
      "See the caveats in the documentation: https://pandas.pydata.org/pandas-docs/stable/user_guide/indexing.html#returning-a-view-versus-a-copy\n",
      "  time_serie['Change'] = time_serie['Change'].astype('Int64')\n",
      "C:\\Users\\Miguel Mendes\\AppData\\Local\\Temp\\ipykernel_8516\\2327759639.py:20: SettingWithCopyWarning: \n",
      "A value is trying to be set on a copy of a slice from a DataFrame\n",
      "\n",
      "See the caveats in the documentation: https://pandas.pydata.org/pandas-docs/stable/user_guide/indexing.html#returning-a-view-versus-a-copy\n",
      "  time_serie.drop(columns=['Seller ID', 'Day of Week', 'Last Week', 'Last Month'], inplace=True)\n",
      "C:\\Users\\Miguel Mendes\\AppData\\Local\\Temp\\ipykernel_8516\\2327759639.py:21: SettingWithCopyWarning: \n",
      "A value is trying to be set on a copy of a slice from a DataFrame.\n",
      "Try using .loc[row_indexer,col_indexer] = value instead\n",
      "\n",
      "See the caveats in the documentation: https://pandas.pydata.org/pandas-docs/stable/user_guide/indexing.html#returning-a-view-versus-a-copy\n",
      "  time_serie['Change'] = time_serie['Change'].astype('Int64')\n"
     ]
    },
    {
     "name": "stdout",
     "output_type": "stream",
     "text": [
      "Erro Médio Absoluto (MAE) para Seller ID 100000076: 0.05026454025064595\n",
      "Processando Seller ID: 100000135\n",
      "Erro Médio Absoluto (MAE) para Seller ID 100000135: 0.19549055099487306\n",
      "Processando Seller ID: 100001114\n"
     ]
    },
    {
     "name": "stderr",
     "output_type": "stream",
     "text": [
      "C:\\Users\\Miguel Mendes\\AppData\\Local\\Temp\\ipykernel_8516\\2327759639.py:20: SettingWithCopyWarning: \n",
      "A value is trying to be set on a copy of a slice from a DataFrame\n",
      "\n",
      "See the caveats in the documentation: https://pandas.pydata.org/pandas-docs/stable/user_guide/indexing.html#returning-a-view-versus-a-copy\n",
      "  time_serie.drop(columns=['Seller ID', 'Day of Week', 'Last Week', 'Last Month'], inplace=True)\n",
      "C:\\Users\\Miguel Mendes\\AppData\\Local\\Temp\\ipykernel_8516\\2327759639.py:21: SettingWithCopyWarning: \n",
      "A value is trying to be set on a copy of a slice from a DataFrame.\n",
      "Try using .loc[row_indexer,col_indexer] = value instead\n",
      "\n",
      "See the caveats in the documentation: https://pandas.pydata.org/pandas-docs/stable/user_guide/indexing.html#returning-a-view-versus-a-copy\n",
      "  time_serie['Change'] = time_serie['Change'].astype('Int64')\n",
      "C:\\Users\\Miguel Mendes\\AppData\\Local\\Temp\\ipykernel_8516\\2327759639.py:20: SettingWithCopyWarning: \n",
      "A value is trying to be set on a copy of a slice from a DataFrame\n",
      "\n",
      "See the caveats in the documentation: https://pandas.pydata.org/pandas-docs/stable/user_guide/indexing.html#returning-a-view-versus-a-copy\n",
      "  time_serie.drop(columns=['Seller ID', 'Day of Week', 'Last Week', 'Last Month'], inplace=True)\n",
      "C:\\Users\\Miguel Mendes\\AppData\\Local\\Temp\\ipykernel_8516\\2327759639.py:21: SettingWithCopyWarning: \n",
      "A value is trying to be set on a copy of a slice from a DataFrame.\n",
      "Try using .loc[row_indexer,col_indexer] = value instead\n",
      "\n",
      "See the caveats in the documentation: https://pandas.pydata.org/pandas-docs/stable/user_guide/indexing.html#returning-a-view-versus-a-copy\n",
      "  time_serie['Change'] = time_serie['Change'].astype('Int64')\n"
     ]
    },
    {
     "name": "stdout",
     "output_type": "stream",
     "text": [
      "Erro Médio Absoluto (MAE) para Seller ID 100001114: 0.1412145860493183\n",
      "Processando Seller ID: 100000765\n",
      "Erro Médio Absoluto (MAE) para Seller ID 100000765: 0.052079898025840524\n",
      "Processando Seller ID: 100002266\n"
     ]
    },
    {
     "name": "stderr",
     "output_type": "stream",
     "text": [
      "C:\\Users\\Miguel Mendes\\AppData\\Local\\Temp\\ipykernel_8516\\2327759639.py:20: SettingWithCopyWarning: \n",
      "A value is trying to be set on a copy of a slice from a DataFrame\n",
      "\n",
      "See the caveats in the documentation: https://pandas.pydata.org/pandas-docs/stable/user_guide/indexing.html#returning-a-view-versus-a-copy\n",
      "  time_serie.drop(columns=['Seller ID', 'Day of Week', 'Last Week', 'Last Month'], inplace=True)\n",
      "C:\\Users\\Miguel Mendes\\AppData\\Local\\Temp\\ipykernel_8516\\2327759639.py:21: SettingWithCopyWarning: \n",
      "A value is trying to be set on a copy of a slice from a DataFrame.\n",
      "Try using .loc[row_indexer,col_indexer] = value instead\n",
      "\n",
      "See the caveats in the documentation: https://pandas.pydata.org/pandas-docs/stable/user_guide/indexing.html#returning-a-view-versus-a-copy\n",
      "  time_serie['Change'] = time_serie['Change'].astype('Int64')\n",
      "C:\\Users\\Miguel Mendes\\AppData\\Local\\Temp\\ipykernel_8516\\2327759639.py:20: SettingWithCopyWarning: \n",
      "A value is trying to be set on a copy of a slice from a DataFrame\n",
      "\n",
      "See the caveats in the documentation: https://pandas.pydata.org/pandas-docs/stable/user_guide/indexing.html#returning-a-view-versus-a-copy\n",
      "  time_serie.drop(columns=['Seller ID', 'Day of Week', 'Last Week', 'Last Month'], inplace=True)\n",
      "C:\\Users\\Miguel Mendes\\AppData\\Local\\Temp\\ipykernel_8516\\2327759639.py:21: SettingWithCopyWarning: \n",
      "A value is trying to be set on a copy of a slice from a DataFrame.\n",
      "Try using .loc[row_indexer,col_indexer] = value instead\n",
      "\n",
      "See the caveats in the documentation: https://pandas.pydata.org/pandas-docs/stable/user_guide/indexing.html#returning-a-view-versus-a-copy\n",
      "  time_serie['Change'] = time_serie['Change'].astype('Int64')\n"
     ]
    },
    {
     "name": "stdout",
     "output_type": "stream",
     "text": [
      "Erro Médio Absoluto (MAE) para Seller ID 100002266: 0.1852188766002655\n",
      "Processando Seller ID: 100001599\n",
      "Erro Médio Absoluto (MAE) para Seller ID 100001599: 0.09963634312152862\n",
      "Processando Seller ID: 100000440\n"
     ]
    },
    {
     "name": "stderr",
     "output_type": "stream",
     "text": [
      "C:\\Users\\Miguel Mendes\\AppData\\Local\\Temp\\ipykernel_8516\\2327759639.py:20: SettingWithCopyWarning: \n",
      "A value is trying to be set on a copy of a slice from a DataFrame\n",
      "\n",
      "See the caveats in the documentation: https://pandas.pydata.org/pandas-docs/stable/user_guide/indexing.html#returning-a-view-versus-a-copy\n",
      "  time_serie.drop(columns=['Seller ID', 'Day of Week', 'Last Week', 'Last Month'], inplace=True)\n",
      "C:\\Users\\Miguel Mendes\\AppData\\Local\\Temp\\ipykernel_8516\\2327759639.py:21: SettingWithCopyWarning: \n",
      "A value is trying to be set on a copy of a slice from a DataFrame.\n",
      "Try using .loc[row_indexer,col_indexer] = value instead\n",
      "\n",
      "See the caveats in the documentation: https://pandas.pydata.org/pandas-docs/stable/user_guide/indexing.html#returning-a-view-versus-a-copy\n",
      "  time_serie['Change'] = time_serie['Change'].astype('Int64')\n",
      "C:\\Users\\Miguel Mendes\\AppData\\Local\\Temp\\ipykernel_8516\\2327759639.py:20: SettingWithCopyWarning: \n",
      "A value is trying to be set on a copy of a slice from a DataFrame\n",
      "\n",
      "See the caveats in the documentation: https://pandas.pydata.org/pandas-docs/stable/user_guide/indexing.html#returning-a-view-versus-a-copy\n",
      "  time_serie.drop(columns=['Seller ID', 'Day of Week', 'Last Week', 'Last Month'], inplace=True)\n",
      "C:\\Users\\Miguel Mendes\\AppData\\Local\\Temp\\ipykernel_8516\\2327759639.py:21: SettingWithCopyWarning: \n",
      "A value is trying to be set on a copy of a slice from a DataFrame.\n",
      "Try using .loc[row_indexer,col_indexer] = value instead\n",
      "\n",
      "See the caveats in the documentation: https://pandas.pydata.org/pandas-docs/stable/user_guide/indexing.html#returning-a-view-versus-a-copy\n",
      "  time_serie['Change'] = time_serie['Change'].astype('Int64')\n"
     ]
    },
    {
     "name": "stdout",
     "output_type": "stream",
     "text": [
      "Erro Médio Absoluto (MAE) para Seller ID 100000440: 0.05065438267192803\n",
      "Processando Seller ID: 100000316\n",
      "Erro Médio Absoluto (MAE) para Seller ID 100000316: 0.10438251718878747\n",
      "Processando Seller ID: 100002169\n"
     ]
    },
    {
     "name": "stderr",
     "output_type": "stream",
     "text": [
      "C:\\Users\\Miguel Mendes\\AppData\\Local\\Temp\\ipykernel_8516\\2327759639.py:20: SettingWithCopyWarning: \n",
      "A value is trying to be set on a copy of a slice from a DataFrame\n",
      "\n",
      "See the caveats in the documentation: https://pandas.pydata.org/pandas-docs/stable/user_guide/indexing.html#returning-a-view-versus-a-copy\n",
      "  time_serie.drop(columns=['Seller ID', 'Day of Week', 'Last Week', 'Last Month'], inplace=True)\n",
      "C:\\Users\\Miguel Mendes\\AppData\\Local\\Temp\\ipykernel_8516\\2327759639.py:21: SettingWithCopyWarning: \n",
      "A value is trying to be set on a copy of a slice from a DataFrame.\n",
      "Try using .loc[row_indexer,col_indexer] = value instead\n",
      "\n",
      "See the caveats in the documentation: https://pandas.pydata.org/pandas-docs/stable/user_guide/indexing.html#returning-a-view-versus-a-copy\n",
      "  time_serie['Change'] = time_serie['Change'].astype('Int64')\n",
      "C:\\Users\\Miguel Mendes\\AppData\\Local\\Temp\\ipykernel_8516\\2327759639.py:20: SettingWithCopyWarning: \n",
      "A value is trying to be set on a copy of a slice from a DataFrame\n",
      "\n",
      "See the caveats in the documentation: https://pandas.pydata.org/pandas-docs/stable/user_guide/indexing.html#returning-a-view-versus-a-copy\n",
      "  time_serie.drop(columns=['Seller ID', 'Day of Week', 'Last Week', 'Last Month'], inplace=True)\n",
      "C:\\Users\\Miguel Mendes\\AppData\\Local\\Temp\\ipykernel_8516\\2327759639.py:21: SettingWithCopyWarning: \n",
      "A value is trying to be set on a copy of a slice from a DataFrame.\n",
      "Try using .loc[row_indexer,col_indexer] = value instead\n",
      "\n",
      "See the caveats in the documentation: https://pandas.pydata.org/pandas-docs/stable/user_guide/indexing.html#returning-a-view-versus-a-copy\n",
      "  time_serie['Change'] = time_serie['Change'].astype('Int64')\n"
     ]
    },
    {
     "name": "stdout",
     "output_type": "stream",
     "text": [
      "Erro Médio Absoluto (MAE) para Seller ID 100002169: 0.26973116397857666\n",
      "Processando Seller ID: 100001996\n",
      "Erro Médio Absoluto (MAE) para Seller ID 100001996: 0.07199128456413746\n",
      "Processando Seller ID: 100000788\n"
     ]
    },
    {
     "name": "stderr",
     "output_type": "stream",
     "text": [
      "C:\\Users\\Miguel Mendes\\AppData\\Local\\Temp\\ipykernel_8516\\2327759639.py:20: SettingWithCopyWarning: \n",
      "A value is trying to be set on a copy of a slice from a DataFrame\n",
      "\n",
      "See the caveats in the documentation: https://pandas.pydata.org/pandas-docs/stable/user_guide/indexing.html#returning-a-view-versus-a-copy\n",
      "  time_serie.drop(columns=['Seller ID', 'Day of Week', 'Last Week', 'Last Month'], inplace=True)\n",
      "C:\\Users\\Miguel Mendes\\AppData\\Local\\Temp\\ipykernel_8516\\2327759639.py:21: SettingWithCopyWarning: \n",
      "A value is trying to be set on a copy of a slice from a DataFrame.\n",
      "Try using .loc[row_indexer,col_indexer] = value instead\n",
      "\n",
      "See the caveats in the documentation: https://pandas.pydata.org/pandas-docs/stable/user_guide/indexing.html#returning-a-view-versus-a-copy\n",
      "  time_serie['Change'] = time_serie['Change'].astype('Int64')\n",
      "C:\\Users\\Miguel Mendes\\AppData\\Local\\Temp\\ipykernel_8516\\2327759639.py:20: SettingWithCopyWarning: \n",
      "A value is trying to be set on a copy of a slice from a DataFrame\n",
      "\n",
      "See the caveats in the documentation: https://pandas.pydata.org/pandas-docs/stable/user_guide/indexing.html#returning-a-view-versus-a-copy\n",
      "  time_serie.drop(columns=['Seller ID', 'Day of Week', 'Last Week', 'Last Month'], inplace=True)\n",
      "C:\\Users\\Miguel Mendes\\AppData\\Local\\Temp\\ipykernel_8516\\2327759639.py:21: SettingWithCopyWarning: \n",
      "A value is trying to be set on a copy of a slice from a DataFrame.\n",
      "Try using .loc[row_indexer,col_indexer] = value instead\n",
      "\n",
      "See the caveats in the documentation: https://pandas.pydata.org/pandas-docs/stable/user_guide/indexing.html#returning-a-view-versus-a-copy\n",
      "  time_serie['Change'] = time_serie['Change'].astype('Int64')\n"
     ]
    },
    {
     "name": "stdout",
     "output_type": "stream",
     "text": [
      "Erro Médio Absoluto (MAE) para Seller ID 100000788: 0.06214476861059666\n",
      "Processando Seller ID: 100000898\n",
      "Erro Médio Absoluto (MAE) para Seller ID 100000898: 0.10000768537720432\n",
      "Processando Seller ID: 100000354\n"
     ]
    },
    {
     "name": "stderr",
     "output_type": "stream",
     "text": [
      "C:\\Users\\Miguel Mendes\\AppData\\Local\\Temp\\ipykernel_8516\\2327759639.py:20: SettingWithCopyWarning: \n",
      "A value is trying to be set on a copy of a slice from a DataFrame\n",
      "\n",
      "See the caveats in the documentation: https://pandas.pydata.org/pandas-docs/stable/user_guide/indexing.html#returning-a-view-versus-a-copy\n",
      "  time_serie.drop(columns=['Seller ID', 'Day of Week', 'Last Week', 'Last Month'], inplace=True)\n",
      "C:\\Users\\Miguel Mendes\\AppData\\Local\\Temp\\ipykernel_8516\\2327759639.py:21: SettingWithCopyWarning: \n",
      "A value is trying to be set on a copy of a slice from a DataFrame.\n",
      "Try using .loc[row_indexer,col_indexer] = value instead\n",
      "\n",
      "See the caveats in the documentation: https://pandas.pydata.org/pandas-docs/stable/user_guide/indexing.html#returning-a-view-versus-a-copy\n",
      "  time_serie['Change'] = time_serie['Change'].astype('Int64')\n",
      "C:\\Users\\Miguel Mendes\\AppData\\Local\\Temp\\ipykernel_8516\\2327759639.py:20: SettingWithCopyWarning: \n",
      "A value is trying to be set on a copy of a slice from a DataFrame\n",
      "\n",
      "See the caveats in the documentation: https://pandas.pydata.org/pandas-docs/stable/user_guide/indexing.html#returning-a-view-versus-a-copy\n",
      "  time_serie.drop(columns=['Seller ID', 'Day of Week', 'Last Week', 'Last Month'], inplace=True)\n",
      "C:\\Users\\Miguel Mendes\\AppData\\Local\\Temp\\ipykernel_8516\\2327759639.py:21: SettingWithCopyWarning: \n",
      "A value is trying to be set on a copy of a slice from a DataFrame.\n",
      "Try using .loc[row_indexer,col_indexer] = value instead\n",
      "\n",
      "See the caveats in the documentation: https://pandas.pydata.org/pandas-docs/stable/user_guide/indexing.html#returning-a-view-versus-a-copy\n",
      "  time_serie['Change'] = time_serie['Change'].astype('Int64')\n"
     ]
    },
    {
     "name": "stdout",
     "output_type": "stream",
     "text": [
      "Erro Médio Absoluto (MAE) para Seller ID 100000354: 0.05096938072238118\n",
      "Processando Seller ID: 100001485\n",
      "Erro Médio Absoluto (MAE) para Seller ID 100001485: 0.19417522549629213\n",
      "Processando Seller ID: 100001924\n"
     ]
    },
    {
     "name": "stderr",
     "output_type": "stream",
     "text": [
      "C:\\Users\\Miguel Mendes\\AppData\\Local\\Temp\\ipykernel_8516\\2327759639.py:20: SettingWithCopyWarning: \n",
      "A value is trying to be set on a copy of a slice from a DataFrame\n",
      "\n",
      "See the caveats in the documentation: https://pandas.pydata.org/pandas-docs/stable/user_guide/indexing.html#returning-a-view-versus-a-copy\n",
      "  time_serie.drop(columns=['Seller ID', 'Day of Week', 'Last Week', 'Last Month'], inplace=True)\n",
      "C:\\Users\\Miguel Mendes\\AppData\\Local\\Temp\\ipykernel_8516\\2327759639.py:21: SettingWithCopyWarning: \n",
      "A value is trying to be set on a copy of a slice from a DataFrame.\n",
      "Try using .loc[row_indexer,col_indexer] = value instead\n",
      "\n",
      "See the caveats in the documentation: https://pandas.pydata.org/pandas-docs/stable/user_guide/indexing.html#returning-a-view-versus-a-copy\n",
      "  time_serie['Change'] = time_serie['Change'].astype('Int64')\n",
      "C:\\Users\\Miguel Mendes\\AppData\\Local\\Temp\\ipykernel_8516\\2327759639.py:20: SettingWithCopyWarning: \n",
      "A value is trying to be set on a copy of a slice from a DataFrame\n",
      "\n",
      "See the caveats in the documentation: https://pandas.pydata.org/pandas-docs/stable/user_guide/indexing.html#returning-a-view-versus-a-copy\n",
      "  time_serie.drop(columns=['Seller ID', 'Day of Week', 'Last Week', 'Last Month'], inplace=True)\n",
      "C:\\Users\\Miguel Mendes\\AppData\\Local\\Temp\\ipykernel_8516\\2327759639.py:21: SettingWithCopyWarning: \n",
      "A value is trying to be set on a copy of a slice from a DataFrame.\n",
      "Try using .loc[row_indexer,col_indexer] = value instead\n",
      "\n",
      "See the caveats in the documentation: https://pandas.pydata.org/pandas-docs/stable/user_guide/indexing.html#returning-a-view-versus-a-copy\n",
      "  time_serie['Change'] = time_serie['Change'].astype('Int64')\n"
     ]
    },
    {
     "name": "stdout",
     "output_type": "stream",
     "text": [
      "Erro Médio Absoluto (MAE) para Seller ID 100001924: 0.050520639179740104\n",
      "Processando Seller ID: 100000716\n",
      "Erro Médio Absoluto (MAE) para Seller ID 100000716: 0.050117441457405223\n",
      "Processando Seller ID: 100001306\n"
     ]
    },
    {
     "name": "stderr",
     "output_type": "stream",
     "text": [
      "C:\\Users\\Miguel Mendes\\AppData\\Local\\Temp\\ipykernel_8516\\2327759639.py:20: SettingWithCopyWarning: \n",
      "A value is trying to be set on a copy of a slice from a DataFrame\n",
      "\n",
      "See the caveats in the documentation: https://pandas.pydata.org/pandas-docs/stable/user_guide/indexing.html#returning-a-view-versus-a-copy\n",
      "  time_serie.drop(columns=['Seller ID', 'Day of Week', 'Last Week', 'Last Month'], inplace=True)\n",
      "C:\\Users\\Miguel Mendes\\AppData\\Local\\Temp\\ipykernel_8516\\2327759639.py:21: SettingWithCopyWarning: \n",
      "A value is trying to be set on a copy of a slice from a DataFrame.\n",
      "Try using .loc[row_indexer,col_indexer] = value instead\n",
      "\n",
      "See the caveats in the documentation: https://pandas.pydata.org/pandas-docs/stable/user_guide/indexing.html#returning-a-view-versus-a-copy\n",
      "  time_serie['Change'] = time_serie['Change'].astype('Int64')\n",
      "C:\\Users\\Miguel Mendes\\AppData\\Local\\Temp\\ipykernel_8516\\2327759639.py:20: SettingWithCopyWarning: \n",
      "A value is trying to be set on a copy of a slice from a DataFrame\n",
      "\n",
      "See the caveats in the documentation: https://pandas.pydata.org/pandas-docs/stable/user_guide/indexing.html#returning-a-view-versus-a-copy\n",
      "  time_serie.drop(columns=['Seller ID', 'Day of Week', 'Last Week', 'Last Month'], inplace=True)\n",
      "C:\\Users\\Miguel Mendes\\AppData\\Local\\Temp\\ipykernel_8516\\2327759639.py:21: SettingWithCopyWarning: \n",
      "A value is trying to be set on a copy of a slice from a DataFrame.\n",
      "Try using .loc[row_indexer,col_indexer] = value instead\n",
      "\n",
      "See the caveats in the documentation: https://pandas.pydata.org/pandas-docs/stable/user_guide/indexing.html#returning-a-view-versus-a-copy\n",
      "  time_serie['Change'] = time_serie['Change'].astype('Int64')\n"
     ]
    },
    {
     "name": "stdout",
     "output_type": "stream",
     "text": [
      "Erro Médio Absoluto (MAE) para Seller ID 100001306: 0.05539389392361045\n",
      "Processando Seller ID: 100000588\n",
      "Erro Médio Absoluto (MAE) para Seller ID 100000588: 0.050436945963883775\n",
      "Processando Seller ID: 100001089\n"
     ]
    },
    {
     "name": "stderr",
     "output_type": "stream",
     "text": [
      "C:\\Users\\Miguel Mendes\\AppData\\Local\\Temp\\ipykernel_8516\\2327759639.py:20: SettingWithCopyWarning: \n",
      "A value is trying to be set on a copy of a slice from a DataFrame\n",
      "\n",
      "See the caveats in the documentation: https://pandas.pydata.org/pandas-docs/stable/user_guide/indexing.html#returning-a-view-versus-a-copy\n",
      "  time_serie.drop(columns=['Seller ID', 'Day of Week', 'Last Week', 'Last Month'], inplace=True)\n",
      "C:\\Users\\Miguel Mendes\\AppData\\Local\\Temp\\ipykernel_8516\\2327759639.py:21: SettingWithCopyWarning: \n",
      "A value is trying to be set on a copy of a slice from a DataFrame.\n",
      "Try using .loc[row_indexer,col_indexer] = value instead\n",
      "\n",
      "See the caveats in the documentation: https://pandas.pydata.org/pandas-docs/stable/user_guide/indexing.html#returning-a-view-versus-a-copy\n",
      "  time_serie['Change'] = time_serie['Change'].astype('Int64')\n",
      "C:\\Users\\Miguel Mendes\\AppData\\Local\\Temp\\ipykernel_8516\\2327759639.py:20: SettingWithCopyWarning: \n",
      "A value is trying to be set on a copy of a slice from a DataFrame\n",
      "\n",
      "See the caveats in the documentation: https://pandas.pydata.org/pandas-docs/stable/user_guide/indexing.html#returning-a-view-versus-a-copy\n",
      "  time_serie.drop(columns=['Seller ID', 'Day of Week', 'Last Week', 'Last Month'], inplace=True)\n",
      "C:\\Users\\Miguel Mendes\\AppData\\Local\\Temp\\ipykernel_8516\\2327759639.py:21: SettingWithCopyWarning: \n",
      "A value is trying to be set on a copy of a slice from a DataFrame.\n",
      "Try using .loc[row_indexer,col_indexer] = value instead\n",
      "\n",
      "See the caveats in the documentation: https://pandas.pydata.org/pandas-docs/stable/user_guide/indexing.html#returning-a-view-versus-a-copy\n",
      "  time_serie['Change'] = time_serie['Change'].astype('Int64')\n"
     ]
    },
    {
     "name": "stdout",
     "output_type": "stream",
     "text": [
      "Erro Médio Absoluto (MAE) para Seller ID 100001089: 0.05509148230776191\n",
      "Processando Seller ID: 100001978\n",
      "Erro Médio Absoluto (MAE) para Seller ID 100001978: 0.08041668273508548\n",
      "Processando Seller ID: 100002071\n"
     ]
    },
    {
     "name": "stderr",
     "output_type": "stream",
     "text": [
      "C:\\Users\\Miguel Mendes\\AppData\\Local\\Temp\\ipykernel_8516\\2327759639.py:20: SettingWithCopyWarning: \n",
      "A value is trying to be set on a copy of a slice from a DataFrame\n",
      "\n",
      "See the caveats in the documentation: https://pandas.pydata.org/pandas-docs/stable/user_guide/indexing.html#returning-a-view-versus-a-copy\n",
      "  time_serie.drop(columns=['Seller ID', 'Day of Week', 'Last Week', 'Last Month'], inplace=True)\n",
      "C:\\Users\\Miguel Mendes\\AppData\\Local\\Temp\\ipykernel_8516\\2327759639.py:21: SettingWithCopyWarning: \n",
      "A value is trying to be set on a copy of a slice from a DataFrame.\n",
      "Try using .loc[row_indexer,col_indexer] = value instead\n",
      "\n",
      "See the caveats in the documentation: https://pandas.pydata.org/pandas-docs/stable/user_guide/indexing.html#returning-a-view-versus-a-copy\n",
      "  time_serie['Change'] = time_serie['Change'].astype('Int64')\n"
     ]
    },
    {
     "name": "stdout",
     "output_type": "stream",
     "text": [
      "Erro Médio Absoluto (MAE) para Seller ID 100002071: 0.11705993935465812\n",
      "Processando Seller ID: 100001254\n",
      "Erro Médio Absoluto (MAE) para Seller ID 100001254: 0.23842356055974961\n",
      "Processando Seller ID: 100000814\n"
     ]
    },
    {
     "name": "stderr",
     "output_type": "stream",
     "text": [
      "C:\\Users\\Miguel Mendes\\AppData\\Local\\Temp\\ipykernel_8516\\2327759639.py:20: SettingWithCopyWarning: \n",
      "A value is trying to be set on a copy of a slice from a DataFrame\n",
      "\n",
      "See the caveats in the documentation: https://pandas.pydata.org/pandas-docs/stable/user_guide/indexing.html#returning-a-view-versus-a-copy\n",
      "  time_serie.drop(columns=['Seller ID', 'Day of Week', 'Last Week', 'Last Month'], inplace=True)\n",
      "C:\\Users\\Miguel Mendes\\AppData\\Local\\Temp\\ipykernel_8516\\2327759639.py:21: SettingWithCopyWarning: \n",
      "A value is trying to be set on a copy of a slice from a DataFrame.\n",
      "Try using .loc[row_indexer,col_indexer] = value instead\n",
      "\n",
      "See the caveats in the documentation: https://pandas.pydata.org/pandas-docs/stable/user_guide/indexing.html#returning-a-view-versus-a-copy\n",
      "  time_serie['Change'] = time_serie['Change'].astype('Int64')\n",
      "C:\\Users\\Miguel Mendes\\AppData\\Local\\Temp\\ipykernel_8516\\2327759639.py:20: SettingWithCopyWarning: \n",
      "A value is trying to be set on a copy of a slice from a DataFrame\n",
      "\n",
      "See the caveats in the documentation: https://pandas.pydata.org/pandas-docs/stable/user_guide/indexing.html#returning-a-view-versus-a-copy\n",
      "  time_serie.drop(columns=['Seller ID', 'Day of Week', 'Last Week', 'Last Month'], inplace=True)\n",
      "C:\\Users\\Miguel Mendes\\AppData\\Local\\Temp\\ipykernel_8516\\2327759639.py:21: SettingWithCopyWarning: \n",
      "A value is trying to be set on a copy of a slice from a DataFrame.\n",
      "Try using .loc[row_indexer,col_indexer] = value instead\n",
      "\n",
      "See the caveats in the documentation: https://pandas.pydata.org/pandas-docs/stable/user_guide/indexing.html#returning-a-view-versus-a-copy\n",
      "  time_serie['Change'] = time_serie['Change'].astype('Int64')\n"
     ]
    },
    {
     "name": "stdout",
     "output_type": "stream",
     "text": [
      "Erro Médio Absoluto (MAE) para Seller ID 100000814: 0.23388868868350982\n",
      "Processando Seller ID: 100001472\n",
      "Erro Médio Absoluto (MAE) para Seller ID 100001472: 0.07715258691459895\n",
      "Processando Seller ID: 100001391\n"
     ]
    },
    {
     "name": "stderr",
     "output_type": "stream",
     "text": [
      "C:\\Users\\Miguel Mendes\\AppData\\Local\\Temp\\ipykernel_8516\\2327759639.py:20: SettingWithCopyWarning: \n",
      "A value is trying to be set on a copy of a slice from a DataFrame\n",
      "\n",
      "See the caveats in the documentation: https://pandas.pydata.org/pandas-docs/stable/user_guide/indexing.html#returning-a-view-versus-a-copy\n",
      "  time_serie.drop(columns=['Seller ID', 'Day of Week', 'Last Week', 'Last Month'], inplace=True)\n",
      "C:\\Users\\Miguel Mendes\\AppData\\Local\\Temp\\ipykernel_8516\\2327759639.py:21: SettingWithCopyWarning: \n",
      "A value is trying to be set on a copy of a slice from a DataFrame.\n",
      "Try using .loc[row_indexer,col_indexer] = value instead\n",
      "\n",
      "See the caveats in the documentation: https://pandas.pydata.org/pandas-docs/stable/user_guide/indexing.html#returning-a-view-versus-a-copy\n",
      "  time_serie['Change'] = time_serie['Change'].astype('Int64')\n",
      "C:\\Users\\Miguel Mendes\\AppData\\Local\\Temp\\ipykernel_8516\\2327759639.py:20: SettingWithCopyWarning: \n",
      "A value is trying to be set on a copy of a slice from a DataFrame\n",
      "\n",
      "See the caveats in the documentation: https://pandas.pydata.org/pandas-docs/stable/user_guide/indexing.html#returning-a-view-versus-a-copy\n",
      "  time_serie.drop(columns=['Seller ID', 'Day of Week', 'Last Week', 'Last Month'], inplace=True)\n",
      "C:\\Users\\Miguel Mendes\\AppData\\Local\\Temp\\ipykernel_8516\\2327759639.py:21: SettingWithCopyWarning: \n",
      "A value is trying to be set on a copy of a slice from a DataFrame.\n",
      "Try using .loc[row_indexer,col_indexer] = value instead\n",
      "\n",
      "See the caveats in the documentation: https://pandas.pydata.org/pandas-docs/stable/user_guide/indexing.html#returning-a-view-versus-a-copy\n",
      "  time_serie['Change'] = time_serie['Change'].astype('Int64')\n"
     ]
    },
    {
     "name": "stdout",
     "output_type": "stream",
     "text": [
      "Erro Médio Absoluto (MAE) para Seller ID 100001391: 0.12933970391750335\n",
      "Processando Seller ID: 100000008\n"
     ]
    },
    {
     "name": "stderr",
     "output_type": "stream",
     "text": [
      "C:\\Users\\Miguel Mendes\\AppData\\Local\\Temp\\ipykernel_8516\\2327759639.py:20: SettingWithCopyWarning: \n",
      "A value is trying to be set on a copy of a slice from a DataFrame\n",
      "\n",
      "See the caveats in the documentation: https://pandas.pydata.org/pandas-docs/stable/user_guide/indexing.html#returning-a-view-versus-a-copy\n",
      "  time_serie.drop(columns=['Seller ID', 'Day of Week', 'Last Week', 'Last Month'], inplace=True)\n",
      "C:\\Users\\Miguel Mendes\\AppData\\Local\\Temp\\ipykernel_8516\\2327759639.py:21: SettingWithCopyWarning: \n",
      "A value is trying to be set on a copy of a slice from a DataFrame.\n",
      "Try using .loc[row_indexer,col_indexer] = value instead\n",
      "\n",
      "See the caveats in the documentation: https://pandas.pydata.org/pandas-docs/stable/user_guide/indexing.html#returning-a-view-versus-a-copy\n",
      "  time_serie['Change'] = time_serie['Change'].astype('Int64')\n"
     ]
    },
    {
     "name": "stdout",
     "output_type": "stream",
     "text": [
      "Erro Médio Absoluto (MAE) para Seller ID 100000008: 0.060090388357639316\n",
      "Processando Seller ID: 100000329\n",
      "Erro Médio Absoluto (MAE) para Seller ID 100000329: 0.05122449488844723\n",
      "Processando Seller ID: 100000138\n"
     ]
    },
    {
     "name": "stderr",
     "output_type": "stream",
     "text": [
      "C:\\Users\\Miguel Mendes\\AppData\\Local\\Temp\\ipykernel_8516\\2327759639.py:20: SettingWithCopyWarning: \n",
      "A value is trying to be set on a copy of a slice from a DataFrame\n",
      "\n",
      "See the caveats in the documentation: https://pandas.pydata.org/pandas-docs/stable/user_guide/indexing.html#returning-a-view-versus-a-copy\n",
      "  time_serie.drop(columns=['Seller ID', 'Day of Week', 'Last Week', 'Last Month'], inplace=True)\n",
      "C:\\Users\\Miguel Mendes\\AppData\\Local\\Temp\\ipykernel_8516\\2327759639.py:21: SettingWithCopyWarning: \n",
      "A value is trying to be set on a copy of a slice from a DataFrame.\n",
      "Try using .loc[row_indexer,col_indexer] = value instead\n",
      "\n",
      "See the caveats in the documentation: https://pandas.pydata.org/pandas-docs/stable/user_guide/indexing.html#returning-a-view-versus-a-copy\n",
      "  time_serie['Change'] = time_serie['Change'].astype('Int64')\n",
      "C:\\Users\\Miguel Mendes\\AppData\\Local\\Temp\\ipykernel_8516\\2327759639.py:20: SettingWithCopyWarning: \n",
      "A value is trying to be set on a copy of a slice from a DataFrame\n",
      "\n",
      "See the caveats in the documentation: https://pandas.pydata.org/pandas-docs/stable/user_guide/indexing.html#returning-a-view-versus-a-copy\n",
      "  time_serie.drop(columns=['Seller ID', 'Day of Week', 'Last Week', 'Last Month'], inplace=True)\n",
      "C:\\Users\\Miguel Mendes\\AppData\\Local\\Temp\\ipykernel_8516\\2327759639.py:21: SettingWithCopyWarning: \n",
      "A value is trying to be set on a copy of a slice from a DataFrame.\n",
      "Try using .loc[row_indexer,col_indexer] = value instead\n",
      "\n",
      "See the caveats in the documentation: https://pandas.pydata.org/pandas-docs/stable/user_guide/indexing.html#returning-a-view-versus-a-copy\n",
      "  time_serie['Change'] = time_serie['Change'].astype('Int64')\n"
     ]
    },
    {
     "name": "stdout",
     "output_type": "stream",
     "text": [
      "Erro Médio Absoluto (MAE) para Seller ID 100000138: 0.14668078050017358\n",
      "Processando Seller ID: 100000738\n",
      "Erro Médio Absoluto (MAE) para Seller ID 100000738: 0.16192443817853927\n",
      "Processando Seller ID: 100002318\n"
     ]
    },
    {
     "name": "stderr",
     "output_type": "stream",
     "text": [
      "C:\\Users\\Miguel Mendes\\AppData\\Local\\Temp\\ipykernel_8516\\2327759639.py:20: SettingWithCopyWarning: \n",
      "A value is trying to be set on a copy of a slice from a DataFrame\n",
      "\n",
      "See the caveats in the documentation: https://pandas.pydata.org/pandas-docs/stable/user_guide/indexing.html#returning-a-view-versus-a-copy\n",
      "  time_serie.drop(columns=['Seller ID', 'Day of Week', 'Last Week', 'Last Month'], inplace=True)\n",
      "C:\\Users\\Miguel Mendes\\AppData\\Local\\Temp\\ipykernel_8516\\2327759639.py:21: SettingWithCopyWarning: \n",
      "A value is trying to be set on a copy of a slice from a DataFrame.\n",
      "Try using .loc[row_indexer,col_indexer] = value instead\n",
      "\n",
      "See the caveats in the documentation: https://pandas.pydata.org/pandas-docs/stable/user_guide/indexing.html#returning-a-view-versus-a-copy\n",
      "  time_serie['Change'] = time_serie['Change'].astype('Int64')\n",
      "C:\\Users\\Miguel Mendes\\AppData\\Local\\Temp\\ipykernel_8516\\2327759639.py:20: SettingWithCopyWarning: \n",
      "A value is trying to be set on a copy of a slice from a DataFrame\n",
      "\n",
      "See the caveats in the documentation: https://pandas.pydata.org/pandas-docs/stable/user_guide/indexing.html#returning-a-view-versus-a-copy\n",
      "  time_serie.drop(columns=['Seller ID', 'Day of Week', 'Last Week', 'Last Month'], inplace=True)\n",
      "C:\\Users\\Miguel Mendes\\AppData\\Local\\Temp\\ipykernel_8516\\2327759639.py:21: SettingWithCopyWarning: \n",
      "A value is trying to be set on a copy of a slice from a DataFrame.\n",
      "Try using .loc[row_indexer,col_indexer] = value instead\n",
      "\n",
      "See the caveats in the documentation: https://pandas.pydata.org/pandas-docs/stable/user_guide/indexing.html#returning-a-view-versus-a-copy\n",
      "  time_serie['Change'] = time_serie['Change'].astype('Int64')\n"
     ]
    },
    {
     "name": "stdout",
     "output_type": "stream",
     "text": [
      "Erro Médio Absoluto (MAE) para Seller ID 100002318: 0.05191920751240105\n",
      "Processando Seller ID: 100000470\n",
      "Erro Médio Absoluto (MAE) para Seller ID 100000470: 0.05000986761597233\n",
      "Processando Seller ID: 100001204\n"
     ]
    },
    {
     "name": "stderr",
     "output_type": "stream",
     "text": [
      "C:\\Users\\Miguel Mendes\\AppData\\Local\\Temp\\ipykernel_8516\\2327759639.py:20: SettingWithCopyWarning: \n",
      "A value is trying to be set on a copy of a slice from a DataFrame\n",
      "\n",
      "See the caveats in the documentation: https://pandas.pydata.org/pandas-docs/stable/user_guide/indexing.html#returning-a-view-versus-a-copy\n",
      "  time_serie.drop(columns=['Seller ID', 'Day of Week', 'Last Week', 'Last Month'], inplace=True)\n",
      "C:\\Users\\Miguel Mendes\\AppData\\Local\\Temp\\ipykernel_8516\\2327759639.py:21: SettingWithCopyWarning: \n",
      "A value is trying to be set on a copy of a slice from a DataFrame.\n",
      "Try using .loc[row_indexer,col_indexer] = value instead\n",
      "\n",
      "See the caveats in the documentation: https://pandas.pydata.org/pandas-docs/stable/user_guide/indexing.html#returning-a-view-versus-a-copy\n",
      "  time_serie['Change'] = time_serie['Change'].astype('Int64')\n",
      "C:\\Users\\Miguel Mendes\\AppData\\Local\\Temp\\ipykernel_8516\\2327759639.py:20: SettingWithCopyWarning: \n",
      "A value is trying to be set on a copy of a slice from a DataFrame\n",
      "\n",
      "See the caveats in the documentation: https://pandas.pydata.org/pandas-docs/stable/user_guide/indexing.html#returning-a-view-versus-a-copy\n",
      "  time_serie.drop(columns=['Seller ID', 'Day of Week', 'Last Week', 'Last Month'], inplace=True)\n",
      "C:\\Users\\Miguel Mendes\\AppData\\Local\\Temp\\ipykernel_8516\\2327759639.py:21: SettingWithCopyWarning: \n",
      "A value is trying to be set on a copy of a slice from a DataFrame.\n",
      "Try using .loc[row_indexer,col_indexer] = value instead\n",
      "\n",
      "See the caveats in the documentation: https://pandas.pydata.org/pandas-docs/stable/user_guide/indexing.html#returning-a-view-versus-a-copy\n",
      "  time_serie['Change'] = time_serie['Change'].astype('Int64')\n"
     ]
    },
    {
     "name": "stdout",
     "output_type": "stream",
     "text": [
      "Erro Médio Absoluto (MAE) para Seller ID 100001204: 0.06025048736482859\n",
      "Processando Seller ID: 100001012\n",
      "Erro Médio Absoluto (MAE) para Seller ID 100001012: 0.02817903645336628\n",
      "Processando Seller ID: 100000931\n"
     ]
    },
    {
     "name": "stderr",
     "output_type": "stream",
     "text": [
      "C:\\Users\\Miguel Mendes\\AppData\\Local\\Temp\\ipykernel_8516\\2327759639.py:20: SettingWithCopyWarning: \n",
      "A value is trying to be set on a copy of a slice from a DataFrame\n",
      "\n",
      "See the caveats in the documentation: https://pandas.pydata.org/pandas-docs/stable/user_guide/indexing.html#returning-a-view-versus-a-copy\n",
      "  time_serie.drop(columns=['Seller ID', 'Day of Week', 'Last Week', 'Last Month'], inplace=True)\n",
      "C:\\Users\\Miguel Mendes\\AppData\\Local\\Temp\\ipykernel_8516\\2327759639.py:21: SettingWithCopyWarning: \n",
      "A value is trying to be set on a copy of a slice from a DataFrame.\n",
      "Try using .loc[row_indexer,col_indexer] = value instead\n",
      "\n",
      "See the caveats in the documentation: https://pandas.pydata.org/pandas-docs/stable/user_guide/indexing.html#returning-a-view-versus-a-copy\n",
      "  time_serie['Change'] = time_serie['Change'].astype('Int64')\n",
      "C:\\Users\\Miguel Mendes\\AppData\\Local\\Temp\\ipykernel_8516\\2327759639.py:20: SettingWithCopyWarning: \n",
      "A value is trying to be set on a copy of a slice from a DataFrame\n",
      "\n",
      "See the caveats in the documentation: https://pandas.pydata.org/pandas-docs/stable/user_guide/indexing.html#returning-a-view-versus-a-copy\n",
      "  time_serie.drop(columns=['Seller ID', 'Day of Week', 'Last Week', 'Last Month'], inplace=True)\n",
      "C:\\Users\\Miguel Mendes\\AppData\\Local\\Temp\\ipykernel_8516\\2327759639.py:21: SettingWithCopyWarning: \n",
      "A value is trying to be set on a copy of a slice from a DataFrame.\n",
      "Try using .loc[row_indexer,col_indexer] = value instead\n",
      "\n",
      "See the caveats in the documentation: https://pandas.pydata.org/pandas-docs/stable/user_guide/indexing.html#returning-a-view-versus-a-copy\n",
      "  time_serie['Change'] = time_serie['Change'].astype('Int64')\n"
     ]
    },
    {
     "name": "stdout",
     "output_type": "stream",
     "text": [
      "Erro Médio Absoluto (MAE) para Seller ID 100000931: 0.03295613080263138\n",
      "Processando Seller ID: 100000870\n"
     ]
    },
    {
     "name": "stderr",
     "output_type": "stream",
     "text": [
      "C:\\Users\\Miguel Mendes\\AppData\\Local\\Temp\\ipykernel_8516\\2327759639.py:20: SettingWithCopyWarning: \n",
      "A value is trying to be set on a copy of a slice from a DataFrame\n",
      "\n",
      "See the caveats in the documentation: https://pandas.pydata.org/pandas-docs/stable/user_guide/indexing.html#returning-a-view-versus-a-copy\n",
      "  time_serie.drop(columns=['Seller ID', 'Day of Week', 'Last Week', 'Last Month'], inplace=True)\n",
      "C:\\Users\\Miguel Mendes\\AppData\\Local\\Temp\\ipykernel_8516\\2327759639.py:21: SettingWithCopyWarning: \n",
      "A value is trying to be set on a copy of a slice from a DataFrame.\n",
      "Try using .loc[row_indexer,col_indexer] = value instead\n",
      "\n",
      "See the caveats in the documentation: https://pandas.pydata.org/pandas-docs/stable/user_guide/indexing.html#returning-a-view-versus-a-copy\n",
      "  time_serie['Change'] = time_serie['Change'].astype('Int64')\n"
     ]
    },
    {
     "name": "stdout",
     "output_type": "stream",
     "text": [
      "Erro Médio Absoluto (MAE) para Seller ID 100000870: 0.35885974764823914\n",
      "Processando Seller ID: 100000289\n",
      "Erro Médio Absoluto (MAE) para Seller ID 100000289: 0.03344224393367767\n",
      "Processando Seller ID: 100000106\n"
     ]
    },
    {
     "name": "stderr",
     "output_type": "stream",
     "text": [
      "C:\\Users\\Miguel Mendes\\AppData\\Local\\Temp\\ipykernel_8516\\2327759639.py:20: SettingWithCopyWarning: \n",
      "A value is trying to be set on a copy of a slice from a DataFrame\n",
      "\n",
      "See the caveats in the documentation: https://pandas.pydata.org/pandas-docs/stable/user_guide/indexing.html#returning-a-view-versus-a-copy\n",
      "  time_serie.drop(columns=['Seller ID', 'Day of Week', 'Last Week', 'Last Month'], inplace=True)\n",
      "C:\\Users\\Miguel Mendes\\AppData\\Local\\Temp\\ipykernel_8516\\2327759639.py:21: SettingWithCopyWarning: \n",
      "A value is trying to be set on a copy of a slice from a DataFrame.\n",
      "Try using .loc[row_indexer,col_indexer] = value instead\n",
      "\n",
      "See the caveats in the documentation: https://pandas.pydata.org/pandas-docs/stable/user_guide/indexing.html#returning-a-view-versus-a-copy\n",
      "  time_serie['Change'] = time_serie['Change'].astype('Int64')\n",
      "C:\\Users\\Miguel Mendes\\AppData\\Local\\Temp\\ipykernel_8516\\2327759639.py:20: SettingWithCopyWarning: \n",
      "A value is trying to be set on a copy of a slice from a DataFrame\n",
      "\n",
      "See the caveats in the documentation: https://pandas.pydata.org/pandas-docs/stable/user_guide/indexing.html#returning-a-view-versus-a-copy\n",
      "  time_serie.drop(columns=['Seller ID', 'Day of Week', 'Last Week', 'Last Month'], inplace=True)\n",
      "C:\\Users\\Miguel Mendes\\AppData\\Local\\Temp\\ipykernel_8516\\2327759639.py:21: SettingWithCopyWarning: \n",
      "A value is trying to be set on a copy of a slice from a DataFrame.\n",
      "Try using .loc[row_indexer,col_indexer] = value instead\n",
      "\n",
      "See the caveats in the documentation: https://pandas.pydata.org/pandas-docs/stable/user_guide/indexing.html#returning-a-view-versus-a-copy\n",
      "  time_serie['Change'] = time_serie['Change'].astype('Int64')\n"
     ]
    },
    {
     "name": "stdout",
     "output_type": "stream",
     "text": [
      "Erro Médio Absoluto (MAE) para Seller ID 100000106: 0.14985744655132294\n",
      "Processando Seller ID: 100000016\n",
      "Erro Médio Absoluto (MAE) para Seller ID 100000016: 0.0016647258307784796\n",
      "Processando Seller ID: 100000321\n"
     ]
    },
    {
     "name": "stderr",
     "output_type": "stream",
     "text": [
      "C:\\Users\\Miguel Mendes\\AppData\\Local\\Temp\\ipykernel_8516\\2327759639.py:20: SettingWithCopyWarning: \n",
      "A value is trying to be set on a copy of a slice from a DataFrame\n",
      "\n",
      "See the caveats in the documentation: https://pandas.pydata.org/pandas-docs/stable/user_guide/indexing.html#returning-a-view-versus-a-copy\n",
      "  time_serie.drop(columns=['Seller ID', 'Day of Week', 'Last Week', 'Last Month'], inplace=True)\n",
      "C:\\Users\\Miguel Mendes\\AppData\\Local\\Temp\\ipykernel_8516\\2327759639.py:21: SettingWithCopyWarning: \n",
      "A value is trying to be set on a copy of a slice from a DataFrame.\n",
      "Try using .loc[row_indexer,col_indexer] = value instead\n",
      "\n",
      "See the caveats in the documentation: https://pandas.pydata.org/pandas-docs/stable/user_guide/indexing.html#returning-a-view-versus-a-copy\n",
      "  time_serie['Change'] = time_serie['Change'].astype('Int64')\n",
      "C:\\Users\\Miguel Mendes\\AppData\\Local\\Temp\\ipykernel_8516\\2327759639.py:20: SettingWithCopyWarning: \n",
      "A value is trying to be set on a copy of a slice from a DataFrame\n",
      "\n",
      "See the caveats in the documentation: https://pandas.pydata.org/pandas-docs/stable/user_guide/indexing.html#returning-a-view-versus-a-copy\n",
      "  time_serie.drop(columns=['Seller ID', 'Day of Week', 'Last Week', 'Last Month'], inplace=True)\n",
      "C:\\Users\\Miguel Mendes\\AppData\\Local\\Temp\\ipykernel_8516\\2327759639.py:21: SettingWithCopyWarning: \n",
      "A value is trying to be set on a copy of a slice from a DataFrame.\n",
      "Try using .loc[row_indexer,col_indexer] = value instead\n",
      "\n",
      "See the caveats in the documentation: https://pandas.pydata.org/pandas-docs/stable/user_guide/indexing.html#returning-a-view-versus-a-copy\n",
      "  time_serie['Change'] = time_serie['Change'].astype('Int64')\n"
     ]
    },
    {
     "name": "stdout",
     "output_type": "stream",
     "text": [
      "Erro Médio Absoluto (MAE) para Seller ID 100000321: 0.011865259148180485\n",
      "Processando Seller ID: 100000871\n",
      "Erro Médio Absoluto (MAE) para Seller ID 100000871: 0.09507934749126434\n",
      "Processando Seller ID: 100001633\n"
     ]
    },
    {
     "name": "stderr",
     "output_type": "stream",
     "text": [
      "C:\\Users\\Miguel Mendes\\AppData\\Local\\Temp\\ipykernel_8516\\2327759639.py:20: SettingWithCopyWarning: \n",
      "A value is trying to be set on a copy of a slice from a DataFrame\n",
      "\n",
      "See the caveats in the documentation: https://pandas.pydata.org/pandas-docs/stable/user_guide/indexing.html#returning-a-view-versus-a-copy\n",
      "  time_serie.drop(columns=['Seller ID', 'Day of Week', 'Last Week', 'Last Month'], inplace=True)\n",
      "C:\\Users\\Miguel Mendes\\AppData\\Local\\Temp\\ipykernel_8516\\2327759639.py:21: SettingWithCopyWarning: \n",
      "A value is trying to be set on a copy of a slice from a DataFrame.\n",
      "Try using .loc[row_indexer,col_indexer] = value instead\n",
      "\n",
      "See the caveats in the documentation: https://pandas.pydata.org/pandas-docs/stable/user_guide/indexing.html#returning-a-view-versus-a-copy\n",
      "  time_serie['Change'] = time_serie['Change'].astype('Int64')\n",
      "C:\\Users\\Miguel Mendes\\AppData\\Local\\Temp\\ipykernel_8516\\2327759639.py:20: SettingWithCopyWarning: \n",
      "A value is trying to be set on a copy of a slice from a DataFrame\n",
      "\n",
      "See the caveats in the documentation: https://pandas.pydata.org/pandas-docs/stable/user_guide/indexing.html#returning-a-view-versus-a-copy\n",
      "  time_serie.drop(columns=['Seller ID', 'Day of Week', 'Last Week', 'Last Month'], inplace=True)\n",
      "C:\\Users\\Miguel Mendes\\AppData\\Local\\Temp\\ipykernel_8516\\2327759639.py:21: SettingWithCopyWarning: \n",
      "A value is trying to be set on a copy of a slice from a DataFrame.\n",
      "Try using .loc[row_indexer,col_indexer] = value instead\n",
      "\n",
      "See the caveats in the documentation: https://pandas.pydata.org/pandas-docs/stable/user_guide/indexing.html#returning-a-view-versus-a-copy\n",
      "  time_serie['Change'] = time_serie['Change'].astype('Int64')\n"
     ]
    },
    {
     "name": "stdout",
     "output_type": "stream",
     "text": [
      "Erro Médio Absoluto (MAE) para Seller ID 100001633: 0.00044924335088580847\n",
      "Processando Seller ID: 100000471\n",
      "Erro Médio Absoluto (MAE) para Seller ID 100000471: 0.03813466429710388\n",
      "Processando Seller ID: 100000518\n"
     ]
    },
    {
     "name": "stderr",
     "output_type": "stream",
     "text": [
      "C:\\Users\\Miguel Mendes\\AppData\\Local\\Temp\\ipykernel_8516\\2327759639.py:20: SettingWithCopyWarning: \n",
      "A value is trying to be set on a copy of a slice from a DataFrame\n",
      "\n",
      "See the caveats in the documentation: https://pandas.pydata.org/pandas-docs/stable/user_guide/indexing.html#returning-a-view-versus-a-copy\n",
      "  time_serie.drop(columns=['Seller ID', 'Day of Week', 'Last Week', 'Last Month'], inplace=True)\n",
      "C:\\Users\\Miguel Mendes\\AppData\\Local\\Temp\\ipykernel_8516\\2327759639.py:21: SettingWithCopyWarning: \n",
      "A value is trying to be set on a copy of a slice from a DataFrame.\n",
      "Try using .loc[row_indexer,col_indexer] = value instead\n",
      "\n",
      "See the caveats in the documentation: https://pandas.pydata.org/pandas-docs/stable/user_guide/indexing.html#returning-a-view-versus-a-copy\n",
      "  time_serie['Change'] = time_serie['Change'].astype('Int64')\n",
      "C:\\Users\\Miguel Mendes\\AppData\\Local\\Temp\\ipykernel_8516\\2327759639.py:20: SettingWithCopyWarning: \n",
      "A value is trying to be set on a copy of a slice from a DataFrame\n",
      "\n",
      "See the caveats in the documentation: https://pandas.pydata.org/pandas-docs/stable/user_guide/indexing.html#returning-a-view-versus-a-copy\n",
      "  time_serie.drop(columns=['Seller ID', 'Day of Week', 'Last Week', 'Last Month'], inplace=True)\n",
      "C:\\Users\\Miguel Mendes\\AppData\\Local\\Temp\\ipykernel_8516\\2327759639.py:21: SettingWithCopyWarning: \n",
      "A value is trying to be set on a copy of a slice from a DataFrame.\n",
      "Try using .loc[row_indexer,col_indexer] = value instead\n",
      "\n",
      "See the caveats in the documentation: https://pandas.pydata.org/pandas-docs/stable/user_guide/indexing.html#returning-a-view-versus-a-copy\n",
      "  time_serie['Change'] = time_serie['Change'].astype('Int64')\n"
     ]
    },
    {
     "name": "stdout",
     "output_type": "stream",
     "text": [
      "Erro Médio Absoluto (MAE) para Seller ID 100000518: 0.3827042579650879\n",
      "Processando Seller ID: 100002239\n",
      "Erro Médio Absoluto (MAE) para Seller ID 100002239: 0.02792452834546566\n",
      "Processando Seller ID: 100001220\n"
     ]
    },
    {
     "name": "stderr",
     "output_type": "stream",
     "text": [
      "C:\\Users\\Miguel Mendes\\AppData\\Local\\Temp\\ipykernel_8516\\2327759639.py:20: SettingWithCopyWarning: \n",
      "A value is trying to be set on a copy of a slice from a DataFrame\n",
      "\n",
      "See the caveats in the documentation: https://pandas.pydata.org/pandas-docs/stable/user_guide/indexing.html#returning-a-view-versus-a-copy\n",
      "  time_serie.drop(columns=['Seller ID', 'Day of Week', 'Last Week', 'Last Month'], inplace=True)\n",
      "C:\\Users\\Miguel Mendes\\AppData\\Local\\Temp\\ipykernel_8516\\2327759639.py:21: SettingWithCopyWarning: \n",
      "A value is trying to be set on a copy of a slice from a DataFrame.\n",
      "Try using .loc[row_indexer,col_indexer] = value instead\n",
      "\n",
      "See the caveats in the documentation: https://pandas.pydata.org/pandas-docs/stable/user_guide/indexing.html#returning-a-view-versus-a-copy\n",
      "  time_serie['Change'] = time_serie['Change'].astype('Int64')\n",
      "C:\\Users\\Miguel Mendes\\AppData\\Local\\Temp\\ipykernel_8516\\2327759639.py:20: SettingWithCopyWarning: \n",
      "A value is trying to be set on a copy of a slice from a DataFrame\n",
      "\n",
      "See the caveats in the documentation: https://pandas.pydata.org/pandas-docs/stable/user_guide/indexing.html#returning-a-view-versus-a-copy\n",
      "  time_serie.drop(columns=['Seller ID', 'Day of Week', 'Last Week', 'Last Month'], inplace=True)\n",
      "C:\\Users\\Miguel Mendes\\AppData\\Local\\Temp\\ipykernel_8516\\2327759639.py:21: SettingWithCopyWarning: \n",
      "A value is trying to be set on a copy of a slice from a DataFrame.\n",
      "Try using .loc[row_indexer,col_indexer] = value instead\n",
      "\n",
      "See the caveats in the documentation: https://pandas.pydata.org/pandas-docs/stable/user_guide/indexing.html#returning-a-view-versus-a-copy\n",
      "  time_serie['Change'] = time_serie['Change'].astype('Int64')\n"
     ]
    },
    {
     "name": "stdout",
     "output_type": "stream",
     "text": [
      "Erro Médio Absoluto (MAE) para Seller ID 100001220: 0.0015667765401303768\n",
      "Processando Seller ID: 100000806\n",
      "Erro Médio Absoluto (MAE) para Seller ID 100000806: 0.03660569339990616\n",
      "Processando Seller ID: 100000868\n"
     ]
    },
    {
     "name": "stderr",
     "output_type": "stream",
     "text": [
      "C:\\Users\\Miguel Mendes\\AppData\\Local\\Temp\\ipykernel_8516\\2327759639.py:20: SettingWithCopyWarning: \n",
      "A value is trying to be set on a copy of a slice from a DataFrame\n",
      "\n",
      "See the caveats in the documentation: https://pandas.pydata.org/pandas-docs/stable/user_guide/indexing.html#returning-a-view-versus-a-copy\n",
      "  time_serie.drop(columns=['Seller ID', 'Day of Week', 'Last Week', 'Last Month'], inplace=True)\n",
      "C:\\Users\\Miguel Mendes\\AppData\\Local\\Temp\\ipykernel_8516\\2327759639.py:21: SettingWithCopyWarning: \n",
      "A value is trying to be set on a copy of a slice from a DataFrame.\n",
      "Try using .loc[row_indexer,col_indexer] = value instead\n",
      "\n",
      "See the caveats in the documentation: https://pandas.pydata.org/pandas-docs/stable/user_guide/indexing.html#returning-a-view-versus-a-copy\n",
      "  time_serie['Change'] = time_serie['Change'].astype('Int64')\n",
      "C:\\Users\\Miguel Mendes\\AppData\\Local\\Temp\\ipykernel_8516\\2327759639.py:20: SettingWithCopyWarning: \n",
      "A value is trying to be set on a copy of a slice from a DataFrame\n",
      "\n",
      "See the caveats in the documentation: https://pandas.pydata.org/pandas-docs/stable/user_guide/indexing.html#returning-a-view-versus-a-copy\n",
      "  time_serie.drop(columns=['Seller ID', 'Day of Week', 'Last Week', 'Last Month'], inplace=True)\n",
      "C:\\Users\\Miguel Mendes\\AppData\\Local\\Temp\\ipykernel_8516\\2327759639.py:21: SettingWithCopyWarning: \n",
      "A value is trying to be set on a copy of a slice from a DataFrame.\n",
      "Try using .loc[row_indexer,col_indexer] = value instead\n",
      "\n",
      "See the caveats in the documentation: https://pandas.pydata.org/pandas-docs/stable/user_guide/indexing.html#returning-a-view-versus-a-copy\n",
      "  time_serie['Change'] = time_serie['Change'].astype('Int64')\n"
     ]
    },
    {
     "name": "stdout",
     "output_type": "stream",
     "text": [
      "Erro Médio Absoluto (MAE) para Seller ID 100000868: 0.10680345445871353\n",
      "Processando Seller ID: 100000480\n",
      "Erro Médio Absoluto (MAE) para Seller ID 100000480: 0.27673014998435974\n",
      "Processando Seller ID: 100000954\n"
     ]
    },
    {
     "name": "stderr",
     "output_type": "stream",
     "text": [
      "C:\\Users\\Miguel Mendes\\AppData\\Local\\Temp\\ipykernel_8516\\2327759639.py:20: SettingWithCopyWarning: \n",
      "A value is trying to be set on a copy of a slice from a DataFrame\n",
      "\n",
      "See the caveats in the documentation: https://pandas.pydata.org/pandas-docs/stable/user_guide/indexing.html#returning-a-view-versus-a-copy\n",
      "  time_serie.drop(columns=['Seller ID', 'Day of Week', 'Last Week', 'Last Month'], inplace=True)\n",
      "C:\\Users\\Miguel Mendes\\AppData\\Local\\Temp\\ipykernel_8516\\2327759639.py:21: SettingWithCopyWarning: \n",
      "A value is trying to be set on a copy of a slice from a DataFrame.\n",
      "Try using .loc[row_indexer,col_indexer] = value instead\n",
      "\n",
      "See the caveats in the documentation: https://pandas.pydata.org/pandas-docs/stable/user_guide/indexing.html#returning-a-view-versus-a-copy\n",
      "  time_serie['Change'] = time_serie['Change'].astype('Int64')\n",
      "C:\\Users\\Miguel Mendes\\AppData\\Local\\Temp\\ipykernel_8516\\2327759639.py:20: SettingWithCopyWarning: \n",
      "A value is trying to be set on a copy of a slice from a DataFrame\n",
      "\n",
      "See the caveats in the documentation: https://pandas.pydata.org/pandas-docs/stable/user_guide/indexing.html#returning-a-view-versus-a-copy\n",
      "  time_serie.drop(columns=['Seller ID', 'Day of Week', 'Last Week', 'Last Month'], inplace=True)\n",
      "C:\\Users\\Miguel Mendes\\AppData\\Local\\Temp\\ipykernel_8516\\2327759639.py:21: SettingWithCopyWarning: \n",
      "A value is trying to be set on a copy of a slice from a DataFrame.\n",
      "Try using .loc[row_indexer,col_indexer] = value instead\n",
      "\n",
      "See the caveats in the documentation: https://pandas.pydata.org/pandas-docs/stable/user_guide/indexing.html#returning-a-view-versus-a-copy\n",
      "  time_serie['Change'] = time_serie['Change'].astype('Int64')\n"
     ]
    },
    {
     "name": "stdout",
     "output_type": "stream",
     "text": [
      "Erro Médio Absoluto (MAE) para Seller ID 100000954: 0.0007045988459140062\n",
      "Processando Seller ID: 100000040\n",
      "Erro Médio Absoluto (MAE) para Seller ID 100000040: 0.7030944228172302\n",
      "Processando Seller ID: 100001189\n"
     ]
    },
    {
     "name": "stderr",
     "output_type": "stream",
     "text": [
      "C:\\Users\\Miguel Mendes\\AppData\\Local\\Temp\\ipykernel_8516\\2327759639.py:20: SettingWithCopyWarning: \n",
      "A value is trying to be set on a copy of a slice from a DataFrame\n",
      "\n",
      "See the caveats in the documentation: https://pandas.pydata.org/pandas-docs/stable/user_guide/indexing.html#returning-a-view-versus-a-copy\n",
      "  time_serie.drop(columns=['Seller ID', 'Day of Week', 'Last Week', 'Last Month'], inplace=True)\n",
      "C:\\Users\\Miguel Mendes\\AppData\\Local\\Temp\\ipykernel_8516\\2327759639.py:21: SettingWithCopyWarning: \n",
      "A value is trying to be set on a copy of a slice from a DataFrame.\n",
      "Try using .loc[row_indexer,col_indexer] = value instead\n",
      "\n",
      "See the caveats in the documentation: https://pandas.pydata.org/pandas-docs/stable/user_guide/indexing.html#returning-a-view-versus-a-copy\n",
      "  time_serie['Change'] = time_serie['Change'].astype('Int64')\n",
      "C:\\Users\\Miguel Mendes\\AppData\\Local\\Temp\\ipykernel_8516\\2327759639.py:20: SettingWithCopyWarning: \n",
      "A value is trying to be set on a copy of a slice from a DataFrame\n",
      "\n",
      "See the caveats in the documentation: https://pandas.pydata.org/pandas-docs/stable/user_guide/indexing.html#returning-a-view-versus-a-copy\n",
      "  time_serie.drop(columns=['Seller ID', 'Day of Week', 'Last Week', 'Last Month'], inplace=True)\n",
      "C:\\Users\\Miguel Mendes\\AppData\\Local\\Temp\\ipykernel_8516\\2327759639.py:21: SettingWithCopyWarning: \n",
      "A value is trying to be set on a copy of a slice from a DataFrame.\n",
      "Try using .loc[row_indexer,col_indexer] = value instead\n",
      "\n",
      "See the caveats in the documentation: https://pandas.pydata.org/pandas-docs/stable/user_guide/indexing.html#returning-a-view-versus-a-copy\n",
      "  time_serie['Change'] = time_serie['Change'].astype('Int64')\n"
     ]
    },
    {
     "name": "stdout",
     "output_type": "stream",
     "text": [
      "Erro Médio Absoluto (MAE) para Seller ID 100001189: 0.0025769388303160667\n",
      "Processando Seller ID: 100000994\n",
      "Erro Médio Absoluto (MAE) para Seller ID 100000994: 0.009834733791649342\n",
      "Processando Seller ID: 100001173\n"
     ]
    },
    {
     "name": "stderr",
     "output_type": "stream",
     "text": [
      "C:\\Users\\Miguel Mendes\\AppData\\Local\\Temp\\ipykernel_8516\\2327759639.py:20: SettingWithCopyWarning: \n",
      "A value is trying to be set on a copy of a slice from a DataFrame\n",
      "\n",
      "See the caveats in the documentation: https://pandas.pydata.org/pandas-docs/stable/user_guide/indexing.html#returning-a-view-versus-a-copy\n",
      "  time_serie.drop(columns=['Seller ID', 'Day of Week', 'Last Week', 'Last Month'], inplace=True)\n",
      "C:\\Users\\Miguel Mendes\\AppData\\Local\\Temp\\ipykernel_8516\\2327759639.py:21: SettingWithCopyWarning: \n",
      "A value is trying to be set on a copy of a slice from a DataFrame.\n",
      "Try using .loc[row_indexer,col_indexer] = value instead\n",
      "\n",
      "See the caveats in the documentation: https://pandas.pydata.org/pandas-docs/stable/user_guide/indexing.html#returning-a-view-versus-a-copy\n",
      "  time_serie['Change'] = time_serie['Change'].astype('Int64')\n",
      "C:\\Users\\Miguel Mendes\\AppData\\Local\\Temp\\ipykernel_8516\\2327759639.py:20: SettingWithCopyWarning: \n",
      "A value is trying to be set on a copy of a slice from a DataFrame\n",
      "\n",
      "See the caveats in the documentation: https://pandas.pydata.org/pandas-docs/stable/user_guide/indexing.html#returning-a-view-versus-a-copy\n",
      "  time_serie.drop(columns=['Seller ID', 'Day of Week', 'Last Week', 'Last Month'], inplace=True)\n",
      "C:\\Users\\Miguel Mendes\\AppData\\Local\\Temp\\ipykernel_8516\\2327759639.py:21: SettingWithCopyWarning: \n",
      "A value is trying to be set on a copy of a slice from a DataFrame.\n",
      "Try using .loc[row_indexer,col_indexer] = value instead\n",
      "\n",
      "See the caveats in the documentation: https://pandas.pydata.org/pandas-docs/stable/user_guide/indexing.html#returning-a-view-versus-a-copy\n",
      "  time_serie['Change'] = time_serie['Change'].astype('Int64')\n"
     ]
    },
    {
     "name": "stdout",
     "output_type": "stream",
     "text": [
      "Erro Médio Absoluto (MAE) para Seller ID 100001173: 0.0030477524269372225\n",
      "Processando Seller ID: 100000919\n",
      "Erro Médio Absoluto (MAE) para Seller ID 100000919: 0.0014158375561237335\n",
      "Processando Seller ID: 100001898\n"
     ]
    },
    {
     "name": "stderr",
     "output_type": "stream",
     "text": [
      "C:\\Users\\Miguel Mendes\\AppData\\Local\\Temp\\ipykernel_8516\\2327759639.py:20: SettingWithCopyWarning: \n",
      "A value is trying to be set on a copy of a slice from a DataFrame\n",
      "\n",
      "See the caveats in the documentation: https://pandas.pydata.org/pandas-docs/stable/user_guide/indexing.html#returning-a-view-versus-a-copy\n",
      "  time_serie.drop(columns=['Seller ID', 'Day of Week', 'Last Week', 'Last Month'], inplace=True)\n",
      "C:\\Users\\Miguel Mendes\\AppData\\Local\\Temp\\ipykernel_8516\\2327759639.py:21: SettingWithCopyWarning: \n",
      "A value is trying to be set on a copy of a slice from a DataFrame.\n",
      "Try using .loc[row_indexer,col_indexer] = value instead\n",
      "\n",
      "See the caveats in the documentation: https://pandas.pydata.org/pandas-docs/stable/user_guide/indexing.html#returning-a-view-versus-a-copy\n",
      "  time_serie['Change'] = time_serie['Change'].astype('Int64')\n",
      "C:\\Users\\Miguel Mendes\\AppData\\Local\\Temp\\ipykernel_8516\\2327759639.py:20: SettingWithCopyWarning: \n",
      "A value is trying to be set on a copy of a slice from a DataFrame\n",
      "\n",
      "See the caveats in the documentation: https://pandas.pydata.org/pandas-docs/stable/user_guide/indexing.html#returning-a-view-versus-a-copy\n",
      "  time_serie.drop(columns=['Seller ID', 'Day of Week', 'Last Week', 'Last Month'], inplace=True)\n",
      "C:\\Users\\Miguel Mendes\\AppData\\Local\\Temp\\ipykernel_8516\\2327759639.py:21: SettingWithCopyWarning: \n",
      "A value is trying to be set on a copy of a slice from a DataFrame.\n",
      "Try using .loc[row_indexer,col_indexer] = value instead\n",
      "\n",
      "See the caveats in the documentation: https://pandas.pydata.org/pandas-docs/stable/user_guide/indexing.html#returning-a-view-versus-a-copy\n",
      "  time_serie['Change'] = time_serie['Change'].astype('Int64')\n"
     ]
    },
    {
     "name": "stdout",
     "output_type": "stream",
     "text": [
      "Erro Médio Absoluto (MAE) para Seller ID 100001898: 0.1843068152666092\n",
      "Processando Seller ID: 100002152\n",
      "Erro Médio Absoluto (MAE) para Seller ID 100002152: 0.10675667971372604\n",
      "Processando Seller ID: 100001083\n"
     ]
    },
    {
     "name": "stderr",
     "output_type": "stream",
     "text": [
      "C:\\Users\\Miguel Mendes\\AppData\\Local\\Temp\\ipykernel_8516\\2327759639.py:20: SettingWithCopyWarning: \n",
      "A value is trying to be set on a copy of a slice from a DataFrame\n",
      "\n",
      "See the caveats in the documentation: https://pandas.pydata.org/pandas-docs/stable/user_guide/indexing.html#returning-a-view-versus-a-copy\n",
      "  time_serie.drop(columns=['Seller ID', 'Day of Week', 'Last Week', 'Last Month'], inplace=True)\n",
      "C:\\Users\\Miguel Mendes\\AppData\\Local\\Temp\\ipykernel_8516\\2327759639.py:21: SettingWithCopyWarning: \n",
      "A value is trying to be set on a copy of a slice from a DataFrame.\n",
      "Try using .loc[row_indexer,col_indexer] = value instead\n",
      "\n",
      "See the caveats in the documentation: https://pandas.pydata.org/pandas-docs/stable/user_guide/indexing.html#returning-a-view-versus-a-copy\n",
      "  time_serie['Change'] = time_serie['Change'].astype('Int64')\n",
      "C:\\Users\\Miguel Mendes\\AppData\\Local\\Temp\\ipykernel_8516\\2327759639.py:20: SettingWithCopyWarning: \n",
      "A value is trying to be set on a copy of a slice from a DataFrame\n",
      "\n",
      "See the caveats in the documentation: https://pandas.pydata.org/pandas-docs/stable/user_guide/indexing.html#returning-a-view-versus-a-copy\n",
      "  time_serie.drop(columns=['Seller ID', 'Day of Week', 'Last Week', 'Last Month'], inplace=True)\n",
      "C:\\Users\\Miguel Mendes\\AppData\\Local\\Temp\\ipykernel_8516\\2327759639.py:21: SettingWithCopyWarning: \n",
      "A value is trying to be set on a copy of a slice from a DataFrame.\n",
      "Try using .loc[row_indexer,col_indexer] = value instead\n",
      "\n",
      "See the caveats in the documentation: https://pandas.pydata.org/pandas-docs/stable/user_guide/indexing.html#returning-a-view-versus-a-copy\n",
      "  time_serie['Change'] = time_serie['Change'].astype('Int64')\n"
     ]
    },
    {
     "name": "stdout",
     "output_type": "stream",
     "text": [
      "Erro Médio Absoluto (MAE) para Seller ID 100001083: 0.02035180665552616\n",
      "Processando Seller ID: 100001585\n",
      "Erro Médio Absoluto (MAE) para Seller ID 100001585: 0.0022409127559512854\n",
      "Processando Seller ID: 100001037\n"
     ]
    },
    {
     "name": "stderr",
     "output_type": "stream",
     "text": [
      "C:\\Users\\Miguel Mendes\\AppData\\Local\\Temp\\ipykernel_8516\\2327759639.py:20: SettingWithCopyWarning: \n",
      "A value is trying to be set on a copy of a slice from a DataFrame\n",
      "\n",
      "See the caveats in the documentation: https://pandas.pydata.org/pandas-docs/stable/user_guide/indexing.html#returning-a-view-versus-a-copy\n",
      "  time_serie.drop(columns=['Seller ID', 'Day of Week', 'Last Week', 'Last Month'], inplace=True)\n",
      "C:\\Users\\Miguel Mendes\\AppData\\Local\\Temp\\ipykernel_8516\\2327759639.py:21: SettingWithCopyWarning: \n",
      "A value is trying to be set on a copy of a slice from a DataFrame.\n",
      "Try using .loc[row_indexer,col_indexer] = value instead\n",
      "\n",
      "See the caveats in the documentation: https://pandas.pydata.org/pandas-docs/stable/user_guide/indexing.html#returning-a-view-versus-a-copy\n",
      "  time_serie['Change'] = time_serie['Change'].astype('Int64')\n",
      "C:\\Users\\Miguel Mendes\\AppData\\Local\\Temp\\ipykernel_8516\\2327759639.py:20: SettingWithCopyWarning: \n",
      "A value is trying to be set on a copy of a slice from a DataFrame\n",
      "\n",
      "See the caveats in the documentation: https://pandas.pydata.org/pandas-docs/stable/user_guide/indexing.html#returning-a-view-versus-a-copy\n",
      "  time_serie.drop(columns=['Seller ID', 'Day of Week', 'Last Week', 'Last Month'], inplace=True)\n",
      "C:\\Users\\Miguel Mendes\\AppData\\Local\\Temp\\ipykernel_8516\\2327759639.py:21: SettingWithCopyWarning: \n",
      "A value is trying to be set on a copy of a slice from a DataFrame.\n",
      "Try using .loc[row_indexer,col_indexer] = value instead\n",
      "\n",
      "See the caveats in the documentation: https://pandas.pydata.org/pandas-docs/stable/user_guide/indexing.html#returning-a-view-versus-a-copy\n",
      "  time_serie['Change'] = time_serie['Change'].astype('Int64')\n"
     ]
    },
    {
     "name": "stdout",
     "output_type": "stream",
     "text": [
      "Erro Médio Absoluto (MAE) para Seller ID 100001037: 0.1320076882839203\n",
      "Processando Seller ID: 100000892\n",
      "Erro Médio Absoluto (MAE) para Seller ID 100000892: 0.00010008792742155492\n",
      "Processando Seller ID: 100001298\n"
     ]
    },
    {
     "name": "stderr",
     "output_type": "stream",
     "text": [
      "C:\\Users\\Miguel Mendes\\AppData\\Local\\Temp\\ipykernel_8516\\2327759639.py:20: SettingWithCopyWarning: \n",
      "A value is trying to be set on a copy of a slice from a DataFrame\n",
      "\n",
      "See the caveats in the documentation: https://pandas.pydata.org/pandas-docs/stable/user_guide/indexing.html#returning-a-view-versus-a-copy\n",
      "  time_serie.drop(columns=['Seller ID', 'Day of Week', 'Last Week', 'Last Month'], inplace=True)\n",
      "C:\\Users\\Miguel Mendes\\AppData\\Local\\Temp\\ipykernel_8516\\2327759639.py:21: SettingWithCopyWarning: \n",
      "A value is trying to be set on a copy of a slice from a DataFrame.\n",
      "Try using .loc[row_indexer,col_indexer] = value instead\n",
      "\n",
      "See the caveats in the documentation: https://pandas.pydata.org/pandas-docs/stable/user_guide/indexing.html#returning-a-view-versus-a-copy\n",
      "  time_serie['Change'] = time_serie['Change'].astype('Int64')\n",
      "C:\\Users\\Miguel Mendes\\AppData\\Local\\Temp\\ipykernel_8516\\2327759639.py:20: SettingWithCopyWarning: \n",
      "A value is trying to be set on a copy of a slice from a DataFrame\n",
      "\n",
      "See the caveats in the documentation: https://pandas.pydata.org/pandas-docs/stable/user_guide/indexing.html#returning-a-view-versus-a-copy\n",
      "  time_serie.drop(columns=['Seller ID', 'Day of Week', 'Last Week', 'Last Month'], inplace=True)\n",
      "C:\\Users\\Miguel Mendes\\AppData\\Local\\Temp\\ipykernel_8516\\2327759639.py:21: SettingWithCopyWarning: \n",
      "A value is trying to be set on a copy of a slice from a DataFrame.\n",
      "Try using .loc[row_indexer,col_indexer] = value instead\n",
      "\n",
      "See the caveats in the documentation: https://pandas.pydata.org/pandas-docs/stable/user_guide/indexing.html#returning-a-view-versus-a-copy\n",
      "  time_serie['Change'] = time_serie['Change'].astype('Int64')\n"
     ]
    },
    {
     "name": "stdout",
     "output_type": "stream",
     "text": [
      "Erro Médio Absoluto (MAE) para Seller ID 100001298: 0.07064059376716614\n",
      "Processando Seller ID: 100000130\n",
      "Erro Médio Absoluto (MAE) para Seller ID 100000130: 0.11127819120883942\n",
      "Processando Seller ID: 100000142\n"
     ]
    },
    {
     "name": "stderr",
     "output_type": "stream",
     "text": [
      "C:\\Users\\Miguel Mendes\\AppData\\Local\\Temp\\ipykernel_8516\\2327759639.py:20: SettingWithCopyWarning: \n",
      "A value is trying to be set on a copy of a slice from a DataFrame\n",
      "\n",
      "See the caveats in the documentation: https://pandas.pydata.org/pandas-docs/stable/user_guide/indexing.html#returning-a-view-versus-a-copy\n",
      "  time_serie.drop(columns=['Seller ID', 'Day of Week', 'Last Week', 'Last Month'], inplace=True)\n",
      "C:\\Users\\Miguel Mendes\\AppData\\Local\\Temp\\ipykernel_8516\\2327759639.py:21: SettingWithCopyWarning: \n",
      "A value is trying to be set on a copy of a slice from a DataFrame.\n",
      "Try using .loc[row_indexer,col_indexer] = value instead\n",
      "\n",
      "See the caveats in the documentation: https://pandas.pydata.org/pandas-docs/stable/user_guide/indexing.html#returning-a-view-versus-a-copy\n",
      "  time_serie['Change'] = time_serie['Change'].astype('Int64')\n",
      "C:\\Users\\Miguel Mendes\\AppData\\Local\\Temp\\ipykernel_8516\\2327759639.py:20: SettingWithCopyWarning: \n",
      "A value is trying to be set on a copy of a slice from a DataFrame\n",
      "\n",
      "See the caveats in the documentation: https://pandas.pydata.org/pandas-docs/stable/user_guide/indexing.html#returning-a-view-versus-a-copy\n",
      "  time_serie.drop(columns=['Seller ID', 'Day of Week', 'Last Week', 'Last Month'], inplace=True)\n",
      "C:\\Users\\Miguel Mendes\\AppData\\Local\\Temp\\ipykernel_8516\\2327759639.py:21: SettingWithCopyWarning: \n",
      "A value is trying to be set on a copy of a slice from a DataFrame.\n",
      "Try using .loc[row_indexer,col_indexer] = value instead\n",
      "\n",
      "See the caveats in the documentation: https://pandas.pydata.org/pandas-docs/stable/user_guide/indexing.html#returning-a-view-versus-a-copy\n",
      "  time_serie['Change'] = time_serie['Change'].astype('Int64')\n"
     ]
    },
    {
     "name": "stdout",
     "output_type": "stream",
     "text": [
      "Erro Médio Absoluto (MAE) para Seller ID 100000142: 0.084042489528656\n",
      "Processando Seller ID: 100000669\n",
      "Erro Médio Absoluto (MAE) para Seller ID 100000669: 0.1280873417854309\n",
      "Processando Seller ID: 100001383\n"
     ]
    },
    {
     "name": "stderr",
     "output_type": "stream",
     "text": [
      "C:\\Users\\Miguel Mendes\\AppData\\Local\\Temp\\ipykernel_8516\\2327759639.py:20: SettingWithCopyWarning: \n",
      "A value is trying to be set on a copy of a slice from a DataFrame\n",
      "\n",
      "See the caveats in the documentation: https://pandas.pydata.org/pandas-docs/stable/user_guide/indexing.html#returning-a-view-versus-a-copy\n",
      "  time_serie.drop(columns=['Seller ID', 'Day of Week', 'Last Week', 'Last Month'], inplace=True)\n",
      "C:\\Users\\Miguel Mendes\\AppData\\Local\\Temp\\ipykernel_8516\\2327759639.py:21: SettingWithCopyWarning: \n",
      "A value is trying to be set on a copy of a slice from a DataFrame.\n",
      "Try using .loc[row_indexer,col_indexer] = value instead\n",
      "\n",
      "See the caveats in the documentation: https://pandas.pydata.org/pandas-docs/stable/user_guide/indexing.html#returning-a-view-versus-a-copy\n",
      "  time_serie['Change'] = time_serie['Change'].astype('Int64')\n",
      "C:\\Users\\Miguel Mendes\\AppData\\Local\\Temp\\ipykernel_8516\\2327759639.py:20: SettingWithCopyWarning: \n",
      "A value is trying to be set on a copy of a slice from a DataFrame\n",
      "\n",
      "See the caveats in the documentation: https://pandas.pydata.org/pandas-docs/stable/user_guide/indexing.html#returning-a-view-versus-a-copy\n",
      "  time_serie.drop(columns=['Seller ID', 'Day of Week', 'Last Week', 'Last Month'], inplace=True)\n",
      "C:\\Users\\Miguel Mendes\\AppData\\Local\\Temp\\ipykernel_8516\\2327759639.py:21: SettingWithCopyWarning: \n",
      "A value is trying to be set on a copy of a slice from a DataFrame.\n",
      "Try using .loc[row_indexer,col_indexer] = value instead\n",
      "\n",
      "See the caveats in the documentation: https://pandas.pydata.org/pandas-docs/stable/user_guide/indexing.html#returning-a-view-versus-a-copy\n",
      "  time_serie['Change'] = time_serie['Change'].astype('Int64')\n"
     ]
    },
    {
     "name": "stdout",
     "output_type": "stream",
     "text": [
      "Erro Médio Absoluto (MAE) para Seller ID 100001383: 0.0027048117481172085\n",
      "Processando Seller ID: 100001206\n",
      "Erro Médio Absoluto (MAE) para Seller ID 100001206: 0.13120469450950623\n",
      "Processando Seller ID: 100000924\n"
     ]
    },
    {
     "name": "stderr",
     "output_type": "stream",
     "text": [
      "C:\\Users\\Miguel Mendes\\AppData\\Local\\Temp\\ipykernel_8516\\2327759639.py:20: SettingWithCopyWarning: \n",
      "A value is trying to be set on a copy of a slice from a DataFrame\n",
      "\n",
      "See the caveats in the documentation: https://pandas.pydata.org/pandas-docs/stable/user_guide/indexing.html#returning-a-view-versus-a-copy\n",
      "  time_serie.drop(columns=['Seller ID', 'Day of Week', 'Last Week', 'Last Month'], inplace=True)\n",
      "C:\\Users\\Miguel Mendes\\AppData\\Local\\Temp\\ipykernel_8516\\2327759639.py:21: SettingWithCopyWarning: \n",
      "A value is trying to be set on a copy of a slice from a DataFrame.\n",
      "Try using .loc[row_indexer,col_indexer] = value instead\n",
      "\n",
      "See the caveats in the documentation: https://pandas.pydata.org/pandas-docs/stable/user_guide/indexing.html#returning-a-view-versus-a-copy\n",
      "  time_serie['Change'] = time_serie['Change'].astype('Int64')\n",
      "C:\\Users\\Miguel Mendes\\AppData\\Local\\Temp\\ipykernel_8516\\2327759639.py:20: SettingWithCopyWarning: \n",
      "A value is trying to be set on a copy of a slice from a DataFrame\n",
      "\n",
      "See the caveats in the documentation: https://pandas.pydata.org/pandas-docs/stable/user_guide/indexing.html#returning-a-view-versus-a-copy\n",
      "  time_serie.drop(columns=['Seller ID', 'Day of Week', 'Last Week', 'Last Month'], inplace=True)\n",
      "C:\\Users\\Miguel Mendes\\AppData\\Local\\Temp\\ipykernel_8516\\2327759639.py:21: SettingWithCopyWarning: \n",
      "A value is trying to be set on a copy of a slice from a DataFrame.\n",
      "Try using .loc[row_indexer,col_indexer] = value instead\n",
      "\n",
      "See the caveats in the documentation: https://pandas.pydata.org/pandas-docs/stable/user_guide/indexing.html#returning-a-view-versus-a-copy\n",
      "  time_serie['Change'] = time_serie['Change'].astype('Int64')\n"
     ]
    },
    {
     "name": "stdout",
     "output_type": "stream",
     "text": [
      "Erro Médio Absoluto (MAE) para Seller ID 100000924: 0.017715757712721825\n",
      "Processando Seller ID: 100001447\n",
      "Erro Médio Absoluto (MAE) para Seller ID 100001447: 0.019310107454657555\n",
      "Processando Seller ID: 100000936\n"
     ]
    },
    {
     "name": "stderr",
     "output_type": "stream",
     "text": [
      "C:\\Users\\Miguel Mendes\\AppData\\Local\\Temp\\ipykernel_8516\\2327759639.py:20: SettingWithCopyWarning: \n",
      "A value is trying to be set on a copy of a slice from a DataFrame\n",
      "\n",
      "See the caveats in the documentation: https://pandas.pydata.org/pandas-docs/stable/user_guide/indexing.html#returning-a-view-versus-a-copy\n",
      "  time_serie.drop(columns=['Seller ID', 'Day of Week', 'Last Week', 'Last Month'], inplace=True)\n",
      "C:\\Users\\Miguel Mendes\\AppData\\Local\\Temp\\ipykernel_8516\\2327759639.py:21: SettingWithCopyWarning: \n",
      "A value is trying to be set on a copy of a slice from a DataFrame.\n",
      "Try using .loc[row_indexer,col_indexer] = value instead\n",
      "\n",
      "See the caveats in the documentation: https://pandas.pydata.org/pandas-docs/stable/user_guide/indexing.html#returning-a-view-versus-a-copy\n",
      "  time_serie['Change'] = time_serie['Change'].astype('Int64')\n",
      "C:\\Users\\Miguel Mendes\\AppData\\Local\\Temp\\ipykernel_8516\\2327759639.py:20: SettingWithCopyWarning: \n",
      "A value is trying to be set on a copy of a slice from a DataFrame\n",
      "\n",
      "See the caveats in the documentation: https://pandas.pydata.org/pandas-docs/stable/user_guide/indexing.html#returning-a-view-versus-a-copy\n",
      "  time_serie.drop(columns=['Seller ID', 'Day of Week', 'Last Week', 'Last Month'], inplace=True)\n",
      "C:\\Users\\Miguel Mendes\\AppData\\Local\\Temp\\ipykernel_8516\\2327759639.py:21: SettingWithCopyWarning: \n",
      "A value is trying to be set on a copy of a slice from a DataFrame.\n",
      "Try using .loc[row_indexer,col_indexer] = value instead\n",
      "\n",
      "See the caveats in the documentation: https://pandas.pydata.org/pandas-docs/stable/user_guide/indexing.html#returning-a-view-versus-a-copy\n",
      "  time_serie['Change'] = time_serie['Change'].astype('Int64')\n"
     ]
    },
    {
     "name": "stdout",
     "output_type": "stream",
     "text": [
      "Erro Médio Absoluto (MAE) para Seller ID 100000936: 0.005787629168480635\n",
      "Processando Seller ID: 100001122\n",
      "Erro Médio Absoluto (MAE) para Seller ID 100001122: 0.0009401024435646832\n",
      "Processando Seller ID: 100000655\n"
     ]
    },
    {
     "name": "stderr",
     "output_type": "stream",
     "text": [
      "C:\\Users\\Miguel Mendes\\AppData\\Local\\Temp\\ipykernel_8516\\2327759639.py:20: SettingWithCopyWarning: \n",
      "A value is trying to be set on a copy of a slice from a DataFrame\n",
      "\n",
      "See the caveats in the documentation: https://pandas.pydata.org/pandas-docs/stable/user_guide/indexing.html#returning-a-view-versus-a-copy\n",
      "  time_serie.drop(columns=['Seller ID', 'Day of Week', 'Last Week', 'Last Month'], inplace=True)\n",
      "C:\\Users\\Miguel Mendes\\AppData\\Local\\Temp\\ipykernel_8516\\2327759639.py:21: SettingWithCopyWarning: \n",
      "A value is trying to be set on a copy of a slice from a DataFrame.\n",
      "Try using .loc[row_indexer,col_indexer] = value instead\n",
      "\n",
      "See the caveats in the documentation: https://pandas.pydata.org/pandas-docs/stable/user_guide/indexing.html#returning-a-view-versus-a-copy\n",
      "  time_serie['Change'] = time_serie['Change'].astype('Int64')\n",
      "C:\\Users\\Miguel Mendes\\AppData\\Local\\Temp\\ipykernel_8516\\2327759639.py:20: SettingWithCopyWarning: \n",
      "A value is trying to be set on a copy of a slice from a DataFrame\n",
      "\n",
      "See the caveats in the documentation: https://pandas.pydata.org/pandas-docs/stable/user_guide/indexing.html#returning-a-view-versus-a-copy\n",
      "  time_serie.drop(columns=['Seller ID', 'Day of Week', 'Last Week', 'Last Month'], inplace=True)\n",
      "C:\\Users\\Miguel Mendes\\AppData\\Local\\Temp\\ipykernel_8516\\2327759639.py:21: SettingWithCopyWarning: \n",
      "A value is trying to be set on a copy of a slice from a DataFrame.\n",
      "Try using .loc[row_indexer,col_indexer] = value instead\n",
      "\n",
      "See the caveats in the documentation: https://pandas.pydata.org/pandas-docs/stable/user_guide/indexing.html#returning-a-view-versus-a-copy\n",
      "  time_serie['Change'] = time_serie['Change'].astype('Int64')\n"
     ]
    },
    {
     "name": "stdout",
     "output_type": "stream",
     "text": [
      "Erro Médio Absoluto (MAE) para Seller ID 100000655: 0.0043215337209403515\n",
      "Processando Seller ID: 100001535\n",
      "Erro Médio Absoluto (MAE) para Seller ID 100001535: 0.021249907091259956\n",
      "Processando Seller ID: 100000041\n"
     ]
    },
    {
     "name": "stderr",
     "output_type": "stream",
     "text": [
      "C:\\Users\\Miguel Mendes\\AppData\\Local\\Temp\\ipykernel_8516\\2327759639.py:20: SettingWithCopyWarning: \n",
      "A value is trying to be set on a copy of a slice from a DataFrame\n",
      "\n",
      "See the caveats in the documentation: https://pandas.pydata.org/pandas-docs/stable/user_guide/indexing.html#returning-a-view-versus-a-copy\n",
      "  time_serie.drop(columns=['Seller ID', 'Day of Week', 'Last Week', 'Last Month'], inplace=True)\n",
      "C:\\Users\\Miguel Mendes\\AppData\\Local\\Temp\\ipykernel_8516\\2327759639.py:21: SettingWithCopyWarning: \n",
      "A value is trying to be set on a copy of a slice from a DataFrame.\n",
      "Try using .loc[row_indexer,col_indexer] = value instead\n",
      "\n",
      "See the caveats in the documentation: https://pandas.pydata.org/pandas-docs/stable/user_guide/indexing.html#returning-a-view-versus-a-copy\n",
      "  time_serie['Change'] = time_serie['Change'].astype('Int64')\n",
      "C:\\Users\\Miguel Mendes\\AppData\\Local\\Temp\\ipykernel_8516\\2327759639.py:20: SettingWithCopyWarning: \n",
      "A value is trying to be set on a copy of a slice from a DataFrame\n",
      "\n",
      "See the caveats in the documentation: https://pandas.pydata.org/pandas-docs/stable/user_guide/indexing.html#returning-a-view-versus-a-copy\n",
      "  time_serie.drop(columns=['Seller ID', 'Day of Week', 'Last Week', 'Last Month'], inplace=True)\n",
      "C:\\Users\\Miguel Mendes\\AppData\\Local\\Temp\\ipykernel_8516\\2327759639.py:21: SettingWithCopyWarning: \n",
      "A value is trying to be set on a copy of a slice from a DataFrame.\n",
      "Try using .loc[row_indexer,col_indexer] = value instead\n",
      "\n",
      "See the caveats in the documentation: https://pandas.pydata.org/pandas-docs/stable/user_guide/indexing.html#returning-a-view-versus-a-copy\n",
      "  time_serie['Change'] = time_serie['Change'].astype('Int64')\n"
     ]
    },
    {
     "name": "stdout",
     "output_type": "stream",
     "text": [
      "Erro Médio Absoluto (MAE) para Seller ID 100000041: 0.0005122915608808398\n",
      "Processando Seller ID: 100000501\n",
      "Erro Médio Absoluto (MAE) para Seller ID 100000501: 0.012869044207036495\n",
      "Processando Seller ID: 100000916\n"
     ]
    },
    {
     "name": "stderr",
     "output_type": "stream",
     "text": [
      "C:\\Users\\Miguel Mendes\\AppData\\Local\\Temp\\ipykernel_8516\\2327759639.py:20: SettingWithCopyWarning: \n",
      "A value is trying to be set on a copy of a slice from a DataFrame\n",
      "\n",
      "See the caveats in the documentation: https://pandas.pydata.org/pandas-docs/stable/user_guide/indexing.html#returning-a-view-versus-a-copy\n",
      "  time_serie.drop(columns=['Seller ID', 'Day of Week', 'Last Week', 'Last Month'], inplace=True)\n",
      "C:\\Users\\Miguel Mendes\\AppData\\Local\\Temp\\ipykernel_8516\\2327759639.py:21: SettingWithCopyWarning: \n",
      "A value is trying to be set on a copy of a slice from a DataFrame.\n",
      "Try using .loc[row_indexer,col_indexer] = value instead\n",
      "\n",
      "See the caveats in the documentation: https://pandas.pydata.org/pandas-docs/stable/user_guide/indexing.html#returning-a-view-versus-a-copy\n",
      "  time_serie['Change'] = time_serie['Change'].astype('Int64')\n",
      "C:\\Users\\Miguel Mendes\\AppData\\Local\\Temp\\ipykernel_8516\\2327759639.py:20: SettingWithCopyWarning: \n",
      "A value is trying to be set on a copy of a slice from a DataFrame\n",
      "\n",
      "See the caveats in the documentation: https://pandas.pydata.org/pandas-docs/stable/user_guide/indexing.html#returning-a-view-versus-a-copy\n",
      "  time_serie.drop(columns=['Seller ID', 'Day of Week', 'Last Week', 'Last Month'], inplace=True)\n",
      "C:\\Users\\Miguel Mendes\\AppData\\Local\\Temp\\ipykernel_8516\\2327759639.py:21: SettingWithCopyWarning: \n",
      "A value is trying to be set on a copy of a slice from a DataFrame.\n",
      "Try using .loc[row_indexer,col_indexer] = value instead\n",
      "\n",
      "See the caveats in the documentation: https://pandas.pydata.org/pandas-docs/stable/user_guide/indexing.html#returning-a-view-versus-a-copy\n",
      "  time_serie['Change'] = time_serie['Change'].astype('Int64')\n"
     ]
    },
    {
     "name": "stdout",
     "output_type": "stream",
     "text": [
      "Erro Médio Absoluto (MAE) para Seller ID 100000916: 0.010856615379452705\n",
      "Processando Seller ID: 100000497\n",
      "Erro Médio Absoluto (MAE) para Seller ID 100000497: 0.007275183219462633\n",
      "Processando Seller ID: 100000337\n"
     ]
    },
    {
     "name": "stderr",
     "output_type": "stream",
     "text": [
      "C:\\Users\\Miguel Mendes\\AppData\\Local\\Temp\\ipykernel_8516\\2327759639.py:20: SettingWithCopyWarning: \n",
      "A value is trying to be set on a copy of a slice from a DataFrame\n",
      "\n",
      "See the caveats in the documentation: https://pandas.pydata.org/pandas-docs/stable/user_guide/indexing.html#returning-a-view-versus-a-copy\n",
      "  time_serie.drop(columns=['Seller ID', 'Day of Week', 'Last Week', 'Last Month'], inplace=True)\n",
      "C:\\Users\\Miguel Mendes\\AppData\\Local\\Temp\\ipykernel_8516\\2327759639.py:21: SettingWithCopyWarning: \n",
      "A value is trying to be set on a copy of a slice from a DataFrame.\n",
      "Try using .loc[row_indexer,col_indexer] = value instead\n",
      "\n",
      "See the caveats in the documentation: https://pandas.pydata.org/pandas-docs/stable/user_guide/indexing.html#returning-a-view-versus-a-copy\n",
      "  time_serie['Change'] = time_serie['Change'].astype('Int64')\n",
      "C:\\Users\\Miguel Mendes\\AppData\\Local\\Temp\\ipykernel_8516\\2327759639.py:20: SettingWithCopyWarning: \n",
      "A value is trying to be set on a copy of a slice from a DataFrame\n",
      "\n",
      "See the caveats in the documentation: https://pandas.pydata.org/pandas-docs/stable/user_guide/indexing.html#returning-a-view-versus-a-copy\n",
      "  time_serie.drop(columns=['Seller ID', 'Day of Week', 'Last Week', 'Last Month'], inplace=True)\n",
      "C:\\Users\\Miguel Mendes\\AppData\\Local\\Temp\\ipykernel_8516\\2327759639.py:21: SettingWithCopyWarning: \n",
      "A value is trying to be set on a copy of a slice from a DataFrame.\n",
      "Try using .loc[row_indexer,col_indexer] = value instead\n",
      "\n",
      "See the caveats in the documentation: https://pandas.pydata.org/pandas-docs/stable/user_guide/indexing.html#returning-a-view-versus-a-copy\n",
      "  time_serie['Change'] = time_serie['Change'].astype('Int64')\n"
     ]
    },
    {
     "name": "stdout",
     "output_type": "stream",
     "text": [
      "Erro Médio Absoluto (MAE) para Seller ID 100000337: 0.08508394658565521\n",
      "Processando Seller ID: 100000162\n",
      "Erro Médio Absoluto (MAE) para Seller ID 100000162: 0.00034728297032415867\n",
      "Processando Seller ID: 100000055\n"
     ]
    },
    {
     "name": "stderr",
     "output_type": "stream",
     "text": [
      "C:\\Users\\Miguel Mendes\\AppData\\Local\\Temp\\ipykernel_8516\\2327759639.py:20: SettingWithCopyWarning: \n",
      "A value is trying to be set on a copy of a slice from a DataFrame\n",
      "\n",
      "See the caveats in the documentation: https://pandas.pydata.org/pandas-docs/stable/user_guide/indexing.html#returning-a-view-versus-a-copy\n",
      "  time_serie.drop(columns=['Seller ID', 'Day of Week', 'Last Week', 'Last Month'], inplace=True)\n",
      "C:\\Users\\Miguel Mendes\\AppData\\Local\\Temp\\ipykernel_8516\\2327759639.py:21: SettingWithCopyWarning: \n",
      "A value is trying to be set on a copy of a slice from a DataFrame.\n",
      "Try using .loc[row_indexer,col_indexer] = value instead\n",
      "\n",
      "See the caveats in the documentation: https://pandas.pydata.org/pandas-docs/stable/user_guide/indexing.html#returning-a-view-versus-a-copy\n",
      "  time_serie['Change'] = time_serie['Change'].astype('Int64')\n",
      "C:\\Users\\Miguel Mendes\\AppData\\Local\\Temp\\ipykernel_8516\\2327759639.py:20: SettingWithCopyWarning: \n",
      "A value is trying to be set on a copy of a slice from a DataFrame\n",
      "\n",
      "See the caveats in the documentation: https://pandas.pydata.org/pandas-docs/stable/user_guide/indexing.html#returning-a-view-versus-a-copy\n",
      "  time_serie.drop(columns=['Seller ID', 'Day of Week', 'Last Week', 'Last Month'], inplace=True)\n",
      "C:\\Users\\Miguel Mendes\\AppData\\Local\\Temp\\ipykernel_8516\\2327759639.py:21: SettingWithCopyWarning: \n",
      "A value is trying to be set on a copy of a slice from a DataFrame.\n",
      "Try using .loc[row_indexer,col_indexer] = value instead\n",
      "\n",
      "See the caveats in the documentation: https://pandas.pydata.org/pandas-docs/stable/user_guide/indexing.html#returning-a-view-versus-a-copy\n",
      "  time_serie['Change'] = time_serie['Change'].astype('Int64')\n"
     ]
    },
    {
     "name": "stdout",
     "output_type": "stream",
     "text": [
      "Erro Médio Absoluto (MAE) para Seller ID 100000055: 0.011445799842476845\n",
      "Processando Seller ID: 100000147\n",
      "Erro Médio Absoluto (MAE) para Seller ID 100000147: 2.5107787223532796e-05\n",
      "Processando Seller ID: 100001052\n"
     ]
    },
    {
     "name": "stderr",
     "output_type": "stream",
     "text": [
      "C:\\Users\\Miguel Mendes\\AppData\\Local\\Temp\\ipykernel_8516\\2327759639.py:20: SettingWithCopyWarning: \n",
      "A value is trying to be set on a copy of a slice from a DataFrame\n",
      "\n",
      "See the caveats in the documentation: https://pandas.pydata.org/pandas-docs/stable/user_guide/indexing.html#returning-a-view-versus-a-copy\n",
      "  time_serie.drop(columns=['Seller ID', 'Day of Week', 'Last Week', 'Last Month'], inplace=True)\n",
      "C:\\Users\\Miguel Mendes\\AppData\\Local\\Temp\\ipykernel_8516\\2327759639.py:21: SettingWithCopyWarning: \n",
      "A value is trying to be set on a copy of a slice from a DataFrame.\n",
      "Try using .loc[row_indexer,col_indexer] = value instead\n",
      "\n",
      "See the caveats in the documentation: https://pandas.pydata.org/pandas-docs/stable/user_guide/indexing.html#returning-a-view-versus-a-copy\n",
      "  time_serie['Change'] = time_serie['Change'].astype('Int64')\n",
      "C:\\Users\\Miguel Mendes\\AppData\\Local\\Temp\\ipykernel_8516\\2327759639.py:20: SettingWithCopyWarning: \n",
      "A value is trying to be set on a copy of a slice from a DataFrame\n",
      "\n",
      "See the caveats in the documentation: https://pandas.pydata.org/pandas-docs/stable/user_guide/indexing.html#returning-a-view-versus-a-copy\n",
      "  time_serie.drop(columns=['Seller ID', 'Day of Week', 'Last Week', 'Last Month'], inplace=True)\n",
      "C:\\Users\\Miguel Mendes\\AppData\\Local\\Temp\\ipykernel_8516\\2327759639.py:21: SettingWithCopyWarning: \n",
      "A value is trying to be set on a copy of a slice from a DataFrame.\n",
      "Try using .loc[row_indexer,col_indexer] = value instead\n",
      "\n",
      "See the caveats in the documentation: https://pandas.pydata.org/pandas-docs/stable/user_guide/indexing.html#returning-a-view-versus-a-copy\n",
      "  time_serie['Change'] = time_serie['Change'].astype('Int64')\n"
     ]
    },
    {
     "name": "stdout",
     "output_type": "stream",
     "text": [
      "Erro Médio Absoluto (MAE) para Seller ID 100001052: 0.0032673983369022608\n",
      "Processando Seller ID: 100000089\n",
      "Erro Médio Absoluto (MAE) para Seller ID 100000089: 0.09166422486305237\n",
      "Processando Seller ID: 100001338\n"
     ]
    },
    {
     "name": "stderr",
     "output_type": "stream",
     "text": [
      "C:\\Users\\Miguel Mendes\\AppData\\Local\\Temp\\ipykernel_8516\\2327759639.py:20: SettingWithCopyWarning: \n",
      "A value is trying to be set on a copy of a slice from a DataFrame\n",
      "\n",
      "See the caveats in the documentation: https://pandas.pydata.org/pandas-docs/stable/user_guide/indexing.html#returning-a-view-versus-a-copy\n",
      "  time_serie.drop(columns=['Seller ID', 'Day of Week', 'Last Week', 'Last Month'], inplace=True)\n",
      "C:\\Users\\Miguel Mendes\\AppData\\Local\\Temp\\ipykernel_8516\\2327759639.py:21: SettingWithCopyWarning: \n",
      "A value is trying to be set on a copy of a slice from a DataFrame.\n",
      "Try using .loc[row_indexer,col_indexer] = value instead\n",
      "\n",
      "See the caveats in the documentation: https://pandas.pydata.org/pandas-docs/stable/user_guide/indexing.html#returning-a-view-versus-a-copy\n",
      "  time_serie['Change'] = time_serie['Change'].astype('Int64')\n",
      "C:\\Users\\Miguel Mendes\\AppData\\Local\\Temp\\ipykernel_8516\\2327759639.py:20: SettingWithCopyWarning: \n",
      "A value is trying to be set on a copy of a slice from a DataFrame\n",
      "\n",
      "See the caveats in the documentation: https://pandas.pydata.org/pandas-docs/stable/user_guide/indexing.html#returning-a-view-versus-a-copy\n",
      "  time_serie.drop(columns=['Seller ID', 'Day of Week', 'Last Week', 'Last Month'], inplace=True)\n",
      "C:\\Users\\Miguel Mendes\\AppData\\Local\\Temp\\ipykernel_8516\\2327759639.py:21: SettingWithCopyWarning: \n",
      "A value is trying to be set on a copy of a slice from a DataFrame.\n",
      "Try using .loc[row_indexer,col_indexer] = value instead\n",
      "\n",
      "See the caveats in the documentation: https://pandas.pydata.org/pandas-docs/stable/user_guide/indexing.html#returning-a-view-versus-a-copy\n",
      "  time_serie['Change'] = time_serie['Change'].astype('Int64')\n"
     ]
    },
    {
     "name": "stdout",
     "output_type": "stream",
     "text": [
      "Erro Médio Absoluto (MAE) para Seller ID 100001338: 0.0023135885130614042\n",
      "Processando Seller ID: 100000813\n"
     ]
    },
    {
     "name": "stderr",
     "output_type": "stream",
     "text": [
      "C:\\Users\\Miguel Mendes\\AppData\\Local\\Temp\\ipykernel_8516\\2327759639.py:20: SettingWithCopyWarning: \n",
      "A value is trying to be set on a copy of a slice from a DataFrame\n",
      "\n",
      "See the caveats in the documentation: https://pandas.pydata.org/pandas-docs/stable/user_guide/indexing.html#returning-a-view-versus-a-copy\n",
      "  time_serie.drop(columns=['Seller ID', 'Day of Week', 'Last Week', 'Last Month'], inplace=True)\n",
      "C:\\Users\\Miguel Mendes\\AppData\\Local\\Temp\\ipykernel_8516\\2327759639.py:21: SettingWithCopyWarning: \n",
      "A value is trying to be set on a copy of a slice from a DataFrame.\n",
      "Try using .loc[row_indexer,col_indexer] = value instead\n",
      "\n",
      "See the caveats in the documentation: https://pandas.pydata.org/pandas-docs/stable/user_guide/indexing.html#returning-a-view-versus-a-copy\n",
      "  time_serie['Change'] = time_serie['Change'].astype('Int64')\n"
     ]
    },
    {
     "name": "stdout",
     "output_type": "stream",
     "text": [
      "Erro Médio Absoluto (MAE) para Seller ID 100000813: 0.013508117757737637\n",
      "Processando Seller ID: 100000445\n",
      "Erro Médio Absoluto (MAE) para Seller ID 100000445: 0.009244021028280258\n",
      "Processando Seller ID: 100001442\n"
     ]
    },
    {
     "name": "stderr",
     "output_type": "stream",
     "text": [
      "C:\\Users\\Miguel Mendes\\AppData\\Local\\Temp\\ipykernel_8516\\2327759639.py:20: SettingWithCopyWarning: \n",
      "A value is trying to be set on a copy of a slice from a DataFrame\n",
      "\n",
      "See the caveats in the documentation: https://pandas.pydata.org/pandas-docs/stable/user_guide/indexing.html#returning-a-view-versus-a-copy\n",
      "  time_serie.drop(columns=['Seller ID', 'Day of Week', 'Last Week', 'Last Month'], inplace=True)\n",
      "C:\\Users\\Miguel Mendes\\AppData\\Local\\Temp\\ipykernel_8516\\2327759639.py:21: SettingWithCopyWarning: \n",
      "A value is trying to be set on a copy of a slice from a DataFrame.\n",
      "Try using .loc[row_indexer,col_indexer] = value instead\n",
      "\n",
      "See the caveats in the documentation: https://pandas.pydata.org/pandas-docs/stable/user_guide/indexing.html#returning-a-view-versus-a-copy\n",
      "  time_serie['Change'] = time_serie['Change'].astype('Int64')\n",
      "C:\\Users\\Miguel Mendes\\AppData\\Local\\Temp\\ipykernel_8516\\2327759639.py:20: SettingWithCopyWarning: \n",
      "A value is trying to be set on a copy of a slice from a DataFrame\n",
      "\n",
      "See the caveats in the documentation: https://pandas.pydata.org/pandas-docs/stable/user_guide/indexing.html#returning-a-view-versus-a-copy\n",
      "  time_serie.drop(columns=['Seller ID', 'Day of Week', 'Last Week', 'Last Month'], inplace=True)\n",
      "C:\\Users\\Miguel Mendes\\AppData\\Local\\Temp\\ipykernel_8516\\2327759639.py:21: SettingWithCopyWarning: \n",
      "A value is trying to be set on a copy of a slice from a DataFrame.\n",
      "Try using .loc[row_indexer,col_indexer] = value instead\n",
      "\n",
      "See the caveats in the documentation: https://pandas.pydata.org/pandas-docs/stable/user_guide/indexing.html#returning-a-view-versus-a-copy\n",
      "  time_serie['Change'] = time_serie['Change'].astype('Int64')\n"
     ]
    },
    {
     "name": "stdout",
     "output_type": "stream",
     "text": [
      "Erro Médio Absoluto (MAE) para Seller ID 100001442: 0.03486905246973038\n",
      "Processando Seller ID: 100001900\n",
      "Erro Médio Absoluto (MAE) para Seller ID 100001900: 0.1641685664653778\n",
      "Processando Seller ID: 100000515\n"
     ]
    },
    {
     "name": "stderr",
     "output_type": "stream",
     "text": [
      "C:\\Users\\Miguel Mendes\\AppData\\Local\\Temp\\ipykernel_8516\\2327759639.py:20: SettingWithCopyWarning: \n",
      "A value is trying to be set on a copy of a slice from a DataFrame\n",
      "\n",
      "See the caveats in the documentation: https://pandas.pydata.org/pandas-docs/stable/user_guide/indexing.html#returning-a-view-versus-a-copy\n",
      "  time_serie.drop(columns=['Seller ID', 'Day of Week', 'Last Week', 'Last Month'], inplace=True)\n",
      "C:\\Users\\Miguel Mendes\\AppData\\Local\\Temp\\ipykernel_8516\\2327759639.py:21: SettingWithCopyWarning: \n",
      "A value is trying to be set on a copy of a slice from a DataFrame.\n",
      "Try using .loc[row_indexer,col_indexer] = value instead\n",
      "\n",
      "See the caveats in the documentation: https://pandas.pydata.org/pandas-docs/stable/user_guide/indexing.html#returning-a-view-versus-a-copy\n",
      "  time_serie['Change'] = time_serie['Change'].astype('Int64')\n",
      "C:\\Users\\Miguel Mendes\\AppData\\Local\\Temp\\ipykernel_8516\\2327759639.py:20: SettingWithCopyWarning: \n",
      "A value is trying to be set on a copy of a slice from a DataFrame\n",
      "\n",
      "See the caveats in the documentation: https://pandas.pydata.org/pandas-docs/stable/user_guide/indexing.html#returning-a-view-versus-a-copy\n",
      "  time_serie.drop(columns=['Seller ID', 'Day of Week', 'Last Week', 'Last Month'], inplace=True)\n",
      "C:\\Users\\Miguel Mendes\\AppData\\Local\\Temp\\ipykernel_8516\\2327759639.py:21: SettingWithCopyWarning: \n",
      "A value is trying to be set on a copy of a slice from a DataFrame.\n",
      "Try using .loc[row_indexer,col_indexer] = value instead\n",
      "\n",
      "See the caveats in the documentation: https://pandas.pydata.org/pandas-docs/stable/user_guide/indexing.html#returning-a-view-versus-a-copy\n",
      "  time_serie['Change'] = time_serie['Change'].astype('Int64')\n"
     ]
    },
    {
     "name": "stdout",
     "output_type": "stream",
     "text": [
      "Erro Médio Absoluto (MAE) para Seller ID 100000515: 0.2836933732032776\n",
      "Processando Seller ID: 100000971\n",
      "Erro Médio Absoluto (MAE) para Seller ID 100000971: 0.003329751081764698\n",
      "Processando Seller ID: 100000283\n"
     ]
    },
    {
     "name": "stderr",
     "output_type": "stream",
     "text": [
      "C:\\Users\\Miguel Mendes\\AppData\\Local\\Temp\\ipykernel_8516\\2327759639.py:20: SettingWithCopyWarning: \n",
      "A value is trying to be set on a copy of a slice from a DataFrame\n",
      "\n",
      "See the caveats in the documentation: https://pandas.pydata.org/pandas-docs/stable/user_guide/indexing.html#returning-a-view-versus-a-copy\n",
      "  time_serie.drop(columns=['Seller ID', 'Day of Week', 'Last Week', 'Last Month'], inplace=True)\n",
      "C:\\Users\\Miguel Mendes\\AppData\\Local\\Temp\\ipykernel_8516\\2327759639.py:21: SettingWithCopyWarning: \n",
      "A value is trying to be set on a copy of a slice from a DataFrame.\n",
      "Try using .loc[row_indexer,col_indexer] = value instead\n",
      "\n",
      "See the caveats in the documentation: https://pandas.pydata.org/pandas-docs/stable/user_guide/indexing.html#returning-a-view-versus-a-copy\n",
      "  time_serie['Change'] = time_serie['Change'].astype('Int64')\n",
      "C:\\Users\\Miguel Mendes\\AppData\\Local\\Temp\\ipykernel_8516\\2327759639.py:20: SettingWithCopyWarning: \n",
      "A value is trying to be set on a copy of a slice from a DataFrame\n",
      "\n",
      "See the caveats in the documentation: https://pandas.pydata.org/pandas-docs/stable/user_guide/indexing.html#returning-a-view-versus-a-copy\n",
      "  time_serie.drop(columns=['Seller ID', 'Day of Week', 'Last Week', 'Last Month'], inplace=True)\n",
      "C:\\Users\\Miguel Mendes\\AppData\\Local\\Temp\\ipykernel_8516\\2327759639.py:21: SettingWithCopyWarning: \n",
      "A value is trying to be set on a copy of a slice from a DataFrame.\n",
      "Try using .loc[row_indexer,col_indexer] = value instead\n",
      "\n",
      "See the caveats in the documentation: https://pandas.pydata.org/pandas-docs/stable/user_guide/indexing.html#returning-a-view-versus-a-copy\n",
      "  time_serie['Change'] = time_serie['Change'].astype('Int64')\n"
     ]
    },
    {
     "name": "stdout",
     "output_type": "stream",
     "text": [
      "Erro Médio Absoluto (MAE) para Seller ID 100000283: 0.04465075209736824\n",
      "Processando Seller ID: 100001455\n",
      "Erro Médio Absoluto (MAE) para Seller ID 100001455: 0.027226384729146957\n",
      "Processando Seller ID: 100000334\n"
     ]
    },
    {
     "name": "stderr",
     "output_type": "stream",
     "text": [
      "C:\\Users\\Miguel Mendes\\AppData\\Local\\Temp\\ipykernel_8516\\2327759639.py:20: SettingWithCopyWarning: \n",
      "A value is trying to be set on a copy of a slice from a DataFrame\n",
      "\n",
      "See the caveats in the documentation: https://pandas.pydata.org/pandas-docs/stable/user_guide/indexing.html#returning-a-view-versus-a-copy\n",
      "  time_serie.drop(columns=['Seller ID', 'Day of Week', 'Last Week', 'Last Month'], inplace=True)\n",
      "C:\\Users\\Miguel Mendes\\AppData\\Local\\Temp\\ipykernel_8516\\2327759639.py:21: SettingWithCopyWarning: \n",
      "A value is trying to be set on a copy of a slice from a DataFrame.\n",
      "Try using .loc[row_indexer,col_indexer] = value instead\n",
      "\n",
      "See the caveats in the documentation: https://pandas.pydata.org/pandas-docs/stable/user_guide/indexing.html#returning-a-view-versus-a-copy\n",
      "  time_serie['Change'] = time_serie['Change'].astype('Int64')\n",
      "C:\\Users\\Miguel Mendes\\AppData\\Local\\Temp\\ipykernel_8516\\2327759639.py:20: SettingWithCopyWarning: \n",
      "A value is trying to be set on a copy of a slice from a DataFrame\n",
      "\n",
      "See the caveats in the documentation: https://pandas.pydata.org/pandas-docs/stable/user_guide/indexing.html#returning-a-view-versus-a-copy\n",
      "  time_serie.drop(columns=['Seller ID', 'Day of Week', 'Last Week', 'Last Month'], inplace=True)\n",
      "C:\\Users\\Miguel Mendes\\AppData\\Local\\Temp\\ipykernel_8516\\2327759639.py:21: SettingWithCopyWarning: \n",
      "A value is trying to be set on a copy of a slice from a DataFrame.\n",
      "Try using .loc[row_indexer,col_indexer] = value instead\n",
      "\n",
      "See the caveats in the documentation: https://pandas.pydata.org/pandas-docs/stable/user_guide/indexing.html#returning-a-view-versus-a-copy\n",
      "  time_serie['Change'] = time_serie['Change'].astype('Int64')\n"
     ]
    },
    {
     "name": "stdout",
     "output_type": "stream",
     "text": [
      "Erro Médio Absoluto (MAE) para Seller ID 100000334: 0.004604721441864967\n",
      "Processando Seller ID: 100001148\n",
      "Erro Médio Absoluto (MAE) para Seller ID 100001148: 0.0006244146497920156\n",
      "Processando Seller ID: 100001211\n"
     ]
    },
    {
     "name": "stderr",
     "output_type": "stream",
     "text": [
      "C:\\Users\\Miguel Mendes\\AppData\\Local\\Temp\\ipykernel_8516\\2327759639.py:20: SettingWithCopyWarning: \n",
      "A value is trying to be set on a copy of a slice from a DataFrame\n",
      "\n",
      "See the caveats in the documentation: https://pandas.pydata.org/pandas-docs/stable/user_guide/indexing.html#returning-a-view-versus-a-copy\n",
      "  time_serie.drop(columns=['Seller ID', 'Day of Week', 'Last Week', 'Last Month'], inplace=True)\n",
      "C:\\Users\\Miguel Mendes\\AppData\\Local\\Temp\\ipykernel_8516\\2327759639.py:21: SettingWithCopyWarning: \n",
      "A value is trying to be set on a copy of a slice from a DataFrame.\n",
      "Try using .loc[row_indexer,col_indexer] = value instead\n",
      "\n",
      "See the caveats in the documentation: https://pandas.pydata.org/pandas-docs/stable/user_guide/indexing.html#returning-a-view-versus-a-copy\n",
      "  time_serie['Change'] = time_serie['Change'].astype('Int64')\n",
      "C:\\Users\\Miguel Mendes\\AppData\\Local\\Temp\\ipykernel_8516\\2327759639.py:20: SettingWithCopyWarning: \n",
      "A value is trying to be set on a copy of a slice from a DataFrame\n",
      "\n",
      "See the caveats in the documentation: https://pandas.pydata.org/pandas-docs/stable/user_guide/indexing.html#returning-a-view-versus-a-copy\n",
      "  time_serie.drop(columns=['Seller ID', 'Day of Week', 'Last Week', 'Last Month'], inplace=True)\n",
      "C:\\Users\\Miguel Mendes\\AppData\\Local\\Temp\\ipykernel_8516\\2327759639.py:21: SettingWithCopyWarning: \n",
      "A value is trying to be set on a copy of a slice from a DataFrame.\n",
      "Try using .loc[row_indexer,col_indexer] = value instead\n",
      "\n",
      "See the caveats in the documentation: https://pandas.pydata.org/pandas-docs/stable/user_guide/indexing.html#returning-a-view-versus-a-copy\n",
      "  time_serie['Change'] = time_serie['Change'].astype('Int64')\n"
     ]
    },
    {
     "name": "stdout",
     "output_type": "stream",
     "text": [
      "Erro Médio Absoluto (MAE) para Seller ID 100001211: 0.0012164524523541331\n",
      "Processando Seller ID: 100000973\n",
      "Erro Médio Absoluto (MAE) para Seller ID 100000973: 0.04748194292187691\n",
      "Processando Seller ID: 100000659\n"
     ]
    },
    {
     "name": "stderr",
     "output_type": "stream",
     "text": [
      "C:\\Users\\Miguel Mendes\\AppData\\Local\\Temp\\ipykernel_8516\\2327759639.py:20: SettingWithCopyWarning: \n",
      "A value is trying to be set on a copy of a slice from a DataFrame\n",
      "\n",
      "See the caveats in the documentation: https://pandas.pydata.org/pandas-docs/stable/user_guide/indexing.html#returning-a-view-versus-a-copy\n",
      "  time_serie.drop(columns=['Seller ID', 'Day of Week', 'Last Week', 'Last Month'], inplace=True)\n",
      "C:\\Users\\Miguel Mendes\\AppData\\Local\\Temp\\ipykernel_8516\\2327759639.py:21: SettingWithCopyWarning: \n",
      "A value is trying to be set on a copy of a slice from a DataFrame.\n",
      "Try using .loc[row_indexer,col_indexer] = value instead\n",
      "\n",
      "See the caveats in the documentation: https://pandas.pydata.org/pandas-docs/stable/user_guide/indexing.html#returning-a-view-versus-a-copy\n",
      "  time_serie['Change'] = time_serie['Change'].astype('Int64')\n",
      "C:\\Users\\Miguel Mendes\\AppData\\Local\\Temp\\ipykernel_8516\\2327759639.py:20: SettingWithCopyWarning: \n",
      "A value is trying to be set on a copy of a slice from a DataFrame\n",
      "\n",
      "See the caveats in the documentation: https://pandas.pydata.org/pandas-docs/stable/user_guide/indexing.html#returning-a-view-versus-a-copy\n",
      "  time_serie.drop(columns=['Seller ID', 'Day of Week', 'Last Week', 'Last Month'], inplace=True)\n",
      "C:\\Users\\Miguel Mendes\\AppData\\Local\\Temp\\ipykernel_8516\\2327759639.py:21: SettingWithCopyWarning: \n",
      "A value is trying to be set on a copy of a slice from a DataFrame.\n",
      "Try using .loc[row_indexer,col_indexer] = value instead\n",
      "\n",
      "See the caveats in the documentation: https://pandas.pydata.org/pandas-docs/stable/user_guide/indexing.html#returning-a-view-versus-a-copy\n",
      "  time_serie['Change'] = time_serie['Change'].astype('Int64')\n"
     ]
    },
    {
     "name": "stdout",
     "output_type": "stream",
     "text": [
      "Erro Médio Absoluto (MAE) para Seller ID 100000659: 0.013156775385141373\n",
      "Processando Seller ID: 100000355\n",
      "Erro Médio Absoluto (MAE) para Seller ID 100000355: 0.0030565024353563786\n",
      "Processando Seller ID: 100001857\n"
     ]
    },
    {
     "name": "stderr",
     "output_type": "stream",
     "text": [
      "C:\\Users\\Miguel Mendes\\AppData\\Local\\Temp\\ipykernel_8516\\2327759639.py:20: SettingWithCopyWarning: \n",
      "A value is trying to be set on a copy of a slice from a DataFrame\n",
      "\n",
      "See the caveats in the documentation: https://pandas.pydata.org/pandas-docs/stable/user_guide/indexing.html#returning-a-view-versus-a-copy\n",
      "  time_serie.drop(columns=['Seller ID', 'Day of Week', 'Last Week', 'Last Month'], inplace=True)\n",
      "C:\\Users\\Miguel Mendes\\AppData\\Local\\Temp\\ipykernel_8516\\2327759639.py:21: SettingWithCopyWarning: \n",
      "A value is trying to be set on a copy of a slice from a DataFrame.\n",
      "Try using .loc[row_indexer,col_indexer] = value instead\n",
      "\n",
      "See the caveats in the documentation: https://pandas.pydata.org/pandas-docs/stable/user_guide/indexing.html#returning-a-view-versus-a-copy\n",
      "  time_serie['Change'] = time_serie['Change'].astype('Int64')\n",
      "C:\\Users\\Miguel Mendes\\AppData\\Local\\Temp\\ipykernel_8516\\2327759639.py:20: SettingWithCopyWarning: \n",
      "A value is trying to be set on a copy of a slice from a DataFrame\n",
      "\n",
      "See the caveats in the documentation: https://pandas.pydata.org/pandas-docs/stable/user_guide/indexing.html#returning-a-view-versus-a-copy\n",
      "  time_serie.drop(columns=['Seller ID', 'Day of Week', 'Last Week', 'Last Month'], inplace=True)\n",
      "C:\\Users\\Miguel Mendes\\AppData\\Local\\Temp\\ipykernel_8516\\2327759639.py:21: SettingWithCopyWarning: \n",
      "A value is trying to be set on a copy of a slice from a DataFrame.\n",
      "Try using .loc[row_indexer,col_indexer] = value instead\n",
      "\n",
      "See the caveats in the documentation: https://pandas.pydata.org/pandas-docs/stable/user_guide/indexing.html#returning-a-view-versus-a-copy\n",
      "  time_serie['Change'] = time_serie['Change'].astype('Int64')\n"
     ]
    },
    {
     "name": "stdout",
     "output_type": "stream",
     "text": [
      "Erro Médio Absoluto (MAE) para Seller ID 100001857: 0.015353363007307053\n",
      "Processando Seller ID: 100000186\n",
      "Erro Médio Absoluto (MAE) para Seller ID 100000186: 0.003931484650820494\n",
      "Processando Seller ID: 100001345\n"
     ]
    },
    {
     "name": "stderr",
     "output_type": "stream",
     "text": [
      "C:\\Users\\Miguel Mendes\\AppData\\Local\\Temp\\ipykernel_8516\\2327759639.py:20: SettingWithCopyWarning: \n",
      "A value is trying to be set on a copy of a slice from a DataFrame\n",
      "\n",
      "See the caveats in the documentation: https://pandas.pydata.org/pandas-docs/stable/user_guide/indexing.html#returning-a-view-versus-a-copy\n",
      "  time_serie.drop(columns=['Seller ID', 'Day of Week', 'Last Week', 'Last Month'], inplace=True)\n",
      "C:\\Users\\Miguel Mendes\\AppData\\Local\\Temp\\ipykernel_8516\\2327759639.py:21: SettingWithCopyWarning: \n",
      "A value is trying to be set on a copy of a slice from a DataFrame.\n",
      "Try using .loc[row_indexer,col_indexer] = value instead\n",
      "\n",
      "See the caveats in the documentation: https://pandas.pydata.org/pandas-docs/stable/user_guide/indexing.html#returning-a-view-versus-a-copy\n",
      "  time_serie['Change'] = time_serie['Change'].astype('Int64')\n",
      "C:\\Users\\Miguel Mendes\\AppData\\Local\\Temp\\ipykernel_8516\\2327759639.py:20: SettingWithCopyWarning: \n",
      "A value is trying to be set on a copy of a slice from a DataFrame\n",
      "\n",
      "See the caveats in the documentation: https://pandas.pydata.org/pandas-docs/stable/user_guide/indexing.html#returning-a-view-versus-a-copy\n",
      "  time_serie.drop(columns=['Seller ID', 'Day of Week', 'Last Week', 'Last Month'], inplace=True)\n",
      "C:\\Users\\Miguel Mendes\\AppData\\Local\\Temp\\ipykernel_8516\\2327759639.py:21: SettingWithCopyWarning: \n",
      "A value is trying to be set on a copy of a slice from a DataFrame.\n",
      "Try using .loc[row_indexer,col_indexer] = value instead\n",
      "\n",
      "See the caveats in the documentation: https://pandas.pydata.org/pandas-docs/stable/user_guide/indexing.html#returning-a-view-versus-a-copy\n",
      "  time_serie['Change'] = time_serie['Change'].astype('Int64')\n"
     ]
    },
    {
     "name": "stdout",
     "output_type": "stream",
     "text": [
      "Erro Médio Absoluto (MAE) para Seller ID 100001345: 0.1580944061279297\n",
      "Processando Seller ID: 100000760\n",
      "Erro Médio Absoluto (MAE) para Seller ID 100000760: 0.12305900454521179\n",
      "Processando Seller ID: 100001170\n"
     ]
    },
    {
     "name": "stderr",
     "output_type": "stream",
     "text": [
      "C:\\Users\\Miguel Mendes\\AppData\\Local\\Temp\\ipykernel_8516\\2327759639.py:20: SettingWithCopyWarning: \n",
      "A value is trying to be set on a copy of a slice from a DataFrame\n",
      "\n",
      "See the caveats in the documentation: https://pandas.pydata.org/pandas-docs/stable/user_guide/indexing.html#returning-a-view-versus-a-copy\n",
      "  time_serie.drop(columns=['Seller ID', 'Day of Week', 'Last Week', 'Last Month'], inplace=True)\n",
      "C:\\Users\\Miguel Mendes\\AppData\\Local\\Temp\\ipykernel_8516\\2327759639.py:21: SettingWithCopyWarning: \n",
      "A value is trying to be set on a copy of a slice from a DataFrame.\n",
      "Try using .loc[row_indexer,col_indexer] = value instead\n",
      "\n",
      "See the caveats in the documentation: https://pandas.pydata.org/pandas-docs/stable/user_guide/indexing.html#returning-a-view-versus-a-copy\n",
      "  time_serie['Change'] = time_serie['Change'].astype('Int64')\n",
      "C:\\Users\\Miguel Mendes\\AppData\\Local\\Temp\\ipykernel_8516\\2327759639.py:20: SettingWithCopyWarning: \n",
      "A value is trying to be set on a copy of a slice from a DataFrame\n",
      "\n",
      "See the caveats in the documentation: https://pandas.pydata.org/pandas-docs/stable/user_guide/indexing.html#returning-a-view-versus-a-copy\n",
      "  time_serie.drop(columns=['Seller ID', 'Day of Week', 'Last Week', 'Last Month'], inplace=True)\n",
      "C:\\Users\\Miguel Mendes\\AppData\\Local\\Temp\\ipykernel_8516\\2327759639.py:21: SettingWithCopyWarning: \n",
      "A value is trying to be set on a copy of a slice from a DataFrame.\n",
      "Try using .loc[row_indexer,col_indexer] = value instead\n",
      "\n",
      "See the caveats in the documentation: https://pandas.pydata.org/pandas-docs/stable/user_guide/indexing.html#returning-a-view-versus-a-copy\n",
      "  time_serie['Change'] = time_serie['Change'].astype('Int64')\n"
     ]
    },
    {
     "name": "stdout",
     "output_type": "stream",
     "text": [
      "Erro Médio Absoluto (MAE) para Seller ID 100001170: 0.03248231112957001\n",
      "Processando Seller ID: 100001543\n",
      "Erro Médio Absoluto (MAE) para Seller ID 100001543: 0.0174289308488369\n",
      "Processando Seller ID: 100000035\n"
     ]
    },
    {
     "name": "stderr",
     "output_type": "stream",
     "text": [
      "C:\\Users\\Miguel Mendes\\AppData\\Local\\Temp\\ipykernel_8516\\2327759639.py:20: SettingWithCopyWarning: \n",
      "A value is trying to be set on a copy of a slice from a DataFrame\n",
      "\n",
      "See the caveats in the documentation: https://pandas.pydata.org/pandas-docs/stable/user_guide/indexing.html#returning-a-view-versus-a-copy\n",
      "  time_serie.drop(columns=['Seller ID', 'Day of Week', 'Last Week', 'Last Month'], inplace=True)\n",
      "C:\\Users\\Miguel Mendes\\AppData\\Local\\Temp\\ipykernel_8516\\2327759639.py:21: SettingWithCopyWarning: \n",
      "A value is trying to be set on a copy of a slice from a DataFrame.\n",
      "Try using .loc[row_indexer,col_indexer] = value instead\n",
      "\n",
      "See the caveats in the documentation: https://pandas.pydata.org/pandas-docs/stable/user_guide/indexing.html#returning-a-view-versus-a-copy\n",
      "  time_serie['Change'] = time_serie['Change'].astype('Int64')\n",
      "C:\\Users\\Miguel Mendes\\AppData\\Local\\Temp\\ipykernel_8516\\2327759639.py:20: SettingWithCopyWarning: \n",
      "A value is trying to be set on a copy of a slice from a DataFrame\n",
      "\n",
      "See the caveats in the documentation: https://pandas.pydata.org/pandas-docs/stable/user_guide/indexing.html#returning-a-view-versus-a-copy\n",
      "  time_serie.drop(columns=['Seller ID', 'Day of Week', 'Last Week', 'Last Month'], inplace=True)\n",
      "C:\\Users\\Miguel Mendes\\AppData\\Local\\Temp\\ipykernel_8516\\2327759639.py:21: SettingWithCopyWarning: \n",
      "A value is trying to be set on a copy of a slice from a DataFrame.\n",
      "Try using .loc[row_indexer,col_indexer] = value instead\n",
      "\n",
      "See the caveats in the documentation: https://pandas.pydata.org/pandas-docs/stable/user_guide/indexing.html#returning-a-view-versus-a-copy\n",
      "  time_serie['Change'] = time_serie['Change'].astype('Int64')\n"
     ]
    },
    {
     "name": "stdout",
     "output_type": "stream",
     "text": [
      "Erro Médio Absoluto (MAE) para Seller ID 100000035: 0.002018346916884184\n",
      "Processando Seller ID: 100001471\n",
      "Erro Médio Absoluto (MAE) para Seller ID 100001471: 0.0008703322964720428\n",
      "Processando Seller ID: 100001375\n"
     ]
    },
    {
     "name": "stderr",
     "output_type": "stream",
     "text": [
      "C:\\Users\\Miguel Mendes\\AppData\\Local\\Temp\\ipykernel_8516\\2327759639.py:20: SettingWithCopyWarning: \n",
      "A value is trying to be set on a copy of a slice from a DataFrame\n",
      "\n",
      "See the caveats in the documentation: https://pandas.pydata.org/pandas-docs/stable/user_guide/indexing.html#returning-a-view-versus-a-copy\n",
      "  time_serie.drop(columns=['Seller ID', 'Day of Week', 'Last Week', 'Last Month'], inplace=True)\n",
      "C:\\Users\\Miguel Mendes\\AppData\\Local\\Temp\\ipykernel_8516\\2327759639.py:21: SettingWithCopyWarning: \n",
      "A value is trying to be set on a copy of a slice from a DataFrame.\n",
      "Try using .loc[row_indexer,col_indexer] = value instead\n",
      "\n",
      "See the caveats in the documentation: https://pandas.pydata.org/pandas-docs/stable/user_guide/indexing.html#returning-a-view-versus-a-copy\n",
      "  time_serie['Change'] = time_serie['Change'].astype('Int64')\n",
      "C:\\Users\\Miguel Mendes\\AppData\\Local\\Temp\\ipykernel_8516\\2327759639.py:20: SettingWithCopyWarning: \n",
      "A value is trying to be set on a copy of a slice from a DataFrame\n",
      "\n",
      "See the caveats in the documentation: https://pandas.pydata.org/pandas-docs/stable/user_guide/indexing.html#returning-a-view-versus-a-copy\n",
      "  time_serie.drop(columns=['Seller ID', 'Day of Week', 'Last Week', 'Last Month'], inplace=True)\n",
      "C:\\Users\\Miguel Mendes\\AppData\\Local\\Temp\\ipykernel_8516\\2327759639.py:21: SettingWithCopyWarning: \n",
      "A value is trying to be set on a copy of a slice from a DataFrame.\n",
      "Try using .loc[row_indexer,col_indexer] = value instead\n",
      "\n",
      "See the caveats in the documentation: https://pandas.pydata.org/pandas-docs/stable/user_guide/indexing.html#returning-a-view-versus-a-copy\n",
      "  time_serie['Change'] = time_serie['Change'].astype('Int64')\n"
     ]
    },
    {
     "name": "stdout",
     "output_type": "stream",
     "text": [
      "Erro Médio Absoluto (MAE) para Seller ID 100001375: 0.00036790809826925397\n",
      "Processando Seller ID: 100000276\n",
      "Erro Médio Absoluto (MAE) para Seller ID 100000276: 0.16695435345172882\n",
      "Processando Seller ID: 100000019\n"
     ]
    },
    {
     "name": "stderr",
     "output_type": "stream",
     "text": [
      "C:\\Users\\Miguel Mendes\\AppData\\Local\\Temp\\ipykernel_8516\\2327759639.py:20: SettingWithCopyWarning: \n",
      "A value is trying to be set on a copy of a slice from a DataFrame\n",
      "\n",
      "See the caveats in the documentation: https://pandas.pydata.org/pandas-docs/stable/user_guide/indexing.html#returning-a-view-versus-a-copy\n",
      "  time_serie.drop(columns=['Seller ID', 'Day of Week', 'Last Week', 'Last Month'], inplace=True)\n",
      "C:\\Users\\Miguel Mendes\\AppData\\Local\\Temp\\ipykernel_8516\\2327759639.py:21: SettingWithCopyWarning: \n",
      "A value is trying to be set on a copy of a slice from a DataFrame.\n",
      "Try using .loc[row_indexer,col_indexer] = value instead\n",
      "\n",
      "See the caveats in the documentation: https://pandas.pydata.org/pandas-docs/stable/user_guide/indexing.html#returning-a-view-versus-a-copy\n",
      "  time_serie['Change'] = time_serie['Change'].astype('Int64')\n",
      "C:\\Users\\Miguel Mendes\\AppData\\Local\\Temp\\ipykernel_8516\\2327759639.py:20: SettingWithCopyWarning: \n",
      "A value is trying to be set on a copy of a slice from a DataFrame\n",
      "\n",
      "See the caveats in the documentation: https://pandas.pydata.org/pandas-docs/stable/user_guide/indexing.html#returning-a-view-versus-a-copy\n",
      "  time_serie.drop(columns=['Seller ID', 'Day of Week', 'Last Week', 'Last Month'], inplace=True)\n",
      "C:\\Users\\Miguel Mendes\\AppData\\Local\\Temp\\ipykernel_8516\\2327759639.py:21: SettingWithCopyWarning: \n",
      "A value is trying to be set on a copy of a slice from a DataFrame.\n",
      "Try using .loc[row_indexer,col_indexer] = value instead\n",
      "\n",
      "See the caveats in the documentation: https://pandas.pydata.org/pandas-docs/stable/user_guide/indexing.html#returning-a-view-versus-a-copy\n",
      "  time_serie['Change'] = time_serie['Change'].astype('Int64')\n"
     ]
    },
    {
     "name": "stdout",
     "output_type": "stream",
     "text": [
      "Erro Médio Absoluto (MAE) para Seller ID 100000019: 0.17165197432041168\n",
      "Processando Seller ID: 100000140\n",
      "Erro Médio Absoluto (MAE) para Seller ID 100000140: 0.012834123335778713\n",
      "Processando Seller ID: 100001702\n"
     ]
    },
    {
     "name": "stderr",
     "output_type": "stream",
     "text": [
      "C:\\Users\\Miguel Mendes\\AppData\\Local\\Temp\\ipykernel_8516\\2327759639.py:20: SettingWithCopyWarning: \n",
      "A value is trying to be set on a copy of a slice from a DataFrame\n",
      "\n",
      "See the caveats in the documentation: https://pandas.pydata.org/pandas-docs/stable/user_guide/indexing.html#returning-a-view-versus-a-copy\n",
      "  time_serie.drop(columns=['Seller ID', 'Day of Week', 'Last Week', 'Last Month'], inplace=True)\n",
      "C:\\Users\\Miguel Mendes\\AppData\\Local\\Temp\\ipykernel_8516\\2327759639.py:21: SettingWithCopyWarning: \n",
      "A value is trying to be set on a copy of a slice from a DataFrame.\n",
      "Try using .loc[row_indexer,col_indexer] = value instead\n",
      "\n",
      "See the caveats in the documentation: https://pandas.pydata.org/pandas-docs/stable/user_guide/indexing.html#returning-a-view-versus-a-copy\n",
      "  time_serie['Change'] = time_serie['Change'].astype('Int64')\n",
      "C:\\Users\\Miguel Mendes\\AppData\\Local\\Temp\\ipykernel_8516\\2327759639.py:20: SettingWithCopyWarning: \n",
      "A value is trying to be set on a copy of a slice from a DataFrame\n",
      "\n",
      "See the caveats in the documentation: https://pandas.pydata.org/pandas-docs/stable/user_guide/indexing.html#returning-a-view-versus-a-copy\n",
      "  time_serie.drop(columns=['Seller ID', 'Day of Week', 'Last Week', 'Last Month'], inplace=True)\n",
      "C:\\Users\\Miguel Mendes\\AppData\\Local\\Temp\\ipykernel_8516\\2327759639.py:21: SettingWithCopyWarning: \n",
      "A value is trying to be set on a copy of a slice from a DataFrame.\n",
      "Try using .loc[row_indexer,col_indexer] = value instead\n",
      "\n",
      "See the caveats in the documentation: https://pandas.pydata.org/pandas-docs/stable/user_guide/indexing.html#returning-a-view-versus-a-copy\n",
      "  time_serie['Change'] = time_serie['Change'].astype('Int64')\n"
     ]
    },
    {
     "name": "stdout",
     "output_type": "stream",
     "text": [
      "Erro Médio Absoluto (MAE) para Seller ID 100001702: 0.0021470950450748205\n",
      "Processando Seller ID: 100000687\n",
      "Erro Médio Absoluto (MAE) para Seller ID 100000687: 0.018856147304177284\n",
      "Processando Seller ID: 100000642\n"
     ]
    },
    {
     "name": "stderr",
     "output_type": "stream",
     "text": [
      "C:\\Users\\Miguel Mendes\\AppData\\Local\\Temp\\ipykernel_8516\\2327759639.py:20: SettingWithCopyWarning: \n",
      "A value is trying to be set on a copy of a slice from a DataFrame\n",
      "\n",
      "See the caveats in the documentation: https://pandas.pydata.org/pandas-docs/stable/user_guide/indexing.html#returning-a-view-versus-a-copy\n",
      "  time_serie.drop(columns=['Seller ID', 'Day of Week', 'Last Week', 'Last Month'], inplace=True)\n",
      "C:\\Users\\Miguel Mendes\\AppData\\Local\\Temp\\ipykernel_8516\\2327759639.py:21: SettingWithCopyWarning: \n",
      "A value is trying to be set on a copy of a slice from a DataFrame.\n",
      "Try using .loc[row_indexer,col_indexer] = value instead\n",
      "\n",
      "See the caveats in the documentation: https://pandas.pydata.org/pandas-docs/stable/user_guide/indexing.html#returning-a-view-versus-a-copy\n",
      "  time_serie['Change'] = time_serie['Change'].astype('Int64')\n",
      "C:\\Users\\Miguel Mendes\\AppData\\Local\\Temp\\ipykernel_8516\\2327759639.py:20: SettingWithCopyWarning: \n",
      "A value is trying to be set on a copy of a slice from a DataFrame\n",
      "\n",
      "See the caveats in the documentation: https://pandas.pydata.org/pandas-docs/stable/user_guide/indexing.html#returning-a-view-versus-a-copy\n",
      "  time_serie.drop(columns=['Seller ID', 'Day of Week', 'Last Week', 'Last Month'], inplace=True)\n",
      "C:\\Users\\Miguel Mendes\\AppData\\Local\\Temp\\ipykernel_8516\\2327759639.py:21: SettingWithCopyWarning: \n",
      "A value is trying to be set on a copy of a slice from a DataFrame.\n",
      "Try using .loc[row_indexer,col_indexer] = value instead\n",
      "\n",
      "See the caveats in the documentation: https://pandas.pydata.org/pandas-docs/stable/user_guide/indexing.html#returning-a-view-versus-a-copy\n",
      "  time_serie['Change'] = time_serie['Change'].astype('Int64')\n"
     ]
    },
    {
     "name": "stdout",
     "output_type": "stream",
     "text": [
      "Erro Médio Absoluto (MAE) para Seller ID 100000642: 0.0004078070051036775\n",
      "Processando Seller ID: 100000771\n",
      "Erro Médio Absoluto (MAE) para Seller ID 100000771: 0.0026466776616871357\n",
      "Processando Seller ID: 100001832\n"
     ]
    },
    {
     "name": "stderr",
     "output_type": "stream",
     "text": [
      "C:\\Users\\Miguel Mendes\\AppData\\Local\\Temp\\ipykernel_8516\\2327759639.py:20: SettingWithCopyWarning: \n",
      "A value is trying to be set on a copy of a slice from a DataFrame\n",
      "\n",
      "See the caveats in the documentation: https://pandas.pydata.org/pandas-docs/stable/user_guide/indexing.html#returning-a-view-versus-a-copy\n",
      "  time_serie.drop(columns=['Seller ID', 'Day of Week', 'Last Week', 'Last Month'], inplace=True)\n",
      "C:\\Users\\Miguel Mendes\\AppData\\Local\\Temp\\ipykernel_8516\\2327759639.py:21: SettingWithCopyWarning: \n",
      "A value is trying to be set on a copy of a slice from a DataFrame.\n",
      "Try using .loc[row_indexer,col_indexer] = value instead\n",
      "\n",
      "See the caveats in the documentation: https://pandas.pydata.org/pandas-docs/stable/user_guide/indexing.html#returning-a-view-versus-a-copy\n",
      "  time_serie['Change'] = time_serie['Change'].astype('Int64')\n",
      "C:\\Users\\Miguel Mendes\\AppData\\Local\\Temp\\ipykernel_8516\\2327759639.py:20: SettingWithCopyWarning: \n",
      "A value is trying to be set on a copy of a slice from a DataFrame\n",
      "\n",
      "See the caveats in the documentation: https://pandas.pydata.org/pandas-docs/stable/user_guide/indexing.html#returning-a-view-versus-a-copy\n",
      "  time_serie.drop(columns=['Seller ID', 'Day of Week', 'Last Week', 'Last Month'], inplace=True)\n",
      "C:\\Users\\Miguel Mendes\\AppData\\Local\\Temp\\ipykernel_8516\\2327759639.py:21: SettingWithCopyWarning: \n",
      "A value is trying to be set on a copy of a slice from a DataFrame.\n",
      "Try using .loc[row_indexer,col_indexer] = value instead\n",
      "\n",
      "See the caveats in the documentation: https://pandas.pydata.org/pandas-docs/stable/user_guide/indexing.html#returning-a-view-versus-a-copy\n",
      "  time_serie['Change'] = time_serie['Change'].astype('Int64')\n"
     ]
    },
    {
     "name": "stdout",
     "output_type": "stream",
     "text": [
      "Erro Médio Absoluto (MAE) para Seller ID 100001832: 0.07402603328227997\n",
      "Processando Seller ID: 100000649\n"
     ]
    },
    {
     "name": "stderr",
     "output_type": "stream",
     "text": [
      "C:\\Users\\Miguel Mendes\\AppData\\Local\\Temp\\ipykernel_8516\\2327759639.py:20: SettingWithCopyWarning: \n",
      "A value is trying to be set on a copy of a slice from a DataFrame\n",
      "\n",
      "See the caveats in the documentation: https://pandas.pydata.org/pandas-docs/stable/user_guide/indexing.html#returning-a-view-versus-a-copy\n",
      "  time_serie.drop(columns=['Seller ID', 'Day of Week', 'Last Week', 'Last Month'], inplace=True)\n",
      "C:\\Users\\Miguel Mendes\\AppData\\Local\\Temp\\ipykernel_8516\\2327759639.py:21: SettingWithCopyWarning: \n",
      "A value is trying to be set on a copy of a slice from a DataFrame.\n",
      "Try using .loc[row_indexer,col_indexer] = value instead\n",
      "\n",
      "See the caveats in the documentation: https://pandas.pydata.org/pandas-docs/stable/user_guide/indexing.html#returning-a-view-versus-a-copy\n",
      "  time_serie['Change'] = time_serie['Change'].astype('Int64')\n"
     ]
    },
    {
     "name": "stdout",
     "output_type": "stream",
     "text": [
      "Erro Médio Absoluto (MAE) para Seller ID 100000649: 0.006297288928180933\n",
      "Processando Seller ID: 100000032\n",
      "Erro Médio Absoluto (MAE) para Seller ID 100000032: 0.06869909912347794\n",
      "Processando Seller ID: 100000214\n"
     ]
    },
    {
     "name": "stderr",
     "output_type": "stream",
     "text": [
      "C:\\Users\\Miguel Mendes\\AppData\\Local\\Temp\\ipykernel_8516\\2327759639.py:20: SettingWithCopyWarning: \n",
      "A value is trying to be set on a copy of a slice from a DataFrame\n",
      "\n",
      "See the caveats in the documentation: https://pandas.pydata.org/pandas-docs/stable/user_guide/indexing.html#returning-a-view-versus-a-copy\n",
      "  time_serie.drop(columns=['Seller ID', 'Day of Week', 'Last Week', 'Last Month'], inplace=True)\n",
      "C:\\Users\\Miguel Mendes\\AppData\\Local\\Temp\\ipykernel_8516\\2327759639.py:21: SettingWithCopyWarning: \n",
      "A value is trying to be set on a copy of a slice from a DataFrame.\n",
      "Try using .loc[row_indexer,col_indexer] = value instead\n",
      "\n",
      "See the caveats in the documentation: https://pandas.pydata.org/pandas-docs/stable/user_guide/indexing.html#returning-a-view-versus-a-copy\n",
      "  time_serie['Change'] = time_serie['Change'].astype('Int64')\n",
      "C:\\Users\\Miguel Mendes\\AppData\\Local\\Temp\\ipykernel_8516\\2327759639.py:20: SettingWithCopyWarning: \n",
      "A value is trying to be set on a copy of a slice from a DataFrame\n",
      "\n",
      "See the caveats in the documentation: https://pandas.pydata.org/pandas-docs/stable/user_guide/indexing.html#returning-a-view-versus-a-copy\n",
      "  time_serie.drop(columns=['Seller ID', 'Day of Week', 'Last Week', 'Last Month'], inplace=True)\n",
      "C:\\Users\\Miguel Mendes\\AppData\\Local\\Temp\\ipykernel_8516\\2327759639.py:21: SettingWithCopyWarning: \n",
      "A value is trying to be set on a copy of a slice from a DataFrame.\n",
      "Try using .loc[row_indexer,col_indexer] = value instead\n",
      "\n",
      "See the caveats in the documentation: https://pandas.pydata.org/pandas-docs/stable/user_guide/indexing.html#returning-a-view-versus-a-copy\n",
      "  time_serie['Change'] = time_serie['Change'].astype('Int64')\n"
     ]
    },
    {
     "name": "stdout",
     "output_type": "stream",
     "text": [
      "Erro Médio Absoluto (MAE) para Seller ID 100000214: 0.0012373258359730244\n",
      "Processando Seller ID: 100000304\n",
      "Erro Médio Absoluto (MAE) para Seller ID 100000304: 0.005266573280096054\n",
      "Processando Seller ID: 100001467\n"
     ]
    },
    {
     "name": "stderr",
     "output_type": "stream",
     "text": [
      "C:\\Users\\Miguel Mendes\\AppData\\Local\\Temp\\ipykernel_8516\\2327759639.py:20: SettingWithCopyWarning: \n",
      "A value is trying to be set on a copy of a slice from a DataFrame\n",
      "\n",
      "See the caveats in the documentation: https://pandas.pydata.org/pandas-docs/stable/user_guide/indexing.html#returning-a-view-versus-a-copy\n",
      "  time_serie.drop(columns=['Seller ID', 'Day of Week', 'Last Week', 'Last Month'], inplace=True)\n",
      "C:\\Users\\Miguel Mendes\\AppData\\Local\\Temp\\ipykernel_8516\\2327759639.py:21: SettingWithCopyWarning: \n",
      "A value is trying to be set on a copy of a slice from a DataFrame.\n",
      "Try using .loc[row_indexer,col_indexer] = value instead\n",
      "\n",
      "See the caveats in the documentation: https://pandas.pydata.org/pandas-docs/stable/user_guide/indexing.html#returning-a-view-versus-a-copy\n",
      "  time_serie['Change'] = time_serie['Change'].astype('Int64')\n",
      "C:\\Users\\Miguel Mendes\\AppData\\Local\\Temp\\ipykernel_8516\\2327759639.py:20: SettingWithCopyWarning: \n",
      "A value is trying to be set on a copy of a slice from a DataFrame\n",
      "\n",
      "See the caveats in the documentation: https://pandas.pydata.org/pandas-docs/stable/user_guide/indexing.html#returning-a-view-versus-a-copy\n",
      "  time_serie.drop(columns=['Seller ID', 'Day of Week', 'Last Week', 'Last Month'], inplace=True)\n",
      "C:\\Users\\Miguel Mendes\\AppData\\Local\\Temp\\ipykernel_8516\\2327759639.py:21: SettingWithCopyWarning: \n",
      "A value is trying to be set on a copy of a slice from a DataFrame.\n",
      "Try using .loc[row_indexer,col_indexer] = value instead\n",
      "\n",
      "See the caveats in the documentation: https://pandas.pydata.org/pandas-docs/stable/user_guide/indexing.html#returning-a-view-versus-a-copy\n",
      "  time_serie['Change'] = time_serie['Change'].astype('Int64')\n"
     ]
    },
    {
     "name": "stdout",
     "output_type": "stream",
     "text": [
      "Erro Médio Absoluto (MAE) para Seller ID 100001467: 0.21447183191776276\n",
      "Processando Seller ID: 100000922\n",
      "Erro Médio Absoluto (MAE) para Seller ID 100000922: 0.03368396311998367\n",
      "Processando Seller ID: 100001090\n"
     ]
    },
    {
     "name": "stderr",
     "output_type": "stream",
     "text": [
      "C:\\Users\\Miguel Mendes\\AppData\\Local\\Temp\\ipykernel_8516\\2327759639.py:20: SettingWithCopyWarning: \n",
      "A value is trying to be set on a copy of a slice from a DataFrame\n",
      "\n",
      "See the caveats in the documentation: https://pandas.pydata.org/pandas-docs/stable/user_guide/indexing.html#returning-a-view-versus-a-copy\n",
      "  time_serie.drop(columns=['Seller ID', 'Day of Week', 'Last Week', 'Last Month'], inplace=True)\n",
      "C:\\Users\\Miguel Mendes\\AppData\\Local\\Temp\\ipykernel_8516\\2327759639.py:21: SettingWithCopyWarning: \n",
      "A value is trying to be set on a copy of a slice from a DataFrame.\n",
      "Try using .loc[row_indexer,col_indexer] = value instead\n",
      "\n",
      "See the caveats in the documentation: https://pandas.pydata.org/pandas-docs/stable/user_guide/indexing.html#returning-a-view-versus-a-copy\n",
      "  time_serie['Change'] = time_serie['Change'].astype('Int64')\n",
      "C:\\Users\\Miguel Mendes\\AppData\\Local\\Temp\\ipykernel_8516\\2327759639.py:20: SettingWithCopyWarning: \n",
      "A value is trying to be set on a copy of a slice from a DataFrame\n",
      "\n",
      "See the caveats in the documentation: https://pandas.pydata.org/pandas-docs/stable/user_guide/indexing.html#returning-a-view-versus-a-copy\n",
      "  time_serie.drop(columns=['Seller ID', 'Day of Week', 'Last Week', 'Last Month'], inplace=True)\n",
      "C:\\Users\\Miguel Mendes\\AppData\\Local\\Temp\\ipykernel_8516\\2327759639.py:21: SettingWithCopyWarning: \n",
      "A value is trying to be set on a copy of a slice from a DataFrame.\n",
      "Try using .loc[row_indexer,col_indexer] = value instead\n",
      "\n",
      "See the caveats in the documentation: https://pandas.pydata.org/pandas-docs/stable/user_guide/indexing.html#returning-a-view-versus-a-copy\n",
      "  time_serie['Change'] = time_serie['Change'].astype('Int64')\n"
     ]
    },
    {
     "name": "stdout",
     "output_type": "stream",
     "text": [
      "Erro Médio Absoluto (MAE) para Seller ID 100001090: 0.06695382297039032\n",
      "Processando Seller ID: 100001855\n",
      "Erro Médio Absoluto (MAE) para Seller ID 100001855: 0.17750616371631622\n",
      "Processando Seller ID: 100001184\n"
     ]
    },
    {
     "name": "stderr",
     "output_type": "stream",
     "text": [
      "C:\\Users\\Miguel Mendes\\AppData\\Local\\Temp\\ipykernel_8516\\2327759639.py:20: SettingWithCopyWarning: \n",
      "A value is trying to be set on a copy of a slice from a DataFrame\n",
      "\n",
      "See the caveats in the documentation: https://pandas.pydata.org/pandas-docs/stable/user_guide/indexing.html#returning-a-view-versus-a-copy\n",
      "  time_serie.drop(columns=['Seller ID', 'Day of Week', 'Last Week', 'Last Month'], inplace=True)\n",
      "C:\\Users\\Miguel Mendes\\AppData\\Local\\Temp\\ipykernel_8516\\2327759639.py:21: SettingWithCopyWarning: \n",
      "A value is trying to be set on a copy of a slice from a DataFrame.\n",
      "Try using .loc[row_indexer,col_indexer] = value instead\n",
      "\n",
      "See the caveats in the documentation: https://pandas.pydata.org/pandas-docs/stable/user_guide/indexing.html#returning-a-view-versus-a-copy\n",
      "  time_serie['Change'] = time_serie['Change'].astype('Int64')\n",
      "C:\\Users\\Miguel Mendes\\AppData\\Local\\Temp\\ipykernel_8516\\2327759639.py:20: SettingWithCopyWarning: \n",
      "A value is trying to be set on a copy of a slice from a DataFrame\n",
      "\n",
      "See the caveats in the documentation: https://pandas.pydata.org/pandas-docs/stable/user_guide/indexing.html#returning-a-view-versus-a-copy\n",
      "  time_serie.drop(columns=['Seller ID', 'Day of Week', 'Last Week', 'Last Month'], inplace=True)\n",
      "C:\\Users\\Miguel Mendes\\AppData\\Local\\Temp\\ipykernel_8516\\2327759639.py:21: SettingWithCopyWarning: \n",
      "A value is trying to be set on a copy of a slice from a DataFrame.\n",
      "Try using .loc[row_indexer,col_indexer] = value instead\n",
      "\n",
      "See the caveats in the documentation: https://pandas.pydata.org/pandas-docs/stable/user_guide/indexing.html#returning-a-view-versus-a-copy\n",
      "  time_serie['Change'] = time_serie['Change'].astype('Int64')\n"
     ]
    },
    {
     "name": "stdout",
     "output_type": "stream",
     "text": [
      "Erro Médio Absoluto (MAE) para Seller ID 100001184: 0.038603637367486954\n",
      "Processando Seller ID: 100000064\n",
      "Erro Médio Absoluto (MAE) para Seller ID 100000064: 0.0032342183403670788\n",
      "Processando Seller ID: 100000453\n"
     ]
    },
    {
     "name": "stderr",
     "output_type": "stream",
     "text": [
      "C:\\Users\\Miguel Mendes\\AppData\\Local\\Temp\\ipykernel_8516\\2327759639.py:20: SettingWithCopyWarning: \n",
      "A value is trying to be set on a copy of a slice from a DataFrame\n",
      "\n",
      "See the caveats in the documentation: https://pandas.pydata.org/pandas-docs/stable/user_guide/indexing.html#returning-a-view-versus-a-copy\n",
      "  time_serie.drop(columns=['Seller ID', 'Day of Week', 'Last Week', 'Last Month'], inplace=True)\n",
      "C:\\Users\\Miguel Mendes\\AppData\\Local\\Temp\\ipykernel_8516\\2327759639.py:21: SettingWithCopyWarning: \n",
      "A value is trying to be set on a copy of a slice from a DataFrame.\n",
      "Try using .loc[row_indexer,col_indexer] = value instead\n",
      "\n",
      "See the caveats in the documentation: https://pandas.pydata.org/pandas-docs/stable/user_guide/indexing.html#returning-a-view-versus-a-copy\n",
      "  time_serie['Change'] = time_serie['Change'].astype('Int64')\n",
      "C:\\Users\\Miguel Mendes\\AppData\\Local\\Temp\\ipykernel_8516\\2327759639.py:20: SettingWithCopyWarning: \n",
      "A value is trying to be set on a copy of a slice from a DataFrame\n",
      "\n",
      "See the caveats in the documentation: https://pandas.pydata.org/pandas-docs/stable/user_guide/indexing.html#returning-a-view-versus-a-copy\n",
      "  time_serie.drop(columns=['Seller ID', 'Day of Week', 'Last Week', 'Last Month'], inplace=True)\n",
      "C:\\Users\\Miguel Mendes\\AppData\\Local\\Temp\\ipykernel_8516\\2327759639.py:21: SettingWithCopyWarning: \n",
      "A value is trying to be set on a copy of a slice from a DataFrame.\n",
      "Try using .loc[row_indexer,col_indexer] = value instead\n",
      "\n",
      "See the caveats in the documentation: https://pandas.pydata.org/pandas-docs/stable/user_guide/indexing.html#returning-a-view-versus-a-copy\n",
      "  time_serie['Change'] = time_serie['Change'].astype('Int64')\n"
     ]
    },
    {
     "name": "stdout",
     "output_type": "stream",
     "text": [
      "Erro Médio Absoluto (MAE) para Seller ID 100000453: 0.0727563351392746\n",
      "Processando Seller ID: 100000044\n",
      "Erro Médio Absoluto (MAE) para Seller ID 100000044: 0.15785914659500122\n",
      "Processando Seller ID: 100000332\n"
     ]
    },
    {
     "name": "stderr",
     "output_type": "stream",
     "text": [
      "C:\\Users\\Miguel Mendes\\AppData\\Local\\Temp\\ipykernel_8516\\2327759639.py:20: SettingWithCopyWarning: \n",
      "A value is trying to be set on a copy of a slice from a DataFrame\n",
      "\n",
      "See the caveats in the documentation: https://pandas.pydata.org/pandas-docs/stable/user_guide/indexing.html#returning-a-view-versus-a-copy\n",
      "  time_serie.drop(columns=['Seller ID', 'Day of Week', 'Last Week', 'Last Month'], inplace=True)\n",
      "C:\\Users\\Miguel Mendes\\AppData\\Local\\Temp\\ipykernel_8516\\2327759639.py:21: SettingWithCopyWarning: \n",
      "A value is trying to be set on a copy of a slice from a DataFrame.\n",
      "Try using .loc[row_indexer,col_indexer] = value instead\n",
      "\n",
      "See the caveats in the documentation: https://pandas.pydata.org/pandas-docs/stable/user_guide/indexing.html#returning-a-view-versus-a-copy\n",
      "  time_serie['Change'] = time_serie['Change'].astype('Int64')\n",
      "C:\\Users\\Miguel Mendes\\AppData\\Local\\Temp\\ipykernel_8516\\2327759639.py:20: SettingWithCopyWarning: \n",
      "A value is trying to be set on a copy of a slice from a DataFrame\n",
      "\n",
      "See the caveats in the documentation: https://pandas.pydata.org/pandas-docs/stable/user_guide/indexing.html#returning-a-view-versus-a-copy\n",
      "  time_serie.drop(columns=['Seller ID', 'Day of Week', 'Last Week', 'Last Month'], inplace=True)\n",
      "C:\\Users\\Miguel Mendes\\AppData\\Local\\Temp\\ipykernel_8516\\2327759639.py:21: SettingWithCopyWarning: \n",
      "A value is trying to be set on a copy of a slice from a DataFrame.\n",
      "Try using .loc[row_indexer,col_indexer] = value instead\n",
      "\n",
      "See the caveats in the documentation: https://pandas.pydata.org/pandas-docs/stable/user_guide/indexing.html#returning-a-view-versus-a-copy\n",
      "  time_serie['Change'] = time_serie['Change'].astype('Int64')\n"
     ]
    },
    {
     "name": "stdout",
     "output_type": "stream",
     "text": [
      "Erro Médio Absoluto (MAE) para Seller ID 100000332: 0.05318375676870346\n",
      "Processando Seller ID: 100001923\n",
      "Erro Médio Absoluto (MAE) para Seller ID 100001923: 0.0652502104640007\n",
      "Processando Seller ID: 100001245\n"
     ]
    },
    {
     "name": "stderr",
     "output_type": "stream",
     "text": [
      "C:\\Users\\Miguel Mendes\\AppData\\Local\\Temp\\ipykernel_8516\\2327759639.py:20: SettingWithCopyWarning: \n",
      "A value is trying to be set on a copy of a slice from a DataFrame\n",
      "\n",
      "See the caveats in the documentation: https://pandas.pydata.org/pandas-docs/stable/user_guide/indexing.html#returning-a-view-versus-a-copy\n",
      "  time_serie.drop(columns=['Seller ID', 'Day of Week', 'Last Week', 'Last Month'], inplace=True)\n",
      "C:\\Users\\Miguel Mendes\\AppData\\Local\\Temp\\ipykernel_8516\\2327759639.py:21: SettingWithCopyWarning: \n",
      "A value is trying to be set on a copy of a slice from a DataFrame.\n",
      "Try using .loc[row_indexer,col_indexer] = value instead\n",
      "\n",
      "See the caveats in the documentation: https://pandas.pydata.org/pandas-docs/stable/user_guide/indexing.html#returning-a-view-versus-a-copy\n",
      "  time_serie['Change'] = time_serie['Change'].astype('Int64')\n",
      "C:\\Users\\Miguel Mendes\\AppData\\Local\\Temp\\ipykernel_8516\\2327759639.py:20: SettingWithCopyWarning: \n",
      "A value is trying to be set on a copy of a slice from a DataFrame\n",
      "\n",
      "See the caveats in the documentation: https://pandas.pydata.org/pandas-docs/stable/user_guide/indexing.html#returning-a-view-versus-a-copy\n",
      "  time_serie.drop(columns=['Seller ID', 'Day of Week', 'Last Week', 'Last Month'], inplace=True)\n",
      "C:\\Users\\Miguel Mendes\\AppData\\Local\\Temp\\ipykernel_8516\\2327759639.py:21: SettingWithCopyWarning: \n",
      "A value is trying to be set on a copy of a slice from a DataFrame.\n",
      "Try using .loc[row_indexer,col_indexer] = value instead\n",
      "\n",
      "See the caveats in the documentation: https://pandas.pydata.org/pandas-docs/stable/user_guide/indexing.html#returning-a-view-versus-a-copy\n",
      "  time_serie['Change'] = time_serie['Change'].astype('Int64')\n"
     ]
    },
    {
     "name": "stdout",
     "output_type": "stream",
     "text": [
      "Erro Médio Absoluto (MAE) para Seller ID 100001245: 0.022373028099536896\n",
      "Processando Seller ID: 100001311\n",
      "Erro Médio Absoluto (MAE) para Seller ID 100001311: 0.0011041038669645786\n",
      "Processando Seller ID: 100001921\n"
     ]
    },
    {
     "name": "stderr",
     "output_type": "stream",
     "text": [
      "C:\\Users\\Miguel Mendes\\AppData\\Local\\Temp\\ipykernel_8516\\2327759639.py:20: SettingWithCopyWarning: \n",
      "A value is trying to be set on a copy of a slice from a DataFrame\n",
      "\n",
      "See the caveats in the documentation: https://pandas.pydata.org/pandas-docs/stable/user_guide/indexing.html#returning-a-view-versus-a-copy\n",
      "  time_serie.drop(columns=['Seller ID', 'Day of Week', 'Last Week', 'Last Month'], inplace=True)\n",
      "C:\\Users\\Miguel Mendes\\AppData\\Local\\Temp\\ipykernel_8516\\2327759639.py:21: SettingWithCopyWarning: \n",
      "A value is trying to be set on a copy of a slice from a DataFrame.\n",
      "Try using .loc[row_indexer,col_indexer] = value instead\n",
      "\n",
      "See the caveats in the documentation: https://pandas.pydata.org/pandas-docs/stable/user_guide/indexing.html#returning-a-view-versus-a-copy\n",
      "  time_serie['Change'] = time_serie['Change'].astype('Int64')\n",
      "C:\\Users\\Miguel Mendes\\AppData\\Local\\Temp\\ipykernel_8516\\2327759639.py:20: SettingWithCopyWarning: \n",
      "A value is trying to be set on a copy of a slice from a DataFrame\n",
      "\n",
      "See the caveats in the documentation: https://pandas.pydata.org/pandas-docs/stable/user_guide/indexing.html#returning-a-view-versus-a-copy\n",
      "  time_serie.drop(columns=['Seller ID', 'Day of Week', 'Last Week', 'Last Month'], inplace=True)\n",
      "C:\\Users\\Miguel Mendes\\AppData\\Local\\Temp\\ipykernel_8516\\2327759639.py:21: SettingWithCopyWarning: \n",
      "A value is trying to be set on a copy of a slice from a DataFrame.\n",
      "Try using .loc[row_indexer,col_indexer] = value instead\n",
      "\n",
      "See the caveats in the documentation: https://pandas.pydata.org/pandas-docs/stable/user_guide/indexing.html#returning-a-view-versus-a-copy\n",
      "  time_serie['Change'] = time_serie['Change'].astype('Int64')\n"
     ]
    },
    {
     "name": "stdout",
     "output_type": "stream",
     "text": [
      "Erro Médio Absoluto (MAE) para Seller ID 100001921: 0.08258604258298874\n",
      "Processando Seller ID: 100000255\n",
      "Erro Médio Absoluto (MAE) para Seller ID 100000255: 0.07126034796237946\n",
      "Processando Seller ID: 100002046\n"
     ]
    },
    {
     "name": "stderr",
     "output_type": "stream",
     "text": [
      "C:\\Users\\Miguel Mendes\\AppData\\Local\\Temp\\ipykernel_8516\\2327759639.py:20: SettingWithCopyWarning: \n",
      "A value is trying to be set on a copy of a slice from a DataFrame\n",
      "\n",
      "See the caveats in the documentation: https://pandas.pydata.org/pandas-docs/stable/user_guide/indexing.html#returning-a-view-versus-a-copy\n",
      "  time_serie.drop(columns=['Seller ID', 'Day of Week', 'Last Week', 'Last Month'], inplace=True)\n",
      "C:\\Users\\Miguel Mendes\\AppData\\Local\\Temp\\ipykernel_8516\\2327759639.py:21: SettingWithCopyWarning: \n",
      "A value is trying to be set on a copy of a slice from a DataFrame.\n",
      "Try using .loc[row_indexer,col_indexer] = value instead\n",
      "\n",
      "See the caveats in the documentation: https://pandas.pydata.org/pandas-docs/stable/user_guide/indexing.html#returning-a-view-versus-a-copy\n",
      "  time_serie['Change'] = time_serie['Change'].astype('Int64')\n",
      "C:\\Users\\Miguel Mendes\\AppData\\Local\\Temp\\ipykernel_8516\\2327759639.py:20: SettingWithCopyWarning: \n",
      "A value is trying to be set on a copy of a slice from a DataFrame\n",
      "\n",
      "See the caveats in the documentation: https://pandas.pydata.org/pandas-docs/stable/user_guide/indexing.html#returning-a-view-versus-a-copy\n",
      "  time_serie.drop(columns=['Seller ID', 'Day of Week', 'Last Week', 'Last Month'], inplace=True)\n",
      "C:\\Users\\Miguel Mendes\\AppData\\Local\\Temp\\ipykernel_8516\\2327759639.py:21: SettingWithCopyWarning: \n",
      "A value is trying to be set on a copy of a slice from a DataFrame.\n",
      "Try using .loc[row_indexer,col_indexer] = value instead\n",
      "\n",
      "See the caveats in the documentation: https://pandas.pydata.org/pandas-docs/stable/user_guide/indexing.html#returning-a-view-versus-a-copy\n",
      "  time_serie['Change'] = time_serie['Change'].astype('Int64')\n"
     ]
    },
    {
     "name": "stdout",
     "output_type": "stream",
     "text": [
      "Erro Médio Absoluto (MAE) para Seller ID 100002046: 0.11951806396245956\n",
      "Processando Seller ID: 100001032\n",
      "Erro Médio Absoluto (MAE) para Seller ID 100001032: 0.01960466429591179\n",
      "Processando Seller ID: 100000174\n"
     ]
    },
    {
     "name": "stderr",
     "output_type": "stream",
     "text": [
      "C:\\Users\\Miguel Mendes\\AppData\\Local\\Temp\\ipykernel_8516\\2327759639.py:20: SettingWithCopyWarning: \n",
      "A value is trying to be set on a copy of a slice from a DataFrame\n",
      "\n",
      "See the caveats in the documentation: https://pandas.pydata.org/pandas-docs/stable/user_guide/indexing.html#returning-a-view-versus-a-copy\n",
      "  time_serie.drop(columns=['Seller ID', 'Day of Week', 'Last Week', 'Last Month'], inplace=True)\n",
      "C:\\Users\\Miguel Mendes\\AppData\\Local\\Temp\\ipykernel_8516\\2327759639.py:21: SettingWithCopyWarning: \n",
      "A value is trying to be set on a copy of a slice from a DataFrame.\n",
      "Try using .loc[row_indexer,col_indexer] = value instead\n",
      "\n",
      "See the caveats in the documentation: https://pandas.pydata.org/pandas-docs/stable/user_guide/indexing.html#returning-a-view-versus-a-copy\n",
      "  time_serie['Change'] = time_serie['Change'].astype('Int64')\n",
      "C:\\Users\\Miguel Mendes\\AppData\\Local\\Temp\\ipykernel_8516\\2327759639.py:20: SettingWithCopyWarning: \n",
      "A value is trying to be set on a copy of a slice from a DataFrame\n",
      "\n",
      "See the caveats in the documentation: https://pandas.pydata.org/pandas-docs/stable/user_guide/indexing.html#returning-a-view-versus-a-copy\n",
      "  time_serie.drop(columns=['Seller ID', 'Day of Week', 'Last Week', 'Last Month'], inplace=True)\n",
      "C:\\Users\\Miguel Mendes\\AppData\\Local\\Temp\\ipykernel_8516\\2327759639.py:21: SettingWithCopyWarning: \n",
      "A value is trying to be set on a copy of a slice from a DataFrame.\n",
      "Try using .loc[row_indexer,col_indexer] = value instead\n",
      "\n",
      "See the caveats in the documentation: https://pandas.pydata.org/pandas-docs/stable/user_guide/indexing.html#returning-a-view-versus-a-copy\n",
      "  time_serie['Change'] = time_serie['Change'].astype('Int64')\n"
     ]
    },
    {
     "name": "stdout",
     "output_type": "stream",
     "text": [
      "Erro Médio Absoluto (MAE) para Seller ID 100000174: 0.49861055612564087\n",
      "Processando Seller ID: 100000051\n"
     ]
    },
    {
     "name": "stderr",
     "output_type": "stream",
     "text": [
      "C:\\Users\\Miguel Mendes\\AppData\\Local\\Temp\\ipykernel_8516\\2327759639.py:20: SettingWithCopyWarning: \n",
      "A value is trying to be set on a copy of a slice from a DataFrame\n",
      "\n",
      "See the caveats in the documentation: https://pandas.pydata.org/pandas-docs/stable/user_guide/indexing.html#returning-a-view-versus-a-copy\n",
      "  time_serie.drop(columns=['Seller ID', 'Day of Week', 'Last Week', 'Last Month'], inplace=True)\n",
      "C:\\Users\\Miguel Mendes\\AppData\\Local\\Temp\\ipykernel_8516\\2327759639.py:21: SettingWithCopyWarning: \n",
      "A value is trying to be set on a copy of a slice from a DataFrame.\n",
      "Try using .loc[row_indexer,col_indexer] = value instead\n",
      "\n",
      "See the caveats in the documentation: https://pandas.pydata.org/pandas-docs/stable/user_guide/indexing.html#returning-a-view-versus-a-copy\n",
      "  time_serie['Change'] = time_serie['Change'].astype('Int64')\n"
     ]
    },
    {
     "name": "stdout",
     "output_type": "stream",
     "text": [
      "Erro Médio Absoluto (MAE) para Seller ID 100000051: 0.0015903639141470194\n",
      "Processando Seller ID: 100000990\n",
      "Erro Médio Absoluto (MAE) para Seller ID 100000990: 0.005306827835738659\n",
      "Processando Seller ID: 100001395\n"
     ]
    },
    {
     "name": "stderr",
     "output_type": "stream",
     "text": [
      "C:\\Users\\Miguel Mendes\\AppData\\Local\\Temp\\ipykernel_8516\\2327759639.py:20: SettingWithCopyWarning: \n",
      "A value is trying to be set on a copy of a slice from a DataFrame\n",
      "\n",
      "See the caveats in the documentation: https://pandas.pydata.org/pandas-docs/stable/user_guide/indexing.html#returning-a-view-versus-a-copy\n",
      "  time_serie.drop(columns=['Seller ID', 'Day of Week', 'Last Week', 'Last Month'], inplace=True)\n",
      "C:\\Users\\Miguel Mendes\\AppData\\Local\\Temp\\ipykernel_8516\\2327759639.py:21: SettingWithCopyWarning: \n",
      "A value is trying to be set on a copy of a slice from a DataFrame.\n",
      "Try using .loc[row_indexer,col_indexer] = value instead\n",
      "\n",
      "See the caveats in the documentation: https://pandas.pydata.org/pandas-docs/stable/user_guide/indexing.html#returning-a-view-versus-a-copy\n",
      "  time_serie['Change'] = time_serie['Change'].astype('Int64')\n",
      "C:\\Users\\Miguel Mendes\\AppData\\Local\\Temp\\ipykernel_8516\\2327759639.py:20: SettingWithCopyWarning: \n",
      "A value is trying to be set on a copy of a slice from a DataFrame\n",
      "\n",
      "See the caveats in the documentation: https://pandas.pydata.org/pandas-docs/stable/user_guide/indexing.html#returning-a-view-versus-a-copy\n",
      "  time_serie.drop(columns=['Seller ID', 'Day of Week', 'Last Week', 'Last Month'], inplace=True)\n",
      "C:\\Users\\Miguel Mendes\\AppData\\Local\\Temp\\ipykernel_8516\\2327759639.py:21: SettingWithCopyWarning: \n",
      "A value is trying to be set on a copy of a slice from a DataFrame.\n",
      "Try using .loc[row_indexer,col_indexer] = value instead\n",
      "\n",
      "See the caveats in the documentation: https://pandas.pydata.org/pandas-docs/stable/user_guide/indexing.html#returning-a-view-versus-a-copy\n",
      "  time_serie['Change'] = time_serie['Change'].astype('Int64')\n"
     ]
    },
    {
     "name": "stdout",
     "output_type": "stream",
     "text": [
      "Erro Médio Absoluto (MAE) para Seller ID 100001395: 0.00379230291582644\n",
      "Processando Seller ID: 100000189\n",
      "Erro Médio Absoluto (MAE) para Seller ID 100000189: 0.14945189654827118\n",
      "Processando Seller ID: 100000301\n"
     ]
    },
    {
     "name": "stderr",
     "output_type": "stream",
     "text": [
      "C:\\Users\\Miguel Mendes\\AppData\\Local\\Temp\\ipykernel_8516\\2327759639.py:20: SettingWithCopyWarning: \n",
      "A value is trying to be set on a copy of a slice from a DataFrame\n",
      "\n",
      "See the caveats in the documentation: https://pandas.pydata.org/pandas-docs/stable/user_guide/indexing.html#returning-a-view-versus-a-copy\n",
      "  time_serie.drop(columns=['Seller ID', 'Day of Week', 'Last Week', 'Last Month'], inplace=True)\n",
      "C:\\Users\\Miguel Mendes\\AppData\\Local\\Temp\\ipykernel_8516\\2327759639.py:21: SettingWithCopyWarning: \n",
      "A value is trying to be set on a copy of a slice from a DataFrame.\n",
      "Try using .loc[row_indexer,col_indexer] = value instead\n",
      "\n",
      "See the caveats in the documentation: https://pandas.pydata.org/pandas-docs/stable/user_guide/indexing.html#returning-a-view-versus-a-copy\n",
      "  time_serie['Change'] = time_serie['Change'].astype('Int64')\n",
      "C:\\Users\\Miguel Mendes\\AppData\\Local\\Temp\\ipykernel_8516\\2327759639.py:20: SettingWithCopyWarning: \n",
      "A value is trying to be set on a copy of a slice from a DataFrame\n",
      "\n",
      "See the caveats in the documentation: https://pandas.pydata.org/pandas-docs/stable/user_guide/indexing.html#returning-a-view-versus-a-copy\n",
      "  time_serie.drop(columns=['Seller ID', 'Day of Week', 'Last Week', 'Last Month'], inplace=True)\n",
      "C:\\Users\\Miguel Mendes\\AppData\\Local\\Temp\\ipykernel_8516\\2327759639.py:21: SettingWithCopyWarning: \n",
      "A value is trying to be set on a copy of a slice from a DataFrame.\n",
      "Try using .loc[row_indexer,col_indexer] = value instead\n",
      "\n",
      "See the caveats in the documentation: https://pandas.pydata.org/pandas-docs/stable/user_guide/indexing.html#returning-a-view-versus-a-copy\n",
      "  time_serie['Change'] = time_serie['Change'].astype('Int64')\n"
     ]
    },
    {
     "name": "stdout",
     "output_type": "stream",
     "text": [
      "Erro Médio Absoluto (MAE) para Seller ID 100000301: 0.20108483731746674\n",
      "Processando Seller ID: 100000171\n",
      "Erro Médio Absoluto (MAE) para Seller ID 100000171: 0.03874983638525009\n",
      "Processando Seller ID: 100001196\n"
     ]
    },
    {
     "name": "stderr",
     "output_type": "stream",
     "text": [
      "C:\\Users\\Miguel Mendes\\AppData\\Local\\Temp\\ipykernel_8516\\2327759639.py:20: SettingWithCopyWarning: \n",
      "A value is trying to be set on a copy of a slice from a DataFrame\n",
      "\n",
      "See the caveats in the documentation: https://pandas.pydata.org/pandas-docs/stable/user_guide/indexing.html#returning-a-view-versus-a-copy\n",
      "  time_serie.drop(columns=['Seller ID', 'Day of Week', 'Last Week', 'Last Month'], inplace=True)\n",
      "C:\\Users\\Miguel Mendes\\AppData\\Local\\Temp\\ipykernel_8516\\2327759639.py:21: SettingWithCopyWarning: \n",
      "A value is trying to be set on a copy of a slice from a DataFrame.\n",
      "Try using .loc[row_indexer,col_indexer] = value instead\n",
      "\n",
      "See the caveats in the documentation: https://pandas.pydata.org/pandas-docs/stable/user_guide/indexing.html#returning-a-view-versus-a-copy\n",
      "  time_serie['Change'] = time_serie['Change'].astype('Int64')\n",
      "C:\\Users\\Miguel Mendes\\AppData\\Local\\Temp\\ipykernel_8516\\2327759639.py:20: SettingWithCopyWarning: \n",
      "A value is trying to be set on a copy of a slice from a DataFrame\n",
      "\n",
      "See the caveats in the documentation: https://pandas.pydata.org/pandas-docs/stable/user_guide/indexing.html#returning-a-view-versus-a-copy\n",
      "  time_serie.drop(columns=['Seller ID', 'Day of Week', 'Last Week', 'Last Month'], inplace=True)\n",
      "C:\\Users\\Miguel Mendes\\AppData\\Local\\Temp\\ipykernel_8516\\2327759639.py:21: SettingWithCopyWarning: \n",
      "A value is trying to be set on a copy of a slice from a DataFrame.\n",
      "Try using .loc[row_indexer,col_indexer] = value instead\n",
      "\n",
      "See the caveats in the documentation: https://pandas.pydata.org/pandas-docs/stable/user_guide/indexing.html#returning-a-view-versus-a-copy\n",
      "  time_serie['Change'] = time_serie['Change'].astype('Int64')\n"
     ]
    },
    {
     "name": "stdout",
     "output_type": "stream",
     "text": [
      "Erro Médio Absoluto (MAE) para Seller ID 100001196: 0.31905898451805115\n",
      "Processando Seller ID: 100001570\n",
      "Erro Médio Absoluto (MAE) para Seller ID 100001570: 0.07091808319091797\n",
      "Processando Seller ID: 100000388\n"
     ]
    },
    {
     "name": "stderr",
     "output_type": "stream",
     "text": [
      "C:\\Users\\Miguel Mendes\\AppData\\Local\\Temp\\ipykernel_8516\\2327759639.py:20: SettingWithCopyWarning: \n",
      "A value is trying to be set on a copy of a slice from a DataFrame\n",
      "\n",
      "See the caveats in the documentation: https://pandas.pydata.org/pandas-docs/stable/user_guide/indexing.html#returning-a-view-versus-a-copy\n",
      "  time_serie.drop(columns=['Seller ID', 'Day of Week', 'Last Week', 'Last Month'], inplace=True)\n",
      "C:\\Users\\Miguel Mendes\\AppData\\Local\\Temp\\ipykernel_8516\\2327759639.py:21: SettingWithCopyWarning: \n",
      "A value is trying to be set on a copy of a slice from a DataFrame.\n",
      "Try using .loc[row_indexer,col_indexer] = value instead\n",
      "\n",
      "See the caveats in the documentation: https://pandas.pydata.org/pandas-docs/stable/user_guide/indexing.html#returning-a-view-versus-a-copy\n",
      "  time_serie['Change'] = time_serie['Change'].astype('Int64')\n",
      "C:\\Users\\Miguel Mendes\\AppData\\Local\\Temp\\ipykernel_8516\\2327759639.py:20: SettingWithCopyWarning: \n",
      "A value is trying to be set on a copy of a slice from a DataFrame\n",
      "\n",
      "See the caveats in the documentation: https://pandas.pydata.org/pandas-docs/stable/user_guide/indexing.html#returning-a-view-versus-a-copy\n",
      "  time_serie.drop(columns=['Seller ID', 'Day of Week', 'Last Week', 'Last Month'], inplace=True)\n",
      "C:\\Users\\Miguel Mendes\\AppData\\Local\\Temp\\ipykernel_8516\\2327759639.py:21: SettingWithCopyWarning: \n",
      "A value is trying to be set on a copy of a slice from a DataFrame.\n",
      "Try using .loc[row_indexer,col_indexer] = value instead\n",
      "\n",
      "See the caveats in the documentation: https://pandas.pydata.org/pandas-docs/stable/user_guide/indexing.html#returning-a-view-versus-a-copy\n",
      "  time_serie['Change'] = time_serie['Change'].astype('Int64')\n"
     ]
    },
    {
     "name": "stdout",
     "output_type": "stream",
     "text": [
      "Erro Médio Absoluto (MAE) para Seller ID 100000388: 0.03181111812591553\n",
      "Processando Seller ID: 100000848\n"
     ]
    },
    {
     "name": "stderr",
     "output_type": "stream",
     "text": [
      "C:\\Users\\Miguel Mendes\\AppData\\Local\\Temp\\ipykernel_8516\\2327759639.py:20: SettingWithCopyWarning: \n",
      "A value is trying to be set on a copy of a slice from a DataFrame\n",
      "\n",
      "See the caveats in the documentation: https://pandas.pydata.org/pandas-docs/stable/user_guide/indexing.html#returning-a-view-versus-a-copy\n",
      "  time_serie.drop(columns=['Seller ID', 'Day of Week', 'Last Week', 'Last Month'], inplace=True)\n",
      "C:\\Users\\Miguel Mendes\\AppData\\Local\\Temp\\ipykernel_8516\\2327759639.py:21: SettingWithCopyWarning: \n",
      "A value is trying to be set on a copy of a slice from a DataFrame.\n",
      "Try using .loc[row_indexer,col_indexer] = value instead\n",
      "\n",
      "See the caveats in the documentation: https://pandas.pydata.org/pandas-docs/stable/user_guide/indexing.html#returning-a-view-versus-a-copy\n",
      "  time_serie['Change'] = time_serie['Change'].astype('Int64')\n"
     ]
    },
    {
     "name": "stdout",
     "output_type": "stream",
     "text": [
      "Erro Médio Absoluto (MAE) para Seller ID 100000848: 0.19832004606723785\n",
      "Processando Seller ID: 100000100\n",
      "Erro Médio Absoluto (MAE) para Seller ID 100000100: 0.27274879813194275\n",
      "Processando Seller ID: 100000520\n"
     ]
    },
    {
     "name": "stderr",
     "output_type": "stream",
     "text": [
      "C:\\Users\\Miguel Mendes\\AppData\\Local\\Temp\\ipykernel_8516\\2327759639.py:20: SettingWithCopyWarning: \n",
      "A value is trying to be set on a copy of a slice from a DataFrame\n",
      "\n",
      "See the caveats in the documentation: https://pandas.pydata.org/pandas-docs/stable/user_guide/indexing.html#returning-a-view-versus-a-copy\n",
      "  time_serie.drop(columns=['Seller ID', 'Day of Week', 'Last Week', 'Last Month'], inplace=True)\n",
      "C:\\Users\\Miguel Mendes\\AppData\\Local\\Temp\\ipykernel_8516\\2327759639.py:21: SettingWithCopyWarning: \n",
      "A value is trying to be set on a copy of a slice from a DataFrame.\n",
      "Try using .loc[row_indexer,col_indexer] = value instead\n",
      "\n",
      "See the caveats in the documentation: https://pandas.pydata.org/pandas-docs/stable/user_guide/indexing.html#returning-a-view-versus-a-copy\n",
      "  time_serie['Change'] = time_serie['Change'].astype('Int64')\n",
      "C:\\Users\\Miguel Mendes\\AppData\\Local\\Temp\\ipykernel_8516\\2327759639.py:20: SettingWithCopyWarning: \n",
      "A value is trying to be set on a copy of a slice from a DataFrame\n",
      "\n",
      "See the caveats in the documentation: https://pandas.pydata.org/pandas-docs/stable/user_guide/indexing.html#returning-a-view-versus-a-copy\n",
      "  time_serie.drop(columns=['Seller ID', 'Day of Week', 'Last Week', 'Last Month'], inplace=True)\n",
      "C:\\Users\\Miguel Mendes\\AppData\\Local\\Temp\\ipykernel_8516\\2327759639.py:21: SettingWithCopyWarning: \n",
      "A value is trying to be set on a copy of a slice from a DataFrame.\n",
      "Try using .loc[row_indexer,col_indexer] = value instead\n",
      "\n",
      "See the caveats in the documentation: https://pandas.pydata.org/pandas-docs/stable/user_guide/indexing.html#returning-a-view-versus-a-copy\n",
      "  time_serie['Change'] = time_serie['Change'].astype('Int64')\n"
     ]
    },
    {
     "name": "stdout",
     "output_type": "stream",
     "text": [
      "Erro Médio Absoluto (MAE) para Seller ID 100000520: 0.3545762598514557\n",
      "Processando Seller ID: 100000901\n",
      "Erro Médio Absoluto (MAE) para Seller ID 100000901: 0.1449051797389984\n",
      "Processando Seller ID: 100000702\n"
     ]
    },
    {
     "name": "stderr",
     "output_type": "stream",
     "text": [
      "C:\\Users\\Miguel Mendes\\AppData\\Local\\Temp\\ipykernel_8516\\2327759639.py:20: SettingWithCopyWarning: \n",
      "A value is trying to be set on a copy of a slice from a DataFrame\n",
      "\n",
      "See the caveats in the documentation: https://pandas.pydata.org/pandas-docs/stable/user_guide/indexing.html#returning-a-view-versus-a-copy\n",
      "  time_serie.drop(columns=['Seller ID', 'Day of Week', 'Last Week', 'Last Month'], inplace=True)\n",
      "C:\\Users\\Miguel Mendes\\AppData\\Local\\Temp\\ipykernel_8516\\2327759639.py:21: SettingWithCopyWarning: \n",
      "A value is trying to be set on a copy of a slice from a DataFrame.\n",
      "Try using .loc[row_indexer,col_indexer] = value instead\n",
      "\n",
      "See the caveats in the documentation: https://pandas.pydata.org/pandas-docs/stable/user_guide/indexing.html#returning-a-view-versus-a-copy\n",
      "  time_serie['Change'] = time_serie['Change'].astype('Int64')\n",
      "C:\\Users\\Miguel Mendes\\AppData\\Local\\Temp\\ipykernel_8516\\2327759639.py:20: SettingWithCopyWarning: \n",
      "A value is trying to be set on a copy of a slice from a DataFrame\n",
      "\n",
      "See the caveats in the documentation: https://pandas.pydata.org/pandas-docs/stable/user_guide/indexing.html#returning-a-view-versus-a-copy\n",
      "  time_serie.drop(columns=['Seller ID', 'Day of Week', 'Last Week', 'Last Month'], inplace=True)\n",
      "C:\\Users\\Miguel Mendes\\AppData\\Local\\Temp\\ipykernel_8516\\2327759639.py:21: SettingWithCopyWarning: \n",
      "A value is trying to be set on a copy of a slice from a DataFrame.\n",
      "Try using .loc[row_indexer,col_indexer] = value instead\n",
      "\n",
      "See the caveats in the documentation: https://pandas.pydata.org/pandas-docs/stable/user_guide/indexing.html#returning-a-view-versus-a-copy\n",
      "  time_serie['Change'] = time_serie['Change'].astype('Int64')\n"
     ]
    },
    {
     "name": "stdout",
     "output_type": "stream",
     "text": [
      "Erro Médio Absoluto (MAE) para Seller ID 100000702: 0.2395598590373993\n",
      "Processando Seller ID: 100000149\n",
      "Erro Médio Absoluto (MAE) para Seller ID 100000149: 0.00013822619803249836\n",
      "Processando Seller ID: 100000950\n"
     ]
    },
    {
     "name": "stderr",
     "output_type": "stream",
     "text": [
      "C:\\Users\\Miguel Mendes\\AppData\\Local\\Temp\\ipykernel_8516\\2327759639.py:20: SettingWithCopyWarning: \n",
      "A value is trying to be set on a copy of a slice from a DataFrame\n",
      "\n",
      "See the caveats in the documentation: https://pandas.pydata.org/pandas-docs/stable/user_guide/indexing.html#returning-a-view-versus-a-copy\n",
      "  time_serie.drop(columns=['Seller ID', 'Day of Week', 'Last Week', 'Last Month'], inplace=True)\n",
      "C:\\Users\\Miguel Mendes\\AppData\\Local\\Temp\\ipykernel_8516\\2327759639.py:21: SettingWithCopyWarning: \n",
      "A value is trying to be set on a copy of a slice from a DataFrame.\n",
      "Try using .loc[row_indexer,col_indexer] = value instead\n",
      "\n",
      "See the caveats in the documentation: https://pandas.pydata.org/pandas-docs/stable/user_guide/indexing.html#returning-a-view-versus-a-copy\n",
      "  time_serie['Change'] = time_serie['Change'].astype('Int64')\n",
      "C:\\Users\\Miguel Mendes\\AppData\\Local\\Temp\\ipykernel_8516\\2327759639.py:20: SettingWithCopyWarning: \n",
      "A value is trying to be set on a copy of a slice from a DataFrame\n",
      "\n",
      "See the caveats in the documentation: https://pandas.pydata.org/pandas-docs/stable/user_guide/indexing.html#returning-a-view-versus-a-copy\n",
      "  time_serie.drop(columns=['Seller ID', 'Day of Week', 'Last Week', 'Last Month'], inplace=True)\n",
      "C:\\Users\\Miguel Mendes\\AppData\\Local\\Temp\\ipykernel_8516\\2327759639.py:21: SettingWithCopyWarning: \n",
      "A value is trying to be set on a copy of a slice from a DataFrame.\n",
      "Try using .loc[row_indexer,col_indexer] = value instead\n",
      "\n",
      "See the caveats in the documentation: https://pandas.pydata.org/pandas-docs/stable/user_guide/indexing.html#returning-a-view-versus-a-copy\n",
      "  time_serie['Change'] = time_serie['Change'].astype('Int64')\n"
     ]
    },
    {
     "name": "stdout",
     "output_type": "stream",
     "text": [
      "Erro Médio Absoluto (MAE) para Seller ID 100000950: 0.07752961665391922\n",
      "Processando Seller ID: 100000854\n",
      "Erro Médio Absoluto (MAE) para Seller ID 100000854: 0.0005163210444152355\n",
      "Processando Seller ID: 100000023\n"
     ]
    },
    {
     "name": "stderr",
     "output_type": "stream",
     "text": [
      "C:\\Users\\Miguel Mendes\\AppData\\Local\\Temp\\ipykernel_8516\\2327759639.py:20: SettingWithCopyWarning: \n",
      "A value is trying to be set on a copy of a slice from a DataFrame\n",
      "\n",
      "See the caveats in the documentation: https://pandas.pydata.org/pandas-docs/stable/user_guide/indexing.html#returning-a-view-versus-a-copy\n",
      "  time_serie.drop(columns=['Seller ID', 'Day of Week', 'Last Week', 'Last Month'], inplace=True)\n",
      "C:\\Users\\Miguel Mendes\\AppData\\Local\\Temp\\ipykernel_8516\\2327759639.py:21: SettingWithCopyWarning: \n",
      "A value is trying to be set on a copy of a slice from a DataFrame.\n",
      "Try using .loc[row_indexer,col_indexer] = value instead\n",
      "\n",
      "See the caveats in the documentation: https://pandas.pydata.org/pandas-docs/stable/user_guide/indexing.html#returning-a-view-versus-a-copy\n",
      "  time_serie['Change'] = time_serie['Change'].astype('Int64')\n",
      "C:\\Users\\Miguel Mendes\\AppData\\Local\\Temp\\ipykernel_8516\\2327759639.py:20: SettingWithCopyWarning: \n",
      "A value is trying to be set on a copy of a slice from a DataFrame\n",
      "\n",
      "See the caveats in the documentation: https://pandas.pydata.org/pandas-docs/stable/user_guide/indexing.html#returning-a-view-versus-a-copy\n",
      "  time_serie.drop(columns=['Seller ID', 'Day of Week', 'Last Week', 'Last Month'], inplace=True)\n",
      "C:\\Users\\Miguel Mendes\\AppData\\Local\\Temp\\ipykernel_8516\\2327759639.py:21: SettingWithCopyWarning: \n",
      "A value is trying to be set on a copy of a slice from a DataFrame.\n",
      "Try using .loc[row_indexer,col_indexer] = value instead\n",
      "\n",
      "See the caveats in the documentation: https://pandas.pydata.org/pandas-docs/stable/user_guide/indexing.html#returning-a-view-versus-a-copy\n",
      "  time_serie['Change'] = time_serie['Change'].astype('Int64')\n"
     ]
    },
    {
     "name": "stdout",
     "output_type": "stream",
     "text": [
      "Erro Médio Absoluto (MAE) para Seller ID 100000023: 0.47592398524284363\n",
      "Processando Seller ID: 100000028\n",
      "Erro Médio Absoluto (MAE) para Seller ID 100000028: 0.04442170262336731\n",
      "Processando Seller ID: 100000075\n"
     ]
    },
    {
     "name": "stderr",
     "output_type": "stream",
     "text": [
      "C:\\Users\\Miguel Mendes\\AppData\\Local\\Temp\\ipykernel_8516\\2327759639.py:20: SettingWithCopyWarning: \n",
      "A value is trying to be set on a copy of a slice from a DataFrame\n",
      "\n",
      "See the caveats in the documentation: https://pandas.pydata.org/pandas-docs/stable/user_guide/indexing.html#returning-a-view-versus-a-copy\n",
      "  time_serie.drop(columns=['Seller ID', 'Day of Week', 'Last Week', 'Last Month'], inplace=True)\n",
      "C:\\Users\\Miguel Mendes\\AppData\\Local\\Temp\\ipykernel_8516\\2327759639.py:21: SettingWithCopyWarning: \n",
      "A value is trying to be set on a copy of a slice from a DataFrame.\n",
      "Try using .loc[row_indexer,col_indexer] = value instead\n",
      "\n",
      "See the caveats in the documentation: https://pandas.pydata.org/pandas-docs/stable/user_guide/indexing.html#returning-a-view-versus-a-copy\n",
      "  time_serie['Change'] = time_serie['Change'].astype('Int64')\n",
      "C:\\Users\\Miguel Mendes\\AppData\\Local\\Temp\\ipykernel_8516\\2327759639.py:20: SettingWithCopyWarning: \n",
      "A value is trying to be set on a copy of a slice from a DataFrame\n",
      "\n",
      "See the caveats in the documentation: https://pandas.pydata.org/pandas-docs/stable/user_guide/indexing.html#returning-a-view-versus-a-copy\n",
      "  time_serie.drop(columns=['Seller ID', 'Day of Week', 'Last Week', 'Last Month'], inplace=True)\n",
      "C:\\Users\\Miguel Mendes\\AppData\\Local\\Temp\\ipykernel_8516\\2327759639.py:21: SettingWithCopyWarning: \n",
      "A value is trying to be set on a copy of a slice from a DataFrame.\n",
      "Try using .loc[row_indexer,col_indexer] = value instead\n",
      "\n",
      "See the caveats in the documentation: https://pandas.pydata.org/pandas-docs/stable/user_guide/indexing.html#returning-a-view-versus-a-copy\n",
      "  time_serie['Change'] = time_serie['Change'].astype('Int64')\n"
     ]
    },
    {
     "name": "stdout",
     "output_type": "stream",
     "text": [
      "Erro Médio Absoluto (MAE) para Seller ID 100000075: 0.1082950234413147\n",
      "Processando Seller ID: 100000069\n",
      "Erro Médio Absoluto (MAE) para Seller ID 100000069: 0.031493693590164185\n",
      "Processando Seller ID: 100000349\n"
     ]
    },
    {
     "name": "stderr",
     "output_type": "stream",
     "text": [
      "C:\\Users\\Miguel Mendes\\AppData\\Local\\Temp\\ipykernel_8516\\2327759639.py:20: SettingWithCopyWarning: \n",
      "A value is trying to be set on a copy of a slice from a DataFrame\n",
      "\n",
      "See the caveats in the documentation: https://pandas.pydata.org/pandas-docs/stable/user_guide/indexing.html#returning-a-view-versus-a-copy\n",
      "  time_serie.drop(columns=['Seller ID', 'Day of Week', 'Last Week', 'Last Month'], inplace=True)\n",
      "C:\\Users\\Miguel Mendes\\AppData\\Local\\Temp\\ipykernel_8516\\2327759639.py:21: SettingWithCopyWarning: \n",
      "A value is trying to be set on a copy of a slice from a DataFrame.\n",
      "Try using .loc[row_indexer,col_indexer] = value instead\n",
      "\n",
      "See the caveats in the documentation: https://pandas.pydata.org/pandas-docs/stable/user_guide/indexing.html#returning-a-view-versus-a-copy\n",
      "  time_serie['Change'] = time_serie['Change'].astype('Int64')\n",
      "C:\\Users\\Miguel Mendes\\AppData\\Local\\Temp\\ipykernel_8516\\2327759639.py:20: SettingWithCopyWarning: \n",
      "A value is trying to be set on a copy of a slice from a DataFrame\n",
      "\n",
      "See the caveats in the documentation: https://pandas.pydata.org/pandas-docs/stable/user_guide/indexing.html#returning-a-view-versus-a-copy\n",
      "  time_serie.drop(columns=['Seller ID', 'Day of Week', 'Last Week', 'Last Month'], inplace=True)\n",
      "C:\\Users\\Miguel Mendes\\AppData\\Local\\Temp\\ipykernel_8516\\2327759639.py:21: SettingWithCopyWarning: \n",
      "A value is trying to be set on a copy of a slice from a DataFrame.\n",
      "Try using .loc[row_indexer,col_indexer] = value instead\n",
      "\n",
      "See the caveats in the documentation: https://pandas.pydata.org/pandas-docs/stable/user_guide/indexing.html#returning-a-view-versus-a-copy\n",
      "  time_serie['Change'] = time_serie['Change'].astype('Int64')\n"
     ]
    },
    {
     "name": "stdout",
     "output_type": "stream",
     "text": [
      "Erro Médio Absoluto (MAE) para Seller ID 100000349: 0.422381192445755\n",
      "Processando Seller ID: 100000783\n",
      "Erro Médio Absoluto (MAE) para Seller ID 100000783: 0.09537115693092346\n",
      "Processando Seller ID: 100001516\n"
     ]
    },
    {
     "name": "stderr",
     "output_type": "stream",
     "text": [
      "C:\\Users\\Miguel Mendes\\AppData\\Local\\Temp\\ipykernel_8516\\2327759639.py:20: SettingWithCopyWarning: \n",
      "A value is trying to be set on a copy of a slice from a DataFrame\n",
      "\n",
      "See the caveats in the documentation: https://pandas.pydata.org/pandas-docs/stable/user_guide/indexing.html#returning-a-view-versus-a-copy\n",
      "  time_serie.drop(columns=['Seller ID', 'Day of Week', 'Last Week', 'Last Month'], inplace=True)\n",
      "C:\\Users\\Miguel Mendes\\AppData\\Local\\Temp\\ipykernel_8516\\2327759639.py:21: SettingWithCopyWarning: \n",
      "A value is trying to be set on a copy of a slice from a DataFrame.\n",
      "Try using .loc[row_indexer,col_indexer] = value instead\n",
      "\n",
      "See the caveats in the documentation: https://pandas.pydata.org/pandas-docs/stable/user_guide/indexing.html#returning-a-view-versus-a-copy\n",
      "  time_serie['Change'] = time_serie['Change'].astype('Int64')\n",
      "C:\\Users\\Miguel Mendes\\AppData\\Local\\Temp\\ipykernel_8516\\2327759639.py:20: SettingWithCopyWarning: \n",
      "A value is trying to be set on a copy of a slice from a DataFrame\n",
      "\n",
      "See the caveats in the documentation: https://pandas.pydata.org/pandas-docs/stable/user_guide/indexing.html#returning-a-view-versus-a-copy\n",
      "  time_serie.drop(columns=['Seller ID', 'Day of Week', 'Last Week', 'Last Month'], inplace=True)\n",
      "C:\\Users\\Miguel Mendes\\AppData\\Local\\Temp\\ipykernel_8516\\2327759639.py:21: SettingWithCopyWarning: \n",
      "A value is trying to be set on a copy of a slice from a DataFrame.\n",
      "Try using .loc[row_indexer,col_indexer] = value instead\n",
      "\n",
      "See the caveats in the documentation: https://pandas.pydata.org/pandas-docs/stable/user_guide/indexing.html#returning-a-view-versus-a-copy\n",
      "  time_serie['Change'] = time_serie['Change'].astype('Int64')\n"
     ]
    },
    {
     "name": "stdout",
     "output_type": "stream",
     "text": [
      "Erro Médio Absoluto (MAE) para Seller ID 100001516: 0.027369124814867973\n",
      "Processando Seller ID: 100000170\n",
      "Erro Médio Absoluto (MAE) para Seller ID 100000170: 0.4565216302871704\n",
      "Processando Seller ID: 100000294\n"
     ]
    },
    {
     "name": "stderr",
     "output_type": "stream",
     "text": [
      "C:\\Users\\Miguel Mendes\\AppData\\Local\\Temp\\ipykernel_8516\\2327759639.py:20: SettingWithCopyWarning: \n",
      "A value is trying to be set on a copy of a slice from a DataFrame\n",
      "\n",
      "See the caveats in the documentation: https://pandas.pydata.org/pandas-docs/stable/user_guide/indexing.html#returning-a-view-versus-a-copy\n",
      "  time_serie.drop(columns=['Seller ID', 'Day of Week', 'Last Week', 'Last Month'], inplace=True)\n",
      "C:\\Users\\Miguel Mendes\\AppData\\Local\\Temp\\ipykernel_8516\\2327759639.py:21: SettingWithCopyWarning: \n",
      "A value is trying to be set on a copy of a slice from a DataFrame.\n",
      "Try using .loc[row_indexer,col_indexer] = value instead\n",
      "\n",
      "See the caveats in the documentation: https://pandas.pydata.org/pandas-docs/stable/user_guide/indexing.html#returning-a-view-versus-a-copy\n",
      "  time_serie['Change'] = time_serie['Change'].astype('Int64')\n",
      "C:\\Users\\Miguel Mendes\\AppData\\Local\\Temp\\ipykernel_8516\\2327759639.py:20: SettingWithCopyWarning: \n",
      "A value is trying to be set on a copy of a slice from a DataFrame\n",
      "\n",
      "See the caveats in the documentation: https://pandas.pydata.org/pandas-docs/stable/user_guide/indexing.html#returning-a-view-versus-a-copy\n",
      "  time_serie.drop(columns=['Seller ID', 'Day of Week', 'Last Week', 'Last Month'], inplace=True)\n",
      "C:\\Users\\Miguel Mendes\\AppData\\Local\\Temp\\ipykernel_8516\\2327759639.py:21: SettingWithCopyWarning: \n",
      "A value is trying to be set on a copy of a slice from a DataFrame.\n",
      "Try using .loc[row_indexer,col_indexer] = value instead\n",
      "\n",
      "See the caveats in the documentation: https://pandas.pydata.org/pandas-docs/stable/user_guide/indexing.html#returning-a-view-versus-a-copy\n",
      "  time_serie['Change'] = time_serie['Change'].astype('Int64')\n"
     ]
    },
    {
     "name": "stdout",
     "output_type": "stream",
     "text": [
      "Erro Médio Absoluto (MAE) para Seller ID 100000294: 0.335114061832428\n",
      "Processando Seller ID: 100000584\n",
      "Erro Médio Absoluto (MAE) para Seller ID 100000584: 0.013512248173356056\n",
      "Processando Seller ID: 100000759\n"
     ]
    },
    {
     "name": "stderr",
     "output_type": "stream",
     "text": [
      "C:\\Users\\Miguel Mendes\\AppData\\Local\\Temp\\ipykernel_8516\\2327759639.py:20: SettingWithCopyWarning: \n",
      "A value is trying to be set on a copy of a slice from a DataFrame\n",
      "\n",
      "See the caveats in the documentation: https://pandas.pydata.org/pandas-docs/stable/user_guide/indexing.html#returning-a-view-versus-a-copy\n",
      "  time_serie.drop(columns=['Seller ID', 'Day of Week', 'Last Week', 'Last Month'], inplace=True)\n",
      "C:\\Users\\Miguel Mendes\\AppData\\Local\\Temp\\ipykernel_8516\\2327759639.py:21: SettingWithCopyWarning: \n",
      "A value is trying to be set on a copy of a slice from a DataFrame.\n",
      "Try using .loc[row_indexer,col_indexer] = value instead\n",
      "\n",
      "See the caveats in the documentation: https://pandas.pydata.org/pandas-docs/stable/user_guide/indexing.html#returning-a-view-versus-a-copy\n",
      "  time_serie['Change'] = time_serie['Change'].astype('Int64')\n",
      "C:\\Users\\Miguel Mendes\\AppData\\Local\\Temp\\ipykernel_8516\\2327759639.py:20: SettingWithCopyWarning: \n",
      "A value is trying to be set on a copy of a slice from a DataFrame\n",
      "\n",
      "See the caveats in the documentation: https://pandas.pydata.org/pandas-docs/stable/user_guide/indexing.html#returning-a-view-versus-a-copy\n",
      "  time_serie.drop(columns=['Seller ID', 'Day of Week', 'Last Week', 'Last Month'], inplace=True)\n",
      "C:\\Users\\Miguel Mendes\\AppData\\Local\\Temp\\ipykernel_8516\\2327759639.py:21: SettingWithCopyWarning: \n",
      "A value is trying to be set on a copy of a slice from a DataFrame.\n",
      "Try using .loc[row_indexer,col_indexer] = value instead\n",
      "\n",
      "See the caveats in the documentation: https://pandas.pydata.org/pandas-docs/stable/user_guide/indexing.html#returning-a-view-versus-a-copy\n",
      "  time_serie['Change'] = time_serie['Change'].astype('Int64')\n"
     ]
    },
    {
     "name": "stdout",
     "output_type": "stream",
     "text": [
      "Erro Médio Absoluto (MAE) para Seller ID 100000759: 0.3564354181289673\n",
      "Processando Seller ID: 100000815\n",
      "Erro Médio Absoluto (MAE) para Seller ID 100000815: 0.11610106378793716\n",
      "Processando Seller ID: 100000308\n"
     ]
    },
    {
     "name": "stderr",
     "output_type": "stream",
     "text": [
      "C:\\Users\\Miguel Mendes\\AppData\\Local\\Temp\\ipykernel_8516\\2327759639.py:20: SettingWithCopyWarning: \n",
      "A value is trying to be set on a copy of a slice from a DataFrame\n",
      "\n",
      "See the caveats in the documentation: https://pandas.pydata.org/pandas-docs/stable/user_guide/indexing.html#returning-a-view-versus-a-copy\n",
      "  time_serie.drop(columns=['Seller ID', 'Day of Week', 'Last Week', 'Last Month'], inplace=True)\n",
      "C:\\Users\\Miguel Mendes\\AppData\\Local\\Temp\\ipykernel_8516\\2327759639.py:21: SettingWithCopyWarning: \n",
      "A value is trying to be set on a copy of a slice from a DataFrame.\n",
      "Try using .loc[row_indexer,col_indexer] = value instead\n",
      "\n",
      "See the caveats in the documentation: https://pandas.pydata.org/pandas-docs/stable/user_guide/indexing.html#returning-a-view-versus-a-copy\n",
      "  time_serie['Change'] = time_serie['Change'].astype('Int64')\n",
      "C:\\Users\\Miguel Mendes\\AppData\\Local\\Temp\\ipykernel_8516\\2327759639.py:20: SettingWithCopyWarning: \n",
      "A value is trying to be set on a copy of a slice from a DataFrame\n",
      "\n",
      "See the caveats in the documentation: https://pandas.pydata.org/pandas-docs/stable/user_guide/indexing.html#returning-a-view-versus-a-copy\n",
      "  time_serie.drop(columns=['Seller ID', 'Day of Week', 'Last Week', 'Last Month'], inplace=True)\n",
      "C:\\Users\\Miguel Mendes\\AppData\\Local\\Temp\\ipykernel_8516\\2327759639.py:21: SettingWithCopyWarning: \n",
      "A value is trying to be set on a copy of a slice from a DataFrame.\n",
      "Try using .loc[row_indexer,col_indexer] = value instead\n",
      "\n",
      "See the caveats in the documentation: https://pandas.pydata.org/pandas-docs/stable/user_guide/indexing.html#returning-a-view-versus-a-copy\n",
      "  time_serie['Change'] = time_serie['Change'].astype('Int64')\n"
     ]
    },
    {
     "name": "stdout",
     "output_type": "stream",
     "text": [
      "Erro Médio Absoluto (MAE) para Seller ID 100000308: 0.0005873453337699175\n",
      "Processando Seller ID: 100001676\n",
      "Erro Médio Absoluto (MAE) para Seller ID 100001676: 0.5601129531860352\n",
      "Processando Seller ID: 100000346\n"
     ]
    },
    {
     "name": "stderr",
     "output_type": "stream",
     "text": [
      "C:\\Users\\Miguel Mendes\\AppData\\Local\\Temp\\ipykernel_8516\\2327759639.py:20: SettingWithCopyWarning: \n",
      "A value is trying to be set on a copy of a slice from a DataFrame\n",
      "\n",
      "See the caveats in the documentation: https://pandas.pydata.org/pandas-docs/stable/user_guide/indexing.html#returning-a-view-versus-a-copy\n",
      "  time_serie.drop(columns=['Seller ID', 'Day of Week', 'Last Week', 'Last Month'], inplace=True)\n",
      "C:\\Users\\Miguel Mendes\\AppData\\Local\\Temp\\ipykernel_8516\\2327759639.py:21: SettingWithCopyWarning: \n",
      "A value is trying to be set on a copy of a slice from a DataFrame.\n",
      "Try using .loc[row_indexer,col_indexer] = value instead\n",
      "\n",
      "See the caveats in the documentation: https://pandas.pydata.org/pandas-docs/stable/user_guide/indexing.html#returning-a-view-versus-a-copy\n",
      "  time_serie['Change'] = time_serie['Change'].astype('Int64')\n",
      "C:\\Users\\Miguel Mendes\\AppData\\Local\\Temp\\ipykernel_8516\\2327759639.py:20: SettingWithCopyWarning: \n",
      "A value is trying to be set on a copy of a slice from a DataFrame\n",
      "\n",
      "See the caveats in the documentation: https://pandas.pydata.org/pandas-docs/stable/user_guide/indexing.html#returning-a-view-versus-a-copy\n",
      "  time_serie.drop(columns=['Seller ID', 'Day of Week', 'Last Week', 'Last Month'], inplace=True)\n",
      "C:\\Users\\Miguel Mendes\\AppData\\Local\\Temp\\ipykernel_8516\\2327759639.py:21: SettingWithCopyWarning: \n",
      "A value is trying to be set on a copy of a slice from a DataFrame.\n",
      "Try using .loc[row_indexer,col_indexer] = value instead\n",
      "\n",
      "See the caveats in the documentation: https://pandas.pydata.org/pandas-docs/stable/user_guide/indexing.html#returning-a-view-versus-a-copy\n",
      "  time_serie['Change'] = time_serie['Change'].astype('Int64')\n"
     ]
    },
    {
     "name": "stdout",
     "output_type": "stream",
     "text": [
      "Erro Médio Absoluto (MAE) para Seller ID 100000346: 0.007833902724087238\n",
      "Processando Seller ID: 100000547\n",
      "Erro Médio Absoluto (MAE) para Seller ID 100000547: 0.0010439764009788632\n",
      "Processando Seller ID: 100000862\n"
     ]
    },
    {
     "name": "stderr",
     "output_type": "stream",
     "text": [
      "C:\\Users\\Miguel Mendes\\AppData\\Local\\Temp\\ipykernel_8516\\2327759639.py:20: SettingWithCopyWarning: \n",
      "A value is trying to be set on a copy of a slice from a DataFrame\n",
      "\n",
      "See the caveats in the documentation: https://pandas.pydata.org/pandas-docs/stable/user_guide/indexing.html#returning-a-view-versus-a-copy\n",
      "  time_serie.drop(columns=['Seller ID', 'Day of Week', 'Last Week', 'Last Month'], inplace=True)\n",
      "C:\\Users\\Miguel Mendes\\AppData\\Local\\Temp\\ipykernel_8516\\2327759639.py:21: SettingWithCopyWarning: \n",
      "A value is trying to be set on a copy of a slice from a DataFrame.\n",
      "Try using .loc[row_indexer,col_indexer] = value instead\n",
      "\n",
      "See the caveats in the documentation: https://pandas.pydata.org/pandas-docs/stable/user_guide/indexing.html#returning-a-view-versus-a-copy\n",
      "  time_serie['Change'] = time_serie['Change'].astype('Int64')\n",
      "C:\\Users\\Miguel Mendes\\AppData\\Local\\Temp\\ipykernel_8516\\2327759639.py:20: SettingWithCopyWarning: \n",
      "A value is trying to be set on a copy of a slice from a DataFrame\n",
      "\n",
      "See the caveats in the documentation: https://pandas.pydata.org/pandas-docs/stable/user_guide/indexing.html#returning-a-view-versus-a-copy\n",
      "  time_serie.drop(columns=['Seller ID', 'Day of Week', 'Last Week', 'Last Month'], inplace=True)\n",
      "C:\\Users\\Miguel Mendes\\AppData\\Local\\Temp\\ipykernel_8516\\2327759639.py:21: SettingWithCopyWarning: \n",
      "A value is trying to be set on a copy of a slice from a DataFrame.\n",
      "Try using .loc[row_indexer,col_indexer] = value instead\n",
      "\n",
      "See the caveats in the documentation: https://pandas.pydata.org/pandas-docs/stable/user_guide/indexing.html#returning-a-view-versus-a-copy\n",
      "  time_serie['Change'] = time_serie['Change'].astype('Int64')\n"
     ]
    },
    {
     "name": "stdout",
     "output_type": "stream",
     "text": [
      "Erro Médio Absoluto (MAE) para Seller ID 100000862: 0.4158826172351837\n",
      "Processando Seller ID: 100001280\n"
     ]
    },
    {
     "name": "stderr",
     "output_type": "stream",
     "text": [
      "C:\\Users\\Miguel Mendes\\AppData\\Local\\Temp\\ipykernel_8516\\2327759639.py:20: SettingWithCopyWarning: \n",
      "A value is trying to be set on a copy of a slice from a DataFrame\n",
      "\n",
      "See the caveats in the documentation: https://pandas.pydata.org/pandas-docs/stable/user_guide/indexing.html#returning-a-view-versus-a-copy\n",
      "  time_serie.drop(columns=['Seller ID', 'Day of Week', 'Last Week', 'Last Month'], inplace=True)\n",
      "C:\\Users\\Miguel Mendes\\AppData\\Local\\Temp\\ipykernel_8516\\2327759639.py:21: SettingWithCopyWarning: \n",
      "A value is trying to be set on a copy of a slice from a DataFrame.\n",
      "Try using .loc[row_indexer,col_indexer] = value instead\n",
      "\n",
      "See the caveats in the documentation: https://pandas.pydata.org/pandas-docs/stable/user_guide/indexing.html#returning-a-view-versus-a-copy\n",
      "  time_serie['Change'] = time_serie['Change'].astype('Int64')\n"
     ]
    },
    {
     "name": "stdout",
     "output_type": "stream",
     "text": [
      "Erro Médio Absoluto (MAE) para Seller ID 100001280: 0.0069347284734249115\n",
      "Processando Seller ID: 100001527\n",
      "Erro Médio Absoluto (MAE) para Seller ID 100001527: 0.3118310570716858\n",
      "Processando Seller ID: 100001137\n"
     ]
    },
    {
     "name": "stderr",
     "output_type": "stream",
     "text": [
      "C:\\Users\\Miguel Mendes\\AppData\\Local\\Temp\\ipykernel_8516\\2327759639.py:20: SettingWithCopyWarning: \n",
      "A value is trying to be set on a copy of a slice from a DataFrame\n",
      "\n",
      "See the caveats in the documentation: https://pandas.pydata.org/pandas-docs/stable/user_guide/indexing.html#returning-a-view-versus-a-copy\n",
      "  time_serie.drop(columns=['Seller ID', 'Day of Week', 'Last Week', 'Last Month'], inplace=True)\n",
      "C:\\Users\\Miguel Mendes\\AppData\\Local\\Temp\\ipykernel_8516\\2327759639.py:21: SettingWithCopyWarning: \n",
      "A value is trying to be set on a copy of a slice from a DataFrame.\n",
      "Try using .loc[row_indexer,col_indexer] = value instead\n",
      "\n",
      "See the caveats in the documentation: https://pandas.pydata.org/pandas-docs/stable/user_guide/indexing.html#returning-a-view-versus-a-copy\n",
      "  time_serie['Change'] = time_serie['Change'].astype('Int64')\n",
      "C:\\Users\\Miguel Mendes\\AppData\\Local\\Temp\\ipykernel_8516\\2327759639.py:20: SettingWithCopyWarning: \n",
      "A value is trying to be set on a copy of a slice from a DataFrame\n",
      "\n",
      "See the caveats in the documentation: https://pandas.pydata.org/pandas-docs/stable/user_guide/indexing.html#returning-a-view-versus-a-copy\n",
      "  time_serie.drop(columns=['Seller ID', 'Day of Week', 'Last Week', 'Last Month'], inplace=True)\n",
      "C:\\Users\\Miguel Mendes\\AppData\\Local\\Temp\\ipykernel_8516\\2327759639.py:21: SettingWithCopyWarning: \n",
      "A value is trying to be set on a copy of a slice from a DataFrame.\n",
      "Try using .loc[row_indexer,col_indexer] = value instead\n",
      "\n",
      "See the caveats in the documentation: https://pandas.pydata.org/pandas-docs/stable/user_guide/indexing.html#returning-a-view-versus-a-copy\n",
      "  time_serie['Change'] = time_serie['Change'].astype('Int64')\n"
     ]
    },
    {
     "name": "stdout",
     "output_type": "stream",
     "text": [
      "Erro Médio Absoluto (MAE) para Seller ID 100001137: 0.06638607382774353\n",
      "Processando Seller ID: 100000190\n",
      "Erro Médio Absoluto (MAE) para Seller ID 100000190: 0.029520496726036072\n",
      "Processando Seller ID: 100000155\n"
     ]
    },
    {
     "name": "stderr",
     "output_type": "stream",
     "text": [
      "C:\\Users\\Miguel Mendes\\AppData\\Local\\Temp\\ipykernel_8516\\2327759639.py:20: SettingWithCopyWarning: \n",
      "A value is trying to be set on a copy of a slice from a DataFrame\n",
      "\n",
      "See the caveats in the documentation: https://pandas.pydata.org/pandas-docs/stable/user_guide/indexing.html#returning-a-view-versus-a-copy\n",
      "  time_serie.drop(columns=['Seller ID', 'Day of Week', 'Last Week', 'Last Month'], inplace=True)\n",
      "C:\\Users\\Miguel Mendes\\AppData\\Local\\Temp\\ipykernel_8516\\2327759639.py:21: SettingWithCopyWarning: \n",
      "A value is trying to be set on a copy of a slice from a DataFrame.\n",
      "Try using .loc[row_indexer,col_indexer] = value instead\n",
      "\n",
      "See the caveats in the documentation: https://pandas.pydata.org/pandas-docs/stable/user_guide/indexing.html#returning-a-view-versus-a-copy\n",
      "  time_serie['Change'] = time_serie['Change'].astype('Int64')\n",
      "C:\\Users\\Miguel Mendes\\AppData\\Local\\Temp\\ipykernel_8516\\2327759639.py:20: SettingWithCopyWarning: \n",
      "A value is trying to be set on a copy of a slice from a DataFrame\n",
      "\n",
      "See the caveats in the documentation: https://pandas.pydata.org/pandas-docs/stable/user_guide/indexing.html#returning-a-view-versus-a-copy\n",
      "  time_serie.drop(columns=['Seller ID', 'Day of Week', 'Last Week', 'Last Month'], inplace=True)\n",
      "C:\\Users\\Miguel Mendes\\AppData\\Local\\Temp\\ipykernel_8516\\2327759639.py:21: SettingWithCopyWarning: \n",
      "A value is trying to be set on a copy of a slice from a DataFrame.\n",
      "Try using .loc[row_indexer,col_indexer] = value instead\n",
      "\n",
      "See the caveats in the documentation: https://pandas.pydata.org/pandas-docs/stable/user_guide/indexing.html#returning-a-view-versus-a-copy\n",
      "  time_serie['Change'] = time_serie['Change'].astype('Int64')\n"
     ]
    },
    {
     "name": "stdout",
     "output_type": "stream",
     "text": [
      "Erro Médio Absoluto (MAE) para Seller ID 100000155: 0.0006976474542170763\n",
      "Processando Seller ID: 100000200\n"
     ]
    },
    {
     "name": "stderr",
     "output_type": "stream",
     "text": [
      "C:\\Users\\Miguel Mendes\\AppData\\Local\\Temp\\ipykernel_8516\\2327759639.py:20: SettingWithCopyWarning: \n",
      "A value is trying to be set on a copy of a slice from a DataFrame\n",
      "\n",
      "See the caveats in the documentation: https://pandas.pydata.org/pandas-docs/stable/user_guide/indexing.html#returning-a-view-versus-a-copy\n",
      "  time_serie.drop(columns=['Seller ID', 'Day of Week', 'Last Week', 'Last Month'], inplace=True)\n",
      "C:\\Users\\Miguel Mendes\\AppData\\Local\\Temp\\ipykernel_8516\\2327759639.py:21: SettingWithCopyWarning: \n",
      "A value is trying to be set on a copy of a slice from a DataFrame.\n",
      "Try using .loc[row_indexer,col_indexer] = value instead\n",
      "\n",
      "See the caveats in the documentation: https://pandas.pydata.org/pandas-docs/stable/user_guide/indexing.html#returning-a-view-versus-a-copy\n",
      "  time_serie['Change'] = time_serie['Change'].astype('Int64')\n"
     ]
    },
    {
     "name": "stdout",
     "output_type": "stream",
     "text": [
      "Erro Médio Absoluto (MAE) para Seller ID 100000200: 0.0036726505495607853\n",
      "Processando Seller ID: 100000637\n"
     ]
    },
    {
     "name": "stderr",
     "output_type": "stream",
     "text": [
      "C:\\Users\\Miguel Mendes\\AppData\\Local\\Temp\\ipykernel_8516\\2327759639.py:20: SettingWithCopyWarning: \n",
      "A value is trying to be set on a copy of a slice from a DataFrame\n",
      "\n",
      "See the caveats in the documentation: https://pandas.pydata.org/pandas-docs/stable/user_guide/indexing.html#returning-a-view-versus-a-copy\n",
      "  time_serie.drop(columns=['Seller ID', 'Day of Week', 'Last Week', 'Last Month'], inplace=True)\n",
      "C:\\Users\\Miguel Mendes\\AppData\\Local\\Temp\\ipykernel_8516\\2327759639.py:21: SettingWithCopyWarning: \n",
      "A value is trying to be set on a copy of a slice from a DataFrame.\n",
      "Try using .loc[row_indexer,col_indexer] = value instead\n",
      "\n",
      "See the caveats in the documentation: https://pandas.pydata.org/pandas-docs/stable/user_guide/indexing.html#returning-a-view-versus-a-copy\n",
      "  time_serie['Change'] = time_serie['Change'].astype('Int64')\n"
     ]
    },
    {
     "name": "stdout",
     "output_type": "stream",
     "text": [
      "Erro Médio Absoluto (MAE) para Seller ID 100000637: 0.0014489206951111555\n",
      "Processando Seller ID: 100000272\n"
     ]
    },
    {
     "name": "stderr",
     "output_type": "stream",
     "text": [
      "C:\\Users\\Miguel Mendes\\AppData\\Local\\Temp\\ipykernel_8516\\2327759639.py:20: SettingWithCopyWarning: \n",
      "A value is trying to be set on a copy of a slice from a DataFrame\n",
      "\n",
      "See the caveats in the documentation: https://pandas.pydata.org/pandas-docs/stable/user_guide/indexing.html#returning-a-view-versus-a-copy\n",
      "  time_serie.drop(columns=['Seller ID', 'Day of Week', 'Last Week', 'Last Month'], inplace=True)\n",
      "C:\\Users\\Miguel Mendes\\AppData\\Local\\Temp\\ipykernel_8516\\2327759639.py:21: SettingWithCopyWarning: \n",
      "A value is trying to be set on a copy of a slice from a DataFrame.\n",
      "Try using .loc[row_indexer,col_indexer] = value instead\n",
      "\n",
      "See the caveats in the documentation: https://pandas.pydata.org/pandas-docs/stable/user_guide/indexing.html#returning-a-view-versus-a-copy\n",
      "  time_serie['Change'] = time_serie['Change'].astype('Int64')\n"
     ]
    },
    {
     "name": "stdout",
     "output_type": "stream",
     "text": [
      "Erro Médio Absoluto (MAE) para Seller ID 100000272: 0.07226219028234482\n",
      "Processando Seller ID: 100000937\n"
     ]
    },
    {
     "name": "stderr",
     "output_type": "stream",
     "text": [
      "C:\\Users\\Miguel Mendes\\AppData\\Local\\Temp\\ipykernel_8516\\2327759639.py:20: SettingWithCopyWarning: \n",
      "A value is trying to be set on a copy of a slice from a DataFrame\n",
      "\n",
      "See the caveats in the documentation: https://pandas.pydata.org/pandas-docs/stable/user_guide/indexing.html#returning-a-view-versus-a-copy\n",
      "  time_serie.drop(columns=['Seller ID', 'Day of Week', 'Last Week', 'Last Month'], inplace=True)\n",
      "C:\\Users\\Miguel Mendes\\AppData\\Local\\Temp\\ipykernel_8516\\2327759639.py:21: SettingWithCopyWarning: \n",
      "A value is trying to be set on a copy of a slice from a DataFrame.\n",
      "Try using .loc[row_indexer,col_indexer] = value instead\n",
      "\n",
      "See the caveats in the documentation: https://pandas.pydata.org/pandas-docs/stable/user_guide/indexing.html#returning-a-view-versus-a-copy\n",
      "  time_serie['Change'] = time_serie['Change'].astype('Int64')\n"
     ]
    },
    {
     "name": "stdout",
     "output_type": "stream",
     "text": [
      "Erro Médio Absoluto (MAE) para Seller ID 100000937: 0.12288814783096313\n",
      "Processando Seller ID: 100001746\n",
      "Erro Médio Absoluto (MAE) para Seller ID 100001746: 0.017390092834830284\n",
      "Processando Seller ID: 100000325\n"
     ]
    },
    {
     "name": "stderr",
     "output_type": "stream",
     "text": [
      "C:\\Users\\Miguel Mendes\\AppData\\Local\\Temp\\ipykernel_8516\\2327759639.py:20: SettingWithCopyWarning: \n",
      "A value is trying to be set on a copy of a slice from a DataFrame\n",
      "\n",
      "See the caveats in the documentation: https://pandas.pydata.org/pandas-docs/stable/user_guide/indexing.html#returning-a-view-versus-a-copy\n",
      "  time_serie.drop(columns=['Seller ID', 'Day of Week', 'Last Week', 'Last Month'], inplace=True)\n",
      "C:\\Users\\Miguel Mendes\\AppData\\Local\\Temp\\ipykernel_8516\\2327759639.py:21: SettingWithCopyWarning: \n",
      "A value is trying to be set on a copy of a slice from a DataFrame.\n",
      "Try using .loc[row_indexer,col_indexer] = value instead\n",
      "\n",
      "See the caveats in the documentation: https://pandas.pydata.org/pandas-docs/stable/user_guide/indexing.html#returning-a-view-versus-a-copy\n",
      "  time_serie['Change'] = time_serie['Change'].astype('Int64')\n",
      "C:\\Users\\Miguel Mendes\\AppData\\Local\\Temp\\ipykernel_8516\\2327759639.py:20: SettingWithCopyWarning: \n",
      "A value is trying to be set on a copy of a slice from a DataFrame\n",
      "\n",
      "See the caveats in the documentation: https://pandas.pydata.org/pandas-docs/stable/user_guide/indexing.html#returning-a-view-versus-a-copy\n",
      "  time_serie.drop(columns=['Seller ID', 'Day of Week', 'Last Week', 'Last Month'], inplace=True)\n",
      "C:\\Users\\Miguel Mendes\\AppData\\Local\\Temp\\ipykernel_8516\\2327759639.py:21: SettingWithCopyWarning: \n",
      "A value is trying to be set on a copy of a slice from a DataFrame.\n",
      "Try using .loc[row_indexer,col_indexer] = value instead\n",
      "\n",
      "See the caveats in the documentation: https://pandas.pydata.org/pandas-docs/stable/user_guide/indexing.html#returning-a-view-versus-a-copy\n",
      "  time_serie['Change'] = time_serie['Change'].astype('Int64')\n"
     ]
    },
    {
     "name": "stdout",
     "output_type": "stream",
     "text": [
      "Erro Médio Absoluto (MAE) para Seller ID 100000325: 0.01872159354388714\n",
      "Processando Seller ID: 100000341\n",
      "Erro Médio Absoluto (MAE) para Seller ID 100000341: 0.2265012264251709\n",
      "Processando Seller ID: 100000368\n"
     ]
    },
    {
     "name": "stderr",
     "output_type": "stream",
     "text": [
      "C:\\Users\\Miguel Mendes\\AppData\\Local\\Temp\\ipykernel_8516\\2327759639.py:20: SettingWithCopyWarning: \n",
      "A value is trying to be set on a copy of a slice from a DataFrame\n",
      "\n",
      "See the caveats in the documentation: https://pandas.pydata.org/pandas-docs/stable/user_guide/indexing.html#returning-a-view-versus-a-copy\n",
      "  time_serie.drop(columns=['Seller ID', 'Day of Week', 'Last Week', 'Last Month'], inplace=True)\n",
      "C:\\Users\\Miguel Mendes\\AppData\\Local\\Temp\\ipykernel_8516\\2327759639.py:21: SettingWithCopyWarning: \n",
      "A value is trying to be set on a copy of a slice from a DataFrame.\n",
      "Try using .loc[row_indexer,col_indexer] = value instead\n",
      "\n",
      "See the caveats in the documentation: https://pandas.pydata.org/pandas-docs/stable/user_guide/indexing.html#returning-a-view-versus-a-copy\n",
      "  time_serie['Change'] = time_serie['Change'].astype('Int64')\n",
      "C:\\Users\\Miguel Mendes\\AppData\\Local\\Temp\\ipykernel_8516\\2327759639.py:20: SettingWithCopyWarning: \n",
      "A value is trying to be set on a copy of a slice from a DataFrame\n",
      "\n",
      "See the caveats in the documentation: https://pandas.pydata.org/pandas-docs/stable/user_guide/indexing.html#returning-a-view-versus-a-copy\n",
      "  time_serie.drop(columns=['Seller ID', 'Day of Week', 'Last Week', 'Last Month'], inplace=True)\n",
      "C:\\Users\\Miguel Mendes\\AppData\\Local\\Temp\\ipykernel_8516\\2327759639.py:21: SettingWithCopyWarning: \n",
      "A value is trying to be set on a copy of a slice from a DataFrame.\n",
      "Try using .loc[row_indexer,col_indexer] = value instead\n",
      "\n",
      "See the caveats in the documentation: https://pandas.pydata.org/pandas-docs/stable/user_guide/indexing.html#returning-a-view-versus-a-copy\n",
      "  time_serie['Change'] = time_serie['Change'].astype('Int64')\n"
     ]
    },
    {
     "name": "stdout",
     "output_type": "stream",
     "text": [
      "Erro Médio Absoluto (MAE) para Seller ID 100000368: 0.00530278729274869\n",
      "Processando Seller ID: 100001051\n",
      "Erro Médio Absoluto (MAE) para Seller ID 100001051: 0.0041716392152011395\n",
      "Processando Seller ID: 100000324\n"
     ]
    },
    {
     "name": "stderr",
     "output_type": "stream",
     "text": [
      "C:\\Users\\Miguel Mendes\\AppData\\Local\\Temp\\ipykernel_8516\\2327759639.py:20: SettingWithCopyWarning: \n",
      "A value is trying to be set on a copy of a slice from a DataFrame\n",
      "\n",
      "See the caveats in the documentation: https://pandas.pydata.org/pandas-docs/stable/user_guide/indexing.html#returning-a-view-versus-a-copy\n",
      "  time_serie.drop(columns=['Seller ID', 'Day of Week', 'Last Week', 'Last Month'], inplace=True)\n",
      "C:\\Users\\Miguel Mendes\\AppData\\Local\\Temp\\ipykernel_8516\\2327759639.py:21: SettingWithCopyWarning: \n",
      "A value is trying to be set on a copy of a slice from a DataFrame.\n",
      "Try using .loc[row_indexer,col_indexer] = value instead\n",
      "\n",
      "See the caveats in the documentation: https://pandas.pydata.org/pandas-docs/stable/user_guide/indexing.html#returning-a-view-versus-a-copy\n",
      "  time_serie['Change'] = time_serie['Change'].astype('Int64')\n",
      "C:\\Users\\Miguel Mendes\\AppData\\Local\\Temp\\ipykernel_8516\\2327759639.py:20: SettingWithCopyWarning: \n",
      "A value is trying to be set on a copy of a slice from a DataFrame\n",
      "\n",
      "See the caveats in the documentation: https://pandas.pydata.org/pandas-docs/stable/user_guide/indexing.html#returning-a-view-versus-a-copy\n",
      "  time_serie.drop(columns=['Seller ID', 'Day of Week', 'Last Week', 'Last Month'], inplace=True)\n",
      "C:\\Users\\Miguel Mendes\\AppData\\Local\\Temp\\ipykernel_8516\\2327759639.py:21: SettingWithCopyWarning: \n",
      "A value is trying to be set on a copy of a slice from a DataFrame.\n",
      "Try using .loc[row_indexer,col_indexer] = value instead\n",
      "\n",
      "See the caveats in the documentation: https://pandas.pydata.org/pandas-docs/stable/user_guide/indexing.html#returning-a-view-versus-a-copy\n",
      "  time_serie['Change'] = time_serie['Change'].astype('Int64')\n"
     ]
    },
    {
     "name": "stdout",
     "output_type": "stream",
     "text": [
      "Erro Médio Absoluto (MAE) para Seller ID 100000324: 0.01651078090071678\n",
      "Processando Seller ID: 100000769\n",
      "Erro Médio Absoluto (MAE) para Seller ID 100000769: 0.19952701032161713\n",
      "Processando Seller ID: 100001446\n"
     ]
    },
    {
     "name": "stderr",
     "output_type": "stream",
     "text": [
      "C:\\Users\\Miguel Mendes\\AppData\\Local\\Temp\\ipykernel_8516\\2327759639.py:20: SettingWithCopyWarning: \n",
      "A value is trying to be set on a copy of a slice from a DataFrame\n",
      "\n",
      "See the caveats in the documentation: https://pandas.pydata.org/pandas-docs/stable/user_guide/indexing.html#returning-a-view-versus-a-copy\n",
      "  time_serie.drop(columns=['Seller ID', 'Day of Week', 'Last Week', 'Last Month'], inplace=True)\n",
      "C:\\Users\\Miguel Mendes\\AppData\\Local\\Temp\\ipykernel_8516\\2327759639.py:21: SettingWithCopyWarning: \n",
      "A value is trying to be set on a copy of a slice from a DataFrame.\n",
      "Try using .loc[row_indexer,col_indexer] = value instead\n",
      "\n",
      "See the caveats in the documentation: https://pandas.pydata.org/pandas-docs/stable/user_guide/indexing.html#returning-a-view-versus-a-copy\n",
      "  time_serie['Change'] = time_serie['Change'].astype('Int64')\n",
      "C:\\Users\\Miguel Mendes\\AppData\\Local\\Temp\\ipykernel_8516\\2327759639.py:20: SettingWithCopyWarning: \n",
      "A value is trying to be set on a copy of a slice from a DataFrame\n",
      "\n",
      "See the caveats in the documentation: https://pandas.pydata.org/pandas-docs/stable/user_guide/indexing.html#returning-a-view-versus-a-copy\n",
      "  time_serie.drop(columns=['Seller ID', 'Day of Week', 'Last Week', 'Last Month'], inplace=True)\n",
      "C:\\Users\\Miguel Mendes\\AppData\\Local\\Temp\\ipykernel_8516\\2327759639.py:21: SettingWithCopyWarning: \n",
      "A value is trying to be set on a copy of a slice from a DataFrame.\n",
      "Try using .loc[row_indexer,col_indexer] = value instead\n",
      "\n",
      "See the caveats in the documentation: https://pandas.pydata.org/pandas-docs/stable/user_guide/indexing.html#returning-a-view-versus-a-copy\n",
      "  time_serie['Change'] = time_serie['Change'].astype('Int64')\n"
     ]
    },
    {
     "name": "stdout",
     "output_type": "stream",
     "text": [
      "Erro Médio Absoluto (MAE) para Seller ID 100001446: 0.007050583604723215\n",
      "Processando Seller ID: 100000063\n",
      "Erro Médio Absoluto (MAE) para Seller ID 100000063: 0.11452402174472809\n",
      "Processando Seller ID: 100001822\n"
     ]
    },
    {
     "name": "stderr",
     "output_type": "stream",
     "text": [
      "C:\\Users\\Miguel Mendes\\AppData\\Local\\Temp\\ipykernel_8516\\2327759639.py:20: SettingWithCopyWarning: \n",
      "A value is trying to be set on a copy of a slice from a DataFrame\n",
      "\n",
      "See the caveats in the documentation: https://pandas.pydata.org/pandas-docs/stable/user_guide/indexing.html#returning-a-view-versus-a-copy\n",
      "  time_serie.drop(columns=['Seller ID', 'Day of Week', 'Last Week', 'Last Month'], inplace=True)\n",
      "C:\\Users\\Miguel Mendes\\AppData\\Local\\Temp\\ipykernel_8516\\2327759639.py:21: SettingWithCopyWarning: \n",
      "A value is trying to be set on a copy of a slice from a DataFrame.\n",
      "Try using .loc[row_indexer,col_indexer] = value instead\n",
      "\n",
      "See the caveats in the documentation: https://pandas.pydata.org/pandas-docs/stable/user_guide/indexing.html#returning-a-view-versus-a-copy\n",
      "  time_serie['Change'] = time_serie['Change'].astype('Int64')\n",
      "C:\\Users\\Miguel Mendes\\AppData\\Local\\Temp\\ipykernel_8516\\2327759639.py:20: SettingWithCopyWarning: \n",
      "A value is trying to be set on a copy of a slice from a DataFrame\n",
      "\n",
      "See the caveats in the documentation: https://pandas.pydata.org/pandas-docs/stable/user_guide/indexing.html#returning-a-view-versus-a-copy\n",
      "  time_serie.drop(columns=['Seller ID', 'Day of Week', 'Last Week', 'Last Month'], inplace=True)\n",
      "C:\\Users\\Miguel Mendes\\AppData\\Local\\Temp\\ipykernel_8516\\2327759639.py:21: SettingWithCopyWarning: \n",
      "A value is trying to be set on a copy of a slice from a DataFrame.\n",
      "Try using .loc[row_indexer,col_indexer] = value instead\n",
      "\n",
      "See the caveats in the documentation: https://pandas.pydata.org/pandas-docs/stable/user_guide/indexing.html#returning-a-view-versus-a-copy\n",
      "  time_serie['Change'] = time_serie['Change'].astype('Int64')\n"
     ]
    },
    {
     "name": "stdout",
     "output_type": "stream",
     "text": [
      "Erro Médio Absoluto (MAE) para Seller ID 100001822: 0.022434065118432045\n",
      "Processando Seller ID: 100000136\n",
      "Erro Médio Absoluto (MAE) para Seller ID 100000136: 0.17258980870246887\n",
      "Processando Seller ID: 100001102\n"
     ]
    },
    {
     "name": "stderr",
     "output_type": "stream",
     "text": [
      "C:\\Users\\Miguel Mendes\\AppData\\Local\\Temp\\ipykernel_8516\\2327759639.py:20: SettingWithCopyWarning: \n",
      "A value is trying to be set on a copy of a slice from a DataFrame\n",
      "\n",
      "See the caveats in the documentation: https://pandas.pydata.org/pandas-docs/stable/user_guide/indexing.html#returning-a-view-versus-a-copy\n",
      "  time_serie.drop(columns=['Seller ID', 'Day of Week', 'Last Week', 'Last Month'], inplace=True)\n",
      "C:\\Users\\Miguel Mendes\\AppData\\Local\\Temp\\ipykernel_8516\\2327759639.py:21: SettingWithCopyWarning: \n",
      "A value is trying to be set on a copy of a slice from a DataFrame.\n",
      "Try using .loc[row_indexer,col_indexer] = value instead\n",
      "\n",
      "See the caveats in the documentation: https://pandas.pydata.org/pandas-docs/stable/user_guide/indexing.html#returning-a-view-versus-a-copy\n",
      "  time_serie['Change'] = time_serie['Change'].astype('Int64')\n",
      "C:\\Users\\Miguel Mendes\\AppData\\Local\\Temp\\ipykernel_8516\\2327759639.py:20: SettingWithCopyWarning: \n",
      "A value is trying to be set on a copy of a slice from a DataFrame\n",
      "\n",
      "See the caveats in the documentation: https://pandas.pydata.org/pandas-docs/stable/user_guide/indexing.html#returning-a-view-versus-a-copy\n",
      "  time_serie.drop(columns=['Seller ID', 'Day of Week', 'Last Week', 'Last Month'], inplace=True)\n",
      "C:\\Users\\Miguel Mendes\\AppData\\Local\\Temp\\ipykernel_8516\\2327759639.py:21: SettingWithCopyWarning: \n",
      "A value is trying to be set on a copy of a slice from a DataFrame.\n",
      "Try using .loc[row_indexer,col_indexer] = value instead\n",
      "\n",
      "See the caveats in the documentation: https://pandas.pydata.org/pandas-docs/stable/user_guide/indexing.html#returning-a-view-versus-a-copy\n",
      "  time_serie['Change'] = time_serie['Change'].astype('Int64')\n"
     ]
    },
    {
     "name": "stdout",
     "output_type": "stream",
     "text": [
      "Erro Médio Absoluto (MAE) para Seller ID 100001102: 0.47959595918655396\n",
      "Processando Seller ID: 100000209\n",
      "Erro Médio Absoluto (MAE) para Seller ID 100000209: 0.0019218095112591982\n",
      "Processando Seller ID: 100000685\n"
     ]
    },
    {
     "name": "stderr",
     "output_type": "stream",
     "text": [
      "C:\\Users\\Miguel Mendes\\AppData\\Local\\Temp\\ipykernel_8516\\2327759639.py:20: SettingWithCopyWarning: \n",
      "A value is trying to be set on a copy of a slice from a DataFrame\n",
      "\n",
      "See the caveats in the documentation: https://pandas.pydata.org/pandas-docs/stable/user_guide/indexing.html#returning-a-view-versus-a-copy\n",
      "  time_serie.drop(columns=['Seller ID', 'Day of Week', 'Last Week', 'Last Month'], inplace=True)\n",
      "C:\\Users\\Miguel Mendes\\AppData\\Local\\Temp\\ipykernel_8516\\2327759639.py:21: SettingWithCopyWarning: \n",
      "A value is trying to be set on a copy of a slice from a DataFrame.\n",
      "Try using .loc[row_indexer,col_indexer] = value instead\n",
      "\n",
      "See the caveats in the documentation: https://pandas.pydata.org/pandas-docs/stable/user_guide/indexing.html#returning-a-view-versus-a-copy\n",
      "  time_serie['Change'] = time_serie['Change'].astype('Int64')\n",
      "C:\\Users\\Miguel Mendes\\AppData\\Local\\Temp\\ipykernel_8516\\2327759639.py:20: SettingWithCopyWarning: \n",
      "A value is trying to be set on a copy of a slice from a DataFrame\n",
      "\n",
      "See the caveats in the documentation: https://pandas.pydata.org/pandas-docs/stable/user_guide/indexing.html#returning-a-view-versus-a-copy\n",
      "  time_serie.drop(columns=['Seller ID', 'Day of Week', 'Last Week', 'Last Month'], inplace=True)\n",
      "C:\\Users\\Miguel Mendes\\AppData\\Local\\Temp\\ipykernel_8516\\2327759639.py:21: SettingWithCopyWarning: \n",
      "A value is trying to be set on a copy of a slice from a DataFrame.\n",
      "Try using .loc[row_indexer,col_indexer] = value instead\n",
      "\n",
      "See the caveats in the documentation: https://pandas.pydata.org/pandas-docs/stable/user_guide/indexing.html#returning-a-view-versus-a-copy\n",
      "  time_serie['Change'] = time_serie['Change'].astype('Int64')\n"
     ]
    },
    {
     "name": "stdout",
     "output_type": "stream",
     "text": [
      "Erro Médio Absoluto (MAE) para Seller ID 100000685: 0.08280912786722183\n",
      "Processando Seller ID: 100000122\n",
      "Erro Médio Absoluto (MAE) para Seller ID 100000122: 0.041392020881175995\n",
      "Processando Seller ID: 100000042\n"
     ]
    },
    {
     "name": "stderr",
     "output_type": "stream",
     "text": [
      "C:\\Users\\Miguel Mendes\\AppData\\Local\\Temp\\ipykernel_8516\\2327759639.py:20: SettingWithCopyWarning: \n",
      "A value is trying to be set on a copy of a slice from a DataFrame\n",
      "\n",
      "See the caveats in the documentation: https://pandas.pydata.org/pandas-docs/stable/user_guide/indexing.html#returning-a-view-versus-a-copy\n",
      "  time_serie.drop(columns=['Seller ID', 'Day of Week', 'Last Week', 'Last Month'], inplace=True)\n",
      "C:\\Users\\Miguel Mendes\\AppData\\Local\\Temp\\ipykernel_8516\\2327759639.py:21: SettingWithCopyWarning: \n",
      "A value is trying to be set on a copy of a slice from a DataFrame.\n",
      "Try using .loc[row_indexer,col_indexer] = value instead\n",
      "\n",
      "See the caveats in the documentation: https://pandas.pydata.org/pandas-docs/stable/user_guide/indexing.html#returning-a-view-versus-a-copy\n",
      "  time_serie['Change'] = time_serie['Change'].astype('Int64')\n",
      "C:\\Users\\Miguel Mendes\\AppData\\Local\\Temp\\ipykernel_8516\\2327759639.py:20: SettingWithCopyWarning: \n",
      "A value is trying to be set on a copy of a slice from a DataFrame\n",
      "\n",
      "See the caveats in the documentation: https://pandas.pydata.org/pandas-docs/stable/user_guide/indexing.html#returning-a-view-versus-a-copy\n",
      "  time_serie.drop(columns=['Seller ID', 'Day of Week', 'Last Week', 'Last Month'], inplace=True)\n",
      "C:\\Users\\Miguel Mendes\\AppData\\Local\\Temp\\ipykernel_8516\\2327759639.py:21: SettingWithCopyWarning: \n",
      "A value is trying to be set on a copy of a slice from a DataFrame.\n",
      "Try using .loc[row_indexer,col_indexer] = value instead\n",
      "\n",
      "See the caveats in the documentation: https://pandas.pydata.org/pandas-docs/stable/user_guide/indexing.html#returning-a-view-versus-a-copy\n",
      "  time_serie['Change'] = time_serie['Change'].astype('Int64')\n"
     ]
    },
    {
     "name": "stdout",
     "output_type": "stream",
     "text": [
      "Erro Médio Absoluto (MAE) para Seller ID 100000042: 0.14626359939575195\n",
      "Processando Seller ID: 100001106\n",
      "Erro Médio Absoluto (MAE) para Seller ID 100001106: 0.0121634965762496\n",
      "Processando Seller ID: 100000926\n"
     ]
    },
    {
     "name": "stderr",
     "output_type": "stream",
     "text": [
      "C:\\Users\\Miguel Mendes\\AppData\\Local\\Temp\\ipykernel_8516\\2327759639.py:20: SettingWithCopyWarning: \n",
      "A value is trying to be set on a copy of a slice from a DataFrame\n",
      "\n",
      "See the caveats in the documentation: https://pandas.pydata.org/pandas-docs/stable/user_guide/indexing.html#returning-a-view-versus-a-copy\n",
      "  time_serie.drop(columns=['Seller ID', 'Day of Week', 'Last Week', 'Last Month'], inplace=True)\n",
      "C:\\Users\\Miguel Mendes\\AppData\\Local\\Temp\\ipykernel_8516\\2327759639.py:21: SettingWithCopyWarning: \n",
      "A value is trying to be set on a copy of a slice from a DataFrame.\n",
      "Try using .loc[row_indexer,col_indexer] = value instead\n",
      "\n",
      "See the caveats in the documentation: https://pandas.pydata.org/pandas-docs/stable/user_guide/indexing.html#returning-a-view-versus-a-copy\n",
      "  time_serie['Change'] = time_serie['Change'].astype('Int64')\n",
      "C:\\Users\\Miguel Mendes\\AppData\\Local\\Temp\\ipykernel_8516\\2327759639.py:20: SettingWithCopyWarning: \n",
      "A value is trying to be set on a copy of a slice from a DataFrame\n",
      "\n",
      "See the caveats in the documentation: https://pandas.pydata.org/pandas-docs/stable/user_guide/indexing.html#returning-a-view-versus-a-copy\n",
      "  time_serie.drop(columns=['Seller ID', 'Day of Week', 'Last Week', 'Last Month'], inplace=True)\n",
      "C:\\Users\\Miguel Mendes\\AppData\\Local\\Temp\\ipykernel_8516\\2327759639.py:21: SettingWithCopyWarning: \n",
      "A value is trying to be set on a copy of a slice from a DataFrame.\n",
      "Try using .loc[row_indexer,col_indexer] = value instead\n",
      "\n",
      "See the caveats in the documentation: https://pandas.pydata.org/pandas-docs/stable/user_guide/indexing.html#returning-a-view-versus-a-copy\n",
      "  time_serie['Change'] = time_serie['Change'].astype('Int64')\n"
     ]
    },
    {
     "name": "stdout",
     "output_type": "stream",
     "text": [
      "Erro Médio Absoluto (MAE) para Seller ID 100000926: 0.0056676012463867664\n",
      "Processando Seller ID: 100000812\n",
      "Erro Médio Absoluto (MAE) para Seller ID 100000812: 0.07785094529390335\n",
      "Processando Seller ID: 100000261\n"
     ]
    },
    {
     "name": "stderr",
     "output_type": "stream",
     "text": [
      "C:\\Users\\Miguel Mendes\\AppData\\Local\\Temp\\ipykernel_8516\\2327759639.py:20: SettingWithCopyWarning: \n",
      "A value is trying to be set on a copy of a slice from a DataFrame\n",
      "\n",
      "See the caveats in the documentation: https://pandas.pydata.org/pandas-docs/stable/user_guide/indexing.html#returning-a-view-versus-a-copy\n",
      "  time_serie.drop(columns=['Seller ID', 'Day of Week', 'Last Week', 'Last Month'], inplace=True)\n",
      "C:\\Users\\Miguel Mendes\\AppData\\Local\\Temp\\ipykernel_8516\\2327759639.py:21: SettingWithCopyWarning: \n",
      "A value is trying to be set on a copy of a slice from a DataFrame.\n",
      "Try using .loc[row_indexer,col_indexer] = value instead\n",
      "\n",
      "See the caveats in the documentation: https://pandas.pydata.org/pandas-docs/stable/user_guide/indexing.html#returning-a-view-versus-a-copy\n",
      "  time_serie['Change'] = time_serie['Change'].astype('Int64')\n",
      "C:\\Users\\Miguel Mendes\\AppData\\Local\\Temp\\ipykernel_8516\\2327759639.py:20: SettingWithCopyWarning: \n",
      "A value is trying to be set on a copy of a slice from a DataFrame\n",
      "\n",
      "See the caveats in the documentation: https://pandas.pydata.org/pandas-docs/stable/user_guide/indexing.html#returning-a-view-versus-a-copy\n",
      "  time_serie.drop(columns=['Seller ID', 'Day of Week', 'Last Week', 'Last Month'], inplace=True)\n",
      "C:\\Users\\Miguel Mendes\\AppData\\Local\\Temp\\ipykernel_8516\\2327759639.py:21: SettingWithCopyWarning: \n",
      "A value is trying to be set on a copy of a slice from a DataFrame.\n",
      "Try using .loc[row_indexer,col_indexer] = value instead\n",
      "\n",
      "See the caveats in the documentation: https://pandas.pydata.org/pandas-docs/stable/user_guide/indexing.html#returning-a-view-versus-a-copy\n",
      "  time_serie['Change'] = time_serie['Change'].astype('Int64')\n"
     ]
    },
    {
     "name": "stdout",
     "output_type": "stream",
     "text": [
      "Erro Médio Absoluto (MAE) para Seller ID 100000261: 0.06290245801210403\n",
      "Processando Seller ID: 100000157\n",
      "Erro Médio Absoluto (MAE) para Seller ID 100000157: 0.1678314059972763\n",
      "Processando Seller ID: 100000891\n"
     ]
    },
    {
     "name": "stderr",
     "output_type": "stream",
     "text": [
      "C:\\Users\\Miguel Mendes\\AppData\\Local\\Temp\\ipykernel_8516\\2327759639.py:20: SettingWithCopyWarning: \n",
      "A value is trying to be set on a copy of a slice from a DataFrame\n",
      "\n",
      "See the caveats in the documentation: https://pandas.pydata.org/pandas-docs/stable/user_guide/indexing.html#returning-a-view-versus-a-copy\n",
      "  time_serie.drop(columns=['Seller ID', 'Day of Week', 'Last Week', 'Last Month'], inplace=True)\n",
      "C:\\Users\\Miguel Mendes\\AppData\\Local\\Temp\\ipykernel_8516\\2327759639.py:21: SettingWithCopyWarning: \n",
      "A value is trying to be set on a copy of a slice from a DataFrame.\n",
      "Try using .loc[row_indexer,col_indexer] = value instead\n",
      "\n",
      "See the caveats in the documentation: https://pandas.pydata.org/pandas-docs/stable/user_guide/indexing.html#returning-a-view-versus-a-copy\n",
      "  time_serie['Change'] = time_serie['Change'].astype('Int64')\n",
      "C:\\Users\\Miguel Mendes\\AppData\\Local\\Temp\\ipykernel_8516\\2327759639.py:20: SettingWithCopyWarning: \n",
      "A value is trying to be set on a copy of a slice from a DataFrame\n",
      "\n",
      "See the caveats in the documentation: https://pandas.pydata.org/pandas-docs/stable/user_guide/indexing.html#returning-a-view-versus-a-copy\n",
      "  time_serie.drop(columns=['Seller ID', 'Day of Week', 'Last Week', 'Last Month'], inplace=True)\n",
      "C:\\Users\\Miguel Mendes\\AppData\\Local\\Temp\\ipykernel_8516\\2327759639.py:21: SettingWithCopyWarning: \n",
      "A value is trying to be set on a copy of a slice from a DataFrame.\n",
      "Try using .loc[row_indexer,col_indexer] = value instead\n",
      "\n",
      "See the caveats in the documentation: https://pandas.pydata.org/pandas-docs/stable/user_guide/indexing.html#returning-a-view-versus-a-copy\n",
      "  time_serie['Change'] = time_serie['Change'].astype('Int64')\n"
     ]
    },
    {
     "name": "stdout",
     "output_type": "stream",
     "text": [
      "Erro Médio Absoluto (MAE) para Seller ID 100000891: 0.0016861043404787779\n",
      "Processando Seller ID: 100000398\n",
      "Erro Médio Absoluto (MAE) para Seller ID 100000398: 0.005289187654852867\n",
      "Processando Seller ID: 100000309\n"
     ]
    },
    {
     "name": "stderr",
     "output_type": "stream",
     "text": [
      "C:\\Users\\Miguel Mendes\\AppData\\Local\\Temp\\ipykernel_8516\\2327759639.py:20: SettingWithCopyWarning: \n",
      "A value is trying to be set on a copy of a slice from a DataFrame\n",
      "\n",
      "See the caveats in the documentation: https://pandas.pydata.org/pandas-docs/stable/user_guide/indexing.html#returning-a-view-versus-a-copy\n",
      "  time_serie.drop(columns=['Seller ID', 'Day of Week', 'Last Week', 'Last Month'], inplace=True)\n",
      "C:\\Users\\Miguel Mendes\\AppData\\Local\\Temp\\ipykernel_8516\\2327759639.py:21: SettingWithCopyWarning: \n",
      "A value is trying to be set on a copy of a slice from a DataFrame.\n",
      "Try using .loc[row_indexer,col_indexer] = value instead\n",
      "\n",
      "See the caveats in the documentation: https://pandas.pydata.org/pandas-docs/stable/user_guide/indexing.html#returning-a-view-versus-a-copy\n",
      "  time_serie['Change'] = time_serie['Change'].astype('Int64')\n",
      "C:\\Users\\Miguel Mendes\\AppData\\Local\\Temp\\ipykernel_8516\\2327759639.py:20: SettingWithCopyWarning: \n",
      "A value is trying to be set on a copy of a slice from a DataFrame\n",
      "\n",
      "See the caveats in the documentation: https://pandas.pydata.org/pandas-docs/stable/user_guide/indexing.html#returning-a-view-versus-a-copy\n",
      "  time_serie.drop(columns=['Seller ID', 'Day of Week', 'Last Week', 'Last Month'], inplace=True)\n",
      "C:\\Users\\Miguel Mendes\\AppData\\Local\\Temp\\ipykernel_8516\\2327759639.py:21: SettingWithCopyWarning: \n",
      "A value is trying to be set on a copy of a slice from a DataFrame.\n",
      "Try using .loc[row_indexer,col_indexer] = value instead\n",
      "\n",
      "See the caveats in the documentation: https://pandas.pydata.org/pandas-docs/stable/user_guide/indexing.html#returning-a-view-versus-a-copy\n",
      "  time_serie['Change'] = time_serie['Change'].astype('Int64')\n"
     ]
    },
    {
     "name": "stdout",
     "output_type": "stream",
     "text": [
      "Erro Médio Absoluto (MAE) para Seller ID 100000309: 0.020310375839471817\n",
      "Processando Seller ID: 100001187\n",
      "Erro Médio Absoluto (MAE) para Seller ID 100001187: 0.001558630377985537\n",
      "Processando Seller ID: 100000673\n"
     ]
    },
    {
     "name": "stderr",
     "output_type": "stream",
     "text": [
      "C:\\Users\\Miguel Mendes\\AppData\\Local\\Temp\\ipykernel_8516\\2327759639.py:20: SettingWithCopyWarning: \n",
      "A value is trying to be set on a copy of a slice from a DataFrame\n",
      "\n",
      "See the caveats in the documentation: https://pandas.pydata.org/pandas-docs/stable/user_guide/indexing.html#returning-a-view-versus-a-copy\n",
      "  time_serie.drop(columns=['Seller ID', 'Day of Week', 'Last Week', 'Last Month'], inplace=True)\n",
      "C:\\Users\\Miguel Mendes\\AppData\\Local\\Temp\\ipykernel_8516\\2327759639.py:21: SettingWithCopyWarning: \n",
      "A value is trying to be set on a copy of a slice from a DataFrame.\n",
      "Try using .loc[row_indexer,col_indexer] = value instead\n",
      "\n",
      "See the caveats in the documentation: https://pandas.pydata.org/pandas-docs/stable/user_guide/indexing.html#returning-a-view-versus-a-copy\n",
      "  time_serie['Change'] = time_serie['Change'].astype('Int64')\n",
      "C:\\Users\\Miguel Mendes\\AppData\\Local\\Temp\\ipykernel_8516\\2327759639.py:20: SettingWithCopyWarning: \n",
      "A value is trying to be set on a copy of a slice from a DataFrame\n",
      "\n",
      "See the caveats in the documentation: https://pandas.pydata.org/pandas-docs/stable/user_guide/indexing.html#returning-a-view-versus-a-copy\n",
      "  time_serie.drop(columns=['Seller ID', 'Day of Week', 'Last Week', 'Last Month'], inplace=True)\n",
      "C:\\Users\\Miguel Mendes\\AppData\\Local\\Temp\\ipykernel_8516\\2327759639.py:21: SettingWithCopyWarning: \n",
      "A value is trying to be set on a copy of a slice from a DataFrame.\n",
      "Try using .loc[row_indexer,col_indexer] = value instead\n",
      "\n",
      "See the caveats in the documentation: https://pandas.pydata.org/pandas-docs/stable/user_guide/indexing.html#returning-a-view-versus-a-copy\n",
      "  time_serie['Change'] = time_serie['Change'].astype('Int64')\n"
     ]
    },
    {
     "name": "stdout",
     "output_type": "stream",
     "text": [
      "Erro Médio Absoluto (MAE) para Seller ID 100000673: 0.0010408072266727686\n",
      "Processando Seller ID: 100001786\n",
      "Erro Médio Absoluto (MAE) para Seller ID 100001786: 0.003607282182201743\n",
      "Processando Seller ID: 100000766\n"
     ]
    },
    {
     "name": "stderr",
     "output_type": "stream",
     "text": [
      "C:\\Users\\Miguel Mendes\\AppData\\Local\\Temp\\ipykernel_8516\\2327759639.py:20: SettingWithCopyWarning: \n",
      "A value is trying to be set on a copy of a slice from a DataFrame\n",
      "\n",
      "See the caveats in the documentation: https://pandas.pydata.org/pandas-docs/stable/user_guide/indexing.html#returning-a-view-versus-a-copy\n",
      "  time_serie.drop(columns=['Seller ID', 'Day of Week', 'Last Week', 'Last Month'], inplace=True)\n",
      "C:\\Users\\Miguel Mendes\\AppData\\Local\\Temp\\ipykernel_8516\\2327759639.py:21: SettingWithCopyWarning: \n",
      "A value is trying to be set on a copy of a slice from a DataFrame.\n",
      "Try using .loc[row_indexer,col_indexer] = value instead\n",
      "\n",
      "See the caveats in the documentation: https://pandas.pydata.org/pandas-docs/stable/user_guide/indexing.html#returning-a-view-versus-a-copy\n",
      "  time_serie['Change'] = time_serie['Change'].astype('Int64')\n",
      "C:\\Users\\Miguel Mendes\\AppData\\Local\\Temp\\ipykernel_8516\\2327759639.py:20: SettingWithCopyWarning: \n",
      "A value is trying to be set on a copy of a slice from a DataFrame\n",
      "\n",
      "See the caveats in the documentation: https://pandas.pydata.org/pandas-docs/stable/user_guide/indexing.html#returning-a-view-versus-a-copy\n",
      "  time_serie.drop(columns=['Seller ID', 'Day of Week', 'Last Week', 'Last Month'], inplace=True)\n",
      "C:\\Users\\Miguel Mendes\\AppData\\Local\\Temp\\ipykernel_8516\\2327759639.py:21: SettingWithCopyWarning: \n",
      "A value is trying to be set on a copy of a slice from a DataFrame.\n",
      "Try using .loc[row_indexer,col_indexer] = value instead\n",
      "\n",
      "See the caveats in the documentation: https://pandas.pydata.org/pandas-docs/stable/user_guide/indexing.html#returning-a-view-versus-a-copy\n",
      "  time_serie['Change'] = time_serie['Change'].astype('Int64')\n"
     ]
    },
    {
     "name": "stdout",
     "output_type": "stream",
     "text": [
      "Erro Médio Absoluto (MAE) para Seller ID 100000766: 0.041303202509880066\n",
      "Processando Seller ID: 100000131\n",
      "Erro Médio Absoluto (MAE) para Seller ID 100000131: 0.002648505847901106\n",
      "Processando Seller ID: 100001572\n"
     ]
    },
    {
     "name": "stderr",
     "output_type": "stream",
     "text": [
      "C:\\Users\\Miguel Mendes\\AppData\\Local\\Temp\\ipykernel_8516\\2327759639.py:20: SettingWithCopyWarning: \n",
      "A value is trying to be set on a copy of a slice from a DataFrame\n",
      "\n",
      "See the caveats in the documentation: https://pandas.pydata.org/pandas-docs/stable/user_guide/indexing.html#returning-a-view-versus-a-copy\n",
      "  time_serie.drop(columns=['Seller ID', 'Day of Week', 'Last Week', 'Last Month'], inplace=True)\n",
      "C:\\Users\\Miguel Mendes\\AppData\\Local\\Temp\\ipykernel_8516\\2327759639.py:21: SettingWithCopyWarning: \n",
      "A value is trying to be set on a copy of a slice from a DataFrame.\n",
      "Try using .loc[row_indexer,col_indexer] = value instead\n",
      "\n",
      "See the caveats in the documentation: https://pandas.pydata.org/pandas-docs/stable/user_guide/indexing.html#returning-a-view-versus-a-copy\n",
      "  time_serie['Change'] = time_serie['Change'].astype('Int64')\n",
      "C:\\Users\\Miguel Mendes\\AppData\\Local\\Temp\\ipykernel_8516\\2327759639.py:20: SettingWithCopyWarning: \n",
      "A value is trying to be set on a copy of a slice from a DataFrame\n",
      "\n",
      "See the caveats in the documentation: https://pandas.pydata.org/pandas-docs/stable/user_guide/indexing.html#returning-a-view-versus-a-copy\n",
      "  time_serie.drop(columns=['Seller ID', 'Day of Week', 'Last Week', 'Last Month'], inplace=True)\n",
      "C:\\Users\\Miguel Mendes\\AppData\\Local\\Temp\\ipykernel_8516\\2327759639.py:21: SettingWithCopyWarning: \n",
      "A value is trying to be set on a copy of a slice from a DataFrame.\n",
      "Try using .loc[row_indexer,col_indexer] = value instead\n",
      "\n",
      "See the caveats in the documentation: https://pandas.pydata.org/pandas-docs/stable/user_guide/indexing.html#returning-a-view-versus-a-copy\n",
      "  time_serie['Change'] = time_serie['Change'].astype('Int64')\n"
     ]
    },
    {
     "name": "stdout",
     "output_type": "stream",
     "text": [
      "Erro Médio Absoluto (MAE) para Seller ID 100001572: 0.0028765832539647818\n",
      "Processando Seller ID: 100000156\n",
      "Erro Médio Absoluto (MAE) para Seller ID 100000156: 0.0014564386801794171\n",
      "Processando Seller ID: 100001417\n"
     ]
    },
    {
     "name": "stderr",
     "output_type": "stream",
     "text": [
      "C:\\Users\\Miguel Mendes\\AppData\\Local\\Temp\\ipykernel_8516\\2327759639.py:20: SettingWithCopyWarning: \n",
      "A value is trying to be set on a copy of a slice from a DataFrame\n",
      "\n",
      "See the caveats in the documentation: https://pandas.pydata.org/pandas-docs/stable/user_guide/indexing.html#returning-a-view-versus-a-copy\n",
      "  time_serie.drop(columns=['Seller ID', 'Day of Week', 'Last Week', 'Last Month'], inplace=True)\n",
      "C:\\Users\\Miguel Mendes\\AppData\\Local\\Temp\\ipykernel_8516\\2327759639.py:21: SettingWithCopyWarning: \n",
      "A value is trying to be set on a copy of a slice from a DataFrame.\n",
      "Try using .loc[row_indexer,col_indexer] = value instead\n",
      "\n",
      "See the caveats in the documentation: https://pandas.pydata.org/pandas-docs/stable/user_guide/indexing.html#returning-a-view-versus-a-copy\n",
      "  time_serie['Change'] = time_serie['Change'].astype('Int64')\n",
      "C:\\Users\\Miguel Mendes\\AppData\\Local\\Temp\\ipykernel_8516\\2327759639.py:20: SettingWithCopyWarning: \n",
      "A value is trying to be set on a copy of a slice from a DataFrame\n",
      "\n",
      "See the caveats in the documentation: https://pandas.pydata.org/pandas-docs/stable/user_guide/indexing.html#returning-a-view-versus-a-copy\n",
      "  time_serie.drop(columns=['Seller ID', 'Day of Week', 'Last Week', 'Last Month'], inplace=True)\n",
      "C:\\Users\\Miguel Mendes\\AppData\\Local\\Temp\\ipykernel_8516\\2327759639.py:21: SettingWithCopyWarning: \n",
      "A value is trying to be set on a copy of a slice from a DataFrame.\n",
      "Try using .loc[row_indexer,col_indexer] = value instead\n",
      "\n",
      "See the caveats in the documentation: https://pandas.pydata.org/pandas-docs/stable/user_guide/indexing.html#returning-a-view-versus-a-copy\n",
      "  time_serie['Change'] = time_serie['Change'].astype('Int64')\n"
     ]
    },
    {
     "name": "stdout",
     "output_type": "stream",
     "text": [
      "Erro Médio Absoluto (MAE) para Seller ID 100001417: 0.000354763469658792\n",
      "Processando Seller ID: 100000558\n",
      "Erro Médio Absoluto (MAE) para Seller ID 100000558: 0.0015555061399936676\n",
      "Processando Seller ID: 100000119\n"
     ]
    },
    {
     "name": "stderr",
     "output_type": "stream",
     "text": [
      "C:\\Users\\Miguel Mendes\\AppData\\Local\\Temp\\ipykernel_8516\\2327759639.py:20: SettingWithCopyWarning: \n",
      "A value is trying to be set on a copy of a slice from a DataFrame\n",
      "\n",
      "See the caveats in the documentation: https://pandas.pydata.org/pandas-docs/stable/user_guide/indexing.html#returning-a-view-versus-a-copy\n",
      "  time_serie.drop(columns=['Seller ID', 'Day of Week', 'Last Week', 'Last Month'], inplace=True)\n",
      "C:\\Users\\Miguel Mendes\\AppData\\Local\\Temp\\ipykernel_8516\\2327759639.py:21: SettingWithCopyWarning: \n",
      "A value is trying to be set on a copy of a slice from a DataFrame.\n",
      "Try using .loc[row_indexer,col_indexer] = value instead\n",
      "\n",
      "See the caveats in the documentation: https://pandas.pydata.org/pandas-docs/stable/user_guide/indexing.html#returning-a-view-versus-a-copy\n",
      "  time_serie['Change'] = time_serie['Change'].astype('Int64')\n",
      "C:\\Users\\Miguel Mendes\\AppData\\Local\\Temp\\ipykernel_8516\\2327759639.py:20: SettingWithCopyWarning: \n",
      "A value is trying to be set on a copy of a slice from a DataFrame\n",
      "\n",
      "See the caveats in the documentation: https://pandas.pydata.org/pandas-docs/stable/user_guide/indexing.html#returning-a-view-versus-a-copy\n",
      "  time_serie.drop(columns=['Seller ID', 'Day of Week', 'Last Week', 'Last Month'], inplace=True)\n",
      "C:\\Users\\Miguel Mendes\\AppData\\Local\\Temp\\ipykernel_8516\\2327759639.py:21: SettingWithCopyWarning: \n",
      "A value is trying to be set on a copy of a slice from a DataFrame.\n",
      "Try using .loc[row_indexer,col_indexer] = value instead\n",
      "\n",
      "See the caveats in the documentation: https://pandas.pydata.org/pandas-docs/stable/user_guide/indexing.html#returning-a-view-versus-a-copy\n",
      "  time_serie['Change'] = time_serie['Change'].astype('Int64')\n"
     ]
    },
    {
     "name": "stdout",
     "output_type": "stream",
     "text": [
      "Erro Médio Absoluto (MAE) para Seller ID 100000119: 0.0020481396932154894\n",
      "Processando Seller ID: 100000397\n"
     ]
    },
    {
     "name": "stderr",
     "output_type": "stream",
     "text": [
      "C:\\Users\\Miguel Mendes\\AppData\\Local\\Temp\\ipykernel_8516\\2327759639.py:20: SettingWithCopyWarning: \n",
      "A value is trying to be set on a copy of a slice from a DataFrame\n",
      "\n",
      "See the caveats in the documentation: https://pandas.pydata.org/pandas-docs/stable/user_guide/indexing.html#returning-a-view-versus-a-copy\n",
      "  time_serie.drop(columns=['Seller ID', 'Day of Week', 'Last Week', 'Last Month'], inplace=True)\n",
      "C:\\Users\\Miguel Mendes\\AppData\\Local\\Temp\\ipykernel_8516\\2327759639.py:21: SettingWithCopyWarning: \n",
      "A value is trying to be set on a copy of a slice from a DataFrame.\n",
      "Try using .loc[row_indexer,col_indexer] = value instead\n",
      "\n",
      "See the caveats in the documentation: https://pandas.pydata.org/pandas-docs/stable/user_guide/indexing.html#returning-a-view-versus-a-copy\n",
      "  time_serie['Change'] = time_serie['Change'].astype('Int64')\n"
     ]
    },
    {
     "name": "stdout",
     "output_type": "stream",
     "text": [
      "Erro Médio Absoluto (MAE) para Seller ID 100000397: 0.0035238792188465595\n",
      "Processando Seller ID: 100000258\n",
      "Erro Médio Absoluto (MAE) para Seller ID 100000258: 0.002096701180562377\n",
      "Processando Seller ID: 100000369\n"
     ]
    },
    {
     "name": "stderr",
     "output_type": "stream",
     "text": [
      "C:\\Users\\Miguel Mendes\\AppData\\Local\\Temp\\ipykernel_8516\\2327759639.py:20: SettingWithCopyWarning: \n",
      "A value is trying to be set on a copy of a slice from a DataFrame\n",
      "\n",
      "See the caveats in the documentation: https://pandas.pydata.org/pandas-docs/stable/user_guide/indexing.html#returning-a-view-versus-a-copy\n",
      "  time_serie.drop(columns=['Seller ID', 'Day of Week', 'Last Week', 'Last Month'], inplace=True)\n",
      "C:\\Users\\Miguel Mendes\\AppData\\Local\\Temp\\ipykernel_8516\\2327759639.py:21: SettingWithCopyWarning: \n",
      "A value is trying to be set on a copy of a slice from a DataFrame.\n",
      "Try using .loc[row_indexer,col_indexer] = value instead\n",
      "\n",
      "See the caveats in the documentation: https://pandas.pydata.org/pandas-docs/stable/user_guide/indexing.html#returning-a-view-versus-a-copy\n",
      "  time_serie['Change'] = time_serie['Change'].astype('Int64')\n",
      "C:\\Users\\Miguel Mendes\\AppData\\Local\\Temp\\ipykernel_8516\\2327759639.py:20: SettingWithCopyWarning: \n",
      "A value is trying to be set on a copy of a slice from a DataFrame\n",
      "\n",
      "See the caveats in the documentation: https://pandas.pydata.org/pandas-docs/stable/user_guide/indexing.html#returning-a-view-versus-a-copy\n",
      "  time_serie.drop(columns=['Seller ID', 'Day of Week', 'Last Week', 'Last Month'], inplace=True)\n",
      "C:\\Users\\Miguel Mendes\\AppData\\Local\\Temp\\ipykernel_8516\\2327759639.py:21: SettingWithCopyWarning: \n",
      "A value is trying to be set on a copy of a slice from a DataFrame.\n",
      "Try using .loc[row_indexer,col_indexer] = value instead\n",
      "\n",
      "See the caveats in the documentation: https://pandas.pydata.org/pandas-docs/stable/user_guide/indexing.html#returning-a-view-versus-a-copy\n",
      "  time_serie['Change'] = time_serie['Change'].astype('Int64')\n"
     ]
    },
    {
     "name": "stdout",
     "output_type": "stream",
     "text": [
      "Erro Médio Absoluto (MAE) para Seller ID 100000369: 0.4018602967262268\n",
      "Processando Seller ID: 100000456\n",
      "Erro Médio Absoluto (MAE) para Seller ID 100000456: 0.10400433838367462\n",
      "Processando Seller ID: 100000980\n"
     ]
    },
    {
     "name": "stderr",
     "output_type": "stream",
     "text": [
      "C:\\Users\\Miguel Mendes\\AppData\\Local\\Temp\\ipykernel_8516\\2327759639.py:20: SettingWithCopyWarning: \n",
      "A value is trying to be set on a copy of a slice from a DataFrame\n",
      "\n",
      "See the caveats in the documentation: https://pandas.pydata.org/pandas-docs/stable/user_guide/indexing.html#returning-a-view-versus-a-copy\n",
      "  time_serie.drop(columns=['Seller ID', 'Day of Week', 'Last Week', 'Last Month'], inplace=True)\n",
      "C:\\Users\\Miguel Mendes\\AppData\\Local\\Temp\\ipykernel_8516\\2327759639.py:21: SettingWithCopyWarning: \n",
      "A value is trying to be set on a copy of a slice from a DataFrame.\n",
      "Try using .loc[row_indexer,col_indexer] = value instead\n",
      "\n",
      "See the caveats in the documentation: https://pandas.pydata.org/pandas-docs/stable/user_guide/indexing.html#returning-a-view-versus-a-copy\n",
      "  time_serie['Change'] = time_serie['Change'].astype('Int64')\n",
      "C:\\Users\\Miguel Mendes\\AppData\\Local\\Temp\\ipykernel_8516\\2327759639.py:20: SettingWithCopyWarning: \n",
      "A value is trying to be set on a copy of a slice from a DataFrame\n",
      "\n",
      "See the caveats in the documentation: https://pandas.pydata.org/pandas-docs/stable/user_guide/indexing.html#returning-a-view-versus-a-copy\n",
      "  time_serie.drop(columns=['Seller ID', 'Day of Week', 'Last Week', 'Last Month'], inplace=True)\n",
      "C:\\Users\\Miguel Mendes\\AppData\\Local\\Temp\\ipykernel_8516\\2327759639.py:21: SettingWithCopyWarning: \n",
      "A value is trying to be set on a copy of a slice from a DataFrame.\n",
      "Try using .loc[row_indexer,col_indexer] = value instead\n",
      "\n",
      "See the caveats in the documentation: https://pandas.pydata.org/pandas-docs/stable/user_guide/indexing.html#returning-a-view-versus-a-copy\n",
      "  time_serie['Change'] = time_serie['Change'].astype('Int64')\n"
     ]
    },
    {
     "name": "stdout",
     "output_type": "stream",
     "text": [
      "Erro Médio Absoluto (MAE) para Seller ID 100000980: 0.03629070520401001\n",
      "Processando Seller ID: 100001258\n",
      "Erro Médio Absoluto (MAE) para Seller ID 100001258: 0.0014093416975811124\n",
      "Processando Seller ID: 100001753\n"
     ]
    },
    {
     "name": "stderr",
     "output_type": "stream",
     "text": [
      "C:\\Users\\Miguel Mendes\\AppData\\Local\\Temp\\ipykernel_8516\\2327759639.py:20: SettingWithCopyWarning: \n",
      "A value is trying to be set on a copy of a slice from a DataFrame\n",
      "\n",
      "See the caveats in the documentation: https://pandas.pydata.org/pandas-docs/stable/user_guide/indexing.html#returning-a-view-versus-a-copy\n",
      "  time_serie.drop(columns=['Seller ID', 'Day of Week', 'Last Week', 'Last Month'], inplace=True)\n",
      "C:\\Users\\Miguel Mendes\\AppData\\Local\\Temp\\ipykernel_8516\\2327759639.py:21: SettingWithCopyWarning: \n",
      "A value is trying to be set on a copy of a slice from a DataFrame.\n",
      "Try using .loc[row_indexer,col_indexer] = value instead\n",
      "\n",
      "See the caveats in the documentation: https://pandas.pydata.org/pandas-docs/stable/user_guide/indexing.html#returning-a-view-versus-a-copy\n",
      "  time_serie['Change'] = time_serie['Change'].astype('Int64')\n",
      "C:\\Users\\Miguel Mendes\\AppData\\Local\\Temp\\ipykernel_8516\\2327759639.py:20: SettingWithCopyWarning: \n",
      "A value is trying to be set on a copy of a slice from a DataFrame\n",
      "\n",
      "See the caveats in the documentation: https://pandas.pydata.org/pandas-docs/stable/user_guide/indexing.html#returning-a-view-versus-a-copy\n",
      "  time_serie.drop(columns=['Seller ID', 'Day of Week', 'Last Week', 'Last Month'], inplace=True)\n",
      "C:\\Users\\Miguel Mendes\\AppData\\Local\\Temp\\ipykernel_8516\\2327759639.py:21: SettingWithCopyWarning: \n",
      "A value is trying to be set on a copy of a slice from a DataFrame.\n",
      "Try using .loc[row_indexer,col_indexer] = value instead\n",
      "\n",
      "See the caveats in the documentation: https://pandas.pydata.org/pandas-docs/stable/user_guide/indexing.html#returning-a-view-versus-a-copy\n",
      "  time_serie['Change'] = time_serie['Change'].astype('Int64')\n"
     ]
    },
    {
     "name": "stdout",
     "output_type": "stream",
     "text": [
      "Erro Médio Absoluto (MAE) para Seller ID 100001753: 0.18592163920402527\n",
      "Processando Seller ID: 100000244\n",
      "Erro Médio Absoluto (MAE) para Seller ID 100000244: 0.048084113746881485\n",
      "Processando Seller ID: 100000292\n"
     ]
    },
    {
     "name": "stderr",
     "output_type": "stream",
     "text": [
      "C:\\Users\\Miguel Mendes\\AppData\\Local\\Temp\\ipykernel_8516\\2327759639.py:20: SettingWithCopyWarning: \n",
      "A value is trying to be set on a copy of a slice from a DataFrame\n",
      "\n",
      "See the caveats in the documentation: https://pandas.pydata.org/pandas-docs/stable/user_guide/indexing.html#returning-a-view-versus-a-copy\n",
      "  time_serie.drop(columns=['Seller ID', 'Day of Week', 'Last Week', 'Last Month'], inplace=True)\n",
      "C:\\Users\\Miguel Mendes\\AppData\\Local\\Temp\\ipykernel_8516\\2327759639.py:21: SettingWithCopyWarning: \n",
      "A value is trying to be set on a copy of a slice from a DataFrame.\n",
      "Try using .loc[row_indexer,col_indexer] = value instead\n",
      "\n",
      "See the caveats in the documentation: https://pandas.pydata.org/pandas-docs/stable/user_guide/indexing.html#returning-a-view-versus-a-copy\n",
      "  time_serie['Change'] = time_serie['Change'].astype('Int64')\n",
      "C:\\Users\\Miguel Mendes\\AppData\\Local\\Temp\\ipykernel_8516\\2327759639.py:20: SettingWithCopyWarning: \n",
      "A value is trying to be set on a copy of a slice from a DataFrame\n",
      "\n",
      "See the caveats in the documentation: https://pandas.pydata.org/pandas-docs/stable/user_guide/indexing.html#returning-a-view-versus-a-copy\n",
      "  time_serie.drop(columns=['Seller ID', 'Day of Week', 'Last Week', 'Last Month'], inplace=True)\n",
      "C:\\Users\\Miguel Mendes\\AppData\\Local\\Temp\\ipykernel_8516\\2327759639.py:21: SettingWithCopyWarning: \n",
      "A value is trying to be set on a copy of a slice from a DataFrame.\n",
      "Try using .loc[row_indexer,col_indexer] = value instead\n",
      "\n",
      "See the caveats in the documentation: https://pandas.pydata.org/pandas-docs/stable/user_guide/indexing.html#returning-a-view-versus-a-copy\n",
      "  time_serie['Change'] = time_serie['Change'].astype('Int64')\n"
     ]
    },
    {
     "name": "stdout",
     "output_type": "stream",
     "text": [
      "Erro Médio Absoluto (MAE) para Seller ID 100000292: 0.012518747709691525\n",
      "Processando Seller ID: 100000896\n",
      "Erro Médio Absoluto (MAE) para Seller ID 100000896: 0.02748146280646324\n",
      "Processando Seller ID: 100000394\n"
     ]
    },
    {
     "name": "stderr",
     "output_type": "stream",
     "text": [
      "C:\\Users\\Miguel Mendes\\AppData\\Local\\Temp\\ipykernel_8516\\2327759639.py:20: SettingWithCopyWarning: \n",
      "A value is trying to be set on a copy of a slice from a DataFrame\n",
      "\n",
      "See the caveats in the documentation: https://pandas.pydata.org/pandas-docs/stable/user_guide/indexing.html#returning-a-view-versus-a-copy\n",
      "  time_serie.drop(columns=['Seller ID', 'Day of Week', 'Last Week', 'Last Month'], inplace=True)\n",
      "C:\\Users\\Miguel Mendes\\AppData\\Local\\Temp\\ipykernel_8516\\2327759639.py:21: SettingWithCopyWarning: \n",
      "A value is trying to be set on a copy of a slice from a DataFrame.\n",
      "Try using .loc[row_indexer,col_indexer] = value instead\n",
      "\n",
      "See the caveats in the documentation: https://pandas.pydata.org/pandas-docs/stable/user_guide/indexing.html#returning-a-view-versus-a-copy\n",
      "  time_serie['Change'] = time_serie['Change'].astype('Int64')\n",
      "C:\\Users\\Miguel Mendes\\AppData\\Local\\Temp\\ipykernel_8516\\2327759639.py:20: SettingWithCopyWarning: \n",
      "A value is trying to be set on a copy of a slice from a DataFrame\n",
      "\n",
      "See the caveats in the documentation: https://pandas.pydata.org/pandas-docs/stable/user_guide/indexing.html#returning-a-view-versus-a-copy\n",
      "  time_serie.drop(columns=['Seller ID', 'Day of Week', 'Last Week', 'Last Month'], inplace=True)\n",
      "C:\\Users\\Miguel Mendes\\AppData\\Local\\Temp\\ipykernel_8516\\2327759639.py:21: SettingWithCopyWarning: \n",
      "A value is trying to be set on a copy of a slice from a DataFrame.\n",
      "Try using .loc[row_indexer,col_indexer] = value instead\n",
      "\n",
      "See the caveats in the documentation: https://pandas.pydata.org/pandas-docs/stable/user_guide/indexing.html#returning-a-view-versus-a-copy\n",
      "  time_serie['Change'] = time_serie['Change'].astype('Int64')\n"
     ]
    },
    {
     "name": "stdout",
     "output_type": "stream",
     "text": [
      "Erro Médio Absoluto (MAE) para Seller ID 100000394: 0.0035127040464431047\n",
      "Processando Seller ID: 100000220\n",
      "Erro Médio Absoluto (MAE) para Seller ID 100000220: 0.0006744879647158086\n",
      "Processando Seller ID: 100001626\n"
     ]
    },
    {
     "name": "stderr",
     "output_type": "stream",
     "text": [
      "C:\\Users\\Miguel Mendes\\AppData\\Local\\Temp\\ipykernel_8516\\2327759639.py:20: SettingWithCopyWarning: \n",
      "A value is trying to be set on a copy of a slice from a DataFrame\n",
      "\n",
      "See the caveats in the documentation: https://pandas.pydata.org/pandas-docs/stable/user_guide/indexing.html#returning-a-view-versus-a-copy\n",
      "  time_serie.drop(columns=['Seller ID', 'Day of Week', 'Last Week', 'Last Month'], inplace=True)\n",
      "C:\\Users\\Miguel Mendes\\AppData\\Local\\Temp\\ipykernel_8516\\2327759639.py:21: SettingWithCopyWarning: \n",
      "A value is trying to be set on a copy of a slice from a DataFrame.\n",
      "Try using .loc[row_indexer,col_indexer] = value instead\n",
      "\n",
      "See the caveats in the documentation: https://pandas.pydata.org/pandas-docs/stable/user_guide/indexing.html#returning-a-view-versus-a-copy\n",
      "  time_serie['Change'] = time_serie['Change'].astype('Int64')\n",
      "C:\\Users\\Miguel Mendes\\AppData\\Local\\Temp\\ipykernel_8516\\2327759639.py:20: SettingWithCopyWarning: \n",
      "A value is trying to be set on a copy of a slice from a DataFrame\n",
      "\n",
      "See the caveats in the documentation: https://pandas.pydata.org/pandas-docs/stable/user_guide/indexing.html#returning-a-view-versus-a-copy\n",
      "  time_serie.drop(columns=['Seller ID', 'Day of Week', 'Last Week', 'Last Month'], inplace=True)\n",
      "C:\\Users\\Miguel Mendes\\AppData\\Local\\Temp\\ipykernel_8516\\2327759639.py:21: SettingWithCopyWarning: \n",
      "A value is trying to be set on a copy of a slice from a DataFrame.\n",
      "Try using .loc[row_indexer,col_indexer] = value instead\n",
      "\n",
      "See the caveats in the documentation: https://pandas.pydata.org/pandas-docs/stable/user_guide/indexing.html#returning-a-view-versus-a-copy\n",
      "  time_serie['Change'] = time_serie['Change'].astype('Int64')\n"
     ]
    },
    {
     "name": "stdout",
     "output_type": "stream",
     "text": [
      "Erro Médio Absoluto (MAE) para Seller ID 100001626: 0.01593240723013878\n",
      "Processando Seller ID: 100000116\n",
      "Erro Médio Absoluto (MAE) para Seller ID 100000116: 0.005847713444381952\n",
      "Processando Seller ID: 100001751\n"
     ]
    },
    {
     "name": "stderr",
     "output_type": "stream",
     "text": [
      "C:\\Users\\Miguel Mendes\\AppData\\Local\\Temp\\ipykernel_8516\\2327759639.py:20: SettingWithCopyWarning: \n",
      "A value is trying to be set on a copy of a slice from a DataFrame\n",
      "\n",
      "See the caveats in the documentation: https://pandas.pydata.org/pandas-docs/stable/user_guide/indexing.html#returning-a-view-versus-a-copy\n",
      "  time_serie.drop(columns=['Seller ID', 'Day of Week', 'Last Week', 'Last Month'], inplace=True)\n",
      "C:\\Users\\Miguel Mendes\\AppData\\Local\\Temp\\ipykernel_8516\\2327759639.py:21: SettingWithCopyWarning: \n",
      "A value is trying to be set on a copy of a slice from a DataFrame.\n",
      "Try using .loc[row_indexer,col_indexer] = value instead\n",
      "\n",
      "See the caveats in the documentation: https://pandas.pydata.org/pandas-docs/stable/user_guide/indexing.html#returning-a-view-versus-a-copy\n",
      "  time_serie['Change'] = time_serie['Change'].astype('Int64')\n",
      "C:\\Users\\Miguel Mendes\\AppData\\Local\\Temp\\ipykernel_8516\\2327759639.py:20: SettingWithCopyWarning: \n",
      "A value is trying to be set on a copy of a slice from a DataFrame\n",
      "\n",
      "See the caveats in the documentation: https://pandas.pydata.org/pandas-docs/stable/user_guide/indexing.html#returning-a-view-versus-a-copy\n",
      "  time_serie.drop(columns=['Seller ID', 'Day of Week', 'Last Week', 'Last Month'], inplace=True)\n",
      "C:\\Users\\Miguel Mendes\\AppData\\Local\\Temp\\ipykernel_8516\\2327759639.py:21: SettingWithCopyWarning: \n",
      "A value is trying to be set on a copy of a slice from a DataFrame.\n",
      "Try using .loc[row_indexer,col_indexer] = value instead\n",
      "\n",
      "See the caveats in the documentation: https://pandas.pydata.org/pandas-docs/stable/user_guide/indexing.html#returning-a-view-versus-a-copy\n",
      "  time_serie['Change'] = time_serie['Change'].astype('Int64')\n"
     ]
    },
    {
     "name": "stdout",
     "output_type": "stream",
     "text": [
      "Erro Médio Absoluto (MAE) para Seller ID 100001751: 0.029109308496117592\n",
      "Processando Seller ID: 100000912\n",
      "Erro Médio Absoluto (MAE) para Seller ID 100000912: 0.00012937285646330565\n",
      "Processando Seller ID: 100001668\n"
     ]
    },
    {
     "name": "stderr",
     "output_type": "stream",
     "text": [
      "C:\\Users\\Miguel Mendes\\AppData\\Local\\Temp\\ipykernel_8516\\2327759639.py:20: SettingWithCopyWarning: \n",
      "A value is trying to be set on a copy of a slice from a DataFrame\n",
      "\n",
      "See the caveats in the documentation: https://pandas.pydata.org/pandas-docs/stable/user_guide/indexing.html#returning-a-view-versus-a-copy\n",
      "  time_serie.drop(columns=['Seller ID', 'Day of Week', 'Last Week', 'Last Month'], inplace=True)\n",
      "C:\\Users\\Miguel Mendes\\AppData\\Local\\Temp\\ipykernel_8516\\2327759639.py:21: SettingWithCopyWarning: \n",
      "A value is trying to be set on a copy of a slice from a DataFrame.\n",
      "Try using .loc[row_indexer,col_indexer] = value instead\n",
      "\n",
      "See the caveats in the documentation: https://pandas.pydata.org/pandas-docs/stable/user_guide/indexing.html#returning-a-view-versus-a-copy\n",
      "  time_serie['Change'] = time_serie['Change'].astype('Int64')\n",
      "C:\\Users\\Miguel Mendes\\AppData\\Local\\Temp\\ipykernel_8516\\2327759639.py:20: SettingWithCopyWarning: \n",
      "A value is trying to be set on a copy of a slice from a DataFrame\n",
      "\n",
      "See the caveats in the documentation: https://pandas.pydata.org/pandas-docs/stable/user_guide/indexing.html#returning-a-view-versus-a-copy\n",
      "  time_serie.drop(columns=['Seller ID', 'Day of Week', 'Last Week', 'Last Month'], inplace=True)\n",
      "C:\\Users\\Miguel Mendes\\AppData\\Local\\Temp\\ipykernel_8516\\2327759639.py:21: SettingWithCopyWarning: \n",
      "A value is trying to be set on a copy of a slice from a DataFrame.\n",
      "Try using .loc[row_indexer,col_indexer] = value instead\n",
      "\n",
      "See the caveats in the documentation: https://pandas.pydata.org/pandas-docs/stable/user_guide/indexing.html#returning-a-view-versus-a-copy\n",
      "  time_serie['Change'] = time_serie['Change'].astype('Int64')\n"
     ]
    },
    {
     "name": "stdout",
     "output_type": "stream",
     "text": [
      "Erro Médio Absoluto (MAE) para Seller ID 100001668: 0.010970463976264\n",
      "Processando Seller ID: 100000454\n",
      "Erro Médio Absoluto (MAE) para Seller ID 100000454: 0.0032756763976067305\n",
      "Processando Seller ID: 100001040\n"
     ]
    },
    {
     "name": "stderr",
     "output_type": "stream",
     "text": [
      "C:\\Users\\Miguel Mendes\\AppData\\Local\\Temp\\ipykernel_8516\\2327759639.py:20: SettingWithCopyWarning: \n",
      "A value is trying to be set on a copy of a slice from a DataFrame\n",
      "\n",
      "See the caveats in the documentation: https://pandas.pydata.org/pandas-docs/stable/user_guide/indexing.html#returning-a-view-versus-a-copy\n",
      "  time_serie.drop(columns=['Seller ID', 'Day of Week', 'Last Week', 'Last Month'], inplace=True)\n",
      "C:\\Users\\Miguel Mendes\\AppData\\Local\\Temp\\ipykernel_8516\\2327759639.py:21: SettingWithCopyWarning: \n",
      "A value is trying to be set on a copy of a slice from a DataFrame.\n",
      "Try using .loc[row_indexer,col_indexer] = value instead\n",
      "\n",
      "See the caveats in the documentation: https://pandas.pydata.org/pandas-docs/stable/user_guide/indexing.html#returning-a-view-versus-a-copy\n",
      "  time_serie['Change'] = time_serie['Change'].astype('Int64')\n",
      "C:\\Users\\Miguel Mendes\\AppData\\Local\\Temp\\ipykernel_8516\\2327759639.py:20: SettingWithCopyWarning: \n",
      "A value is trying to be set on a copy of a slice from a DataFrame\n",
      "\n",
      "See the caveats in the documentation: https://pandas.pydata.org/pandas-docs/stable/user_guide/indexing.html#returning-a-view-versus-a-copy\n",
      "  time_serie.drop(columns=['Seller ID', 'Day of Week', 'Last Week', 'Last Month'], inplace=True)\n",
      "C:\\Users\\Miguel Mendes\\AppData\\Local\\Temp\\ipykernel_8516\\2327759639.py:21: SettingWithCopyWarning: \n",
      "A value is trying to be set on a copy of a slice from a DataFrame.\n",
      "Try using .loc[row_indexer,col_indexer] = value instead\n",
      "\n",
      "See the caveats in the documentation: https://pandas.pydata.org/pandas-docs/stable/user_guide/indexing.html#returning-a-view-versus-a-copy\n",
      "  time_serie['Change'] = time_serie['Change'].astype('Int64')\n"
     ]
    },
    {
     "name": "stdout",
     "output_type": "stream",
     "text": [
      "Erro Médio Absoluto (MAE) para Seller ID 100001040: 0.03250683844089508\n",
      "Processando Seller ID: 100000126\n",
      "Erro Médio Absoluto (MAE) para Seller ID 100000126: 0.010813578963279724\n",
      "Processando Seller ID: 100000127\n"
     ]
    },
    {
     "name": "stderr",
     "output_type": "stream",
     "text": [
      "C:\\Users\\Miguel Mendes\\AppData\\Local\\Temp\\ipykernel_8516\\2327759639.py:20: SettingWithCopyWarning: \n",
      "A value is trying to be set on a copy of a slice from a DataFrame\n",
      "\n",
      "See the caveats in the documentation: https://pandas.pydata.org/pandas-docs/stable/user_guide/indexing.html#returning-a-view-versus-a-copy\n",
      "  time_serie.drop(columns=['Seller ID', 'Day of Week', 'Last Week', 'Last Month'], inplace=True)\n",
      "C:\\Users\\Miguel Mendes\\AppData\\Local\\Temp\\ipykernel_8516\\2327759639.py:21: SettingWithCopyWarning: \n",
      "A value is trying to be set on a copy of a slice from a DataFrame.\n",
      "Try using .loc[row_indexer,col_indexer] = value instead\n",
      "\n",
      "See the caveats in the documentation: https://pandas.pydata.org/pandas-docs/stable/user_guide/indexing.html#returning-a-view-versus-a-copy\n",
      "  time_serie['Change'] = time_serie['Change'].astype('Int64')\n",
      "C:\\Users\\Miguel Mendes\\AppData\\Local\\Temp\\ipykernel_8516\\2327759639.py:20: SettingWithCopyWarning: \n",
      "A value is trying to be set on a copy of a slice from a DataFrame\n",
      "\n",
      "See the caveats in the documentation: https://pandas.pydata.org/pandas-docs/stable/user_guide/indexing.html#returning-a-view-versus-a-copy\n",
      "  time_serie.drop(columns=['Seller ID', 'Day of Week', 'Last Week', 'Last Month'], inplace=True)\n",
      "C:\\Users\\Miguel Mendes\\AppData\\Local\\Temp\\ipykernel_8516\\2327759639.py:21: SettingWithCopyWarning: \n",
      "A value is trying to be set on a copy of a slice from a DataFrame.\n",
      "Try using .loc[row_indexer,col_indexer] = value instead\n",
      "\n",
      "See the caveats in the documentation: https://pandas.pydata.org/pandas-docs/stable/user_guide/indexing.html#returning-a-view-versus-a-copy\n",
      "  time_serie['Change'] = time_serie['Change'].astype('Int64')\n"
     ]
    },
    {
     "name": "stdout",
     "output_type": "stream",
     "text": [
      "Erro Médio Absoluto (MAE) para Seller ID 100000127: 0.0010365219786763191\n",
      "Processando Seller ID: 100001252\n",
      "Erro Médio Absoluto (MAE) para Seller ID 100001252: 0.00020525732543319464\n",
      "Processando Seller ID: 100000082\n"
     ]
    },
    {
     "name": "stderr",
     "output_type": "stream",
     "text": [
      "C:\\Users\\Miguel Mendes\\AppData\\Local\\Temp\\ipykernel_8516\\2327759639.py:20: SettingWithCopyWarning: \n",
      "A value is trying to be set on a copy of a slice from a DataFrame\n",
      "\n",
      "See the caveats in the documentation: https://pandas.pydata.org/pandas-docs/stable/user_guide/indexing.html#returning-a-view-versus-a-copy\n",
      "  time_serie.drop(columns=['Seller ID', 'Day of Week', 'Last Week', 'Last Month'], inplace=True)\n",
      "C:\\Users\\Miguel Mendes\\AppData\\Local\\Temp\\ipykernel_8516\\2327759639.py:21: SettingWithCopyWarning: \n",
      "A value is trying to be set on a copy of a slice from a DataFrame.\n",
      "Try using .loc[row_indexer,col_indexer] = value instead\n",
      "\n",
      "See the caveats in the documentation: https://pandas.pydata.org/pandas-docs/stable/user_guide/indexing.html#returning-a-view-versus-a-copy\n",
      "  time_serie['Change'] = time_serie['Change'].astype('Int64')\n",
      "C:\\Users\\Miguel Mendes\\AppData\\Local\\Temp\\ipykernel_8516\\2327759639.py:20: SettingWithCopyWarning: \n",
      "A value is trying to be set on a copy of a slice from a DataFrame\n",
      "\n",
      "See the caveats in the documentation: https://pandas.pydata.org/pandas-docs/stable/user_guide/indexing.html#returning-a-view-versus-a-copy\n",
      "  time_serie.drop(columns=['Seller ID', 'Day of Week', 'Last Week', 'Last Month'], inplace=True)\n",
      "C:\\Users\\Miguel Mendes\\AppData\\Local\\Temp\\ipykernel_8516\\2327759639.py:21: SettingWithCopyWarning: \n",
      "A value is trying to be set on a copy of a slice from a DataFrame.\n",
      "Try using .loc[row_indexer,col_indexer] = value instead\n",
      "\n",
      "See the caveats in the documentation: https://pandas.pydata.org/pandas-docs/stable/user_guide/indexing.html#returning-a-view-versus-a-copy\n",
      "  time_serie['Change'] = time_serie['Change'].astype('Int64')\n"
     ]
    },
    {
     "name": "stdout",
     "output_type": "stream",
     "text": [
      "Erro Médio Absoluto (MAE) para Seller ID 100000082: 0.017046723514795303\n",
      "Processando Seller ID: 100000224\n"
     ]
    },
    {
     "name": "stderr",
     "output_type": "stream",
     "text": [
      "C:\\Users\\Miguel Mendes\\AppData\\Local\\Temp\\ipykernel_8516\\2327759639.py:20: SettingWithCopyWarning: \n",
      "A value is trying to be set on a copy of a slice from a DataFrame\n",
      "\n",
      "See the caveats in the documentation: https://pandas.pydata.org/pandas-docs/stable/user_guide/indexing.html#returning-a-view-versus-a-copy\n",
      "  time_serie.drop(columns=['Seller ID', 'Day of Week', 'Last Week', 'Last Month'], inplace=True)\n",
      "C:\\Users\\Miguel Mendes\\AppData\\Local\\Temp\\ipykernel_8516\\2327759639.py:21: SettingWithCopyWarning: \n",
      "A value is trying to be set on a copy of a slice from a DataFrame.\n",
      "Try using .loc[row_indexer,col_indexer] = value instead\n",
      "\n",
      "See the caveats in the documentation: https://pandas.pydata.org/pandas-docs/stable/user_guide/indexing.html#returning-a-view-versus-a-copy\n",
      "  time_serie['Change'] = time_serie['Change'].astype('Int64')\n"
     ]
    },
    {
     "name": "stdout",
     "output_type": "stream",
     "text": [
      "Erro Médio Absoluto (MAE) para Seller ID 100000224: 0.039603181183338165\n",
      "Processando Seller ID: 100000227\n"
     ]
    },
    {
     "name": "stderr",
     "output_type": "stream",
     "text": [
      "C:\\Users\\Miguel Mendes\\AppData\\Local\\Temp\\ipykernel_8516\\2327759639.py:20: SettingWithCopyWarning: \n",
      "A value is trying to be set on a copy of a slice from a DataFrame\n",
      "\n",
      "See the caveats in the documentation: https://pandas.pydata.org/pandas-docs/stable/user_guide/indexing.html#returning-a-view-versus-a-copy\n",
      "  time_serie.drop(columns=['Seller ID', 'Day of Week', 'Last Week', 'Last Month'], inplace=True)\n",
      "C:\\Users\\Miguel Mendes\\AppData\\Local\\Temp\\ipykernel_8516\\2327759639.py:21: SettingWithCopyWarning: \n",
      "A value is trying to be set on a copy of a slice from a DataFrame.\n",
      "Try using .loc[row_indexer,col_indexer] = value instead\n",
      "\n",
      "See the caveats in the documentation: https://pandas.pydata.org/pandas-docs/stable/user_guide/indexing.html#returning-a-view-versus-a-copy\n",
      "  time_serie['Change'] = time_serie['Change'].astype('Int64')\n"
     ]
    },
    {
     "name": "stdout",
     "output_type": "stream",
     "text": [
      "Erro Médio Absoluto (MAE) para Seller ID 100000227: 0.0012845653109252453\n",
      "Processando Seller ID: 100000863\n"
     ]
    },
    {
     "name": "stderr",
     "output_type": "stream",
     "text": [
      "C:\\Users\\Miguel Mendes\\AppData\\Local\\Temp\\ipykernel_8516\\2327759639.py:20: SettingWithCopyWarning: \n",
      "A value is trying to be set on a copy of a slice from a DataFrame\n",
      "\n",
      "See the caveats in the documentation: https://pandas.pydata.org/pandas-docs/stable/user_guide/indexing.html#returning-a-view-versus-a-copy\n",
      "  time_serie.drop(columns=['Seller ID', 'Day of Week', 'Last Week', 'Last Month'], inplace=True)\n",
      "C:\\Users\\Miguel Mendes\\AppData\\Local\\Temp\\ipykernel_8516\\2327759639.py:21: SettingWithCopyWarning: \n",
      "A value is trying to be set on a copy of a slice from a DataFrame.\n",
      "Try using .loc[row_indexer,col_indexer] = value instead\n",
      "\n",
      "See the caveats in the documentation: https://pandas.pydata.org/pandas-docs/stable/user_guide/indexing.html#returning-a-view-versus-a-copy\n",
      "  time_serie['Change'] = time_serie['Change'].astype('Int64')\n"
     ]
    },
    {
     "name": "stdout",
     "output_type": "stream",
     "text": [
      "Erro Médio Absoluto (MAE) para Seller ID 100000863: 0.16204828023910522\n",
      "Processando Seller ID: 100000437\n"
     ]
    },
    {
     "name": "stderr",
     "output_type": "stream",
     "text": [
      "C:\\Users\\Miguel Mendes\\AppData\\Local\\Temp\\ipykernel_8516\\2327759639.py:20: SettingWithCopyWarning: \n",
      "A value is trying to be set on a copy of a slice from a DataFrame\n",
      "\n",
      "See the caveats in the documentation: https://pandas.pydata.org/pandas-docs/stable/user_guide/indexing.html#returning-a-view-versus-a-copy\n",
      "  time_serie.drop(columns=['Seller ID', 'Day of Week', 'Last Week', 'Last Month'], inplace=True)\n",
      "C:\\Users\\Miguel Mendes\\AppData\\Local\\Temp\\ipykernel_8516\\2327759639.py:21: SettingWithCopyWarning: \n",
      "A value is trying to be set on a copy of a slice from a DataFrame.\n",
      "Try using .loc[row_indexer,col_indexer] = value instead\n",
      "\n",
      "See the caveats in the documentation: https://pandas.pydata.org/pandas-docs/stable/user_guide/indexing.html#returning-a-view-versus-a-copy\n",
      "  time_serie['Change'] = time_serie['Change'].astype('Int64')\n"
     ]
    },
    {
     "name": "stdout",
     "output_type": "stream",
     "text": [
      "Erro Médio Absoluto (MAE) para Seller ID 100000437: 0.0003421130240894854\n",
      "Processando Seller ID: 100000199\n"
     ]
    },
    {
     "name": "stderr",
     "output_type": "stream",
     "text": [
      "C:\\Users\\Miguel Mendes\\AppData\\Local\\Temp\\ipykernel_8516\\2327759639.py:20: SettingWithCopyWarning: \n",
      "A value is trying to be set on a copy of a slice from a DataFrame\n",
      "\n",
      "See the caveats in the documentation: https://pandas.pydata.org/pandas-docs/stable/user_guide/indexing.html#returning-a-view-versus-a-copy\n",
      "  time_serie.drop(columns=['Seller ID', 'Day of Week', 'Last Week', 'Last Month'], inplace=True)\n",
      "C:\\Users\\Miguel Mendes\\AppData\\Local\\Temp\\ipykernel_8516\\2327759639.py:21: SettingWithCopyWarning: \n",
      "A value is trying to be set on a copy of a slice from a DataFrame.\n",
      "Try using .loc[row_indexer,col_indexer] = value instead\n",
      "\n",
      "See the caveats in the documentation: https://pandas.pydata.org/pandas-docs/stable/user_guide/indexing.html#returning-a-view-versus-a-copy\n",
      "  time_serie['Change'] = time_serie['Change'].astype('Int64')\n"
     ]
    },
    {
     "name": "stdout",
     "output_type": "stream",
     "text": [
      "Erro Médio Absoluto (MAE) para Seller ID 100000199: 0.017624711617827415\n",
      "Processando Seller ID: 100000351\n",
      "Erro Médio Absoluto (MAE) para Seller ID 100000351: 0.000341215607477352\n",
      "Processando Seller ID: 100000102\n"
     ]
    },
    {
     "name": "stderr",
     "output_type": "stream",
     "text": [
      "C:\\Users\\Miguel Mendes\\AppData\\Local\\Temp\\ipykernel_8516\\2327759639.py:20: SettingWithCopyWarning: \n",
      "A value is trying to be set on a copy of a slice from a DataFrame\n",
      "\n",
      "See the caveats in the documentation: https://pandas.pydata.org/pandas-docs/stable/user_guide/indexing.html#returning-a-view-versus-a-copy\n",
      "  time_serie.drop(columns=['Seller ID', 'Day of Week', 'Last Week', 'Last Month'], inplace=True)\n",
      "C:\\Users\\Miguel Mendes\\AppData\\Local\\Temp\\ipykernel_8516\\2327759639.py:21: SettingWithCopyWarning: \n",
      "A value is trying to be set on a copy of a slice from a DataFrame.\n",
      "Try using .loc[row_indexer,col_indexer] = value instead\n",
      "\n",
      "See the caveats in the documentation: https://pandas.pydata.org/pandas-docs/stable/user_guide/indexing.html#returning-a-view-versus-a-copy\n",
      "  time_serie['Change'] = time_serie['Change'].astype('Int64')\n",
      "C:\\Users\\Miguel Mendes\\AppData\\Local\\Temp\\ipykernel_8516\\2327759639.py:20: SettingWithCopyWarning: \n",
      "A value is trying to be set on a copy of a slice from a DataFrame\n",
      "\n",
      "See the caveats in the documentation: https://pandas.pydata.org/pandas-docs/stable/user_guide/indexing.html#returning-a-view-versus-a-copy\n",
      "  time_serie.drop(columns=['Seller ID', 'Day of Week', 'Last Week', 'Last Month'], inplace=True)\n",
      "C:\\Users\\Miguel Mendes\\AppData\\Local\\Temp\\ipykernel_8516\\2327759639.py:21: SettingWithCopyWarning: \n",
      "A value is trying to be set on a copy of a slice from a DataFrame.\n",
      "Try using .loc[row_indexer,col_indexer] = value instead\n",
      "\n",
      "See the caveats in the documentation: https://pandas.pydata.org/pandas-docs/stable/user_guide/indexing.html#returning-a-view-versus-a-copy\n",
      "  time_serie['Change'] = time_serie['Change'].astype('Int64')\n"
     ]
    },
    {
     "name": "stdout",
     "output_type": "stream",
     "text": [
      "Erro Médio Absoluto (MAE) para Seller ID 100000102: 0.019427118822932243\n",
      "Processando Seller ID: 100001178\n",
      "Erro Médio Absoluto (MAE) para Seller ID 100001178: 0.03077681176364422\n",
      "Processando Seller ID: 100001875\n"
     ]
    },
    {
     "name": "stderr",
     "output_type": "stream",
     "text": [
      "C:\\Users\\Miguel Mendes\\AppData\\Local\\Temp\\ipykernel_8516\\2327759639.py:20: SettingWithCopyWarning: \n",
      "A value is trying to be set on a copy of a slice from a DataFrame\n",
      "\n",
      "See the caveats in the documentation: https://pandas.pydata.org/pandas-docs/stable/user_guide/indexing.html#returning-a-view-versus-a-copy\n",
      "  time_serie.drop(columns=['Seller ID', 'Day of Week', 'Last Week', 'Last Month'], inplace=True)\n",
      "C:\\Users\\Miguel Mendes\\AppData\\Local\\Temp\\ipykernel_8516\\2327759639.py:21: SettingWithCopyWarning: \n",
      "A value is trying to be set on a copy of a slice from a DataFrame.\n",
      "Try using .loc[row_indexer,col_indexer] = value instead\n",
      "\n",
      "See the caveats in the documentation: https://pandas.pydata.org/pandas-docs/stable/user_guide/indexing.html#returning-a-view-versus-a-copy\n",
      "  time_serie['Change'] = time_serie['Change'].astype('Int64')\n",
      "C:\\Users\\Miguel Mendes\\AppData\\Local\\Temp\\ipykernel_8516\\2327759639.py:20: SettingWithCopyWarning: \n",
      "A value is trying to be set on a copy of a slice from a DataFrame\n",
      "\n",
      "See the caveats in the documentation: https://pandas.pydata.org/pandas-docs/stable/user_guide/indexing.html#returning-a-view-versus-a-copy\n",
      "  time_serie.drop(columns=['Seller ID', 'Day of Week', 'Last Week', 'Last Month'], inplace=True)\n",
      "C:\\Users\\Miguel Mendes\\AppData\\Local\\Temp\\ipykernel_8516\\2327759639.py:21: SettingWithCopyWarning: \n",
      "A value is trying to be set on a copy of a slice from a DataFrame.\n",
      "Try using .loc[row_indexer,col_indexer] = value instead\n",
      "\n",
      "See the caveats in the documentation: https://pandas.pydata.org/pandas-docs/stable/user_guide/indexing.html#returning-a-view-versus-a-copy\n",
      "  time_serie['Change'] = time_serie['Change'].astype('Int64')\n"
     ]
    },
    {
     "name": "stdout",
     "output_type": "stream",
     "text": [
      "Erro Médio Absoluto (MAE) para Seller ID 100001875: 0.0007485385285690427\n",
      "Processando Seller ID: 100001237\n",
      "Erro Médio Absoluto (MAE) para Seller ID 100001237: 0.00033969219657592475\n",
      "Processando Seller ID: 100000286\n"
     ]
    },
    {
     "name": "stderr",
     "output_type": "stream",
     "text": [
      "C:\\Users\\Miguel Mendes\\AppData\\Local\\Temp\\ipykernel_8516\\2327759639.py:20: SettingWithCopyWarning: \n",
      "A value is trying to be set on a copy of a slice from a DataFrame\n",
      "\n",
      "See the caveats in the documentation: https://pandas.pydata.org/pandas-docs/stable/user_guide/indexing.html#returning-a-view-versus-a-copy\n",
      "  time_serie.drop(columns=['Seller ID', 'Day of Week', 'Last Week', 'Last Month'], inplace=True)\n",
      "C:\\Users\\Miguel Mendes\\AppData\\Local\\Temp\\ipykernel_8516\\2327759639.py:21: SettingWithCopyWarning: \n",
      "A value is trying to be set on a copy of a slice from a DataFrame.\n",
      "Try using .loc[row_indexer,col_indexer] = value instead\n",
      "\n",
      "See the caveats in the documentation: https://pandas.pydata.org/pandas-docs/stable/user_guide/indexing.html#returning-a-view-versus-a-copy\n",
      "  time_serie['Change'] = time_serie['Change'].astype('Int64')\n",
      "C:\\Users\\Miguel Mendes\\AppData\\Local\\Temp\\ipykernel_8516\\2327759639.py:20: SettingWithCopyWarning: \n",
      "A value is trying to be set on a copy of a slice from a DataFrame\n",
      "\n",
      "See the caveats in the documentation: https://pandas.pydata.org/pandas-docs/stable/user_guide/indexing.html#returning-a-view-versus-a-copy\n",
      "  time_serie.drop(columns=['Seller ID', 'Day of Week', 'Last Week', 'Last Month'], inplace=True)\n",
      "C:\\Users\\Miguel Mendes\\AppData\\Local\\Temp\\ipykernel_8516\\2327759639.py:21: SettingWithCopyWarning: \n",
      "A value is trying to be set on a copy of a slice from a DataFrame.\n",
      "Try using .loc[row_indexer,col_indexer] = value instead\n",
      "\n",
      "See the caveats in the documentation: https://pandas.pydata.org/pandas-docs/stable/user_guide/indexing.html#returning-a-view-versus-a-copy\n",
      "  time_serie['Change'] = time_serie['Change'].astype('Int64')\n"
     ]
    },
    {
     "name": "stdout",
     "output_type": "stream",
     "text": [
      "Erro Médio Absoluto (MAE) para Seller ID 100000286: 0.06880487501621246\n",
      "Processando Seller ID: 100001400\n",
      "Erro Médio Absoluto (MAE) para Seller ID 100001400: 0.0015114735579118133\n",
      "Processando Seller ID: 100001388\n"
     ]
    },
    {
     "name": "stderr",
     "output_type": "stream",
     "text": [
      "C:\\Users\\Miguel Mendes\\AppData\\Local\\Temp\\ipykernel_8516\\2327759639.py:20: SettingWithCopyWarning: \n",
      "A value is trying to be set on a copy of a slice from a DataFrame\n",
      "\n",
      "See the caveats in the documentation: https://pandas.pydata.org/pandas-docs/stable/user_guide/indexing.html#returning-a-view-versus-a-copy\n",
      "  time_serie.drop(columns=['Seller ID', 'Day of Week', 'Last Week', 'Last Month'], inplace=True)\n",
      "C:\\Users\\Miguel Mendes\\AppData\\Local\\Temp\\ipykernel_8516\\2327759639.py:21: SettingWithCopyWarning: \n",
      "A value is trying to be set on a copy of a slice from a DataFrame.\n",
      "Try using .loc[row_indexer,col_indexer] = value instead\n",
      "\n",
      "See the caveats in the documentation: https://pandas.pydata.org/pandas-docs/stable/user_guide/indexing.html#returning-a-view-versus-a-copy\n",
      "  time_serie['Change'] = time_serie['Change'].astype('Int64')\n",
      "C:\\Users\\Miguel Mendes\\AppData\\Local\\Temp\\ipykernel_8516\\2327759639.py:20: SettingWithCopyWarning: \n",
      "A value is trying to be set on a copy of a slice from a DataFrame\n",
      "\n",
      "See the caveats in the documentation: https://pandas.pydata.org/pandas-docs/stable/user_guide/indexing.html#returning-a-view-versus-a-copy\n",
      "  time_serie.drop(columns=['Seller ID', 'Day of Week', 'Last Week', 'Last Month'], inplace=True)\n",
      "C:\\Users\\Miguel Mendes\\AppData\\Local\\Temp\\ipykernel_8516\\2327759639.py:21: SettingWithCopyWarning: \n",
      "A value is trying to be set on a copy of a slice from a DataFrame.\n",
      "Try using .loc[row_indexer,col_indexer] = value instead\n",
      "\n",
      "See the caveats in the documentation: https://pandas.pydata.org/pandas-docs/stable/user_guide/indexing.html#returning-a-view-versus-a-copy\n",
      "  time_serie['Change'] = time_serie['Change'].astype('Int64')\n"
     ]
    },
    {
     "name": "stdout",
     "output_type": "stream",
     "text": [
      "Erro Médio Absoluto (MAE) para Seller ID 100001388: 0.0024320061784237623\n",
      "Processando Seller ID: 100000895\n",
      "Erro Médio Absoluto (MAE) para Seller ID 100000895: 0.008831381797790527\n",
      "Processando Seller ID: 100001499\n"
     ]
    },
    {
     "name": "stderr",
     "output_type": "stream",
     "text": [
      "C:\\Users\\Miguel Mendes\\AppData\\Local\\Temp\\ipykernel_8516\\2327759639.py:20: SettingWithCopyWarning: \n",
      "A value is trying to be set on a copy of a slice from a DataFrame\n",
      "\n",
      "See the caveats in the documentation: https://pandas.pydata.org/pandas-docs/stable/user_guide/indexing.html#returning-a-view-versus-a-copy\n",
      "  time_serie.drop(columns=['Seller ID', 'Day of Week', 'Last Week', 'Last Month'], inplace=True)\n",
      "C:\\Users\\Miguel Mendes\\AppData\\Local\\Temp\\ipykernel_8516\\2327759639.py:21: SettingWithCopyWarning: \n",
      "A value is trying to be set on a copy of a slice from a DataFrame.\n",
      "Try using .loc[row_indexer,col_indexer] = value instead\n",
      "\n",
      "See the caveats in the documentation: https://pandas.pydata.org/pandas-docs/stable/user_guide/indexing.html#returning-a-view-versus-a-copy\n",
      "  time_serie['Change'] = time_serie['Change'].astype('Int64')\n",
      "C:\\Users\\Miguel Mendes\\AppData\\Local\\Temp\\ipykernel_8516\\2327759639.py:20: SettingWithCopyWarning: \n",
      "A value is trying to be set on a copy of a slice from a DataFrame\n",
      "\n",
      "See the caveats in the documentation: https://pandas.pydata.org/pandas-docs/stable/user_guide/indexing.html#returning-a-view-versus-a-copy\n",
      "  time_serie.drop(columns=['Seller ID', 'Day of Week', 'Last Week', 'Last Month'], inplace=True)\n",
      "C:\\Users\\Miguel Mendes\\AppData\\Local\\Temp\\ipykernel_8516\\2327759639.py:21: SettingWithCopyWarning: \n",
      "A value is trying to be set on a copy of a slice from a DataFrame.\n",
      "Try using .loc[row_indexer,col_indexer] = value instead\n",
      "\n",
      "See the caveats in the documentation: https://pandas.pydata.org/pandas-docs/stable/user_guide/indexing.html#returning-a-view-versus-a-copy\n",
      "  time_serie['Change'] = time_serie['Change'].astype('Int64')\n"
     ]
    },
    {
     "name": "stdout",
     "output_type": "stream",
     "text": [
      "Erro Médio Absoluto (MAE) para Seller ID 100001499: 0.20764321088790894\n",
      "Processando Seller ID: 100001238\n"
     ]
    },
    {
     "name": "stderr",
     "output_type": "stream",
     "text": [
      "C:\\Users\\Miguel Mendes\\AppData\\Local\\Temp\\ipykernel_8516\\2327759639.py:20: SettingWithCopyWarning: \n",
      "A value is trying to be set on a copy of a slice from a DataFrame\n",
      "\n",
      "See the caveats in the documentation: https://pandas.pydata.org/pandas-docs/stable/user_guide/indexing.html#returning-a-view-versus-a-copy\n",
      "  time_serie.drop(columns=['Seller ID', 'Day of Week', 'Last Week', 'Last Month'], inplace=True)\n",
      "C:\\Users\\Miguel Mendes\\AppData\\Local\\Temp\\ipykernel_8516\\2327759639.py:21: SettingWithCopyWarning: \n",
      "A value is trying to be set on a copy of a slice from a DataFrame.\n",
      "Try using .loc[row_indexer,col_indexer] = value instead\n",
      "\n",
      "See the caveats in the documentation: https://pandas.pydata.org/pandas-docs/stable/user_guide/indexing.html#returning-a-view-versus-a-copy\n",
      "  time_serie['Change'] = time_serie['Change'].astype('Int64')\n"
     ]
    },
    {
     "name": "stdout",
     "output_type": "stream",
     "text": [
      "Erro Médio Absoluto (MAE) para Seller ID 100001238: 0.05516151338815689\n",
      "Processando Seller ID: 100001085\n",
      "Erro Médio Absoluto (MAE) para Seller ID 100001085: 0.0021347978617995977\n",
      "Processando Seller ID: 100000268\n"
     ]
    },
    {
     "name": "stderr",
     "output_type": "stream",
     "text": [
      "C:\\Users\\Miguel Mendes\\AppData\\Local\\Temp\\ipykernel_8516\\2327759639.py:20: SettingWithCopyWarning: \n",
      "A value is trying to be set on a copy of a slice from a DataFrame\n",
      "\n",
      "See the caveats in the documentation: https://pandas.pydata.org/pandas-docs/stable/user_guide/indexing.html#returning-a-view-versus-a-copy\n",
      "  time_serie.drop(columns=['Seller ID', 'Day of Week', 'Last Week', 'Last Month'], inplace=True)\n",
      "C:\\Users\\Miguel Mendes\\AppData\\Local\\Temp\\ipykernel_8516\\2327759639.py:21: SettingWithCopyWarning: \n",
      "A value is trying to be set on a copy of a slice from a DataFrame.\n",
      "Try using .loc[row_indexer,col_indexer] = value instead\n",
      "\n",
      "See the caveats in the documentation: https://pandas.pydata.org/pandas-docs/stable/user_guide/indexing.html#returning-a-view-versus-a-copy\n",
      "  time_serie['Change'] = time_serie['Change'].astype('Int64')\n",
      "C:\\Users\\Miguel Mendes\\AppData\\Local\\Temp\\ipykernel_8516\\2327759639.py:20: SettingWithCopyWarning: \n",
      "A value is trying to be set on a copy of a slice from a DataFrame\n",
      "\n",
      "See the caveats in the documentation: https://pandas.pydata.org/pandas-docs/stable/user_guide/indexing.html#returning-a-view-versus-a-copy\n",
      "  time_serie.drop(columns=['Seller ID', 'Day of Week', 'Last Week', 'Last Month'], inplace=True)\n",
      "C:\\Users\\Miguel Mendes\\AppData\\Local\\Temp\\ipykernel_8516\\2327759639.py:21: SettingWithCopyWarning: \n",
      "A value is trying to be set on a copy of a slice from a DataFrame.\n",
      "Try using .loc[row_indexer,col_indexer] = value instead\n",
      "\n",
      "See the caveats in the documentation: https://pandas.pydata.org/pandas-docs/stable/user_guide/indexing.html#returning-a-view-versus-a-copy\n",
      "  time_serie['Change'] = time_serie['Change'].astype('Int64')\n"
     ]
    },
    {
     "name": "stdout",
     "output_type": "stream",
     "text": [
      "Erro Médio Absoluto (MAE) para Seller ID 100000268: 0.0008364356472156942\n",
      "Processando Seller ID: 100001235\n"
     ]
    },
    {
     "name": "stderr",
     "output_type": "stream",
     "text": [
      "C:\\Users\\Miguel Mendes\\AppData\\Local\\Temp\\ipykernel_8516\\2327759639.py:20: SettingWithCopyWarning: \n",
      "A value is trying to be set on a copy of a slice from a DataFrame\n",
      "\n",
      "See the caveats in the documentation: https://pandas.pydata.org/pandas-docs/stable/user_guide/indexing.html#returning-a-view-versus-a-copy\n",
      "  time_serie.drop(columns=['Seller ID', 'Day of Week', 'Last Week', 'Last Month'], inplace=True)\n",
      "C:\\Users\\Miguel Mendes\\AppData\\Local\\Temp\\ipykernel_8516\\2327759639.py:21: SettingWithCopyWarning: \n",
      "A value is trying to be set on a copy of a slice from a DataFrame.\n",
      "Try using .loc[row_indexer,col_indexer] = value instead\n",
      "\n",
      "See the caveats in the documentation: https://pandas.pydata.org/pandas-docs/stable/user_guide/indexing.html#returning-a-view-versus-a-copy\n",
      "  time_serie['Change'] = time_serie['Change'].astype('Int64')\n"
     ]
    },
    {
     "name": "stdout",
     "output_type": "stream",
     "text": [
      "Erro Médio Absoluto (MAE) para Seller ID 100001235: 0.01951681822538376\n",
      "Processando Seller ID: 100000383\n",
      "Erro Médio Absoluto (MAE) para Seller ID 100000383: 0.002837357809767127\n",
      "Processando Seller ID: 100000927\n"
     ]
    },
    {
     "name": "stderr",
     "output_type": "stream",
     "text": [
      "C:\\Users\\Miguel Mendes\\AppData\\Local\\Temp\\ipykernel_8516\\2327759639.py:20: SettingWithCopyWarning: \n",
      "A value is trying to be set on a copy of a slice from a DataFrame\n",
      "\n",
      "See the caveats in the documentation: https://pandas.pydata.org/pandas-docs/stable/user_guide/indexing.html#returning-a-view-versus-a-copy\n",
      "  time_serie.drop(columns=['Seller ID', 'Day of Week', 'Last Week', 'Last Month'], inplace=True)\n",
      "C:\\Users\\Miguel Mendes\\AppData\\Local\\Temp\\ipykernel_8516\\2327759639.py:21: SettingWithCopyWarning: \n",
      "A value is trying to be set on a copy of a slice from a DataFrame.\n",
      "Try using .loc[row_indexer,col_indexer] = value instead\n",
      "\n",
      "See the caveats in the documentation: https://pandas.pydata.org/pandas-docs/stable/user_guide/indexing.html#returning-a-view-versus-a-copy\n",
      "  time_serie['Change'] = time_serie['Change'].astype('Int64')\n",
      "C:\\Users\\Miguel Mendes\\AppData\\Local\\Temp\\ipykernel_8516\\2327759639.py:20: SettingWithCopyWarning: \n",
      "A value is trying to be set on a copy of a slice from a DataFrame\n",
      "\n",
      "See the caveats in the documentation: https://pandas.pydata.org/pandas-docs/stable/user_guide/indexing.html#returning-a-view-versus-a-copy\n",
      "  time_serie.drop(columns=['Seller ID', 'Day of Week', 'Last Week', 'Last Month'], inplace=True)\n",
      "C:\\Users\\Miguel Mendes\\AppData\\Local\\Temp\\ipykernel_8516\\2327759639.py:21: SettingWithCopyWarning: \n",
      "A value is trying to be set on a copy of a slice from a DataFrame.\n",
      "Try using .loc[row_indexer,col_indexer] = value instead\n",
      "\n",
      "See the caveats in the documentation: https://pandas.pydata.org/pandas-docs/stable/user_guide/indexing.html#returning-a-view-versus-a-copy\n",
      "  time_serie['Change'] = time_serie['Change'].astype('Int64')\n"
     ]
    },
    {
     "name": "stdout",
     "output_type": "stream",
     "text": [
      "Erro Médio Absoluto (MAE) para Seller ID 100000927: 0.013628373853862286\n",
      "Processando Seller ID: 100001036\n",
      "Erro Médio Absoluto (MAE) para Seller ID 100001036: 0.13025376200675964\n",
      "Processando Seller ID: 100001807\n"
     ]
    },
    {
     "name": "stderr",
     "output_type": "stream",
     "text": [
      "C:\\Users\\Miguel Mendes\\AppData\\Local\\Temp\\ipykernel_8516\\2327759639.py:20: SettingWithCopyWarning: \n",
      "A value is trying to be set on a copy of a slice from a DataFrame\n",
      "\n",
      "See the caveats in the documentation: https://pandas.pydata.org/pandas-docs/stable/user_guide/indexing.html#returning-a-view-versus-a-copy\n",
      "  time_serie.drop(columns=['Seller ID', 'Day of Week', 'Last Week', 'Last Month'], inplace=True)\n",
      "C:\\Users\\Miguel Mendes\\AppData\\Local\\Temp\\ipykernel_8516\\2327759639.py:21: SettingWithCopyWarning: \n",
      "A value is trying to be set on a copy of a slice from a DataFrame.\n",
      "Try using .loc[row_indexer,col_indexer] = value instead\n",
      "\n",
      "See the caveats in the documentation: https://pandas.pydata.org/pandas-docs/stable/user_guide/indexing.html#returning-a-view-versus-a-copy\n",
      "  time_serie['Change'] = time_serie['Change'].astype('Int64')\n",
      "C:\\Users\\Miguel Mendes\\AppData\\Local\\Temp\\ipykernel_8516\\2327759639.py:20: SettingWithCopyWarning: \n",
      "A value is trying to be set on a copy of a slice from a DataFrame\n",
      "\n",
      "See the caveats in the documentation: https://pandas.pydata.org/pandas-docs/stable/user_guide/indexing.html#returning-a-view-versus-a-copy\n",
      "  time_serie.drop(columns=['Seller ID', 'Day of Week', 'Last Week', 'Last Month'], inplace=True)\n",
      "C:\\Users\\Miguel Mendes\\AppData\\Local\\Temp\\ipykernel_8516\\2327759639.py:21: SettingWithCopyWarning: \n",
      "A value is trying to be set on a copy of a slice from a DataFrame.\n",
      "Try using .loc[row_indexer,col_indexer] = value instead\n",
      "\n",
      "See the caveats in the documentation: https://pandas.pydata.org/pandas-docs/stable/user_guide/indexing.html#returning-a-view-versus-a-copy\n",
      "  time_serie['Change'] = time_serie['Change'].astype('Int64')\n"
     ]
    },
    {
     "name": "stdout",
     "output_type": "stream",
     "text": [
      "Erro Médio Absoluto (MAE) para Seller ID 100001807: 0.008676530793309212\n",
      "Processando Seller ID: 100000357\n"
     ]
    },
    {
     "name": "stderr",
     "output_type": "stream",
     "text": [
      "C:\\Users\\Miguel Mendes\\AppData\\Local\\Temp\\ipykernel_8516\\2327759639.py:20: SettingWithCopyWarning: \n",
      "A value is trying to be set on a copy of a slice from a DataFrame\n",
      "\n",
      "See the caveats in the documentation: https://pandas.pydata.org/pandas-docs/stable/user_guide/indexing.html#returning-a-view-versus-a-copy\n",
      "  time_serie.drop(columns=['Seller ID', 'Day of Week', 'Last Week', 'Last Month'], inplace=True)\n",
      "C:\\Users\\Miguel Mendes\\AppData\\Local\\Temp\\ipykernel_8516\\2327759639.py:21: SettingWithCopyWarning: \n",
      "A value is trying to be set on a copy of a slice from a DataFrame.\n",
      "Try using .loc[row_indexer,col_indexer] = value instead\n",
      "\n",
      "See the caveats in the documentation: https://pandas.pydata.org/pandas-docs/stable/user_guide/indexing.html#returning-a-view-versus-a-copy\n",
      "  time_serie['Change'] = time_serie['Change'].astype('Int64')\n"
     ]
    },
    {
     "name": "stdout",
     "output_type": "stream",
     "text": [
      "Erro Médio Absoluto (MAE) para Seller ID 100000357: 0.01874031499028206\n",
      "Processando Seller ID: 100000387\n",
      "Erro Médio Absoluto (MAE) para Seller ID 100000387: 0.16984914243221283\n",
      "Processando Seller ID: 100000983\n"
     ]
    },
    {
     "name": "stderr",
     "output_type": "stream",
     "text": [
      "C:\\Users\\Miguel Mendes\\AppData\\Local\\Temp\\ipykernel_8516\\2327759639.py:20: SettingWithCopyWarning: \n",
      "A value is trying to be set on a copy of a slice from a DataFrame\n",
      "\n",
      "See the caveats in the documentation: https://pandas.pydata.org/pandas-docs/stable/user_guide/indexing.html#returning-a-view-versus-a-copy\n",
      "  time_serie.drop(columns=['Seller ID', 'Day of Week', 'Last Week', 'Last Month'], inplace=True)\n",
      "C:\\Users\\Miguel Mendes\\AppData\\Local\\Temp\\ipykernel_8516\\2327759639.py:21: SettingWithCopyWarning: \n",
      "A value is trying to be set on a copy of a slice from a DataFrame.\n",
      "Try using .loc[row_indexer,col_indexer] = value instead\n",
      "\n",
      "See the caveats in the documentation: https://pandas.pydata.org/pandas-docs/stable/user_guide/indexing.html#returning-a-view-versus-a-copy\n",
      "  time_serie['Change'] = time_serie['Change'].astype('Int64')\n",
      "C:\\Users\\Miguel Mendes\\AppData\\Local\\Temp\\ipykernel_8516\\2327759639.py:20: SettingWithCopyWarning: \n",
      "A value is trying to be set on a copy of a slice from a DataFrame\n",
      "\n",
      "See the caveats in the documentation: https://pandas.pydata.org/pandas-docs/stable/user_guide/indexing.html#returning-a-view-versus-a-copy\n",
      "  time_serie.drop(columns=['Seller ID', 'Day of Week', 'Last Week', 'Last Month'], inplace=True)\n",
      "C:\\Users\\Miguel Mendes\\AppData\\Local\\Temp\\ipykernel_8516\\2327759639.py:21: SettingWithCopyWarning: \n",
      "A value is trying to be set on a copy of a slice from a DataFrame.\n",
      "Try using .loc[row_indexer,col_indexer] = value instead\n",
      "\n",
      "See the caveats in the documentation: https://pandas.pydata.org/pandas-docs/stable/user_guide/indexing.html#returning-a-view-versus-a-copy\n",
      "  time_serie['Change'] = time_serie['Change'].astype('Int64')\n"
     ]
    },
    {
     "name": "stdout",
     "output_type": "stream",
     "text": [
      "Erro Médio Absoluto (MAE) para Seller ID 100000983: 0.03670657426118851\n",
      "Processando Seller ID: 100000210\n",
      "Erro Médio Absoluto (MAE) para Seller ID 100000210: 0.05144988000392914\n",
      "Processando Seller ID: 100000787\n"
     ]
    },
    {
     "name": "stderr",
     "output_type": "stream",
     "text": [
      "C:\\Users\\Miguel Mendes\\AppData\\Local\\Temp\\ipykernel_8516\\2327759639.py:20: SettingWithCopyWarning: \n",
      "A value is trying to be set on a copy of a slice from a DataFrame\n",
      "\n",
      "See the caveats in the documentation: https://pandas.pydata.org/pandas-docs/stable/user_guide/indexing.html#returning-a-view-versus-a-copy\n",
      "  time_serie.drop(columns=['Seller ID', 'Day of Week', 'Last Week', 'Last Month'], inplace=True)\n",
      "C:\\Users\\Miguel Mendes\\AppData\\Local\\Temp\\ipykernel_8516\\2327759639.py:21: SettingWithCopyWarning: \n",
      "A value is trying to be set on a copy of a slice from a DataFrame.\n",
      "Try using .loc[row_indexer,col_indexer] = value instead\n",
      "\n",
      "See the caveats in the documentation: https://pandas.pydata.org/pandas-docs/stable/user_guide/indexing.html#returning-a-view-versus-a-copy\n",
      "  time_serie['Change'] = time_serie['Change'].astype('Int64')\n",
      "C:\\Users\\Miguel Mendes\\AppData\\Local\\Temp\\ipykernel_8516\\2327759639.py:20: SettingWithCopyWarning: \n",
      "A value is trying to be set on a copy of a slice from a DataFrame\n",
      "\n",
      "See the caveats in the documentation: https://pandas.pydata.org/pandas-docs/stable/user_guide/indexing.html#returning-a-view-versus-a-copy\n",
      "  time_serie.drop(columns=['Seller ID', 'Day of Week', 'Last Week', 'Last Month'], inplace=True)\n",
      "C:\\Users\\Miguel Mendes\\AppData\\Local\\Temp\\ipykernel_8516\\2327759639.py:21: SettingWithCopyWarning: \n",
      "A value is trying to be set on a copy of a slice from a DataFrame.\n",
      "Try using .loc[row_indexer,col_indexer] = value instead\n",
      "\n",
      "See the caveats in the documentation: https://pandas.pydata.org/pandas-docs/stable/user_guide/indexing.html#returning-a-view-versus-a-copy\n",
      "  time_serie['Change'] = time_serie['Change'].astype('Int64')\n"
     ]
    },
    {
     "name": "stdout",
     "output_type": "stream",
     "text": [
      "Erro Médio Absoluto (MAE) para Seller ID 100000787: 0.010994940996170044\n",
      "Processando Seller ID: 100001524\n",
      "Erro Médio Absoluto (MAE) para Seller ID 100001524: 0.10485091060400009\n",
      "Processando Seller ID: 100000639\n"
     ]
    },
    {
     "name": "stderr",
     "output_type": "stream",
     "text": [
      "C:\\Users\\Miguel Mendes\\AppData\\Local\\Temp\\ipykernel_8516\\2327759639.py:20: SettingWithCopyWarning: \n",
      "A value is trying to be set on a copy of a slice from a DataFrame\n",
      "\n",
      "See the caveats in the documentation: https://pandas.pydata.org/pandas-docs/stable/user_guide/indexing.html#returning-a-view-versus-a-copy\n",
      "  time_serie.drop(columns=['Seller ID', 'Day of Week', 'Last Week', 'Last Month'], inplace=True)\n",
      "C:\\Users\\Miguel Mendes\\AppData\\Local\\Temp\\ipykernel_8516\\2327759639.py:21: SettingWithCopyWarning: \n",
      "A value is trying to be set on a copy of a slice from a DataFrame.\n",
      "Try using .loc[row_indexer,col_indexer] = value instead\n",
      "\n",
      "See the caveats in the documentation: https://pandas.pydata.org/pandas-docs/stable/user_guide/indexing.html#returning-a-view-versus-a-copy\n",
      "  time_serie['Change'] = time_serie['Change'].astype('Int64')\n",
      "C:\\Users\\Miguel Mendes\\AppData\\Local\\Temp\\ipykernel_8516\\2327759639.py:20: SettingWithCopyWarning: \n",
      "A value is trying to be set on a copy of a slice from a DataFrame\n",
      "\n",
      "See the caveats in the documentation: https://pandas.pydata.org/pandas-docs/stable/user_guide/indexing.html#returning-a-view-versus-a-copy\n",
      "  time_serie.drop(columns=['Seller ID', 'Day of Week', 'Last Week', 'Last Month'], inplace=True)\n",
      "C:\\Users\\Miguel Mendes\\AppData\\Local\\Temp\\ipykernel_8516\\2327759639.py:21: SettingWithCopyWarning: \n",
      "A value is trying to be set on a copy of a slice from a DataFrame.\n",
      "Try using .loc[row_indexer,col_indexer] = value instead\n",
      "\n",
      "See the caveats in the documentation: https://pandas.pydata.org/pandas-docs/stable/user_guide/indexing.html#returning-a-view-versus-a-copy\n",
      "  time_serie['Change'] = time_serie['Change'].astype('Int64')\n"
     ]
    },
    {
     "name": "stdout",
     "output_type": "stream",
     "text": [
      "Erro Médio Absoluto (MAE) para Seller ID 100000639: 0.045266877859830856\n",
      "Processando Seller ID: 100000003\n",
      "Erro Médio Absoluto (MAE) para Seller ID 100000003: 0.099833644926548\n",
      "Processando Seller ID: 100000270\n"
     ]
    },
    {
     "name": "stderr",
     "output_type": "stream",
     "text": [
      "C:\\Users\\Miguel Mendes\\AppData\\Local\\Temp\\ipykernel_8516\\2327759639.py:20: SettingWithCopyWarning: \n",
      "A value is trying to be set on a copy of a slice from a DataFrame\n",
      "\n",
      "See the caveats in the documentation: https://pandas.pydata.org/pandas-docs/stable/user_guide/indexing.html#returning-a-view-versus-a-copy\n",
      "  time_serie.drop(columns=['Seller ID', 'Day of Week', 'Last Week', 'Last Month'], inplace=True)\n",
      "C:\\Users\\Miguel Mendes\\AppData\\Local\\Temp\\ipykernel_8516\\2327759639.py:21: SettingWithCopyWarning: \n",
      "A value is trying to be set on a copy of a slice from a DataFrame.\n",
      "Try using .loc[row_indexer,col_indexer] = value instead\n",
      "\n",
      "See the caveats in the documentation: https://pandas.pydata.org/pandas-docs/stable/user_guide/indexing.html#returning-a-view-versus-a-copy\n",
      "  time_serie['Change'] = time_serie['Change'].astype('Int64')\n",
      "C:\\Users\\Miguel Mendes\\AppData\\Local\\Temp\\ipykernel_8516\\2327759639.py:20: SettingWithCopyWarning: \n",
      "A value is trying to be set on a copy of a slice from a DataFrame\n",
      "\n",
      "See the caveats in the documentation: https://pandas.pydata.org/pandas-docs/stable/user_guide/indexing.html#returning-a-view-versus-a-copy\n",
      "  time_serie.drop(columns=['Seller ID', 'Day of Week', 'Last Week', 'Last Month'], inplace=True)\n",
      "C:\\Users\\Miguel Mendes\\AppData\\Local\\Temp\\ipykernel_8516\\2327759639.py:21: SettingWithCopyWarning: \n",
      "A value is trying to be set on a copy of a slice from a DataFrame.\n",
      "Try using .loc[row_indexer,col_indexer] = value instead\n",
      "\n",
      "See the caveats in the documentation: https://pandas.pydata.org/pandas-docs/stable/user_guide/indexing.html#returning-a-view-versus-a-copy\n",
      "  time_serie['Change'] = time_serie['Change'].astype('Int64')\n"
     ]
    },
    {
     "name": "stdout",
     "output_type": "stream",
     "text": [
      "Erro Médio Absoluto (MAE) para Seller ID 100000270: 0.16540609300136566\n",
      "Processando Seller ID: 100000540\n"
     ]
    },
    {
     "name": "stderr",
     "output_type": "stream",
     "text": [
      "C:\\Users\\Miguel Mendes\\AppData\\Local\\Temp\\ipykernel_8516\\2327759639.py:20: SettingWithCopyWarning: \n",
      "A value is trying to be set on a copy of a slice from a DataFrame\n",
      "\n",
      "See the caveats in the documentation: https://pandas.pydata.org/pandas-docs/stable/user_guide/indexing.html#returning-a-view-versus-a-copy\n",
      "  time_serie.drop(columns=['Seller ID', 'Day of Week', 'Last Week', 'Last Month'], inplace=True)\n",
      "C:\\Users\\Miguel Mendes\\AppData\\Local\\Temp\\ipykernel_8516\\2327759639.py:21: SettingWithCopyWarning: \n",
      "A value is trying to be set on a copy of a slice from a DataFrame.\n",
      "Try using .loc[row_indexer,col_indexer] = value instead\n",
      "\n",
      "See the caveats in the documentation: https://pandas.pydata.org/pandas-docs/stable/user_guide/indexing.html#returning-a-view-versus-a-copy\n",
      "  time_serie['Change'] = time_serie['Change'].astype('Int64')\n"
     ]
    },
    {
     "name": "stdout",
     "output_type": "stream",
     "text": [
      "Erro Médio Absoluto (MAE) para Seller ID 100000540: 0.11062539368867874\n",
      "Processando Seller ID: 100001327\n",
      "Erro Médio Absoluto (MAE) para Seller ID 100001327: 0.11509335786104202\n",
      "Processando Seller ID: 100001719\n"
     ]
    },
    {
     "name": "stderr",
     "output_type": "stream",
     "text": [
      "C:\\Users\\Miguel Mendes\\AppData\\Local\\Temp\\ipykernel_8516\\2327759639.py:20: SettingWithCopyWarning: \n",
      "A value is trying to be set on a copy of a slice from a DataFrame\n",
      "\n",
      "See the caveats in the documentation: https://pandas.pydata.org/pandas-docs/stable/user_guide/indexing.html#returning-a-view-versus-a-copy\n",
      "  time_serie.drop(columns=['Seller ID', 'Day of Week', 'Last Week', 'Last Month'], inplace=True)\n",
      "C:\\Users\\Miguel Mendes\\AppData\\Local\\Temp\\ipykernel_8516\\2327759639.py:21: SettingWithCopyWarning: \n",
      "A value is trying to be set on a copy of a slice from a DataFrame.\n",
      "Try using .loc[row_indexer,col_indexer] = value instead\n",
      "\n",
      "See the caveats in the documentation: https://pandas.pydata.org/pandas-docs/stable/user_guide/indexing.html#returning-a-view-versus-a-copy\n",
      "  time_serie['Change'] = time_serie['Change'].astype('Int64')\n",
      "C:\\Users\\Miguel Mendes\\AppData\\Local\\Temp\\ipykernel_8516\\2327759639.py:20: SettingWithCopyWarning: \n",
      "A value is trying to be set on a copy of a slice from a DataFrame\n",
      "\n",
      "See the caveats in the documentation: https://pandas.pydata.org/pandas-docs/stable/user_guide/indexing.html#returning-a-view-versus-a-copy\n",
      "  time_serie.drop(columns=['Seller ID', 'Day of Week', 'Last Week', 'Last Month'], inplace=True)\n",
      "C:\\Users\\Miguel Mendes\\AppData\\Local\\Temp\\ipykernel_8516\\2327759639.py:21: SettingWithCopyWarning: \n",
      "A value is trying to be set on a copy of a slice from a DataFrame.\n",
      "Try using .loc[row_indexer,col_indexer] = value instead\n",
      "\n",
      "See the caveats in the documentation: https://pandas.pydata.org/pandas-docs/stable/user_guide/indexing.html#returning-a-view-versus-a-copy\n",
      "  time_serie['Change'] = time_serie['Change'].astype('Int64')\n"
     ]
    },
    {
     "name": "stdout",
     "output_type": "stream",
     "text": [
      "Erro Médio Absoluto (MAE) para Seller ID 100001719: 0.006135041359812021\n",
      "Processando Seller ID: 100001801\n",
      "Erro Médio Absoluto (MAE) para Seller ID 100001801: 0.00039267391548492014\n",
      "Processando Seller ID: 100000201\n"
     ]
    },
    {
     "name": "stderr",
     "output_type": "stream",
     "text": [
      "C:\\Users\\Miguel Mendes\\AppData\\Local\\Temp\\ipykernel_8516\\2327759639.py:20: SettingWithCopyWarning: \n",
      "A value is trying to be set on a copy of a slice from a DataFrame\n",
      "\n",
      "See the caveats in the documentation: https://pandas.pydata.org/pandas-docs/stable/user_guide/indexing.html#returning-a-view-versus-a-copy\n",
      "  time_serie.drop(columns=['Seller ID', 'Day of Week', 'Last Week', 'Last Month'], inplace=True)\n",
      "C:\\Users\\Miguel Mendes\\AppData\\Local\\Temp\\ipykernel_8516\\2327759639.py:21: SettingWithCopyWarning: \n",
      "A value is trying to be set on a copy of a slice from a DataFrame.\n",
      "Try using .loc[row_indexer,col_indexer] = value instead\n",
      "\n",
      "See the caveats in the documentation: https://pandas.pydata.org/pandas-docs/stable/user_guide/indexing.html#returning-a-view-versus-a-copy\n",
      "  time_serie['Change'] = time_serie['Change'].astype('Int64')\n",
      "C:\\Users\\Miguel Mendes\\AppData\\Local\\Temp\\ipykernel_8516\\2327759639.py:20: SettingWithCopyWarning: \n",
      "A value is trying to be set on a copy of a slice from a DataFrame\n",
      "\n",
      "See the caveats in the documentation: https://pandas.pydata.org/pandas-docs/stable/user_guide/indexing.html#returning-a-view-versus-a-copy\n",
      "  time_serie.drop(columns=['Seller ID', 'Day of Week', 'Last Week', 'Last Month'], inplace=True)\n",
      "C:\\Users\\Miguel Mendes\\AppData\\Local\\Temp\\ipykernel_8516\\2327759639.py:21: SettingWithCopyWarning: \n",
      "A value is trying to be set on a copy of a slice from a DataFrame.\n",
      "Try using .loc[row_indexer,col_indexer] = value instead\n",
      "\n",
      "See the caveats in the documentation: https://pandas.pydata.org/pandas-docs/stable/user_guide/indexing.html#returning-a-view-versus-a-copy\n",
      "  time_serie['Change'] = time_serie['Change'].astype('Int64')\n"
     ]
    },
    {
     "name": "stdout",
     "output_type": "stream",
     "text": [
      "Erro Médio Absoluto (MAE) para Seller ID 100000201: 0.09217391163110733\n",
      "Processando Seller ID: 100000002\n",
      "Erro Médio Absoluto (MAE) para Seller ID 100000002: 0.099833644926548\n",
      "Processando Seller ID: 100001420\n"
     ]
    },
    {
     "name": "stderr",
     "output_type": "stream",
     "text": [
      "C:\\Users\\Miguel Mendes\\AppData\\Local\\Temp\\ipykernel_8516\\2327759639.py:20: SettingWithCopyWarning: \n",
      "A value is trying to be set on a copy of a slice from a DataFrame\n",
      "\n",
      "See the caveats in the documentation: https://pandas.pydata.org/pandas-docs/stable/user_guide/indexing.html#returning-a-view-versus-a-copy\n",
      "  time_serie.drop(columns=['Seller ID', 'Day of Week', 'Last Week', 'Last Month'], inplace=True)\n",
      "C:\\Users\\Miguel Mendes\\AppData\\Local\\Temp\\ipykernel_8516\\2327759639.py:21: SettingWithCopyWarning: \n",
      "A value is trying to be set on a copy of a slice from a DataFrame.\n",
      "Try using .loc[row_indexer,col_indexer] = value instead\n",
      "\n",
      "See the caveats in the documentation: https://pandas.pydata.org/pandas-docs/stable/user_guide/indexing.html#returning-a-view-versus-a-copy\n",
      "  time_serie['Change'] = time_serie['Change'].astype('Int64')\n",
      "C:\\Users\\Miguel Mendes\\AppData\\Local\\Temp\\ipykernel_8516\\2327759639.py:20: SettingWithCopyWarning: \n",
      "A value is trying to be set on a copy of a slice from a DataFrame\n",
      "\n",
      "See the caveats in the documentation: https://pandas.pydata.org/pandas-docs/stable/user_guide/indexing.html#returning-a-view-versus-a-copy\n",
      "  time_serie.drop(columns=['Seller ID', 'Day of Week', 'Last Week', 'Last Month'], inplace=True)\n",
      "C:\\Users\\Miguel Mendes\\AppData\\Local\\Temp\\ipykernel_8516\\2327759639.py:21: SettingWithCopyWarning: \n",
      "A value is trying to be set on a copy of a slice from a DataFrame.\n",
      "Try using .loc[row_indexer,col_indexer] = value instead\n",
      "\n",
      "See the caveats in the documentation: https://pandas.pydata.org/pandas-docs/stable/user_guide/indexing.html#returning-a-view-versus-a-copy\n",
      "  time_serie['Change'] = time_serie['Change'].astype('Int64')\n"
     ]
    },
    {
     "name": "stdout",
     "output_type": "stream",
     "text": [
      "Erro Médio Absoluto (MAE) para Seller ID 100001420: 0.024840138852596283\n",
      "Processando Seller ID: 100000969\n",
      "Erro Médio Absoluto (MAE) para Seller ID 100000969: 0.0031241928227245808\n",
      "Processando Seller ID: 100000867\n"
     ]
    },
    {
     "name": "stderr",
     "output_type": "stream",
     "text": [
      "C:\\Users\\Miguel Mendes\\AppData\\Local\\Temp\\ipykernel_8516\\2327759639.py:20: SettingWithCopyWarning: \n",
      "A value is trying to be set on a copy of a slice from a DataFrame\n",
      "\n",
      "See the caveats in the documentation: https://pandas.pydata.org/pandas-docs/stable/user_guide/indexing.html#returning-a-view-versus-a-copy\n",
      "  time_serie.drop(columns=['Seller ID', 'Day of Week', 'Last Week', 'Last Month'], inplace=True)\n",
      "C:\\Users\\Miguel Mendes\\AppData\\Local\\Temp\\ipykernel_8516\\2327759639.py:21: SettingWithCopyWarning: \n",
      "A value is trying to be set on a copy of a slice from a DataFrame.\n",
      "Try using .loc[row_indexer,col_indexer] = value instead\n",
      "\n",
      "See the caveats in the documentation: https://pandas.pydata.org/pandas-docs/stable/user_guide/indexing.html#returning-a-view-versus-a-copy\n",
      "  time_serie['Change'] = time_serie['Change'].astype('Int64')\n",
      "C:\\Users\\Miguel Mendes\\AppData\\Local\\Temp\\ipykernel_8516\\2327759639.py:20: SettingWithCopyWarning: \n",
      "A value is trying to be set on a copy of a slice from a DataFrame\n",
      "\n",
      "See the caveats in the documentation: https://pandas.pydata.org/pandas-docs/stable/user_guide/indexing.html#returning-a-view-versus-a-copy\n",
      "  time_serie.drop(columns=['Seller ID', 'Day of Week', 'Last Week', 'Last Month'], inplace=True)\n",
      "C:\\Users\\Miguel Mendes\\AppData\\Local\\Temp\\ipykernel_8516\\2327759639.py:21: SettingWithCopyWarning: \n",
      "A value is trying to be set on a copy of a slice from a DataFrame.\n",
      "Try using .loc[row_indexer,col_indexer] = value instead\n",
      "\n",
      "See the caveats in the documentation: https://pandas.pydata.org/pandas-docs/stable/user_guide/indexing.html#returning-a-view-versus-a-copy\n",
      "  time_serie['Change'] = time_serie['Change'].astype('Int64')\n"
     ]
    },
    {
     "name": "stdout",
     "output_type": "stream",
     "text": [
      "Erro Médio Absoluto (MAE) para Seller ID 100000867: 0.17248426377773285\n",
      "Processando Seller ID: 100001140\n",
      "Erro Médio Absoluto (MAE) para Seller ID 100001140: 0.004951183684170246\n",
      "Processando Seller ID: 100000419\n"
     ]
    },
    {
     "name": "stderr",
     "output_type": "stream",
     "text": [
      "C:\\Users\\Miguel Mendes\\AppData\\Local\\Temp\\ipykernel_8516\\2327759639.py:20: SettingWithCopyWarning: \n",
      "A value is trying to be set on a copy of a slice from a DataFrame\n",
      "\n",
      "See the caveats in the documentation: https://pandas.pydata.org/pandas-docs/stable/user_guide/indexing.html#returning-a-view-versus-a-copy\n",
      "  time_serie.drop(columns=['Seller ID', 'Day of Week', 'Last Week', 'Last Month'], inplace=True)\n",
      "C:\\Users\\Miguel Mendes\\AppData\\Local\\Temp\\ipykernel_8516\\2327759639.py:21: SettingWithCopyWarning: \n",
      "A value is trying to be set on a copy of a slice from a DataFrame.\n",
      "Try using .loc[row_indexer,col_indexer] = value instead\n",
      "\n",
      "See the caveats in the documentation: https://pandas.pydata.org/pandas-docs/stable/user_guide/indexing.html#returning-a-view-versus-a-copy\n",
      "  time_serie['Change'] = time_serie['Change'].astype('Int64')\n",
      "C:\\Users\\Miguel Mendes\\AppData\\Local\\Temp\\ipykernel_8516\\2327759639.py:20: SettingWithCopyWarning: \n",
      "A value is trying to be set on a copy of a slice from a DataFrame\n",
      "\n",
      "See the caveats in the documentation: https://pandas.pydata.org/pandas-docs/stable/user_guide/indexing.html#returning-a-view-versus-a-copy\n",
      "  time_serie.drop(columns=['Seller ID', 'Day of Week', 'Last Week', 'Last Month'], inplace=True)\n",
      "C:\\Users\\Miguel Mendes\\AppData\\Local\\Temp\\ipykernel_8516\\2327759639.py:21: SettingWithCopyWarning: \n",
      "A value is trying to be set on a copy of a slice from a DataFrame.\n",
      "Try using .loc[row_indexer,col_indexer] = value instead\n",
      "\n",
      "See the caveats in the documentation: https://pandas.pydata.org/pandas-docs/stable/user_guide/indexing.html#returning-a-view-versus-a-copy\n",
      "  time_serie['Change'] = time_serie['Change'].astype('Int64')\n"
     ]
    },
    {
     "name": "stdout",
     "output_type": "stream",
     "text": [
      "Erro Médio Absoluto (MAE) para Seller ID 100000419: 0.022315680980682373\n",
      "Processando Seller ID: 100000830\n",
      "Erro Médio Absoluto (MAE) para Seller ID 100000830: 0.005997253581881523\n",
      "Processando Seller ID: 100000194\n"
     ]
    },
    {
     "name": "stderr",
     "output_type": "stream",
     "text": [
      "C:\\Users\\Miguel Mendes\\AppData\\Local\\Temp\\ipykernel_8516\\2327759639.py:20: SettingWithCopyWarning: \n",
      "A value is trying to be set on a copy of a slice from a DataFrame\n",
      "\n",
      "See the caveats in the documentation: https://pandas.pydata.org/pandas-docs/stable/user_guide/indexing.html#returning-a-view-versus-a-copy\n",
      "  time_serie.drop(columns=['Seller ID', 'Day of Week', 'Last Week', 'Last Month'], inplace=True)\n",
      "C:\\Users\\Miguel Mendes\\AppData\\Local\\Temp\\ipykernel_8516\\2327759639.py:21: SettingWithCopyWarning: \n",
      "A value is trying to be set on a copy of a slice from a DataFrame.\n",
      "Try using .loc[row_indexer,col_indexer] = value instead\n",
      "\n",
      "See the caveats in the documentation: https://pandas.pydata.org/pandas-docs/stable/user_guide/indexing.html#returning-a-view-versus-a-copy\n",
      "  time_serie['Change'] = time_serie['Change'].astype('Int64')\n",
      "C:\\Users\\Miguel Mendes\\AppData\\Local\\Temp\\ipykernel_8516\\2327759639.py:20: SettingWithCopyWarning: \n",
      "A value is trying to be set on a copy of a slice from a DataFrame\n",
      "\n",
      "See the caveats in the documentation: https://pandas.pydata.org/pandas-docs/stable/user_guide/indexing.html#returning-a-view-versus-a-copy\n",
      "  time_serie.drop(columns=['Seller ID', 'Day of Week', 'Last Week', 'Last Month'], inplace=True)\n",
      "C:\\Users\\Miguel Mendes\\AppData\\Local\\Temp\\ipykernel_8516\\2327759639.py:21: SettingWithCopyWarning: \n",
      "A value is trying to be set on a copy of a slice from a DataFrame.\n",
      "Try using .loc[row_indexer,col_indexer] = value instead\n",
      "\n",
      "See the caveats in the documentation: https://pandas.pydata.org/pandas-docs/stable/user_guide/indexing.html#returning-a-view-versus-a-copy\n",
      "  time_serie['Change'] = time_serie['Change'].astype('Int64')\n"
     ]
    },
    {
     "name": "stdout",
     "output_type": "stream",
     "text": [
      "Erro Médio Absoluto (MAE) para Seller ID 100000194: 0.0021610280964523554\n",
      "Processando Seller ID: 100001778\n",
      "Erro Médio Absoluto (MAE) para Seller ID 100001778: 0.005848684813827276\n",
      "Processando Seller ID: 100000944\n"
     ]
    },
    {
     "name": "stderr",
     "output_type": "stream",
     "text": [
      "C:\\Users\\Miguel Mendes\\AppData\\Local\\Temp\\ipykernel_8516\\2327759639.py:20: SettingWithCopyWarning: \n",
      "A value is trying to be set on a copy of a slice from a DataFrame\n",
      "\n",
      "See the caveats in the documentation: https://pandas.pydata.org/pandas-docs/stable/user_guide/indexing.html#returning-a-view-versus-a-copy\n",
      "  time_serie.drop(columns=['Seller ID', 'Day of Week', 'Last Week', 'Last Month'], inplace=True)\n",
      "C:\\Users\\Miguel Mendes\\AppData\\Local\\Temp\\ipykernel_8516\\2327759639.py:21: SettingWithCopyWarning: \n",
      "A value is trying to be set on a copy of a slice from a DataFrame.\n",
      "Try using .loc[row_indexer,col_indexer] = value instead\n",
      "\n",
      "See the caveats in the documentation: https://pandas.pydata.org/pandas-docs/stable/user_guide/indexing.html#returning-a-view-versus-a-copy\n",
      "  time_serie['Change'] = time_serie['Change'].astype('Int64')\n",
      "C:\\Users\\Miguel Mendes\\AppData\\Local\\Temp\\ipykernel_8516\\2327759639.py:20: SettingWithCopyWarning: \n",
      "A value is trying to be set on a copy of a slice from a DataFrame\n",
      "\n",
      "See the caveats in the documentation: https://pandas.pydata.org/pandas-docs/stable/user_guide/indexing.html#returning-a-view-versus-a-copy\n",
      "  time_serie.drop(columns=['Seller ID', 'Day of Week', 'Last Week', 'Last Month'], inplace=True)\n",
      "C:\\Users\\Miguel Mendes\\AppData\\Local\\Temp\\ipykernel_8516\\2327759639.py:21: SettingWithCopyWarning: \n",
      "A value is trying to be set on a copy of a slice from a DataFrame.\n",
      "Try using .loc[row_indexer,col_indexer] = value instead\n",
      "\n",
      "See the caveats in the documentation: https://pandas.pydata.org/pandas-docs/stable/user_guide/indexing.html#returning-a-view-versus-a-copy\n",
      "  time_serie['Change'] = time_serie['Change'].astype('Int64')\n"
     ]
    },
    {
     "name": "stdout",
     "output_type": "stream",
     "text": [
      "Erro Médio Absoluto (MAE) para Seller ID 100000944: 0.00040468896622769535\n",
      "Processando Seller ID: 100000914\n",
      "Erro Médio Absoluto (MAE) para Seller ID 100000914: 0.019483916461467743\n",
      "Processando Seller ID: 100001248\n"
     ]
    },
    {
     "name": "stderr",
     "output_type": "stream",
     "text": [
      "C:\\Users\\Miguel Mendes\\AppData\\Local\\Temp\\ipykernel_8516\\2327759639.py:20: SettingWithCopyWarning: \n",
      "A value is trying to be set on a copy of a slice from a DataFrame\n",
      "\n",
      "See the caveats in the documentation: https://pandas.pydata.org/pandas-docs/stable/user_guide/indexing.html#returning-a-view-versus-a-copy\n",
      "  time_serie.drop(columns=['Seller ID', 'Day of Week', 'Last Week', 'Last Month'], inplace=True)\n",
      "C:\\Users\\Miguel Mendes\\AppData\\Local\\Temp\\ipykernel_8516\\2327759639.py:21: SettingWithCopyWarning: \n",
      "A value is trying to be set on a copy of a slice from a DataFrame.\n",
      "Try using .loc[row_indexer,col_indexer] = value instead\n",
      "\n",
      "See the caveats in the documentation: https://pandas.pydata.org/pandas-docs/stable/user_guide/indexing.html#returning-a-view-versus-a-copy\n",
      "  time_serie['Change'] = time_serie['Change'].astype('Int64')\n",
      "C:\\Users\\Miguel Mendes\\AppData\\Local\\Temp\\ipykernel_8516\\2327759639.py:20: SettingWithCopyWarning: \n",
      "A value is trying to be set on a copy of a slice from a DataFrame\n",
      "\n",
      "See the caveats in the documentation: https://pandas.pydata.org/pandas-docs/stable/user_guide/indexing.html#returning-a-view-versus-a-copy\n",
      "  time_serie.drop(columns=['Seller ID', 'Day of Week', 'Last Week', 'Last Month'], inplace=True)\n",
      "C:\\Users\\Miguel Mendes\\AppData\\Local\\Temp\\ipykernel_8516\\2327759639.py:21: SettingWithCopyWarning: \n",
      "A value is trying to be set on a copy of a slice from a DataFrame.\n",
      "Try using .loc[row_indexer,col_indexer] = value instead\n",
      "\n",
      "See the caveats in the documentation: https://pandas.pydata.org/pandas-docs/stable/user_guide/indexing.html#returning-a-view-versus-a-copy\n",
      "  time_serie['Change'] = time_serie['Change'].astype('Int64')\n"
     ]
    },
    {
     "name": "stdout",
     "output_type": "stream",
     "text": [
      "Erro Médio Absoluto (MAE) para Seller ID 100001248: 0.023105435073375702\n",
      "Processando Seller ID: 100000601\n",
      "Erro Médio Absoluto (MAE) para Seller ID 100000601: 0.0006501461029984057\n",
      "Processando Seller ID: 100000128\n"
     ]
    },
    {
     "name": "stderr",
     "output_type": "stream",
     "text": [
      "C:\\Users\\Miguel Mendes\\AppData\\Local\\Temp\\ipykernel_8516\\2327759639.py:20: SettingWithCopyWarning: \n",
      "A value is trying to be set on a copy of a slice from a DataFrame\n",
      "\n",
      "See the caveats in the documentation: https://pandas.pydata.org/pandas-docs/stable/user_guide/indexing.html#returning-a-view-versus-a-copy\n",
      "  time_serie.drop(columns=['Seller ID', 'Day of Week', 'Last Week', 'Last Month'], inplace=True)\n",
      "C:\\Users\\Miguel Mendes\\AppData\\Local\\Temp\\ipykernel_8516\\2327759639.py:21: SettingWithCopyWarning: \n",
      "A value is trying to be set on a copy of a slice from a DataFrame.\n",
      "Try using .loc[row_indexer,col_indexer] = value instead\n",
      "\n",
      "See the caveats in the documentation: https://pandas.pydata.org/pandas-docs/stable/user_guide/indexing.html#returning-a-view-versus-a-copy\n",
      "  time_serie['Change'] = time_serie['Change'].astype('Int64')\n",
      "C:\\Users\\Miguel Mendes\\AppData\\Local\\Temp\\ipykernel_8516\\2327759639.py:20: SettingWithCopyWarning: \n",
      "A value is trying to be set on a copy of a slice from a DataFrame\n",
      "\n",
      "See the caveats in the documentation: https://pandas.pydata.org/pandas-docs/stable/user_guide/indexing.html#returning-a-view-versus-a-copy\n",
      "  time_serie.drop(columns=['Seller ID', 'Day of Week', 'Last Week', 'Last Month'], inplace=True)\n",
      "C:\\Users\\Miguel Mendes\\AppData\\Local\\Temp\\ipykernel_8516\\2327759639.py:21: SettingWithCopyWarning: \n",
      "A value is trying to be set on a copy of a slice from a DataFrame.\n",
      "Try using .loc[row_indexer,col_indexer] = value instead\n",
      "\n",
      "See the caveats in the documentation: https://pandas.pydata.org/pandas-docs/stable/user_guide/indexing.html#returning-a-view-versus-a-copy\n",
      "  time_serie['Change'] = time_serie['Change'].astype('Int64')\n"
     ]
    },
    {
     "name": "stdout",
     "output_type": "stream",
     "text": [
      "Erro Médio Absoluto (MAE) para Seller ID 100000128: 0.006308176554739475\n",
      "Processando Seller ID: 100000491\n",
      "Erro Médio Absoluto (MAE) para Seller ID 100000491: 0.0010339607251808047\n",
      "Processando Seller ID: 100001441\n"
     ]
    },
    {
     "name": "stderr",
     "output_type": "stream",
     "text": [
      "C:\\Users\\Miguel Mendes\\AppData\\Local\\Temp\\ipykernel_8516\\2327759639.py:20: SettingWithCopyWarning: \n",
      "A value is trying to be set on a copy of a slice from a DataFrame\n",
      "\n",
      "See the caveats in the documentation: https://pandas.pydata.org/pandas-docs/stable/user_guide/indexing.html#returning-a-view-versus-a-copy\n",
      "  time_serie.drop(columns=['Seller ID', 'Day of Week', 'Last Week', 'Last Month'], inplace=True)\n",
      "C:\\Users\\Miguel Mendes\\AppData\\Local\\Temp\\ipykernel_8516\\2327759639.py:21: SettingWithCopyWarning: \n",
      "A value is trying to be set on a copy of a slice from a DataFrame.\n",
      "Try using .loc[row_indexer,col_indexer] = value instead\n",
      "\n",
      "See the caveats in the documentation: https://pandas.pydata.org/pandas-docs/stable/user_guide/indexing.html#returning-a-view-versus-a-copy\n",
      "  time_serie['Change'] = time_serie['Change'].astype('Int64')\n",
      "C:\\Users\\Miguel Mendes\\AppData\\Local\\Temp\\ipykernel_8516\\2327759639.py:20: SettingWithCopyWarning: \n",
      "A value is trying to be set on a copy of a slice from a DataFrame\n",
      "\n",
      "See the caveats in the documentation: https://pandas.pydata.org/pandas-docs/stable/user_guide/indexing.html#returning-a-view-versus-a-copy\n",
      "  time_serie.drop(columns=['Seller ID', 'Day of Week', 'Last Week', 'Last Month'], inplace=True)\n",
      "C:\\Users\\Miguel Mendes\\AppData\\Local\\Temp\\ipykernel_8516\\2327759639.py:21: SettingWithCopyWarning: \n",
      "A value is trying to be set on a copy of a slice from a DataFrame.\n",
      "Try using .loc[row_indexer,col_indexer] = value instead\n",
      "\n",
      "See the caveats in the documentation: https://pandas.pydata.org/pandas-docs/stable/user_guide/indexing.html#returning-a-view-versus-a-copy\n",
      "  time_serie['Change'] = time_serie['Change'].astype('Int64')\n"
     ]
    },
    {
     "name": "stdout",
     "output_type": "stream",
     "text": [
      "Erro Médio Absoluto (MAE) para Seller ID 100001441: 0.002838426036760211\n",
      "Processando Seller ID: 100000081\n",
      "Erro Médio Absoluto (MAE) para Seller ID 100000081: 0.005487813614308834\n",
      "Processando Seller ID: 100000134\n"
     ]
    },
    {
     "name": "stderr",
     "output_type": "stream",
     "text": [
      "C:\\Users\\Miguel Mendes\\AppData\\Local\\Temp\\ipykernel_8516\\2327759639.py:20: SettingWithCopyWarning: \n",
      "A value is trying to be set on a copy of a slice from a DataFrame\n",
      "\n",
      "See the caveats in the documentation: https://pandas.pydata.org/pandas-docs/stable/user_guide/indexing.html#returning-a-view-versus-a-copy\n",
      "  time_serie.drop(columns=['Seller ID', 'Day of Week', 'Last Week', 'Last Month'], inplace=True)\n",
      "C:\\Users\\Miguel Mendes\\AppData\\Local\\Temp\\ipykernel_8516\\2327759639.py:21: SettingWithCopyWarning: \n",
      "A value is trying to be set on a copy of a slice from a DataFrame.\n",
      "Try using .loc[row_indexer,col_indexer] = value instead\n",
      "\n",
      "See the caveats in the documentation: https://pandas.pydata.org/pandas-docs/stable/user_guide/indexing.html#returning-a-view-versus-a-copy\n",
      "  time_serie['Change'] = time_serie['Change'].astype('Int64')\n",
      "C:\\Users\\Miguel Mendes\\AppData\\Local\\Temp\\ipykernel_8516\\2327759639.py:20: SettingWithCopyWarning: \n",
      "A value is trying to be set on a copy of a slice from a DataFrame\n",
      "\n",
      "See the caveats in the documentation: https://pandas.pydata.org/pandas-docs/stable/user_guide/indexing.html#returning-a-view-versus-a-copy\n",
      "  time_serie.drop(columns=['Seller ID', 'Day of Week', 'Last Week', 'Last Month'], inplace=True)\n",
      "C:\\Users\\Miguel Mendes\\AppData\\Local\\Temp\\ipykernel_8516\\2327759639.py:21: SettingWithCopyWarning: \n",
      "A value is trying to be set on a copy of a slice from a DataFrame.\n",
      "Try using .loc[row_indexer,col_indexer] = value instead\n",
      "\n",
      "See the caveats in the documentation: https://pandas.pydata.org/pandas-docs/stable/user_guide/indexing.html#returning-a-view-versus-a-copy\n",
      "  time_serie['Change'] = time_serie['Change'].astype('Int64')\n"
     ]
    },
    {
     "name": "stdout",
     "output_type": "stream",
     "text": [
      "Erro Médio Absoluto (MAE) para Seller ID 100000134: 0.009374710731208324\n",
      "Processando Seller ID: 100000172\n",
      "Erro Médio Absoluto (MAE) para Seller ID 100000172: 0.00015142116171773523\n",
      "Processando Seller ID: 100000115\n"
     ]
    },
    {
     "name": "stderr",
     "output_type": "stream",
     "text": [
      "C:\\Users\\Miguel Mendes\\AppData\\Local\\Temp\\ipykernel_8516\\2327759639.py:20: SettingWithCopyWarning: \n",
      "A value is trying to be set on a copy of a slice from a DataFrame\n",
      "\n",
      "See the caveats in the documentation: https://pandas.pydata.org/pandas-docs/stable/user_guide/indexing.html#returning-a-view-versus-a-copy\n",
      "  time_serie.drop(columns=['Seller ID', 'Day of Week', 'Last Week', 'Last Month'], inplace=True)\n",
      "C:\\Users\\Miguel Mendes\\AppData\\Local\\Temp\\ipykernel_8516\\2327759639.py:21: SettingWithCopyWarning: \n",
      "A value is trying to be set on a copy of a slice from a DataFrame.\n",
      "Try using .loc[row_indexer,col_indexer] = value instead\n",
      "\n",
      "See the caveats in the documentation: https://pandas.pydata.org/pandas-docs/stable/user_guide/indexing.html#returning-a-view-versus-a-copy\n",
      "  time_serie['Change'] = time_serie['Change'].astype('Int64')\n",
      "C:\\Users\\Miguel Mendes\\AppData\\Local\\Temp\\ipykernel_8516\\2327759639.py:20: SettingWithCopyWarning: \n",
      "A value is trying to be set on a copy of a slice from a DataFrame\n",
      "\n",
      "See the caveats in the documentation: https://pandas.pydata.org/pandas-docs/stable/user_guide/indexing.html#returning-a-view-versus-a-copy\n",
      "  time_serie.drop(columns=['Seller ID', 'Day of Week', 'Last Week', 'Last Month'], inplace=True)\n",
      "C:\\Users\\Miguel Mendes\\AppData\\Local\\Temp\\ipykernel_8516\\2327759639.py:21: SettingWithCopyWarning: \n",
      "A value is trying to be set on a copy of a slice from a DataFrame.\n",
      "Try using .loc[row_indexer,col_indexer] = value instead\n",
      "\n",
      "See the caveats in the documentation: https://pandas.pydata.org/pandas-docs/stable/user_guide/indexing.html#returning-a-view-versus-a-copy\n",
      "  time_serie['Change'] = time_serie['Change'].astype('Int64')\n"
     ]
    },
    {
     "name": "stdout",
     "output_type": "stream",
     "text": [
      "Erro Médio Absoluto (MAE) para Seller ID 100000115: 0.009953134693205357\n",
      "Processando Seller ID: 100000279\n",
      "Erro Médio Absoluto (MAE) para Seller ID 100000279: 0.024187393486499786\n",
      "Processando Seller ID: 100000975\n"
     ]
    },
    {
     "name": "stderr",
     "output_type": "stream",
     "text": [
      "C:\\Users\\Miguel Mendes\\AppData\\Local\\Temp\\ipykernel_8516\\2327759639.py:20: SettingWithCopyWarning: \n",
      "A value is trying to be set on a copy of a slice from a DataFrame\n",
      "\n",
      "See the caveats in the documentation: https://pandas.pydata.org/pandas-docs/stable/user_guide/indexing.html#returning-a-view-versus-a-copy\n",
      "  time_serie.drop(columns=['Seller ID', 'Day of Week', 'Last Week', 'Last Month'], inplace=True)\n",
      "C:\\Users\\Miguel Mendes\\AppData\\Local\\Temp\\ipykernel_8516\\2327759639.py:21: SettingWithCopyWarning: \n",
      "A value is trying to be set on a copy of a slice from a DataFrame.\n",
      "Try using .loc[row_indexer,col_indexer] = value instead\n",
      "\n",
      "See the caveats in the documentation: https://pandas.pydata.org/pandas-docs/stable/user_guide/indexing.html#returning-a-view-versus-a-copy\n",
      "  time_serie['Change'] = time_serie['Change'].astype('Int64')\n",
      "C:\\Users\\Miguel Mendes\\AppData\\Local\\Temp\\ipykernel_8516\\2327759639.py:20: SettingWithCopyWarning: \n",
      "A value is trying to be set on a copy of a slice from a DataFrame\n",
      "\n",
      "See the caveats in the documentation: https://pandas.pydata.org/pandas-docs/stable/user_guide/indexing.html#returning-a-view-versus-a-copy\n",
      "  time_serie.drop(columns=['Seller ID', 'Day of Week', 'Last Week', 'Last Month'], inplace=True)\n",
      "C:\\Users\\Miguel Mendes\\AppData\\Local\\Temp\\ipykernel_8516\\2327759639.py:21: SettingWithCopyWarning: \n",
      "A value is trying to be set on a copy of a slice from a DataFrame.\n",
      "Try using .loc[row_indexer,col_indexer] = value instead\n",
      "\n",
      "See the caveats in the documentation: https://pandas.pydata.org/pandas-docs/stable/user_guide/indexing.html#returning-a-view-versus-a-copy\n",
      "  time_serie['Change'] = time_serie['Change'].astype('Int64')\n"
     ]
    },
    {
     "name": "stdout",
     "output_type": "stream",
     "text": [
      "Erro Médio Absoluto (MAE) para Seller ID 100000975: 0.00011224760237382725\n",
      "Processando Seller ID: 100001757\n",
      "Erro Médio Absoluto (MAE) para Seller ID 100001757: 0.0054907058365643024\n",
      "Processando Seller ID: 100001396\n"
     ]
    },
    {
     "name": "stderr",
     "output_type": "stream",
     "text": [
      "C:\\Users\\Miguel Mendes\\AppData\\Local\\Temp\\ipykernel_8516\\2327759639.py:20: SettingWithCopyWarning: \n",
      "A value is trying to be set on a copy of a slice from a DataFrame\n",
      "\n",
      "See the caveats in the documentation: https://pandas.pydata.org/pandas-docs/stable/user_guide/indexing.html#returning-a-view-versus-a-copy\n",
      "  time_serie.drop(columns=['Seller ID', 'Day of Week', 'Last Week', 'Last Month'], inplace=True)\n",
      "C:\\Users\\Miguel Mendes\\AppData\\Local\\Temp\\ipykernel_8516\\2327759639.py:21: SettingWithCopyWarning: \n",
      "A value is trying to be set on a copy of a slice from a DataFrame.\n",
      "Try using .loc[row_indexer,col_indexer] = value instead\n",
      "\n",
      "See the caveats in the documentation: https://pandas.pydata.org/pandas-docs/stable/user_guide/indexing.html#returning-a-view-versus-a-copy\n",
      "  time_serie['Change'] = time_serie['Change'].astype('Int64')\n",
      "C:\\Users\\Miguel Mendes\\AppData\\Local\\Temp\\ipykernel_8516\\2327759639.py:20: SettingWithCopyWarning: \n",
      "A value is trying to be set on a copy of a slice from a DataFrame\n",
      "\n",
      "See the caveats in the documentation: https://pandas.pydata.org/pandas-docs/stable/user_guide/indexing.html#returning-a-view-versus-a-copy\n",
      "  time_serie.drop(columns=['Seller ID', 'Day of Week', 'Last Week', 'Last Month'], inplace=True)\n",
      "C:\\Users\\Miguel Mendes\\AppData\\Local\\Temp\\ipykernel_8516\\2327759639.py:21: SettingWithCopyWarning: \n",
      "A value is trying to be set on a copy of a slice from a DataFrame.\n",
      "Try using .loc[row_indexer,col_indexer] = value instead\n",
      "\n",
      "See the caveats in the documentation: https://pandas.pydata.org/pandas-docs/stable/user_guide/indexing.html#returning-a-view-versus-a-copy\n",
      "  time_serie['Change'] = time_serie['Change'].astype('Int64')\n"
     ]
    },
    {
     "name": "stdout",
     "output_type": "stream",
     "text": [
      "Erro Médio Absoluto (MAE) para Seller ID 100001396: 0.00519581651315093\n",
      "Processando Seller ID: 100000693\n",
      "Erro Médio Absoluto (MAE) para Seller ID 100000693: 0.039266686886548996\n",
      "Processando Seller ID: 100000709\n"
     ]
    },
    {
     "name": "stderr",
     "output_type": "stream",
     "text": [
      "C:\\Users\\Miguel Mendes\\AppData\\Local\\Temp\\ipykernel_8516\\2327759639.py:20: SettingWithCopyWarning: \n",
      "A value is trying to be set on a copy of a slice from a DataFrame\n",
      "\n",
      "See the caveats in the documentation: https://pandas.pydata.org/pandas-docs/stable/user_guide/indexing.html#returning-a-view-versus-a-copy\n",
      "  time_serie.drop(columns=['Seller ID', 'Day of Week', 'Last Week', 'Last Month'], inplace=True)\n",
      "C:\\Users\\Miguel Mendes\\AppData\\Local\\Temp\\ipykernel_8516\\2327759639.py:21: SettingWithCopyWarning: \n",
      "A value is trying to be set on a copy of a slice from a DataFrame.\n",
      "Try using .loc[row_indexer,col_indexer] = value instead\n",
      "\n",
      "See the caveats in the documentation: https://pandas.pydata.org/pandas-docs/stable/user_guide/indexing.html#returning-a-view-versus-a-copy\n",
      "  time_serie['Change'] = time_serie['Change'].astype('Int64')\n",
      "C:\\Users\\Miguel Mendes\\AppData\\Local\\Temp\\ipykernel_8516\\2327759639.py:20: SettingWithCopyWarning: \n",
      "A value is trying to be set on a copy of a slice from a DataFrame\n",
      "\n",
      "See the caveats in the documentation: https://pandas.pydata.org/pandas-docs/stable/user_guide/indexing.html#returning-a-view-versus-a-copy\n",
      "  time_serie.drop(columns=['Seller ID', 'Day of Week', 'Last Week', 'Last Month'], inplace=True)\n",
      "C:\\Users\\Miguel Mendes\\AppData\\Local\\Temp\\ipykernel_8516\\2327759639.py:21: SettingWithCopyWarning: \n",
      "A value is trying to be set on a copy of a slice from a DataFrame.\n",
      "Try using .loc[row_indexer,col_indexer] = value instead\n",
      "\n",
      "See the caveats in the documentation: https://pandas.pydata.org/pandas-docs/stable/user_guide/indexing.html#returning-a-view-versus-a-copy\n",
      "  time_serie['Change'] = time_serie['Change'].astype('Int64')\n"
     ]
    },
    {
     "name": "stdout",
     "output_type": "stream",
     "text": [
      "Erro Médio Absoluto (MAE) para Seller ID 100000709: 0.006491255480796099\n",
      "Processando Seller ID: 100000179\n",
      "Erro Médio Absoluto (MAE) para Seller ID 100000179: 0.004146367311477661\n",
      "Processando Seller ID: 100001634\n"
     ]
    },
    {
     "name": "stderr",
     "output_type": "stream",
     "text": [
      "C:\\Users\\Miguel Mendes\\AppData\\Local\\Temp\\ipykernel_8516\\2327759639.py:20: SettingWithCopyWarning: \n",
      "A value is trying to be set on a copy of a slice from a DataFrame\n",
      "\n",
      "See the caveats in the documentation: https://pandas.pydata.org/pandas-docs/stable/user_guide/indexing.html#returning-a-view-versus-a-copy\n",
      "  time_serie.drop(columns=['Seller ID', 'Day of Week', 'Last Week', 'Last Month'], inplace=True)\n",
      "C:\\Users\\Miguel Mendes\\AppData\\Local\\Temp\\ipykernel_8516\\2327759639.py:21: SettingWithCopyWarning: \n",
      "A value is trying to be set on a copy of a slice from a DataFrame.\n",
      "Try using .loc[row_indexer,col_indexer] = value instead\n",
      "\n",
      "See the caveats in the documentation: https://pandas.pydata.org/pandas-docs/stable/user_guide/indexing.html#returning-a-view-versus-a-copy\n",
      "  time_serie['Change'] = time_serie['Change'].astype('Int64')\n",
      "C:\\Users\\Miguel Mendes\\AppData\\Local\\Temp\\ipykernel_8516\\2327759639.py:20: SettingWithCopyWarning: \n",
      "A value is trying to be set on a copy of a slice from a DataFrame\n",
      "\n",
      "See the caveats in the documentation: https://pandas.pydata.org/pandas-docs/stable/user_guide/indexing.html#returning-a-view-versus-a-copy\n",
      "  time_serie.drop(columns=['Seller ID', 'Day of Week', 'Last Week', 'Last Month'], inplace=True)\n",
      "C:\\Users\\Miguel Mendes\\AppData\\Local\\Temp\\ipykernel_8516\\2327759639.py:21: SettingWithCopyWarning: \n",
      "A value is trying to be set on a copy of a slice from a DataFrame.\n",
      "Try using .loc[row_indexer,col_indexer] = value instead\n",
      "\n",
      "See the caveats in the documentation: https://pandas.pydata.org/pandas-docs/stable/user_guide/indexing.html#returning-a-view-versus-a-copy\n",
      "  time_serie['Change'] = time_serie['Change'].astype('Int64')\n"
     ]
    },
    {
     "name": "stdout",
     "output_type": "stream",
     "text": [
      "Erro Médio Absoluto (MAE) para Seller ID 100001634: 0.00011273751442786306\n",
      "Processando Seller ID: 100000145\n",
      "Erro Médio Absoluto (MAE) para Seller ID 100000145: 0.024537691846489906\n",
      "Processando Seller ID: 100000425\n"
     ]
    },
    {
     "name": "stderr",
     "output_type": "stream",
     "text": [
      "C:\\Users\\Miguel Mendes\\AppData\\Local\\Temp\\ipykernel_8516\\2327759639.py:20: SettingWithCopyWarning: \n",
      "A value is trying to be set on a copy of a slice from a DataFrame\n",
      "\n",
      "See the caveats in the documentation: https://pandas.pydata.org/pandas-docs/stable/user_guide/indexing.html#returning-a-view-versus-a-copy\n",
      "  time_serie.drop(columns=['Seller ID', 'Day of Week', 'Last Week', 'Last Month'], inplace=True)\n",
      "C:\\Users\\Miguel Mendes\\AppData\\Local\\Temp\\ipykernel_8516\\2327759639.py:21: SettingWithCopyWarning: \n",
      "A value is trying to be set on a copy of a slice from a DataFrame.\n",
      "Try using .loc[row_indexer,col_indexer] = value instead\n",
      "\n",
      "See the caveats in the documentation: https://pandas.pydata.org/pandas-docs/stable/user_guide/indexing.html#returning-a-view-versus-a-copy\n",
      "  time_serie['Change'] = time_serie['Change'].astype('Int64')\n",
      "C:\\Users\\Miguel Mendes\\AppData\\Local\\Temp\\ipykernel_8516\\2327759639.py:20: SettingWithCopyWarning: \n",
      "A value is trying to be set on a copy of a slice from a DataFrame\n",
      "\n",
      "See the caveats in the documentation: https://pandas.pydata.org/pandas-docs/stable/user_guide/indexing.html#returning-a-view-versus-a-copy\n",
      "  time_serie.drop(columns=['Seller ID', 'Day of Week', 'Last Week', 'Last Month'], inplace=True)\n",
      "C:\\Users\\Miguel Mendes\\AppData\\Local\\Temp\\ipykernel_8516\\2327759639.py:21: SettingWithCopyWarning: \n",
      "A value is trying to be set on a copy of a slice from a DataFrame.\n",
      "Try using .loc[row_indexer,col_indexer] = value instead\n",
      "\n",
      "See the caveats in the documentation: https://pandas.pydata.org/pandas-docs/stable/user_guide/indexing.html#returning-a-view-versus-a-copy\n",
      "  time_serie['Change'] = time_serie['Change'].astype('Int64')\n"
     ]
    },
    {
     "name": "stdout",
     "output_type": "stream",
     "text": [
      "Erro Médio Absoluto (MAE) para Seller ID 100000425: 0.0009375488152727485\n",
      "Processando Seller ID: 100001270\n",
      "Erro Médio Absoluto (MAE) para Seller ID 100001270: 0.0039221676997840405\n",
      "Processando Seller ID: 100001129\n"
     ]
    },
    {
     "name": "stderr",
     "output_type": "stream",
     "text": [
      "C:\\Users\\Miguel Mendes\\AppData\\Local\\Temp\\ipykernel_8516\\2327759639.py:20: SettingWithCopyWarning: \n",
      "A value is trying to be set on a copy of a slice from a DataFrame\n",
      "\n",
      "See the caveats in the documentation: https://pandas.pydata.org/pandas-docs/stable/user_guide/indexing.html#returning-a-view-versus-a-copy\n",
      "  time_serie.drop(columns=['Seller ID', 'Day of Week', 'Last Week', 'Last Month'], inplace=True)\n",
      "C:\\Users\\Miguel Mendes\\AppData\\Local\\Temp\\ipykernel_8516\\2327759639.py:21: SettingWithCopyWarning: \n",
      "A value is trying to be set on a copy of a slice from a DataFrame.\n",
      "Try using .loc[row_indexer,col_indexer] = value instead\n",
      "\n",
      "See the caveats in the documentation: https://pandas.pydata.org/pandas-docs/stable/user_guide/indexing.html#returning-a-view-versus-a-copy\n",
      "  time_serie['Change'] = time_serie['Change'].astype('Int64')\n",
      "C:\\Users\\Miguel Mendes\\AppData\\Local\\Temp\\ipykernel_8516\\2327759639.py:20: SettingWithCopyWarning: \n",
      "A value is trying to be set on a copy of a slice from a DataFrame\n",
      "\n",
      "See the caveats in the documentation: https://pandas.pydata.org/pandas-docs/stable/user_guide/indexing.html#returning-a-view-versus-a-copy\n",
      "  time_serie.drop(columns=['Seller ID', 'Day of Week', 'Last Week', 'Last Month'], inplace=True)\n",
      "C:\\Users\\Miguel Mendes\\AppData\\Local\\Temp\\ipykernel_8516\\2327759639.py:21: SettingWithCopyWarning: \n",
      "A value is trying to be set on a copy of a slice from a DataFrame.\n",
      "Try using .loc[row_indexer,col_indexer] = value instead\n",
      "\n",
      "See the caveats in the documentation: https://pandas.pydata.org/pandas-docs/stable/user_guide/indexing.html#returning-a-view-versus-a-copy\n",
      "  time_serie['Change'] = time_serie['Change'].astype('Int64')\n"
     ]
    },
    {
     "name": "stdout",
     "output_type": "stream",
     "text": [
      "Erro Médio Absoluto (MAE) para Seller ID 100001129: 0.07172026485204697\n",
      "Processando Seller ID: 100000092\n",
      "Erro Médio Absoluto (MAE) para Seller ID 100000092: 0.10277286171913147\n",
      "Processando Seller ID: 100000167\n"
     ]
    },
    {
     "name": "stderr",
     "output_type": "stream",
     "text": [
      "C:\\Users\\Miguel Mendes\\AppData\\Local\\Temp\\ipykernel_8516\\2327759639.py:20: SettingWithCopyWarning: \n",
      "A value is trying to be set on a copy of a slice from a DataFrame\n",
      "\n",
      "See the caveats in the documentation: https://pandas.pydata.org/pandas-docs/stable/user_guide/indexing.html#returning-a-view-versus-a-copy\n",
      "  time_serie.drop(columns=['Seller ID', 'Day of Week', 'Last Week', 'Last Month'], inplace=True)\n",
      "C:\\Users\\Miguel Mendes\\AppData\\Local\\Temp\\ipykernel_8516\\2327759639.py:21: SettingWithCopyWarning: \n",
      "A value is trying to be set on a copy of a slice from a DataFrame.\n",
      "Try using .loc[row_indexer,col_indexer] = value instead\n",
      "\n",
      "See the caveats in the documentation: https://pandas.pydata.org/pandas-docs/stable/user_guide/indexing.html#returning-a-view-versus-a-copy\n",
      "  time_serie['Change'] = time_serie['Change'].astype('Int64')\n",
      "C:\\Users\\Miguel Mendes\\AppData\\Local\\Temp\\ipykernel_8516\\2327759639.py:20: SettingWithCopyWarning: \n",
      "A value is trying to be set on a copy of a slice from a DataFrame\n",
      "\n",
      "See the caveats in the documentation: https://pandas.pydata.org/pandas-docs/stable/user_guide/indexing.html#returning-a-view-versus-a-copy\n",
      "  time_serie.drop(columns=['Seller ID', 'Day of Week', 'Last Week', 'Last Month'], inplace=True)\n",
      "C:\\Users\\Miguel Mendes\\AppData\\Local\\Temp\\ipykernel_8516\\2327759639.py:21: SettingWithCopyWarning: \n",
      "A value is trying to be set on a copy of a slice from a DataFrame.\n",
      "Try using .loc[row_indexer,col_indexer] = value instead\n",
      "\n",
      "See the caveats in the documentation: https://pandas.pydata.org/pandas-docs/stable/user_guide/indexing.html#returning-a-view-versus-a-copy\n",
      "  time_serie['Change'] = time_serie['Change'].astype('Int64')\n"
     ]
    },
    {
     "name": "stdout",
     "output_type": "stream",
     "text": [
      "Erro Médio Absoluto (MAE) para Seller ID 100000167: 2.8170790756121278e-05\n",
      "Processando Seller ID: 100000820\n",
      "Erro Médio Absoluto (MAE) para Seller ID 100000820: 0.004830581601709127\n",
      "Processando Seller ID: 100001423\n"
     ]
    },
    {
     "name": "stderr",
     "output_type": "stream",
     "text": [
      "C:\\Users\\Miguel Mendes\\AppData\\Local\\Temp\\ipykernel_8516\\2327759639.py:20: SettingWithCopyWarning: \n",
      "A value is trying to be set on a copy of a slice from a DataFrame\n",
      "\n",
      "See the caveats in the documentation: https://pandas.pydata.org/pandas-docs/stable/user_guide/indexing.html#returning-a-view-versus-a-copy\n",
      "  time_serie.drop(columns=['Seller ID', 'Day of Week', 'Last Week', 'Last Month'], inplace=True)\n",
      "C:\\Users\\Miguel Mendes\\AppData\\Local\\Temp\\ipykernel_8516\\2327759639.py:21: SettingWithCopyWarning: \n",
      "A value is trying to be set on a copy of a slice from a DataFrame.\n",
      "Try using .loc[row_indexer,col_indexer] = value instead\n",
      "\n",
      "See the caveats in the documentation: https://pandas.pydata.org/pandas-docs/stable/user_guide/indexing.html#returning-a-view-versus-a-copy\n",
      "  time_serie['Change'] = time_serie['Change'].astype('Int64')\n",
      "C:\\Users\\Miguel Mendes\\AppData\\Local\\Temp\\ipykernel_8516\\2327759639.py:20: SettingWithCopyWarning: \n",
      "A value is trying to be set on a copy of a slice from a DataFrame\n",
      "\n",
      "See the caveats in the documentation: https://pandas.pydata.org/pandas-docs/stable/user_guide/indexing.html#returning-a-view-versus-a-copy\n",
      "  time_serie.drop(columns=['Seller ID', 'Day of Week', 'Last Week', 'Last Month'], inplace=True)\n",
      "C:\\Users\\Miguel Mendes\\AppData\\Local\\Temp\\ipykernel_8516\\2327759639.py:21: SettingWithCopyWarning: \n",
      "A value is trying to be set on a copy of a slice from a DataFrame.\n",
      "Try using .loc[row_indexer,col_indexer] = value instead\n",
      "\n",
      "See the caveats in the documentation: https://pandas.pydata.org/pandas-docs/stable/user_guide/indexing.html#returning-a-view-versus-a-copy\n",
      "  time_serie['Change'] = time_serie['Change'].astype('Int64')\n"
     ]
    },
    {
     "name": "stdout",
     "output_type": "stream",
     "text": [
      "Erro Médio Absoluto (MAE) para Seller ID 100001423: 0.004826204385608435\n",
      "Processando Seller ID: 100000197\n"
     ]
    },
    {
     "name": "stderr",
     "output_type": "stream",
     "text": [
      "C:\\Users\\Miguel Mendes\\AppData\\Local\\Temp\\ipykernel_8516\\2327759639.py:20: SettingWithCopyWarning: \n",
      "A value is trying to be set on a copy of a slice from a DataFrame\n",
      "\n",
      "See the caveats in the documentation: https://pandas.pydata.org/pandas-docs/stable/user_guide/indexing.html#returning-a-view-versus-a-copy\n",
      "  time_serie.drop(columns=['Seller ID', 'Day of Week', 'Last Week', 'Last Month'], inplace=True)\n",
      "C:\\Users\\Miguel Mendes\\AppData\\Local\\Temp\\ipykernel_8516\\2327759639.py:21: SettingWithCopyWarning: \n",
      "A value is trying to be set on a copy of a slice from a DataFrame.\n",
      "Try using .loc[row_indexer,col_indexer] = value instead\n",
      "\n",
      "See the caveats in the documentation: https://pandas.pydata.org/pandas-docs/stable/user_guide/indexing.html#returning-a-view-versus-a-copy\n",
      "  time_serie['Change'] = time_serie['Change'].astype('Int64')\n"
     ]
    },
    {
     "name": "stdout",
     "output_type": "stream",
     "text": [
      "Erro Médio Absoluto (MAE) para Seller ID 100000197: 0.0054244548082351685\n",
      "Processando Seller ID: 100001084\n"
     ]
    },
    {
     "name": "stderr",
     "output_type": "stream",
     "text": [
      "C:\\Users\\Miguel Mendes\\AppData\\Local\\Temp\\ipykernel_8516\\2327759639.py:20: SettingWithCopyWarning: \n",
      "A value is trying to be set on a copy of a slice from a DataFrame\n",
      "\n",
      "See the caveats in the documentation: https://pandas.pydata.org/pandas-docs/stable/user_guide/indexing.html#returning-a-view-versus-a-copy\n",
      "  time_serie.drop(columns=['Seller ID', 'Day of Week', 'Last Week', 'Last Month'], inplace=True)\n",
      "C:\\Users\\Miguel Mendes\\AppData\\Local\\Temp\\ipykernel_8516\\2327759639.py:21: SettingWithCopyWarning: \n",
      "A value is trying to be set on a copy of a slice from a DataFrame.\n",
      "Try using .loc[row_indexer,col_indexer] = value instead\n",
      "\n",
      "See the caveats in the documentation: https://pandas.pydata.org/pandas-docs/stable/user_guide/indexing.html#returning-a-view-versus-a-copy\n",
      "  time_serie['Change'] = time_serie['Change'].astype('Int64')\n"
     ]
    },
    {
     "name": "stdout",
     "output_type": "stream",
     "text": [
      "Erro Médio Absoluto (MAE) para Seller ID 100001084: 0.029831543564796448\n",
      "Processando Seller ID: 100000434\n"
     ]
    },
    {
     "name": "stderr",
     "output_type": "stream",
     "text": [
      "C:\\Users\\Miguel Mendes\\AppData\\Local\\Temp\\ipykernel_8516\\2327759639.py:20: SettingWithCopyWarning: \n",
      "A value is trying to be set on a copy of a slice from a DataFrame\n",
      "\n",
      "See the caveats in the documentation: https://pandas.pydata.org/pandas-docs/stable/user_guide/indexing.html#returning-a-view-versus-a-copy\n",
      "  time_serie.drop(columns=['Seller ID', 'Day of Week', 'Last Week', 'Last Month'], inplace=True)\n",
      "C:\\Users\\Miguel Mendes\\AppData\\Local\\Temp\\ipykernel_8516\\2327759639.py:21: SettingWithCopyWarning: \n",
      "A value is trying to be set on a copy of a slice from a DataFrame.\n",
      "Try using .loc[row_indexer,col_indexer] = value instead\n",
      "\n",
      "See the caveats in the documentation: https://pandas.pydata.org/pandas-docs/stable/user_guide/indexing.html#returning-a-view-versus-a-copy\n",
      "  time_serie['Change'] = time_serie['Change'].astype('Int64')\n"
     ]
    },
    {
     "name": "stdout",
     "output_type": "stream",
     "text": [
      "Erro Médio Absoluto (MAE) para Seller ID 100000434: 0.009553609415888786\n",
      "Processando Seller ID: 100001056\n"
     ]
    },
    {
     "name": "stderr",
     "output_type": "stream",
     "text": [
      "C:\\Users\\Miguel Mendes\\AppData\\Local\\Temp\\ipykernel_8516\\2327759639.py:20: SettingWithCopyWarning: \n",
      "A value is trying to be set on a copy of a slice from a DataFrame\n",
      "\n",
      "See the caveats in the documentation: https://pandas.pydata.org/pandas-docs/stable/user_guide/indexing.html#returning-a-view-versus-a-copy\n",
      "  time_serie.drop(columns=['Seller ID', 'Day of Week', 'Last Week', 'Last Month'], inplace=True)\n",
      "C:\\Users\\Miguel Mendes\\AppData\\Local\\Temp\\ipykernel_8516\\2327759639.py:21: SettingWithCopyWarning: \n",
      "A value is trying to be set on a copy of a slice from a DataFrame.\n",
      "Try using .loc[row_indexer,col_indexer] = value instead\n",
      "\n",
      "See the caveats in the documentation: https://pandas.pydata.org/pandas-docs/stable/user_guide/indexing.html#returning-a-view-versus-a-copy\n",
      "  time_serie['Change'] = time_serie['Change'].astype('Int64')\n"
     ]
    },
    {
     "name": "stdout",
     "output_type": "stream",
     "text": [
      "Erro Médio Absoluto (MAE) para Seller ID 100001056: 0.023674873635172844\n",
      "Processando Seller ID: 100000995\n",
      "Erro Médio Absoluto (MAE) para Seller ID 100000995: 0.012002034112811089\n",
      "Processando Seller ID: 100001617\n"
     ]
    },
    {
     "name": "stderr",
     "output_type": "stream",
     "text": [
      "C:\\Users\\Miguel Mendes\\AppData\\Local\\Temp\\ipykernel_8516\\2327759639.py:20: SettingWithCopyWarning: \n",
      "A value is trying to be set on a copy of a slice from a DataFrame\n",
      "\n",
      "See the caveats in the documentation: https://pandas.pydata.org/pandas-docs/stable/user_guide/indexing.html#returning-a-view-versus-a-copy\n",
      "  time_serie.drop(columns=['Seller ID', 'Day of Week', 'Last Week', 'Last Month'], inplace=True)\n",
      "C:\\Users\\Miguel Mendes\\AppData\\Local\\Temp\\ipykernel_8516\\2327759639.py:21: SettingWithCopyWarning: \n",
      "A value is trying to be set on a copy of a slice from a DataFrame.\n",
      "Try using .loc[row_indexer,col_indexer] = value instead\n",
      "\n",
      "See the caveats in the documentation: https://pandas.pydata.org/pandas-docs/stable/user_guide/indexing.html#returning-a-view-versus-a-copy\n",
      "  time_serie['Change'] = time_serie['Change'].astype('Int64')\n",
      "C:\\Users\\Miguel Mendes\\AppData\\Local\\Temp\\ipykernel_8516\\2327759639.py:20: SettingWithCopyWarning: \n",
      "A value is trying to be set on a copy of a slice from a DataFrame\n",
      "\n",
      "See the caveats in the documentation: https://pandas.pydata.org/pandas-docs/stable/user_guide/indexing.html#returning-a-view-versus-a-copy\n",
      "  time_serie.drop(columns=['Seller ID', 'Day of Week', 'Last Week', 'Last Month'], inplace=True)\n",
      "C:\\Users\\Miguel Mendes\\AppData\\Local\\Temp\\ipykernel_8516\\2327759639.py:21: SettingWithCopyWarning: \n",
      "A value is trying to be set on a copy of a slice from a DataFrame.\n",
      "Try using .loc[row_indexer,col_indexer] = value instead\n",
      "\n",
      "See the caveats in the documentation: https://pandas.pydata.org/pandas-docs/stable/user_guide/indexing.html#returning-a-view-versus-a-copy\n",
      "  time_serie['Change'] = time_serie['Change'].astype('Int64')\n"
     ]
    },
    {
     "name": "stdout",
     "output_type": "stream",
     "text": [
      "Erro Médio Absoluto (MAE) para Seller ID 100001617: 0.007745628245174885\n",
      "Processando Seller ID: 100001055\n",
      "Erro Médio Absoluto (MAE) para Seller ID 100001055: 0.01566494069993496\n",
      "Processando Seller ID: 100001049\n"
     ]
    },
    {
     "name": "stderr",
     "output_type": "stream",
     "text": [
      "C:\\Users\\Miguel Mendes\\AppData\\Local\\Temp\\ipykernel_8516\\2327759639.py:20: SettingWithCopyWarning: \n",
      "A value is trying to be set on a copy of a slice from a DataFrame\n",
      "\n",
      "See the caveats in the documentation: https://pandas.pydata.org/pandas-docs/stable/user_guide/indexing.html#returning-a-view-versus-a-copy\n",
      "  time_serie.drop(columns=['Seller ID', 'Day of Week', 'Last Week', 'Last Month'], inplace=True)\n",
      "C:\\Users\\Miguel Mendes\\AppData\\Local\\Temp\\ipykernel_8516\\2327759639.py:21: SettingWithCopyWarning: \n",
      "A value is trying to be set on a copy of a slice from a DataFrame.\n",
      "Try using .loc[row_indexer,col_indexer] = value instead\n",
      "\n",
      "See the caveats in the documentation: https://pandas.pydata.org/pandas-docs/stable/user_guide/indexing.html#returning-a-view-versus-a-copy\n",
      "  time_serie['Change'] = time_serie['Change'].astype('Int64')\n",
      "C:\\Users\\Miguel Mendes\\AppData\\Local\\Temp\\ipykernel_8516\\2327759639.py:20: SettingWithCopyWarning: \n",
      "A value is trying to be set on a copy of a slice from a DataFrame\n",
      "\n",
      "See the caveats in the documentation: https://pandas.pydata.org/pandas-docs/stable/user_guide/indexing.html#returning-a-view-versus-a-copy\n",
      "  time_serie.drop(columns=['Seller ID', 'Day of Week', 'Last Week', 'Last Month'], inplace=True)\n",
      "C:\\Users\\Miguel Mendes\\AppData\\Local\\Temp\\ipykernel_8516\\2327759639.py:21: SettingWithCopyWarning: \n",
      "A value is trying to be set on a copy of a slice from a DataFrame.\n",
      "Try using .loc[row_indexer,col_indexer] = value instead\n",
      "\n",
      "See the caveats in the documentation: https://pandas.pydata.org/pandas-docs/stable/user_guide/indexing.html#returning-a-view-versus-a-copy\n",
      "  time_serie['Change'] = time_serie['Change'].astype('Int64')\n"
     ]
    },
    {
     "name": "stdout",
     "output_type": "stream",
     "text": [
      "Erro Médio Absoluto (MAE) para Seller ID 100001049: 0.01107740867882967\n",
      "Processando Seller ID: 100001439\n",
      "Erro Médio Absoluto (MAE) para Seller ID 100001439: 0.0038273532409220934\n",
      "Processando Seller ID: 100001163\n"
     ]
    },
    {
     "name": "stderr",
     "output_type": "stream",
     "text": [
      "C:\\Users\\Miguel Mendes\\AppData\\Local\\Temp\\ipykernel_8516\\2327759639.py:20: SettingWithCopyWarning: \n",
      "A value is trying to be set on a copy of a slice from a DataFrame\n",
      "\n",
      "See the caveats in the documentation: https://pandas.pydata.org/pandas-docs/stable/user_guide/indexing.html#returning-a-view-versus-a-copy\n",
      "  time_serie.drop(columns=['Seller ID', 'Day of Week', 'Last Week', 'Last Month'], inplace=True)\n",
      "C:\\Users\\Miguel Mendes\\AppData\\Local\\Temp\\ipykernel_8516\\2327759639.py:21: SettingWithCopyWarning: \n",
      "A value is trying to be set on a copy of a slice from a DataFrame.\n",
      "Try using .loc[row_indexer,col_indexer] = value instead\n",
      "\n",
      "See the caveats in the documentation: https://pandas.pydata.org/pandas-docs/stable/user_guide/indexing.html#returning-a-view-versus-a-copy\n",
      "  time_serie['Change'] = time_serie['Change'].astype('Int64')\n",
      "C:\\Users\\Miguel Mendes\\AppData\\Local\\Temp\\ipykernel_8516\\2327759639.py:20: SettingWithCopyWarning: \n",
      "A value is trying to be set on a copy of a slice from a DataFrame\n",
      "\n",
      "See the caveats in the documentation: https://pandas.pydata.org/pandas-docs/stable/user_guide/indexing.html#returning-a-view-versus-a-copy\n",
      "  time_serie.drop(columns=['Seller ID', 'Day of Week', 'Last Week', 'Last Month'], inplace=True)\n",
      "C:\\Users\\Miguel Mendes\\AppData\\Local\\Temp\\ipykernel_8516\\2327759639.py:21: SettingWithCopyWarning: \n",
      "A value is trying to be set on a copy of a slice from a DataFrame.\n",
      "Try using .loc[row_indexer,col_indexer] = value instead\n",
      "\n",
      "See the caveats in the documentation: https://pandas.pydata.org/pandas-docs/stable/user_guide/indexing.html#returning-a-view-versus-a-copy\n",
      "  time_serie['Change'] = time_serie['Change'].astype('Int64')\n"
     ]
    },
    {
     "name": "stdout",
     "output_type": "stream",
     "text": [
      "Erro Médio Absoluto (MAE) para Seller ID 100001163: 0.0012873313389718533\n",
      "Processando Seller ID: 100001621\n",
      "Erro Médio Absoluto (MAE) para Seller ID 100001621: 0.0024755585473030806\n",
      "Processando Seller ID: 100000797\n"
     ]
    },
    {
     "name": "stderr",
     "output_type": "stream",
     "text": [
      "C:\\Users\\Miguel Mendes\\AppData\\Local\\Temp\\ipykernel_8516\\2327759639.py:20: SettingWithCopyWarning: \n",
      "A value is trying to be set on a copy of a slice from a DataFrame\n",
      "\n",
      "See the caveats in the documentation: https://pandas.pydata.org/pandas-docs/stable/user_guide/indexing.html#returning-a-view-versus-a-copy\n",
      "  time_serie.drop(columns=['Seller ID', 'Day of Week', 'Last Week', 'Last Month'], inplace=True)\n",
      "C:\\Users\\Miguel Mendes\\AppData\\Local\\Temp\\ipykernel_8516\\2327759639.py:21: SettingWithCopyWarning: \n",
      "A value is trying to be set on a copy of a slice from a DataFrame.\n",
      "Try using .loc[row_indexer,col_indexer] = value instead\n",
      "\n",
      "See the caveats in the documentation: https://pandas.pydata.org/pandas-docs/stable/user_guide/indexing.html#returning-a-view-versus-a-copy\n",
      "  time_serie['Change'] = time_serie['Change'].astype('Int64')\n",
      "C:\\Users\\Miguel Mendes\\AppData\\Local\\Temp\\ipykernel_8516\\2327759639.py:20: SettingWithCopyWarning: \n",
      "A value is trying to be set on a copy of a slice from a DataFrame\n",
      "\n",
      "See the caveats in the documentation: https://pandas.pydata.org/pandas-docs/stable/user_guide/indexing.html#returning-a-view-versus-a-copy\n",
      "  time_serie.drop(columns=['Seller ID', 'Day of Week', 'Last Week', 'Last Month'], inplace=True)\n",
      "C:\\Users\\Miguel Mendes\\AppData\\Local\\Temp\\ipykernel_8516\\2327759639.py:21: SettingWithCopyWarning: \n",
      "A value is trying to be set on a copy of a slice from a DataFrame.\n",
      "Try using .loc[row_indexer,col_indexer] = value instead\n",
      "\n",
      "See the caveats in the documentation: https://pandas.pydata.org/pandas-docs/stable/user_guide/indexing.html#returning-a-view-versus-a-copy\n",
      "  time_serie['Change'] = time_serie['Change'].astype('Int64')\n"
     ]
    },
    {
     "name": "stdout",
     "output_type": "stream",
     "text": [
      "Erro Médio Absoluto (MAE) para Seller ID 100000797: 0.002194234635680914\n",
      "Processando Seller ID: 100000710\n",
      "Erro Médio Absoluto (MAE) para Seller ID 100000710: 0.004961870145052671\n",
      "Processando Seller ID: 100001185\n"
     ]
    },
    {
     "name": "stderr",
     "output_type": "stream",
     "text": [
      "C:\\Users\\Miguel Mendes\\AppData\\Local\\Temp\\ipykernel_8516\\2327759639.py:20: SettingWithCopyWarning: \n",
      "A value is trying to be set on a copy of a slice from a DataFrame\n",
      "\n",
      "See the caveats in the documentation: https://pandas.pydata.org/pandas-docs/stable/user_guide/indexing.html#returning-a-view-versus-a-copy\n",
      "  time_serie.drop(columns=['Seller ID', 'Day of Week', 'Last Week', 'Last Month'], inplace=True)\n",
      "C:\\Users\\Miguel Mendes\\AppData\\Local\\Temp\\ipykernel_8516\\2327759639.py:21: SettingWithCopyWarning: \n",
      "A value is trying to be set on a copy of a slice from a DataFrame.\n",
      "Try using .loc[row_indexer,col_indexer] = value instead\n",
      "\n",
      "See the caveats in the documentation: https://pandas.pydata.org/pandas-docs/stable/user_guide/indexing.html#returning-a-view-versus-a-copy\n",
      "  time_serie['Change'] = time_serie['Change'].astype('Int64')\n",
      "C:\\Users\\Miguel Mendes\\AppData\\Local\\Temp\\ipykernel_8516\\2327759639.py:20: SettingWithCopyWarning: \n",
      "A value is trying to be set on a copy of a slice from a DataFrame\n",
      "\n",
      "See the caveats in the documentation: https://pandas.pydata.org/pandas-docs/stable/user_guide/indexing.html#returning-a-view-versus-a-copy\n",
      "  time_serie.drop(columns=['Seller ID', 'Day of Week', 'Last Week', 'Last Month'], inplace=True)\n",
      "C:\\Users\\Miguel Mendes\\AppData\\Local\\Temp\\ipykernel_8516\\2327759639.py:21: SettingWithCopyWarning: \n",
      "A value is trying to be set on a copy of a slice from a DataFrame.\n",
      "Try using .loc[row_indexer,col_indexer] = value instead\n",
      "\n",
      "See the caveats in the documentation: https://pandas.pydata.org/pandas-docs/stable/user_guide/indexing.html#returning-a-view-versus-a-copy\n",
      "  time_serie['Change'] = time_serie['Change'].astype('Int64')\n"
     ]
    },
    {
     "name": "stdout",
     "output_type": "stream",
     "text": [
      "Erro Médio Absoluto (MAE) para Seller ID 100001185: 0.003974302671849728\n",
      "Processando Seller ID: 100000146\n",
      "Erro Médio Absoluto (MAE) para Seller ID 100000146: 0.0013557702768594027\n",
      "Processando Seller ID: 100000492\n"
     ]
    },
    {
     "name": "stderr",
     "output_type": "stream",
     "text": [
      "C:\\Users\\Miguel Mendes\\AppData\\Local\\Temp\\ipykernel_8516\\2327759639.py:20: SettingWithCopyWarning: \n",
      "A value is trying to be set on a copy of a slice from a DataFrame\n",
      "\n",
      "See the caveats in the documentation: https://pandas.pydata.org/pandas-docs/stable/user_guide/indexing.html#returning-a-view-versus-a-copy\n",
      "  time_serie.drop(columns=['Seller ID', 'Day of Week', 'Last Week', 'Last Month'], inplace=True)\n",
      "C:\\Users\\Miguel Mendes\\AppData\\Local\\Temp\\ipykernel_8516\\2327759639.py:21: SettingWithCopyWarning: \n",
      "A value is trying to be set on a copy of a slice from a DataFrame.\n",
      "Try using .loc[row_indexer,col_indexer] = value instead\n",
      "\n",
      "See the caveats in the documentation: https://pandas.pydata.org/pandas-docs/stable/user_guide/indexing.html#returning-a-view-versus-a-copy\n",
      "  time_serie['Change'] = time_serie['Change'].astype('Int64')\n",
      "C:\\Users\\Miguel Mendes\\AppData\\Local\\Temp\\ipykernel_8516\\2327759639.py:20: SettingWithCopyWarning: \n",
      "A value is trying to be set on a copy of a slice from a DataFrame\n",
      "\n",
      "See the caveats in the documentation: https://pandas.pydata.org/pandas-docs/stable/user_guide/indexing.html#returning-a-view-versus-a-copy\n",
      "  time_serie.drop(columns=['Seller ID', 'Day of Week', 'Last Week', 'Last Month'], inplace=True)\n",
      "C:\\Users\\Miguel Mendes\\AppData\\Local\\Temp\\ipykernel_8516\\2327759639.py:21: SettingWithCopyWarning: \n",
      "A value is trying to be set on a copy of a slice from a DataFrame.\n",
      "Try using .loc[row_indexer,col_indexer] = value instead\n",
      "\n",
      "See the caveats in the documentation: https://pandas.pydata.org/pandas-docs/stable/user_guide/indexing.html#returning-a-view-versus-a-copy\n",
      "  time_serie['Change'] = time_serie['Change'].astype('Int64')\n"
     ]
    },
    {
     "name": "stdout",
     "output_type": "stream",
     "text": [
      "Erro Médio Absoluto (MAE) para Seller ID 100000492: 0.04509613662958145\n",
      "Processando Seller ID: 100000942\n",
      "Erro Médio Absoluto (MAE) para Seller ID 100000942: 0.007745695766061544\n",
      "Processando Seller ID: 100000054\n"
     ]
    },
    {
     "name": "stderr",
     "output_type": "stream",
     "text": [
      "C:\\Users\\Miguel Mendes\\AppData\\Local\\Temp\\ipykernel_8516\\2327759639.py:20: SettingWithCopyWarning: \n",
      "A value is trying to be set on a copy of a slice from a DataFrame\n",
      "\n",
      "See the caveats in the documentation: https://pandas.pydata.org/pandas-docs/stable/user_guide/indexing.html#returning-a-view-versus-a-copy\n",
      "  time_serie.drop(columns=['Seller ID', 'Day of Week', 'Last Week', 'Last Month'], inplace=True)\n",
      "C:\\Users\\Miguel Mendes\\AppData\\Local\\Temp\\ipykernel_8516\\2327759639.py:21: SettingWithCopyWarning: \n",
      "A value is trying to be set on a copy of a slice from a DataFrame.\n",
      "Try using .loc[row_indexer,col_indexer] = value instead\n",
      "\n",
      "See the caveats in the documentation: https://pandas.pydata.org/pandas-docs/stable/user_guide/indexing.html#returning-a-view-versus-a-copy\n",
      "  time_serie['Change'] = time_serie['Change'].astype('Int64')\n",
      "C:\\Users\\Miguel Mendes\\AppData\\Local\\Temp\\ipykernel_8516\\2327759639.py:20: SettingWithCopyWarning: \n",
      "A value is trying to be set on a copy of a slice from a DataFrame\n",
      "\n",
      "See the caveats in the documentation: https://pandas.pydata.org/pandas-docs/stable/user_guide/indexing.html#returning-a-view-versus-a-copy\n",
      "  time_serie.drop(columns=['Seller ID', 'Day of Week', 'Last Week', 'Last Month'], inplace=True)\n",
      "C:\\Users\\Miguel Mendes\\AppData\\Local\\Temp\\ipykernel_8516\\2327759639.py:21: SettingWithCopyWarning: \n",
      "A value is trying to be set on a copy of a slice from a DataFrame.\n",
      "Try using .loc[row_indexer,col_indexer] = value instead\n",
      "\n",
      "See the caveats in the documentation: https://pandas.pydata.org/pandas-docs/stable/user_guide/indexing.html#returning-a-view-versus-a-copy\n",
      "  time_serie['Change'] = time_serie['Change'].astype('Int64')\n"
     ]
    },
    {
     "name": "stdout",
     "output_type": "stream",
     "text": [
      "Erro Médio Absoluto (MAE) para Seller ID 100000054: 0.004786465782672167\n",
      "Processando Seller ID: 100000229\n",
      "Erro Médio Absoluto (MAE) para Seller ID 100000229: 0.001728713745251298\n",
      "Processando Seller ID: 100000374\n"
     ]
    },
    {
     "name": "stderr",
     "output_type": "stream",
     "text": [
      "C:\\Users\\Miguel Mendes\\AppData\\Local\\Temp\\ipykernel_8516\\2327759639.py:20: SettingWithCopyWarning: \n",
      "A value is trying to be set on a copy of a slice from a DataFrame\n",
      "\n",
      "See the caveats in the documentation: https://pandas.pydata.org/pandas-docs/stable/user_guide/indexing.html#returning-a-view-versus-a-copy\n",
      "  time_serie.drop(columns=['Seller ID', 'Day of Week', 'Last Week', 'Last Month'], inplace=True)\n",
      "C:\\Users\\Miguel Mendes\\AppData\\Local\\Temp\\ipykernel_8516\\2327759639.py:21: SettingWithCopyWarning: \n",
      "A value is trying to be set on a copy of a slice from a DataFrame.\n",
      "Try using .loc[row_indexer,col_indexer] = value instead\n",
      "\n",
      "See the caveats in the documentation: https://pandas.pydata.org/pandas-docs/stable/user_guide/indexing.html#returning-a-view-versus-a-copy\n",
      "  time_serie['Change'] = time_serie['Change'].astype('Int64')\n",
      "C:\\Users\\Miguel Mendes\\AppData\\Local\\Temp\\ipykernel_8516\\2327759639.py:20: SettingWithCopyWarning: \n",
      "A value is trying to be set on a copy of a slice from a DataFrame\n",
      "\n",
      "See the caveats in the documentation: https://pandas.pydata.org/pandas-docs/stable/user_guide/indexing.html#returning-a-view-versus-a-copy\n",
      "  time_serie.drop(columns=['Seller ID', 'Day of Week', 'Last Week', 'Last Month'], inplace=True)\n",
      "C:\\Users\\Miguel Mendes\\AppData\\Local\\Temp\\ipykernel_8516\\2327759639.py:21: SettingWithCopyWarning: \n",
      "A value is trying to be set on a copy of a slice from a DataFrame.\n",
      "Try using .loc[row_indexer,col_indexer] = value instead\n",
      "\n",
      "See the caveats in the documentation: https://pandas.pydata.org/pandas-docs/stable/user_guide/indexing.html#returning-a-view-versus-a-copy\n",
      "  time_serie['Change'] = time_serie['Change'].astype('Int64')\n"
     ]
    },
    {
     "name": "stdout",
     "output_type": "stream",
     "text": [
      "Erro Médio Absoluto (MAE) para Seller ID 100000374: 0.0006248383433558047\n",
      "Processando Seller ID: 100000212\n",
      "Erro Médio Absoluto (MAE) para Seller ID 100000212: 9.038631105795503e-05\n",
      "Processando Seller ID: 100000015\n"
     ]
    },
    {
     "name": "stderr",
     "output_type": "stream",
     "text": [
      "C:\\Users\\Miguel Mendes\\AppData\\Local\\Temp\\ipykernel_8516\\2327759639.py:20: SettingWithCopyWarning: \n",
      "A value is trying to be set on a copy of a slice from a DataFrame\n",
      "\n",
      "See the caveats in the documentation: https://pandas.pydata.org/pandas-docs/stable/user_guide/indexing.html#returning-a-view-versus-a-copy\n",
      "  time_serie.drop(columns=['Seller ID', 'Day of Week', 'Last Week', 'Last Month'], inplace=True)\n",
      "C:\\Users\\Miguel Mendes\\AppData\\Local\\Temp\\ipykernel_8516\\2327759639.py:21: SettingWithCopyWarning: \n",
      "A value is trying to be set on a copy of a slice from a DataFrame.\n",
      "Try using .loc[row_indexer,col_indexer] = value instead\n",
      "\n",
      "See the caveats in the documentation: https://pandas.pydata.org/pandas-docs/stable/user_guide/indexing.html#returning-a-view-versus-a-copy\n",
      "  time_serie['Change'] = time_serie['Change'].astype('Int64')\n",
      "C:\\Users\\Miguel Mendes\\AppData\\Local\\Temp\\ipykernel_8516\\2327759639.py:20: SettingWithCopyWarning: \n",
      "A value is trying to be set on a copy of a slice from a DataFrame\n",
      "\n",
      "See the caveats in the documentation: https://pandas.pydata.org/pandas-docs/stable/user_guide/indexing.html#returning-a-view-versus-a-copy\n",
      "  time_serie.drop(columns=['Seller ID', 'Day of Week', 'Last Week', 'Last Month'], inplace=True)\n",
      "C:\\Users\\Miguel Mendes\\AppData\\Local\\Temp\\ipykernel_8516\\2327759639.py:21: SettingWithCopyWarning: \n",
      "A value is trying to be set on a copy of a slice from a DataFrame.\n",
      "Try using .loc[row_indexer,col_indexer] = value instead\n",
      "\n",
      "See the caveats in the documentation: https://pandas.pydata.org/pandas-docs/stable/user_guide/indexing.html#returning-a-view-versus-a-copy\n",
      "  time_serie['Change'] = time_serie['Change'].astype('Int64')\n"
     ]
    },
    {
     "name": "stdout",
     "output_type": "stream",
     "text": [
      "Erro Médio Absoluto (MAE) para Seller ID 100000015: 0.011515842750668526\n",
      "Processando Seller ID: 100000799\n",
      "Erro Médio Absoluto (MAE) para Seller ID 100000799: 0.00438320729881525\n",
      "Processando Seller ID: 100000882\n"
     ]
    },
    {
     "name": "stderr",
     "output_type": "stream",
     "text": [
      "C:\\Users\\Miguel Mendes\\AppData\\Local\\Temp\\ipykernel_8516\\2327759639.py:20: SettingWithCopyWarning: \n",
      "A value is trying to be set on a copy of a slice from a DataFrame\n",
      "\n",
      "See the caveats in the documentation: https://pandas.pydata.org/pandas-docs/stable/user_guide/indexing.html#returning-a-view-versus-a-copy\n",
      "  time_serie.drop(columns=['Seller ID', 'Day of Week', 'Last Week', 'Last Month'], inplace=True)\n",
      "C:\\Users\\Miguel Mendes\\AppData\\Local\\Temp\\ipykernel_8516\\2327759639.py:21: SettingWithCopyWarning: \n",
      "A value is trying to be set on a copy of a slice from a DataFrame.\n",
      "Try using .loc[row_indexer,col_indexer] = value instead\n",
      "\n",
      "See the caveats in the documentation: https://pandas.pydata.org/pandas-docs/stable/user_guide/indexing.html#returning-a-view-versus-a-copy\n",
      "  time_serie['Change'] = time_serie['Change'].astype('Int64')\n",
      "C:\\Users\\Miguel Mendes\\AppData\\Local\\Temp\\ipykernel_8516\\2327759639.py:20: SettingWithCopyWarning: \n",
      "A value is trying to be set on a copy of a slice from a DataFrame\n",
      "\n",
      "See the caveats in the documentation: https://pandas.pydata.org/pandas-docs/stable/user_guide/indexing.html#returning-a-view-versus-a-copy\n",
      "  time_serie.drop(columns=['Seller ID', 'Day of Week', 'Last Week', 'Last Month'], inplace=True)\n",
      "C:\\Users\\Miguel Mendes\\AppData\\Local\\Temp\\ipykernel_8516\\2327759639.py:21: SettingWithCopyWarning: \n",
      "A value is trying to be set on a copy of a slice from a DataFrame.\n",
      "Try using .loc[row_indexer,col_indexer] = value instead\n",
      "\n",
      "See the caveats in the documentation: https://pandas.pydata.org/pandas-docs/stable/user_guide/indexing.html#returning-a-view-versus-a-copy\n",
      "  time_serie['Change'] = time_serie['Change'].astype('Int64')\n"
     ]
    },
    {
     "name": "stdout",
     "output_type": "stream",
     "text": [
      "Erro Médio Absoluto (MAE) para Seller ID 100000882: 0.006712641101330519\n",
      "Processando Seller ID: 100000745\n",
      "Erro Médio Absoluto (MAE) para Seller ID 100000745: 0.13576523959636688\n",
      "Processando Seller ID: 100000012\n"
     ]
    },
    {
     "name": "stderr",
     "output_type": "stream",
     "text": [
      "C:\\Users\\Miguel Mendes\\AppData\\Local\\Temp\\ipykernel_8516\\2327759639.py:20: SettingWithCopyWarning: \n",
      "A value is trying to be set on a copy of a slice from a DataFrame\n",
      "\n",
      "See the caveats in the documentation: https://pandas.pydata.org/pandas-docs/stable/user_guide/indexing.html#returning-a-view-versus-a-copy\n",
      "  time_serie.drop(columns=['Seller ID', 'Day of Week', 'Last Week', 'Last Month'], inplace=True)\n",
      "C:\\Users\\Miguel Mendes\\AppData\\Local\\Temp\\ipykernel_8516\\2327759639.py:21: SettingWithCopyWarning: \n",
      "A value is trying to be set on a copy of a slice from a DataFrame.\n",
      "Try using .loc[row_indexer,col_indexer] = value instead\n",
      "\n",
      "See the caveats in the documentation: https://pandas.pydata.org/pandas-docs/stable/user_guide/indexing.html#returning-a-view-versus-a-copy\n",
      "  time_serie['Change'] = time_serie['Change'].astype('Int64')\n",
      "C:\\Users\\Miguel Mendes\\AppData\\Local\\Temp\\ipykernel_8516\\2327759639.py:20: SettingWithCopyWarning: \n",
      "A value is trying to be set on a copy of a slice from a DataFrame\n",
      "\n",
      "See the caveats in the documentation: https://pandas.pydata.org/pandas-docs/stable/user_guide/indexing.html#returning-a-view-versus-a-copy\n",
      "  time_serie.drop(columns=['Seller ID', 'Day of Week', 'Last Week', 'Last Month'], inplace=True)\n",
      "C:\\Users\\Miguel Mendes\\AppData\\Local\\Temp\\ipykernel_8516\\2327759639.py:21: SettingWithCopyWarning: \n",
      "A value is trying to be set on a copy of a slice from a DataFrame.\n",
      "Try using .loc[row_indexer,col_indexer] = value instead\n",
      "\n",
      "See the caveats in the documentation: https://pandas.pydata.org/pandas-docs/stable/user_guide/indexing.html#returning-a-view-versus-a-copy\n",
      "  time_serie['Change'] = time_serie['Change'].astype('Int64')\n"
     ]
    },
    {
     "name": "stdout",
     "output_type": "stream",
     "text": [
      "Erro Médio Absoluto (MAE) para Seller ID 100000012: 0.011468959972262383\n",
      "Processando Seller ID: 100000020\n",
      "Erro Médio Absoluto (MAE) para Seller ID 100000020: 0.0037083462812006474\n",
      "Processando Seller ID: 100000036\n"
     ]
    },
    {
     "name": "stderr",
     "output_type": "stream",
     "text": [
      "C:\\Users\\Miguel Mendes\\AppData\\Local\\Temp\\ipykernel_8516\\2327759639.py:20: SettingWithCopyWarning: \n",
      "A value is trying to be set on a copy of a slice from a DataFrame\n",
      "\n",
      "See the caveats in the documentation: https://pandas.pydata.org/pandas-docs/stable/user_guide/indexing.html#returning-a-view-versus-a-copy\n",
      "  time_serie.drop(columns=['Seller ID', 'Day of Week', 'Last Week', 'Last Month'], inplace=True)\n",
      "C:\\Users\\Miguel Mendes\\AppData\\Local\\Temp\\ipykernel_8516\\2327759639.py:21: SettingWithCopyWarning: \n",
      "A value is trying to be set on a copy of a slice from a DataFrame.\n",
      "Try using .loc[row_indexer,col_indexer] = value instead\n",
      "\n",
      "See the caveats in the documentation: https://pandas.pydata.org/pandas-docs/stable/user_guide/indexing.html#returning-a-view-versus-a-copy\n",
      "  time_serie['Change'] = time_serie['Change'].astype('Int64')\n",
      "C:\\Users\\Miguel Mendes\\AppData\\Local\\Temp\\ipykernel_8516\\2327759639.py:20: SettingWithCopyWarning: \n",
      "A value is trying to be set on a copy of a slice from a DataFrame\n",
      "\n",
      "See the caveats in the documentation: https://pandas.pydata.org/pandas-docs/stable/user_guide/indexing.html#returning-a-view-versus-a-copy\n",
      "  time_serie.drop(columns=['Seller ID', 'Day of Week', 'Last Week', 'Last Month'], inplace=True)\n",
      "C:\\Users\\Miguel Mendes\\AppData\\Local\\Temp\\ipykernel_8516\\2327759639.py:21: SettingWithCopyWarning: \n",
      "A value is trying to be set on a copy of a slice from a DataFrame.\n",
      "Try using .loc[row_indexer,col_indexer] = value instead\n",
      "\n",
      "See the caveats in the documentation: https://pandas.pydata.org/pandas-docs/stable/user_guide/indexing.html#returning-a-view-versus-a-copy\n",
      "  time_serie['Change'] = time_serie['Change'].astype('Int64')\n"
     ]
    },
    {
     "name": "stdout",
     "output_type": "stream",
     "text": [
      "Erro Médio Absoluto (MAE) para Seller ID 100000036: 0.0018267526756972075\n",
      "Processando Seller ID: 100000110\n",
      "Erro Médio Absoluto (MAE) para Seller ID 100000110: 0.053092628717422485\n",
      "Processando Seller ID: 100000143\n"
     ]
    },
    {
     "name": "stderr",
     "output_type": "stream",
     "text": [
      "C:\\Users\\Miguel Mendes\\AppData\\Local\\Temp\\ipykernel_8516\\2327759639.py:20: SettingWithCopyWarning: \n",
      "A value is trying to be set on a copy of a slice from a DataFrame\n",
      "\n",
      "See the caveats in the documentation: https://pandas.pydata.org/pandas-docs/stable/user_guide/indexing.html#returning-a-view-versus-a-copy\n",
      "  time_serie.drop(columns=['Seller ID', 'Day of Week', 'Last Week', 'Last Month'], inplace=True)\n",
      "C:\\Users\\Miguel Mendes\\AppData\\Local\\Temp\\ipykernel_8516\\2327759639.py:21: SettingWithCopyWarning: \n",
      "A value is trying to be set on a copy of a slice from a DataFrame.\n",
      "Try using .loc[row_indexer,col_indexer] = value instead\n",
      "\n",
      "See the caveats in the documentation: https://pandas.pydata.org/pandas-docs/stable/user_guide/indexing.html#returning-a-view-versus-a-copy\n",
      "  time_serie['Change'] = time_serie['Change'].astype('Int64')\n",
      "C:\\Users\\Miguel Mendes\\AppData\\Local\\Temp\\ipykernel_8516\\2327759639.py:20: SettingWithCopyWarning: \n",
      "A value is trying to be set on a copy of a slice from a DataFrame\n",
      "\n",
      "See the caveats in the documentation: https://pandas.pydata.org/pandas-docs/stable/user_guide/indexing.html#returning-a-view-versus-a-copy\n",
      "  time_serie.drop(columns=['Seller ID', 'Day of Week', 'Last Week', 'Last Month'], inplace=True)\n",
      "C:\\Users\\Miguel Mendes\\AppData\\Local\\Temp\\ipykernel_8516\\2327759639.py:21: SettingWithCopyWarning: \n",
      "A value is trying to be set on a copy of a slice from a DataFrame.\n",
      "Try using .loc[row_indexer,col_indexer] = value instead\n",
      "\n",
      "See the caveats in the documentation: https://pandas.pydata.org/pandas-docs/stable/user_guide/indexing.html#returning-a-view-versus-a-copy\n",
      "  time_serie['Change'] = time_serie['Change'].astype('Int64')\n"
     ]
    },
    {
     "name": "stdout",
     "output_type": "stream",
     "text": [
      "Erro Médio Absoluto (MAE) para Seller ID 100000143: 0.017388779670000076\n",
      "Processando Seller ID: 100000175\n",
      "Erro Médio Absoluto (MAE) para Seller ID 100000175: 0.003025186713784933\n",
      "Processando Seller ID: 100000231\n"
     ]
    },
    {
     "name": "stderr",
     "output_type": "stream",
     "text": [
      "C:\\Users\\Miguel Mendes\\AppData\\Local\\Temp\\ipykernel_8516\\2327759639.py:20: SettingWithCopyWarning: \n",
      "A value is trying to be set on a copy of a slice from a DataFrame\n",
      "\n",
      "See the caveats in the documentation: https://pandas.pydata.org/pandas-docs/stable/user_guide/indexing.html#returning-a-view-versus-a-copy\n",
      "  time_serie.drop(columns=['Seller ID', 'Day of Week', 'Last Week', 'Last Month'], inplace=True)\n",
      "C:\\Users\\Miguel Mendes\\AppData\\Local\\Temp\\ipykernel_8516\\2327759639.py:21: SettingWithCopyWarning: \n",
      "A value is trying to be set on a copy of a slice from a DataFrame.\n",
      "Try using .loc[row_indexer,col_indexer] = value instead\n",
      "\n",
      "See the caveats in the documentation: https://pandas.pydata.org/pandas-docs/stable/user_guide/indexing.html#returning-a-view-versus-a-copy\n",
      "  time_serie['Change'] = time_serie['Change'].astype('Int64')\n",
      "C:\\Users\\Miguel Mendes\\AppData\\Local\\Temp\\ipykernel_8516\\2327759639.py:20: SettingWithCopyWarning: \n",
      "A value is trying to be set on a copy of a slice from a DataFrame\n",
      "\n",
      "See the caveats in the documentation: https://pandas.pydata.org/pandas-docs/stable/user_guide/indexing.html#returning-a-view-versus-a-copy\n",
      "  time_serie.drop(columns=['Seller ID', 'Day of Week', 'Last Week', 'Last Month'], inplace=True)\n",
      "C:\\Users\\Miguel Mendes\\AppData\\Local\\Temp\\ipykernel_8516\\2327759639.py:21: SettingWithCopyWarning: \n",
      "A value is trying to be set on a copy of a slice from a DataFrame.\n",
      "Try using .loc[row_indexer,col_indexer] = value instead\n",
      "\n",
      "See the caveats in the documentation: https://pandas.pydata.org/pandas-docs/stable/user_guide/indexing.html#returning-a-view-versus-a-copy\n",
      "  time_serie['Change'] = time_serie['Change'].astype('Int64')\n"
     ]
    },
    {
     "name": "stdout",
     "output_type": "stream",
     "text": [
      "Erro Médio Absoluto (MAE) para Seller ID 100000231: 0.0015248662093654275\n",
      "Processando Seller ID: 100000245\n",
      "Erro Médio Absoluto (MAE) para Seller ID 100000245: 0.0005801490624435246\n",
      "Processando Seller ID: 100000274\n"
     ]
    },
    {
     "name": "stderr",
     "output_type": "stream",
     "text": [
      "C:\\Users\\Miguel Mendes\\AppData\\Local\\Temp\\ipykernel_8516\\2327759639.py:20: SettingWithCopyWarning: \n",
      "A value is trying to be set on a copy of a slice from a DataFrame\n",
      "\n",
      "See the caveats in the documentation: https://pandas.pydata.org/pandas-docs/stable/user_guide/indexing.html#returning-a-view-versus-a-copy\n",
      "  time_serie.drop(columns=['Seller ID', 'Day of Week', 'Last Week', 'Last Month'], inplace=True)\n",
      "C:\\Users\\Miguel Mendes\\AppData\\Local\\Temp\\ipykernel_8516\\2327759639.py:21: SettingWithCopyWarning: \n",
      "A value is trying to be set on a copy of a slice from a DataFrame.\n",
      "Try using .loc[row_indexer,col_indexer] = value instead\n",
      "\n",
      "See the caveats in the documentation: https://pandas.pydata.org/pandas-docs/stable/user_guide/indexing.html#returning-a-view-versus-a-copy\n",
      "  time_serie['Change'] = time_serie['Change'].astype('Int64')\n",
      "C:\\Users\\Miguel Mendes\\AppData\\Local\\Temp\\ipykernel_8516\\2327759639.py:20: SettingWithCopyWarning: \n",
      "A value is trying to be set on a copy of a slice from a DataFrame\n",
      "\n",
      "See the caveats in the documentation: https://pandas.pydata.org/pandas-docs/stable/user_guide/indexing.html#returning-a-view-versus-a-copy\n",
      "  time_serie.drop(columns=['Seller ID', 'Day of Week', 'Last Week', 'Last Month'], inplace=True)\n",
      "C:\\Users\\Miguel Mendes\\AppData\\Local\\Temp\\ipykernel_8516\\2327759639.py:21: SettingWithCopyWarning: \n",
      "A value is trying to be set on a copy of a slice from a DataFrame.\n",
      "Try using .loc[row_indexer,col_indexer] = value instead\n",
      "\n",
      "See the caveats in the documentation: https://pandas.pydata.org/pandas-docs/stable/user_guide/indexing.html#returning-a-view-versus-a-copy\n",
      "  time_serie['Change'] = time_serie['Change'].astype('Int64')\n"
     ]
    },
    {
     "name": "stdout",
     "output_type": "stream",
     "text": [
      "Erro Médio Absoluto (MAE) para Seller ID 100000274: 0.0032111210748553276\n",
      "Processando Seller ID: 100000322\n"
     ]
    },
    {
     "name": "stderr",
     "output_type": "stream",
     "text": [
      "C:\\Users\\Miguel Mendes\\AppData\\Local\\Temp\\ipykernel_8516\\2327759639.py:20: SettingWithCopyWarning: \n",
      "A value is trying to be set on a copy of a slice from a DataFrame\n",
      "\n",
      "See the caveats in the documentation: https://pandas.pydata.org/pandas-docs/stable/user_guide/indexing.html#returning-a-view-versus-a-copy\n",
      "  time_serie.drop(columns=['Seller ID', 'Day of Week', 'Last Week', 'Last Month'], inplace=True)\n",
      "C:\\Users\\Miguel Mendes\\AppData\\Local\\Temp\\ipykernel_8516\\2327759639.py:21: SettingWithCopyWarning: \n",
      "A value is trying to be set on a copy of a slice from a DataFrame.\n",
      "Try using .loc[row_indexer,col_indexer] = value instead\n",
      "\n",
      "See the caveats in the documentation: https://pandas.pydata.org/pandas-docs/stable/user_guide/indexing.html#returning-a-view-versus-a-copy\n",
      "  time_serie['Change'] = time_serie['Change'].astype('Int64')\n"
     ]
    },
    {
     "name": "stdout",
     "output_type": "stream",
     "text": [
      "Erro Médio Absoluto (MAE) para Seller ID 100000322: 0.01311794389039278\n",
      "Processando Seller ID: 100000338\n"
     ]
    },
    {
     "name": "stderr",
     "output_type": "stream",
     "text": [
      "C:\\Users\\Miguel Mendes\\AppData\\Local\\Temp\\ipykernel_8516\\2327759639.py:20: SettingWithCopyWarning: \n",
      "A value is trying to be set on a copy of a slice from a DataFrame\n",
      "\n",
      "See the caveats in the documentation: https://pandas.pydata.org/pandas-docs/stable/user_guide/indexing.html#returning-a-view-versus-a-copy\n",
      "  time_serie.drop(columns=['Seller ID', 'Day of Week', 'Last Week', 'Last Month'], inplace=True)\n",
      "C:\\Users\\Miguel Mendes\\AppData\\Local\\Temp\\ipykernel_8516\\2327759639.py:21: SettingWithCopyWarning: \n",
      "A value is trying to be set on a copy of a slice from a DataFrame.\n",
      "Try using .loc[row_indexer,col_indexer] = value instead\n",
      "\n",
      "See the caveats in the documentation: https://pandas.pydata.org/pandas-docs/stable/user_guide/indexing.html#returning-a-view-versus-a-copy\n",
      "  time_serie['Change'] = time_serie['Change'].astype('Int64')\n"
     ]
    },
    {
     "name": "stdout",
     "output_type": "stream",
     "text": [
      "Erro Médio Absoluto (MAE) para Seller ID 100000338: 0.0013135061599314213\n",
      "Processando Seller ID: 100000449\n"
     ]
    },
    {
     "name": "stderr",
     "output_type": "stream",
     "text": [
      "C:\\Users\\Miguel Mendes\\AppData\\Local\\Temp\\ipykernel_8516\\2327759639.py:20: SettingWithCopyWarning: \n",
      "A value is trying to be set on a copy of a slice from a DataFrame\n",
      "\n",
      "See the caveats in the documentation: https://pandas.pydata.org/pandas-docs/stable/user_guide/indexing.html#returning-a-view-versus-a-copy\n",
      "  time_serie.drop(columns=['Seller ID', 'Day of Week', 'Last Week', 'Last Month'], inplace=True)\n",
      "C:\\Users\\Miguel Mendes\\AppData\\Local\\Temp\\ipykernel_8516\\2327759639.py:21: SettingWithCopyWarning: \n",
      "A value is trying to be set on a copy of a slice from a DataFrame.\n",
      "Try using .loc[row_indexer,col_indexer] = value instead\n",
      "\n",
      "See the caveats in the documentation: https://pandas.pydata.org/pandas-docs/stable/user_guide/indexing.html#returning-a-view-versus-a-copy\n",
      "  time_serie['Change'] = time_serie['Change'].astype('Int64')\n"
     ]
    },
    {
     "name": "stdout",
     "output_type": "stream",
     "text": [
      "Erro Médio Absoluto (MAE) para Seller ID 100000449: 0.00302117713727057\n",
      "Processando Seller ID: 100000465\n",
      "Erro Médio Absoluto (MAE) para Seller ID 100000465: 0.0072021568194031715\n",
      "Processando Seller ID: 100000202\n"
     ]
    },
    {
     "name": "stderr",
     "output_type": "stream",
     "text": [
      "C:\\Users\\Miguel Mendes\\AppData\\Local\\Temp\\ipykernel_8516\\2327759639.py:20: SettingWithCopyWarning: \n",
      "A value is trying to be set on a copy of a slice from a DataFrame\n",
      "\n",
      "See the caveats in the documentation: https://pandas.pydata.org/pandas-docs/stable/user_guide/indexing.html#returning-a-view-versus-a-copy\n",
      "  time_serie.drop(columns=['Seller ID', 'Day of Week', 'Last Week', 'Last Month'], inplace=True)\n",
      "C:\\Users\\Miguel Mendes\\AppData\\Local\\Temp\\ipykernel_8516\\2327759639.py:21: SettingWithCopyWarning: \n",
      "A value is trying to be set on a copy of a slice from a DataFrame.\n",
      "Try using .loc[row_indexer,col_indexer] = value instead\n",
      "\n",
      "See the caveats in the documentation: https://pandas.pydata.org/pandas-docs/stable/user_guide/indexing.html#returning-a-view-versus-a-copy\n",
      "  time_serie['Change'] = time_serie['Change'].astype('Int64')\n",
      "C:\\Users\\Miguel Mendes\\AppData\\Local\\Temp\\ipykernel_8516\\2327759639.py:20: SettingWithCopyWarning: \n",
      "A value is trying to be set on a copy of a slice from a DataFrame\n",
      "\n",
      "See the caveats in the documentation: https://pandas.pydata.org/pandas-docs/stable/user_guide/indexing.html#returning-a-view-versus-a-copy\n",
      "  time_serie.drop(columns=['Seller ID', 'Day of Week', 'Last Week', 'Last Month'], inplace=True)\n",
      "C:\\Users\\Miguel Mendes\\AppData\\Local\\Temp\\ipykernel_8516\\2327759639.py:21: SettingWithCopyWarning: \n",
      "A value is trying to be set on a copy of a slice from a DataFrame.\n",
      "Try using .loc[row_indexer,col_indexer] = value instead\n",
      "\n",
      "See the caveats in the documentation: https://pandas.pydata.org/pandas-docs/stable/user_guide/indexing.html#returning-a-view-versus-a-copy\n",
      "  time_serie['Change'] = time_serie['Change'].astype('Int64')\n"
     ]
    },
    {
     "name": "stdout",
     "output_type": "stream",
     "text": [
      "Erro Médio Absoluto (MAE) para Seller ID 100000202: 0.010447985492646694\n",
      "Processando Seller ID: 100000890\n",
      "Erro Médio Absoluto (MAE) para Seller ID 100000890: 0.013647966086864471\n",
      "Processando Seller ID: 100001054\n"
     ]
    },
    {
     "name": "stderr",
     "output_type": "stream",
     "text": [
      "C:\\Users\\Miguel Mendes\\AppData\\Local\\Temp\\ipykernel_8516\\2327759639.py:20: SettingWithCopyWarning: \n",
      "A value is trying to be set on a copy of a slice from a DataFrame\n",
      "\n",
      "See the caveats in the documentation: https://pandas.pydata.org/pandas-docs/stable/user_guide/indexing.html#returning-a-view-versus-a-copy\n",
      "  time_serie.drop(columns=['Seller ID', 'Day of Week', 'Last Week', 'Last Month'], inplace=True)\n",
      "C:\\Users\\Miguel Mendes\\AppData\\Local\\Temp\\ipykernel_8516\\2327759639.py:21: SettingWithCopyWarning: \n",
      "A value is trying to be set on a copy of a slice from a DataFrame.\n",
      "Try using .loc[row_indexer,col_indexer] = value instead\n",
      "\n",
      "See the caveats in the documentation: https://pandas.pydata.org/pandas-docs/stable/user_guide/indexing.html#returning-a-view-versus-a-copy\n",
      "  time_serie['Change'] = time_serie['Change'].astype('Int64')\n",
      "C:\\Users\\Miguel Mendes\\AppData\\Local\\Temp\\ipykernel_8516\\2327759639.py:20: SettingWithCopyWarning: \n",
      "A value is trying to be set on a copy of a slice from a DataFrame\n",
      "\n",
      "See the caveats in the documentation: https://pandas.pydata.org/pandas-docs/stable/user_guide/indexing.html#returning-a-view-versus-a-copy\n",
      "  time_serie.drop(columns=['Seller ID', 'Day of Week', 'Last Week', 'Last Month'], inplace=True)\n",
      "C:\\Users\\Miguel Mendes\\AppData\\Local\\Temp\\ipykernel_8516\\2327759639.py:21: SettingWithCopyWarning: \n",
      "A value is trying to be set on a copy of a slice from a DataFrame.\n",
      "Try using .loc[row_indexer,col_indexer] = value instead\n",
      "\n",
      "See the caveats in the documentation: https://pandas.pydata.org/pandas-docs/stable/user_guide/indexing.html#returning-a-view-versus-a-copy\n",
      "  time_serie['Change'] = time_serie['Change'].astype('Int64')\n"
     ]
    },
    {
     "name": "stdout",
     "output_type": "stream",
     "text": [
      "Erro Médio Absoluto (MAE) para Seller ID 100001054: 0.062471017241477966\n",
      "Processando Seller ID: 100000889\n",
      "Erro Médio Absoluto (MAE) para Seller ID 100000889: 0.00016819975280668586\n",
      "Processando Seller ID: 100001164\n"
     ]
    },
    {
     "name": "stderr",
     "output_type": "stream",
     "text": [
      "C:\\Users\\Miguel Mendes\\AppData\\Local\\Temp\\ipykernel_8516\\2327759639.py:20: SettingWithCopyWarning: \n",
      "A value is trying to be set on a copy of a slice from a DataFrame\n",
      "\n",
      "See the caveats in the documentation: https://pandas.pydata.org/pandas-docs/stable/user_guide/indexing.html#returning-a-view-versus-a-copy\n",
      "  time_serie.drop(columns=['Seller ID', 'Day of Week', 'Last Week', 'Last Month'], inplace=True)\n",
      "C:\\Users\\Miguel Mendes\\AppData\\Local\\Temp\\ipykernel_8516\\2327759639.py:21: SettingWithCopyWarning: \n",
      "A value is trying to be set on a copy of a slice from a DataFrame.\n",
      "Try using .loc[row_indexer,col_indexer] = value instead\n",
      "\n",
      "See the caveats in the documentation: https://pandas.pydata.org/pandas-docs/stable/user_guide/indexing.html#returning-a-view-versus-a-copy\n",
      "  time_serie['Change'] = time_serie['Change'].astype('Int64')\n",
      "C:\\Users\\Miguel Mendes\\AppData\\Local\\Temp\\ipykernel_8516\\2327759639.py:20: SettingWithCopyWarning: \n",
      "A value is trying to be set on a copy of a slice from a DataFrame\n",
      "\n",
      "See the caveats in the documentation: https://pandas.pydata.org/pandas-docs/stable/user_guide/indexing.html#returning-a-view-versus-a-copy\n",
      "  time_serie.drop(columns=['Seller ID', 'Day of Week', 'Last Week', 'Last Month'], inplace=True)\n",
      "C:\\Users\\Miguel Mendes\\AppData\\Local\\Temp\\ipykernel_8516\\2327759639.py:21: SettingWithCopyWarning: \n",
      "A value is trying to be set on a copy of a slice from a DataFrame.\n",
      "Try using .loc[row_indexer,col_indexer] = value instead\n",
      "\n",
      "See the caveats in the documentation: https://pandas.pydata.org/pandas-docs/stable/user_guide/indexing.html#returning-a-view-versus-a-copy\n",
      "  time_serie['Change'] = time_serie['Change'].astype('Int64')\n"
     ]
    },
    {
     "name": "stdout",
     "output_type": "stream",
     "text": [
      "Erro Médio Absoluto (MAE) para Seller ID 100001164: 0.004302178975194693\n",
      "Processando Seller ID: 100001093\n",
      "Erro Médio Absoluto (MAE) para Seller ID 100001093: 0.059592925012111664\n",
      "Processando Seller ID: 100000965\n"
     ]
    },
    {
     "name": "stderr",
     "output_type": "stream",
     "text": [
      "C:\\Users\\Miguel Mendes\\AppData\\Local\\Temp\\ipykernel_8516\\2327759639.py:20: SettingWithCopyWarning: \n",
      "A value is trying to be set on a copy of a slice from a DataFrame\n",
      "\n",
      "See the caveats in the documentation: https://pandas.pydata.org/pandas-docs/stable/user_guide/indexing.html#returning-a-view-versus-a-copy\n",
      "  time_serie.drop(columns=['Seller ID', 'Day of Week', 'Last Week', 'Last Month'], inplace=True)\n",
      "C:\\Users\\Miguel Mendes\\AppData\\Local\\Temp\\ipykernel_8516\\2327759639.py:21: SettingWithCopyWarning: \n",
      "A value is trying to be set on a copy of a slice from a DataFrame.\n",
      "Try using .loc[row_indexer,col_indexer] = value instead\n",
      "\n",
      "See the caveats in the documentation: https://pandas.pydata.org/pandas-docs/stable/user_guide/indexing.html#returning-a-view-versus-a-copy\n",
      "  time_serie['Change'] = time_serie['Change'].astype('Int64')\n",
      "C:\\Users\\Miguel Mendes\\AppData\\Local\\Temp\\ipykernel_8516\\2327759639.py:20: SettingWithCopyWarning: \n",
      "A value is trying to be set on a copy of a slice from a DataFrame\n",
      "\n",
      "See the caveats in the documentation: https://pandas.pydata.org/pandas-docs/stable/user_guide/indexing.html#returning-a-view-versus-a-copy\n",
      "  time_serie.drop(columns=['Seller ID', 'Day of Week', 'Last Week', 'Last Month'], inplace=True)\n",
      "C:\\Users\\Miguel Mendes\\AppData\\Local\\Temp\\ipykernel_8516\\2327759639.py:21: SettingWithCopyWarning: \n",
      "A value is trying to be set on a copy of a slice from a DataFrame.\n",
      "Try using .loc[row_indexer,col_indexer] = value instead\n",
      "\n",
      "See the caveats in the documentation: https://pandas.pydata.org/pandas-docs/stable/user_guide/indexing.html#returning-a-view-versus-a-copy\n",
      "  time_serie['Change'] = time_serie['Change'].astype('Int64')\n"
     ]
    },
    {
     "name": "stdout",
     "output_type": "stream",
     "text": [
      "Erro Médio Absoluto (MAE) para Seller ID 100000965: 0.0026295885909348726\n",
      "Processando Seller ID: 100001534\n",
      "Erro Médio Absoluto (MAE) para Seller ID 100001534: 0.019638249650597572\n",
      "Processando Seller ID: 100001139\n"
     ]
    },
    {
     "name": "stderr",
     "output_type": "stream",
     "text": [
      "C:\\Users\\Miguel Mendes\\AppData\\Local\\Temp\\ipykernel_8516\\2327759639.py:20: SettingWithCopyWarning: \n",
      "A value is trying to be set on a copy of a slice from a DataFrame\n",
      "\n",
      "See the caveats in the documentation: https://pandas.pydata.org/pandas-docs/stable/user_guide/indexing.html#returning-a-view-versus-a-copy\n",
      "  time_serie.drop(columns=['Seller ID', 'Day of Week', 'Last Week', 'Last Month'], inplace=True)\n",
      "C:\\Users\\Miguel Mendes\\AppData\\Local\\Temp\\ipykernel_8516\\2327759639.py:21: SettingWithCopyWarning: \n",
      "A value is trying to be set on a copy of a slice from a DataFrame.\n",
      "Try using .loc[row_indexer,col_indexer] = value instead\n",
      "\n",
      "See the caveats in the documentation: https://pandas.pydata.org/pandas-docs/stable/user_guide/indexing.html#returning-a-view-versus-a-copy\n",
      "  time_serie['Change'] = time_serie['Change'].astype('Int64')\n",
      "C:\\Users\\Miguel Mendes\\AppData\\Local\\Temp\\ipykernel_8516\\2327759639.py:20: SettingWithCopyWarning: \n",
      "A value is trying to be set on a copy of a slice from a DataFrame\n",
      "\n",
      "See the caveats in the documentation: https://pandas.pydata.org/pandas-docs/stable/user_guide/indexing.html#returning-a-view-versus-a-copy\n",
      "  time_serie.drop(columns=['Seller ID', 'Day of Week', 'Last Week', 'Last Month'], inplace=True)\n",
      "C:\\Users\\Miguel Mendes\\AppData\\Local\\Temp\\ipykernel_8516\\2327759639.py:21: SettingWithCopyWarning: \n",
      "A value is trying to be set on a copy of a slice from a DataFrame.\n",
      "Try using .loc[row_indexer,col_indexer] = value instead\n",
      "\n",
      "See the caveats in the documentation: https://pandas.pydata.org/pandas-docs/stable/user_guide/indexing.html#returning-a-view-versus-a-copy\n",
      "  time_serie['Change'] = time_serie['Change'].astype('Int64')\n"
     ]
    },
    {
     "name": "stdout",
     "output_type": "stream",
     "text": [
      "Erro Médio Absoluto (MAE) para Seller ID 100001139: 0.004925665445625782\n",
      "Processando Seller ID: 100001475\n",
      "Erro Médio Absoluto (MAE) para Seller ID 100001475: 0.002829266944900155\n",
      "Processando Seller ID: 100000739\n"
     ]
    },
    {
     "name": "stderr",
     "output_type": "stream",
     "text": [
      "C:\\Users\\Miguel Mendes\\AppData\\Local\\Temp\\ipykernel_8516\\2327759639.py:20: SettingWithCopyWarning: \n",
      "A value is trying to be set on a copy of a slice from a DataFrame\n",
      "\n",
      "See the caveats in the documentation: https://pandas.pydata.org/pandas-docs/stable/user_guide/indexing.html#returning-a-view-versus-a-copy\n",
      "  time_serie.drop(columns=['Seller ID', 'Day of Week', 'Last Week', 'Last Month'], inplace=True)\n",
      "C:\\Users\\Miguel Mendes\\AppData\\Local\\Temp\\ipykernel_8516\\2327759639.py:21: SettingWithCopyWarning: \n",
      "A value is trying to be set on a copy of a slice from a DataFrame.\n",
      "Try using .loc[row_indexer,col_indexer] = value instead\n",
      "\n",
      "See the caveats in the documentation: https://pandas.pydata.org/pandas-docs/stable/user_guide/indexing.html#returning-a-view-versus-a-copy\n",
      "  time_serie['Change'] = time_serie['Change'].astype('Int64')\n",
      "C:\\Users\\Miguel Mendes\\AppData\\Local\\Temp\\ipykernel_8516\\2327759639.py:20: SettingWithCopyWarning: \n",
      "A value is trying to be set on a copy of a slice from a DataFrame\n",
      "\n",
      "See the caveats in the documentation: https://pandas.pydata.org/pandas-docs/stable/user_guide/indexing.html#returning-a-view-versus-a-copy\n",
      "  time_serie.drop(columns=['Seller ID', 'Day of Week', 'Last Week', 'Last Month'], inplace=True)\n",
      "C:\\Users\\Miguel Mendes\\AppData\\Local\\Temp\\ipykernel_8516\\2327759639.py:21: SettingWithCopyWarning: \n",
      "A value is trying to be set on a copy of a slice from a DataFrame.\n",
      "Try using .loc[row_indexer,col_indexer] = value instead\n",
      "\n",
      "See the caveats in the documentation: https://pandas.pydata.org/pandas-docs/stable/user_guide/indexing.html#returning-a-view-versus-a-copy\n",
      "  time_serie['Change'] = time_serie['Change'].astype('Int64')\n"
     ]
    },
    {
     "name": "stdout",
     "output_type": "stream",
     "text": [
      "Erro Médio Absoluto (MAE) para Seller ID 100000739: 0.0070181358605623245\n",
      "Processando Seller ID: 100001236\n",
      "Erro Médio Absoluto (MAE) para Seller ID 100001236: 0.005926653277128935\n",
      "Processando Seller ID: 100001493\n"
     ]
    },
    {
     "name": "stderr",
     "output_type": "stream",
     "text": [
      "C:\\Users\\Miguel Mendes\\AppData\\Local\\Temp\\ipykernel_8516\\2327759639.py:20: SettingWithCopyWarning: \n",
      "A value is trying to be set on a copy of a slice from a DataFrame\n",
      "\n",
      "See the caveats in the documentation: https://pandas.pydata.org/pandas-docs/stable/user_guide/indexing.html#returning-a-view-versus-a-copy\n",
      "  time_serie.drop(columns=['Seller ID', 'Day of Week', 'Last Week', 'Last Month'], inplace=True)\n",
      "C:\\Users\\Miguel Mendes\\AppData\\Local\\Temp\\ipykernel_8516\\2327759639.py:21: SettingWithCopyWarning: \n",
      "A value is trying to be set on a copy of a slice from a DataFrame.\n",
      "Try using .loc[row_indexer,col_indexer] = value instead\n",
      "\n",
      "See the caveats in the documentation: https://pandas.pydata.org/pandas-docs/stable/user_guide/indexing.html#returning-a-view-versus-a-copy\n",
      "  time_serie['Change'] = time_serie['Change'].astype('Int64')\n",
      "C:\\Users\\Miguel Mendes\\AppData\\Local\\Temp\\ipykernel_8516\\2327759639.py:20: SettingWithCopyWarning: \n",
      "A value is trying to be set on a copy of a slice from a DataFrame\n",
      "\n",
      "See the caveats in the documentation: https://pandas.pydata.org/pandas-docs/stable/user_guide/indexing.html#returning-a-view-versus-a-copy\n",
      "  time_serie.drop(columns=['Seller ID', 'Day of Week', 'Last Week', 'Last Month'], inplace=True)\n",
      "C:\\Users\\Miguel Mendes\\AppData\\Local\\Temp\\ipykernel_8516\\2327759639.py:21: SettingWithCopyWarning: \n",
      "A value is trying to be set on a copy of a slice from a DataFrame.\n",
      "Try using .loc[row_indexer,col_indexer] = value instead\n",
      "\n",
      "See the caveats in the documentation: https://pandas.pydata.org/pandas-docs/stable/user_guide/indexing.html#returning-a-view-versus-a-copy\n",
      "  time_serie['Change'] = time_serie['Change'].astype('Int64')\n"
     ]
    },
    {
     "name": "stdout",
     "output_type": "stream",
     "text": [
      "Erro Médio Absoluto (MAE) para Seller ID 100001493: 0.0008520944393239915\n",
      "Processando Seller ID: 100000184\n",
      "Erro Médio Absoluto (MAE) para Seller ID 100000184: 0.21595941483974457\n",
      "Processando Seller ID: 100000217\n"
     ]
    },
    {
     "name": "stderr",
     "output_type": "stream",
     "text": [
      "C:\\Users\\Miguel Mendes\\AppData\\Local\\Temp\\ipykernel_8516\\2327759639.py:20: SettingWithCopyWarning: \n",
      "A value is trying to be set on a copy of a slice from a DataFrame\n",
      "\n",
      "See the caveats in the documentation: https://pandas.pydata.org/pandas-docs/stable/user_guide/indexing.html#returning-a-view-versus-a-copy\n",
      "  time_serie.drop(columns=['Seller ID', 'Day of Week', 'Last Week', 'Last Month'], inplace=True)\n",
      "C:\\Users\\Miguel Mendes\\AppData\\Local\\Temp\\ipykernel_8516\\2327759639.py:21: SettingWithCopyWarning: \n",
      "A value is trying to be set on a copy of a slice from a DataFrame.\n",
      "Try using .loc[row_indexer,col_indexer] = value instead\n",
      "\n",
      "See the caveats in the documentation: https://pandas.pydata.org/pandas-docs/stable/user_guide/indexing.html#returning-a-view-versus-a-copy\n",
      "  time_serie['Change'] = time_serie['Change'].astype('Int64')\n",
      "C:\\Users\\Miguel Mendes\\AppData\\Local\\Temp\\ipykernel_8516\\2327759639.py:20: SettingWithCopyWarning: \n",
      "A value is trying to be set on a copy of a slice from a DataFrame\n",
      "\n",
      "See the caveats in the documentation: https://pandas.pydata.org/pandas-docs/stable/user_guide/indexing.html#returning-a-view-versus-a-copy\n",
      "  time_serie.drop(columns=['Seller ID', 'Day of Week', 'Last Week', 'Last Month'], inplace=True)\n",
      "C:\\Users\\Miguel Mendes\\AppData\\Local\\Temp\\ipykernel_8516\\2327759639.py:21: SettingWithCopyWarning: \n",
      "A value is trying to be set on a copy of a slice from a DataFrame.\n",
      "Try using .loc[row_indexer,col_indexer] = value instead\n",
      "\n",
      "See the caveats in the documentation: https://pandas.pydata.org/pandas-docs/stable/user_guide/indexing.html#returning-a-view-versus-a-copy\n",
      "  time_serie['Change'] = time_serie['Change'].astype('Int64')\n"
     ]
    },
    {
     "name": "stdout",
     "output_type": "stream",
     "text": [
      "Erro Médio Absoluto (MAE) para Seller ID 100000217: 0.0017980063566938043\n",
      "Processando Seller ID: 100000234\n",
      "Erro Médio Absoluto (MAE) para Seller ID 100000234: 0.09946265071630478\n",
      "Processando Seller ID: 100000257\n"
     ]
    },
    {
     "name": "stderr",
     "output_type": "stream",
     "text": [
      "C:\\Users\\Miguel Mendes\\AppData\\Local\\Temp\\ipykernel_8516\\2327759639.py:20: SettingWithCopyWarning: \n",
      "A value is trying to be set on a copy of a slice from a DataFrame\n",
      "\n",
      "See the caveats in the documentation: https://pandas.pydata.org/pandas-docs/stable/user_guide/indexing.html#returning-a-view-versus-a-copy\n",
      "  time_serie.drop(columns=['Seller ID', 'Day of Week', 'Last Week', 'Last Month'], inplace=True)\n",
      "C:\\Users\\Miguel Mendes\\AppData\\Local\\Temp\\ipykernel_8516\\2327759639.py:21: SettingWithCopyWarning: \n",
      "A value is trying to be set on a copy of a slice from a DataFrame.\n",
      "Try using .loc[row_indexer,col_indexer] = value instead\n",
      "\n",
      "See the caveats in the documentation: https://pandas.pydata.org/pandas-docs/stable/user_guide/indexing.html#returning-a-view-versus-a-copy\n",
      "  time_serie['Change'] = time_serie['Change'].astype('Int64')\n",
      "C:\\Users\\Miguel Mendes\\AppData\\Local\\Temp\\ipykernel_8516\\2327759639.py:20: SettingWithCopyWarning: \n",
      "A value is trying to be set on a copy of a slice from a DataFrame\n",
      "\n",
      "See the caveats in the documentation: https://pandas.pydata.org/pandas-docs/stable/user_guide/indexing.html#returning-a-view-versus-a-copy\n",
      "  time_serie.drop(columns=['Seller ID', 'Day of Week', 'Last Week', 'Last Month'], inplace=True)\n",
      "C:\\Users\\Miguel Mendes\\AppData\\Local\\Temp\\ipykernel_8516\\2327759639.py:21: SettingWithCopyWarning: \n",
      "A value is trying to be set on a copy of a slice from a DataFrame.\n",
      "Try using .loc[row_indexer,col_indexer] = value instead\n",
      "\n",
      "See the caveats in the documentation: https://pandas.pydata.org/pandas-docs/stable/user_guide/indexing.html#returning-a-view-versus-a-copy\n",
      "  time_serie['Change'] = time_serie['Change'].astype('Int64')\n"
     ]
    },
    {
     "name": "stdout",
     "output_type": "stream",
     "text": [
      "Erro Médio Absoluto (MAE) para Seller ID 100000257: 0.0005291674751788378\n",
      "Processando Seller ID: 100000305\n"
     ]
    },
    {
     "name": "stderr",
     "output_type": "stream",
     "text": [
      "C:\\Users\\Miguel Mendes\\AppData\\Local\\Temp\\ipykernel_8516\\2327759639.py:20: SettingWithCopyWarning: \n",
      "A value is trying to be set on a copy of a slice from a DataFrame\n",
      "\n",
      "See the caveats in the documentation: https://pandas.pydata.org/pandas-docs/stable/user_guide/indexing.html#returning-a-view-versus-a-copy\n",
      "  time_serie.drop(columns=['Seller ID', 'Day of Week', 'Last Week', 'Last Month'], inplace=True)\n",
      "C:\\Users\\Miguel Mendes\\AppData\\Local\\Temp\\ipykernel_8516\\2327759639.py:21: SettingWithCopyWarning: \n",
      "A value is trying to be set on a copy of a slice from a DataFrame.\n",
      "Try using .loc[row_indexer,col_indexer] = value instead\n",
      "\n",
      "See the caveats in the documentation: https://pandas.pydata.org/pandas-docs/stable/user_guide/indexing.html#returning-a-view-versus-a-copy\n",
      "  time_serie['Change'] = time_serie['Change'].astype('Int64')\n"
     ]
    },
    {
     "name": "stdout",
     "output_type": "stream",
     "text": [
      "Erro Médio Absoluto (MAE) para Seller ID 100000305: 0.00952210370451212\n",
      "Processando Seller ID: 100000466\n"
     ]
    },
    {
     "name": "stderr",
     "output_type": "stream",
     "text": [
      "C:\\Users\\Miguel Mendes\\AppData\\Local\\Temp\\ipykernel_8516\\2327759639.py:20: SettingWithCopyWarning: \n",
      "A value is trying to be set on a copy of a slice from a DataFrame\n",
      "\n",
      "See the caveats in the documentation: https://pandas.pydata.org/pandas-docs/stable/user_guide/indexing.html#returning-a-view-versus-a-copy\n",
      "  time_serie.drop(columns=['Seller ID', 'Day of Week', 'Last Week', 'Last Month'], inplace=True)\n",
      "C:\\Users\\Miguel Mendes\\AppData\\Local\\Temp\\ipykernel_8516\\2327759639.py:21: SettingWithCopyWarning: \n",
      "A value is trying to be set on a copy of a slice from a DataFrame.\n",
      "Try using .loc[row_indexer,col_indexer] = value instead\n",
      "\n",
      "See the caveats in the documentation: https://pandas.pydata.org/pandas-docs/stable/user_guide/indexing.html#returning-a-view-versus-a-copy\n",
      "  time_serie['Change'] = time_serie['Change'].astype('Int64')\n"
     ]
    },
    {
     "name": "stdout",
     "output_type": "stream",
     "text": [
      "Erro Médio Absoluto (MAE) para Seller ID 100000466: 0.09588780254125595\n",
      "Processando Seller ID: 100001428\n"
     ]
    },
    {
     "name": "stderr",
     "output_type": "stream",
     "text": [
      "C:\\Users\\Miguel Mendes\\AppData\\Local\\Temp\\ipykernel_8516\\2327759639.py:20: SettingWithCopyWarning: \n",
      "A value is trying to be set on a copy of a slice from a DataFrame\n",
      "\n",
      "See the caveats in the documentation: https://pandas.pydata.org/pandas-docs/stable/user_guide/indexing.html#returning-a-view-versus-a-copy\n",
      "  time_serie.drop(columns=['Seller ID', 'Day of Week', 'Last Week', 'Last Month'], inplace=True)\n",
      "C:\\Users\\Miguel Mendes\\AppData\\Local\\Temp\\ipykernel_8516\\2327759639.py:21: SettingWithCopyWarning: \n",
      "A value is trying to be set on a copy of a slice from a DataFrame.\n",
      "Try using .loc[row_indexer,col_indexer] = value instead\n",
      "\n",
      "See the caveats in the documentation: https://pandas.pydata.org/pandas-docs/stable/user_guide/indexing.html#returning-a-view-versus-a-copy\n",
      "  time_serie['Change'] = time_serie['Change'].astype('Int64')\n"
     ]
    },
    {
     "name": "stdout",
     "output_type": "stream",
     "text": [
      "Erro Médio Absoluto (MAE) para Seller ID 100001428: 0.005092597100883722\n",
      "Processando Seller ID: 100000287\n",
      "Erro Médio Absoluto (MAE) para Seller ID 100000287: 0.018874287605285645\n",
      "Processando Seller ID: 100001210\n"
     ]
    },
    {
     "name": "stderr",
     "output_type": "stream",
     "text": [
      "C:\\Users\\Miguel Mendes\\AppData\\Local\\Temp\\ipykernel_8516\\2327759639.py:20: SettingWithCopyWarning: \n",
      "A value is trying to be set on a copy of a slice from a DataFrame\n",
      "\n",
      "See the caveats in the documentation: https://pandas.pydata.org/pandas-docs/stable/user_guide/indexing.html#returning-a-view-versus-a-copy\n",
      "  time_serie.drop(columns=['Seller ID', 'Day of Week', 'Last Week', 'Last Month'], inplace=True)\n",
      "C:\\Users\\Miguel Mendes\\AppData\\Local\\Temp\\ipykernel_8516\\2327759639.py:21: SettingWithCopyWarning: \n",
      "A value is trying to be set on a copy of a slice from a DataFrame.\n",
      "Try using .loc[row_indexer,col_indexer] = value instead\n",
      "\n",
      "See the caveats in the documentation: https://pandas.pydata.org/pandas-docs/stable/user_guide/indexing.html#returning-a-view-versus-a-copy\n",
      "  time_serie['Change'] = time_serie['Change'].astype('Int64')\n",
      "C:\\Users\\Miguel Mendes\\AppData\\Local\\Temp\\ipykernel_8516\\2327759639.py:20: SettingWithCopyWarning: \n",
      "A value is trying to be set on a copy of a slice from a DataFrame\n",
      "\n",
      "See the caveats in the documentation: https://pandas.pydata.org/pandas-docs/stable/user_guide/indexing.html#returning-a-view-versus-a-copy\n",
      "  time_serie.drop(columns=['Seller ID', 'Day of Week', 'Last Week', 'Last Month'], inplace=True)\n",
      "C:\\Users\\Miguel Mendes\\AppData\\Local\\Temp\\ipykernel_8516\\2327759639.py:21: SettingWithCopyWarning: \n",
      "A value is trying to be set on a copy of a slice from a DataFrame.\n",
      "Try using .loc[row_indexer,col_indexer] = value instead\n",
      "\n",
      "See the caveats in the documentation: https://pandas.pydata.org/pandas-docs/stable/user_guide/indexing.html#returning-a-view-versus-a-copy\n",
      "  time_serie['Change'] = time_serie['Change'].astype('Int64')\n"
     ]
    },
    {
     "name": "stdout",
     "output_type": "stream",
     "text": [
      "Erro Médio Absoluto (MAE) para Seller ID 100001210: 0.12051320821046829\n",
      "Processando Seller ID: 100001105\n",
      "Erro Médio Absoluto (MAE) para Seller ID 100001105: 0.003890102496370673\n",
      "Processando Seller ID: 100000078\n"
     ]
    },
    {
     "name": "stderr",
     "output_type": "stream",
     "text": [
      "C:\\Users\\Miguel Mendes\\AppData\\Local\\Temp\\ipykernel_8516\\2327759639.py:20: SettingWithCopyWarning: \n",
      "A value is trying to be set on a copy of a slice from a DataFrame\n",
      "\n",
      "See the caveats in the documentation: https://pandas.pydata.org/pandas-docs/stable/user_guide/indexing.html#returning-a-view-versus-a-copy\n",
      "  time_serie.drop(columns=['Seller ID', 'Day of Week', 'Last Week', 'Last Month'], inplace=True)\n",
      "C:\\Users\\Miguel Mendes\\AppData\\Local\\Temp\\ipykernel_8516\\2327759639.py:21: SettingWithCopyWarning: \n",
      "A value is trying to be set on a copy of a slice from a DataFrame.\n",
      "Try using .loc[row_indexer,col_indexer] = value instead\n",
      "\n",
      "See the caveats in the documentation: https://pandas.pydata.org/pandas-docs/stable/user_guide/indexing.html#returning-a-view-versus-a-copy\n",
      "  time_serie['Change'] = time_serie['Change'].astype('Int64')\n",
      "C:\\Users\\Miguel Mendes\\AppData\\Local\\Temp\\ipykernel_8516\\2327759639.py:20: SettingWithCopyWarning: \n",
      "A value is trying to be set on a copy of a slice from a DataFrame\n",
      "\n",
      "See the caveats in the documentation: https://pandas.pydata.org/pandas-docs/stable/user_guide/indexing.html#returning-a-view-versus-a-copy\n",
      "  time_serie.drop(columns=['Seller ID', 'Day of Week', 'Last Week', 'Last Month'], inplace=True)\n",
      "C:\\Users\\Miguel Mendes\\AppData\\Local\\Temp\\ipykernel_8516\\2327759639.py:21: SettingWithCopyWarning: \n",
      "A value is trying to be set on a copy of a slice from a DataFrame.\n",
      "Try using .loc[row_indexer,col_indexer] = value instead\n",
      "\n",
      "See the caveats in the documentation: https://pandas.pydata.org/pandas-docs/stable/user_guide/indexing.html#returning-a-view-versus-a-copy\n",
      "  time_serie['Change'] = time_serie['Change'].astype('Int64')\n"
     ]
    },
    {
     "name": "stdout",
     "output_type": "stream",
     "text": [
      "Erro Médio Absoluto (MAE) para Seller ID 100000078: 0.0008121298742480576\n",
      "Processando Seller ID: 100000154\n",
      "Erro Médio Absoluto (MAE) para Seller ID 100000154: 0.00030334910843521357\n",
      "Processando Seller ID: 100000439\n"
     ]
    },
    {
     "name": "stderr",
     "output_type": "stream",
     "text": [
      "C:\\Users\\Miguel Mendes\\AppData\\Local\\Temp\\ipykernel_8516\\2327759639.py:20: SettingWithCopyWarning: \n",
      "A value is trying to be set on a copy of a slice from a DataFrame\n",
      "\n",
      "See the caveats in the documentation: https://pandas.pydata.org/pandas-docs/stable/user_guide/indexing.html#returning-a-view-versus-a-copy\n",
      "  time_serie.drop(columns=['Seller ID', 'Day of Week', 'Last Week', 'Last Month'], inplace=True)\n",
      "C:\\Users\\Miguel Mendes\\AppData\\Local\\Temp\\ipykernel_8516\\2327759639.py:21: SettingWithCopyWarning: \n",
      "A value is trying to be set on a copy of a slice from a DataFrame.\n",
      "Try using .loc[row_indexer,col_indexer] = value instead\n",
      "\n",
      "See the caveats in the documentation: https://pandas.pydata.org/pandas-docs/stable/user_guide/indexing.html#returning-a-view-versus-a-copy\n",
      "  time_serie['Change'] = time_serie['Change'].astype('Int64')\n",
      "C:\\Users\\Miguel Mendes\\AppData\\Local\\Temp\\ipykernel_8516\\2327759639.py:20: SettingWithCopyWarning: \n",
      "A value is trying to be set on a copy of a slice from a DataFrame\n",
      "\n",
      "See the caveats in the documentation: https://pandas.pydata.org/pandas-docs/stable/user_guide/indexing.html#returning-a-view-versus-a-copy\n",
      "  time_serie.drop(columns=['Seller ID', 'Day of Week', 'Last Week', 'Last Month'], inplace=True)\n",
      "C:\\Users\\Miguel Mendes\\AppData\\Local\\Temp\\ipykernel_8516\\2327759639.py:21: SettingWithCopyWarning: \n",
      "A value is trying to be set on a copy of a slice from a DataFrame.\n",
      "Try using .loc[row_indexer,col_indexer] = value instead\n",
      "\n",
      "See the caveats in the documentation: https://pandas.pydata.org/pandas-docs/stable/user_guide/indexing.html#returning-a-view-versus-a-copy\n",
      "  time_serie['Change'] = time_serie['Change'].astype('Int64')\n"
     ]
    },
    {
     "name": "stdout",
     "output_type": "stream",
     "text": [
      "Erro Médio Absoluto (MAE) para Seller ID 100000439: 0.0025576124899089336\n",
      "Processando Seller ID: 100000443\n",
      "Erro Médio Absoluto (MAE) para Seller ID 100000443: 0.002456153742969036\n",
      "Processando Seller ID: 100000418\n"
     ]
    },
    {
     "name": "stderr",
     "output_type": "stream",
     "text": [
      "C:\\Users\\Miguel Mendes\\AppData\\Local\\Temp\\ipykernel_8516\\2327759639.py:20: SettingWithCopyWarning: \n",
      "A value is trying to be set on a copy of a slice from a DataFrame\n",
      "\n",
      "See the caveats in the documentation: https://pandas.pydata.org/pandas-docs/stable/user_guide/indexing.html#returning-a-view-versus-a-copy\n",
      "  time_serie.drop(columns=['Seller ID', 'Day of Week', 'Last Week', 'Last Month'], inplace=True)\n",
      "C:\\Users\\Miguel Mendes\\AppData\\Local\\Temp\\ipykernel_8516\\2327759639.py:21: SettingWithCopyWarning: \n",
      "A value is trying to be set on a copy of a slice from a DataFrame.\n",
      "Try using .loc[row_indexer,col_indexer] = value instead\n",
      "\n",
      "See the caveats in the documentation: https://pandas.pydata.org/pandas-docs/stable/user_guide/indexing.html#returning-a-view-versus-a-copy\n",
      "  time_serie['Change'] = time_serie['Change'].astype('Int64')\n",
      "C:\\Users\\Miguel Mendes\\AppData\\Local\\Temp\\ipykernel_8516\\2327759639.py:20: SettingWithCopyWarning: \n",
      "A value is trying to be set on a copy of a slice from a DataFrame\n",
      "\n",
      "See the caveats in the documentation: https://pandas.pydata.org/pandas-docs/stable/user_guide/indexing.html#returning-a-view-versus-a-copy\n",
      "  time_serie.drop(columns=['Seller ID', 'Day of Week', 'Last Week', 'Last Month'], inplace=True)\n",
      "C:\\Users\\Miguel Mendes\\AppData\\Local\\Temp\\ipykernel_8516\\2327759639.py:21: SettingWithCopyWarning: \n",
      "A value is trying to be set on a copy of a slice from a DataFrame.\n",
      "Try using .loc[row_indexer,col_indexer] = value instead\n",
      "\n",
      "See the caveats in the documentation: https://pandas.pydata.org/pandas-docs/stable/user_guide/indexing.html#returning-a-view-versus-a-copy\n",
      "  time_serie['Change'] = time_serie['Change'].astype('Int64')\n"
     ]
    },
    {
     "name": "stdout",
     "output_type": "stream",
     "text": [
      "Erro Médio Absoluto (MAE) para Seller ID 100000418: 0.0010687229223549366\n",
      "Processando Seller ID: 100000776\n",
      "Erro Médio Absoluto (MAE) para Seller ID 100000776: 0.00010482878860784695\n",
      "Processando Seller ID: 100001518\n"
     ]
    },
    {
     "name": "stderr",
     "output_type": "stream",
     "text": [
      "C:\\Users\\Miguel Mendes\\AppData\\Local\\Temp\\ipykernel_8516\\2327759639.py:20: SettingWithCopyWarning: \n",
      "A value is trying to be set on a copy of a slice from a DataFrame\n",
      "\n",
      "See the caveats in the documentation: https://pandas.pydata.org/pandas-docs/stable/user_guide/indexing.html#returning-a-view-versus-a-copy\n",
      "  time_serie.drop(columns=['Seller ID', 'Day of Week', 'Last Week', 'Last Month'], inplace=True)\n",
      "C:\\Users\\Miguel Mendes\\AppData\\Local\\Temp\\ipykernel_8516\\2327759639.py:21: SettingWithCopyWarning: \n",
      "A value is trying to be set on a copy of a slice from a DataFrame.\n",
      "Try using .loc[row_indexer,col_indexer] = value instead\n",
      "\n",
      "See the caveats in the documentation: https://pandas.pydata.org/pandas-docs/stable/user_guide/indexing.html#returning-a-view-versus-a-copy\n",
      "  time_serie['Change'] = time_serie['Change'].astype('Int64')\n",
      "C:\\Users\\Miguel Mendes\\AppData\\Local\\Temp\\ipykernel_8516\\2327759639.py:20: SettingWithCopyWarning: \n",
      "A value is trying to be set on a copy of a slice from a DataFrame\n",
      "\n",
      "See the caveats in the documentation: https://pandas.pydata.org/pandas-docs/stable/user_guide/indexing.html#returning-a-view-versus-a-copy\n",
      "  time_serie.drop(columns=['Seller ID', 'Day of Week', 'Last Week', 'Last Month'], inplace=True)\n",
      "C:\\Users\\Miguel Mendes\\AppData\\Local\\Temp\\ipykernel_8516\\2327759639.py:21: SettingWithCopyWarning: \n",
      "A value is trying to be set on a copy of a slice from a DataFrame.\n",
      "Try using .loc[row_indexer,col_indexer] = value instead\n",
      "\n",
      "See the caveats in the documentation: https://pandas.pydata.org/pandas-docs/stable/user_guide/indexing.html#returning-a-view-versus-a-copy\n",
      "  time_serie['Change'] = time_serie['Change'].astype('Int64')\n"
     ]
    },
    {
     "name": "stdout",
     "output_type": "stream",
     "text": [
      "Erro Médio Absoluto (MAE) para Seller ID 100001518: 0.0005956137320026755\n",
      "Processando Seller ID: 100001403\n",
      "Erro Médio Absoluto (MAE) para Seller ID 100001403: 0.007278321776539087\n",
      "Processando Seller ID: 100000137\n"
     ]
    },
    {
     "name": "stderr",
     "output_type": "stream",
     "text": [
      "C:\\Users\\Miguel Mendes\\AppData\\Local\\Temp\\ipykernel_8516\\2327759639.py:20: SettingWithCopyWarning: \n",
      "A value is trying to be set on a copy of a slice from a DataFrame\n",
      "\n",
      "See the caveats in the documentation: https://pandas.pydata.org/pandas-docs/stable/user_guide/indexing.html#returning-a-view-versus-a-copy\n",
      "  time_serie.drop(columns=['Seller ID', 'Day of Week', 'Last Week', 'Last Month'], inplace=True)\n",
      "C:\\Users\\Miguel Mendes\\AppData\\Local\\Temp\\ipykernel_8516\\2327759639.py:21: SettingWithCopyWarning: \n",
      "A value is trying to be set on a copy of a slice from a DataFrame.\n",
      "Try using .loc[row_indexer,col_indexer] = value instead\n",
      "\n",
      "See the caveats in the documentation: https://pandas.pydata.org/pandas-docs/stable/user_guide/indexing.html#returning-a-view-versus-a-copy\n",
      "  time_serie['Change'] = time_serie['Change'].astype('Int64')\n",
      "C:\\Users\\Miguel Mendes\\AppData\\Local\\Temp\\ipykernel_8516\\2327759639.py:20: SettingWithCopyWarning: \n",
      "A value is trying to be set on a copy of a slice from a DataFrame\n",
      "\n",
      "See the caveats in the documentation: https://pandas.pydata.org/pandas-docs/stable/user_guide/indexing.html#returning-a-view-versus-a-copy\n",
      "  time_serie.drop(columns=['Seller ID', 'Day of Week', 'Last Week', 'Last Month'], inplace=True)\n",
      "C:\\Users\\Miguel Mendes\\AppData\\Local\\Temp\\ipykernel_8516\\2327759639.py:21: SettingWithCopyWarning: \n",
      "A value is trying to be set on a copy of a slice from a DataFrame.\n",
      "Try using .loc[row_indexer,col_indexer] = value instead\n",
      "\n",
      "See the caveats in the documentation: https://pandas.pydata.org/pandas-docs/stable/user_guide/indexing.html#returning-a-view-versus-a-copy\n",
      "  time_serie['Change'] = time_serie['Change'].astype('Int64')\n"
     ]
    },
    {
     "name": "stdout",
     "output_type": "stream",
     "text": [
      "Erro Médio Absoluto (MAE) para Seller ID 100000137: 0.0004701322759501636\n",
      "Processando Seller ID: 100001302\n"
     ]
    },
    {
     "name": "stderr",
     "output_type": "stream",
     "text": [
      "C:\\Users\\Miguel Mendes\\AppData\\Local\\Temp\\ipykernel_8516\\2327759639.py:20: SettingWithCopyWarning: \n",
      "A value is trying to be set on a copy of a slice from a DataFrame\n",
      "\n",
      "See the caveats in the documentation: https://pandas.pydata.org/pandas-docs/stable/user_guide/indexing.html#returning-a-view-versus-a-copy\n",
      "  time_serie.drop(columns=['Seller ID', 'Day of Week', 'Last Week', 'Last Month'], inplace=True)\n",
      "C:\\Users\\Miguel Mendes\\AppData\\Local\\Temp\\ipykernel_8516\\2327759639.py:21: SettingWithCopyWarning: \n",
      "A value is trying to be set on a copy of a slice from a DataFrame.\n",
      "Try using .loc[row_indexer,col_indexer] = value instead\n",
      "\n",
      "See the caveats in the documentation: https://pandas.pydata.org/pandas-docs/stable/user_guide/indexing.html#returning-a-view-versus-a-copy\n",
      "  time_serie['Change'] = time_serie['Change'].astype('Int64')\n"
     ]
    },
    {
     "name": "stdout",
     "output_type": "stream",
     "text": [
      "Erro Médio Absoluto (MAE) para Seller ID 100001302: 0.001025734469294548\n",
      "Processando Seller ID: 100001454\n",
      "Erro Médio Absoluto (MAE) para Seller ID 100001454: 0.0013405538629740477\n",
      "Processando Seller ID: 100000052\n"
     ]
    },
    {
     "name": "stderr",
     "output_type": "stream",
     "text": [
      "C:\\Users\\Miguel Mendes\\AppData\\Local\\Temp\\ipykernel_8516\\2327759639.py:20: SettingWithCopyWarning: \n",
      "A value is trying to be set on a copy of a slice from a DataFrame\n",
      "\n",
      "See the caveats in the documentation: https://pandas.pydata.org/pandas-docs/stable/user_guide/indexing.html#returning-a-view-versus-a-copy\n",
      "  time_serie.drop(columns=['Seller ID', 'Day of Week', 'Last Week', 'Last Month'], inplace=True)\n",
      "C:\\Users\\Miguel Mendes\\AppData\\Local\\Temp\\ipykernel_8516\\2327759639.py:21: SettingWithCopyWarning: \n",
      "A value is trying to be set on a copy of a slice from a DataFrame.\n",
      "Try using .loc[row_indexer,col_indexer] = value instead\n",
      "\n",
      "See the caveats in the documentation: https://pandas.pydata.org/pandas-docs/stable/user_guide/indexing.html#returning-a-view-versus-a-copy\n",
      "  time_serie['Change'] = time_serie['Change'].astype('Int64')\n",
      "C:\\Users\\Miguel Mendes\\AppData\\Local\\Temp\\ipykernel_8516\\2327759639.py:20: SettingWithCopyWarning: \n",
      "A value is trying to be set on a copy of a slice from a DataFrame\n",
      "\n",
      "See the caveats in the documentation: https://pandas.pydata.org/pandas-docs/stable/user_guide/indexing.html#returning-a-view-versus-a-copy\n",
      "  time_serie.drop(columns=['Seller ID', 'Day of Week', 'Last Week', 'Last Month'], inplace=True)\n",
      "C:\\Users\\Miguel Mendes\\AppData\\Local\\Temp\\ipykernel_8516\\2327759639.py:21: SettingWithCopyWarning: \n",
      "A value is trying to be set on a copy of a slice from a DataFrame.\n",
      "Try using .loc[row_indexer,col_indexer] = value instead\n",
      "\n",
      "See the caveats in the documentation: https://pandas.pydata.org/pandas-docs/stable/user_guide/indexing.html#returning-a-view-versus-a-copy\n",
      "  time_serie['Change'] = time_serie['Change'].astype('Int64')\n"
     ]
    },
    {
     "name": "stdout",
     "output_type": "stream",
     "text": [
      "Erro Médio Absoluto (MAE) para Seller ID 100000052: 0.012646930292248726\n",
      "Processando Seller ID: 100000188\n",
      "Erro Médio Absoluto (MAE) para Seller ID 100000188: 0.004996732342988253\n",
      "Processando Seller ID: 100000379\n"
     ]
    },
    {
     "name": "stderr",
     "output_type": "stream",
     "text": [
      "C:\\Users\\Miguel Mendes\\AppData\\Local\\Temp\\ipykernel_8516\\2327759639.py:20: SettingWithCopyWarning: \n",
      "A value is trying to be set on a copy of a slice from a DataFrame\n",
      "\n",
      "See the caveats in the documentation: https://pandas.pydata.org/pandas-docs/stable/user_guide/indexing.html#returning-a-view-versus-a-copy\n",
      "  time_serie.drop(columns=['Seller ID', 'Day of Week', 'Last Week', 'Last Month'], inplace=True)\n",
      "C:\\Users\\Miguel Mendes\\AppData\\Local\\Temp\\ipykernel_8516\\2327759639.py:21: SettingWithCopyWarning: \n",
      "A value is trying to be set on a copy of a slice from a DataFrame.\n",
      "Try using .loc[row_indexer,col_indexer] = value instead\n",
      "\n",
      "See the caveats in the documentation: https://pandas.pydata.org/pandas-docs/stable/user_guide/indexing.html#returning-a-view-versus-a-copy\n",
      "  time_serie['Change'] = time_serie['Change'].astype('Int64')\n",
      "C:\\Users\\Miguel Mendes\\AppData\\Local\\Temp\\ipykernel_8516\\2327759639.py:20: SettingWithCopyWarning: \n",
      "A value is trying to be set on a copy of a slice from a DataFrame\n",
      "\n",
      "See the caveats in the documentation: https://pandas.pydata.org/pandas-docs/stable/user_guide/indexing.html#returning-a-view-versus-a-copy\n",
      "  time_serie.drop(columns=['Seller ID', 'Day of Week', 'Last Week', 'Last Month'], inplace=True)\n",
      "C:\\Users\\Miguel Mendes\\AppData\\Local\\Temp\\ipykernel_8516\\2327759639.py:21: SettingWithCopyWarning: \n",
      "A value is trying to be set on a copy of a slice from a DataFrame.\n",
      "Try using .loc[row_indexer,col_indexer] = value instead\n",
      "\n",
      "See the caveats in the documentation: https://pandas.pydata.org/pandas-docs/stable/user_guide/indexing.html#returning-a-view-versus-a-copy\n",
      "  time_serie['Change'] = time_serie['Change'].astype('Int64')\n"
     ]
    },
    {
     "name": "stdout",
     "output_type": "stream",
     "text": [
      "Erro Médio Absoluto (MAE) para Seller ID 100000379: 0.25482410192489624\n",
      "Processando Seller ID: 100000571\n",
      "Erro Médio Absoluto (MAE) para Seller ID 100000571: 0.001000231597572565\n",
      "Processando Seller ID: 100001333\n"
     ]
    },
    {
     "name": "stderr",
     "output_type": "stream",
     "text": [
      "C:\\Users\\Miguel Mendes\\AppData\\Local\\Temp\\ipykernel_8516\\2327759639.py:20: SettingWithCopyWarning: \n",
      "A value is trying to be set on a copy of a slice from a DataFrame\n",
      "\n",
      "See the caveats in the documentation: https://pandas.pydata.org/pandas-docs/stable/user_guide/indexing.html#returning-a-view-versus-a-copy\n",
      "  time_serie.drop(columns=['Seller ID', 'Day of Week', 'Last Week', 'Last Month'], inplace=True)\n",
      "C:\\Users\\Miguel Mendes\\AppData\\Local\\Temp\\ipykernel_8516\\2327759639.py:21: SettingWithCopyWarning: \n",
      "A value is trying to be set on a copy of a slice from a DataFrame.\n",
      "Try using .loc[row_indexer,col_indexer] = value instead\n",
      "\n",
      "See the caveats in the documentation: https://pandas.pydata.org/pandas-docs/stable/user_guide/indexing.html#returning-a-view-versus-a-copy\n",
      "  time_serie['Change'] = time_serie['Change'].astype('Int64')\n",
      "C:\\Users\\Miguel Mendes\\AppData\\Local\\Temp\\ipykernel_8516\\2327759639.py:20: SettingWithCopyWarning: \n",
      "A value is trying to be set on a copy of a slice from a DataFrame\n",
      "\n",
      "See the caveats in the documentation: https://pandas.pydata.org/pandas-docs/stable/user_guide/indexing.html#returning-a-view-versus-a-copy\n",
      "  time_serie.drop(columns=['Seller ID', 'Day of Week', 'Last Week', 'Last Month'], inplace=True)\n",
      "C:\\Users\\Miguel Mendes\\AppData\\Local\\Temp\\ipykernel_8516\\2327759639.py:21: SettingWithCopyWarning: \n",
      "A value is trying to be set on a copy of a slice from a DataFrame.\n",
      "Try using .loc[row_indexer,col_indexer] = value instead\n",
      "\n",
      "See the caveats in the documentation: https://pandas.pydata.org/pandas-docs/stable/user_guide/indexing.html#returning-a-view-versus-a-copy\n",
      "  time_serie['Change'] = time_serie['Change'].astype('Int64')\n"
     ]
    },
    {
     "name": "stdout",
     "output_type": "stream",
     "text": [
      "Erro Médio Absoluto (MAE) para Seller ID 100001333: 0.0002954418014269322\n",
      "Processando Seller ID: 100000741\n",
      "Erro Médio Absoluto (MAE) para Seller ID 100000741: 0.014630732126533985\n",
      "Processando Seller ID: 100001294\n"
     ]
    },
    {
     "name": "stderr",
     "output_type": "stream",
     "text": [
      "C:\\Users\\Miguel Mendes\\AppData\\Local\\Temp\\ipykernel_8516\\2327759639.py:20: SettingWithCopyWarning: \n",
      "A value is trying to be set on a copy of a slice from a DataFrame\n",
      "\n",
      "See the caveats in the documentation: https://pandas.pydata.org/pandas-docs/stable/user_guide/indexing.html#returning-a-view-versus-a-copy\n",
      "  time_serie.drop(columns=['Seller ID', 'Day of Week', 'Last Week', 'Last Month'], inplace=True)\n",
      "C:\\Users\\Miguel Mendes\\AppData\\Local\\Temp\\ipykernel_8516\\2327759639.py:21: SettingWithCopyWarning: \n",
      "A value is trying to be set on a copy of a slice from a DataFrame.\n",
      "Try using .loc[row_indexer,col_indexer] = value instead\n",
      "\n",
      "See the caveats in the documentation: https://pandas.pydata.org/pandas-docs/stable/user_guide/indexing.html#returning-a-view-versus-a-copy\n",
      "  time_serie['Change'] = time_serie['Change'].astype('Int64')\n",
      "C:\\Users\\Miguel Mendes\\AppData\\Local\\Temp\\ipykernel_8516\\2327759639.py:20: SettingWithCopyWarning: \n",
      "A value is trying to be set on a copy of a slice from a DataFrame\n",
      "\n",
      "See the caveats in the documentation: https://pandas.pydata.org/pandas-docs/stable/user_guide/indexing.html#returning-a-view-versus-a-copy\n",
      "  time_serie.drop(columns=['Seller ID', 'Day of Week', 'Last Week', 'Last Month'], inplace=True)\n",
      "C:\\Users\\Miguel Mendes\\AppData\\Local\\Temp\\ipykernel_8516\\2327759639.py:21: SettingWithCopyWarning: \n",
      "A value is trying to be set on a copy of a slice from a DataFrame.\n",
      "Try using .loc[row_indexer,col_indexer] = value instead\n",
      "\n",
      "See the caveats in the documentation: https://pandas.pydata.org/pandas-docs/stable/user_guide/indexing.html#returning-a-view-versus-a-copy\n",
      "  time_serie['Change'] = time_serie['Change'].astype('Int64')\n"
     ]
    },
    {
     "name": "stdout",
     "output_type": "stream",
     "text": [
      "Erro Médio Absoluto (MAE) para Seller ID 100001294: 0.00021468952763825655\n",
      "Processando Seller ID: 100000742\n",
      "Erro Médio Absoluto (MAE) para Seller ID 100000742: 0.1155221164226532\n",
      "Processando Seller ID: 100000132\n"
     ]
    },
    {
     "name": "stderr",
     "output_type": "stream",
     "text": [
      "C:\\Users\\Miguel Mendes\\AppData\\Local\\Temp\\ipykernel_8516\\2327759639.py:20: SettingWithCopyWarning: \n",
      "A value is trying to be set on a copy of a slice from a DataFrame\n",
      "\n",
      "See the caveats in the documentation: https://pandas.pydata.org/pandas-docs/stable/user_guide/indexing.html#returning-a-view-versus-a-copy\n",
      "  time_serie.drop(columns=['Seller ID', 'Day of Week', 'Last Week', 'Last Month'], inplace=True)\n",
      "C:\\Users\\Miguel Mendes\\AppData\\Local\\Temp\\ipykernel_8516\\2327759639.py:21: SettingWithCopyWarning: \n",
      "A value is trying to be set on a copy of a slice from a DataFrame.\n",
      "Try using .loc[row_indexer,col_indexer] = value instead\n",
      "\n",
      "See the caveats in the documentation: https://pandas.pydata.org/pandas-docs/stable/user_guide/indexing.html#returning-a-view-versus-a-copy\n",
      "  time_serie['Change'] = time_serie['Change'].astype('Int64')\n",
      "C:\\Users\\Miguel Mendes\\AppData\\Local\\Temp\\ipykernel_8516\\2327759639.py:20: SettingWithCopyWarning: \n",
      "A value is trying to be set on a copy of a slice from a DataFrame\n",
      "\n",
      "See the caveats in the documentation: https://pandas.pydata.org/pandas-docs/stable/user_guide/indexing.html#returning-a-view-versus-a-copy\n",
      "  time_serie.drop(columns=['Seller ID', 'Day of Week', 'Last Week', 'Last Month'], inplace=True)\n",
      "C:\\Users\\Miguel Mendes\\AppData\\Local\\Temp\\ipykernel_8516\\2327759639.py:21: SettingWithCopyWarning: \n",
      "A value is trying to be set on a copy of a slice from a DataFrame.\n",
      "Try using .loc[row_indexer,col_indexer] = value instead\n",
      "\n",
      "See the caveats in the documentation: https://pandas.pydata.org/pandas-docs/stable/user_guide/indexing.html#returning-a-view-versus-a-copy\n",
      "  time_serie['Change'] = time_serie['Change'].astype('Int64')\n"
     ]
    },
    {
     "name": "stdout",
     "output_type": "stream",
     "text": [
      "Erro Médio Absoluto (MAE) para Seller ID 100000132: 0.0007034141453914344\n",
      "Processando Seller ID: 100000282\n",
      "Erro Médio Absoluto (MAE) para Seller ID 100000282: 0.1760002076625824\n",
      "Processando Seller ID: 100000855\n"
     ]
    },
    {
     "name": "stderr",
     "output_type": "stream",
     "text": [
      "C:\\Users\\Miguel Mendes\\AppData\\Local\\Temp\\ipykernel_8516\\2327759639.py:20: SettingWithCopyWarning: \n",
      "A value is trying to be set on a copy of a slice from a DataFrame\n",
      "\n",
      "See the caveats in the documentation: https://pandas.pydata.org/pandas-docs/stable/user_guide/indexing.html#returning-a-view-versus-a-copy\n",
      "  time_serie.drop(columns=['Seller ID', 'Day of Week', 'Last Week', 'Last Month'], inplace=True)\n",
      "C:\\Users\\Miguel Mendes\\AppData\\Local\\Temp\\ipykernel_8516\\2327759639.py:21: SettingWithCopyWarning: \n",
      "A value is trying to be set on a copy of a slice from a DataFrame.\n",
      "Try using .loc[row_indexer,col_indexer] = value instead\n",
      "\n",
      "See the caveats in the documentation: https://pandas.pydata.org/pandas-docs/stable/user_guide/indexing.html#returning-a-view-versus-a-copy\n",
      "  time_serie['Change'] = time_serie['Change'].astype('Int64')\n",
      "C:\\Users\\Miguel Mendes\\AppData\\Local\\Temp\\ipykernel_8516\\2327759639.py:20: SettingWithCopyWarning: \n",
      "A value is trying to be set on a copy of a slice from a DataFrame\n",
      "\n",
      "See the caveats in the documentation: https://pandas.pydata.org/pandas-docs/stable/user_guide/indexing.html#returning-a-view-versus-a-copy\n",
      "  time_serie.drop(columns=['Seller ID', 'Day of Week', 'Last Week', 'Last Month'], inplace=True)\n",
      "C:\\Users\\Miguel Mendes\\AppData\\Local\\Temp\\ipykernel_8516\\2327759639.py:21: SettingWithCopyWarning: \n",
      "A value is trying to be set on a copy of a slice from a DataFrame.\n",
      "Try using .loc[row_indexer,col_indexer] = value instead\n",
      "\n",
      "See the caveats in the documentation: https://pandas.pydata.org/pandas-docs/stable/user_guide/indexing.html#returning-a-view-versus-a-copy\n",
      "  time_serie['Change'] = time_serie['Change'].astype('Int64')\n"
     ]
    },
    {
     "name": "stdout",
     "output_type": "stream",
     "text": [
      "Erro Médio Absoluto (MAE) para Seller ID 100000855: 0.008950716815888882\n",
      "Processando Seller ID: 100001284\n",
      "Erro Médio Absoluto (MAE) para Seller ID 100001284: 0.0010535973124206066\n",
      "Processando Seller ID: 100000277\n"
     ]
    },
    {
     "name": "stderr",
     "output_type": "stream",
     "text": [
      "C:\\Users\\Miguel Mendes\\AppData\\Local\\Temp\\ipykernel_8516\\2327759639.py:20: SettingWithCopyWarning: \n",
      "A value is trying to be set on a copy of a slice from a DataFrame\n",
      "\n",
      "See the caveats in the documentation: https://pandas.pydata.org/pandas-docs/stable/user_guide/indexing.html#returning-a-view-versus-a-copy\n",
      "  time_serie.drop(columns=['Seller ID', 'Day of Week', 'Last Week', 'Last Month'], inplace=True)\n",
      "C:\\Users\\Miguel Mendes\\AppData\\Local\\Temp\\ipykernel_8516\\2327759639.py:21: SettingWithCopyWarning: \n",
      "A value is trying to be set on a copy of a slice from a DataFrame.\n",
      "Try using .loc[row_indexer,col_indexer] = value instead\n",
      "\n",
      "See the caveats in the documentation: https://pandas.pydata.org/pandas-docs/stable/user_guide/indexing.html#returning-a-view-versus-a-copy\n",
      "  time_serie['Change'] = time_serie['Change'].astype('Int64')\n",
      "C:\\Users\\Miguel Mendes\\AppData\\Local\\Temp\\ipykernel_8516\\2327759639.py:20: SettingWithCopyWarning: \n",
      "A value is trying to be set on a copy of a slice from a DataFrame\n",
      "\n",
      "See the caveats in the documentation: https://pandas.pydata.org/pandas-docs/stable/user_guide/indexing.html#returning-a-view-versus-a-copy\n",
      "  time_serie.drop(columns=['Seller ID', 'Day of Week', 'Last Week', 'Last Month'], inplace=True)\n",
      "C:\\Users\\Miguel Mendes\\AppData\\Local\\Temp\\ipykernel_8516\\2327759639.py:21: SettingWithCopyWarning: \n",
      "A value is trying to be set on a copy of a slice from a DataFrame.\n",
      "Try using .loc[row_indexer,col_indexer] = value instead\n",
      "\n",
      "See the caveats in the documentation: https://pandas.pydata.org/pandas-docs/stable/user_guide/indexing.html#returning-a-view-versus-a-copy\n",
      "  time_serie['Change'] = time_serie['Change'].astype('Int64')\n"
     ]
    },
    {
     "name": "stdout",
     "output_type": "stream",
     "text": [
      "Erro Médio Absoluto (MAE) para Seller ID 100000277: 3.8599766412517056e-05\n",
      "Processando Seller ID: 100001009\n",
      "Erro Médio Absoluto (MAE) para Seller ID 100001009: 0.001986108720302582\n",
      "Processando Seller ID: 100000240\n"
     ]
    },
    {
     "name": "stderr",
     "output_type": "stream",
     "text": [
      "C:\\Users\\Miguel Mendes\\AppData\\Local\\Temp\\ipykernel_8516\\2327759639.py:20: SettingWithCopyWarning: \n",
      "A value is trying to be set on a copy of a slice from a DataFrame\n",
      "\n",
      "See the caveats in the documentation: https://pandas.pydata.org/pandas-docs/stable/user_guide/indexing.html#returning-a-view-versus-a-copy\n",
      "  time_serie.drop(columns=['Seller ID', 'Day of Week', 'Last Week', 'Last Month'], inplace=True)\n",
      "C:\\Users\\Miguel Mendes\\AppData\\Local\\Temp\\ipykernel_8516\\2327759639.py:21: SettingWithCopyWarning: \n",
      "A value is trying to be set on a copy of a slice from a DataFrame.\n",
      "Try using .loc[row_indexer,col_indexer] = value instead\n",
      "\n",
      "See the caveats in the documentation: https://pandas.pydata.org/pandas-docs/stable/user_guide/indexing.html#returning-a-view-versus-a-copy\n",
      "  time_serie['Change'] = time_serie['Change'].astype('Int64')\n",
      "C:\\Users\\Miguel Mendes\\AppData\\Local\\Temp\\ipykernel_8516\\2327759639.py:20: SettingWithCopyWarning: \n",
      "A value is trying to be set on a copy of a slice from a DataFrame\n",
      "\n",
      "See the caveats in the documentation: https://pandas.pydata.org/pandas-docs/stable/user_guide/indexing.html#returning-a-view-versus-a-copy\n",
      "  time_serie.drop(columns=['Seller ID', 'Day of Week', 'Last Week', 'Last Month'], inplace=True)\n",
      "C:\\Users\\Miguel Mendes\\AppData\\Local\\Temp\\ipykernel_8516\\2327759639.py:21: SettingWithCopyWarning: \n",
      "A value is trying to be set on a copy of a slice from a DataFrame.\n",
      "Try using .loc[row_indexer,col_indexer] = value instead\n",
      "\n",
      "See the caveats in the documentation: https://pandas.pydata.org/pandas-docs/stable/user_guide/indexing.html#returning-a-view-versus-a-copy\n",
      "  time_serie['Change'] = time_serie['Change'].astype('Int64')\n"
     ]
    },
    {
     "name": "stdout",
     "output_type": "stream",
     "text": [
      "Erro Médio Absoluto (MAE) para Seller ID 100000240: 0.002329427283257246\n",
      "Processando Seller ID: 100000291\n",
      "Erro Médio Absoluto (MAE) para Seller ID 100000291: 2.7011803467758e-05\n",
      "Processando Seller ID: 100000026\n"
     ]
    },
    {
     "name": "stderr",
     "output_type": "stream",
     "text": [
      "C:\\Users\\Miguel Mendes\\AppData\\Local\\Temp\\ipykernel_8516\\2327759639.py:20: SettingWithCopyWarning: \n",
      "A value is trying to be set on a copy of a slice from a DataFrame\n",
      "\n",
      "See the caveats in the documentation: https://pandas.pydata.org/pandas-docs/stable/user_guide/indexing.html#returning-a-view-versus-a-copy\n",
      "  time_serie.drop(columns=['Seller ID', 'Day of Week', 'Last Week', 'Last Month'], inplace=True)\n",
      "C:\\Users\\Miguel Mendes\\AppData\\Local\\Temp\\ipykernel_8516\\2327759639.py:21: SettingWithCopyWarning: \n",
      "A value is trying to be set on a copy of a slice from a DataFrame.\n",
      "Try using .loc[row_indexer,col_indexer] = value instead\n",
      "\n",
      "See the caveats in the documentation: https://pandas.pydata.org/pandas-docs/stable/user_guide/indexing.html#returning-a-view-versus-a-copy\n",
      "  time_serie['Change'] = time_serie['Change'].astype('Int64')\n",
      "C:\\Users\\Miguel Mendes\\AppData\\Local\\Temp\\ipykernel_8516\\2327759639.py:20: SettingWithCopyWarning: \n",
      "A value is trying to be set on a copy of a slice from a DataFrame\n",
      "\n",
      "See the caveats in the documentation: https://pandas.pydata.org/pandas-docs/stable/user_guide/indexing.html#returning-a-view-versus-a-copy\n",
      "  time_serie.drop(columns=['Seller ID', 'Day of Week', 'Last Week', 'Last Month'], inplace=True)\n",
      "C:\\Users\\Miguel Mendes\\AppData\\Local\\Temp\\ipykernel_8516\\2327759639.py:21: SettingWithCopyWarning: \n",
      "A value is trying to be set on a copy of a slice from a DataFrame.\n",
      "Try using .loc[row_indexer,col_indexer] = value instead\n",
      "\n",
      "See the caveats in the documentation: https://pandas.pydata.org/pandas-docs/stable/user_guide/indexing.html#returning-a-view-versus-a-copy\n",
      "  time_serie['Change'] = time_serie['Change'].astype('Int64')\n"
     ]
    },
    {
     "name": "stdout",
     "output_type": "stream",
     "text": [
      "Erro Médio Absoluto (MAE) para Seller ID 100000026: 0.00020122906425967813\n",
      "Processando Seller ID: 100000328\n",
      "Erro Médio Absoluto (MAE) para Seller ID 100000328: 3.65913292625919e-05\n",
      "Processando Seller ID: 100001165\n"
     ]
    },
    {
     "name": "stderr",
     "output_type": "stream",
     "text": [
      "C:\\Users\\Miguel Mendes\\AppData\\Local\\Temp\\ipykernel_8516\\2327759639.py:20: SettingWithCopyWarning: \n",
      "A value is trying to be set on a copy of a slice from a DataFrame\n",
      "\n",
      "See the caveats in the documentation: https://pandas.pydata.org/pandas-docs/stable/user_guide/indexing.html#returning-a-view-versus-a-copy\n",
      "  time_serie.drop(columns=['Seller ID', 'Day of Week', 'Last Week', 'Last Month'], inplace=True)\n",
      "C:\\Users\\Miguel Mendes\\AppData\\Local\\Temp\\ipykernel_8516\\2327759639.py:21: SettingWithCopyWarning: \n",
      "A value is trying to be set on a copy of a slice from a DataFrame.\n",
      "Try using .loc[row_indexer,col_indexer] = value instead\n",
      "\n",
      "See the caveats in the documentation: https://pandas.pydata.org/pandas-docs/stable/user_guide/indexing.html#returning-a-view-versus-a-copy\n",
      "  time_serie['Change'] = time_serie['Change'].astype('Int64')\n",
      "C:\\Users\\Miguel Mendes\\AppData\\Local\\Temp\\ipykernel_8516\\2327759639.py:20: SettingWithCopyWarning: \n",
      "A value is trying to be set on a copy of a slice from a DataFrame\n",
      "\n",
      "See the caveats in the documentation: https://pandas.pydata.org/pandas-docs/stable/user_guide/indexing.html#returning-a-view-versus-a-copy\n",
      "  time_serie.drop(columns=['Seller ID', 'Day of Week', 'Last Week', 'Last Month'], inplace=True)\n",
      "C:\\Users\\Miguel Mendes\\AppData\\Local\\Temp\\ipykernel_8516\\2327759639.py:21: SettingWithCopyWarning: \n",
      "A value is trying to be set on a copy of a slice from a DataFrame.\n",
      "Try using .loc[row_indexer,col_indexer] = value instead\n",
      "\n",
      "See the caveats in the documentation: https://pandas.pydata.org/pandas-docs/stable/user_guide/indexing.html#returning-a-view-versus-a-copy\n",
      "  time_serie['Change'] = time_serie['Change'].astype('Int64')\n"
     ]
    },
    {
     "name": "stdout",
     "output_type": "stream",
     "text": [
      "Erro Médio Absoluto (MAE) para Seller ID 100001165: 5.550929199671373e-05\n",
      "Processando Seller ID: 100001043\n",
      "Erro Médio Absoluto (MAE) para Seller ID 100001043: 0.0003786021552514285\n",
      "Processando Seller ID: 100000233\n"
     ]
    },
    {
     "name": "stderr",
     "output_type": "stream",
     "text": [
      "C:\\Users\\Miguel Mendes\\AppData\\Local\\Temp\\ipykernel_8516\\2327759639.py:20: SettingWithCopyWarning: \n",
      "A value is trying to be set on a copy of a slice from a DataFrame\n",
      "\n",
      "See the caveats in the documentation: https://pandas.pydata.org/pandas-docs/stable/user_guide/indexing.html#returning-a-view-versus-a-copy\n",
      "  time_serie.drop(columns=['Seller ID', 'Day of Week', 'Last Week', 'Last Month'], inplace=True)\n",
      "C:\\Users\\Miguel Mendes\\AppData\\Local\\Temp\\ipykernel_8516\\2327759639.py:21: SettingWithCopyWarning: \n",
      "A value is trying to be set on a copy of a slice from a DataFrame.\n",
      "Try using .loc[row_indexer,col_indexer] = value instead\n",
      "\n",
      "See the caveats in the documentation: https://pandas.pydata.org/pandas-docs/stable/user_guide/indexing.html#returning-a-view-versus-a-copy\n",
      "  time_serie['Change'] = time_serie['Change'].astype('Int64')\n",
      "C:\\Users\\Miguel Mendes\\AppData\\Local\\Temp\\ipykernel_8516\\2327759639.py:20: SettingWithCopyWarning: \n",
      "A value is trying to be set on a copy of a slice from a DataFrame\n",
      "\n",
      "See the caveats in the documentation: https://pandas.pydata.org/pandas-docs/stable/user_guide/indexing.html#returning-a-view-versus-a-copy\n",
      "  time_serie.drop(columns=['Seller ID', 'Day of Week', 'Last Week', 'Last Month'], inplace=True)\n",
      "C:\\Users\\Miguel Mendes\\AppData\\Local\\Temp\\ipykernel_8516\\2327759639.py:21: SettingWithCopyWarning: \n",
      "A value is trying to be set on a copy of a slice from a DataFrame.\n",
      "Try using .loc[row_indexer,col_indexer] = value instead\n",
      "\n",
      "See the caveats in the documentation: https://pandas.pydata.org/pandas-docs/stable/user_guide/indexing.html#returning-a-view-versus-a-copy\n",
      "  time_serie['Change'] = time_serie['Change'].astype('Int64')\n"
     ]
    },
    {
     "name": "stdout",
     "output_type": "stream",
     "text": [
      "Erro Médio Absoluto (MAE) para Seller ID 100000233: 0.0002265674847876653\n",
      "Processando Seller ID: 100000380\n",
      "Erro Médio Absoluto (MAE) para Seller ID 100000380: 0.00011813132732640952\n",
      "Processando Seller ID: 100000404\n"
     ]
    },
    {
     "name": "stderr",
     "output_type": "stream",
     "text": [
      "C:\\Users\\Miguel Mendes\\AppData\\Local\\Temp\\ipykernel_8516\\2327759639.py:20: SettingWithCopyWarning: \n",
      "A value is trying to be set on a copy of a slice from a DataFrame\n",
      "\n",
      "See the caveats in the documentation: https://pandas.pydata.org/pandas-docs/stable/user_guide/indexing.html#returning-a-view-versus-a-copy\n",
      "  time_serie.drop(columns=['Seller ID', 'Day of Week', 'Last Week', 'Last Month'], inplace=True)\n",
      "C:\\Users\\Miguel Mendes\\AppData\\Local\\Temp\\ipykernel_8516\\2327759639.py:21: SettingWithCopyWarning: \n",
      "A value is trying to be set on a copy of a slice from a DataFrame.\n",
      "Try using .loc[row_indexer,col_indexer] = value instead\n",
      "\n",
      "See the caveats in the documentation: https://pandas.pydata.org/pandas-docs/stable/user_guide/indexing.html#returning-a-view-versus-a-copy\n",
      "  time_serie['Change'] = time_serie['Change'].astype('Int64')\n",
      "C:\\Users\\Miguel Mendes\\AppData\\Local\\Temp\\ipykernel_8516\\2327759639.py:20: SettingWithCopyWarning: \n",
      "A value is trying to be set on a copy of a slice from a DataFrame\n",
      "\n",
      "See the caveats in the documentation: https://pandas.pydata.org/pandas-docs/stable/user_guide/indexing.html#returning-a-view-versus-a-copy\n",
      "  time_serie.drop(columns=['Seller ID', 'Day of Week', 'Last Week', 'Last Month'], inplace=True)\n",
      "C:\\Users\\Miguel Mendes\\AppData\\Local\\Temp\\ipykernel_8516\\2327759639.py:21: SettingWithCopyWarning: \n",
      "A value is trying to be set on a copy of a slice from a DataFrame.\n",
      "Try using .loc[row_indexer,col_indexer] = value instead\n",
      "\n",
      "See the caveats in the documentation: https://pandas.pydata.org/pandas-docs/stable/user_guide/indexing.html#returning-a-view-versus-a-copy\n",
      "  time_serie['Change'] = time_serie['Change'].astype('Int64')\n"
     ]
    },
    {
     "name": "stdout",
     "output_type": "stream",
     "text": [
      "Erro Médio Absoluto (MAE) para Seller ID 100000404: 0.00019895139848813415\n",
      "Processando Seller ID: 100000315\n",
      "Erro Médio Absoluto (MAE) para Seller ID 100000315: 0.00010920593922492117\n",
      "Processando Seller ID: 100000377\n"
     ]
    },
    {
     "name": "stderr",
     "output_type": "stream",
     "text": [
      "C:\\Users\\Miguel Mendes\\AppData\\Local\\Temp\\ipykernel_8516\\2327759639.py:20: SettingWithCopyWarning: \n",
      "A value is trying to be set on a copy of a slice from a DataFrame\n",
      "\n",
      "See the caveats in the documentation: https://pandas.pydata.org/pandas-docs/stable/user_guide/indexing.html#returning-a-view-versus-a-copy\n",
      "  time_serie.drop(columns=['Seller ID', 'Day of Week', 'Last Week', 'Last Month'], inplace=True)\n",
      "C:\\Users\\Miguel Mendes\\AppData\\Local\\Temp\\ipykernel_8516\\2327759639.py:21: SettingWithCopyWarning: \n",
      "A value is trying to be set on a copy of a slice from a DataFrame.\n",
      "Try using .loc[row_indexer,col_indexer] = value instead\n",
      "\n",
      "See the caveats in the documentation: https://pandas.pydata.org/pandas-docs/stable/user_guide/indexing.html#returning-a-view-versus-a-copy\n",
      "  time_serie['Change'] = time_serie['Change'].astype('Int64')\n",
      "C:\\Users\\Miguel Mendes\\AppData\\Local\\Temp\\ipykernel_8516\\2327759639.py:20: SettingWithCopyWarning: \n",
      "A value is trying to be set on a copy of a slice from a DataFrame\n",
      "\n",
      "See the caveats in the documentation: https://pandas.pydata.org/pandas-docs/stable/user_guide/indexing.html#returning-a-view-versus-a-copy\n",
      "  time_serie.drop(columns=['Seller ID', 'Day of Week', 'Last Week', 'Last Month'], inplace=True)\n",
      "C:\\Users\\Miguel Mendes\\AppData\\Local\\Temp\\ipykernel_8516\\2327759639.py:21: SettingWithCopyWarning: \n",
      "A value is trying to be set on a copy of a slice from a DataFrame.\n",
      "Try using .loc[row_indexer,col_indexer] = value instead\n",
      "\n",
      "See the caveats in the documentation: https://pandas.pydata.org/pandas-docs/stable/user_guide/indexing.html#returning-a-view-versus-a-copy\n",
      "  time_serie['Change'] = time_serie['Change'].astype('Int64')\n"
     ]
    },
    {
     "name": "stdout",
     "output_type": "stream",
     "text": [
      "Erro Médio Absoluto (MAE) para Seller ID 100000377: 0.0005021309480071068\n",
      "Processando Seller ID: 100000651\n",
      "Erro Médio Absoluto (MAE) para Seller ID 100000651: 0.00037738968967460096\n",
      "Processando Seller ID: 100001488\n"
     ]
    },
    {
     "name": "stderr",
     "output_type": "stream",
     "text": [
      "C:\\Users\\Miguel Mendes\\AppData\\Local\\Temp\\ipykernel_8516\\2327759639.py:20: SettingWithCopyWarning: \n",
      "A value is trying to be set on a copy of a slice from a DataFrame\n",
      "\n",
      "See the caveats in the documentation: https://pandas.pydata.org/pandas-docs/stable/user_guide/indexing.html#returning-a-view-versus-a-copy\n",
      "  time_serie.drop(columns=['Seller ID', 'Day of Week', 'Last Week', 'Last Month'], inplace=True)\n",
      "C:\\Users\\Miguel Mendes\\AppData\\Local\\Temp\\ipykernel_8516\\2327759639.py:21: SettingWithCopyWarning: \n",
      "A value is trying to be set on a copy of a slice from a DataFrame.\n",
      "Try using .loc[row_indexer,col_indexer] = value instead\n",
      "\n",
      "See the caveats in the documentation: https://pandas.pydata.org/pandas-docs/stable/user_guide/indexing.html#returning-a-view-versus-a-copy\n",
      "  time_serie['Change'] = time_serie['Change'].astype('Int64')\n",
      "C:\\Users\\Miguel Mendes\\AppData\\Local\\Temp\\ipykernel_8516\\2327759639.py:20: SettingWithCopyWarning: \n",
      "A value is trying to be set on a copy of a slice from a DataFrame\n",
      "\n",
      "See the caveats in the documentation: https://pandas.pydata.org/pandas-docs/stable/user_guide/indexing.html#returning-a-view-versus-a-copy\n",
      "  time_serie.drop(columns=['Seller ID', 'Day of Week', 'Last Week', 'Last Month'], inplace=True)\n",
      "C:\\Users\\Miguel Mendes\\AppData\\Local\\Temp\\ipykernel_8516\\2327759639.py:21: SettingWithCopyWarning: \n",
      "A value is trying to be set on a copy of a slice from a DataFrame.\n",
      "Try using .loc[row_indexer,col_indexer] = value instead\n",
      "\n",
      "See the caveats in the documentation: https://pandas.pydata.org/pandas-docs/stable/user_guide/indexing.html#returning-a-view-versus-a-copy\n",
      "  time_serie['Change'] = time_serie['Change'].astype('Int64')\n"
     ]
    },
    {
     "name": "stdout",
     "output_type": "stream",
     "text": [
      "Erro Médio Absoluto (MAE) para Seller ID 100001488: 6.0406391639844514e-06\n",
      "Processando Seller ID: 100000717\n",
      "Erro Médio Absoluto (MAE) para Seller ID 100000717: 6.832208600826561e-05\n",
      "Processando Seller ID: 100001117\n"
     ]
    },
    {
     "name": "stderr",
     "output_type": "stream",
     "text": [
      "C:\\Users\\Miguel Mendes\\AppData\\Local\\Temp\\ipykernel_8516\\2327759639.py:20: SettingWithCopyWarning: \n",
      "A value is trying to be set on a copy of a slice from a DataFrame\n",
      "\n",
      "See the caveats in the documentation: https://pandas.pydata.org/pandas-docs/stable/user_guide/indexing.html#returning-a-view-versus-a-copy\n",
      "  time_serie.drop(columns=['Seller ID', 'Day of Week', 'Last Week', 'Last Month'], inplace=True)\n",
      "C:\\Users\\Miguel Mendes\\AppData\\Local\\Temp\\ipykernel_8516\\2327759639.py:21: SettingWithCopyWarning: \n",
      "A value is trying to be set on a copy of a slice from a DataFrame.\n",
      "Try using .loc[row_indexer,col_indexer] = value instead\n",
      "\n",
      "See the caveats in the documentation: https://pandas.pydata.org/pandas-docs/stable/user_guide/indexing.html#returning-a-view-versus-a-copy\n",
      "  time_serie['Change'] = time_serie['Change'].astype('Int64')\n",
      "C:\\Users\\Miguel Mendes\\AppData\\Local\\Temp\\ipykernel_8516\\2327759639.py:20: SettingWithCopyWarning: \n",
      "A value is trying to be set on a copy of a slice from a DataFrame\n",
      "\n",
      "See the caveats in the documentation: https://pandas.pydata.org/pandas-docs/stable/user_guide/indexing.html#returning-a-view-versus-a-copy\n",
      "  time_serie.drop(columns=['Seller ID', 'Day of Week', 'Last Week', 'Last Month'], inplace=True)\n",
      "C:\\Users\\Miguel Mendes\\AppData\\Local\\Temp\\ipykernel_8516\\2327759639.py:21: SettingWithCopyWarning: \n",
      "A value is trying to be set on a copy of a slice from a DataFrame.\n",
      "Try using .loc[row_indexer,col_indexer] = value instead\n",
      "\n",
      "See the caveats in the documentation: https://pandas.pydata.org/pandas-docs/stable/user_guide/indexing.html#returning-a-view-versus-a-copy\n",
      "  time_serie['Change'] = time_serie['Change'].astype('Int64')\n"
     ]
    },
    {
     "name": "stdout",
     "output_type": "stream",
     "text": [
      "Erro Médio Absoluto (MAE) para Seller ID 100001117: 1.544816950627137e-05\n",
      "Processando Seller ID: 100001195\n",
      "Erro Médio Absoluto (MAE) para Seller ID 100001195: 0.00010007712990045547\n",
      "Processando Seller ID: 100000098\n"
     ]
    },
    {
     "name": "stderr",
     "output_type": "stream",
     "text": [
      "C:\\Users\\Miguel Mendes\\AppData\\Local\\Temp\\ipykernel_8516\\2327759639.py:20: SettingWithCopyWarning: \n",
      "A value is trying to be set on a copy of a slice from a DataFrame\n",
      "\n",
      "See the caveats in the documentation: https://pandas.pydata.org/pandas-docs/stable/user_guide/indexing.html#returning-a-view-versus-a-copy\n",
      "  time_serie.drop(columns=['Seller ID', 'Day of Week', 'Last Week', 'Last Month'], inplace=True)\n",
      "C:\\Users\\Miguel Mendes\\AppData\\Local\\Temp\\ipykernel_8516\\2327759639.py:21: SettingWithCopyWarning: \n",
      "A value is trying to be set on a copy of a slice from a DataFrame.\n",
      "Try using .loc[row_indexer,col_indexer] = value instead\n",
      "\n",
      "See the caveats in the documentation: https://pandas.pydata.org/pandas-docs/stable/user_guide/indexing.html#returning-a-view-versus-a-copy\n",
      "  time_serie['Change'] = time_serie['Change'].astype('Int64')\n",
      "C:\\Users\\Miguel Mendes\\AppData\\Local\\Temp\\ipykernel_8516\\2327759639.py:20: SettingWithCopyWarning: \n",
      "A value is trying to be set on a copy of a slice from a DataFrame\n",
      "\n",
      "See the caveats in the documentation: https://pandas.pydata.org/pandas-docs/stable/user_guide/indexing.html#returning-a-view-versus-a-copy\n",
      "  time_serie.drop(columns=['Seller ID', 'Day of Week', 'Last Week', 'Last Month'], inplace=True)\n",
      "C:\\Users\\Miguel Mendes\\AppData\\Local\\Temp\\ipykernel_8516\\2327759639.py:21: SettingWithCopyWarning: \n",
      "A value is trying to be set on a copy of a slice from a DataFrame.\n",
      "Try using .loc[row_indexer,col_indexer] = value instead\n",
      "\n",
      "See the caveats in the documentation: https://pandas.pydata.org/pandas-docs/stable/user_guide/indexing.html#returning-a-view-versus-a-copy\n",
      "  time_serie['Change'] = time_serie['Change'].astype('Int64')\n"
     ]
    },
    {
     "name": "stdout",
     "output_type": "stream",
     "text": [
      "Erro Médio Absoluto (MAE) para Seller ID 100000098: 0.0009468833450227976\n",
      "Processando Seller ID: 100000319\n",
      "Erro Médio Absoluto (MAE) para Seller ID 100000319: 0.00019120873184874654\n",
      "Processando Seller ID: 100000378\n"
     ]
    },
    {
     "name": "stderr",
     "output_type": "stream",
     "text": [
      "C:\\Users\\Miguel Mendes\\AppData\\Local\\Temp\\ipykernel_8516\\2327759639.py:20: SettingWithCopyWarning: \n",
      "A value is trying to be set on a copy of a slice from a DataFrame\n",
      "\n",
      "See the caveats in the documentation: https://pandas.pydata.org/pandas-docs/stable/user_guide/indexing.html#returning-a-view-versus-a-copy\n",
      "  time_serie.drop(columns=['Seller ID', 'Day of Week', 'Last Week', 'Last Month'], inplace=True)\n",
      "C:\\Users\\Miguel Mendes\\AppData\\Local\\Temp\\ipykernel_8516\\2327759639.py:21: SettingWithCopyWarning: \n",
      "A value is trying to be set on a copy of a slice from a DataFrame.\n",
      "Try using .loc[row_indexer,col_indexer] = value instead\n",
      "\n",
      "See the caveats in the documentation: https://pandas.pydata.org/pandas-docs/stable/user_guide/indexing.html#returning-a-view-versus-a-copy\n",
      "  time_serie['Change'] = time_serie['Change'].astype('Int64')\n",
      "C:\\Users\\Miguel Mendes\\AppData\\Local\\Temp\\ipykernel_8516\\2327759639.py:20: SettingWithCopyWarning: \n",
      "A value is trying to be set on a copy of a slice from a DataFrame\n",
      "\n",
      "See the caveats in the documentation: https://pandas.pydata.org/pandas-docs/stable/user_guide/indexing.html#returning-a-view-versus-a-copy\n",
      "  time_serie.drop(columns=['Seller ID', 'Day of Week', 'Last Week', 'Last Month'], inplace=True)\n",
      "C:\\Users\\Miguel Mendes\\AppData\\Local\\Temp\\ipykernel_8516\\2327759639.py:21: SettingWithCopyWarning: \n",
      "A value is trying to be set on a copy of a slice from a DataFrame.\n",
      "Try using .loc[row_indexer,col_indexer] = value instead\n",
      "\n",
      "See the caveats in the documentation: https://pandas.pydata.org/pandas-docs/stable/user_guide/indexing.html#returning-a-view-versus-a-copy\n",
      "  time_serie['Change'] = time_serie['Change'].astype('Int64')\n"
     ]
    },
    {
     "name": "stdout",
     "output_type": "stream",
     "text": [
      "Erro Médio Absoluto (MAE) para Seller ID 100000378: 0.0002913048956543207\n",
      "Processando Seller ID: 100001291\n",
      "Erro Médio Absoluto (MAE) para Seller ID 100001291: 0.0004777794820256531\n",
      "Processando Seller ID: 100001157\n"
     ]
    },
    {
     "name": "stderr",
     "output_type": "stream",
     "text": [
      "C:\\Users\\Miguel Mendes\\AppData\\Local\\Temp\\ipykernel_8516\\2327759639.py:20: SettingWithCopyWarning: \n",
      "A value is trying to be set on a copy of a slice from a DataFrame\n",
      "\n",
      "See the caveats in the documentation: https://pandas.pydata.org/pandas-docs/stable/user_guide/indexing.html#returning-a-view-versus-a-copy\n",
      "  time_serie.drop(columns=['Seller ID', 'Day of Week', 'Last Week', 'Last Month'], inplace=True)\n",
      "C:\\Users\\Miguel Mendes\\AppData\\Local\\Temp\\ipykernel_8516\\2327759639.py:21: SettingWithCopyWarning: \n",
      "A value is trying to be set on a copy of a slice from a DataFrame.\n",
      "Try using .loc[row_indexer,col_indexer] = value instead\n",
      "\n",
      "See the caveats in the documentation: https://pandas.pydata.org/pandas-docs/stable/user_guide/indexing.html#returning-a-view-versus-a-copy\n",
      "  time_serie['Change'] = time_serie['Change'].astype('Int64')\n",
      "C:\\Users\\Miguel Mendes\\AppData\\Local\\Temp\\ipykernel_8516\\2327759639.py:20: SettingWithCopyWarning: \n",
      "A value is trying to be set on a copy of a slice from a DataFrame\n",
      "\n",
      "See the caveats in the documentation: https://pandas.pydata.org/pandas-docs/stable/user_guide/indexing.html#returning-a-view-versus-a-copy\n",
      "  time_serie.drop(columns=['Seller ID', 'Day of Week', 'Last Week', 'Last Month'], inplace=True)\n",
      "C:\\Users\\Miguel Mendes\\AppData\\Local\\Temp\\ipykernel_8516\\2327759639.py:21: SettingWithCopyWarning: \n",
      "A value is trying to be set on a copy of a slice from a DataFrame.\n",
      "Try using .loc[row_indexer,col_indexer] = value instead\n",
      "\n",
      "See the caveats in the documentation: https://pandas.pydata.org/pandas-docs/stable/user_guide/indexing.html#returning-a-view-versus-a-copy\n",
      "  time_serie['Change'] = time_serie['Change'].astype('Int64')\n"
     ]
    },
    {
     "name": "stdout",
     "output_type": "stream",
     "text": [
      "Erro Médio Absoluto (MAE) para Seller ID 100001157: 0.0004430431581567973\n",
      "Processando Seller ID: 100001212\n",
      "Erro Médio Absoluto (MAE) para Seller ID 100001212: 0.00032310947426594794\n",
      "Processando Seller ID: 100000275\n"
     ]
    },
    {
     "name": "stderr",
     "output_type": "stream",
     "text": [
      "C:\\Users\\Miguel Mendes\\AppData\\Local\\Temp\\ipykernel_8516\\2327759639.py:20: SettingWithCopyWarning: \n",
      "A value is trying to be set on a copy of a slice from a DataFrame\n",
      "\n",
      "See the caveats in the documentation: https://pandas.pydata.org/pandas-docs/stable/user_guide/indexing.html#returning-a-view-versus-a-copy\n",
      "  time_serie.drop(columns=['Seller ID', 'Day of Week', 'Last Week', 'Last Month'], inplace=True)\n",
      "C:\\Users\\Miguel Mendes\\AppData\\Local\\Temp\\ipykernel_8516\\2327759639.py:21: SettingWithCopyWarning: \n",
      "A value is trying to be set on a copy of a slice from a DataFrame.\n",
      "Try using .loc[row_indexer,col_indexer] = value instead\n",
      "\n",
      "See the caveats in the documentation: https://pandas.pydata.org/pandas-docs/stable/user_guide/indexing.html#returning-a-view-versus-a-copy\n",
      "  time_serie['Change'] = time_serie['Change'].astype('Int64')\n",
      "C:\\Users\\Miguel Mendes\\AppData\\Local\\Temp\\ipykernel_8516\\2327759639.py:20: SettingWithCopyWarning: \n",
      "A value is trying to be set on a copy of a slice from a DataFrame\n",
      "\n",
      "See the caveats in the documentation: https://pandas.pydata.org/pandas-docs/stable/user_guide/indexing.html#returning-a-view-versus-a-copy\n",
      "  time_serie.drop(columns=['Seller ID', 'Day of Week', 'Last Week', 'Last Month'], inplace=True)\n",
      "C:\\Users\\Miguel Mendes\\AppData\\Local\\Temp\\ipykernel_8516\\2327759639.py:21: SettingWithCopyWarning: \n",
      "A value is trying to be set on a copy of a slice from a DataFrame.\n",
      "Try using .loc[row_indexer,col_indexer] = value instead\n",
      "\n",
      "See the caveats in the documentation: https://pandas.pydata.org/pandas-docs/stable/user_guide/indexing.html#returning-a-view-versus-a-copy\n",
      "  time_serie['Change'] = time_serie['Change'].astype('Int64')\n"
     ]
    },
    {
     "name": "stdout",
     "output_type": "stream",
     "text": [
      "Erro Médio Absoluto (MAE) para Seller ID 100000275: 1.934937790792901e-05\n",
      "Processando Seller ID: 100001406\n",
      "Erro Médio Absoluto (MAE) para Seller ID 100001406: 1.5412805396408658e-06\n",
      "Processando Seller ID: 100001335\n"
     ]
    },
    {
     "name": "stderr",
     "output_type": "stream",
     "text": [
      "C:\\Users\\Miguel Mendes\\AppData\\Local\\Temp\\ipykernel_8516\\2327759639.py:20: SettingWithCopyWarning: \n",
      "A value is trying to be set on a copy of a slice from a DataFrame\n",
      "\n",
      "See the caveats in the documentation: https://pandas.pydata.org/pandas-docs/stable/user_guide/indexing.html#returning-a-view-versus-a-copy\n",
      "  time_serie.drop(columns=['Seller ID', 'Day of Week', 'Last Week', 'Last Month'], inplace=True)\n",
      "C:\\Users\\Miguel Mendes\\AppData\\Local\\Temp\\ipykernel_8516\\2327759639.py:21: SettingWithCopyWarning: \n",
      "A value is trying to be set on a copy of a slice from a DataFrame.\n",
      "Try using .loc[row_indexer,col_indexer] = value instead\n",
      "\n",
      "See the caveats in the documentation: https://pandas.pydata.org/pandas-docs/stable/user_guide/indexing.html#returning-a-view-versus-a-copy\n",
      "  time_serie['Change'] = time_serie['Change'].astype('Int64')\n",
      "C:\\Users\\Miguel Mendes\\AppData\\Local\\Temp\\ipykernel_8516\\2327759639.py:20: SettingWithCopyWarning: \n",
      "A value is trying to be set on a copy of a slice from a DataFrame\n",
      "\n",
      "See the caveats in the documentation: https://pandas.pydata.org/pandas-docs/stable/user_guide/indexing.html#returning-a-view-versus-a-copy\n",
      "  time_serie.drop(columns=['Seller ID', 'Day of Week', 'Last Week', 'Last Month'], inplace=True)\n",
      "C:\\Users\\Miguel Mendes\\AppData\\Local\\Temp\\ipykernel_8516\\2327759639.py:21: SettingWithCopyWarning: \n",
      "A value is trying to be set on a copy of a slice from a DataFrame.\n",
      "Try using .loc[row_indexer,col_indexer] = value instead\n",
      "\n",
      "See the caveats in the documentation: https://pandas.pydata.org/pandas-docs/stable/user_guide/indexing.html#returning-a-view-versus-a-copy\n",
      "  time_serie['Change'] = time_serie['Change'].astype('Int64')\n"
     ]
    },
    {
     "name": "stdout",
     "output_type": "stream",
     "text": [
      "Erro Médio Absoluto (MAE) para Seller ID 100001335: 1.9938985133194365e-05\n",
      "Processando Seller ID: 100001433\n",
      "Erro Médio Absoluto (MAE) para Seller ID 100001433: 1.0959376595565118e-05\n",
      "Processando Seller ID: 100001292\n"
     ]
    },
    {
     "name": "stderr",
     "output_type": "stream",
     "text": [
      "C:\\Users\\Miguel Mendes\\AppData\\Local\\Temp\\ipykernel_8516\\2327759639.py:20: SettingWithCopyWarning: \n",
      "A value is trying to be set on a copy of a slice from a DataFrame\n",
      "\n",
      "See the caveats in the documentation: https://pandas.pydata.org/pandas-docs/stable/user_guide/indexing.html#returning-a-view-versus-a-copy\n",
      "  time_serie.drop(columns=['Seller ID', 'Day of Week', 'Last Week', 'Last Month'], inplace=True)\n",
      "C:\\Users\\Miguel Mendes\\AppData\\Local\\Temp\\ipykernel_8516\\2327759639.py:21: SettingWithCopyWarning: \n",
      "A value is trying to be set on a copy of a slice from a DataFrame.\n",
      "Try using .loc[row_indexer,col_indexer] = value instead\n",
      "\n",
      "See the caveats in the documentation: https://pandas.pydata.org/pandas-docs/stable/user_guide/indexing.html#returning-a-view-versus-a-copy\n",
      "  time_serie['Change'] = time_serie['Change'].astype('Int64')\n",
      "C:\\Users\\Miguel Mendes\\AppData\\Local\\Temp\\ipykernel_8516\\2327759639.py:20: SettingWithCopyWarning: \n",
      "A value is trying to be set on a copy of a slice from a DataFrame\n",
      "\n",
      "See the caveats in the documentation: https://pandas.pydata.org/pandas-docs/stable/user_guide/indexing.html#returning-a-view-versus-a-copy\n",
      "  time_serie.drop(columns=['Seller ID', 'Day of Week', 'Last Week', 'Last Month'], inplace=True)\n",
      "C:\\Users\\Miguel Mendes\\AppData\\Local\\Temp\\ipykernel_8516\\2327759639.py:21: SettingWithCopyWarning: \n",
      "A value is trying to be set on a copy of a slice from a DataFrame.\n",
      "Try using .loc[row_indexer,col_indexer] = value instead\n",
      "\n",
      "See the caveats in the documentation: https://pandas.pydata.org/pandas-docs/stable/user_guide/indexing.html#returning-a-view-versus-a-copy\n",
      "  time_serie['Change'] = time_serie['Change'].astype('Int64')\n"
     ]
    },
    {
     "name": "stdout",
     "output_type": "stream",
     "text": [
      "Erro Médio Absoluto (MAE) para Seller ID 100001292: 0.0001065074247890152\n",
      "Processando Seller ID: 100000852\n"
     ]
    },
    {
     "name": "stderr",
     "output_type": "stream",
     "text": [
      "C:\\Users\\Miguel Mendes\\AppData\\Local\\Temp\\ipykernel_8516\\2327759639.py:20: SettingWithCopyWarning: \n",
      "A value is trying to be set on a copy of a slice from a DataFrame\n",
      "\n",
      "See the caveats in the documentation: https://pandas.pydata.org/pandas-docs/stable/user_guide/indexing.html#returning-a-view-versus-a-copy\n",
      "  time_serie.drop(columns=['Seller ID', 'Day of Week', 'Last Week', 'Last Month'], inplace=True)\n",
      "C:\\Users\\Miguel Mendes\\AppData\\Local\\Temp\\ipykernel_8516\\2327759639.py:21: SettingWithCopyWarning: \n",
      "A value is trying to be set on a copy of a slice from a DataFrame.\n",
      "Try using .loc[row_indexer,col_indexer] = value instead\n",
      "\n",
      "See the caveats in the documentation: https://pandas.pydata.org/pandas-docs/stable/user_guide/indexing.html#returning-a-view-versus-a-copy\n",
      "  time_serie['Change'] = time_serie['Change'].astype('Int64')\n"
     ]
    },
    {
     "name": "stdout",
     "output_type": "stream",
     "text": [
      "Erro Médio Absoluto (MAE) para Seller ID 100000852: 6.793466127419379e-06\n",
      "Processando Seller ID: 100001017\n",
      "Erro Médio Absoluto (MAE) para Seller ID 100001017: 0.0001247272448381409\n",
      "Processando Seller ID: 100001382\n"
     ]
    },
    {
     "name": "stderr",
     "output_type": "stream",
     "text": [
      "C:\\Users\\Miguel Mendes\\AppData\\Local\\Temp\\ipykernel_8516\\2327759639.py:20: SettingWithCopyWarning: \n",
      "A value is trying to be set on a copy of a slice from a DataFrame\n",
      "\n",
      "See the caveats in the documentation: https://pandas.pydata.org/pandas-docs/stable/user_guide/indexing.html#returning-a-view-versus-a-copy\n",
      "  time_serie.drop(columns=['Seller ID', 'Day of Week', 'Last Week', 'Last Month'], inplace=True)\n",
      "C:\\Users\\Miguel Mendes\\AppData\\Local\\Temp\\ipykernel_8516\\2327759639.py:21: SettingWithCopyWarning: \n",
      "A value is trying to be set on a copy of a slice from a DataFrame.\n",
      "Try using .loc[row_indexer,col_indexer] = value instead\n",
      "\n",
      "See the caveats in the documentation: https://pandas.pydata.org/pandas-docs/stable/user_guide/indexing.html#returning-a-view-versus-a-copy\n",
      "  time_serie['Change'] = time_serie['Change'].astype('Int64')\n",
      "C:\\Users\\Miguel Mendes\\AppData\\Local\\Temp\\ipykernel_8516\\2327759639.py:20: SettingWithCopyWarning: \n",
      "A value is trying to be set on a copy of a slice from a DataFrame\n",
      "\n",
      "See the caveats in the documentation: https://pandas.pydata.org/pandas-docs/stable/user_guide/indexing.html#returning-a-view-versus-a-copy\n",
      "  time_serie.drop(columns=['Seller ID', 'Day of Week', 'Last Week', 'Last Month'], inplace=True)\n",
      "C:\\Users\\Miguel Mendes\\AppData\\Local\\Temp\\ipykernel_8516\\2327759639.py:21: SettingWithCopyWarning: \n",
      "A value is trying to be set on a copy of a slice from a DataFrame.\n",
      "Try using .loc[row_indexer,col_indexer] = value instead\n",
      "\n",
      "See the caveats in the documentation: https://pandas.pydata.org/pandas-docs/stable/user_guide/indexing.html#returning-a-view-versus-a-copy\n",
      "  time_serie['Change'] = time_serie['Change'].astype('Int64')\n"
     ]
    },
    {
     "name": "stdout",
     "output_type": "stream",
     "text": [
      "Erro Médio Absoluto (MAE) para Seller ID 100001382: 1.735399928293191e-05\n",
      "Processando Seller ID: 100001126\n",
      "Erro Médio Absoluto (MAE) para Seller ID 100001126: 1.2699986655206885e-05\n",
      "Processando Seller ID: 100000215\n"
     ]
    },
    {
     "name": "stderr",
     "output_type": "stream",
     "text": [
      "C:\\Users\\Miguel Mendes\\AppData\\Local\\Temp\\ipykernel_8516\\2327759639.py:20: SettingWithCopyWarning: \n",
      "A value is trying to be set on a copy of a slice from a DataFrame\n",
      "\n",
      "See the caveats in the documentation: https://pandas.pydata.org/pandas-docs/stable/user_guide/indexing.html#returning-a-view-versus-a-copy\n",
      "  time_serie.drop(columns=['Seller ID', 'Day of Week', 'Last Week', 'Last Month'], inplace=True)\n",
      "C:\\Users\\Miguel Mendes\\AppData\\Local\\Temp\\ipykernel_8516\\2327759639.py:21: SettingWithCopyWarning: \n",
      "A value is trying to be set on a copy of a slice from a DataFrame.\n",
      "Try using .loc[row_indexer,col_indexer] = value instead\n",
      "\n",
      "See the caveats in the documentation: https://pandas.pydata.org/pandas-docs/stable/user_guide/indexing.html#returning-a-view-versus-a-copy\n",
      "  time_serie['Change'] = time_serie['Change'].astype('Int64')\n",
      "C:\\Users\\Miguel Mendes\\AppData\\Local\\Temp\\ipykernel_8516\\2327759639.py:20: SettingWithCopyWarning: \n",
      "A value is trying to be set on a copy of a slice from a DataFrame\n",
      "\n",
      "See the caveats in the documentation: https://pandas.pydata.org/pandas-docs/stable/user_guide/indexing.html#returning-a-view-versus-a-copy\n",
      "  time_serie.drop(columns=['Seller ID', 'Day of Week', 'Last Week', 'Last Month'], inplace=True)\n",
      "C:\\Users\\Miguel Mendes\\AppData\\Local\\Temp\\ipykernel_8516\\2327759639.py:21: SettingWithCopyWarning: \n",
      "A value is trying to be set on a copy of a slice from a DataFrame.\n",
      "Try using .loc[row_indexer,col_indexer] = value instead\n",
      "\n",
      "See the caveats in the documentation: https://pandas.pydata.org/pandas-docs/stable/user_guide/indexing.html#returning-a-view-versus-a-copy\n",
      "  time_serie['Change'] = time_serie['Change'].astype('Int64')\n"
     ]
    },
    {
     "name": "stdout",
     "output_type": "stream",
     "text": [
      "Erro Médio Absoluto (MAE) para Seller ID 100000215: 0.00011312656715745106\n",
      "Processando Seller ID: 100000267\n"
     ]
    },
    {
     "name": "stderr",
     "output_type": "stream",
     "text": [
      "C:\\Users\\Miguel Mendes\\AppData\\Local\\Temp\\ipykernel_8516\\2327759639.py:20: SettingWithCopyWarning: \n",
      "A value is trying to be set on a copy of a slice from a DataFrame\n",
      "\n",
      "See the caveats in the documentation: https://pandas.pydata.org/pandas-docs/stable/user_guide/indexing.html#returning-a-view-versus-a-copy\n",
      "  time_serie.drop(columns=['Seller ID', 'Day of Week', 'Last Week', 'Last Month'], inplace=True)\n",
      "C:\\Users\\Miguel Mendes\\AppData\\Local\\Temp\\ipykernel_8516\\2327759639.py:21: SettingWithCopyWarning: \n",
      "A value is trying to be set on a copy of a slice from a DataFrame.\n",
      "Try using .loc[row_indexer,col_indexer] = value instead\n",
      "\n",
      "See the caveats in the documentation: https://pandas.pydata.org/pandas-docs/stable/user_guide/indexing.html#returning-a-view-versus-a-copy\n",
      "  time_serie['Change'] = time_serie['Change'].astype('Int64')\n"
     ]
    },
    {
     "name": "stdout",
     "output_type": "stream",
     "text": [
      "Erro Médio Absoluto (MAE) para Seller ID 100000267: 0.007055705413222313\n",
      "Processando Seller ID: 100000259\n"
     ]
    },
    {
     "name": "stderr",
     "output_type": "stream",
     "text": [
      "C:\\Users\\Miguel Mendes\\AppData\\Local\\Temp\\ipykernel_8516\\2327759639.py:20: SettingWithCopyWarning: \n",
      "A value is trying to be set on a copy of a slice from a DataFrame\n",
      "\n",
      "See the caveats in the documentation: https://pandas.pydata.org/pandas-docs/stable/user_guide/indexing.html#returning-a-view-versus-a-copy\n",
      "  time_serie.drop(columns=['Seller ID', 'Day of Week', 'Last Week', 'Last Month'], inplace=True)\n",
      "C:\\Users\\Miguel Mendes\\AppData\\Local\\Temp\\ipykernel_8516\\2327759639.py:21: SettingWithCopyWarning: \n",
      "A value is trying to be set on a copy of a slice from a DataFrame.\n",
      "Try using .loc[row_indexer,col_indexer] = value instead\n",
      "\n",
      "See the caveats in the documentation: https://pandas.pydata.org/pandas-docs/stable/user_guide/indexing.html#returning-a-view-versus-a-copy\n",
      "  time_serie['Change'] = time_serie['Change'].astype('Int64')\n"
     ]
    },
    {
     "name": "stdout",
     "output_type": "stream",
     "text": [
      "Erro Médio Absoluto (MAE) para Seller ID 100000259: 0.0003174720623064786\n",
      "Processando Seller ID: 100001390\n",
      "Erro Médio Absoluto (MAE) para Seller ID 100001390: 1.9324716049595736e-07\n",
      "Processando Seller ID: 100000591\n"
     ]
    },
    {
     "name": "stderr",
     "output_type": "stream",
     "text": [
      "C:\\Users\\Miguel Mendes\\AppData\\Local\\Temp\\ipykernel_8516\\2327759639.py:20: SettingWithCopyWarning: \n",
      "A value is trying to be set on a copy of a slice from a DataFrame\n",
      "\n",
      "See the caveats in the documentation: https://pandas.pydata.org/pandas-docs/stable/user_guide/indexing.html#returning-a-view-versus-a-copy\n",
      "  time_serie.drop(columns=['Seller ID', 'Day of Week', 'Last Week', 'Last Month'], inplace=True)\n",
      "C:\\Users\\Miguel Mendes\\AppData\\Local\\Temp\\ipykernel_8516\\2327759639.py:21: SettingWithCopyWarning: \n",
      "A value is trying to be set on a copy of a slice from a DataFrame.\n",
      "Try using .loc[row_indexer,col_indexer] = value instead\n",
      "\n",
      "See the caveats in the documentation: https://pandas.pydata.org/pandas-docs/stable/user_guide/indexing.html#returning-a-view-versus-a-copy\n",
      "  time_serie['Change'] = time_serie['Change'].astype('Int64')\n",
      "C:\\Users\\Miguel Mendes\\AppData\\Local\\Temp\\ipykernel_8516\\2327759639.py:20: SettingWithCopyWarning: \n",
      "A value is trying to be set on a copy of a slice from a DataFrame\n",
      "\n",
      "See the caveats in the documentation: https://pandas.pydata.org/pandas-docs/stable/user_guide/indexing.html#returning-a-view-versus-a-copy\n",
      "  time_serie.drop(columns=['Seller ID', 'Day of Week', 'Last Week', 'Last Month'], inplace=True)\n",
      "C:\\Users\\Miguel Mendes\\AppData\\Local\\Temp\\ipykernel_8516\\2327759639.py:21: SettingWithCopyWarning: \n",
      "A value is trying to be set on a copy of a slice from a DataFrame.\n",
      "Try using .loc[row_indexer,col_indexer] = value instead\n",
      "\n",
      "See the caveats in the documentation: https://pandas.pydata.org/pandas-docs/stable/user_guide/indexing.html#returning-a-view-versus-a-copy\n",
      "  time_serie['Change'] = time_serie['Change'].astype('Int64')\n"
     ]
    },
    {
     "name": "stdout",
     "output_type": "stream",
     "text": [
      "Erro Médio Absoluto (MAE) para Seller ID 100000591: 0.00026960764080286026\n",
      "Processando Seller ID: 100000105\n"
     ]
    },
    {
     "name": "stderr",
     "output_type": "stream",
     "text": [
      "C:\\Users\\Miguel Mendes\\AppData\\Local\\Temp\\ipykernel_8516\\2327759639.py:20: SettingWithCopyWarning: \n",
      "A value is trying to be set on a copy of a slice from a DataFrame\n",
      "\n",
      "See the caveats in the documentation: https://pandas.pydata.org/pandas-docs/stable/user_guide/indexing.html#returning-a-view-versus-a-copy\n",
      "  time_serie.drop(columns=['Seller ID', 'Day of Week', 'Last Week', 'Last Month'], inplace=True)\n",
      "C:\\Users\\Miguel Mendes\\AppData\\Local\\Temp\\ipykernel_8516\\2327759639.py:21: SettingWithCopyWarning: \n",
      "A value is trying to be set on a copy of a slice from a DataFrame.\n",
      "Try using .loc[row_indexer,col_indexer] = value instead\n",
      "\n",
      "See the caveats in the documentation: https://pandas.pydata.org/pandas-docs/stable/user_guide/indexing.html#returning-a-view-versus-a-copy\n",
      "  time_serie['Change'] = time_serie['Change'].astype('Int64')\n"
     ]
    },
    {
     "name": "stdout",
     "output_type": "stream",
     "text": [
      "Erro Médio Absoluto (MAE) para Seller ID 100000105: 5.5216736654983833e-05\n",
      "Processando Seller ID: 100001364\n",
      "Erro Médio Absoluto (MAE) para Seller ID 100001364: 0.00010264041338814422\n",
      "Processando Seller ID: 100001120\n"
     ]
    },
    {
     "name": "stderr",
     "output_type": "stream",
     "text": [
      "C:\\Users\\Miguel Mendes\\AppData\\Local\\Temp\\ipykernel_8516\\2327759639.py:20: SettingWithCopyWarning: \n",
      "A value is trying to be set on a copy of a slice from a DataFrame\n",
      "\n",
      "See the caveats in the documentation: https://pandas.pydata.org/pandas-docs/stable/user_guide/indexing.html#returning-a-view-versus-a-copy\n",
      "  time_serie.drop(columns=['Seller ID', 'Day of Week', 'Last Week', 'Last Month'], inplace=True)\n",
      "C:\\Users\\Miguel Mendes\\AppData\\Local\\Temp\\ipykernel_8516\\2327759639.py:21: SettingWithCopyWarning: \n",
      "A value is trying to be set on a copy of a slice from a DataFrame.\n",
      "Try using .loc[row_indexer,col_indexer] = value instead\n",
      "\n",
      "See the caveats in the documentation: https://pandas.pydata.org/pandas-docs/stable/user_guide/indexing.html#returning-a-view-versus-a-copy\n",
      "  time_serie['Change'] = time_serie['Change'].astype('Int64')\n",
      "C:\\Users\\Miguel Mendes\\AppData\\Local\\Temp\\ipykernel_8516\\2327759639.py:20: SettingWithCopyWarning: \n",
      "A value is trying to be set on a copy of a slice from a DataFrame\n",
      "\n",
      "See the caveats in the documentation: https://pandas.pydata.org/pandas-docs/stable/user_guide/indexing.html#returning-a-view-versus-a-copy\n",
      "  time_serie.drop(columns=['Seller ID', 'Day of Week', 'Last Week', 'Last Month'], inplace=True)\n",
      "C:\\Users\\Miguel Mendes\\AppData\\Local\\Temp\\ipykernel_8516\\2327759639.py:21: SettingWithCopyWarning: \n",
      "A value is trying to be set on a copy of a slice from a DataFrame.\n",
      "Try using .loc[row_indexer,col_indexer] = value instead\n",
      "\n",
      "See the caveats in the documentation: https://pandas.pydata.org/pandas-docs/stable/user_guide/indexing.html#returning-a-view-versus-a-copy\n",
      "  time_serie['Change'] = time_serie['Change'].astype('Int64')\n"
     ]
    },
    {
     "name": "stdout",
     "output_type": "stream",
     "text": [
      "Erro Médio Absoluto (MAE) para Seller ID 100001120: 0.00012737356883008033\n",
      "Processando Seller ID: 100000620\n",
      "Erro Médio Absoluto (MAE) para Seller ID 100000620: 0.0003296619397588074\n",
      "Processando Seller ID: 100001160\n"
     ]
    },
    {
     "name": "stderr",
     "output_type": "stream",
     "text": [
      "C:\\Users\\Miguel Mendes\\AppData\\Local\\Temp\\ipykernel_8516\\2327759639.py:20: SettingWithCopyWarning: \n",
      "A value is trying to be set on a copy of a slice from a DataFrame\n",
      "\n",
      "See the caveats in the documentation: https://pandas.pydata.org/pandas-docs/stable/user_guide/indexing.html#returning-a-view-versus-a-copy\n",
      "  time_serie.drop(columns=['Seller ID', 'Day of Week', 'Last Week', 'Last Month'], inplace=True)\n",
      "C:\\Users\\Miguel Mendes\\AppData\\Local\\Temp\\ipykernel_8516\\2327759639.py:21: SettingWithCopyWarning: \n",
      "A value is trying to be set on a copy of a slice from a DataFrame.\n",
      "Try using .loc[row_indexer,col_indexer] = value instead\n",
      "\n",
      "See the caveats in the documentation: https://pandas.pydata.org/pandas-docs/stable/user_guide/indexing.html#returning-a-view-versus-a-copy\n",
      "  time_serie['Change'] = time_serie['Change'].astype('Int64')\n",
      "C:\\Users\\Miguel Mendes\\AppData\\Local\\Temp\\ipykernel_8516\\2327759639.py:20: SettingWithCopyWarning: \n",
      "A value is trying to be set on a copy of a slice from a DataFrame\n",
      "\n",
      "See the caveats in the documentation: https://pandas.pydata.org/pandas-docs/stable/user_guide/indexing.html#returning-a-view-versus-a-copy\n",
      "  time_serie.drop(columns=['Seller ID', 'Day of Week', 'Last Week', 'Last Month'], inplace=True)\n",
      "C:\\Users\\Miguel Mendes\\AppData\\Local\\Temp\\ipykernel_8516\\2327759639.py:21: SettingWithCopyWarning: \n",
      "A value is trying to be set on a copy of a slice from a DataFrame.\n",
      "Try using .loc[row_indexer,col_indexer] = value instead\n",
      "\n",
      "See the caveats in the documentation: https://pandas.pydata.org/pandas-docs/stable/user_guide/indexing.html#returning-a-view-versus-a-copy\n",
      "  time_serie['Change'] = time_serie['Change'].astype('Int64')\n"
     ]
    },
    {
     "name": "stdout",
     "output_type": "stream",
     "text": [
      "Erro Médio Absoluto (MAE) para Seller ID 100001160: 0.0008194592664949596\n",
      "Processando Seller ID: 100000151\n",
      "Erro Médio Absoluto (MAE) para Seller ID 100000151: 0.0001940082584042102\n",
      "Processando Seller ID: 100000062\n"
     ]
    },
    {
     "name": "stderr",
     "output_type": "stream",
     "text": [
      "C:\\Users\\Miguel Mendes\\AppData\\Local\\Temp\\ipykernel_8516\\2327759639.py:20: SettingWithCopyWarning: \n",
      "A value is trying to be set on a copy of a slice from a DataFrame\n",
      "\n",
      "See the caveats in the documentation: https://pandas.pydata.org/pandas-docs/stable/user_guide/indexing.html#returning-a-view-versus-a-copy\n",
      "  time_serie.drop(columns=['Seller ID', 'Day of Week', 'Last Week', 'Last Month'], inplace=True)\n",
      "C:\\Users\\Miguel Mendes\\AppData\\Local\\Temp\\ipykernel_8516\\2327759639.py:21: SettingWithCopyWarning: \n",
      "A value is trying to be set on a copy of a slice from a DataFrame.\n",
      "Try using .loc[row_indexer,col_indexer] = value instead\n",
      "\n",
      "See the caveats in the documentation: https://pandas.pydata.org/pandas-docs/stable/user_guide/indexing.html#returning-a-view-versus-a-copy\n",
      "  time_serie['Change'] = time_serie['Change'].astype('Int64')\n",
      "C:\\Users\\Miguel Mendes\\AppData\\Local\\Temp\\ipykernel_8516\\2327759639.py:20: SettingWithCopyWarning: \n",
      "A value is trying to be set on a copy of a slice from a DataFrame\n",
      "\n",
      "See the caveats in the documentation: https://pandas.pydata.org/pandas-docs/stable/user_guide/indexing.html#returning-a-view-versus-a-copy\n",
      "  time_serie.drop(columns=['Seller ID', 'Day of Week', 'Last Week', 'Last Month'], inplace=True)\n",
      "C:\\Users\\Miguel Mendes\\AppData\\Local\\Temp\\ipykernel_8516\\2327759639.py:21: SettingWithCopyWarning: \n",
      "A value is trying to be set on a copy of a slice from a DataFrame.\n",
      "Try using .loc[row_indexer,col_indexer] = value instead\n",
      "\n",
      "See the caveats in the documentation: https://pandas.pydata.org/pandas-docs/stable/user_guide/indexing.html#returning-a-view-versus-a-copy\n",
      "  time_serie['Change'] = time_serie['Change'].astype('Int64')\n"
     ]
    },
    {
     "name": "stdout",
     "output_type": "stream",
     "text": [
      "Erro Médio Absoluto (MAE) para Seller ID 100000062: 0.0003916716668754816\n",
      "Processando Seller ID: 100000988\n",
      "Erro Médio Absoluto (MAE) para Seller ID 100000988: 0.00026565027656033635\n",
      "Processando Seller ID: 100000022\n"
     ]
    },
    {
     "name": "stderr",
     "output_type": "stream",
     "text": [
      "C:\\Users\\Miguel Mendes\\AppData\\Local\\Temp\\ipykernel_8516\\2327759639.py:20: SettingWithCopyWarning: \n",
      "A value is trying to be set on a copy of a slice from a DataFrame\n",
      "\n",
      "See the caveats in the documentation: https://pandas.pydata.org/pandas-docs/stable/user_guide/indexing.html#returning-a-view-versus-a-copy\n",
      "  time_serie.drop(columns=['Seller ID', 'Day of Week', 'Last Week', 'Last Month'], inplace=True)\n",
      "C:\\Users\\Miguel Mendes\\AppData\\Local\\Temp\\ipykernel_8516\\2327759639.py:21: SettingWithCopyWarning: \n",
      "A value is trying to be set on a copy of a slice from a DataFrame.\n",
      "Try using .loc[row_indexer,col_indexer] = value instead\n",
      "\n",
      "See the caveats in the documentation: https://pandas.pydata.org/pandas-docs/stable/user_guide/indexing.html#returning-a-view-versus-a-copy\n",
      "  time_serie['Change'] = time_serie['Change'].astype('Int64')\n",
      "C:\\Users\\Miguel Mendes\\AppData\\Local\\Temp\\ipykernel_8516\\2327759639.py:20: SettingWithCopyWarning: \n",
      "A value is trying to be set on a copy of a slice from a DataFrame\n",
      "\n",
      "See the caveats in the documentation: https://pandas.pydata.org/pandas-docs/stable/user_guide/indexing.html#returning-a-view-versus-a-copy\n",
      "  time_serie.drop(columns=['Seller ID', 'Day of Week', 'Last Week', 'Last Month'], inplace=True)\n",
      "C:\\Users\\Miguel Mendes\\AppData\\Local\\Temp\\ipykernel_8516\\2327759639.py:21: SettingWithCopyWarning: \n",
      "A value is trying to be set on a copy of a slice from a DataFrame.\n",
      "Try using .loc[row_indexer,col_indexer] = value instead\n",
      "\n",
      "See the caveats in the documentation: https://pandas.pydata.org/pandas-docs/stable/user_guide/indexing.html#returning-a-view-versus-a-copy\n",
      "  time_serie['Change'] = time_serie['Change'].astype('Int64')\n"
     ]
    },
    {
     "name": "stdout",
     "output_type": "stream",
     "text": [
      "Erro Médio Absoluto (MAE) para Seller ID 100000022: 0.0007506828405894339\n",
      "Processando Seller ID: 100000178\n",
      "Erro Médio Absoluto (MAE) para Seller ID 100000178: 0.00010424291394883767\n",
      "Processando Seller ID: 100000205\n"
     ]
    },
    {
     "name": "stderr",
     "output_type": "stream",
     "text": [
      "C:\\Users\\Miguel Mendes\\AppData\\Local\\Temp\\ipykernel_8516\\2327759639.py:20: SettingWithCopyWarning: \n",
      "A value is trying to be set on a copy of a slice from a DataFrame\n",
      "\n",
      "See the caveats in the documentation: https://pandas.pydata.org/pandas-docs/stable/user_guide/indexing.html#returning-a-view-versus-a-copy\n",
      "  time_serie.drop(columns=['Seller ID', 'Day of Week', 'Last Week', 'Last Month'], inplace=True)\n",
      "C:\\Users\\Miguel Mendes\\AppData\\Local\\Temp\\ipykernel_8516\\2327759639.py:21: SettingWithCopyWarning: \n",
      "A value is trying to be set on a copy of a slice from a DataFrame.\n",
      "Try using .loc[row_indexer,col_indexer] = value instead\n",
      "\n",
      "See the caveats in the documentation: https://pandas.pydata.org/pandas-docs/stable/user_guide/indexing.html#returning-a-view-versus-a-copy\n",
      "  time_serie['Change'] = time_serie['Change'].astype('Int64')\n",
      "C:\\Users\\Miguel Mendes\\AppData\\Local\\Temp\\ipykernel_8516\\2327759639.py:20: SettingWithCopyWarning: \n",
      "A value is trying to be set on a copy of a slice from a DataFrame\n",
      "\n",
      "See the caveats in the documentation: https://pandas.pydata.org/pandas-docs/stable/user_guide/indexing.html#returning-a-view-versus-a-copy\n",
      "  time_serie.drop(columns=['Seller ID', 'Day of Week', 'Last Week', 'Last Month'], inplace=True)\n",
      "C:\\Users\\Miguel Mendes\\AppData\\Local\\Temp\\ipykernel_8516\\2327759639.py:21: SettingWithCopyWarning: \n",
      "A value is trying to be set on a copy of a slice from a DataFrame.\n",
      "Try using .loc[row_indexer,col_indexer] = value instead\n",
      "\n",
      "See the caveats in the documentation: https://pandas.pydata.org/pandas-docs/stable/user_guide/indexing.html#returning-a-view-versus-a-copy\n",
      "  time_serie['Change'] = time_serie['Change'].astype('Int64')\n"
     ]
    },
    {
     "name": "stdout",
     "output_type": "stream",
     "text": [
      "Erro Médio Absoluto (MAE) para Seller ID 100000205: 5.972522194497287e-05\n",
      "Processando Seller ID: 100000367\n",
      "Erro Médio Absoluto (MAE) para Seller ID 100000367: 0.00013150632730685174\n",
      "Processando Seller ID: 100000392\n"
     ]
    },
    {
     "name": "stderr",
     "output_type": "stream",
     "text": [
      "C:\\Users\\Miguel Mendes\\AppData\\Local\\Temp\\ipykernel_8516\\2327759639.py:20: SettingWithCopyWarning: \n",
      "A value is trying to be set on a copy of a slice from a DataFrame\n",
      "\n",
      "See the caveats in the documentation: https://pandas.pydata.org/pandas-docs/stable/user_guide/indexing.html#returning-a-view-versus-a-copy\n",
      "  time_serie.drop(columns=['Seller ID', 'Day of Week', 'Last Week', 'Last Month'], inplace=True)\n",
      "C:\\Users\\Miguel Mendes\\AppData\\Local\\Temp\\ipykernel_8516\\2327759639.py:21: SettingWithCopyWarning: \n",
      "A value is trying to be set on a copy of a slice from a DataFrame.\n",
      "Try using .loc[row_indexer,col_indexer] = value instead\n",
      "\n",
      "See the caveats in the documentation: https://pandas.pydata.org/pandas-docs/stable/user_guide/indexing.html#returning-a-view-versus-a-copy\n",
      "  time_serie['Change'] = time_serie['Change'].astype('Int64')\n",
      "C:\\Users\\Miguel Mendes\\AppData\\Local\\Temp\\ipykernel_8516\\2327759639.py:20: SettingWithCopyWarning: \n",
      "A value is trying to be set on a copy of a slice from a DataFrame\n",
      "\n",
      "See the caveats in the documentation: https://pandas.pydata.org/pandas-docs/stable/user_guide/indexing.html#returning-a-view-versus-a-copy\n",
      "  time_serie.drop(columns=['Seller ID', 'Day of Week', 'Last Week', 'Last Month'], inplace=True)\n",
      "C:\\Users\\Miguel Mendes\\AppData\\Local\\Temp\\ipykernel_8516\\2327759639.py:21: SettingWithCopyWarning: \n",
      "A value is trying to be set on a copy of a slice from a DataFrame.\n",
      "Try using .loc[row_indexer,col_indexer] = value instead\n",
      "\n",
      "See the caveats in the documentation: https://pandas.pydata.org/pandas-docs/stable/user_guide/indexing.html#returning-a-view-versus-a-copy\n",
      "  time_serie['Change'] = time_serie['Change'].astype('Int64')\n"
     ]
    },
    {
     "name": "stdout",
     "output_type": "stream",
     "text": [
      "Erro Médio Absoluto (MAE) para Seller ID 100000392: 0.00015777697262819856\n",
      "Processando Seller ID: 100000921\n",
      "Erro Médio Absoluto (MAE) para Seller ID 100000921: 0.00023609843628946692\n",
      "Processando Seller ID: 100000570\n"
     ]
    },
    {
     "name": "stderr",
     "output_type": "stream",
     "text": [
      "C:\\Users\\Miguel Mendes\\AppData\\Local\\Temp\\ipykernel_8516\\2327759639.py:20: SettingWithCopyWarning: \n",
      "A value is trying to be set on a copy of a slice from a DataFrame\n",
      "\n",
      "See the caveats in the documentation: https://pandas.pydata.org/pandas-docs/stable/user_guide/indexing.html#returning-a-view-versus-a-copy\n",
      "  time_serie.drop(columns=['Seller ID', 'Day of Week', 'Last Week', 'Last Month'], inplace=True)\n",
      "C:\\Users\\Miguel Mendes\\AppData\\Local\\Temp\\ipykernel_8516\\2327759639.py:21: SettingWithCopyWarning: \n",
      "A value is trying to be set on a copy of a slice from a DataFrame.\n",
      "Try using .loc[row_indexer,col_indexer] = value instead\n",
      "\n",
      "See the caveats in the documentation: https://pandas.pydata.org/pandas-docs/stable/user_guide/indexing.html#returning-a-view-versus-a-copy\n",
      "  time_serie['Change'] = time_serie['Change'].astype('Int64')\n",
      "C:\\Users\\Miguel Mendes\\AppData\\Local\\Temp\\ipykernel_8516\\2327759639.py:20: SettingWithCopyWarning: \n",
      "A value is trying to be set on a copy of a slice from a DataFrame\n",
      "\n",
      "See the caveats in the documentation: https://pandas.pydata.org/pandas-docs/stable/user_guide/indexing.html#returning-a-view-versus-a-copy\n",
      "  time_serie.drop(columns=['Seller ID', 'Day of Week', 'Last Week', 'Last Month'], inplace=True)\n",
      "C:\\Users\\Miguel Mendes\\AppData\\Local\\Temp\\ipykernel_8516\\2327759639.py:21: SettingWithCopyWarning: \n",
      "A value is trying to be set on a copy of a slice from a DataFrame.\n",
      "Try using .loc[row_indexer,col_indexer] = value instead\n",
      "\n",
      "See the caveats in the documentation: https://pandas.pydata.org/pandas-docs/stable/user_guide/indexing.html#returning-a-view-versus-a-copy\n",
      "  time_serie['Change'] = time_serie['Change'].astype('Int64')\n"
     ]
    },
    {
     "name": "stdout",
     "output_type": "stream",
     "text": [
      "Erro Médio Absoluto (MAE) para Seller ID 100000570: 0.0006284466944634914\n",
      "Processando Seller ID: 100000782\n",
      "Erro Médio Absoluto (MAE) para Seller ID 100000782: 1.689654527581297e-05\n",
      "Processando Seller ID: 100001176\n"
     ]
    },
    {
     "name": "stderr",
     "output_type": "stream",
     "text": [
      "C:\\Users\\Miguel Mendes\\AppData\\Local\\Temp\\ipykernel_8516\\2327759639.py:20: SettingWithCopyWarning: \n",
      "A value is trying to be set on a copy of a slice from a DataFrame\n",
      "\n",
      "See the caveats in the documentation: https://pandas.pydata.org/pandas-docs/stable/user_guide/indexing.html#returning-a-view-versus-a-copy\n",
      "  time_serie.drop(columns=['Seller ID', 'Day of Week', 'Last Week', 'Last Month'], inplace=True)\n",
      "C:\\Users\\Miguel Mendes\\AppData\\Local\\Temp\\ipykernel_8516\\2327759639.py:21: SettingWithCopyWarning: \n",
      "A value is trying to be set on a copy of a slice from a DataFrame.\n",
      "Try using .loc[row_indexer,col_indexer] = value instead\n",
      "\n",
      "See the caveats in the documentation: https://pandas.pydata.org/pandas-docs/stable/user_guide/indexing.html#returning-a-view-versus-a-copy\n",
      "  time_serie['Change'] = time_serie['Change'].astype('Int64')\n",
      "C:\\Users\\Miguel Mendes\\AppData\\Local\\Temp\\ipykernel_8516\\2327759639.py:20: SettingWithCopyWarning: \n",
      "A value is trying to be set on a copy of a slice from a DataFrame\n",
      "\n",
      "See the caveats in the documentation: https://pandas.pydata.org/pandas-docs/stable/user_guide/indexing.html#returning-a-view-versus-a-copy\n",
      "  time_serie.drop(columns=['Seller ID', 'Day of Week', 'Last Week', 'Last Month'], inplace=True)\n",
      "C:\\Users\\Miguel Mendes\\AppData\\Local\\Temp\\ipykernel_8516\\2327759639.py:21: SettingWithCopyWarning: \n",
      "A value is trying to be set on a copy of a slice from a DataFrame.\n",
      "Try using .loc[row_indexer,col_indexer] = value instead\n",
      "\n",
      "See the caveats in the documentation: https://pandas.pydata.org/pandas-docs/stable/user_guide/indexing.html#returning-a-view-versus-a-copy\n",
      "  time_serie['Change'] = time_serie['Change'].astype('Int64')\n"
     ]
    },
    {
     "name": "stdout",
     "output_type": "stream",
     "text": [
      "Erro Médio Absoluto (MAE) para Seller ID 100001176: 0.00046154423034749925\n",
      "Processando Seller ID: 100001134\n",
      "Erro Médio Absoluto (MAE) para Seller ID 100001134: 0.00041064913966692984\n",
      "Processando Seller ID: 100000218\n"
     ]
    },
    {
     "name": "stderr",
     "output_type": "stream",
     "text": [
      "C:\\Users\\Miguel Mendes\\AppData\\Local\\Temp\\ipykernel_8516\\2327759639.py:20: SettingWithCopyWarning: \n",
      "A value is trying to be set on a copy of a slice from a DataFrame\n",
      "\n",
      "See the caveats in the documentation: https://pandas.pydata.org/pandas-docs/stable/user_guide/indexing.html#returning-a-view-versus-a-copy\n",
      "  time_serie.drop(columns=['Seller ID', 'Day of Week', 'Last Week', 'Last Month'], inplace=True)\n",
      "C:\\Users\\Miguel Mendes\\AppData\\Local\\Temp\\ipykernel_8516\\2327759639.py:21: SettingWithCopyWarning: \n",
      "A value is trying to be set on a copy of a slice from a DataFrame.\n",
      "Try using .loc[row_indexer,col_indexer] = value instead\n",
      "\n",
      "See the caveats in the documentation: https://pandas.pydata.org/pandas-docs/stable/user_guide/indexing.html#returning-a-view-versus-a-copy\n",
      "  time_serie['Change'] = time_serie['Change'].astype('Int64')\n",
      "C:\\Users\\Miguel Mendes\\AppData\\Local\\Temp\\ipykernel_8516\\2327759639.py:20: SettingWithCopyWarning: \n",
      "A value is trying to be set on a copy of a slice from a DataFrame\n",
      "\n",
      "See the caveats in the documentation: https://pandas.pydata.org/pandas-docs/stable/user_guide/indexing.html#returning-a-view-versus-a-copy\n",
      "  time_serie.drop(columns=['Seller ID', 'Day of Week', 'Last Week', 'Last Month'], inplace=True)\n",
      "C:\\Users\\Miguel Mendes\\AppData\\Local\\Temp\\ipykernel_8516\\2327759639.py:21: SettingWithCopyWarning: \n",
      "A value is trying to be set on a copy of a slice from a DataFrame.\n",
      "Try using .loc[row_indexer,col_indexer] = value instead\n",
      "\n",
      "See the caveats in the documentation: https://pandas.pydata.org/pandas-docs/stable/user_guide/indexing.html#returning-a-view-versus-a-copy\n",
      "  time_serie['Change'] = time_serie['Change'].astype('Int64')\n"
     ]
    },
    {
     "name": "stdout",
     "output_type": "stream",
     "text": [
      "Erro Médio Absoluto (MAE) para Seller ID 100000218: 0.00012357770174276084\n",
      "Processando Seller ID: 100000817\n",
      "Erro Médio Absoluto (MAE) para Seller ID 100000817: 0.0004492109874263406\n",
      "Processando Seller ID: 100000371\n"
     ]
    },
    {
     "name": "stderr",
     "output_type": "stream",
     "text": [
      "C:\\Users\\Miguel Mendes\\AppData\\Local\\Temp\\ipykernel_8516\\2327759639.py:20: SettingWithCopyWarning: \n",
      "A value is trying to be set on a copy of a slice from a DataFrame\n",
      "\n",
      "See the caveats in the documentation: https://pandas.pydata.org/pandas-docs/stable/user_guide/indexing.html#returning-a-view-versus-a-copy\n",
      "  time_serie.drop(columns=['Seller ID', 'Day of Week', 'Last Week', 'Last Month'], inplace=True)\n",
      "C:\\Users\\Miguel Mendes\\AppData\\Local\\Temp\\ipykernel_8516\\2327759639.py:21: SettingWithCopyWarning: \n",
      "A value is trying to be set on a copy of a slice from a DataFrame.\n",
      "Try using .loc[row_indexer,col_indexer] = value instead\n",
      "\n",
      "See the caveats in the documentation: https://pandas.pydata.org/pandas-docs/stable/user_guide/indexing.html#returning-a-view-versus-a-copy\n",
      "  time_serie['Change'] = time_serie['Change'].astype('Int64')\n",
      "C:\\Users\\Miguel Mendes\\AppData\\Local\\Temp\\ipykernel_8516\\2327759639.py:20: SettingWithCopyWarning: \n",
      "A value is trying to be set on a copy of a slice from a DataFrame\n",
      "\n",
      "See the caveats in the documentation: https://pandas.pydata.org/pandas-docs/stable/user_guide/indexing.html#returning-a-view-versus-a-copy\n",
      "  time_serie.drop(columns=['Seller ID', 'Day of Week', 'Last Week', 'Last Month'], inplace=True)\n",
      "C:\\Users\\Miguel Mendes\\AppData\\Local\\Temp\\ipykernel_8516\\2327759639.py:21: SettingWithCopyWarning: \n",
      "A value is trying to be set on a copy of a slice from a DataFrame.\n",
      "Try using .loc[row_indexer,col_indexer] = value instead\n",
      "\n",
      "See the caveats in the documentation: https://pandas.pydata.org/pandas-docs/stable/user_guide/indexing.html#returning-a-view-versus-a-copy\n",
      "  time_serie['Change'] = time_serie['Change'].astype('Int64')\n"
     ]
    },
    {
     "name": "stdout",
     "output_type": "stream",
     "text": [
      "Erro Médio Absoluto (MAE) para Seller ID 100000371: 5.106125900056213e-05\n",
      "Processando Seller ID: 100000582\n",
      "Erro Médio Absoluto (MAE) para Seller ID 100000582: 0.0009048404172062874\n",
      "Processando Seller ID: 100001283\n"
     ]
    },
    {
     "name": "stderr",
     "output_type": "stream",
     "text": [
      "C:\\Users\\Miguel Mendes\\AppData\\Local\\Temp\\ipykernel_8516\\2327759639.py:20: SettingWithCopyWarning: \n",
      "A value is trying to be set on a copy of a slice from a DataFrame\n",
      "\n",
      "See the caveats in the documentation: https://pandas.pydata.org/pandas-docs/stable/user_guide/indexing.html#returning-a-view-versus-a-copy\n",
      "  time_serie.drop(columns=['Seller ID', 'Day of Week', 'Last Week', 'Last Month'], inplace=True)\n",
      "C:\\Users\\Miguel Mendes\\AppData\\Local\\Temp\\ipykernel_8516\\2327759639.py:21: SettingWithCopyWarning: \n",
      "A value is trying to be set on a copy of a slice from a DataFrame.\n",
      "Try using .loc[row_indexer,col_indexer] = value instead\n",
      "\n",
      "See the caveats in the documentation: https://pandas.pydata.org/pandas-docs/stable/user_guide/indexing.html#returning-a-view-versus-a-copy\n",
      "  time_serie['Change'] = time_serie['Change'].astype('Int64')\n",
      "C:\\Users\\Miguel Mendes\\AppData\\Local\\Temp\\ipykernel_8516\\2327759639.py:20: SettingWithCopyWarning: \n",
      "A value is trying to be set on a copy of a slice from a DataFrame\n",
      "\n",
      "See the caveats in the documentation: https://pandas.pydata.org/pandas-docs/stable/user_guide/indexing.html#returning-a-view-versus-a-copy\n",
      "  time_serie.drop(columns=['Seller ID', 'Day of Week', 'Last Week', 'Last Month'], inplace=True)\n",
      "C:\\Users\\Miguel Mendes\\AppData\\Local\\Temp\\ipykernel_8516\\2327759639.py:21: SettingWithCopyWarning: \n",
      "A value is trying to be set on a copy of a slice from a DataFrame.\n",
      "Try using .loc[row_indexer,col_indexer] = value instead\n",
      "\n",
      "See the caveats in the documentation: https://pandas.pydata.org/pandas-docs/stable/user_guide/indexing.html#returning-a-view-versus-a-copy\n",
      "  time_serie['Change'] = time_serie['Change'].astype('Int64')\n"
     ]
    },
    {
     "name": "stdout",
     "output_type": "stream",
     "text": [
      "Erro Médio Absoluto (MAE) para Seller ID 100001283: 0.0006040888256393373\n",
      "Processando Seller ID: 100001332\n"
     ]
    },
    {
     "name": "stderr",
     "output_type": "stream",
     "text": [
      "C:\\Users\\Miguel Mendes\\AppData\\Local\\Temp\\ipykernel_8516\\2327759639.py:20: SettingWithCopyWarning: \n",
      "A value is trying to be set on a copy of a slice from a DataFrame\n",
      "\n",
      "See the caveats in the documentation: https://pandas.pydata.org/pandas-docs/stable/user_guide/indexing.html#returning-a-view-versus-a-copy\n",
      "  time_serie.drop(columns=['Seller ID', 'Day of Week', 'Last Week', 'Last Month'], inplace=True)\n",
      "C:\\Users\\Miguel Mendes\\AppData\\Local\\Temp\\ipykernel_8516\\2327759639.py:21: SettingWithCopyWarning: \n",
      "A value is trying to be set on a copy of a slice from a DataFrame.\n",
      "Try using .loc[row_indexer,col_indexer] = value instead\n",
      "\n",
      "See the caveats in the documentation: https://pandas.pydata.org/pandas-docs/stable/user_guide/indexing.html#returning-a-view-versus-a-copy\n",
      "  time_serie['Change'] = time_serie['Change'].astype('Int64')\n"
     ]
    },
    {
     "name": "stdout",
     "output_type": "stream",
     "text": [
      "Erro Médio Absoluto (MAE) para Seller ID 100001332: 7.354326044151094e-06\n",
      "Processando Seller ID: 100001226\n",
      "Erro Médio Absoluto (MAE) para Seller ID 100001226: 7.389301026705652e-05\n",
      "Processando Seller ID: 100001007\n"
     ]
    },
    {
     "name": "stderr",
     "output_type": "stream",
     "text": [
      "C:\\Users\\Miguel Mendes\\AppData\\Local\\Temp\\ipykernel_8516\\2327759639.py:20: SettingWithCopyWarning: \n",
      "A value is trying to be set on a copy of a slice from a DataFrame\n",
      "\n",
      "See the caveats in the documentation: https://pandas.pydata.org/pandas-docs/stable/user_guide/indexing.html#returning-a-view-versus-a-copy\n",
      "  time_serie.drop(columns=['Seller ID', 'Day of Week', 'Last Week', 'Last Month'], inplace=True)\n",
      "C:\\Users\\Miguel Mendes\\AppData\\Local\\Temp\\ipykernel_8516\\2327759639.py:21: SettingWithCopyWarning: \n",
      "A value is trying to be set on a copy of a slice from a DataFrame.\n",
      "Try using .loc[row_indexer,col_indexer] = value instead\n",
      "\n",
      "See the caveats in the documentation: https://pandas.pydata.org/pandas-docs/stable/user_guide/indexing.html#returning-a-view-versus-a-copy\n",
      "  time_serie['Change'] = time_serie['Change'].astype('Int64')\n",
      "C:\\Users\\Miguel Mendes\\AppData\\Local\\Temp\\ipykernel_8516\\2327759639.py:20: SettingWithCopyWarning: \n",
      "A value is trying to be set on a copy of a slice from a DataFrame\n",
      "\n",
      "See the caveats in the documentation: https://pandas.pydata.org/pandas-docs/stable/user_guide/indexing.html#returning-a-view-versus-a-copy\n",
      "  time_serie.drop(columns=['Seller ID', 'Day of Week', 'Last Week', 'Last Month'], inplace=True)\n",
      "C:\\Users\\Miguel Mendes\\AppData\\Local\\Temp\\ipykernel_8516\\2327759639.py:21: SettingWithCopyWarning: \n",
      "A value is trying to be set on a copy of a slice from a DataFrame.\n",
      "Try using .loc[row_indexer,col_indexer] = value instead\n",
      "\n",
      "See the caveats in the documentation: https://pandas.pydata.org/pandas-docs/stable/user_guide/indexing.html#returning-a-view-versus-a-copy\n",
      "  time_serie['Change'] = time_serie['Change'].astype('Int64')\n"
     ]
    },
    {
     "name": "stdout",
     "output_type": "stream",
     "text": [
      "Erro Médio Absoluto (MAE) para Seller ID 100001007: 6.514448614325374e-05\n",
      "Processando Seller ID: 100001109\n",
      "Erro Médio Absoluto (MAE) para Seller ID 100001109: 0.00010628737072693184\n",
      "Processando Seller ID: 100000578\n"
     ]
    },
    {
     "name": "stderr",
     "output_type": "stream",
     "text": [
      "C:\\Users\\Miguel Mendes\\AppData\\Local\\Temp\\ipykernel_8516\\2327759639.py:20: SettingWithCopyWarning: \n",
      "A value is trying to be set on a copy of a slice from a DataFrame\n",
      "\n",
      "See the caveats in the documentation: https://pandas.pydata.org/pandas-docs/stable/user_guide/indexing.html#returning-a-view-versus-a-copy\n",
      "  time_serie.drop(columns=['Seller ID', 'Day of Week', 'Last Week', 'Last Month'], inplace=True)\n",
      "C:\\Users\\Miguel Mendes\\AppData\\Local\\Temp\\ipykernel_8516\\2327759639.py:21: SettingWithCopyWarning: \n",
      "A value is trying to be set on a copy of a slice from a DataFrame.\n",
      "Try using .loc[row_indexer,col_indexer] = value instead\n",
      "\n",
      "See the caveats in the documentation: https://pandas.pydata.org/pandas-docs/stable/user_guide/indexing.html#returning-a-view-versus-a-copy\n",
      "  time_serie['Change'] = time_serie['Change'].astype('Int64')\n",
      "C:\\Users\\Miguel Mendes\\AppData\\Local\\Temp\\ipykernel_8516\\2327759639.py:20: SettingWithCopyWarning: \n",
      "A value is trying to be set on a copy of a slice from a DataFrame\n",
      "\n",
      "See the caveats in the documentation: https://pandas.pydata.org/pandas-docs/stable/user_guide/indexing.html#returning-a-view-versus-a-copy\n",
      "  time_serie.drop(columns=['Seller ID', 'Day of Week', 'Last Week', 'Last Month'], inplace=True)\n",
      "C:\\Users\\Miguel Mendes\\AppData\\Local\\Temp\\ipykernel_8516\\2327759639.py:21: SettingWithCopyWarning: \n",
      "A value is trying to be set on a copy of a slice from a DataFrame.\n",
      "Try using .loc[row_indexer,col_indexer] = value instead\n",
      "\n",
      "See the caveats in the documentation: https://pandas.pydata.org/pandas-docs/stable/user_guide/indexing.html#returning-a-view-versus-a-copy\n",
      "  time_serie['Change'] = time_serie['Change'].astype('Int64')\n"
     ]
    },
    {
     "name": "stdout",
     "output_type": "stream",
     "text": [
      "Erro Médio Absoluto (MAE) para Seller ID 100000578: 6.304286216618493e-05\n",
      "Processando Seller ID: 100000396\n",
      "Erro Médio Absoluto (MAE) para Seller ID 100000396: 0.00011838925274787471\n",
      "Processando Seller ID: 100000795\n"
     ]
    },
    {
     "name": "stderr",
     "output_type": "stream",
     "text": [
      "C:\\Users\\Miguel Mendes\\AppData\\Local\\Temp\\ipykernel_8516\\2327759639.py:20: SettingWithCopyWarning: \n",
      "A value is trying to be set on a copy of a slice from a DataFrame\n",
      "\n",
      "See the caveats in the documentation: https://pandas.pydata.org/pandas-docs/stable/user_guide/indexing.html#returning-a-view-versus-a-copy\n",
      "  time_serie.drop(columns=['Seller ID', 'Day of Week', 'Last Week', 'Last Month'], inplace=True)\n",
      "C:\\Users\\Miguel Mendes\\AppData\\Local\\Temp\\ipykernel_8516\\2327759639.py:21: SettingWithCopyWarning: \n",
      "A value is trying to be set on a copy of a slice from a DataFrame.\n",
      "Try using .loc[row_indexer,col_indexer] = value instead\n",
      "\n",
      "See the caveats in the documentation: https://pandas.pydata.org/pandas-docs/stable/user_guide/indexing.html#returning-a-view-versus-a-copy\n",
      "  time_serie['Change'] = time_serie['Change'].astype('Int64')\n",
      "C:\\Users\\Miguel Mendes\\AppData\\Local\\Temp\\ipykernel_8516\\2327759639.py:20: SettingWithCopyWarning: \n",
      "A value is trying to be set on a copy of a slice from a DataFrame\n",
      "\n",
      "See the caveats in the documentation: https://pandas.pydata.org/pandas-docs/stable/user_guide/indexing.html#returning-a-view-versus-a-copy\n",
      "  time_serie.drop(columns=['Seller ID', 'Day of Week', 'Last Week', 'Last Month'], inplace=True)\n",
      "C:\\Users\\Miguel Mendes\\AppData\\Local\\Temp\\ipykernel_8516\\2327759639.py:21: SettingWithCopyWarning: \n",
      "A value is trying to be set on a copy of a slice from a DataFrame.\n",
      "Try using .loc[row_indexer,col_indexer] = value instead\n",
      "\n",
      "See the caveats in the documentation: https://pandas.pydata.org/pandas-docs/stable/user_guide/indexing.html#returning-a-view-versus-a-copy\n",
      "  time_serie['Change'] = time_serie['Change'].astype('Int64')\n"
     ]
    },
    {
     "name": "stdout",
     "output_type": "stream",
     "text": [
      "Erro Médio Absoluto (MAE) para Seller ID 100000795: 0.0001272402732865885\n",
      "Processando Seller ID: 100001153\n",
      "Erro Médio Absoluto (MAE) para Seller ID 100001153: 0.0002247238444397226\n",
      "Processando Seller ID: 100001223\n"
     ]
    },
    {
     "name": "stderr",
     "output_type": "stream",
     "text": [
      "C:\\Users\\Miguel Mendes\\AppData\\Local\\Temp\\ipykernel_8516\\2327759639.py:20: SettingWithCopyWarning: \n",
      "A value is trying to be set on a copy of a slice from a DataFrame\n",
      "\n",
      "See the caveats in the documentation: https://pandas.pydata.org/pandas-docs/stable/user_guide/indexing.html#returning-a-view-versus-a-copy\n",
      "  time_serie.drop(columns=['Seller ID', 'Day of Week', 'Last Week', 'Last Month'], inplace=True)\n",
      "C:\\Users\\Miguel Mendes\\AppData\\Local\\Temp\\ipykernel_8516\\2327759639.py:21: SettingWithCopyWarning: \n",
      "A value is trying to be set on a copy of a slice from a DataFrame.\n",
      "Try using .loc[row_indexer,col_indexer] = value instead\n",
      "\n",
      "See the caveats in the documentation: https://pandas.pydata.org/pandas-docs/stable/user_guide/indexing.html#returning-a-view-versus-a-copy\n",
      "  time_serie['Change'] = time_serie['Change'].astype('Int64')\n",
      "C:\\Users\\Miguel Mendes\\AppData\\Local\\Temp\\ipykernel_8516\\2327759639.py:20: SettingWithCopyWarning: \n",
      "A value is trying to be set on a copy of a slice from a DataFrame\n",
      "\n",
      "See the caveats in the documentation: https://pandas.pydata.org/pandas-docs/stable/user_guide/indexing.html#returning-a-view-versus-a-copy\n",
      "  time_serie.drop(columns=['Seller ID', 'Day of Week', 'Last Week', 'Last Month'], inplace=True)\n",
      "C:\\Users\\Miguel Mendes\\AppData\\Local\\Temp\\ipykernel_8516\\2327759639.py:21: SettingWithCopyWarning: \n",
      "A value is trying to be set on a copy of a slice from a DataFrame.\n",
      "Try using .loc[row_indexer,col_indexer] = value instead\n",
      "\n",
      "See the caveats in the documentation: https://pandas.pydata.org/pandas-docs/stable/user_guide/indexing.html#returning-a-view-versus-a-copy\n",
      "  time_serie['Change'] = time_serie['Change'].astype('Int64')\n"
     ]
    },
    {
     "name": "stdout",
     "output_type": "stream",
     "text": [
      "Erro Médio Absoluto (MAE) para Seller ID 100001223: 0.0002151702792616561\n",
      "Processando Seller ID: 100000585\n"
     ]
    },
    {
     "name": "stderr",
     "output_type": "stream",
     "text": [
      "C:\\Users\\Miguel Mendes\\AppData\\Local\\Temp\\ipykernel_8516\\2327759639.py:20: SettingWithCopyWarning: \n",
      "A value is trying to be set on a copy of a slice from a DataFrame\n",
      "\n",
      "See the caveats in the documentation: https://pandas.pydata.org/pandas-docs/stable/user_guide/indexing.html#returning-a-view-versus-a-copy\n",
      "  time_serie.drop(columns=['Seller ID', 'Day of Week', 'Last Week', 'Last Month'], inplace=True)\n",
      "C:\\Users\\Miguel Mendes\\AppData\\Local\\Temp\\ipykernel_8516\\2327759639.py:21: SettingWithCopyWarning: \n",
      "A value is trying to be set on a copy of a slice from a DataFrame.\n",
      "Try using .loc[row_indexer,col_indexer] = value instead\n",
      "\n",
      "See the caveats in the documentation: https://pandas.pydata.org/pandas-docs/stable/user_guide/indexing.html#returning-a-view-versus-a-copy\n",
      "  time_serie['Change'] = time_serie['Change'].astype('Int64')\n"
     ]
    },
    {
     "name": "stdout",
     "output_type": "stream",
     "text": [
      "Erro Médio Absoluto (MAE) para Seller ID 100000585: 0.00010224401921732351\n",
      "Processando Seller ID: 100000249\n",
      "Erro Médio Absoluto (MAE) para Seller ID 100000249: 1.076097851182567e-05\n",
      "Processando Seller ID: 100001130\n"
     ]
    },
    {
     "name": "stderr",
     "output_type": "stream",
     "text": [
      "C:\\Users\\Miguel Mendes\\AppData\\Local\\Temp\\ipykernel_8516\\2327759639.py:20: SettingWithCopyWarning: \n",
      "A value is trying to be set on a copy of a slice from a DataFrame\n",
      "\n",
      "See the caveats in the documentation: https://pandas.pydata.org/pandas-docs/stable/user_guide/indexing.html#returning-a-view-versus-a-copy\n",
      "  time_serie.drop(columns=['Seller ID', 'Day of Week', 'Last Week', 'Last Month'], inplace=True)\n",
      "C:\\Users\\Miguel Mendes\\AppData\\Local\\Temp\\ipykernel_8516\\2327759639.py:21: SettingWithCopyWarning: \n",
      "A value is trying to be set on a copy of a slice from a DataFrame.\n",
      "Try using .loc[row_indexer,col_indexer] = value instead\n",
      "\n",
      "See the caveats in the documentation: https://pandas.pydata.org/pandas-docs/stable/user_guide/indexing.html#returning-a-view-versus-a-copy\n",
      "  time_serie['Change'] = time_serie['Change'].astype('Int64')\n",
      "C:\\Users\\Miguel Mendes\\AppData\\Local\\Temp\\ipykernel_8516\\2327759639.py:20: SettingWithCopyWarning: \n",
      "A value is trying to be set on a copy of a slice from a DataFrame\n",
      "\n",
      "See the caveats in the documentation: https://pandas.pydata.org/pandas-docs/stable/user_guide/indexing.html#returning-a-view-versus-a-copy\n",
      "  time_serie.drop(columns=['Seller ID', 'Day of Week', 'Last Week', 'Last Month'], inplace=True)\n",
      "C:\\Users\\Miguel Mendes\\AppData\\Local\\Temp\\ipykernel_8516\\2327759639.py:21: SettingWithCopyWarning: \n",
      "A value is trying to be set on a copy of a slice from a DataFrame.\n",
      "Try using .loc[row_indexer,col_indexer] = value instead\n",
      "\n",
      "See the caveats in the documentation: https://pandas.pydata.org/pandas-docs/stable/user_guide/indexing.html#returning-a-view-versus-a-copy\n",
      "  time_serie['Change'] = time_serie['Change'].astype('Int64')\n"
     ]
    },
    {
     "name": "stdout",
     "output_type": "stream",
     "text": [
      "Erro Médio Absoluto (MAE) para Seller ID 100001130: 8.755872840993106e-06\n",
      "Processando Seller ID: 100001361\n",
      "Erro Médio Absoluto (MAE) para Seller ID 100001361: 0.00017398278578184545\n",
      "Processando Seller ID: 100000049\n"
     ]
    },
    {
     "name": "stderr",
     "output_type": "stream",
     "text": [
      "C:\\Users\\Miguel Mendes\\AppData\\Local\\Temp\\ipykernel_8516\\2327759639.py:20: SettingWithCopyWarning: \n",
      "A value is trying to be set on a copy of a slice from a DataFrame\n",
      "\n",
      "See the caveats in the documentation: https://pandas.pydata.org/pandas-docs/stable/user_guide/indexing.html#returning-a-view-versus-a-copy\n",
      "  time_serie.drop(columns=['Seller ID', 'Day of Week', 'Last Week', 'Last Month'], inplace=True)\n",
      "C:\\Users\\Miguel Mendes\\AppData\\Local\\Temp\\ipykernel_8516\\2327759639.py:21: SettingWithCopyWarning: \n",
      "A value is trying to be set on a copy of a slice from a DataFrame.\n",
      "Try using .loc[row_indexer,col_indexer] = value instead\n",
      "\n",
      "See the caveats in the documentation: https://pandas.pydata.org/pandas-docs/stable/user_guide/indexing.html#returning-a-view-versus-a-copy\n",
      "  time_serie['Change'] = time_serie['Change'].astype('Int64')\n",
      "C:\\Users\\Miguel Mendes\\AppData\\Local\\Temp\\ipykernel_8516\\2327759639.py:20: SettingWithCopyWarning: \n",
      "A value is trying to be set on a copy of a slice from a DataFrame\n",
      "\n",
      "See the caveats in the documentation: https://pandas.pydata.org/pandas-docs/stable/user_guide/indexing.html#returning-a-view-versus-a-copy\n",
      "  time_serie.drop(columns=['Seller ID', 'Day of Week', 'Last Week', 'Last Month'], inplace=True)\n",
      "C:\\Users\\Miguel Mendes\\AppData\\Local\\Temp\\ipykernel_8516\\2327759639.py:21: SettingWithCopyWarning: \n",
      "A value is trying to be set on a copy of a slice from a DataFrame.\n",
      "Try using .loc[row_indexer,col_indexer] = value instead\n",
      "\n",
      "See the caveats in the documentation: https://pandas.pydata.org/pandas-docs/stable/user_guide/indexing.html#returning-a-view-versus-a-copy\n",
      "  time_serie['Change'] = time_serie['Change'].astype('Int64')\n"
     ]
    },
    {
     "name": "stdout",
     "output_type": "stream",
     "text": [
      "Erro Médio Absoluto (MAE) para Seller ID 100000049: 3.8807993405498564e-05\n",
      "Processando Seller ID: 100000070\n",
      "Erro Médio Absoluto (MAE) para Seller ID 100000070: 3.543731145327911e-05\n",
      "Processando Seller ID: 100000091\n"
     ]
    },
    {
     "name": "stderr",
     "output_type": "stream",
     "text": [
      "C:\\Users\\Miguel Mendes\\AppData\\Local\\Temp\\ipykernel_8516\\2327759639.py:20: SettingWithCopyWarning: \n",
      "A value is trying to be set on a copy of a slice from a DataFrame\n",
      "\n",
      "See the caveats in the documentation: https://pandas.pydata.org/pandas-docs/stable/user_guide/indexing.html#returning-a-view-versus-a-copy\n",
      "  time_serie.drop(columns=['Seller ID', 'Day of Week', 'Last Week', 'Last Month'], inplace=True)\n",
      "C:\\Users\\Miguel Mendes\\AppData\\Local\\Temp\\ipykernel_8516\\2327759639.py:21: SettingWithCopyWarning: \n",
      "A value is trying to be set on a copy of a slice from a DataFrame.\n",
      "Try using .loc[row_indexer,col_indexer] = value instead\n",
      "\n",
      "See the caveats in the documentation: https://pandas.pydata.org/pandas-docs/stable/user_guide/indexing.html#returning-a-view-versus-a-copy\n",
      "  time_serie['Change'] = time_serie['Change'].astype('Int64')\n",
      "C:\\Users\\Miguel Mendes\\AppData\\Local\\Temp\\ipykernel_8516\\2327759639.py:20: SettingWithCopyWarning: \n",
      "A value is trying to be set on a copy of a slice from a DataFrame\n",
      "\n",
      "See the caveats in the documentation: https://pandas.pydata.org/pandas-docs/stable/user_guide/indexing.html#returning-a-view-versus-a-copy\n",
      "  time_serie.drop(columns=['Seller ID', 'Day of Week', 'Last Week', 'Last Month'], inplace=True)\n",
      "C:\\Users\\Miguel Mendes\\AppData\\Local\\Temp\\ipykernel_8516\\2327759639.py:21: SettingWithCopyWarning: \n",
      "A value is trying to be set on a copy of a slice from a DataFrame.\n",
      "Try using .loc[row_indexer,col_indexer] = value instead\n",
      "\n",
      "See the caveats in the documentation: https://pandas.pydata.org/pandas-docs/stable/user_guide/indexing.html#returning-a-view-versus-a-copy\n",
      "  time_serie['Change'] = time_serie['Change'].astype('Int64')\n"
     ]
    },
    {
     "name": "stdout",
     "output_type": "stream",
     "text": [
      "Erro Médio Absoluto (MAE) para Seller ID 100000091: 0.0009597286698408425\n",
      "Processando Seller ID: 100000842\n",
      "Erro Médio Absoluto (MAE) para Seller ID 100000842: 0.0006838897243142128\n",
      "Processando Seller ID: 100001307\n"
     ]
    },
    {
     "name": "stderr",
     "output_type": "stream",
     "text": [
      "C:\\Users\\Miguel Mendes\\AppData\\Local\\Temp\\ipykernel_8516\\2327759639.py:20: SettingWithCopyWarning: \n",
      "A value is trying to be set on a copy of a slice from a DataFrame\n",
      "\n",
      "See the caveats in the documentation: https://pandas.pydata.org/pandas-docs/stable/user_guide/indexing.html#returning-a-view-versus-a-copy\n",
      "  time_serie.drop(columns=['Seller ID', 'Day of Week', 'Last Week', 'Last Month'], inplace=True)\n",
      "C:\\Users\\Miguel Mendes\\AppData\\Local\\Temp\\ipykernel_8516\\2327759639.py:21: SettingWithCopyWarning: \n",
      "A value is trying to be set on a copy of a slice from a DataFrame.\n",
      "Try using .loc[row_indexer,col_indexer] = value instead\n",
      "\n",
      "See the caveats in the documentation: https://pandas.pydata.org/pandas-docs/stable/user_guide/indexing.html#returning-a-view-versus-a-copy\n",
      "  time_serie['Change'] = time_serie['Change'].astype('Int64')\n",
      "C:\\Users\\Miguel Mendes\\AppData\\Local\\Temp\\ipykernel_8516\\2327759639.py:20: SettingWithCopyWarning: \n",
      "A value is trying to be set on a copy of a slice from a DataFrame\n",
      "\n",
      "See the caveats in the documentation: https://pandas.pydata.org/pandas-docs/stable/user_guide/indexing.html#returning-a-view-versus-a-copy\n",
      "  time_serie.drop(columns=['Seller ID', 'Day of Week', 'Last Week', 'Last Month'], inplace=True)\n",
      "C:\\Users\\Miguel Mendes\\AppData\\Local\\Temp\\ipykernel_8516\\2327759639.py:21: SettingWithCopyWarning: \n",
      "A value is trying to be set on a copy of a slice from a DataFrame.\n",
      "Try using .loc[row_indexer,col_indexer] = value instead\n",
      "\n",
      "See the caveats in the documentation: https://pandas.pydata.org/pandas-docs/stable/user_guide/indexing.html#returning-a-view-versus-a-copy\n",
      "  time_serie['Change'] = time_serie['Change'].astype('Int64')\n"
     ]
    },
    {
     "name": "stdout",
     "output_type": "stream",
     "text": [
      "Erro Médio Absoluto (MAE) para Seller ID 100001307: 4.826337317354046e-05\n",
      "Processando Seller ID: 100001234\n",
      "Erro Médio Absoluto (MAE) para Seller ID 100001234: 0.002220297232270241\n",
      "Processando Seller ID: 100000225\n"
     ]
    },
    {
     "name": "stderr",
     "output_type": "stream",
     "text": [
      "C:\\Users\\Miguel Mendes\\AppData\\Local\\Temp\\ipykernel_8516\\2327759639.py:20: SettingWithCopyWarning: \n",
      "A value is trying to be set on a copy of a slice from a DataFrame\n",
      "\n",
      "See the caveats in the documentation: https://pandas.pydata.org/pandas-docs/stable/user_guide/indexing.html#returning-a-view-versus-a-copy\n",
      "  time_serie.drop(columns=['Seller ID', 'Day of Week', 'Last Week', 'Last Month'], inplace=True)\n",
      "C:\\Users\\Miguel Mendes\\AppData\\Local\\Temp\\ipykernel_8516\\2327759639.py:21: SettingWithCopyWarning: \n",
      "A value is trying to be set on a copy of a slice from a DataFrame.\n",
      "Try using .loc[row_indexer,col_indexer] = value instead\n",
      "\n",
      "See the caveats in the documentation: https://pandas.pydata.org/pandas-docs/stable/user_guide/indexing.html#returning-a-view-versus-a-copy\n",
      "  time_serie['Change'] = time_serie['Change'].astype('Int64')\n",
      "C:\\Users\\Miguel Mendes\\AppData\\Local\\Temp\\ipykernel_8516\\2327759639.py:20: SettingWithCopyWarning: \n",
      "A value is trying to be set on a copy of a slice from a DataFrame\n",
      "\n",
      "See the caveats in the documentation: https://pandas.pydata.org/pandas-docs/stable/user_guide/indexing.html#returning-a-view-versus-a-copy\n",
      "  time_serie.drop(columns=['Seller ID', 'Day of Week', 'Last Week', 'Last Month'], inplace=True)\n",
      "C:\\Users\\Miguel Mendes\\AppData\\Local\\Temp\\ipykernel_8516\\2327759639.py:21: SettingWithCopyWarning: \n",
      "A value is trying to be set on a copy of a slice from a DataFrame.\n",
      "Try using .loc[row_indexer,col_indexer] = value instead\n",
      "\n",
      "See the caveats in the documentation: https://pandas.pydata.org/pandas-docs/stable/user_guide/indexing.html#returning-a-view-versus-a-copy\n",
      "  time_serie['Change'] = time_serie['Change'].astype('Int64')\n"
     ]
    },
    {
     "name": "stdout",
     "output_type": "stream",
     "text": [
      "Erro Médio Absoluto (MAE) para Seller ID 100000225: 0.0004291114746592939\n",
      "Processando Seller ID: 100000399\n",
      "Erro Médio Absoluto (MAE) para Seller ID 100000399: 0.0009455147664994001\n",
      "Processando Seller ID: 100001107\n"
     ]
    },
    {
     "name": "stderr",
     "output_type": "stream",
     "text": [
      "C:\\Users\\Miguel Mendes\\AppData\\Local\\Temp\\ipykernel_8516\\2327759639.py:20: SettingWithCopyWarning: \n",
      "A value is trying to be set on a copy of a slice from a DataFrame\n",
      "\n",
      "See the caveats in the documentation: https://pandas.pydata.org/pandas-docs/stable/user_guide/indexing.html#returning-a-view-versus-a-copy\n",
      "  time_serie.drop(columns=['Seller ID', 'Day of Week', 'Last Week', 'Last Month'], inplace=True)\n",
      "C:\\Users\\Miguel Mendes\\AppData\\Local\\Temp\\ipykernel_8516\\2327759639.py:21: SettingWithCopyWarning: \n",
      "A value is trying to be set on a copy of a slice from a DataFrame.\n",
      "Try using .loc[row_indexer,col_indexer] = value instead\n",
      "\n",
      "See the caveats in the documentation: https://pandas.pydata.org/pandas-docs/stable/user_guide/indexing.html#returning-a-view-versus-a-copy\n",
      "  time_serie['Change'] = time_serie['Change'].astype('Int64')\n",
      "C:\\Users\\Miguel Mendes\\AppData\\Local\\Temp\\ipykernel_8516\\2327759639.py:20: SettingWithCopyWarning: \n",
      "A value is trying to be set on a copy of a slice from a DataFrame\n",
      "\n",
      "See the caveats in the documentation: https://pandas.pydata.org/pandas-docs/stable/user_guide/indexing.html#returning-a-view-versus-a-copy\n",
      "  time_serie.drop(columns=['Seller ID', 'Day of Week', 'Last Week', 'Last Month'], inplace=True)\n",
      "C:\\Users\\Miguel Mendes\\AppData\\Local\\Temp\\ipykernel_8516\\2327759639.py:21: SettingWithCopyWarning: \n",
      "A value is trying to be set on a copy of a slice from a DataFrame.\n",
      "Try using .loc[row_indexer,col_indexer] = value instead\n",
      "\n",
      "See the caveats in the documentation: https://pandas.pydata.org/pandas-docs/stable/user_guide/indexing.html#returning-a-view-versus-a-copy\n",
      "  time_serie['Change'] = time_serie['Change'].astype('Int64')\n"
     ]
    },
    {
     "name": "stdout",
     "output_type": "stream",
     "text": [
      "Erro Médio Absoluto (MAE) para Seller ID 100001107: 8.845761840348132e-06\n",
      "Processando Seller ID: 100000772\n",
      "Erro Médio Absoluto (MAE) para Seller ID 100000772: 0.00040809711208567023\n",
      "Processando Seller ID: 100001031\n"
     ]
    },
    {
     "name": "stderr",
     "output_type": "stream",
     "text": [
      "C:\\Users\\Miguel Mendes\\AppData\\Local\\Temp\\ipykernel_8516\\2327759639.py:20: SettingWithCopyWarning: \n",
      "A value is trying to be set on a copy of a slice from a DataFrame\n",
      "\n",
      "See the caveats in the documentation: https://pandas.pydata.org/pandas-docs/stable/user_guide/indexing.html#returning-a-view-versus-a-copy\n",
      "  time_serie.drop(columns=['Seller ID', 'Day of Week', 'Last Week', 'Last Month'], inplace=True)\n",
      "C:\\Users\\Miguel Mendes\\AppData\\Local\\Temp\\ipykernel_8516\\2327759639.py:21: SettingWithCopyWarning: \n",
      "A value is trying to be set on a copy of a slice from a DataFrame.\n",
      "Try using .loc[row_indexer,col_indexer] = value instead\n",
      "\n",
      "See the caveats in the documentation: https://pandas.pydata.org/pandas-docs/stable/user_guide/indexing.html#returning-a-view-versus-a-copy\n",
      "  time_serie['Change'] = time_serie['Change'].astype('Int64')\n",
      "C:\\Users\\Miguel Mendes\\AppData\\Local\\Temp\\ipykernel_8516\\2327759639.py:20: SettingWithCopyWarning: \n",
      "A value is trying to be set on a copy of a slice from a DataFrame\n",
      "\n",
      "See the caveats in the documentation: https://pandas.pydata.org/pandas-docs/stable/user_guide/indexing.html#returning-a-view-versus-a-copy\n",
      "  time_serie.drop(columns=['Seller ID', 'Day of Week', 'Last Week', 'Last Month'], inplace=True)\n",
      "C:\\Users\\Miguel Mendes\\AppData\\Local\\Temp\\ipykernel_8516\\2327759639.py:21: SettingWithCopyWarning: \n",
      "A value is trying to be set on a copy of a slice from a DataFrame.\n",
      "Try using .loc[row_indexer,col_indexer] = value instead\n",
      "\n",
      "See the caveats in the documentation: https://pandas.pydata.org/pandas-docs/stable/user_guide/indexing.html#returning-a-view-versus-a-copy\n",
      "  time_serie['Change'] = time_serie['Change'].astype('Int64')\n"
     ]
    },
    {
     "name": "stdout",
     "output_type": "stream",
     "text": [
      "Erro Médio Absoluto (MAE) para Seller ID 100001031: 0.0001054883687174879\n",
      "Processando Seller ID: 100000877\n",
      "Erro Médio Absoluto (MAE) para Seller ID 100000877: 8.672391413711011e-05\n",
      "Processando Seller ID: 100000144\n"
     ]
    },
    {
     "name": "stderr",
     "output_type": "stream",
     "text": [
      "C:\\Users\\Miguel Mendes\\AppData\\Local\\Temp\\ipykernel_8516\\2327759639.py:20: SettingWithCopyWarning: \n",
      "A value is trying to be set on a copy of a slice from a DataFrame\n",
      "\n",
      "See the caveats in the documentation: https://pandas.pydata.org/pandas-docs/stable/user_guide/indexing.html#returning-a-view-versus-a-copy\n",
      "  time_serie.drop(columns=['Seller ID', 'Day of Week', 'Last Week', 'Last Month'], inplace=True)\n",
      "C:\\Users\\Miguel Mendes\\AppData\\Local\\Temp\\ipykernel_8516\\2327759639.py:21: SettingWithCopyWarning: \n",
      "A value is trying to be set on a copy of a slice from a DataFrame.\n",
      "Try using .loc[row_indexer,col_indexer] = value instead\n",
      "\n",
      "See the caveats in the documentation: https://pandas.pydata.org/pandas-docs/stable/user_guide/indexing.html#returning-a-view-versus-a-copy\n",
      "  time_serie['Change'] = time_serie['Change'].astype('Int64')\n",
      "C:\\Users\\Miguel Mendes\\AppData\\Local\\Temp\\ipykernel_8516\\2327759639.py:20: SettingWithCopyWarning: \n",
      "A value is trying to be set on a copy of a slice from a DataFrame\n",
      "\n",
      "See the caveats in the documentation: https://pandas.pydata.org/pandas-docs/stable/user_guide/indexing.html#returning-a-view-versus-a-copy\n",
      "  time_serie.drop(columns=['Seller ID', 'Day of Week', 'Last Week', 'Last Month'], inplace=True)\n",
      "C:\\Users\\Miguel Mendes\\AppData\\Local\\Temp\\ipykernel_8516\\2327759639.py:21: SettingWithCopyWarning: \n",
      "A value is trying to be set on a copy of a slice from a DataFrame.\n",
      "Try using .loc[row_indexer,col_indexer] = value instead\n",
      "\n",
      "See the caveats in the documentation: https://pandas.pydata.org/pandas-docs/stable/user_guide/indexing.html#returning-a-view-versus-a-copy\n",
      "  time_serie['Change'] = time_serie['Change'].astype('Int64')\n"
     ]
    },
    {
     "name": "stdout",
     "output_type": "stream",
     "text": [
      "Erro Médio Absoluto (MAE) para Seller ID 100000144: 0.0005306171369738877\n",
      "Processando Seller ID: 100000344\n",
      "Erro Médio Absoluto (MAE) para Seller ID 100000344: 0.00040420389268547297\n",
      "Processando Seller ID: 100000701\n"
     ]
    },
    {
     "name": "stderr",
     "output_type": "stream",
     "text": [
      "C:\\Users\\Miguel Mendes\\AppData\\Local\\Temp\\ipykernel_8516\\2327759639.py:20: SettingWithCopyWarning: \n",
      "A value is trying to be set on a copy of a slice from a DataFrame\n",
      "\n",
      "See the caveats in the documentation: https://pandas.pydata.org/pandas-docs/stable/user_guide/indexing.html#returning-a-view-versus-a-copy\n",
      "  time_serie.drop(columns=['Seller ID', 'Day of Week', 'Last Week', 'Last Month'], inplace=True)\n",
      "C:\\Users\\Miguel Mendes\\AppData\\Local\\Temp\\ipykernel_8516\\2327759639.py:21: SettingWithCopyWarning: \n",
      "A value is trying to be set on a copy of a slice from a DataFrame.\n",
      "Try using .loc[row_indexer,col_indexer] = value instead\n",
      "\n",
      "See the caveats in the documentation: https://pandas.pydata.org/pandas-docs/stable/user_guide/indexing.html#returning-a-view-versus-a-copy\n",
      "  time_serie['Change'] = time_serie['Change'].astype('Int64')\n",
      "C:\\Users\\Miguel Mendes\\AppData\\Local\\Temp\\ipykernel_8516\\2327759639.py:20: SettingWithCopyWarning: \n",
      "A value is trying to be set on a copy of a slice from a DataFrame\n",
      "\n",
      "See the caveats in the documentation: https://pandas.pydata.org/pandas-docs/stable/user_guide/indexing.html#returning-a-view-versus-a-copy\n",
      "  time_serie.drop(columns=['Seller ID', 'Day of Week', 'Last Week', 'Last Month'], inplace=True)\n",
      "C:\\Users\\Miguel Mendes\\AppData\\Local\\Temp\\ipykernel_8516\\2327759639.py:21: SettingWithCopyWarning: \n",
      "A value is trying to be set on a copy of a slice from a DataFrame.\n",
      "Try using .loc[row_indexer,col_indexer] = value instead\n",
      "\n",
      "See the caveats in the documentation: https://pandas.pydata.org/pandas-docs/stable/user_guide/indexing.html#returning-a-view-versus-a-copy\n",
      "  time_serie['Change'] = time_serie['Change'].astype('Int64')\n"
     ]
    },
    {
     "name": "stdout",
     "output_type": "stream",
     "text": [
      "Erro Médio Absoluto (MAE) para Seller ID 100000701: 0.00022897683084011078\n",
      "Processando Seller ID: 100000979\n",
      "Erro Médio Absoluto (MAE) para Seller ID 100000979: 6.539418245665729e-05\n",
      "Processando Seller ID: 100000293\n"
     ]
    },
    {
     "name": "stderr",
     "output_type": "stream",
     "text": [
      "C:\\Users\\Miguel Mendes\\AppData\\Local\\Temp\\ipykernel_8516\\2327759639.py:20: SettingWithCopyWarning: \n",
      "A value is trying to be set on a copy of a slice from a DataFrame\n",
      "\n",
      "See the caveats in the documentation: https://pandas.pydata.org/pandas-docs/stable/user_guide/indexing.html#returning-a-view-versus-a-copy\n",
      "  time_serie.drop(columns=['Seller ID', 'Day of Week', 'Last Week', 'Last Month'], inplace=True)\n",
      "C:\\Users\\Miguel Mendes\\AppData\\Local\\Temp\\ipykernel_8516\\2327759639.py:21: SettingWithCopyWarning: \n",
      "A value is trying to be set on a copy of a slice from a DataFrame.\n",
      "Try using .loc[row_indexer,col_indexer] = value instead\n",
      "\n",
      "See the caveats in the documentation: https://pandas.pydata.org/pandas-docs/stable/user_guide/indexing.html#returning-a-view-versus-a-copy\n",
      "  time_serie['Change'] = time_serie['Change'].astype('Int64')\n",
      "C:\\Users\\Miguel Mendes\\AppData\\Local\\Temp\\ipykernel_8516\\2327759639.py:20: SettingWithCopyWarning: \n",
      "A value is trying to be set on a copy of a slice from a DataFrame\n",
      "\n",
      "See the caveats in the documentation: https://pandas.pydata.org/pandas-docs/stable/user_guide/indexing.html#returning-a-view-versus-a-copy\n",
      "  time_serie.drop(columns=['Seller ID', 'Day of Week', 'Last Week', 'Last Month'], inplace=True)\n",
      "C:\\Users\\Miguel Mendes\\AppData\\Local\\Temp\\ipykernel_8516\\2327759639.py:21: SettingWithCopyWarning: \n",
      "A value is trying to be set on a copy of a slice from a DataFrame.\n",
      "Try using .loc[row_indexer,col_indexer] = value instead\n",
      "\n",
      "See the caveats in the documentation: https://pandas.pydata.org/pandas-docs/stable/user_guide/indexing.html#returning-a-view-versus-a-copy\n",
      "  time_serie['Change'] = time_serie['Change'].astype('Int64')\n"
     ]
    },
    {
     "name": "stdout",
     "output_type": "stream",
     "text": [
      "Erro Médio Absoluto (MAE) para Seller ID 100000293: 9.057395800482482e-05\n",
      "Processando Seller ID: 100000411\n",
      "Erro Médio Absoluto (MAE) para Seller ID 100000411: 0.00010888130782404914\n",
      "Processando Seller ID: 100000978\n"
     ]
    },
    {
     "name": "stderr",
     "output_type": "stream",
     "text": [
      "C:\\Users\\Miguel Mendes\\AppData\\Local\\Temp\\ipykernel_8516\\2327759639.py:20: SettingWithCopyWarning: \n",
      "A value is trying to be set on a copy of a slice from a DataFrame\n",
      "\n",
      "See the caveats in the documentation: https://pandas.pydata.org/pandas-docs/stable/user_guide/indexing.html#returning-a-view-versus-a-copy\n",
      "  time_serie.drop(columns=['Seller ID', 'Day of Week', 'Last Week', 'Last Month'], inplace=True)\n",
      "C:\\Users\\Miguel Mendes\\AppData\\Local\\Temp\\ipykernel_8516\\2327759639.py:21: SettingWithCopyWarning: \n",
      "A value is trying to be set on a copy of a slice from a DataFrame.\n",
      "Try using .loc[row_indexer,col_indexer] = value instead\n",
      "\n",
      "See the caveats in the documentation: https://pandas.pydata.org/pandas-docs/stable/user_guide/indexing.html#returning-a-view-versus-a-copy\n",
      "  time_serie['Change'] = time_serie['Change'].astype('Int64')\n",
      "C:\\Users\\Miguel Mendes\\AppData\\Local\\Temp\\ipykernel_8516\\2327759639.py:20: SettingWithCopyWarning: \n",
      "A value is trying to be set on a copy of a slice from a DataFrame\n",
      "\n",
      "See the caveats in the documentation: https://pandas.pydata.org/pandas-docs/stable/user_guide/indexing.html#returning-a-view-versus-a-copy\n",
      "  time_serie.drop(columns=['Seller ID', 'Day of Week', 'Last Week', 'Last Month'], inplace=True)\n",
      "C:\\Users\\Miguel Mendes\\AppData\\Local\\Temp\\ipykernel_8516\\2327759639.py:21: SettingWithCopyWarning: \n",
      "A value is trying to be set on a copy of a slice from a DataFrame.\n",
      "Try using .loc[row_indexer,col_indexer] = value instead\n",
      "\n",
      "See the caveats in the documentation: https://pandas.pydata.org/pandas-docs/stable/user_guide/indexing.html#returning-a-view-versus-a-copy\n",
      "  time_serie['Change'] = time_serie['Change'].astype('Int64')\n"
     ]
    },
    {
     "name": "stdout",
     "output_type": "stream",
     "text": [
      "Erro Médio Absoluto (MAE) para Seller ID 100000978: 9.128566307481378e-05\n",
      "Processando Seller ID: 100001268\n",
      "Erro Médio Absoluto (MAE) para Seller ID 100001268: 0.0027887916658073664\n",
      "Processando Seller ID: 100000117\n"
     ]
    },
    {
     "name": "stderr",
     "output_type": "stream",
     "text": [
      "C:\\Users\\Miguel Mendes\\AppData\\Local\\Temp\\ipykernel_8516\\2327759639.py:20: SettingWithCopyWarning: \n",
      "A value is trying to be set on a copy of a slice from a DataFrame\n",
      "\n",
      "See the caveats in the documentation: https://pandas.pydata.org/pandas-docs/stable/user_guide/indexing.html#returning-a-view-versus-a-copy\n",
      "  time_serie.drop(columns=['Seller ID', 'Day of Week', 'Last Week', 'Last Month'], inplace=True)\n",
      "C:\\Users\\Miguel Mendes\\AppData\\Local\\Temp\\ipykernel_8516\\2327759639.py:21: SettingWithCopyWarning: \n",
      "A value is trying to be set on a copy of a slice from a DataFrame.\n",
      "Try using .loc[row_indexer,col_indexer] = value instead\n",
      "\n",
      "See the caveats in the documentation: https://pandas.pydata.org/pandas-docs/stable/user_guide/indexing.html#returning-a-view-versus-a-copy\n",
      "  time_serie['Change'] = time_serie['Change'].astype('Int64')\n",
      "C:\\Users\\Miguel Mendes\\AppData\\Local\\Temp\\ipykernel_8516\\2327759639.py:20: SettingWithCopyWarning: \n",
      "A value is trying to be set on a copy of a slice from a DataFrame\n",
      "\n",
      "See the caveats in the documentation: https://pandas.pydata.org/pandas-docs/stable/user_guide/indexing.html#returning-a-view-versus-a-copy\n",
      "  time_serie.drop(columns=['Seller ID', 'Day of Week', 'Last Week', 'Last Month'], inplace=True)\n",
      "C:\\Users\\Miguel Mendes\\AppData\\Local\\Temp\\ipykernel_8516\\2327759639.py:21: SettingWithCopyWarning: \n",
      "A value is trying to be set on a copy of a slice from a DataFrame.\n",
      "Try using .loc[row_indexer,col_indexer] = value instead\n",
      "\n",
      "See the caveats in the documentation: https://pandas.pydata.org/pandas-docs/stable/user_guide/indexing.html#returning-a-view-versus-a-copy\n",
      "  time_serie['Change'] = time_serie['Change'].astype('Int64')\n"
     ]
    },
    {
     "name": "stdout",
     "output_type": "stream",
     "text": [
      "Erro Médio Absoluto (MAE) para Seller ID 100000117: 6.344704161165282e-05\n",
      "Processando Seller ID: 100000824\n",
      "Erro Médio Absoluto (MAE) para Seller ID 100000824: 0.005108053330332041\n",
      "Processando Seller ID: 100001150\n"
     ]
    },
    {
     "name": "stderr",
     "output_type": "stream",
     "text": [
      "C:\\Users\\Miguel Mendes\\AppData\\Local\\Temp\\ipykernel_8516\\2327759639.py:20: SettingWithCopyWarning: \n",
      "A value is trying to be set on a copy of a slice from a DataFrame\n",
      "\n",
      "See the caveats in the documentation: https://pandas.pydata.org/pandas-docs/stable/user_guide/indexing.html#returning-a-view-versus-a-copy\n",
      "  time_serie.drop(columns=['Seller ID', 'Day of Week', 'Last Week', 'Last Month'], inplace=True)\n",
      "C:\\Users\\Miguel Mendes\\AppData\\Local\\Temp\\ipykernel_8516\\2327759639.py:21: SettingWithCopyWarning: \n",
      "A value is trying to be set on a copy of a slice from a DataFrame.\n",
      "Try using .loc[row_indexer,col_indexer] = value instead\n",
      "\n",
      "See the caveats in the documentation: https://pandas.pydata.org/pandas-docs/stable/user_guide/indexing.html#returning-a-view-versus-a-copy\n",
      "  time_serie['Change'] = time_serie['Change'].astype('Int64')\n",
      "C:\\Users\\Miguel Mendes\\AppData\\Local\\Temp\\ipykernel_8516\\2327759639.py:20: SettingWithCopyWarning: \n",
      "A value is trying to be set on a copy of a slice from a DataFrame\n",
      "\n",
      "See the caveats in the documentation: https://pandas.pydata.org/pandas-docs/stable/user_guide/indexing.html#returning-a-view-versus-a-copy\n",
      "  time_serie.drop(columns=['Seller ID', 'Day of Week', 'Last Week', 'Last Month'], inplace=True)\n",
      "C:\\Users\\Miguel Mendes\\AppData\\Local\\Temp\\ipykernel_8516\\2327759639.py:21: SettingWithCopyWarning: \n",
      "A value is trying to be set on a copy of a slice from a DataFrame.\n",
      "Try using .loc[row_indexer,col_indexer] = value instead\n",
      "\n",
      "See the caveats in the documentation: https://pandas.pydata.org/pandas-docs/stable/user_guide/indexing.html#returning-a-view-versus-a-copy\n",
      "  time_serie['Change'] = time_serie['Change'].astype('Int64')\n"
     ]
    },
    {
     "name": "stdout",
     "output_type": "stream",
     "text": [
      "Erro Médio Absoluto (MAE) para Seller ID 100001150: 0.00032162596471607685\n",
      "Processando Seller ID: 100000574\n",
      "Erro Médio Absoluto (MAE) para Seller ID 100000574: 5.3480333008337766e-05\n",
      "Processando Seller ID: 100000897\n"
     ]
    },
    {
     "name": "stderr",
     "output_type": "stream",
     "text": [
      "C:\\Users\\Miguel Mendes\\AppData\\Local\\Temp\\ipykernel_8516\\2327759639.py:20: SettingWithCopyWarning: \n",
      "A value is trying to be set on a copy of a slice from a DataFrame\n",
      "\n",
      "See the caveats in the documentation: https://pandas.pydata.org/pandas-docs/stable/user_guide/indexing.html#returning-a-view-versus-a-copy\n",
      "  time_serie.drop(columns=['Seller ID', 'Day of Week', 'Last Week', 'Last Month'], inplace=True)\n",
      "C:\\Users\\Miguel Mendes\\AppData\\Local\\Temp\\ipykernel_8516\\2327759639.py:21: SettingWithCopyWarning: \n",
      "A value is trying to be set on a copy of a slice from a DataFrame.\n",
      "Try using .loc[row_indexer,col_indexer] = value instead\n",
      "\n",
      "See the caveats in the documentation: https://pandas.pydata.org/pandas-docs/stable/user_guide/indexing.html#returning-a-view-versus-a-copy\n",
      "  time_serie['Change'] = time_serie['Change'].astype('Int64')\n",
      "C:\\Users\\Miguel Mendes\\AppData\\Local\\Temp\\ipykernel_8516\\2327759639.py:20: SettingWithCopyWarning: \n",
      "A value is trying to be set on a copy of a slice from a DataFrame\n",
      "\n",
      "See the caveats in the documentation: https://pandas.pydata.org/pandas-docs/stable/user_guide/indexing.html#returning-a-view-versus-a-copy\n",
      "  time_serie.drop(columns=['Seller ID', 'Day of Week', 'Last Week', 'Last Month'], inplace=True)\n",
      "C:\\Users\\Miguel Mendes\\AppData\\Local\\Temp\\ipykernel_8516\\2327759639.py:21: SettingWithCopyWarning: \n",
      "A value is trying to be set on a copy of a slice from a DataFrame.\n",
      "Try using .loc[row_indexer,col_indexer] = value instead\n",
      "\n",
      "See the caveats in the documentation: https://pandas.pydata.org/pandas-docs/stable/user_guide/indexing.html#returning-a-view-versus-a-copy\n",
      "  time_serie['Change'] = time_serie['Change'].astype('Int64')\n"
     ]
    },
    {
     "name": "stdout",
     "output_type": "stream",
     "text": [
      "Erro Médio Absoluto (MAE) para Seller ID 100000897: 4.38454708273639e-06\n",
      "Processando Seller ID: 100000086\n",
      "Erro Médio Absoluto (MAE) para Seller ID 100000086: 6.721402314724401e-06\n",
      "Processando Seller ID: 100000360\n"
     ]
    },
    {
     "name": "stderr",
     "output_type": "stream",
     "text": [
      "C:\\Users\\Miguel Mendes\\AppData\\Local\\Temp\\ipykernel_8516\\2327759639.py:20: SettingWithCopyWarning: \n",
      "A value is trying to be set on a copy of a slice from a DataFrame\n",
      "\n",
      "See the caveats in the documentation: https://pandas.pydata.org/pandas-docs/stable/user_guide/indexing.html#returning-a-view-versus-a-copy\n",
      "  time_serie.drop(columns=['Seller ID', 'Day of Week', 'Last Week', 'Last Month'], inplace=True)\n",
      "C:\\Users\\Miguel Mendes\\AppData\\Local\\Temp\\ipykernel_8516\\2327759639.py:21: SettingWithCopyWarning: \n",
      "A value is trying to be set on a copy of a slice from a DataFrame.\n",
      "Try using .loc[row_indexer,col_indexer] = value instead\n",
      "\n",
      "See the caveats in the documentation: https://pandas.pydata.org/pandas-docs/stable/user_guide/indexing.html#returning-a-view-versus-a-copy\n",
      "  time_serie['Change'] = time_serie['Change'].astype('Int64')\n",
      "C:\\Users\\Miguel Mendes\\AppData\\Local\\Temp\\ipykernel_8516\\2327759639.py:20: SettingWithCopyWarning: \n",
      "A value is trying to be set on a copy of a slice from a DataFrame\n",
      "\n",
      "See the caveats in the documentation: https://pandas.pydata.org/pandas-docs/stable/user_guide/indexing.html#returning-a-view-versus-a-copy\n",
      "  time_serie.drop(columns=['Seller ID', 'Day of Week', 'Last Week', 'Last Month'], inplace=True)\n",
      "C:\\Users\\Miguel Mendes\\AppData\\Local\\Temp\\ipykernel_8516\\2327759639.py:21: SettingWithCopyWarning: \n",
      "A value is trying to be set on a copy of a slice from a DataFrame.\n",
      "Try using .loc[row_indexer,col_indexer] = value instead\n",
      "\n",
      "See the caveats in the documentation: https://pandas.pydata.org/pandas-docs/stable/user_guide/indexing.html#returning-a-view-versus-a-copy\n",
      "  time_serie['Change'] = time_serie['Change'].astype('Int64')\n"
     ]
    },
    {
     "name": "stdout",
     "output_type": "stream",
     "text": [
      "Erro Médio Absoluto (MAE) para Seller ID 100000360: 0.00010292864317307249\n",
      "Processando Seller ID: 100000391\n",
      "Erro Médio Absoluto (MAE) para Seller ID 100000391: 0.0001541100355098024\n",
      "Processando Seller ID: 100000573\n"
     ]
    },
    {
     "name": "stderr",
     "output_type": "stream",
     "text": [
      "C:\\Users\\Miguel Mendes\\AppData\\Local\\Temp\\ipykernel_8516\\2327759639.py:20: SettingWithCopyWarning: \n",
      "A value is trying to be set on a copy of a slice from a DataFrame\n",
      "\n",
      "See the caveats in the documentation: https://pandas.pydata.org/pandas-docs/stable/user_guide/indexing.html#returning-a-view-versus-a-copy\n",
      "  time_serie.drop(columns=['Seller ID', 'Day of Week', 'Last Week', 'Last Month'], inplace=True)\n",
      "C:\\Users\\Miguel Mendes\\AppData\\Local\\Temp\\ipykernel_8516\\2327759639.py:21: SettingWithCopyWarning: \n",
      "A value is trying to be set on a copy of a slice from a DataFrame.\n",
      "Try using .loc[row_indexer,col_indexer] = value instead\n",
      "\n",
      "See the caveats in the documentation: https://pandas.pydata.org/pandas-docs/stable/user_guide/indexing.html#returning-a-view-versus-a-copy\n",
      "  time_serie['Change'] = time_serie['Change'].astype('Int64')\n",
      "C:\\Users\\Miguel Mendes\\AppData\\Local\\Temp\\ipykernel_8516\\2327759639.py:20: SettingWithCopyWarning: \n",
      "A value is trying to be set on a copy of a slice from a DataFrame\n",
      "\n",
      "See the caveats in the documentation: https://pandas.pydata.org/pandas-docs/stable/user_guide/indexing.html#returning-a-view-versus-a-copy\n",
      "  time_serie.drop(columns=['Seller ID', 'Day of Week', 'Last Week', 'Last Month'], inplace=True)\n",
      "C:\\Users\\Miguel Mendes\\AppData\\Local\\Temp\\ipykernel_8516\\2327759639.py:21: SettingWithCopyWarning: \n",
      "A value is trying to be set on a copy of a slice from a DataFrame.\n",
      "Try using .loc[row_indexer,col_indexer] = value instead\n",
      "\n",
      "See the caveats in the documentation: https://pandas.pydata.org/pandas-docs/stable/user_guide/indexing.html#returning-a-view-versus-a-copy\n",
      "  time_serie['Change'] = time_serie['Change'].astype('Int64')\n"
     ]
    },
    {
     "name": "stdout",
     "output_type": "stream",
     "text": [
      "Erro Médio Absoluto (MAE) para Seller ID 100000573: 6.249070793273859e-06\n",
      "Processando Seller ID: 100000569\n",
      "Erro Médio Absoluto (MAE) para Seller ID 100000569: 0.0006636952748522162\n",
      "Processando Seller ID: 100000764\n"
     ]
    },
    {
     "name": "stderr",
     "output_type": "stream",
     "text": [
      "C:\\Users\\Miguel Mendes\\AppData\\Local\\Temp\\ipykernel_8516\\2327759639.py:20: SettingWithCopyWarning: \n",
      "A value is trying to be set on a copy of a slice from a DataFrame\n",
      "\n",
      "See the caveats in the documentation: https://pandas.pydata.org/pandas-docs/stable/user_guide/indexing.html#returning-a-view-versus-a-copy\n",
      "  time_serie.drop(columns=['Seller ID', 'Day of Week', 'Last Week', 'Last Month'], inplace=True)\n",
      "C:\\Users\\Miguel Mendes\\AppData\\Local\\Temp\\ipykernel_8516\\2327759639.py:21: SettingWithCopyWarning: \n",
      "A value is trying to be set on a copy of a slice from a DataFrame.\n",
      "Try using .loc[row_indexer,col_indexer] = value instead\n",
      "\n",
      "See the caveats in the documentation: https://pandas.pydata.org/pandas-docs/stable/user_guide/indexing.html#returning-a-view-versus-a-copy\n",
      "  time_serie['Change'] = time_serie['Change'].astype('Int64')\n",
      "C:\\Users\\Miguel Mendes\\AppData\\Local\\Temp\\ipykernel_8516\\2327759639.py:20: SettingWithCopyWarning: \n",
      "A value is trying to be set on a copy of a slice from a DataFrame\n",
      "\n",
      "See the caveats in the documentation: https://pandas.pydata.org/pandas-docs/stable/user_guide/indexing.html#returning-a-view-versus-a-copy\n",
      "  time_serie.drop(columns=['Seller ID', 'Day of Week', 'Last Week', 'Last Month'], inplace=True)\n",
      "C:\\Users\\Miguel Mendes\\AppData\\Local\\Temp\\ipykernel_8516\\2327759639.py:21: SettingWithCopyWarning: \n",
      "A value is trying to be set on a copy of a slice from a DataFrame.\n",
      "Try using .loc[row_indexer,col_indexer] = value instead\n",
      "\n",
      "See the caveats in the documentation: https://pandas.pydata.org/pandas-docs/stable/user_guide/indexing.html#returning-a-view-versus-a-copy\n",
      "  time_serie['Change'] = time_serie['Change'].astype('Int64')\n"
     ]
    },
    {
     "name": "stdout",
     "output_type": "stream",
     "text": [
      "Erro Médio Absoluto (MAE) para Seller ID 100000764: 8.509412145940587e-05\n",
      "Processando Seller ID: 100001144\n",
      "Erro Médio Absoluto (MAE) para Seller ID 100001144: 1.039814605974243e-06\n",
      "Processando Seller ID: 100000575\n"
     ]
    },
    {
     "name": "stderr",
     "output_type": "stream",
     "text": [
      "C:\\Users\\Miguel Mendes\\AppData\\Local\\Temp\\ipykernel_8516\\2327759639.py:20: SettingWithCopyWarning: \n",
      "A value is trying to be set on a copy of a slice from a DataFrame\n",
      "\n",
      "See the caveats in the documentation: https://pandas.pydata.org/pandas-docs/stable/user_guide/indexing.html#returning-a-view-versus-a-copy\n",
      "  time_serie.drop(columns=['Seller ID', 'Day of Week', 'Last Week', 'Last Month'], inplace=True)\n",
      "C:\\Users\\Miguel Mendes\\AppData\\Local\\Temp\\ipykernel_8516\\2327759639.py:21: SettingWithCopyWarning: \n",
      "A value is trying to be set on a copy of a slice from a DataFrame.\n",
      "Try using .loc[row_indexer,col_indexer] = value instead\n",
      "\n",
      "See the caveats in the documentation: https://pandas.pydata.org/pandas-docs/stable/user_guide/indexing.html#returning-a-view-versus-a-copy\n",
      "  time_serie['Change'] = time_serie['Change'].astype('Int64')\n",
      "C:\\Users\\Miguel Mendes\\AppData\\Local\\Temp\\ipykernel_8516\\2327759639.py:20: SettingWithCopyWarning: \n",
      "A value is trying to be set on a copy of a slice from a DataFrame\n",
      "\n",
      "See the caveats in the documentation: https://pandas.pydata.org/pandas-docs/stable/user_guide/indexing.html#returning-a-view-versus-a-copy\n",
      "  time_serie.drop(columns=['Seller ID', 'Day of Week', 'Last Week', 'Last Month'], inplace=True)\n",
      "C:\\Users\\Miguel Mendes\\AppData\\Local\\Temp\\ipykernel_8516\\2327759639.py:21: SettingWithCopyWarning: \n",
      "A value is trying to be set on a copy of a slice from a DataFrame.\n",
      "Try using .loc[row_indexer,col_indexer] = value instead\n",
      "\n",
      "See the caveats in the documentation: https://pandas.pydata.org/pandas-docs/stable/user_guide/indexing.html#returning-a-view-versus-a-copy\n",
      "  time_serie['Change'] = time_serie['Change'].astype('Int64')\n"
     ]
    },
    {
     "name": "stdout",
     "output_type": "stream",
     "text": [
      "Erro Médio Absoluto (MAE) para Seller ID 100000575: 0.00024808739544823766\n",
      "Processando Seller ID: 100001159\n",
      "Erro Médio Absoluto (MAE) para Seller ID 100001159: 0.020620718598365784\n",
      "Processando Seller ID: 100000083\n"
     ]
    },
    {
     "name": "stderr",
     "output_type": "stream",
     "text": [
      "C:\\Users\\Miguel Mendes\\AppData\\Local\\Temp\\ipykernel_8516\\2327759639.py:20: SettingWithCopyWarning: \n",
      "A value is trying to be set on a copy of a slice from a DataFrame\n",
      "\n",
      "See the caveats in the documentation: https://pandas.pydata.org/pandas-docs/stable/user_guide/indexing.html#returning-a-view-versus-a-copy\n",
      "  time_serie.drop(columns=['Seller ID', 'Day of Week', 'Last Week', 'Last Month'], inplace=True)\n",
      "C:\\Users\\Miguel Mendes\\AppData\\Local\\Temp\\ipykernel_8516\\2327759639.py:21: SettingWithCopyWarning: \n",
      "A value is trying to be set on a copy of a slice from a DataFrame.\n",
      "Try using .loc[row_indexer,col_indexer] = value instead\n",
      "\n",
      "See the caveats in the documentation: https://pandas.pydata.org/pandas-docs/stable/user_guide/indexing.html#returning-a-view-versus-a-copy\n",
      "  time_serie['Change'] = time_serie['Change'].astype('Int64')\n",
      "C:\\Users\\Miguel Mendes\\AppData\\Local\\Temp\\ipykernel_8516\\2327759639.py:20: SettingWithCopyWarning: \n",
      "A value is trying to be set on a copy of a slice from a DataFrame\n",
      "\n",
      "See the caveats in the documentation: https://pandas.pydata.org/pandas-docs/stable/user_guide/indexing.html#returning-a-view-versus-a-copy\n",
      "  time_serie.drop(columns=['Seller ID', 'Day of Week', 'Last Week', 'Last Month'], inplace=True)\n",
      "C:\\Users\\Miguel Mendes\\AppData\\Local\\Temp\\ipykernel_8516\\2327759639.py:21: SettingWithCopyWarning: \n",
      "A value is trying to be set on a copy of a slice from a DataFrame.\n",
      "Try using .loc[row_indexer,col_indexer] = value instead\n",
      "\n",
      "See the caveats in the documentation: https://pandas.pydata.org/pandas-docs/stable/user_guide/indexing.html#returning-a-view-versus-a-copy\n",
      "  time_serie['Change'] = time_serie['Change'].astype('Int64')\n"
     ]
    },
    {
     "name": "stdout",
     "output_type": "stream",
     "text": [
      "Erro Médio Absoluto (MAE) para Seller ID 100000083: 1.8196737073594704e-05\n",
      "Processando Seller ID: 100000345\n",
      "Erro Médio Absoluto (MAE) para Seller ID 100000345: 0.0005147956544533372\n",
      "Processando Seller ID: 100000568\n"
     ]
    },
    {
     "name": "stderr",
     "output_type": "stream",
     "text": [
      "C:\\Users\\Miguel Mendes\\AppData\\Local\\Temp\\ipykernel_8516\\2327759639.py:20: SettingWithCopyWarning: \n",
      "A value is trying to be set on a copy of a slice from a DataFrame\n",
      "\n",
      "See the caveats in the documentation: https://pandas.pydata.org/pandas-docs/stable/user_guide/indexing.html#returning-a-view-versus-a-copy\n",
      "  time_serie.drop(columns=['Seller ID', 'Day of Week', 'Last Week', 'Last Month'], inplace=True)\n",
      "C:\\Users\\Miguel Mendes\\AppData\\Local\\Temp\\ipykernel_8516\\2327759639.py:21: SettingWithCopyWarning: \n",
      "A value is trying to be set on a copy of a slice from a DataFrame.\n",
      "Try using .loc[row_indexer,col_indexer] = value instead\n",
      "\n",
      "See the caveats in the documentation: https://pandas.pydata.org/pandas-docs/stable/user_guide/indexing.html#returning-a-view-versus-a-copy\n",
      "  time_serie['Change'] = time_serie['Change'].astype('Int64')\n",
      "C:\\Users\\Miguel Mendes\\AppData\\Local\\Temp\\ipykernel_8516\\2327759639.py:20: SettingWithCopyWarning: \n",
      "A value is trying to be set on a copy of a slice from a DataFrame\n",
      "\n",
      "See the caveats in the documentation: https://pandas.pydata.org/pandas-docs/stable/user_guide/indexing.html#returning-a-view-versus-a-copy\n",
      "  time_serie.drop(columns=['Seller ID', 'Day of Week', 'Last Week', 'Last Month'], inplace=True)\n",
      "C:\\Users\\Miguel Mendes\\AppData\\Local\\Temp\\ipykernel_8516\\2327759639.py:21: SettingWithCopyWarning: \n",
      "A value is trying to be set on a copy of a slice from a DataFrame.\n",
      "Try using .loc[row_indexer,col_indexer] = value instead\n",
      "\n",
      "See the caveats in the documentation: https://pandas.pydata.org/pandas-docs/stable/user_guide/indexing.html#returning-a-view-versus-a-copy\n",
      "  time_serie['Change'] = time_serie['Change'].astype('Int64')\n"
     ]
    },
    {
     "name": "stdout",
     "output_type": "stream",
     "text": [
      "Erro Médio Absoluto (MAE) para Seller ID 100000568: 1.0379932973592076e-05\n",
      "Processando Seller ID: 100000535\n",
      "Erro Médio Absoluto (MAE) para Seller ID 100000535: 5.295887604006566e-06\n",
      "Processando Seller ID: 100000376\n"
     ]
    },
    {
     "name": "stderr",
     "output_type": "stream",
     "text": [
      "C:\\Users\\Miguel Mendes\\AppData\\Local\\Temp\\ipykernel_8516\\2327759639.py:20: SettingWithCopyWarning: \n",
      "A value is trying to be set on a copy of a slice from a DataFrame\n",
      "\n",
      "See the caveats in the documentation: https://pandas.pydata.org/pandas-docs/stable/user_guide/indexing.html#returning-a-view-versus-a-copy\n",
      "  time_serie.drop(columns=['Seller ID', 'Day of Week', 'Last Week', 'Last Month'], inplace=True)\n",
      "C:\\Users\\Miguel Mendes\\AppData\\Local\\Temp\\ipykernel_8516\\2327759639.py:21: SettingWithCopyWarning: \n",
      "A value is trying to be set on a copy of a slice from a DataFrame.\n",
      "Try using .loc[row_indexer,col_indexer] = value instead\n",
      "\n",
      "See the caveats in the documentation: https://pandas.pydata.org/pandas-docs/stable/user_guide/indexing.html#returning-a-view-versus-a-copy\n",
      "  time_serie['Change'] = time_serie['Change'].astype('Int64')\n",
      "C:\\Users\\Miguel Mendes\\AppData\\Local\\Temp\\ipykernel_8516\\2327759639.py:20: SettingWithCopyWarning: \n",
      "A value is trying to be set on a copy of a slice from a DataFrame\n",
      "\n",
      "See the caveats in the documentation: https://pandas.pydata.org/pandas-docs/stable/user_guide/indexing.html#returning-a-view-versus-a-copy\n",
      "  time_serie.drop(columns=['Seller ID', 'Day of Week', 'Last Week', 'Last Month'], inplace=True)\n",
      "C:\\Users\\Miguel Mendes\\AppData\\Local\\Temp\\ipykernel_8516\\2327759639.py:21: SettingWithCopyWarning: \n",
      "A value is trying to be set on a copy of a slice from a DataFrame.\n",
      "Try using .loc[row_indexer,col_indexer] = value instead\n",
      "\n",
      "See the caveats in the documentation: https://pandas.pydata.org/pandas-docs/stable/user_guide/indexing.html#returning-a-view-versus-a-copy\n",
      "  time_serie['Change'] = time_serie['Change'].astype('Int64')\n"
     ]
    },
    {
     "name": "stdout",
     "output_type": "stream",
     "text": [
      "Erro Médio Absoluto (MAE) para Seller ID 100000376: 7.251770875882357e-05\n",
      "Processando Seller ID: 100000599\n",
      "Erro Médio Absoluto (MAE) para Seller ID 100000599: 1.2305056770856027e-05\n",
      "Processando Seller ID: 100000640\n"
     ]
    },
    {
     "name": "stderr",
     "output_type": "stream",
     "text": [
      "C:\\Users\\Miguel Mendes\\AppData\\Local\\Temp\\ipykernel_8516\\2327759639.py:20: SettingWithCopyWarning: \n",
      "A value is trying to be set on a copy of a slice from a DataFrame\n",
      "\n",
      "See the caveats in the documentation: https://pandas.pydata.org/pandas-docs/stable/user_guide/indexing.html#returning-a-view-versus-a-copy\n",
      "  time_serie.drop(columns=['Seller ID', 'Day of Week', 'Last Week', 'Last Month'], inplace=True)\n",
      "C:\\Users\\Miguel Mendes\\AppData\\Local\\Temp\\ipykernel_8516\\2327759639.py:21: SettingWithCopyWarning: \n",
      "A value is trying to be set on a copy of a slice from a DataFrame.\n",
      "Try using .loc[row_indexer,col_indexer] = value instead\n",
      "\n",
      "See the caveats in the documentation: https://pandas.pydata.org/pandas-docs/stable/user_guide/indexing.html#returning-a-view-versus-a-copy\n",
      "  time_serie['Change'] = time_serie['Change'].astype('Int64')\n",
      "C:\\Users\\Miguel Mendes\\AppData\\Local\\Temp\\ipykernel_8516\\2327759639.py:20: SettingWithCopyWarning: \n",
      "A value is trying to be set on a copy of a slice from a DataFrame\n",
      "\n",
      "See the caveats in the documentation: https://pandas.pydata.org/pandas-docs/stable/user_guide/indexing.html#returning-a-view-versus-a-copy\n",
      "  time_serie.drop(columns=['Seller ID', 'Day of Week', 'Last Week', 'Last Month'], inplace=True)\n",
      "C:\\Users\\Miguel Mendes\\AppData\\Local\\Temp\\ipykernel_8516\\2327759639.py:21: SettingWithCopyWarning: \n",
      "A value is trying to be set on a copy of a slice from a DataFrame.\n",
      "Try using .loc[row_indexer,col_indexer] = value instead\n",
      "\n",
      "See the caveats in the documentation: https://pandas.pydata.org/pandas-docs/stable/user_guide/indexing.html#returning-a-view-versus-a-copy\n",
      "  time_serie['Change'] = time_serie['Change'].astype('Int64')\n"
     ]
    },
    {
     "name": "stdout",
     "output_type": "stream",
     "text": [
      "Erro Médio Absoluto (MAE) para Seller ID 100000640: 7.48026795918122e-05\n",
      "Processando Seller ID: 100000635\n",
      "Erro Médio Absoluto (MAE) para Seller ID 100000635: 6.902278983034194e-05\n",
      "Processando Seller ID: 100001180\n"
     ]
    },
    {
     "name": "stderr",
     "output_type": "stream",
     "text": [
      "C:\\Users\\Miguel Mendes\\AppData\\Local\\Temp\\ipykernel_8516\\2327759639.py:20: SettingWithCopyWarning: \n",
      "A value is trying to be set on a copy of a slice from a DataFrame\n",
      "\n",
      "See the caveats in the documentation: https://pandas.pydata.org/pandas-docs/stable/user_guide/indexing.html#returning-a-view-versus-a-copy\n",
      "  time_serie.drop(columns=['Seller ID', 'Day of Week', 'Last Week', 'Last Month'], inplace=True)\n",
      "C:\\Users\\Miguel Mendes\\AppData\\Local\\Temp\\ipykernel_8516\\2327759639.py:21: SettingWithCopyWarning: \n",
      "A value is trying to be set on a copy of a slice from a DataFrame.\n",
      "Try using .loc[row_indexer,col_indexer] = value instead\n",
      "\n",
      "See the caveats in the documentation: https://pandas.pydata.org/pandas-docs/stable/user_guide/indexing.html#returning-a-view-versus-a-copy\n",
      "  time_serie['Change'] = time_serie['Change'].astype('Int64')\n",
      "C:\\Users\\Miguel Mendes\\AppData\\Local\\Temp\\ipykernel_8516\\2327759639.py:20: SettingWithCopyWarning: \n",
      "A value is trying to be set on a copy of a slice from a DataFrame\n",
      "\n",
      "See the caveats in the documentation: https://pandas.pydata.org/pandas-docs/stable/user_guide/indexing.html#returning-a-view-versus-a-copy\n",
      "  time_serie.drop(columns=['Seller ID', 'Day of Week', 'Last Week', 'Last Month'], inplace=True)\n",
      "C:\\Users\\Miguel Mendes\\AppData\\Local\\Temp\\ipykernel_8516\\2327759639.py:21: SettingWithCopyWarning: \n",
      "A value is trying to be set on a copy of a slice from a DataFrame.\n",
      "Try using .loc[row_indexer,col_indexer] = value instead\n",
      "\n",
      "See the caveats in the documentation: https://pandas.pydata.org/pandas-docs/stable/user_guide/indexing.html#returning-a-view-versus-a-copy\n",
      "  time_serie['Change'] = time_serie['Change'].astype('Int64')\n"
     ]
    },
    {
     "name": "stdout",
     "output_type": "stream",
     "text": [
      "Erro Médio Absoluto (MAE) para Seller ID 100001180: 0.0007628765888512135\n",
      "Processando Seller ID: 100000539\n",
      "Erro Médio Absoluto (MAE) para Seller ID 100000539: 2.783954914775677e-05\n",
      "Processando Seller ID: 100000254\n"
     ]
    },
    {
     "name": "stderr",
     "output_type": "stream",
     "text": [
      "C:\\Users\\Miguel Mendes\\AppData\\Local\\Temp\\ipykernel_8516\\2327759639.py:20: SettingWithCopyWarning: \n",
      "A value is trying to be set on a copy of a slice from a DataFrame\n",
      "\n",
      "See the caveats in the documentation: https://pandas.pydata.org/pandas-docs/stable/user_guide/indexing.html#returning-a-view-versus-a-copy\n",
      "  time_serie.drop(columns=['Seller ID', 'Day of Week', 'Last Week', 'Last Month'], inplace=True)\n",
      "C:\\Users\\Miguel Mendes\\AppData\\Local\\Temp\\ipykernel_8516\\2327759639.py:21: SettingWithCopyWarning: \n",
      "A value is trying to be set on a copy of a slice from a DataFrame.\n",
      "Try using .loc[row_indexer,col_indexer] = value instead\n",
      "\n",
      "See the caveats in the documentation: https://pandas.pydata.org/pandas-docs/stable/user_guide/indexing.html#returning-a-view-versus-a-copy\n",
      "  time_serie['Change'] = time_serie['Change'].astype('Int64')\n",
      "C:\\Users\\Miguel Mendes\\AppData\\Local\\Temp\\ipykernel_8516\\2327759639.py:20: SettingWithCopyWarning: \n",
      "A value is trying to be set on a copy of a slice from a DataFrame\n",
      "\n",
      "See the caveats in the documentation: https://pandas.pydata.org/pandas-docs/stable/user_guide/indexing.html#returning-a-view-versus-a-copy\n",
      "  time_serie.drop(columns=['Seller ID', 'Day of Week', 'Last Week', 'Last Month'], inplace=True)\n",
      "C:\\Users\\Miguel Mendes\\AppData\\Local\\Temp\\ipykernel_8516\\2327759639.py:21: SettingWithCopyWarning: \n",
      "A value is trying to be set on a copy of a slice from a DataFrame.\n",
      "Try using .loc[row_indexer,col_indexer] = value instead\n",
      "\n",
      "See the caveats in the documentation: https://pandas.pydata.org/pandas-docs/stable/user_guide/indexing.html#returning-a-view-versus-a-copy\n",
      "  time_serie['Change'] = time_serie['Change'].astype('Int64')\n"
     ]
    },
    {
     "name": "stdout",
     "output_type": "stream",
     "text": [
      "Erro Médio Absoluto (MAE) para Seller ID 100000254: 3.97476060243207e-06\n",
      "Processando Seller ID: 100000278\n",
      "Erro Médio Absoluto (MAE) para Seller ID 100000278: 1.2773430171364453e-05\n",
      "Processando Seller ID: 100000564\n"
     ]
    },
    {
     "name": "stderr",
     "output_type": "stream",
     "text": [
      "C:\\Users\\Miguel Mendes\\AppData\\Local\\Temp\\ipykernel_8516\\2327759639.py:20: SettingWithCopyWarning: \n",
      "A value is trying to be set on a copy of a slice from a DataFrame\n",
      "\n",
      "See the caveats in the documentation: https://pandas.pydata.org/pandas-docs/stable/user_guide/indexing.html#returning-a-view-versus-a-copy\n",
      "  time_serie.drop(columns=['Seller ID', 'Day of Week', 'Last Week', 'Last Month'], inplace=True)\n",
      "C:\\Users\\Miguel Mendes\\AppData\\Local\\Temp\\ipykernel_8516\\2327759639.py:21: SettingWithCopyWarning: \n",
      "A value is trying to be set on a copy of a slice from a DataFrame.\n",
      "Try using .loc[row_indexer,col_indexer] = value instead\n",
      "\n",
      "See the caveats in the documentation: https://pandas.pydata.org/pandas-docs/stable/user_guide/indexing.html#returning-a-view-versus-a-copy\n",
      "  time_serie['Change'] = time_serie['Change'].astype('Int64')\n",
      "C:\\Users\\Miguel Mendes\\AppData\\Local\\Temp\\ipykernel_8516\\2327759639.py:20: SettingWithCopyWarning: \n",
      "A value is trying to be set on a copy of a slice from a DataFrame\n",
      "\n",
      "See the caveats in the documentation: https://pandas.pydata.org/pandas-docs/stable/user_guide/indexing.html#returning-a-view-versus-a-copy\n",
      "  time_serie.drop(columns=['Seller ID', 'Day of Week', 'Last Week', 'Last Month'], inplace=True)\n",
      "C:\\Users\\Miguel Mendes\\AppData\\Local\\Temp\\ipykernel_8516\\2327759639.py:21: SettingWithCopyWarning: \n",
      "A value is trying to be set on a copy of a slice from a DataFrame.\n",
      "Try using .loc[row_indexer,col_indexer] = value instead\n",
      "\n",
      "See the caveats in the documentation: https://pandas.pydata.org/pandas-docs/stable/user_guide/indexing.html#returning-a-view-versus-a-copy\n",
      "  time_serie['Change'] = time_serie['Change'].astype('Int64')\n"
     ]
    },
    {
     "name": "stdout",
     "output_type": "stream",
     "text": [
      "Erro Médio Absoluto (MAE) para Seller ID 100000564: 1.760976147124893e-06\n",
      "Processando Seller ID: 100000557\n",
      "Erro Médio Absoluto (MAE) para Seller ID 100000557: 4.3458808249852154e-06\n",
      "Processando Seller ID: 100000080\n"
     ]
    },
    {
     "name": "stderr",
     "output_type": "stream",
     "text": [
      "C:\\Users\\Miguel Mendes\\AppData\\Local\\Temp\\ipykernel_8516\\2327759639.py:20: SettingWithCopyWarning: \n",
      "A value is trying to be set on a copy of a slice from a DataFrame\n",
      "\n",
      "See the caveats in the documentation: https://pandas.pydata.org/pandas-docs/stable/user_guide/indexing.html#returning-a-view-versus-a-copy\n",
      "  time_serie.drop(columns=['Seller ID', 'Day of Week', 'Last Week', 'Last Month'], inplace=True)\n",
      "C:\\Users\\Miguel Mendes\\AppData\\Local\\Temp\\ipykernel_8516\\2327759639.py:21: SettingWithCopyWarning: \n",
      "A value is trying to be set on a copy of a slice from a DataFrame.\n",
      "Try using .loc[row_indexer,col_indexer] = value instead\n",
      "\n",
      "See the caveats in the documentation: https://pandas.pydata.org/pandas-docs/stable/user_guide/indexing.html#returning-a-view-versus-a-copy\n",
      "  time_serie['Change'] = time_serie['Change'].astype('Int64')\n",
      "C:\\Users\\Miguel Mendes\\AppData\\Local\\Temp\\ipykernel_8516\\2327759639.py:20: SettingWithCopyWarning: \n",
      "A value is trying to be set on a copy of a slice from a DataFrame\n",
      "\n",
      "See the caveats in the documentation: https://pandas.pydata.org/pandas-docs/stable/user_guide/indexing.html#returning-a-view-versus-a-copy\n",
      "  time_serie.drop(columns=['Seller ID', 'Day of Week', 'Last Week', 'Last Month'], inplace=True)\n",
      "C:\\Users\\Miguel Mendes\\AppData\\Local\\Temp\\ipykernel_8516\\2327759639.py:21: SettingWithCopyWarning: \n",
      "A value is trying to be set on a copy of a slice from a DataFrame.\n",
      "Try using .loc[row_indexer,col_indexer] = value instead\n",
      "\n",
      "See the caveats in the documentation: https://pandas.pydata.org/pandas-docs/stable/user_guide/indexing.html#returning-a-view-versus-a-copy\n",
      "  time_serie['Change'] = time_serie['Change'].astype('Int64')\n"
     ]
    },
    {
     "name": "stdout",
     "output_type": "stream",
     "text": [
      "Erro Médio Absoluto (MAE) para Seller ID 100000080: 4.4732583774020895e-05\n",
      "Processando Seller ID: 100000271\n",
      "Erro Médio Absoluto (MAE) para Seller ID 100000271: 1.5807567251613364e-05\n",
      "Processando Seller ID: 100000381\n"
     ]
    },
    {
     "name": "stderr",
     "output_type": "stream",
     "text": [
      "C:\\Users\\Miguel Mendes\\AppData\\Local\\Temp\\ipykernel_8516\\2327759639.py:20: SettingWithCopyWarning: \n",
      "A value is trying to be set on a copy of a slice from a DataFrame\n",
      "\n",
      "See the caveats in the documentation: https://pandas.pydata.org/pandas-docs/stable/user_guide/indexing.html#returning-a-view-versus-a-copy\n",
      "  time_serie.drop(columns=['Seller ID', 'Day of Week', 'Last Week', 'Last Month'], inplace=True)\n",
      "C:\\Users\\Miguel Mendes\\AppData\\Local\\Temp\\ipykernel_8516\\2327759639.py:21: SettingWithCopyWarning: \n",
      "A value is trying to be set on a copy of a slice from a DataFrame.\n",
      "Try using .loc[row_indexer,col_indexer] = value instead\n",
      "\n",
      "See the caveats in the documentation: https://pandas.pydata.org/pandas-docs/stable/user_guide/indexing.html#returning-a-view-versus-a-copy\n",
      "  time_serie['Change'] = time_serie['Change'].astype('Int64')\n",
      "C:\\Users\\Miguel Mendes\\AppData\\Local\\Temp\\ipykernel_8516\\2327759639.py:20: SettingWithCopyWarning: \n",
      "A value is trying to be set on a copy of a slice from a DataFrame\n",
      "\n",
      "See the caveats in the documentation: https://pandas.pydata.org/pandas-docs/stable/user_guide/indexing.html#returning-a-view-versus-a-copy\n",
      "  time_serie.drop(columns=['Seller ID', 'Day of Week', 'Last Week', 'Last Month'], inplace=True)\n",
      "C:\\Users\\Miguel Mendes\\AppData\\Local\\Temp\\ipykernel_8516\\2327759639.py:21: SettingWithCopyWarning: \n",
      "A value is trying to be set on a copy of a slice from a DataFrame.\n",
      "Try using .loc[row_indexer,col_indexer] = value instead\n",
      "\n",
      "See the caveats in the documentation: https://pandas.pydata.org/pandas-docs/stable/user_guide/indexing.html#returning-a-view-versus-a-copy\n",
      "  time_serie['Change'] = time_serie['Change'].astype('Int64')\n"
     ]
    },
    {
     "name": "stdout",
     "output_type": "stream",
     "text": [
      "Erro Médio Absoluto (MAE) para Seller ID 100000381: 1.6569845683989115e-05\n",
      "Processando Seller ID: 100000872\n",
      "Erro Médio Absoluto (MAE) para Seller ID 100000872: 4.341655767348129e-06\n",
      "Processando Seller ID: 100000999\n"
     ]
    },
    {
     "name": "stderr",
     "output_type": "stream",
     "text": [
      "C:\\Users\\Miguel Mendes\\AppData\\Local\\Temp\\ipykernel_8516\\2327759639.py:20: SettingWithCopyWarning: \n",
      "A value is trying to be set on a copy of a slice from a DataFrame\n",
      "\n",
      "See the caveats in the documentation: https://pandas.pydata.org/pandas-docs/stable/user_guide/indexing.html#returning-a-view-versus-a-copy\n",
      "  time_serie.drop(columns=['Seller ID', 'Day of Week', 'Last Week', 'Last Month'], inplace=True)\n",
      "C:\\Users\\Miguel Mendes\\AppData\\Local\\Temp\\ipykernel_8516\\2327759639.py:21: SettingWithCopyWarning: \n",
      "A value is trying to be set on a copy of a slice from a DataFrame.\n",
      "Try using .loc[row_indexer,col_indexer] = value instead\n",
      "\n",
      "See the caveats in the documentation: https://pandas.pydata.org/pandas-docs/stable/user_guide/indexing.html#returning-a-view-versus-a-copy\n",
      "  time_serie['Change'] = time_serie['Change'].astype('Int64')\n",
      "C:\\Users\\Miguel Mendes\\AppData\\Local\\Temp\\ipykernel_8516\\2327759639.py:20: SettingWithCopyWarning: \n",
      "A value is trying to be set on a copy of a slice from a DataFrame\n",
      "\n",
      "See the caveats in the documentation: https://pandas.pydata.org/pandas-docs/stable/user_guide/indexing.html#returning-a-view-versus-a-copy\n",
      "  time_serie.drop(columns=['Seller ID', 'Day of Week', 'Last Week', 'Last Month'], inplace=True)\n",
      "C:\\Users\\Miguel Mendes\\AppData\\Local\\Temp\\ipykernel_8516\\2327759639.py:21: SettingWithCopyWarning: \n",
      "A value is trying to be set on a copy of a slice from a DataFrame.\n",
      "Try using .loc[row_indexer,col_indexer] = value instead\n",
      "\n",
      "See the caveats in the documentation: https://pandas.pydata.org/pandas-docs/stable/user_guide/indexing.html#returning-a-view-versus-a-copy\n",
      "  time_serie['Change'] = time_serie['Change'].astype('Int64')\n"
     ]
    },
    {
     "name": "stdout",
     "output_type": "stream",
     "text": [
      "Erro Médio Absoluto (MAE) para Seller ID 100000999: 3.788769754464738e-05\n",
      "Processando Seller ID: 100000566\n",
      "Erro Médio Absoluto (MAE) para Seller ID 100000566: 1.893794433271978e-05\n",
      "Processando Seller ID: 100000285\n"
     ]
    },
    {
     "name": "stderr",
     "output_type": "stream",
     "text": [
      "C:\\Users\\Miguel Mendes\\AppData\\Local\\Temp\\ipykernel_8516\\2327759639.py:20: SettingWithCopyWarning: \n",
      "A value is trying to be set on a copy of a slice from a DataFrame\n",
      "\n",
      "See the caveats in the documentation: https://pandas.pydata.org/pandas-docs/stable/user_guide/indexing.html#returning-a-view-versus-a-copy\n",
      "  time_serie.drop(columns=['Seller ID', 'Day of Week', 'Last Week', 'Last Month'], inplace=True)\n",
      "C:\\Users\\Miguel Mendes\\AppData\\Local\\Temp\\ipykernel_8516\\2327759639.py:21: SettingWithCopyWarning: \n",
      "A value is trying to be set on a copy of a slice from a DataFrame.\n",
      "Try using .loc[row_indexer,col_indexer] = value instead\n",
      "\n",
      "See the caveats in the documentation: https://pandas.pydata.org/pandas-docs/stable/user_guide/indexing.html#returning-a-view-versus-a-copy\n",
      "  time_serie['Change'] = time_serie['Change'].astype('Int64')\n",
      "C:\\Users\\Miguel Mendes\\AppData\\Local\\Temp\\ipykernel_8516\\2327759639.py:20: SettingWithCopyWarning: \n",
      "A value is trying to be set on a copy of a slice from a DataFrame\n",
      "\n",
      "See the caveats in the documentation: https://pandas.pydata.org/pandas-docs/stable/user_guide/indexing.html#returning-a-view-versus-a-copy\n",
      "  time_serie.drop(columns=['Seller ID', 'Day of Week', 'Last Week', 'Last Month'], inplace=True)\n",
      "C:\\Users\\Miguel Mendes\\AppData\\Local\\Temp\\ipykernel_8516\\2327759639.py:21: SettingWithCopyWarning: \n",
      "A value is trying to be set on a copy of a slice from a DataFrame.\n",
      "Try using .loc[row_indexer,col_indexer] = value instead\n",
      "\n",
      "See the caveats in the documentation: https://pandas.pydata.org/pandas-docs/stable/user_guide/indexing.html#returning-a-view-versus-a-copy\n",
      "  time_serie['Change'] = time_serie['Change'].astype('Int64')\n"
     ]
    },
    {
     "name": "stdout",
     "output_type": "stream",
     "text": [
      "Erro Médio Absoluto (MAE) para Seller ID 100000285: 7.8300763561856e-06\n",
      "Processando Seller ID: 100000561\n",
      "Erro Médio Absoluto (MAE) para Seller ID 100000561: 2.009426498261746e-05\n",
      "Processando Seller ID: 100000843\n"
     ]
    },
    {
     "name": "stderr",
     "output_type": "stream",
     "text": [
      "C:\\Users\\Miguel Mendes\\AppData\\Local\\Temp\\ipykernel_8516\\2327759639.py:20: SettingWithCopyWarning: \n",
      "A value is trying to be set on a copy of a slice from a DataFrame\n",
      "\n",
      "See the caveats in the documentation: https://pandas.pydata.org/pandas-docs/stable/user_guide/indexing.html#returning-a-view-versus-a-copy\n",
      "  time_serie.drop(columns=['Seller ID', 'Day of Week', 'Last Week', 'Last Month'], inplace=True)\n",
      "C:\\Users\\Miguel Mendes\\AppData\\Local\\Temp\\ipykernel_8516\\2327759639.py:21: SettingWithCopyWarning: \n",
      "A value is trying to be set on a copy of a slice from a DataFrame.\n",
      "Try using .loc[row_indexer,col_indexer] = value instead\n",
      "\n",
      "See the caveats in the documentation: https://pandas.pydata.org/pandas-docs/stable/user_guide/indexing.html#returning-a-view-versus-a-copy\n",
      "  time_serie['Change'] = time_serie['Change'].astype('Int64')\n",
      "C:\\Users\\Miguel Mendes\\AppData\\Local\\Temp\\ipykernel_8516\\2327759639.py:20: SettingWithCopyWarning: \n",
      "A value is trying to be set on a copy of a slice from a DataFrame\n",
      "\n",
      "See the caveats in the documentation: https://pandas.pydata.org/pandas-docs/stable/user_guide/indexing.html#returning-a-view-versus-a-copy\n",
      "  time_serie.drop(columns=['Seller ID', 'Day of Week', 'Last Week', 'Last Month'], inplace=True)\n",
      "C:\\Users\\Miguel Mendes\\AppData\\Local\\Temp\\ipykernel_8516\\2327759639.py:21: SettingWithCopyWarning: \n",
      "A value is trying to be set on a copy of a slice from a DataFrame.\n",
      "Try using .loc[row_indexer,col_indexer] = value instead\n",
      "\n",
      "See the caveats in the documentation: https://pandas.pydata.org/pandas-docs/stable/user_guide/indexing.html#returning-a-view-versus-a-copy\n",
      "  time_serie['Change'] = time_serie['Change'].astype('Int64')\n"
     ]
    },
    {
     "name": "stdout",
     "output_type": "stream",
     "text": [
      "Erro Médio Absoluto (MAE) para Seller ID 100000843: 1.5790874385857023e-05\n",
      "Processando Seller ID: 100000915\n",
      "Erro Médio Absoluto (MAE) para Seller ID 100000915: 1.8669779819902033e-05\n",
      "Processando Seller ID: 100000088\n"
     ]
    },
    {
     "name": "stderr",
     "output_type": "stream",
     "text": [
      "C:\\Users\\Miguel Mendes\\AppData\\Local\\Temp\\ipykernel_8516\\2327759639.py:20: SettingWithCopyWarning: \n",
      "A value is trying to be set on a copy of a slice from a DataFrame\n",
      "\n",
      "See the caveats in the documentation: https://pandas.pydata.org/pandas-docs/stable/user_guide/indexing.html#returning-a-view-versus-a-copy\n",
      "  time_serie.drop(columns=['Seller ID', 'Day of Week', 'Last Week', 'Last Month'], inplace=True)\n",
      "C:\\Users\\Miguel Mendes\\AppData\\Local\\Temp\\ipykernel_8516\\2327759639.py:21: SettingWithCopyWarning: \n",
      "A value is trying to be set on a copy of a slice from a DataFrame.\n",
      "Try using .loc[row_indexer,col_indexer] = value instead\n",
      "\n",
      "See the caveats in the documentation: https://pandas.pydata.org/pandas-docs/stable/user_guide/indexing.html#returning-a-view-versus-a-copy\n",
      "  time_serie['Change'] = time_serie['Change'].astype('Int64')\n",
      "C:\\Users\\Miguel Mendes\\AppData\\Local\\Temp\\ipykernel_8516\\2327759639.py:20: SettingWithCopyWarning: \n",
      "A value is trying to be set on a copy of a slice from a DataFrame\n",
      "\n",
      "See the caveats in the documentation: https://pandas.pydata.org/pandas-docs/stable/user_guide/indexing.html#returning-a-view-versus-a-copy\n",
      "  time_serie.drop(columns=['Seller ID', 'Day of Week', 'Last Week', 'Last Month'], inplace=True)\n",
      "C:\\Users\\Miguel Mendes\\AppData\\Local\\Temp\\ipykernel_8516\\2327759639.py:21: SettingWithCopyWarning: \n",
      "A value is trying to be set on a copy of a slice from a DataFrame.\n",
      "Try using .loc[row_indexer,col_indexer] = value instead\n",
      "\n",
      "See the caveats in the documentation: https://pandas.pydata.org/pandas-docs/stable/user_guide/indexing.html#returning-a-view-versus-a-copy\n",
      "  time_serie['Change'] = time_serie['Change'].astype('Int64')\n"
     ]
    },
    {
     "name": "stdout",
     "output_type": "stream",
     "text": [
      "Erro Médio Absoluto (MAE) para Seller ID 100000088: 9.079846677195746e-06\n",
      "Processando Seller ID: 100000121\n",
      "Erro Médio Absoluto (MAE) para Seller ID 100000121: 5.938138201599941e-06\n",
      "Processando Seller ID: 100001016\n"
     ]
    },
    {
     "name": "stderr",
     "output_type": "stream",
     "text": [
      "C:\\Users\\Miguel Mendes\\AppData\\Local\\Temp\\ipykernel_8516\\2327759639.py:20: SettingWithCopyWarning: \n",
      "A value is trying to be set on a copy of a slice from a DataFrame\n",
      "\n",
      "See the caveats in the documentation: https://pandas.pydata.org/pandas-docs/stable/user_guide/indexing.html#returning-a-view-versus-a-copy\n",
      "  time_serie.drop(columns=['Seller ID', 'Day of Week', 'Last Week', 'Last Month'], inplace=True)\n",
      "C:\\Users\\Miguel Mendes\\AppData\\Local\\Temp\\ipykernel_8516\\2327759639.py:21: SettingWithCopyWarning: \n",
      "A value is trying to be set on a copy of a slice from a DataFrame.\n",
      "Try using .loc[row_indexer,col_indexer] = value instead\n",
      "\n",
      "See the caveats in the documentation: https://pandas.pydata.org/pandas-docs/stable/user_guide/indexing.html#returning-a-view-versus-a-copy\n",
      "  time_serie['Change'] = time_serie['Change'].astype('Int64')\n",
      "C:\\Users\\Miguel Mendes\\AppData\\Local\\Temp\\ipykernel_8516\\2327759639.py:20: SettingWithCopyWarning: \n",
      "A value is trying to be set on a copy of a slice from a DataFrame\n",
      "\n",
      "See the caveats in the documentation: https://pandas.pydata.org/pandas-docs/stable/user_guide/indexing.html#returning-a-view-versus-a-copy\n",
      "  time_serie.drop(columns=['Seller ID', 'Day of Week', 'Last Week', 'Last Month'], inplace=True)\n",
      "C:\\Users\\Miguel Mendes\\AppData\\Local\\Temp\\ipykernel_8516\\2327759639.py:21: SettingWithCopyWarning: \n",
      "A value is trying to be set on a copy of a slice from a DataFrame.\n",
      "Try using .loc[row_indexer,col_indexer] = value instead\n",
      "\n",
      "See the caveats in the documentation: https://pandas.pydata.org/pandas-docs/stable/user_guide/indexing.html#returning-a-view-versus-a-copy\n",
      "  time_serie['Change'] = time_serie['Change'].astype('Int64')\n"
     ]
    },
    {
     "name": "stdout",
     "output_type": "stream",
     "text": [
      "Erro Médio Absoluto (MAE) para Seller ID 100001016: 7.739560714981053e-06\n",
      "Processando Seller ID: 100000581\n",
      "Erro Médio Absoluto (MAE) para Seller ID 100000581: 1.6387533833039925e-05\n",
      "Processando Seller ID: 100000555\n"
     ]
    },
    {
     "name": "stderr",
     "output_type": "stream",
     "text": [
      "C:\\Users\\Miguel Mendes\\AppData\\Local\\Temp\\ipykernel_8516\\2327759639.py:20: SettingWithCopyWarning: \n",
      "A value is trying to be set on a copy of a slice from a DataFrame\n",
      "\n",
      "See the caveats in the documentation: https://pandas.pydata.org/pandas-docs/stable/user_guide/indexing.html#returning-a-view-versus-a-copy\n",
      "  time_serie.drop(columns=['Seller ID', 'Day of Week', 'Last Week', 'Last Month'], inplace=True)\n",
      "C:\\Users\\Miguel Mendes\\AppData\\Local\\Temp\\ipykernel_8516\\2327759639.py:21: SettingWithCopyWarning: \n",
      "A value is trying to be set on a copy of a slice from a DataFrame.\n",
      "Try using .loc[row_indexer,col_indexer] = value instead\n",
      "\n",
      "See the caveats in the documentation: https://pandas.pydata.org/pandas-docs/stable/user_guide/indexing.html#returning-a-view-versus-a-copy\n",
      "  time_serie['Change'] = time_serie['Change'].astype('Int64')\n",
      "C:\\Users\\Miguel Mendes\\AppData\\Local\\Temp\\ipykernel_8516\\2327759639.py:20: SettingWithCopyWarning: \n",
      "A value is trying to be set on a copy of a slice from a DataFrame\n",
      "\n",
      "See the caveats in the documentation: https://pandas.pydata.org/pandas-docs/stable/user_guide/indexing.html#returning-a-view-versus-a-copy\n",
      "  time_serie.drop(columns=['Seller ID', 'Day of Week', 'Last Week', 'Last Month'], inplace=True)\n",
      "C:\\Users\\Miguel Mendes\\AppData\\Local\\Temp\\ipykernel_8516\\2327759639.py:21: SettingWithCopyWarning: \n",
      "A value is trying to be set on a copy of a slice from a DataFrame.\n",
      "Try using .loc[row_indexer,col_indexer] = value instead\n",
      "\n",
      "See the caveats in the documentation: https://pandas.pydata.org/pandas-docs/stable/user_guide/indexing.html#returning-a-view-versus-a-copy\n",
      "  time_serie['Change'] = time_serie['Change'].astype('Int64')\n"
     ]
    },
    {
     "name": "stdout",
     "output_type": "stream",
     "text": [
      "Erro Médio Absoluto (MAE) para Seller ID 100000555: 1.5673354937462136e-05\n",
      "Processando Seller ID: 100000977\n",
      "Erro Médio Absoluto (MAE) para Seller ID 100000977: 2.286281051055994e-05\n",
      "Processando Seller ID: 100000583\n"
     ]
    },
    {
     "name": "stderr",
     "output_type": "stream",
     "text": [
      "C:\\Users\\Miguel Mendes\\AppData\\Local\\Temp\\ipykernel_8516\\2327759639.py:20: SettingWithCopyWarning: \n",
      "A value is trying to be set on a copy of a slice from a DataFrame\n",
      "\n",
      "See the caveats in the documentation: https://pandas.pydata.org/pandas-docs/stable/user_guide/indexing.html#returning-a-view-versus-a-copy\n",
      "  time_serie.drop(columns=['Seller ID', 'Day of Week', 'Last Week', 'Last Month'], inplace=True)\n",
      "C:\\Users\\Miguel Mendes\\AppData\\Local\\Temp\\ipykernel_8516\\2327759639.py:21: SettingWithCopyWarning: \n",
      "A value is trying to be set on a copy of a slice from a DataFrame.\n",
      "Try using .loc[row_indexer,col_indexer] = value instead\n",
      "\n",
      "See the caveats in the documentation: https://pandas.pydata.org/pandas-docs/stable/user_guide/indexing.html#returning-a-view-versus-a-copy\n",
      "  time_serie['Change'] = time_serie['Change'].astype('Int64')\n",
      "C:\\Users\\Miguel Mendes\\AppData\\Local\\Temp\\ipykernel_8516\\2327759639.py:20: SettingWithCopyWarning: \n",
      "A value is trying to be set on a copy of a slice from a DataFrame\n",
      "\n",
      "See the caveats in the documentation: https://pandas.pydata.org/pandas-docs/stable/user_guide/indexing.html#returning-a-view-versus-a-copy\n",
      "  time_serie.drop(columns=['Seller ID', 'Day of Week', 'Last Week', 'Last Month'], inplace=True)\n",
      "C:\\Users\\Miguel Mendes\\AppData\\Local\\Temp\\ipykernel_8516\\2327759639.py:21: SettingWithCopyWarning: \n",
      "A value is trying to be set on a copy of a slice from a DataFrame.\n",
      "Try using .loc[row_indexer,col_indexer] = value instead\n",
      "\n",
      "See the caveats in the documentation: https://pandas.pydata.org/pandas-docs/stable/user_guide/indexing.html#returning-a-view-versus-a-copy\n",
      "  time_serie['Change'] = time_serie['Change'].astype('Int64')\n"
     ]
    },
    {
     "name": "stdout",
     "output_type": "stream",
     "text": [
      "Erro Médio Absoluto (MAE) para Seller ID 100000583: 1.0060030035674572e-05\n",
      "Processando Seller ID: 100000834\n",
      "Erro Médio Absoluto (MAE) para Seller ID 100000834: 1.0670674782886636e-05\n",
      "Processando Seller ID: 100000955\n"
     ]
    },
    {
     "name": "stderr",
     "output_type": "stream",
     "text": [
      "C:\\Users\\Miguel Mendes\\AppData\\Local\\Temp\\ipykernel_8516\\2327759639.py:20: SettingWithCopyWarning: \n",
      "A value is trying to be set on a copy of a slice from a DataFrame\n",
      "\n",
      "See the caveats in the documentation: https://pandas.pydata.org/pandas-docs/stable/user_guide/indexing.html#returning-a-view-versus-a-copy\n",
      "  time_serie.drop(columns=['Seller ID', 'Day of Week', 'Last Week', 'Last Month'], inplace=True)\n",
      "C:\\Users\\Miguel Mendes\\AppData\\Local\\Temp\\ipykernel_8516\\2327759639.py:21: SettingWithCopyWarning: \n",
      "A value is trying to be set on a copy of a slice from a DataFrame.\n",
      "Try using .loc[row_indexer,col_indexer] = value instead\n",
      "\n",
      "See the caveats in the documentation: https://pandas.pydata.org/pandas-docs/stable/user_guide/indexing.html#returning-a-view-versus-a-copy\n",
      "  time_serie['Change'] = time_serie['Change'].astype('Int64')\n",
      "C:\\Users\\Miguel Mendes\\AppData\\Local\\Temp\\ipykernel_8516\\2327759639.py:20: SettingWithCopyWarning: \n",
      "A value is trying to be set on a copy of a slice from a DataFrame\n",
      "\n",
      "See the caveats in the documentation: https://pandas.pydata.org/pandas-docs/stable/user_guide/indexing.html#returning-a-view-versus-a-copy\n",
      "  time_serie.drop(columns=['Seller ID', 'Day of Week', 'Last Week', 'Last Month'], inplace=True)\n",
      "C:\\Users\\Miguel Mendes\\AppData\\Local\\Temp\\ipykernel_8516\\2327759639.py:21: SettingWithCopyWarning: \n",
      "A value is trying to be set on a copy of a slice from a DataFrame.\n",
      "Try using .loc[row_indexer,col_indexer] = value instead\n",
      "\n",
      "See the caveats in the documentation: https://pandas.pydata.org/pandas-docs/stable/user_guide/indexing.html#returning-a-view-versus-a-copy\n",
      "  time_serie['Change'] = time_serie['Change'].astype('Int64')\n"
     ]
    },
    {
     "name": "stdout",
     "output_type": "stream",
     "text": [
      "Erro Médio Absoluto (MAE) para Seller ID 100000955: 1.934086685650982e-05\n",
      "Processando Seller ID: 100000893\n",
      "Erro Médio Absoluto (MAE) para Seller ID 100000893: 1.3880800906918012e-05\n",
      "Processando Seller ID: 100000530\n"
     ]
    },
    {
     "name": "stderr",
     "output_type": "stream",
     "text": [
      "C:\\Users\\Miguel Mendes\\AppData\\Local\\Temp\\ipykernel_8516\\2327759639.py:20: SettingWithCopyWarning: \n",
      "A value is trying to be set on a copy of a slice from a DataFrame\n",
      "\n",
      "See the caveats in the documentation: https://pandas.pydata.org/pandas-docs/stable/user_guide/indexing.html#returning-a-view-versus-a-copy\n",
      "  time_serie.drop(columns=['Seller ID', 'Day of Week', 'Last Week', 'Last Month'], inplace=True)\n",
      "C:\\Users\\Miguel Mendes\\AppData\\Local\\Temp\\ipykernel_8516\\2327759639.py:21: SettingWithCopyWarning: \n",
      "A value is trying to be set on a copy of a slice from a DataFrame.\n",
      "Try using .loc[row_indexer,col_indexer] = value instead\n",
      "\n",
      "See the caveats in the documentation: https://pandas.pydata.org/pandas-docs/stable/user_guide/indexing.html#returning-a-view-versus-a-copy\n",
      "  time_serie['Change'] = time_serie['Change'].astype('Int64')\n",
      "C:\\Users\\Miguel Mendes\\AppData\\Local\\Temp\\ipykernel_8516\\2327759639.py:20: SettingWithCopyWarning: \n",
      "A value is trying to be set on a copy of a slice from a DataFrame\n",
      "\n",
      "See the caveats in the documentation: https://pandas.pydata.org/pandas-docs/stable/user_guide/indexing.html#returning-a-view-versus-a-copy\n",
      "  time_serie.drop(columns=['Seller ID', 'Day of Week', 'Last Week', 'Last Month'], inplace=True)\n",
      "C:\\Users\\Miguel Mendes\\AppData\\Local\\Temp\\ipykernel_8516\\2327759639.py:21: SettingWithCopyWarning: \n",
      "A value is trying to be set on a copy of a slice from a DataFrame.\n",
      "Try using .loc[row_indexer,col_indexer] = value instead\n",
      "\n",
      "See the caveats in the documentation: https://pandas.pydata.org/pandas-docs/stable/user_guide/indexing.html#returning-a-view-versus-a-copy\n",
      "  time_serie['Change'] = time_serie['Change'].astype('Int64')\n"
     ]
    },
    {
     "name": "stdout",
     "output_type": "stream",
     "text": [
      "Erro Médio Absoluto (MAE) para Seller ID 100000530: 1.474707096349448e-05\n",
      "Processando Seller ID: 100000556\n",
      "Erro Médio Absoluto (MAE) para Seller ID 100000556: 1.3898836186854169e-05\n",
      "Processando Seller ID: 100000534\n"
     ]
    },
    {
     "name": "stderr",
     "output_type": "stream",
     "text": [
      "C:\\Users\\Miguel Mendes\\AppData\\Local\\Temp\\ipykernel_8516\\2327759639.py:20: SettingWithCopyWarning: \n",
      "A value is trying to be set on a copy of a slice from a DataFrame\n",
      "\n",
      "See the caveats in the documentation: https://pandas.pydata.org/pandas-docs/stable/user_guide/indexing.html#returning-a-view-versus-a-copy\n",
      "  time_serie.drop(columns=['Seller ID', 'Day of Week', 'Last Week', 'Last Month'], inplace=True)\n",
      "C:\\Users\\Miguel Mendes\\AppData\\Local\\Temp\\ipykernel_8516\\2327759639.py:21: SettingWithCopyWarning: \n",
      "A value is trying to be set on a copy of a slice from a DataFrame.\n",
      "Try using .loc[row_indexer,col_indexer] = value instead\n",
      "\n",
      "See the caveats in the documentation: https://pandas.pydata.org/pandas-docs/stable/user_guide/indexing.html#returning-a-view-versus-a-copy\n",
      "  time_serie['Change'] = time_serie['Change'].astype('Int64')\n",
      "C:\\Users\\Miguel Mendes\\AppData\\Local\\Temp\\ipykernel_8516\\2327759639.py:20: SettingWithCopyWarning: \n",
      "A value is trying to be set on a copy of a slice from a DataFrame\n",
      "\n",
      "See the caveats in the documentation: https://pandas.pydata.org/pandas-docs/stable/user_guide/indexing.html#returning-a-view-versus-a-copy\n",
      "  time_serie.drop(columns=['Seller ID', 'Day of Week', 'Last Week', 'Last Month'], inplace=True)\n",
      "C:\\Users\\Miguel Mendes\\AppData\\Local\\Temp\\ipykernel_8516\\2327759639.py:21: SettingWithCopyWarning: \n",
      "A value is trying to be set on a copy of a slice from a DataFrame.\n",
      "Try using .loc[row_indexer,col_indexer] = value instead\n",
      "\n",
      "See the caveats in the documentation: https://pandas.pydata.org/pandas-docs/stable/user_guide/indexing.html#returning-a-view-versus-a-copy\n",
      "  time_serie['Change'] = time_serie['Change'].astype('Int64')\n"
     ]
    },
    {
     "name": "stdout",
     "output_type": "stream",
     "text": [
      "Erro Médio Absoluto (MAE) para Seller ID 100000534: 1.2123992746637668e-05\n",
      "Processando Seller ID: 100000911\n",
      "Erro Médio Absoluto (MAE) para Seller ID 100000911: 1.6815136405057274e-05\n",
      "Processando Seller ID: 100000993\n"
     ]
    },
    {
     "name": "stderr",
     "output_type": "stream",
     "text": [
      "C:\\Users\\Miguel Mendes\\AppData\\Local\\Temp\\ipykernel_8516\\2327759639.py:20: SettingWithCopyWarning: \n",
      "A value is trying to be set on a copy of a slice from a DataFrame\n",
      "\n",
      "See the caveats in the documentation: https://pandas.pydata.org/pandas-docs/stable/user_guide/indexing.html#returning-a-view-versus-a-copy\n",
      "  time_serie.drop(columns=['Seller ID', 'Day of Week', 'Last Week', 'Last Month'], inplace=True)\n",
      "C:\\Users\\Miguel Mendes\\AppData\\Local\\Temp\\ipykernel_8516\\2327759639.py:21: SettingWithCopyWarning: \n",
      "A value is trying to be set on a copy of a slice from a DataFrame.\n",
      "Try using .loc[row_indexer,col_indexer] = value instead\n",
      "\n",
      "See the caveats in the documentation: https://pandas.pydata.org/pandas-docs/stable/user_guide/indexing.html#returning-a-view-versus-a-copy\n",
      "  time_serie['Change'] = time_serie['Change'].astype('Int64')\n",
      "C:\\Users\\Miguel Mendes\\AppData\\Local\\Temp\\ipykernel_8516\\2327759639.py:20: SettingWithCopyWarning: \n",
      "A value is trying to be set on a copy of a slice from a DataFrame\n",
      "\n",
      "See the caveats in the documentation: https://pandas.pydata.org/pandas-docs/stable/user_guide/indexing.html#returning-a-view-versus-a-copy\n",
      "  time_serie.drop(columns=['Seller ID', 'Day of Week', 'Last Week', 'Last Month'], inplace=True)\n",
      "C:\\Users\\Miguel Mendes\\AppData\\Local\\Temp\\ipykernel_8516\\2327759639.py:21: SettingWithCopyWarning: \n",
      "A value is trying to be set on a copy of a slice from a DataFrame.\n",
      "Try using .loc[row_indexer,col_indexer] = value instead\n",
      "\n",
      "See the caveats in the documentation: https://pandas.pydata.org/pandas-docs/stable/user_guide/indexing.html#returning-a-view-versus-a-copy\n",
      "  time_serie['Change'] = time_serie['Change'].astype('Int64')\n"
     ]
    },
    {
     "name": "stdout",
     "output_type": "stream",
     "text": [
      "Erro Médio Absoluto (MAE) para Seller ID 100000993: 7.773841389280278e-06\n",
      "Processando Seller ID: 100001006\n",
      "Erro Médio Absoluto (MAE) para Seller ID 100001006: 1.3780947483610362e-05\n",
      "Processando Seller ID: 100000538\n"
     ]
    },
    {
     "name": "stderr",
     "output_type": "stream",
     "text": [
      "C:\\Users\\Miguel Mendes\\AppData\\Local\\Temp\\ipykernel_8516\\2327759639.py:20: SettingWithCopyWarning: \n",
      "A value is trying to be set on a copy of a slice from a DataFrame\n",
      "\n",
      "See the caveats in the documentation: https://pandas.pydata.org/pandas-docs/stable/user_guide/indexing.html#returning-a-view-versus-a-copy\n",
      "  time_serie.drop(columns=['Seller ID', 'Day of Week', 'Last Week', 'Last Month'], inplace=True)\n",
      "C:\\Users\\Miguel Mendes\\AppData\\Local\\Temp\\ipykernel_8516\\2327759639.py:21: SettingWithCopyWarning: \n",
      "A value is trying to be set on a copy of a slice from a DataFrame.\n",
      "Try using .loc[row_indexer,col_indexer] = value instead\n",
      "\n",
      "See the caveats in the documentation: https://pandas.pydata.org/pandas-docs/stable/user_guide/indexing.html#returning-a-view-versus-a-copy\n",
      "  time_serie['Change'] = time_serie['Change'].astype('Int64')\n",
      "C:\\Users\\Miguel Mendes\\AppData\\Local\\Temp\\ipykernel_8516\\2327759639.py:20: SettingWithCopyWarning: \n",
      "A value is trying to be set on a copy of a slice from a DataFrame\n",
      "\n",
      "See the caveats in the documentation: https://pandas.pydata.org/pandas-docs/stable/user_guide/indexing.html#returning-a-view-versus-a-copy\n",
      "  time_serie.drop(columns=['Seller ID', 'Day of Week', 'Last Week', 'Last Month'], inplace=True)\n",
      "C:\\Users\\Miguel Mendes\\AppData\\Local\\Temp\\ipykernel_8516\\2327759639.py:21: SettingWithCopyWarning: \n",
      "A value is trying to be set on a copy of a slice from a DataFrame.\n",
      "Try using .loc[row_indexer,col_indexer] = value instead\n",
      "\n",
      "See the caveats in the documentation: https://pandas.pydata.org/pandas-docs/stable/user_guide/indexing.html#returning-a-view-versus-a-copy\n",
      "  time_serie['Change'] = time_serie['Change'].astype('Int64')\n"
     ]
    },
    {
     "name": "stdout",
     "output_type": "stream",
     "text": [
      "Erro Médio Absoluto (MAE) para Seller ID 100000538: 9.051207598531619e-06\n",
      "Processando Seller ID: 100000559\n",
      "Erro Médio Absoluto (MAE) para Seller ID 100000559: 1.5347717635449953e-05\n",
      "Processando Seller ID: 100000832\n"
     ]
    },
    {
     "name": "stderr",
     "output_type": "stream",
     "text": [
      "C:\\Users\\Miguel Mendes\\AppData\\Local\\Temp\\ipykernel_8516\\2327759639.py:20: SettingWithCopyWarning: \n",
      "A value is trying to be set on a copy of a slice from a DataFrame\n",
      "\n",
      "See the caveats in the documentation: https://pandas.pydata.org/pandas-docs/stable/user_guide/indexing.html#returning-a-view-versus-a-copy\n",
      "  time_serie.drop(columns=['Seller ID', 'Day of Week', 'Last Week', 'Last Month'], inplace=True)\n",
      "C:\\Users\\Miguel Mendes\\AppData\\Local\\Temp\\ipykernel_8516\\2327759639.py:21: SettingWithCopyWarning: \n",
      "A value is trying to be set on a copy of a slice from a DataFrame.\n",
      "Try using .loc[row_indexer,col_indexer] = value instead\n",
      "\n",
      "See the caveats in the documentation: https://pandas.pydata.org/pandas-docs/stable/user_guide/indexing.html#returning-a-view-versus-a-copy\n",
      "  time_serie['Change'] = time_serie['Change'].astype('Int64')\n",
      "C:\\Users\\Miguel Mendes\\AppData\\Local\\Temp\\ipykernel_8516\\2327759639.py:20: SettingWithCopyWarning: \n",
      "A value is trying to be set on a copy of a slice from a DataFrame\n",
      "\n",
      "See the caveats in the documentation: https://pandas.pydata.org/pandas-docs/stable/user_guide/indexing.html#returning-a-view-versus-a-copy\n",
      "  time_serie.drop(columns=['Seller ID', 'Day of Week', 'Last Week', 'Last Month'], inplace=True)\n",
      "C:\\Users\\Miguel Mendes\\AppData\\Local\\Temp\\ipykernel_8516\\2327759639.py:21: SettingWithCopyWarning: \n",
      "A value is trying to be set on a copy of a slice from a DataFrame.\n",
      "Try using .loc[row_indexer,col_indexer] = value instead\n",
      "\n",
      "See the caveats in the documentation: https://pandas.pydata.org/pandas-docs/stable/user_guide/indexing.html#returning-a-view-versus-a-copy\n",
      "  time_serie['Change'] = time_serie['Change'].astype('Int64')\n"
     ]
    },
    {
     "name": "stdout",
     "output_type": "stream",
     "text": [
      "Erro Médio Absoluto (MAE) para Seller ID 100000832: 1.5505500414292328e-05\n"
     ]
    },
    {
     "data": {
      "text/html": [
       "<div>\n",
       "<style scoped>\n",
       "    .dataframe tbody tr th:only-of-type {\n",
       "        vertical-align: middle;\n",
       "    }\n",
       "\n",
       "    .dataframe tbody tr th {\n",
       "        vertical-align: top;\n",
       "    }\n",
       "\n",
       "    .dataframe thead th {\n",
       "        text-align: right;\n",
       "    }\n",
       "</style>\n",
       "<table border=\"1\" class=\"dataframe\">\n",
       "  <thead>\n",
       "    <tr style=\"text-align: right;\">\n",
       "      <th></th>\n",
       "      <th>Seller ID</th>\n",
       "      <th>Score</th>\n",
       "      <th>MAE</th>\n",
       "    </tr>\n",
       "  </thead>\n",
       "  <tbody>\n",
       "    <tr>\n",
       "      <th>0</th>\n",
       "      <td>100000060</td>\n",
       "      <td>Transactioned    0.048263\n",
       "Name: 2024-11-04 00:...</td>\n",
       "      <td>0.048263</td>\n",
       "    </tr>\n",
       "    <tr>\n",
       "      <th>1</th>\n",
       "      <td>100002332</td>\n",
       "      <td>Transactioned    0.0\n",
       "Name: 2024-11-04 00:00:00...</td>\n",
       "      <td>0.100000</td>\n",
       "    </tr>\n",
       "    <tr>\n",
       "      <th>2</th>\n",
       "      <td>100002035</td>\n",
       "      <td>Transactioned    0.022019\n",
       "Name: 2024-11-04 00:...</td>\n",
       "      <td>0.117615</td>\n",
       "    </tr>\n",
       "    <tr>\n",
       "      <th>3</th>\n",
       "      <td>100001525</td>\n",
       "      <td>Transactioned   -0.004312\n",
       "Name: 2024-11-04 00:...</td>\n",
       "      <td>0.054312</td>\n",
       "    </tr>\n",
       "    <tr>\n",
       "      <th>4</th>\n",
       "      <td>100000192</td>\n",
       "      <td>Transactioned   -0.032322\n",
       "Name: 2024-11-04 00:...</td>\n",
       "      <td>0.032322</td>\n",
       "    </tr>\n",
       "    <tr>\n",
       "      <th>...</th>\n",
       "      <td>...</td>\n",
       "      <td>...</td>\n",
       "      <td>...</td>\n",
       "    </tr>\n",
       "    <tr>\n",
       "      <th>658</th>\n",
       "      <td>100000993</td>\n",
       "      <td>Transactioned    0.000008\n",
       "Name: 2024-11-04 00:...</td>\n",
       "      <td>0.000008</td>\n",
       "    </tr>\n",
       "    <tr>\n",
       "      <th>659</th>\n",
       "      <td>100001006</td>\n",
       "      <td>Transactioned    0.000014\n",
       "Name: 2024-11-04 00:...</td>\n",
       "      <td>0.000014</td>\n",
       "    </tr>\n",
       "    <tr>\n",
       "      <th>660</th>\n",
       "      <td>100000538</td>\n",
       "      <td>Transactioned    0.000009\n",
       "Name: 2024-11-04 00:...</td>\n",
       "      <td>0.000009</td>\n",
       "    </tr>\n",
       "    <tr>\n",
       "      <th>661</th>\n",
       "      <td>100000559</td>\n",
       "      <td>Transactioned    0.000015\n",
       "Name: 2024-11-04 00:...</td>\n",
       "      <td>0.000015</td>\n",
       "    </tr>\n",
       "    <tr>\n",
       "      <th>662</th>\n",
       "      <td>100000832</td>\n",
       "      <td>Transactioned    0.000016\n",
       "Name: 2024-11-04 00:...</td>\n",
       "      <td>0.000016</td>\n",
       "    </tr>\n",
       "  </tbody>\n",
       "</table>\n",
       "<p>663 rows × 3 columns</p>\n",
       "</div>"
      ],
      "text/plain": [
       "     Seller ID                                              Score       MAE\n",
       "0    100000060  Transactioned    0.048263\n",
       "Name: 2024-11-04 00:...  0.048263\n",
       "1    100002332  Transactioned    0.0\n",
       "Name: 2024-11-04 00:00:00...  0.100000\n",
       "2    100002035  Transactioned    0.022019\n",
       "Name: 2024-11-04 00:...  0.117615\n",
       "3    100001525  Transactioned   -0.004312\n",
       "Name: 2024-11-04 00:...  0.054312\n",
       "4    100000192  Transactioned   -0.032322\n",
       "Name: 2024-11-04 00:...  0.032322\n",
       "..         ...                                                ...       ...\n",
       "658  100000993  Transactioned    0.000008\n",
       "Name: 2024-11-04 00:...  0.000008\n",
       "659  100001006  Transactioned    0.000014\n",
       "Name: 2024-11-04 00:...  0.000014\n",
       "660  100000538  Transactioned    0.000009\n",
       "Name: 2024-11-04 00:...  0.000009\n",
       "661  100000559  Transactioned    0.000015\n",
       "Name: 2024-11-04 00:...  0.000015\n",
       "662  100000832  Transactioned    0.000016\n",
       "Name: 2024-11-04 00:...  0.000016\n",
       "\n",
       "[663 rows x 3 columns]"
      ]
     },
     "execution_count": 154,
     "metadata": {},
     "output_type": "execute_result"
    }
   ],
   "source": [
    "from sktime.forecasting.model_selection import temporal_train_test_split\n",
    "from sktime.forecasting.base import ForecastingHorizon\n",
    "from xgboost import XGBRegressor\n",
    "from sktime.forecasting.compose import make_reduction\n",
    "from sktime.utils.plotting import plot_series\n",
    "import numpy as np\n",
    "import matplotlib.pyplot as plt\n",
    "\n",
    "# Lista de Seller IDs\n",
    "seller_ids = model_df['Seller ID'].unique()\n",
    "\n",
    "# Resultados para armazenar os erros por vendedor\n",
    "results = []\n",
    "\n",
    "for seller_id in seller_ids:\n",
    "    print(f\"Processando Seller ID: {seller_id}\")\n",
    "    \n",
    "    # Filtrar os dados para o Seller ID atual\n",
    "    time_serie = model_df[model_df['Seller ID'] == seller_id]\n",
    "    time_serie.drop(columns=['Seller ID', 'Day of Week', 'Last Week', 'Last Month'], inplace=True)\n",
    "    time_serie['Change'] = time_serie['Change'].astype('Int64')\n",
    "    \n",
    "    # Preparação da série temporal\n",
    "    time_serie.set_index('Date', inplace=True)\n",
    "    target = time_serie.pop('Transactioned')\n",
    "    y = pd.DataFrame(data=target, columns=['Transactioned'])\n",
    "    time_serie = time_serie.shift(1)\n",
    "    \n",
    "    # Remover valores após a data de previsão\n",
    "    date_to_pred = pd.to_datetime('2024-11-04')\n",
    "    time_serie = time_serie[time_serie.index < date_to_pred]\n",
    "    y = y[y.index < date_to_pred]\n",
    "    \n",
    "    # Dividir os dados em treino e teste\n",
    "    y_train, y_test, X_train, X_test = temporal_train_test_split(y, time_serie, test_size=20)\n",
    "    \n",
    "    # Configuração do Forecasting Horizon\n",
    "    fh = ForecastingHorizon(np.arange(1, len(y_test) + 2), is_relative=True)\n",
    "    \n",
    "    # Calculando scale_pos_weight\n",
    "    n_pos = len(y_train[y_train['Transactioned'] == 1])\n",
    "    n_neg = len(y_train[y_train['Transactioned'] == 0])\n",
    "    scale_pos_weight = n_neg / n_pos if n_pos > 0 else 1\n",
    "    \n",
    "    # Configurar o XGBRegressor\n",
    "    xgb_model = XGBRegressor(\n",
    "        n_estimators=100,\n",
    "        learning_rate=0.1,\n",
    "        max_depth=5,\n",
    "        subsample=0.8,\n",
    "        colsample_bytree=0.8,\n",
    "        random_state=42,\n",
    "        scale_pos_weight=scale_pos_weight\n",
    "    )\n",
    "    \n",
    "    # Criar e treinar o modelo\n",
    "    forecaster = make_reduction(xgb_model, window_length=12, strategy=\"recursive\")\n",
    "    forecaster.fit(y=y_train, X=X_train)\n",
    "    \n",
    "    # Previsão\n",
    "    y_pred = forecaster.predict(fh=fh, X=X_test)\n",
    "    y_pred_04 = y_pred.loc['2024-11-04']\n",
    "    \n",
    "    # Análise de erros\n",
    "    errors = abs(y_test['Transactioned'].values - y_pred_04.values)\n",
    "    mae = errors.mean()\n",
    "    print(f\"Erro Médio Absoluto (MAE) para Seller ID {seller_id}: {mae}\")\n",
    "    \n",
    "    # # Plot das séries\n",
    "    # plot_series(y_train, y_test, y_pred, labels=[\"y_train\", \"y_test\", \"y_pred\"])\n",
    "    # plt.title(f\"Previsão para Seller ID: {seller_id}\")\n",
    "    # plt.show()\n",
    "    \n",
    "    # Armazenar os resultados\n",
    "    results.append({\n",
    "        \"Seller ID\": seller_id,\n",
    "        \"Score\": y_pred_04,\n",
    "        \"MAE\": mae\n",
    "    })\n",
    "\n",
    "# Criar DataFrame com os resultados\n",
    "results_df = pd.DataFrame(results)\n",
    "results_df"
   ]
  },
  {
   "cell_type": "code",
   "execution_count": 155,
   "metadata": {},
   "outputs": [],
   "source": [
    "users_that_made_transaction_on_target_date = [\n",
    "    100000060,\n",
    "    100000141,\n",
    "    100000192,\n",
    "    100000310,\n",
    "    100000348,\n",
    "    100001098,\n",
    "    100001362,\n",
    "    100001525,\n",
    "    100002035,\n",
    "    100002271,\n",
    "    100002332,\n",
    "    100002339,\n",
    "    100002402,\n",
    "    100002426,\n",
    "]"
   ]
  },
  {
   "cell_type": "code",
   "execution_count": 159,
   "metadata": {},
   "outputs": [
    {
     "data": {
      "text/html": [
       "<div>\n",
       "<style scoped>\n",
       "    .dataframe tbody tr th:only-of-type {\n",
       "        vertical-align: middle;\n",
       "    }\n",
       "\n",
       "    .dataframe tbody tr th {\n",
       "        vertical-align: top;\n",
       "    }\n",
       "\n",
       "    .dataframe thead th {\n",
       "        text-align: right;\n",
       "    }\n",
       "</style>\n",
       "<table border=\"1\" class=\"dataframe\">\n",
       "  <thead>\n",
       "    <tr style=\"text-align: right;\">\n",
       "      <th></th>\n",
       "      <th>Seller ID</th>\n",
       "      <th>Score</th>\n",
       "      <th>MAE</th>\n",
       "    </tr>\n",
       "  </thead>\n",
       "  <tbody>\n",
       "    <tr>\n",
       "      <th>6</th>\n",
       "      <td>100000348</td>\n",
       "      <td>Transactioned   -0.041753\n",
       "Name: 2024-11-04 00:...</td>\n",
       "      <td>0.391753</td>\n",
       "    </tr>\n",
       "    <tr>\n",
       "      <th>2</th>\n",
       "      <td>100002035</td>\n",
       "      <td>Transactioned    0.022019\n",
       "Name: 2024-11-04 00:...</td>\n",
       "      <td>0.117615</td>\n",
       "    </tr>\n",
       "    <tr>\n",
       "      <th>7</th>\n",
       "      <td>100001098</td>\n",
       "      <td>Transactioned    0.013613\n",
       "Name: 2024-11-04 00:...</td>\n",
       "      <td>0.110891</td>\n",
       "    </tr>\n",
       "    <tr>\n",
       "      <th>1</th>\n",
       "      <td>100002332</td>\n",
       "      <td>Transactioned    0.0\n",
       "Name: 2024-11-04 00:00:00...</td>\n",
       "      <td>0.100000</td>\n",
       "    </tr>\n",
       "    <tr>\n",
       "      <th>5</th>\n",
       "      <td>100000310</td>\n",
       "      <td>Transactioned    0.080554\n",
       "Name: 2024-11-04 00:...</td>\n",
       "      <td>0.080554</td>\n",
       "    </tr>\n",
       "  </tbody>\n",
       "</table>\n",
       "</div>"
      ],
      "text/plain": [
       "   Seller ID                                              Score       MAE\n",
       "6  100000348  Transactioned   -0.041753\n",
       "Name: 2024-11-04 00:...  0.391753\n",
       "2  100002035  Transactioned    0.022019\n",
       "Name: 2024-11-04 00:...  0.117615\n",
       "7  100001098  Transactioned    0.013613\n",
       "Name: 2024-11-04 00:...  0.110891\n",
       "1  100002332  Transactioned    0.0\n",
       "Name: 2024-11-04 00:00:00...  0.100000\n",
       "5  100000310  Transactioned    0.080554\n",
       "Name: 2024-11-04 00:...  0.080554"
      ]
     },
     "execution_count": 159,
     "metadata": {},
     "output_type": "execute_result"
    }
   ],
   "source": [
    "first_200_predictions = results_df.sort_values(\n",
    "    ascending=False, by=\"MAE\"\n",
    ").head(200)\n",
    "\n",
    "\n",
    "first_200_predictions[\n",
    "    first_200_predictions[\"Seller ID\"].isin(users_that_made_transaction_on_target_date)\n",
    "]"
   ]
  }
 ],
 "metadata": {
  "kernelspec": {
   "display_name": "estudoenv",
   "language": "python",
   "name": "python3"
  },
  "language_info": {
   "codemirror_mode": {
    "name": "ipython",
    "version": 3
   },
   "file_extension": ".py",
   "mimetype": "text/x-python",
   "name": "python",
   "nbconvert_exporter": "python",
   "pygments_lexer": "ipython3",
   "version": "3.11.11"
  }
 },
 "nbformat": 4,
 "nbformat_minor": 2
}
