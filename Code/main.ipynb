{
 "cells": [
  {
   "cell_type": "markdown",
   "metadata": {},
   "source": [
    "# Desafio Grão Direto IA"
   ]
  },
  {
   "cell_type": "markdown",
   "metadata": {},
   "source": [
    "O problema do desafio é um problema de Séries Temporais."
   ]
  },
  {
   "cell_type": "markdown",
   "metadata": {},
   "source": [
    "## Etapas:"
   ]
  },
  {
   "cell_type": "markdown",
   "metadata": {},
   "source": [
    "1) Tratamento de Dados\n",
    "    - Receber os datasets\n",
    "    - Tratar valores nulos\n",
    "    - Tratar outlier\n",
    "2) Analise de Dados\n",
    "    - Dados importantes\n",
    "    - Manipular dados\n",
    "    - Conferir informações dos dados\n",
    "    - Insights que podemos ter visualizando os dados\n",
    "3) Feature store\n",
    "    - Criar features que vão impactar\n",
    "    - Manipular essas features\n",
    "    - Criar novas colunas se necessário\n",
    "    - O maximo de váriaveis\n",
    "4) Funil de váriaveis\n",
    "    - Afunilar as váriaveis criadas\n",
    "    - Identificar quais realmente são importantes\n",
    "    - Váriaveis que podem representar melhor que outras\n",
    "    - Dropar colunas que não ajudam(Então atrapalham)\n",
    "    - Dividir o dataset\n",
    "5) Aplicação de modelos de Machine Learning\n",
    "    - Identificar modelos bons para o caso\n",
    "    - Random Forest\n",
    "    - Xgboost\n",
    "    - Fazer testes com os dados manipulados"
   ]
  },
  {
   "cell_type": "markdown",
   "metadata": {},
   "source": [
    "## Etapas Mercado"
   ]
  },
  {
   "cell_type": "markdown",
   "metadata": {},
   "source": [
    "1) Remover colunas que não fazem sentido\n",
    "2) Tratar valores nulos\n",
    "3) Preencher Datas faltantes\n",
    "4) Filtrar dataset para a soja\n",
    "5) Tratar valor do CBOT e Price, diarios e assim unificar datas\n",
    "6) Preencher o intervalo de datas"
   ]
  },
  {
   "cell_type": "markdown",
   "metadata": {},
   "source": [
    "# Importando dados de Mercado do Desafio"
   ]
  },
  {
   "cell_type": "code",
   "execution_count": null,
   "metadata": {},
   "outputs": [],
   "source": [
    "import pandas as pd\n",
    "\n",
    "url = 'C:\\workspace\\Desafio Grão Direto IA\\Data\\mercado-desafio.xlsx'\n",
    "\n",
    "mercado = pd.read_excel(url)"
   ]
  },
  {
   "cell_type": "markdown",
   "metadata": {},
   "source": [
    "## Tratando dados"
   ]
  },
  {
   "cell_type": "code",
   "execution_count": null,
   "metadata": {},
   "outputs": [],
   "source": [
    "# mercado_dropna = mercado.dropna()\n",
    "# mercado_dropna.isnull().sum()\n",
    "mercado['Date'] = mercado['Date'].interpolate(method='linear')\n",
    "mercado.isnull().sum()"
   ]
  },
  {
   "cell_type": "markdown",
   "metadata": {},
   "source": [
    "Recebendo a data minima e maxima"
   ]
  },
  {
   "cell_type": "code",
   "execution_count": null,
   "metadata": {},
   "outputs": [],
   "source": [
    "data_max = mercado.max()['Date']\n",
    "data_max = str(data_max).replace(' 00:00:00','')\n",
    "data_min = mercado.min()['Date']\n",
    "data_min = str(data_min).replace(' 00:00:00','')\n",
    "data_min, data_max"
   ]
  },
  {
   "cell_type": "markdown",
   "metadata": {},
   "source": [
    "# Identificando outliers"
   ]
  },
  {
   "cell_type": "code",
   "execution_count": null,
   "metadata": {},
   "outputs": [],
   "source": [
    "milho = mercado[mercado['Product'] == 'Milho']\n",
    "soja = mercado[\n",
    "    (mercado['Product'] == 'Soja') &\n",
    "    (mercado['Origin_state'] == 'MG') &\n",
    "    (mercado['Origin_city'] == 'Araguari') &\n",
    "    (mercado['Destination_state'] == 'SP') &\n",
    "    (mercado['Destination_city'] == 'Santos') &\n",
    "    (mercado['Company'] == 'Polaris')\n",
    "]\n",
    "soja = soja.sort_values(by='Date', ascending=True)\n",
    "soja.plot(x='Date', y='Price', kind='line', title='Preço do Soja', xlabel='Data', ylabel='Preço')"
   ]
  },
  {
   "cell_type": "markdown",
   "metadata": {},
   "source": [
    "# Fazendo cotação do Dolár"
   ]
  },
  {
   "cell_type": "code",
   "execution_count": null,
   "metadata": {},
   "outputs": [],
   "source": [
    "import yfinance as yf\n",
    "\n",
    "dolar = yf.Ticker('USDBRL=X')\n",
    "dolar_hist = dolar.history(interval='1d', start=data_min, end='2024-11-06')\n",
    "dolar_hist"
   ]
  },
  {
   "cell_type": "markdown",
   "metadata": {},
   "source": [
    "## Manipulando o dolár"
   ]
  },
  {
   "cell_type": "code",
   "execution_count": null,
   "metadata": {},
   "outputs": [],
   "source": [
    "dolar_hist = pd.DataFrame(dolar_hist,columns=['Close']).reset_index()\n",
    "dolar_hist['Date'] = dolar_hist['Date'].dt.tz_localize(None)\n",
    "dolar_hist.info()"
   ]
  },
  {
   "cell_type": "markdown",
   "metadata": {},
   "source": [
    "Identificando se subiu ou não\n",
    "- 0 ou False = Não Subiu\n",
    "- 1 ou True = Subiu"
   ]
  },
  {
   "cell_type": "code",
   "execution_count": null,
   "metadata": {},
   "outputs": [],
   "source": [
    "dolar_hist['Variação'] = dolar_hist['Close'].shift(1) < dolar_hist['Close']\n",
    "dolar_hist"
   ]
  },
  {
   "cell_type": "code",
   "execution_count": null,
   "metadata": {},
   "outputs": [],
   "source": [
    "mercado = mercado.sort_values(by='Date', ascending=True)\n",
    "dolar_hist['Variação Percentual'] = ((dolar_hist['Close'] - dolar_hist['Close'].shift(1)) / dolar_hist['Close']) * 100\n",
    "dolar_hist = dolar_hist.fillna(0)\n",
    "dolar_hist"
   ]
  },
  {
   "cell_type": "markdown",
   "metadata": {},
   "source": [
    "# Após arrumar as datas"
   ]
  },
  {
   "cell_type": "code",
   "execution_count": null,
   "metadata": {},
   "outputs": [],
   "source": [
    "mercado_dolar_dados = pd.merge(mercado, dolar_hist, on='Date', how='left')\n",
    "mercado_dolar_dados\n",
    "# mdd = mercado[['Date']]\n",
    "# mdd_unique = mdd.drop_duplicates(subset=['Date'])\n",
    "# mdd_unique\n",
    "# datas_diferentes = set(dolar_hist['Date']).difference(set(mdd_unique['Date']))\n",
    "# datas_diferentes\n",
    "# 201 rows dolar_hist"
   ]
  },
  {
   "cell_type": "markdown",
   "metadata": {},
   "source": [
    "## Colunas categoricas:\n",
    "- Company\n",
    "- Origin_city\n",
    "- Origin_state\n",
    "- Destination_city\n",
    "- Destination_state\n",
    "- Product"
   ]
  },
  {
   "cell_type": "markdown",
   "metadata": {},
   "source": [
    "Utilizando onehotencoding ele produziria muitas colunas. \n",
    "- 650 colunas e demorou 6 minutos"
   ]
  },
  {
   "cell_type": "code",
   "execution_count": 11,
   "metadata": {},
   "outputs": [],
   "source": [
    "from feature_engine import encoding\n",
    "\n",
    "categoricas = ['Company','Origin_city','Origin_state','Destination_city','Destination_state','Product']\n",
    "\n",
    "# onehot = encoding.OneHotEncoder(variables=categoricas)\n",
    "# onehot.fit(mercado_dolar_dados)\n",
    "# mercado_dolar_dados = onehot.transform(mercado_dolar_dados)\n",
    "# mercado_dolar_dados"
   ]
  },
  {
   "cell_type": "markdown",
   "metadata": {},
   "source": [
    "## Soluções\n",
    "- Podemos utilizar o onehotencoding somente para as colunas mais importantes\n",
    "- Podemos utilizar o Labelencoder para separar os valores em colunas mais resumidas\n",
    "- Podemos utilizar o meanencoder para criar colunas com medias dos valores"
   ]
  }
 ],
 "metadata": {
  "kernelspec": {
   "display_name": "estudoenv",
   "language": "python",
   "name": "python3"
  },
  "language_info": {
   "codemirror_mode": {
    "name": "ipython",
    "version": 3
   },
   "file_extension": ".py",
   "mimetype": "text/x-python",
   "name": "python",
   "nbconvert_exporter": "python",
   "pygments_lexer": "ipython3",
   "version": "3.11.11"
  }
 },
 "nbformat": 4,
 "nbformat_minor": 2
}
