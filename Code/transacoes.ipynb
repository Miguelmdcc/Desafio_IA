{
 "cells": [
  {
   "cell_type": "markdown",
   "metadata": {},
   "source": [
    "# Tratando dados de transações"
   ]
  },
  {
   "cell_type": "markdown",
   "metadata": {},
   "source": [
    "## Assistir course de time series do kaggle"
   ]
  },
  {
   "cell_type": "markdown",
   "metadata": {},
   "source": [
    "## Etapas"
   ]
  },
  {
   "cell_type": "markdown",
   "metadata": {},
   "source": [
    "- Ler os dados\n",
    "- Analise dos dados\n",
    "- Remover colunas menos importantes, filtrar soja\n",
    "- Verificar e tratar valores nulos\n",
    "- Verificar e tratar outliers\n",
    "- Relação de data e seller id\n",
    "- Tratamento para unificar data e criar features unificadas\n",
    "- Separar por seller id\n",
    "- Expandir datas\n",
    "- Tratamento de valores nulos\n",
    "- Criar features com os dados do seller id"
   ]
  },
  {
   "cell_type": "markdown",
   "metadata": {},
   "source": [
    "## Features interessantes para o seller id"
   ]
  },
  {
   "cell_type": "markdown",
   "metadata": {},
   "source": [
    "Features que já possuimos:\n",
    "- Data\n",
    "- Price por data\n",
    "- Amount por data\n",
    "Features que iremos criar:\n",
    "- Preço medio diario\n",
    "- Quantidade media diaria\n",
    "- Maior preço vendido\n",
    "- Menor preço vendido\n",
    "- Maior quantidade vendida\n",
    "- Menor quantidade vendida\n",
    "- Quantidade de transações por dia\n",
    "- Se a quantidade do menor valor é maior que a quantidade do maior valor(Se vendeu mais com preço menor)\n",
    "- Dia da semana\n",
    "- Se transacionou ou não(0 ou 1)"
   ]
  },
  {
   "cell_type": "markdown",
   "metadata": {},
   "source": [
    "## Lendo dados"
   ]
  },
  {
   "cell_type": "code",
   "execution_count": 2,
   "metadata": {},
   "outputs": [],
   "source": [
    "import pandas as pd"
   ]
  },
  {
   "cell_type": "code",
   "execution_count": 3,
   "metadata": {},
   "outputs": [
    {
     "data": {
      "text/html": [
       "<div>\n",
       "<style scoped>\n",
       "    .dataframe tbody tr th:only-of-type {\n",
       "        vertical-align: middle;\n",
       "    }\n",
       "\n",
       "    .dataframe tbody tr th {\n",
       "        vertical-align: top;\n",
       "    }\n",
       "\n",
       "    .dataframe thead th {\n",
       "        text-align: right;\n",
       "    }\n",
       "</style>\n",
       "<table border=\"1\" class=\"dataframe\">\n",
       "  <thead>\n",
       "    <tr style=\"text-align: right;\">\n",
       "      <th></th>\n",
       "      <th>Date</th>\n",
       "      <th>Time</th>\n",
       "      <th>Company</th>\n",
       "      <th>Seller ID</th>\n",
       "      <th>Buyer ID</th>\n",
       "      <th>Price</th>\n",
       "      <th>Amount</th>\n",
       "      <th>Product</th>\n",
       "      <th>origin_city</th>\n",
       "      <th>origin_state</th>\n",
       "    </tr>\n",
       "  </thead>\n",
       "  <tbody>\n",
       "    <tr>\n",
       "      <th>0</th>\n",
       "      <td>2024-11-04</td>\n",
       "      <td>14:21:17</td>\n",
       "      <td>Polaris</td>\n",
       "      <td>100000060</td>\n",
       "      <td>200000027</td>\n",
       "      <td>124.447569</td>\n",
       "      <td>2290.909287</td>\n",
       "      <td>Soja</td>\n",
       "      <td>Porto Velho</td>\n",
       "      <td>RO</td>\n",
       "    </tr>\n",
       "    <tr>\n",
       "      <th>1</th>\n",
       "      <td>2024-11-04</td>\n",
       "      <td>12:11:56</td>\n",
       "      <td>Polaris</td>\n",
       "      <td>100002271</td>\n",
       "      <td>200000180</td>\n",
       "      <td>119.524125</td>\n",
       "      <td>2092.071936</td>\n",
       "      <td>Soja</td>\n",
       "      <td>Uberlândia</td>\n",
       "      <td>MG</td>\n",
       "    </tr>\n",
       "    <tr>\n",
       "      <th>2</th>\n",
       "      <td>2024-11-04</td>\n",
       "      <td>12:20:33</td>\n",
       "      <td>Polaris</td>\n",
       "      <td>100002332</td>\n",
       "      <td>200000199</td>\n",
       "      <td>121.641336</td>\n",
       "      <td>25427.175976</td>\n",
       "      <td>Soja</td>\n",
       "      <td>Terra Nova do Norte</td>\n",
       "      <td>MT</td>\n",
       "    </tr>\n",
       "    <tr>\n",
       "      <th>3</th>\n",
       "      <td>2024-11-04</td>\n",
       "      <td>11:32:09</td>\n",
       "      <td>Lunarix</td>\n",
       "      <td>100002035</td>\n",
       "      <td>200000020</td>\n",
       "      <td>119.025800</td>\n",
       "      <td>5074.951735</td>\n",
       "      <td>Soja</td>\n",
       "      <td>Barcarena</td>\n",
       "      <td>PA</td>\n",
       "    </tr>\n",
       "    <tr>\n",
       "      <th>4</th>\n",
       "      <td>2024-11-04</td>\n",
       "      <td>15:16:05</td>\n",
       "      <td>Polaris</td>\n",
       "      <td>100002339</td>\n",
       "      <td>200000208</td>\n",
       "      <td>114.041989</td>\n",
       "      <td>9691.241875</td>\n",
       "      <td>Soja</td>\n",
       "      <td>Tasso Fragoso</td>\n",
       "      <td>MA</td>\n",
       "    </tr>\n",
       "    <tr>\n",
       "      <th>...</th>\n",
       "      <td>...</td>\n",
       "      <td>...</td>\n",
       "      <td>...</td>\n",
       "      <td>...</td>\n",
       "      <td>...</td>\n",
       "      <td>...</td>\n",
       "      <td>...</td>\n",
       "      <td>...</td>\n",
       "      <td>...</td>\n",
       "      <td>...</td>\n",
       "    </tr>\n",
       "    <tr>\n",
       "      <th>9508</th>\n",
       "      <td>2024-01-03</td>\n",
       "      <td>12:15:56</td>\n",
       "      <td>Lunarix</td>\n",
       "      <td>100000094</td>\n",
       "      <td>200000011</td>\n",
       "      <td>107.246483</td>\n",
       "      <td>2009.361816</td>\n",
       "      <td>Soja</td>\n",
       "      <td>Porto Velho</td>\n",
       "      <td>RO</td>\n",
       "    </tr>\n",
       "    <tr>\n",
       "      <th>9509</th>\n",
       "      <td>2024-01-03</td>\n",
       "      <td>13:26:05</td>\n",
       "      <td>Lunarix</td>\n",
       "      <td>100000314</td>\n",
       "      <td>200000009</td>\n",
       "      <td>112.163921</td>\n",
       "      <td>962.326195</td>\n",
       "      <td>Soja</td>\n",
       "      <td>Boa Vista</td>\n",
       "      <td>RR</td>\n",
       "    </tr>\n",
       "    <tr>\n",
       "      <th>9510</th>\n",
       "      <td>2024-01-03</td>\n",
       "      <td>11:37:41</td>\n",
       "      <td>Polaris</td>\n",
       "      <td>100000865</td>\n",
       "      <td>200000027</td>\n",
       "      <td>137.791300</td>\n",
       "      <td>107351.263706</td>\n",
       "      <td>Soja</td>\n",
       "      <td>Rondonópolis</td>\n",
       "      <td>MT</td>\n",
       "    </tr>\n",
       "    <tr>\n",
       "      <th>9511</th>\n",
       "      <td>2024-01-03</td>\n",
       "      <td>14:24:58</td>\n",
       "      <td>Polaris</td>\n",
       "      <td>100000866</td>\n",
       "      <td>200000133</td>\n",
       "      <td>127.947271</td>\n",
       "      <td>1353.466033</td>\n",
       "      <td>Soja</td>\n",
       "      <td>Rondonópolis</td>\n",
       "      <td>MT</td>\n",
       "    </tr>\n",
       "    <tr>\n",
       "      <th>9512</th>\n",
       "      <td>2024-01-02</td>\n",
       "      <td>13:11:05</td>\n",
       "      <td>Polaris</td>\n",
       "      <td>100000864</td>\n",
       "      <td>200000001</td>\n",
       "      <td>135.227337</td>\n",
       "      <td>936.856515</td>\n",
       "      <td>Soja</td>\n",
       "      <td>Uberlândia</td>\n",
       "      <td>MG</td>\n",
       "    </tr>\n",
       "  </tbody>\n",
       "</table>\n",
       "<p>9513 rows × 10 columns</p>\n",
       "</div>"
      ],
      "text/plain": [
       "           Date      Time  Company  Seller ID   Buyer ID       Price  \\\n",
       "0    2024-11-04  14:21:17  Polaris  100000060  200000027  124.447569   \n",
       "1    2024-11-04  12:11:56  Polaris  100002271  200000180  119.524125   \n",
       "2    2024-11-04  12:20:33  Polaris  100002332  200000199  121.641336   \n",
       "3    2024-11-04  11:32:09  Lunarix  100002035  200000020  119.025800   \n",
       "4    2024-11-04  15:16:05  Polaris  100002339  200000208  114.041989   \n",
       "...         ...       ...      ...        ...        ...         ...   \n",
       "9508 2024-01-03  12:15:56  Lunarix  100000094  200000011  107.246483   \n",
       "9509 2024-01-03  13:26:05  Lunarix  100000314  200000009  112.163921   \n",
       "9510 2024-01-03  11:37:41  Polaris  100000865  200000027  137.791300   \n",
       "9511 2024-01-03  14:24:58  Polaris  100000866  200000133  127.947271   \n",
       "9512 2024-01-02  13:11:05  Polaris  100000864  200000001  135.227337   \n",
       "\n",
       "             Amount Product          origin_city origin_state  \n",
       "0       2290.909287    Soja          Porto Velho           RO  \n",
       "1       2092.071936    Soja           Uberlândia           MG  \n",
       "2      25427.175976    Soja  Terra Nova do Norte           MT  \n",
       "3       5074.951735    Soja            Barcarena           PA  \n",
       "4       9691.241875    Soja        Tasso Fragoso           MA  \n",
       "...             ...     ...                  ...          ...  \n",
       "9508    2009.361816    Soja          Porto Velho           RO  \n",
       "9509     962.326195    Soja            Boa Vista           RR  \n",
       "9510  107351.263706    Soja         Rondonópolis           MT  \n",
       "9511    1353.466033    Soja         Rondonópolis           MT  \n",
       "9512     936.856515    Soja           Uberlândia           MG  \n",
       "\n",
       "[9513 rows x 10 columns]"
      ]
     },
     "execution_count": 3,
     "metadata": {},
     "output_type": "execute_result"
    }
   ],
   "source": [
    "url = 'C:/workspace/Desafio Grão Direto IA/Data/transações-desafio.xlsx'\n",
    "\n",
    "transacoes = pd.read_excel(url)\n",
    "transacoes"
   ]
  },
  {
   "cell_type": "markdown",
   "metadata": {},
   "source": [
    "## Filtrando por soja"
   ]
  },
  {
   "cell_type": "code",
   "execution_count": 4,
   "metadata": {},
   "outputs": [],
   "source": [
    "transacoes_filtradas = transacoes[transacoes['Product'] == 'Soja']"
   ]
  },
  {
   "cell_type": "markdown",
   "metadata": {},
   "source": [
    "## Dropando colunas"
   ]
  },
  {
   "cell_type": "code",
   "execution_count": 5,
   "metadata": {},
   "outputs": [
    {
     "data": {
      "text/html": [
       "<div>\n",
       "<style scoped>\n",
       "    .dataframe tbody tr th:only-of-type {\n",
       "        vertical-align: middle;\n",
       "    }\n",
       "\n",
       "    .dataframe tbody tr th {\n",
       "        vertical-align: top;\n",
       "    }\n",
       "\n",
       "    .dataframe thead th {\n",
       "        text-align: right;\n",
       "    }\n",
       "</style>\n",
       "<table border=\"1\" class=\"dataframe\">\n",
       "  <thead>\n",
       "    <tr style=\"text-align: right;\">\n",
       "      <th></th>\n",
       "      <th>Date</th>\n",
       "      <th>Seller ID</th>\n",
       "      <th>Price</th>\n",
       "      <th>Amount</th>\n",
       "    </tr>\n",
       "  </thead>\n",
       "  <tbody>\n",
       "    <tr>\n",
       "      <th>0</th>\n",
       "      <td>2024-11-04</td>\n",
       "      <td>100000060</td>\n",
       "      <td>124.447569</td>\n",
       "      <td>2290.909287</td>\n",
       "    </tr>\n",
       "    <tr>\n",
       "      <th>1</th>\n",
       "      <td>2024-11-04</td>\n",
       "      <td>100002271</td>\n",
       "      <td>119.524125</td>\n",
       "      <td>2092.071936</td>\n",
       "    </tr>\n",
       "    <tr>\n",
       "      <th>2</th>\n",
       "      <td>2024-11-04</td>\n",
       "      <td>100002332</td>\n",
       "      <td>121.641336</td>\n",
       "      <td>25427.175976</td>\n",
       "    </tr>\n",
       "    <tr>\n",
       "      <th>3</th>\n",
       "      <td>2024-11-04</td>\n",
       "      <td>100002035</td>\n",
       "      <td>119.025800</td>\n",
       "      <td>5074.951735</td>\n",
       "    </tr>\n",
       "    <tr>\n",
       "      <th>4</th>\n",
       "      <td>2024-11-04</td>\n",
       "      <td>100002339</td>\n",
       "      <td>114.041989</td>\n",
       "      <td>9691.241875</td>\n",
       "    </tr>\n",
       "    <tr>\n",
       "      <th>...</th>\n",
       "      <td>...</td>\n",
       "      <td>...</td>\n",
       "      <td>...</td>\n",
       "      <td>...</td>\n",
       "    </tr>\n",
       "    <tr>\n",
       "      <th>9508</th>\n",
       "      <td>2024-01-03</td>\n",
       "      <td>100000094</td>\n",
       "      <td>107.246483</td>\n",
       "      <td>2009.361816</td>\n",
       "    </tr>\n",
       "    <tr>\n",
       "      <th>9509</th>\n",
       "      <td>2024-01-03</td>\n",
       "      <td>100000314</td>\n",
       "      <td>112.163921</td>\n",
       "      <td>962.326195</td>\n",
       "    </tr>\n",
       "    <tr>\n",
       "      <th>9510</th>\n",
       "      <td>2024-01-03</td>\n",
       "      <td>100000865</td>\n",
       "      <td>137.791300</td>\n",
       "      <td>107351.263706</td>\n",
       "    </tr>\n",
       "    <tr>\n",
       "      <th>9511</th>\n",
       "      <td>2024-01-03</td>\n",
       "      <td>100000866</td>\n",
       "      <td>127.947271</td>\n",
       "      <td>1353.466033</td>\n",
       "    </tr>\n",
       "    <tr>\n",
       "      <th>9512</th>\n",
       "      <td>2024-01-02</td>\n",
       "      <td>100000864</td>\n",
       "      <td>135.227337</td>\n",
       "      <td>936.856515</td>\n",
       "    </tr>\n",
       "  </tbody>\n",
       "</table>\n",
       "<p>8750 rows × 4 columns</p>\n",
       "</div>"
      ],
      "text/plain": [
       "           Date  Seller ID       Price         Amount\n",
       "0    2024-11-04  100000060  124.447569    2290.909287\n",
       "1    2024-11-04  100002271  119.524125    2092.071936\n",
       "2    2024-11-04  100002332  121.641336   25427.175976\n",
       "3    2024-11-04  100002035  119.025800    5074.951735\n",
       "4    2024-11-04  100002339  114.041989    9691.241875\n",
       "...         ...        ...         ...            ...\n",
       "9508 2024-01-03  100000094  107.246483    2009.361816\n",
       "9509 2024-01-03  100000314  112.163921     962.326195\n",
       "9510 2024-01-03  100000865  137.791300  107351.263706\n",
       "9511 2024-01-03  100000866  127.947271    1353.466033\n",
       "9512 2024-01-02  100000864  135.227337     936.856515\n",
       "\n",
       "[8750 rows x 4 columns]"
      ]
     },
     "execution_count": 5,
     "metadata": {},
     "output_type": "execute_result"
    }
   ],
   "source": [
    "transacoes_filtradas = transacoes_filtradas[['Date','Seller ID','Price','Amount']]\n",
    "transacoes_filtradas"
   ]
  },
  {
   "cell_type": "markdown",
   "metadata": {},
   "source": [
    "## Tratando valores nulos"
   ]
  },
  {
   "cell_type": "code",
   "execution_count": 6,
   "metadata": {},
   "outputs": [
    {
     "data": {
      "text/plain": [
       "Date         0\n",
       "Seller ID    0\n",
       "Price        0\n",
       "Amount       1\n",
       "dtype: int64"
      ]
     },
     "execution_count": 6,
     "metadata": {},
     "output_type": "execute_result"
    }
   ],
   "source": [
    "transacoes_filtradas.isnull().sum()"
   ]
  },
  {
   "cell_type": "code",
   "execution_count": 7,
   "metadata": {},
   "outputs": [
    {
     "data": {
      "text/plain": [
       "Date         0\n",
       "Seller ID    0\n",
       "Price        0\n",
       "Amount       0\n",
       "dtype: int64"
      ]
     },
     "execution_count": 7,
     "metadata": {},
     "output_type": "execute_result"
    }
   ],
   "source": [
    "transacoes_filtradas['Amount'] = transacoes_filtradas['Amount'].fillna(transacoes_filtradas['Amount'].median())\n",
    "transacoes_filtradas.isnull().sum()"
   ]
  },
  {
   "cell_type": "markdown",
   "metadata": {},
   "source": [
    "## Tratando outliers"
   ]
  },
  {
   "cell_type": "code",
   "execution_count": 8,
   "metadata": {},
   "outputs": [],
   "source": [
    "import seaborn as sns"
   ]
  },
  {
   "cell_type": "code",
   "execution_count": 10,
   "metadata": {},
   "outputs": [
    {
     "data": {
      "text/plain": [
       "<Axes: ylabel='Price'>"
      ]
     },
     "execution_count": 10,
     "metadata": {},
     "output_type": "execute_result"
    },
    {
     "data": {
      "image/png": "[encoded data removed]",
      "text/plain": [
       "<Figure size 640x480 with 1 Axes>"
      ]
     },
     "metadata": {},
     "output_type": "display_data"
    }
   ],
   "source": [
    "sns.boxplot(data=transacoes_filtradas,y=transacoes_filtradas['Price'])"
   ]
  },
  {
   "cell_type": "markdown",
   "metadata": {},
   "source": [
    "# Separando por seller id"
   ]
  },
  {
   "cell_type": "markdown",
   "metadata": {},
   "source": []
  }
 ],
 "metadata": {
  "kernelspec": {
   "display_name": "estudoenv",
   "language": "python",
   "name": "python3"
  },
  "language_info": {
   "codemirror_mode": {
    "name": "ipython",
    "version": 3
   },
   "file_extension": ".py",
   "mimetype": "text/x-python",
   "name": "python",
   "nbconvert_exporter": "python",
   "pygments_lexer": "ipython3",
   "version": "3.11.11"
  }
 },
 "nbformat": 4,
 "nbformat_minor": 2
}
